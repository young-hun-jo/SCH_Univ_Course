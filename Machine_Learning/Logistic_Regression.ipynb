{
 "cells": [
  {
   "cell_type": "code",
   "execution_count": 1,
   "metadata": {},
   "outputs": [],
   "source": [
    "import numpy as np\n",
    "import pandas as pd"
   ]
  },
  {
   "cell_type": "code",
   "execution_count": 26,
   "metadata": {},
   "outputs": [
    {
     "data": {
      "text/html": [
       "<div>\n",
       "<style scoped>\n",
       "    .dataframe tbody tr th:only-of-type {\n",
       "        vertical-align: middle;\n",
       "    }\n",
       "\n",
       "    .dataframe tbody tr th {\n",
       "        vertical-align: top;\n",
       "    }\n",
       "\n",
       "    .dataframe thead th {\n",
       "        text-align: right;\n",
       "    }\n",
       "</style>\n",
       "<table border=\"1\" class=\"dataframe\">\n",
       "  <thead>\n",
       "    <tr style=\"text-align: right;\">\n",
       "      <th></th>\n",
       "      <th>name</th>\n",
       "      <th>height</th>\n",
       "      <th>gender</th>\n",
       "    </tr>\n",
       "  </thead>\n",
       "  <tbody>\n",
       "    <tr>\n",
       "      <th>0</th>\n",
       "      <td>kevin</td>\n",
       "      <td>178.2</td>\n",
       "      <td>male</td>\n",
       "    </tr>\n",
       "    <tr>\n",
       "      <th>1</th>\n",
       "      <td>sally</td>\n",
       "      <td>162.9</td>\n",
       "      <td>female</td>\n",
       "    </tr>\n",
       "    <tr>\n",
       "      <th>2</th>\n",
       "      <td>hoyeon</td>\n",
       "      <td>160.6</td>\n",
       "      <td>female</td>\n",
       "    </tr>\n",
       "    <tr>\n",
       "      <th>3</th>\n",
       "      <td>lux</td>\n",
       "      <td>156.2</td>\n",
       "      <td>None</td>\n",
       "    </tr>\n",
       "  </tbody>\n",
       "</table>\n",
       "</div>"
      ],
      "text/plain": [
       "     name  height  gender\n",
       "0   kevin   178.2    male\n",
       "1   sally   162.9  female\n",
       "2  hoyeon   160.6  female\n",
       "3     lux   156.2    None"
      ]
     },
     "execution_count": 26,
     "metadata": {},
     "output_type": "execute_result"
    }
   ],
   "source": [
    "# dict형의 key는 칼럼 value의 리스트가 행의 값들\n",
    "raw_data = {'name': ['kevin','sally','hoyeon','lux'],\n",
    "           'height':[178.2, 162.9, 160.6, 156.2],\n",
    "           'gender':['male','female','female',None]}\n",
    "pd_data = pd.DataFrame(raw_data)\n",
    "pd_data.head()"
   ]
  },
  {
   "cell_type": "code",
   "execution_count": 27,
   "metadata": {},
   "outputs": [
    {
     "data": {
      "text/html": [
       "<div>\n",
       "<style scoped>\n",
       "    .dataframe tbody tr th:only-of-type {\n",
       "        vertical-align: middle;\n",
       "    }\n",
       "\n",
       "    .dataframe tbody tr th {\n",
       "        vertical-align: top;\n",
       "    }\n",
       "\n",
       "    .dataframe thead th {\n",
       "        text-align: right;\n",
       "    }\n",
       "</style>\n",
       "<table border=\"1\" class=\"dataframe\">\n",
       "  <thead>\n",
       "    <tr style=\"text-align: right;\">\n",
       "      <th></th>\n",
       "      <th>height</th>\n",
       "      <th>gender</th>\n",
       "    </tr>\n",
       "  </thead>\n",
       "  <tbody>\n",
       "    <tr>\n",
       "      <th>0</th>\n",
       "      <td>178.2</td>\n",
       "      <td>male</td>\n",
       "    </tr>\n",
       "    <tr>\n",
       "      <th>1</th>\n",
       "      <td>162.9</td>\n",
       "      <td>female</td>\n",
       "    </tr>\n",
       "    <tr>\n",
       "      <th>2</th>\n",
       "      <td>160.6</td>\n",
       "      <td>female</td>\n",
       "    </tr>\n",
       "  </tbody>\n",
       "</table>\n",
       "</div>"
      ],
      "text/plain": [
       "   height  gender\n",
       "0   178.2    male\n",
       "1   162.9  female\n",
       "2   160.6  female"
      ]
     },
     "execution_count": 27,
     "metadata": {},
     "output_type": "execute_result"
    }
   ],
   "source": [
    "# 결측치 전처리\n",
    "\n",
    "# df.dropna() 사용\n",
    "filtered_data = pd_data.dropna()\n",
    "filtered_data.head()\n",
    "\n",
    "# del(df['칼럼']) 사용\n",
    "del(filtered_data['name'])\n",
    "filtered_data.head()\n"
   ]
  },
  {
   "cell_type": "code",
   "execution_count": 28,
   "metadata": {},
   "outputs": [
    {
     "name": "stdout",
     "output_type": "stream",
     "text": [
      "161.75 178.2\n"
     ]
    }
   ],
   "source": [
    "# 리스트 자료 + 해서 이어붙일 수 있음\n",
    "# 데이터프레임 .append하면 rbind처럼 행으로 붙일 수 있음\n",
    "\n",
    "# 무작위로 데이터 생성하기 위해 성별 키 평균값 출력\n",
    "female_mean = np.average(filtered_data[filtered_data['gender'] == 'female']['height'].values)\n",
    "male_mean = np.average(filtered_data[filtered_data['gender'] == 'male']['height'].values)\n",
    "print(female_mean, male_mean)"
   ]
  },
  {
   "cell_type": "code",
   "execution_count": 29,
   "metadata": {},
   "outputs": [
    {
     "name": "stdout",
     "output_type": "stream",
     "text": [
      "[167.04215704 162.95047163 164.68621395 168.4726796  167.35267397\n",
      " 158.81816636 164.60026525 161.29592838 161.44034344 162.98179551]\n"
     ]
    }
   ],
   "source": [
    "#난수 생성을 위한 시드(seed)설정. 인자로는 0과 같거나 큰 정수를 넣어줌\n",
    "np.random.seed(0)\n",
    "\n",
    "variance = 3\n",
    "female_heights = variance * np.random.randn(200) + female_mean\n",
    "male_heights = variance * np.random.randn(200) + male_mean\n",
    "\n",
    "# 만든 array의 1~10번째까지 보기\n",
    "print(female_heights[:10])"
   ]
  },
  {
   "cell_type": "code",
   "execution_count": 30,
   "metadata": {},
   "outputs": [],
   "source": [
    "#np.random.randn(200)"
   ]
  },
  {
   "cell_type": "code",
   "execution_count": 31,
   "metadata": {},
   "outputs": [
    {
     "data": {
      "text/html": [
       "<div>\n",
       "<style scoped>\n",
       "    .dataframe tbody tr th:only-of-type {\n",
       "        vertical-align: middle;\n",
       "    }\n",
       "\n",
       "    .dataframe tbody tr th {\n",
       "        vertical-align: top;\n",
       "    }\n",
       "\n",
       "    .dataframe thead th {\n",
       "        text-align: right;\n",
       "    }\n",
       "</style>\n",
       "<table border=\"1\" class=\"dataframe\">\n",
       "  <thead>\n",
       "    <tr style=\"text-align: right;\">\n",
       "      <th></th>\n",
       "      <th>height</th>\n",
       "      <th>gender</th>\n",
       "    </tr>\n",
       "  </thead>\n",
       "  <tbody>\n",
       "    <tr>\n",
       "      <th>0</th>\n",
       "      <td>178.200000</td>\n",
       "      <td>male</td>\n",
       "    </tr>\n",
       "    <tr>\n",
       "      <th>1</th>\n",
       "      <td>162.900000</td>\n",
       "      <td>female</td>\n",
       "    </tr>\n",
       "    <tr>\n",
       "      <th>2</th>\n",
       "      <td>160.600000</td>\n",
       "      <td>female</td>\n",
       "    </tr>\n",
       "    <tr>\n",
       "      <th>3</th>\n",
       "      <td>167.042157</td>\n",
       "      <td>female</td>\n",
       "    </tr>\n",
       "    <tr>\n",
       "      <th>4</th>\n",
       "      <td>162.950472</td>\n",
       "      <td>female</td>\n",
       "    </tr>\n",
       "  </tbody>\n",
       "</table>\n",
       "</div>"
      ],
      "text/plain": [
       "       height  gender\n",
       "0  178.200000    male\n",
       "1  162.900000  female\n",
       "2  160.600000  female\n",
       "3  167.042157  female\n",
       "4  162.950472  female"
      ]
     },
     "execution_count": 31,
     "metadata": {},
     "output_type": "execute_result"
    }
   ],
   "source": [
    "# 난수로 생성한 데이터 dict형태로 만들기\n",
    "generated_data = {'gender':['female'] * 200 + ['male'] * 200, 'height': list(female_heights)+list(male_heights)}\n",
    "\n",
    "# dict형태를 데이터프레임화시킨후 기존 데이터프레임에 append하기\n",
    "# ignore_index=False : 인덱스 레이블을 사용하지 않겠다라는 뜻\n",
    "filtered_data = filtered_data.append(pd.DataFrame(generated_data), ignore_index=True, sort=False)\n",
    "filtered_data.head()"
   ]
  },
  {
   "cell_type": "code",
   "execution_count": 32,
   "metadata": {},
   "outputs": [
    {
     "data": {
      "text/plain": [
       "(403, 2)"
      ]
     },
     "execution_count": 32,
     "metadata": {},
     "output_type": "execute_result"
    }
   ],
   "source": [
    "filtered_data.shape"
   ]
  },
  {
   "cell_type": "code",
   "execution_count": 33,
   "metadata": {},
   "outputs": [
    {
     "data": {
      "text/html": [
       "<div>\n",
       "<style scoped>\n",
       "    .dataframe tbody tr th:only-of-type {\n",
       "        vertical-align: middle;\n",
       "    }\n",
       "\n",
       "    .dataframe tbody tr th {\n",
       "        vertical-align: top;\n",
       "    }\n",
       "\n",
       "    .dataframe thead th {\n",
       "        text-align: right;\n",
       "    }\n",
       "</style>\n",
       "<table border=\"1\" class=\"dataframe\">\n",
       "  <thead>\n",
       "    <tr style=\"text-align: right;\">\n",
       "      <th></th>\n",
       "      <th>height</th>\n",
       "      <th>gender</th>\n",
       "    </tr>\n",
       "  </thead>\n",
       "  <tbody>\n",
       "    <tr>\n",
       "      <th>398</th>\n",
       "      <td>175.915523</td>\n",
       "      <td>1</td>\n",
       "    </tr>\n",
       "    <tr>\n",
       "      <th>399</th>\n",
       "      <td>180.773772</td>\n",
       "      <td>1</td>\n",
       "    </tr>\n",
       "    <tr>\n",
       "      <th>400</th>\n",
       "      <td>181.623306</td>\n",
       "      <td>1</td>\n",
       "    </tr>\n",
       "    <tr>\n",
       "      <th>401</th>\n",
       "      <td>182.599736</td>\n",
       "      <td>1</td>\n",
       "    </tr>\n",
       "    <tr>\n",
       "      <th>402</th>\n",
       "      <td>180.757656</td>\n",
       "      <td>1</td>\n",
       "    </tr>\n",
       "  </tbody>\n",
       "</table>\n",
       "</div>"
      ],
      "text/plain": [
       "         height  gender\n",
       "398  175.915523       1\n",
       "399  180.773772       1\n",
       "400  181.623306       1\n",
       "401  182.599736       1\n",
       "402  180.757656       1"
      ]
     },
     "execution_count": 33,
     "metadata": {},
     "output_type": "execute_result"
    }
   ],
   "source": [
    "# 성별을 0,1 값으로 바꿔주기\n",
    "from sklearn import preprocessing\n",
    "\n",
    "le_gender = preprocessing.LabelEncoder()\n",
    "final_data = filtered_data.copy()\n",
    "final_data['gender'] = le_gender.fit_transform(filtered_data['gender'])\n",
    "\n",
    "final_data.tail()"
   ]
  },
  {
   "cell_type": "code",
   "execution_count": 60,
   "metadata": {
    "scrolled": true
   },
   "outputs": [
    {
     "name": "stdout",
     "output_type": "stream",
     "text": [
      "Fold 횟수 : 1\n",
      "Fold 횟수 : 2\n",
      "Fold 횟수 : 3\n",
      "Fold 횟수 : 4\n",
      "Fold 횟수 : 5\n",
      "0.8759028111912007\n"
     ]
    }
   ],
   "source": [
    "# 분류임에도 불구하고 linear Regression 써보기\n",
    "from sklearn.model_selection import KFold\n",
    "from sklearn.linear_model import LinearRegression\n",
    "\n",
    "#사용할 feature\n",
    "features = ['height']\n",
    "\n",
    "# k-fold cross validation\n",
    "# shuffle : 마구섞는다\n",
    "kf = KFold(n_splits=5, shuffle=True)\n",
    "\n",
    "# 모델 정확도 담을 리스트\n",
    "accrs = []\n",
    "# k-fold 몇번 했는지 출력하기 위한 idx\n",
    "fold_idx = 1\n",
    "\n",
    "# 만든 데이터에서 train / test 데이터를 k-fold이용해서 분할\n",
    "for train_idx, test_idx in kf.split(final_data):\n",
    "    print(f\"Fold 횟수 : {fold_idx}\")\n",
    "    # train, test 데이터 할당\n",
    "    # iloc[index번호] 의 해당 행만 갖고옴\n",
    "    train_d, test_d = final_data.iloc[train_idx], final_data.iloc[test_idx]\n",
    "    \n",
    "    # 예측값 설정\n",
    "    train_y = train_d['gender']\n",
    "    # x값 설정\n",
    "    train_x = train_d[features]\n",
    "    \n",
    "    test_y = test_d['gender']\n",
    "    test_x = test_d[features]\n",
    "    \n",
    "    # 모델정의\n",
    "    model = LinearRegression()\n",
    "    # fit함수이용해 모델 학습\n",
    "    model.fit(train_x, train_y)\n",
    "    \n",
    "    # 정확도 score함수로 측정\n",
    "    mean_accr = model.score(test_x, test_y)\n",
    "    # k-fold 5번 측정한거 정확도 담는 리스트에 담기\n",
    "    accrs.append(mean_accr)\n",
    "    \n",
    "    # k-fold횟수 출력\n",
    "    fold_idx += 1\n",
    "\n",
    "# 5번 한 정확도 평균치 출력\n",
    "print(np.average(accrs))"
   ]
  },
  {
   "cell_type": "code",
   "execution_count": 63,
   "metadata": {},
   "outputs": [
    {
     "name": "stdout",
     "output_type": "stream",
     "text": [
      "Fold 횟수 : 1\n",
      "Fold 횟수 : 2\n",
      "Fold 횟수 : 3\n",
      "Fold 횟수 : 4\n",
      "Fold 횟수 : 5\n",
      "1.0\n"
     ]
    }
   ],
   "source": [
    "from sklearn.model_selection import KFold\n",
    "from sklearn.linear_model import LogisticRegression\n",
    "\n",
    "#사용할 feature\n",
    "features = ['height']\n",
    "\n",
    "# k-fold cross validation\n",
    "# shuffle : 마구섞는다\n",
    "kf = KFold(n_splits=5, shuffle=True)\n",
    "\n",
    "# 모델 정확도 담을 리스트\n",
    "accrs = []\n",
    "# k-fold 몇번 했는지 출력하기 위한 idx\n",
    "fold_idx = 1\n",
    "\n",
    "# 만든 데이터에서 train / test 데이터를 k-fold이용해서 분할\n",
    "for train_idx, test_idx in kf.split(final_data):\n",
    "    print(f\"Fold 횟수 : {fold_idx}\")\n",
    "    # train, test 데이터 할당\n",
    "    # iloc[index번호] 의 해당 행만 갖고옴\n",
    "    train_d, test_d = final_data.iloc[train_idx], final_data.iloc[test_idx]\n",
    "    \n",
    "    # 예측값 설정\n",
    "    train_y = train_d['gender']\n",
    "    # x값 설정\n",
    "    train_x = train_d[features]\n",
    "    \n",
    "    test_y = test_d['gender']\n",
    "    test_x = test_d[features]\n",
    "    \n",
    "    # 모델정의 - lbgfs = Limited-memory BFGS라는 최적화 알고리즘 사용해보기\n",
    "    model = LogisticRegression(solver='lbfgs')\n",
    "    # fit함수이용해 모델 학습\n",
    "    model.fit(train_x, train_y)\n",
    "    \n",
    "    # 정확도 score함수로 측정\n",
    "    mean_accr = model.score(test_x, test_y)\n",
    "    # k-fold 5번 측정한거 정확도 담는 리스트에 담기\n",
    "    accrs.append(mean_accr)\n",
    "    \n",
    "    # k-fold횟수 출력\n",
    "    fold_idx += 1\n",
    "\n",
    "# 5번 한 정확도 평균치 출력\n",
    "print(np.average(accrs))"
   ]
  },
  {
   "cell_type": "markdown",
   "metadata": {},
   "source": [
    "- 로지스틱이 분류가 아니라 리그레션 모델임에도 불구하고 분류에 많이 이용되는 이유는? \n",
    "    * 확률값(0~1사이값)으로 나오기 때문에\n",
    "    \n",
    "- 로지스틱에서 feature 정규화를 필요로하지 않는다. 이번 실습에선 정규화를 진행하지 않았는데도 좋게나왔다. 하지만 feature 정규화(normalization)이 필요할 때는 언제일까?\n",
    "    * Regularization(L2 norm, L1norm) 을 적용시에 필요\n",
    "    * 즉, Regularization이 필요할 때만 feature normalization필요!\n",
    "    * 예를들어, 각 데이터간에 feature값들간의 차이가 너무 크다면...!\n",
    "    \n",
    "- 결측지 대체 대안법\n",
    "    * 다른 데이터들의 평균값으로 추산\n",
    "    * matrix completion\n",
    "    * impute 알고리즘\n",
    "    \n",
    "- k-fold cross validation 자체가 k번하니까 한번만돌리면될까? \n",
    "    * 아니다. shuffle을 하게되면 매번 실험결과가 달라져서 k-fold 자체를 여러번해서 그것들의 평균값을 취해주는 것이 좋다\n",
    "\n",
    "- 기타 실험 성능 측정 지표\n",
    "    * 분류 : F1 score, recall 등등\n",
    "    * 회귀 : RMSE\n",
    "    \n",
    "**``feature normalization시 학습/테스트 데이터에 대해 구분해서 사용할 것!!!!`` 학습데이터에서 도출해서 feature normalization 할것!! 테스트데이터에서 나온 값을 쓰면 안됌!!** "
   ]
  },
  {
   "cell_type": "code",
   "execution_count": null,
   "metadata": {},
   "outputs": [],
   "source": []
  }
 ],
 "metadata": {
  "kernelspec": {
   "display_name": "Python 3",
   "language": "python",
   "name": "python3"
  },
  "language_info": {
   "codemirror_mode": {
    "name": "ipython",
    "version": 3
   },
   "file_extension": ".py",
   "mimetype": "text/x-python",
   "name": "python",
   "nbconvert_exporter": "python",
   "pygments_lexer": "ipython3",
   "version": "3.7.3"
  },
  "toc": {
   "base_numbering": 1,
   "nav_menu": {},
   "number_sections": true,
   "sideBar": true,
   "skip_h1_title": false,
   "title_cell": "Table of Contents",
   "title_sidebar": "Contents",
   "toc_cell": false,
   "toc_position": {},
   "toc_section_display": true,
   "toc_window_display": false
  },
  "varInspector": {
   "cols": {
    "lenName": 16,
    "lenType": 16,
    "lenVar": 40
   },
   "kernels_config": {
    "python": {
     "delete_cmd_postfix": "",
     "delete_cmd_prefix": "del ",
     "library": "var_list.py",
     "varRefreshCmd": "print(var_dic_list())"
    },
    "r": {
     "delete_cmd_postfix": ") ",
     "delete_cmd_prefix": "rm(",
     "library": "var_list.r",
     "varRefreshCmd": "cat(var_dic_list()) "
    }
   },
   "types_to_exclude": [
    "module",
    "function",
    "builtin_function_or_method",
    "instance",
    "_Feature"
   ],
   "window_display": false
  }
 },
 "nbformat": 4,
 "nbformat_minor": 4
}
