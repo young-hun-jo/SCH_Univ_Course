{
 "cells": [
  {
   "cell_type": "raw",
   "metadata": {},
   "source": [
    "library(igraph)"
   ]
  },
  {
   "cell_type": "code",
   "execution_count": 8,
   "metadata": {
    "scrolled": true
   },
   "outputs": [
    {
     "data": {
      "text/html": [
       "<table>\n",
       "<caption>A matrix: 20 × 3 of type dbl</caption>\n",
       "<tbody>\n",
       "\t<tr><td>1</td><td> 2</td><td>0</td></tr>\n",
       "\t<tr><td>1</td><td> 3</td><td>2</td></tr>\n",
       "\t<tr><td>1</td><td> 4</td><td>1</td></tr>\n",
       "\t<tr><td>2</td><td> 3</td><td>0</td></tr>\n",
       "\t<tr><td>2</td><td> 5</td><td>5</td></tr>\n",
       "\t<tr><td>2</td><td> 6</td><td>2</td></tr>\n",
       "\t<tr><td>3</td><td> 2</td><td>1</td></tr>\n",
       "\t<tr><td>3</td><td> 4</td><td>1</td></tr>\n",
       "\t<tr><td>3</td><td> 7</td><td>1</td></tr>\n",
       "\t<tr><td>4</td><td> 3</td><td>0</td></tr>\n",
       "\t<tr><td>4</td><td> 7</td><td>2</td></tr>\n",
       "\t<tr><td>5</td><td> 6</td><td>2</td></tr>\n",
       "\t<tr><td>5</td><td> 8</td><td>8</td></tr>\n",
       "\t<tr><td>6</td><td> 3</td><td>2</td></tr>\n",
       "\t<tr><td>6</td><td> 7</td><td>1</td></tr>\n",
       "\t<tr><td>6</td><td> 9</td><td>1</td></tr>\n",
       "\t<tr><td>6</td><td>10</td><td>3</td></tr>\n",
       "\t<tr><td>8</td><td> 6</td><td>1</td></tr>\n",
       "\t<tr><td>8</td><td> 9</td><td>1</td></tr>\n",
       "\t<tr><td>9</td><td>10</td><td>4</td></tr>\n",
       "</tbody>\n",
       "</table>\n"
      ],
      "text/latex": [
       "A matrix: 20 × 3 of type dbl\n",
       "\\begin{tabular}{lll}\n",
       "\t 1 &  2 & 0\\\\\n",
       "\t 1 &  3 & 2\\\\\n",
       "\t 1 &  4 & 1\\\\\n",
       "\t 2 &  3 & 0\\\\\n",
       "\t 2 &  5 & 5\\\\\n",
       "\t 2 &  6 & 2\\\\\n",
       "\t 3 &  2 & 1\\\\\n",
       "\t 3 &  4 & 1\\\\\n",
       "\t 3 &  7 & 1\\\\\n",
       "\t 4 &  3 & 0\\\\\n",
       "\t 4 &  7 & 2\\\\\n",
       "\t 5 &  6 & 2\\\\\n",
       "\t 5 &  8 & 8\\\\\n",
       "\t 6 &  3 & 2\\\\\n",
       "\t 6 &  7 & 1\\\\\n",
       "\t 6 &  9 & 1\\\\\n",
       "\t 6 & 10 & 3\\\\\n",
       "\t 8 &  6 & 1\\\\\n",
       "\t 8 &  9 & 1\\\\\n",
       "\t 9 & 10 & 4\\\\\n",
       "\\end{tabular}\n"
      ],
      "text/markdown": [
       "\n",
       "A matrix: 20 × 3 of type dbl\n",
       "\n",
       "| 1 |  2 | 0 |\n",
       "| 1 |  3 | 2 |\n",
       "| 1 |  4 | 1 |\n",
       "| 2 |  3 | 0 |\n",
       "| 2 |  5 | 5 |\n",
       "| 2 |  6 | 2 |\n",
       "| 3 |  2 | 1 |\n",
       "| 3 |  4 | 1 |\n",
       "| 3 |  7 | 1 |\n",
       "| 4 |  3 | 0 |\n",
       "| 4 |  7 | 2 |\n",
       "| 5 |  6 | 2 |\n",
       "| 5 |  8 | 8 |\n",
       "| 6 |  3 | 2 |\n",
       "| 6 |  7 | 1 |\n",
       "| 6 |  9 | 1 |\n",
       "| 6 | 10 | 3 |\n",
       "| 8 |  6 | 1 |\n",
       "| 8 |  9 | 1 |\n",
       "| 9 | 10 | 4 |\n",
       "\n"
      ],
      "text/plain": [
       "      [,1] [,2] [,3]\n",
       " [1,] 1     2   0   \n",
       " [2,] 1     3   2   \n",
       " [3,] 1     4   1   \n",
       " [4,] 2     3   0   \n",
       " [5,] 2     5   5   \n",
       " [6,] 2     6   2   \n",
       " [7,] 3     2   1   \n",
       " [8,] 3     4   1   \n",
       " [9,] 3     7   1   \n",
       "[10,] 4     3   0   \n",
       "[11,] 4     7   2   \n",
       "[12,] 5     6   2   \n",
       "[13,] 5     8   8   \n",
       "[14,] 6     3   2   \n",
       "[15,] 6     7   1   \n",
       "[16,] 6     9   1   \n",
       "[17,] 6    10   3   \n",
       "[18,] 8     6   1   \n",
       "[19,] 8     9   1   \n",
       "[20,] 9    10   4   "
      ]
     },
     "metadata": {},
     "output_type": "display_data"
    }
   ],
   "source": [
    "el<-matrix(nc=3, byrow=TRUE,\n",
    "           c(1,2,0, 1,3,2, 1,4,1, 2,3,0, 2,5,5, 2,6,2, 3,2,1,\n",
    "            3,4,1, 3,7,1, 4,3,0, 4,7,2, 5,6,2, 5,8,8, 6,3,2,\n",
    "            6,7,1, 6,9,1, 6,10,3, 8,6,1, 8,9,1, 9,10,4))\n",
    "el"
   ]
  },
  {
   "cell_type": "code",
   "execution_count": 10,
   "metadata": {},
   "outputs": [
    {
     "data": {
      "text/html": [
       "<table>\n",
       "<caption>A matrix: 2 × 20 of type dbl</caption>\n",
       "<tbody>\n",
       "\t<tr><td>1</td><td>1</td><td>1</td><td>2</td><td>2</td><td>2</td><td>3</td><td>3</td><td>3</td><td>4</td><td>4</td><td>5</td><td>5</td><td>6</td><td>6</td><td>6</td><td> 6</td><td>8</td><td>8</td><td> 9</td></tr>\n",
       "\t<tr><td>2</td><td>3</td><td>4</td><td>3</td><td>5</td><td>6</td><td>2</td><td>4</td><td>7</td><td>3</td><td>7</td><td>6</td><td>8</td><td>3</td><td>7</td><td>9</td><td>10</td><td>6</td><td>9</td><td>10</td></tr>\n",
       "</tbody>\n",
       "</table>\n"
      ],
      "text/latex": [
       "A matrix: 2 × 20 of type dbl\n",
       "\\begin{tabular}{llllllllllllllllllll}\n",
       "\t 1 & 1 & 1 & 2 & 2 & 2 & 3 & 3 & 3 & 4 & 4 & 5 & 5 & 6 & 6 & 6 &  6 & 8 & 8 &  9\\\\\n",
       "\t 2 & 3 & 4 & 3 & 5 & 6 & 2 & 4 & 7 & 3 & 7 & 6 & 8 & 3 & 7 & 9 & 10 & 6 & 9 & 10\\\\\n",
       "\\end{tabular}\n"
      ],
      "text/markdown": [
       "\n",
       "A matrix: 2 × 20 of type dbl\n",
       "\n",
       "| 1 | 1 | 1 | 2 | 2 | 2 | 3 | 3 | 3 | 4 | 4 | 5 | 5 | 6 | 6 | 6 |  6 | 8 | 8 |  9 |\n",
       "| 2 | 3 | 4 | 3 | 5 | 6 | 2 | 4 | 7 | 3 | 7 | 6 | 8 | 3 | 7 | 9 | 10 | 6 | 9 | 10 |\n",
       "\n"
      ],
      "text/plain": [
       "     [,1] [,2] [,3] [,4] [,5] [,6] [,7] [,8] [,9] [,10] [,11] [,12] [,13] [,14]\n",
       "[1,] 1    1    1    2    2    2    3    3    3    4     4     5     5     6    \n",
       "[2,] 2    3    4    3    5    6    2    4    7    3     7     6     8     3    \n",
       "     [,15] [,16] [,17] [,18] [,19] [,20]\n",
       "[1,] 6     6      6    8     8      9   \n",
       "[2,] 7     9     10    6     9     10   "
      ]
     },
     "metadata": {},
     "output_type": "display_data"
    }
   ],
   "source": [
    "# 1~2번째 열을 행으로 Transpose해라\n",
    "t(el[,1:2])"
   ]
  },
  {
   "cell_type": "code",
   "execution_count": 13,
   "metadata": {},
   "outputs": [
    {
     "data": {
      "image/png": "[encoded data removed]",
      "text/plain": [
       "Plot with title \"\""
      ]
     },
     "metadata": {
      "image/png": {
       "height": 420,
       "width": 420
      }
     },
     "output_type": "display_data"
    }
   ],
   "source": [
    "# edge의 가중치를 el행렬의 3번째 열의 값으로 설정\n",
    "g2<-add_edges(make_empty_graph(10), t(el[,1:2]), weight=el[,3])\n",
    "plot(g2)"
   ]
  },
  {
   "cell_type": "code",
   "execution_count": 16,
   "metadata": {},
   "outputs": [
    {
     "data": {
      "text/html": [
       "<table>\n",
       "<caption>A matrix: 10 × 10 of type dbl</caption>\n",
       "<tbody>\n",
       "\t<tr><td>  0</td><td>  0</td><td>  0</td><td>  1</td><td>  5</td><td>  2</td><td>  1</td><td> 13</td><td>  3</td><td>  5</td></tr>\n",
       "\t<tr><td>Inf</td><td>  0</td><td>  0</td><td>  1</td><td>  5</td><td>  2</td><td>  1</td><td> 13</td><td>  3</td><td>  5</td></tr>\n",
       "\t<tr><td>Inf</td><td>  1</td><td>  0</td><td>  1</td><td>  6</td><td>  3</td><td>  1</td><td> 14</td><td>  4</td><td>  6</td></tr>\n",
       "\t<tr><td>Inf</td><td>  1</td><td>  0</td><td>  0</td><td>  6</td><td>  3</td><td>  1</td><td> 14</td><td>  4</td><td>  6</td></tr>\n",
       "\t<tr><td>Inf</td><td>  5</td><td>  4</td><td>  5</td><td>  0</td><td>  2</td><td>  3</td><td>  8</td><td>  3</td><td>  5</td></tr>\n",
       "\t<tr><td>Inf</td><td>  3</td><td>  2</td><td>  3</td><td>  8</td><td>  0</td><td>  1</td><td> 16</td><td>  1</td><td>  3</td></tr>\n",
       "\t<tr><td>Inf</td><td>Inf</td><td>Inf</td><td>Inf</td><td>Inf</td><td>Inf</td><td>  0</td><td>Inf</td><td>Inf</td><td>Inf</td></tr>\n",
       "\t<tr><td>Inf</td><td>  4</td><td>  3</td><td>  4</td><td>  9</td><td>  1</td><td>  2</td><td>  0</td><td>  1</td><td>  4</td></tr>\n",
       "\t<tr><td>Inf</td><td>Inf</td><td>Inf</td><td>Inf</td><td>Inf</td><td>Inf</td><td>Inf</td><td>Inf</td><td>  0</td><td>  4</td></tr>\n",
       "\t<tr><td>Inf</td><td>Inf</td><td>Inf</td><td>Inf</td><td>Inf</td><td>Inf</td><td>Inf</td><td>Inf</td><td>Inf</td><td>  0</td></tr>\n",
       "</tbody>\n",
       "</table>\n"
      ],
      "text/latex": [
       "A matrix: 10 × 10 of type dbl\n",
       "\\begin{tabular}{llllllllll}\n",
       "\t   0 &   0 &   0 &   1 &   5 &   2 &   1 &  13 &   3 &   5\\\\\n",
       "\t Inf &   0 &   0 &   1 &   5 &   2 &   1 &  13 &   3 &   5\\\\\n",
       "\t Inf &   1 &   0 &   1 &   6 &   3 &   1 &  14 &   4 &   6\\\\\n",
       "\t Inf &   1 &   0 &   0 &   6 &   3 &   1 &  14 &   4 &   6\\\\\n",
       "\t Inf &   5 &   4 &   5 &   0 &   2 &   3 &   8 &   3 &   5\\\\\n",
       "\t Inf &   3 &   2 &   3 &   8 &   0 &   1 &  16 &   1 &   3\\\\\n",
       "\t Inf & Inf & Inf & Inf & Inf & Inf &   0 & Inf & Inf & Inf\\\\\n",
       "\t Inf &   4 &   3 &   4 &   9 &   1 &   2 &   0 &   1 &   4\\\\\n",
       "\t Inf & Inf & Inf & Inf & Inf & Inf & Inf & Inf &   0 &   4\\\\\n",
       "\t Inf & Inf & Inf & Inf & Inf & Inf & Inf & Inf & Inf &   0\\\\\n",
       "\\end{tabular}\n"
      ],
      "text/markdown": [
       "\n",
       "A matrix: 10 × 10 of type dbl\n",
       "\n",
       "|   0 |   0 |   0 |   1 |   5 |   2 |   1 |  13 |   3 |   5 |\n",
       "| Inf |   0 |   0 |   1 |   5 |   2 |   1 |  13 |   3 |   5 |\n",
       "| Inf |   1 |   0 |   1 |   6 |   3 |   1 |  14 |   4 |   6 |\n",
       "| Inf |   1 |   0 |   0 |   6 |   3 |   1 |  14 |   4 |   6 |\n",
       "| Inf |   5 |   4 |   5 |   0 |   2 |   3 |   8 |   3 |   5 |\n",
       "| Inf |   3 |   2 |   3 |   8 |   0 |   1 |  16 |   1 |   3 |\n",
       "| Inf | Inf | Inf | Inf | Inf | Inf |   0 | Inf | Inf | Inf |\n",
       "| Inf |   4 |   3 |   4 |   9 |   1 |   2 |   0 |   1 |   4 |\n",
       "| Inf | Inf | Inf | Inf | Inf | Inf | Inf | Inf |   0 |   4 |\n",
       "| Inf | Inf | Inf | Inf | Inf | Inf | Inf | Inf | Inf |   0 |\n",
       "\n"
      ],
      "text/plain": [
       "      [,1] [,2] [,3] [,4] [,5] [,6] [,7] [,8] [,9] [,10]\n",
       " [1,]   0    0    0    1    5    2    1   13    3    5  \n",
       " [2,] Inf    0    0    1    5    2    1   13    3    5  \n",
       " [3,] Inf    1    0    1    6    3    1   14    4    6  \n",
       " [4,] Inf    1    0    0    6    3    1   14    4    6  \n",
       " [5,] Inf    5    4    5    0    2    3    8    3    5  \n",
       " [6,] Inf    3    2    3    8    0    1   16    1    3  \n",
       " [7,] Inf  Inf  Inf  Inf  Inf  Inf    0  Inf  Inf  Inf  \n",
       " [8,] Inf    4    3    4    9    1    2    0    1    4  \n",
       " [9,] Inf  Inf  Inf  Inf  Inf  Inf  Inf  Inf    0    4  \n",
       "[10,] Inf  Inf  Inf  Inf  Inf  Inf  Inf  Inf  Inf    0  "
      ]
     },
     "metadata": {},
     "output_type": "display_data"
    }
   ],
   "source": [
    "#노드간 거리 계산 - distance함수\n",
    "# mode='out' => 밖으로 나가는 방향의 거리를 계산('in'도 있음)\n",
    "distances(g2, mode='out')"
   ]
  },
  {
   "cell_type": "code",
   "execution_count": 19,
   "metadata": {},
   "outputs": [
    {
     "data": {
      "text/html": [
       "<table>\n",
       "<caption>A matrix: 9 × 9 of type dbl</caption>\n",
       "<tbody>\n",
       "\t<tr><td>0</td><td>0</td><td>0</td><td>1</td><td>0</td><td>0</td><td>0</td><td>0</td><td>0</td></tr>\n",
       "\t<tr><td>0</td><td>0</td><td>0</td><td>1</td><td>0</td><td>0</td><td>0</td><td>0</td><td>0</td></tr>\n",
       "\t<tr><td>0</td><td>0</td><td>0</td><td>1</td><td>0</td><td>0</td><td>0</td><td>0</td><td>0</td></tr>\n",
       "\t<tr><td>1</td><td>1</td><td>1</td><td>0</td><td>1</td><td>0</td><td>0</td><td>0</td><td>0</td></tr>\n",
       "\t<tr><td>0</td><td>0</td><td>0</td><td>1</td><td>0</td><td>1</td><td>0</td><td>0</td><td>0</td></tr>\n",
       "\t<tr><td>0</td><td>0</td><td>0</td><td>0</td><td>1</td><td>0</td><td>1</td><td>0</td><td>0</td></tr>\n",
       "\t<tr><td>0</td><td>0</td><td>0</td><td>0</td><td>0</td><td>1</td><td>0</td><td>1</td><td>0</td></tr>\n",
       "\t<tr><td>0</td><td>0</td><td>0</td><td>0</td><td>0</td><td>0</td><td>1</td><td>0</td><td>1</td></tr>\n",
       "\t<tr><td>0</td><td>0</td><td>0</td><td>0</td><td>0</td><td>0</td><td>0</td><td>1</td><td>0</td></tr>\n",
       "</tbody>\n",
       "</table>\n"
      ],
      "text/latex": [
       "A matrix: 9 × 9 of type dbl\n",
       "\\begin{tabular}{lllllllll}\n",
       "\t 0 & 0 & 0 & 1 & 0 & 0 & 0 & 0 & 0\\\\\n",
       "\t 0 & 0 & 0 & 1 & 0 & 0 & 0 & 0 & 0\\\\\n",
       "\t 0 & 0 & 0 & 1 & 0 & 0 & 0 & 0 & 0\\\\\n",
       "\t 1 & 1 & 1 & 0 & 1 & 0 & 0 & 0 & 0\\\\\n",
       "\t 0 & 0 & 0 & 1 & 0 & 1 & 0 & 0 & 0\\\\\n",
       "\t 0 & 0 & 0 & 0 & 1 & 0 & 1 & 0 & 0\\\\\n",
       "\t 0 & 0 & 0 & 0 & 0 & 1 & 0 & 1 & 0\\\\\n",
       "\t 0 & 0 & 0 & 0 & 0 & 0 & 1 & 0 & 1\\\\\n",
       "\t 0 & 0 & 0 & 0 & 0 & 0 & 0 & 1 & 0\\\\\n",
       "\\end{tabular}\n"
      ],
      "text/markdown": [
       "\n",
       "A matrix: 9 × 9 of type dbl\n",
       "\n",
       "| 0 | 0 | 0 | 1 | 0 | 0 | 0 | 0 | 0 |\n",
       "| 0 | 0 | 0 | 1 | 0 | 0 | 0 | 0 | 0 |\n",
       "| 0 | 0 | 0 | 1 | 0 | 0 | 0 | 0 | 0 |\n",
       "| 1 | 1 | 1 | 0 | 1 | 0 | 0 | 0 | 0 |\n",
       "| 0 | 0 | 0 | 1 | 0 | 1 | 0 | 0 | 0 |\n",
       "| 0 | 0 | 0 | 0 | 1 | 0 | 1 | 0 | 0 |\n",
       "| 0 | 0 | 0 | 0 | 0 | 1 | 0 | 1 | 0 |\n",
       "| 0 | 0 | 0 | 0 | 0 | 0 | 1 | 0 | 1 |\n",
       "| 0 | 0 | 0 | 0 | 0 | 0 | 0 | 1 | 0 |\n",
       "\n"
      ],
      "text/plain": [
       "      [,1] [,2] [,3] [,4] [,5] [,6] [,7] [,8] [,9]\n",
       " [1,] 0    0    0    1    0    0    0    0    0   \n",
       " [2,] 0    0    0    1    0    0    0    0    0   \n",
       " [3,] 0    0    0    1    0    0    0    0    0   \n",
       " [4,] 1    1    1    0    1    0    0    0    0   \n",
       " [5,] 0    0    0    1    0    1    0    0    0   \n",
       " [6,] 0    0    0    0    1    0    1    0    0   \n",
       " [7,] 0    0    0    0    0    1    0    1    0   \n",
       " [8,] 0    0    0    0    0    0    1    0    1   \n",
       " [9,] 0    0    0    0    0    0    0    1    0   "
      ]
     },
     "metadata": {},
     "output_type": "display_data"
    }
   ],
   "source": [
    "# 근접행렬(adjacency matrix) 생성\n",
    "L<-matrix(c(0,0,0,1,0,0,0,0,0,\n",
    "           0,0,0,1,0,0,0,0,0,\n",
    "           0,0,0,1,0,0,0,0,0,\n",
    "           1,1,1,0,1,0,0,0,0,\n",
    "           0,0,0,1,0,1,0,0,0,\n",
    "           0,0,0,0,1,0,1,0,0,\n",
    "           0,0,0,0,0,1,0,1,0,\n",
    "           0,0,0,0,0,0,1,0,1,\n",
    "           0,0,0,0,0,0,0,1,0),\n",
    "         byrow=T, nrow=9)\n",
    "L"
   ]
  },
  {
   "cell_type": "code",
   "execution_count": 24,
   "metadata": {},
   "outputs": [
    {
     "data": {
      "image/png": "[encoded data removed]",
      "text/plain": [
       "Plot with title \"\""
      ]
     },
     "metadata": {
      "image/png": {
       "height": 420,
       "width": 420
      }
     },
     "output_type": "display_data"
    }
   ],
   "source": [
    "#근접행렬로부터 그래프(네트워크) 생성\n",
    "g<-graph_from_adjacency_matrix(L, mode='directed')\n",
    "plot(g, vertex.size=30, edge.arrow.size=0.5)"
   ]
  },
  {
   "cell_type": "code",
   "execution_count": 27,
   "metadata": {},
   "outputs": [
    {
     "data": {
      "text/html": [
       "<dl>\n",
       "\t<dt>$res</dt>\n",
       "\t\t<dd><style>\n",
       ".list-inline {list-style: none; margin:0; padding: 0}\n",
       ".list-inline>li {display: inline-block}\n",
       ".list-inline>li:not(:last-child)::after {content: \"\\00b7\"; padding: 0 .5ex}\n",
       "</style>\n",
       "<ol class=list-inline><li>2</li><li>2</li><li>2</li><li>8</li><li>4</li><li>4</li><li>4</li><li>4</li><li>2</li></ol>\n",
       "</dd>\n",
       "\t<dt>$centralization</dt>\n",
       "\t\t<dd>0.3125</dd>\n",
       "\t<dt>$theoretical_max</dt>\n",
       "\t\t<dd>128</dd>\n",
       "</dl>\n"
      ],
      "text/latex": [
       "\\begin{description}\n",
       "\\item[\\$res] \\begin{enumerate*}\n",
       "\\item 2\n",
       "\\item 2\n",
       "\\item 2\n",
       "\\item 8\n",
       "\\item 4\n",
       "\\item 4\n",
       "\\item 4\n",
       "\\item 4\n",
       "\\item 2\n",
       "\\end{enumerate*}\n",
       "\n",
       "\\item[\\$centralization] 0.3125\n",
       "\\item[\\$theoretical\\_max] 128\n",
       "\\end{description}\n"
      ],
      "text/markdown": [
       "$res\n",
       ":   1. 2\n",
       "2. 2\n",
       "3. 2\n",
       "4. 8\n",
       "5. 4\n",
       "6. 4\n",
       "7. 4\n",
       "8. 4\n",
       "9. 2\n",
       "\n",
       "\n",
       "\n",
       "$centralization\n",
       ":   0.3125\n",
       "$theoretical_max\n",
       ":   128\n",
       "\n",
       "\n"
      ],
      "text/plain": [
       "$res\n",
       "[1] 2 2 2 8 4 4 4 4 2\n",
       "\n",
       "$centralization\n",
       "[1] 0.3125\n",
       "\n",
       "$theoretical_max\n",
       "[1] 128\n"
      ]
     },
     "metadata": {},
     "output_type": "display_data"
    }
   ],
   "source": [
    "centr_degree(g, mode='all')"
   ]
  },
  {
   "cell_type": "code",
   "execution_count": 30,
   "metadata": {},
   "outputs": [
    {
     "data": {
      "text/html": [
       "<style>\n",
       ".list-inline {list-style: none; margin:0; padding: 0}\n",
       ".list-inline>li {display: inline-block}\n",
       ".list-inline>li:not(:last-child)::after {content: \"\\00b7\"; padding: 0 .5ex}\n",
       "</style>\n",
       "<ol class=list-inline><li>0</li><li>0</li><li>0</li><li>36</li><li>32</li><li>30</li><li>24</li><li>14</li><li>0</li></ol>\n"
      ],
      "text/latex": [
       "\\begin{enumerate*}\n",
       "\\item 0\n",
       "\\item 0\n",
       "\\item 0\n",
       "\\item 36\n",
       "\\item 32\n",
       "\\item 30\n",
       "\\item 24\n",
       "\\item 14\n",
       "\\item 0\n",
       "\\end{enumerate*}\n"
      ],
      "text/markdown": [
       "1. 0\n",
       "2. 0\n",
       "3. 0\n",
       "4. 36\n",
       "5. 32\n",
       "6. 30\n",
       "7. 24\n",
       "8. 14\n",
       "9. 0\n",
       "\n",
       "\n"
      ],
      "text/plain": [
       "[1]  0  0  0 36 32 30 24 14  0"
      ]
     },
     "metadata": {},
     "output_type": "display_data"
    }
   ],
   "source": [
    "#중개중심성 계산 -estimate_betweenness함수\n",
    "estimate_betweenness(g, vids=V(g), cutoff=10)"
   ]
  },
  {
   "cell_type": "code",
   "execution_count": 31,
   "metadata": {},
   "outputs": [
    {
     "data": {
      "text/html": [
       "<style>\n",
       ".list-inline {list-style: none; margin:0; padding: 0}\n",
       ".list-inline>li {display: inline-block}\n",
       ".list-inline>li:not(:last-child)::after {content: \"\\00b7\"; padding: 0 .5ex}\n",
       "</style>\n",
       "<ol class=list-inline><li>0</li><li>0</li><li>0</li><li>36</li><li>32</li><li>30</li><li>24</li><li>14</li><li>0</li></ol>\n"
      ],
      "text/latex": [
       "\\begin{enumerate*}\n",
       "\\item 0\n",
       "\\item 0\n",
       "\\item 0\n",
       "\\item 36\n",
       "\\item 32\n",
       "\\item 30\n",
       "\\item 24\n",
       "\\item 14\n",
       "\\item 0\n",
       "\\end{enumerate*}\n"
      ],
      "text/markdown": [
       "1. 0\n",
       "2. 0\n",
       "3. 0\n",
       "4. 36\n",
       "5. 32\n",
       "6. 30\n",
       "7. 24\n",
       "8. 14\n",
       "9. 0\n",
       "\n",
       "\n"
      ],
      "text/plain": [
       "[1]  0  0  0 36 32 30 24 14  0"
      ]
     },
     "metadata": {},
     "output_type": "display_data"
    }
   ],
   "source": [
    "#중개중심성 계산하는 다른함수 betweenness함수\n",
    "betweenness(g)"
   ]
  },
  {
   "cell_type": "code",
   "execution_count": 34,
   "metadata": {},
   "outputs": [
    {
     "data": {
      "text/html": [
       "<style>\n",
       ".list-inline {list-style: none; margin:0; padding: 0}\n",
       ".list-inline>li {display: inline-block}\n",
       ".list-inline>li:not(:last-child)::after {content: \"\\00b7\"; padding: 0 .5ex}\n",
       "</style>\n",
       "<ol class=list-inline><li>0.04</li><li>0.04</li><li>0.04</li><li>0.0555555555555556</li><li>0.0588235294117647</li><li>0.0555555555555556</li><li>0.0476190476190476</li><li>0.0384615384615385</li><li>0.0303030303030303</li></ol>\n"
      ],
      "text/latex": [
       "\\begin{enumerate*}\n",
       "\\item 0.04\n",
       "\\item 0.04\n",
       "\\item 0.04\n",
       "\\item 0.0555555555555556\n",
       "\\item 0.0588235294117647\n",
       "\\item 0.0555555555555556\n",
       "\\item 0.0476190476190476\n",
       "\\item 0.0384615384615385\n",
       "\\item 0.0303030303030303\n",
       "\\end{enumerate*}\n"
      ],
      "text/markdown": [
       "1. 0.04\n",
       "2. 0.04\n",
       "3. 0.04\n",
       "4. 0.0555555555555556\n",
       "5. 0.0588235294117647\n",
       "6. 0.0555555555555556\n",
       "7. 0.0476190476190476\n",
       "8. 0.0384615384615385\n",
       "9. 0.0303030303030303\n",
       "\n",
       "\n"
      ],
      "text/plain": [
       "[1] 0.04000000 0.04000000 0.04000000 0.05555556 0.05882353 0.05555556 0.04761905\n",
       "[8] 0.03846154 0.03030303"
      ]
     },
     "metadata": {},
     "output_type": "display_data"
    }
   ],
   "source": [
    "#근접 중심성 계산 - closeness함수 사용\n",
    "closeness(g, vids=V(g), mode='all')"
   ]
  },
  {
   "cell_type": "code",
   "execution_count": 36,
   "metadata": {},
   "outputs": [
    {
     "data": {
      "text/html": [
       "<style>\n",
       ".list-inline {list-style: none; margin:0; padding: 0}\n",
       ".list-inline>li {display: inline-block}\n",
       ".list-inline>li:not(:last-child)::after {content: \"\\00b7\"; padding: 0 .5ex}\n",
       "</style>\n",
       "<ol class=list-inline><li>0.472392628889423</li><li>0.472392628889423</li><li>0.472392628889423</li><li>1</li><li>0.699705271206066</li><li>0.481194304092016</li><li>0.318926846791383</li><li>0.19393656647463</li><li>0.0916142044747391</li></ol>\n"
      ],
      "text/latex": [
       "\\begin{enumerate*}\n",
       "\\item 0.472392628889423\n",
       "\\item 0.472392628889423\n",
       "\\item 0.472392628889423\n",
       "\\item 1\n",
       "\\item 0.699705271206066\n",
       "\\item 0.481194304092016\n",
       "\\item 0.318926846791383\n",
       "\\item 0.19393656647463\n",
       "\\item 0.0916142044747391\n",
       "\\end{enumerate*}\n"
      ],
      "text/markdown": [
       "1. 0.472392628889423\n",
       "2. 0.472392628889423\n",
       "3. 0.472392628889423\n",
       "4. 1\n",
       "5. 0.699705271206066\n",
       "6. 0.481194304092016\n",
       "7. 0.318926846791383\n",
       "8. 0.19393656647463\n",
       "9. 0.0916142044747391\n",
       "\n",
       "\n"
      ],
      "text/plain": [
       "[1] 0.4723926 0.4723926 0.4723926 1.0000000 0.6997053 0.4811943 0.3189268\n",
       "[8] 0.1939366 0.0916142"
      ]
     },
     "metadata": {},
     "output_type": "display_data"
    }
   ],
   "source": [
    "e_g<-eigen_centrality(g)\n",
    "e_g$vector"
   ]
  },
  {
   "cell_type": "code",
   "execution_count": 37,
   "metadata": {},
   "outputs": [
    {
     "data": {
      "text/html": [
       "4"
      ],
      "text/latex": [
       "4"
      ],
      "text/markdown": [
       "4"
      ],
      "text/plain": [
       "[1] 4"
      ]
     },
     "metadata": {},
     "output_type": "display_data"
    }
   ],
   "source": [
    "which.max(e_g$vector)"
   ]
  },
  {
   "cell_type": "code",
   "execution_count": null,
   "metadata": {},
   "outputs": [],
   "source": []
  }
 ],
 "metadata": {
  "kernelspec": {
   "display_name": "R",
   "language": "R",
   "name": "ir"
  },
  "language_info": {
   "codemirror_mode": "r",
   "file_extension": ".r",
   "mimetype": "text/x-r-source",
   "name": "R",
   "pygments_lexer": "r",
   "version": "3.6.3"
  }
 },
 "nbformat": 4,
 "nbformat_minor": 4
}
