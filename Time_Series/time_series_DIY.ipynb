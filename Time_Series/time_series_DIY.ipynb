{
 "cells": [
  {
   "cell_type": "code",
   "execution_count": 3,
   "metadata": {},
   "outputs": [
    {
     "name": "stderr",
     "output_type": "stream",
     "text": [
      "Registered S3 method overwritten by 'quantmod':\n",
      "  method            from\n",
      "  as.zoo.data.frame zoo \n",
      "\n"
     ]
    }
   ],
   "source": [
    "library(forecast)"
   ]
  },
  {
   "cell_type": "code",
   "execution_count": 4,
   "metadata": {},
   "outputs": [
    {
     "name": "stderr",
     "output_type": "stream",
     "text": [
      "Loading required package: ggplot2\n",
      "\n",
      "Loading required package: fma\n",
      "\n",
      "Loading required package: expsmooth\n",
      "\n"
     ]
    }
   ],
   "source": [
    "library(fpp2)"
   ]
  },
  {
   "cell_type": "code",
   "execution_count": 3,
   "metadata": {},
   "outputs": [
    {
     "data": {
      "text/html": [
       "A Time Series:<br><style>\n",
       ".list-inline {list-style: none; margin:0; padding: 0}\n",
       ".list-inline>li {display: inline-block}\n",
       ".list-inline>li:not(:last-child)::after {content: \"\\00b7\"; padding: 0 .5ex}\n",
       "</style>\n",
       "<ol class=list-inline><li>111.009134615</li><li>130.828434066</li><li>141.287087912</li><li>154.227774725</li><li>162.740865385</li><li>192.166483516</li><li>240.799725275</li><li>304.21739011</li><li>384.004567308</li><li>429.662156593</li><li>359.316929945</li><li>437.251854396</li><li>468.400789835</li><li>424.435336538</li><li>487.979429945</li><li>509.828447802</li><li>506.347252747</li><li>340.184237416</li><li>240.258921039</li><li>219.032787575</li><li>172.07466324</li><li>252.590092166</li><li>221.07107741</li><li>276.518773485</li><li>271.147951746</li><li>342.618600452</li><li>428.355835697</li><li>442.39455335</li><li>432.785148219</li><li>437.249718628</li><li>437.209159929</li><li>445.364098092</li><li>453.195010427</li><li>454.409641012</li><li>422.378905779</li><li>456.037121728</li><li>440.386604674</li><li>425.194372519</li><li>486.20517351</li><li>500.429086073</li><li>521.27590917</li><li>508.947617045</li><li>488.888857729</li><li>509.870574978</li><li>456.722912348</li><li>473.816602915</li><li>525.950870565</li><li>549.833807597</li><li>542.340469826</li></ol>\n"
      ],
      "text/latex": [
       "A Time Series:\\\\\\begin{enumerate*}\n",
       "\\item 111.009134615\n",
       "\\item 130.828434066\n",
       "\\item 141.287087912\n",
       "\\item 154.227774725\n",
       "\\item 162.740865385\n",
       "\\item 192.166483516\n",
       "\\item 240.799725275\n",
       "\\item 304.21739011\n",
       "\\item 384.004567308\n",
       "\\item 429.662156593\n",
       "\\item 359.316929945\n",
       "\\item 437.251854396\n",
       "\\item 468.400789835\n",
       "\\item 424.435336538\n",
       "\\item 487.979429945\n",
       "\\item 509.828447802\n",
       "\\item 506.347252747\n",
       "\\item 340.184237416\n",
       "\\item 240.258921039\n",
       "\\item 219.032787575\n",
       "\\item 172.07466324\n",
       "\\item 252.590092166\n",
       "\\item 221.07107741\n",
       "\\item 276.518773485\n",
       "\\item 271.147951746\n",
       "\\item 342.618600452\n",
       "\\item 428.355835697\n",
       "\\item 442.39455335\n",
       "\\item 432.785148219\n",
       "\\item 437.249718628\n",
       "\\item 437.209159929\n",
       "\\item 445.364098092\n",
       "\\item 453.195010427\n",
       "\\item 454.409641012\n",
       "\\item 422.378905779\n",
       "\\item 456.037121728\n",
       "\\item 440.386604674\n",
       "\\item 425.194372519\n",
       "\\item 486.20517351\n",
       "\\item 500.429086073\n",
       "\\item 521.27590917\n",
       "\\item 508.947617045\n",
       "\\item 488.888857729\n",
       "\\item 509.870574978\n",
       "\\item 456.722912348\n",
       "\\item 473.816602915\n",
       "\\item 525.950870565\n",
       "\\item 549.833807597\n",
       "\\item 542.340469826\n",
       "\\end{enumerate*}\n"
      ],
      "text/markdown": [
       "A Time Series:  \n",
       "1. 111.009134615\n",
       "2. 130.828434066\n",
       "3. 141.287087912\n",
       "4. 154.227774725\n",
       "5. 162.740865385\n",
       "6. 192.166483516\n",
       "7. 240.799725275\n",
       "8. 304.21739011\n",
       "9. 384.004567308\n",
       "10. 429.662156593\n",
       "11. 359.316929945\n",
       "12. 437.251854396\n",
       "13. 468.400789835\n",
       "14. 424.435336538\n",
       "15. 487.979429945\n",
       "16. 509.828447802\n",
       "17. 506.347252747\n",
       "18. 340.184237416\n",
       "19. 240.258921039\n",
       "20. 219.032787575\n",
       "21. 172.07466324\n",
       "22. 252.590092166\n",
       "23. 221.07107741\n",
       "24. 276.518773485\n",
       "25. 271.147951746\n",
       "26. 342.618600452\n",
       "27. 428.355835697\n",
       "28. 442.39455335\n",
       "29. 432.785148219\n",
       "30. 437.249718628\n",
       "31. 437.209159929\n",
       "32. 445.364098092\n",
       "33. 453.195010427\n",
       "34. 454.409641012\n",
       "35. 422.378905779\n",
       "36. 456.037121728\n",
       "37. 440.386604674\n",
       "38. 425.194372519\n",
       "39. 486.20517351\n",
       "40. 500.429086073\n",
       "41. 521.27590917\n",
       "42. 508.947617045\n",
       "43. 488.888857729\n",
       "44. 509.870574978\n",
       "45. 456.722912348\n",
       "46. 473.816602915\n",
       "47. 525.950870565\n",
       "48. 549.833807597\n",
       "49. 542.340469826\n",
       "\n",
       "\n"
      ],
      "text/plain": [
       "A Time Series:\n",
       " [1] 111.0091 130.8284 141.2871 154.2278 162.7409 192.1665 240.7997 304.2174\n",
       " [9] 384.0046 429.6622 359.3169 437.2519 468.4008 424.4353 487.9794 509.8284\n",
       "[17] 506.3473 340.1842 240.2589 219.0328 172.0747 252.5901 221.0711 276.5188\n",
       "[25] 271.1480 342.6186 428.3558 442.3946 432.7851 437.2497 437.2092 445.3641\n",
       "[33] 453.1950 454.4096 422.3789 456.0371 440.3866 425.1944 486.2052 500.4291\n",
       "[41] 521.2759 508.9476 488.8889 509.8706 456.7229 473.8166 525.9509 549.8338\n",
       "[49] 542.3405"
      ]
     },
     "metadata": {},
     "output_type": "display_data"
    }
   ],
   "source": [
    "oil"
   ]
  },
  {
   "cell_type": "markdown",
   "metadata": {},
   "source": [
    "# D.I.Y 1\n",
    "## oil data\n",
    "1. oil 데이터의 단순지수평활법"
   ]
  },
  {
   "cell_type": "code",
   "execution_count": 4,
   "metadata": {},
   "outputs": [
    {
     "data": {
      "text/html": [
       "A Time Series:<br><style>\n",
       ".list-inline {list-style: none; margin:0; padding: 0}\n",
       ".list-inline>li {display: inline-block}\n",
       ".list-inline>li:not(:last-child)::after {content: \"\\00b7\"; padding: 0 .5ex}\n",
       "</style>\n",
       "<ol class=list-inline><li>445.364098092</li><li>453.195010427</li><li>454.409641012</li><li>422.378905779</li><li>456.037121728</li><li>440.386604674</li><li>425.194372519</li><li>486.20517351</li><li>500.429086073</li><li>521.27590917</li><li>508.947617045</li><li>488.888857729</li><li>509.870574978</li><li>456.722912348</li><li>473.816602915</li><li>525.950870565</li><li>549.833807597</li><li>542.340469826</li></ol>\n"
      ],
      "text/latex": [
       "A Time Series:\\\\\\begin{enumerate*}\n",
       "\\item 445.364098092\n",
       "\\item 453.195010427\n",
       "\\item 454.409641012\n",
       "\\item 422.378905779\n",
       "\\item 456.037121728\n",
       "\\item 440.386604674\n",
       "\\item 425.194372519\n",
       "\\item 486.20517351\n",
       "\\item 500.429086073\n",
       "\\item 521.27590917\n",
       "\\item 508.947617045\n",
       "\\item 488.888857729\n",
       "\\item 509.870574978\n",
       "\\item 456.722912348\n",
       "\\item 473.816602915\n",
       "\\item 525.950870565\n",
       "\\item 549.833807597\n",
       "\\item 542.340469826\n",
       "\\end{enumerate*}\n"
      ],
      "text/markdown": [
       "A Time Series:  \n",
       "1. 445.364098092\n",
       "2. 453.195010427\n",
       "3. 454.409641012\n",
       "4. 422.378905779\n",
       "5. 456.037121728\n",
       "6. 440.386604674\n",
       "7. 425.194372519\n",
       "8. 486.20517351\n",
       "9. 500.429086073\n",
       "10. 521.27590917\n",
       "11. 508.947617045\n",
       "12. 488.888857729\n",
       "13. 509.870574978\n",
       "14. 456.722912348\n",
       "15. 473.816602915\n",
       "16. 525.950870565\n",
       "17. 549.833807597\n",
       "18. 542.340469826\n",
       "\n",
       "\n"
      ],
      "text/plain": [
       "A Time Series:\n",
       " [1] 445.3641 453.1950 454.4096 422.3789 456.0371 440.3866 425.1944 486.2052\n",
       " [9] 500.4291 521.2759 508.9476 488.8889 509.8706 456.7229 473.8166 525.9509\n",
       "[17] 549.8338 542.3405"
      ]
     },
     "metadata": {},
     "output_type": "display_data"
    }
   ],
   "source": [
    "oil_data<-window(oil, start=1996)\n",
    "oil_data"
   ]
  },
  {
   "cell_type": "code",
   "execution_count": 5,
   "metadata": {},
   "outputs": [
    {
     "data": {
      "text/plain": [
       "     Point Forecast    Lo 80    Hi 80    Lo 95    Hi 95\n",
       "2014       542.6806 504.4541 580.9070 484.2183 601.1429\n",
       "2015       542.6806 492.9073 592.4539 466.5589 618.8023\n",
       "2016       542.6806 483.5747 601.7864 452.2860 633.0752\n",
       "2017       542.6806 475.5269 609.8343 439.9778 645.3834\n",
       "2018       542.6806 468.3452 617.0159 428.9945 656.3667\n",
       "2019       542.6806 461.7988 623.5624 418.9826 666.3786\n",
       "2020       542.6806 455.7439 629.6173 409.7224 675.6388\n",
       "2021       542.6806 450.0841 635.2771 401.0665 684.2947\n",
       "2022       542.6806 444.7509 640.6103 392.9100 692.4511\n",
       "2023       542.6806 439.6935 645.6677 385.1754 700.1858"
      ]
     },
     "metadata": {},
     "output_type": "display_data"
    }
   ],
   "source": [
    "oil_fit<-ses(oil_data, initial='optimal')\n",
    "oil_fit\n",
    "\n",
    "# 왜 하나의 값으로 예측되는가...?"
   ]
  },
  {
   "cell_type": "code",
   "execution_count": 6,
   "metadata": {},
   "outputs": [
    {
     "data": {
      "text/html": [
       "<style>\n",
       ".list-inline {list-style: none; margin:0; padding: 0}\n",
       ".list-inline>li {display: inline-block}\n",
       ".list-inline>li:not(:last-child)::after {content: \"\\00b7\"; padding: 0 .5ex}\n",
       "</style>\n",
       "<ol class=list-inline><li>'model'</li><li>'mean'</li><li>'level'</li><li>'x'</li><li>'upper'</li><li>'lower'</li><li>'fitted'</li><li>'method'</li><li>'series'</li><li>'residuals'</li></ol>\n"
      ],
      "text/latex": [
       "\\begin{enumerate*}\n",
       "\\item 'model'\n",
       "\\item 'mean'\n",
       "\\item 'level'\n",
       "\\item 'x'\n",
       "\\item 'upper'\n",
       "\\item 'lower'\n",
       "\\item 'fitted'\n",
       "\\item 'method'\n",
       "\\item 'series'\n",
       "\\item 'residuals'\n",
       "\\end{enumerate*}\n"
      ],
      "text/markdown": [
       "1. 'model'\n",
       "2. 'mean'\n",
       "3. 'level'\n",
       "4. 'x'\n",
       "5. 'upper'\n",
       "6. 'lower'\n",
       "7. 'fitted'\n",
       "8. 'method'\n",
       "9. 'series'\n",
       "10. 'residuals'\n",
       "\n",
       "\n"
      ],
      "text/plain": [
       " [1] \"model\"     \"mean\"      \"level\"     \"x\"         \"upper\"     \"lower\"    \n",
       " [7] \"fitted\"    \"method\"    \"series\"    \"residuals\""
      ]
     },
     "metadata": {},
     "output_type": "display_data"
    }
   ],
   "source": [
    "names(oil_fit)"
   ]
  },
  {
   "cell_type": "code",
   "execution_count": 119,
   "metadata": {},
   "outputs": [
    {
     "data": {
      "image/png": "[encoded data removed]",
      "text/plain": [
       "Plot with title \"Forecasts from Simple exponential smoothing\""
      ]
     },
     "metadata": {
      "image/png": {
       "height": 420,
       "width": 420
      }
     },
     "output_type": "display_data"
    }
   ],
   "source": [
    "plot(oil_fit)\n",
    "lines(oil_fit$fitted, col='red')\n",
    "lines(oil_fit$mean, col='blue', type='o')"
   ]
  },
  {
   "cell_type": "markdown",
   "metadata": {},
   "source": [
    "2. oil 데이터의 ETS모형"
   ]
  },
  {
   "cell_type": "code",
   "execution_count": 132,
   "metadata": {},
   "outputs": [
    {
     "data": {
      "text/plain": [
       "ETS(M,A,N) \n",
       "\n",
       "Call:\n",
       " ets(y = oil_data, model = \"MAN\") \n",
       "\n",
       "  Smoothing parameters:\n",
       "    alpha = 4e-04 \n",
       "    beta  = 4e-04 \n",
       "\n",
       "  Initial states:\n",
       "    l = 427.1202 \n",
       "    b = 5.6778 \n",
       "\n",
       "  sigma:  0.0573\n",
       "\n",
       "     AIC     AICc      BIC \n",
       "176.8422 181.8422 181.2941 "
      ]
     },
     "metadata": {},
     "output_type": "display_data"
    }
   ],
   "source": [
    "# 계절적 추세는 없으므로 Seasonal 인자에는 'N'사용\n",
    "# 증가추세 이므로 승법 error인 'M'사용\n",
    "# Trend인자에 감쇠추세 인자를 넣고 싶은데 A말고 뭘 써야하나요?????????????????\n",
    "oil_ets<-ets(oil_data, model='MAN')\n",
    "oil_ets"
   ]
  },
  {
   "cell_type": "code",
   "execution_count": 133,
   "metadata": {},
   "outputs": [
    {
     "data": {
      "text/plain": [
       "ETS(A,N,N) \n",
       "\n",
       "Call:\n",
       " ets(y = oil_data) \n",
       "\n",
       "  Smoothing parameters:\n",
       "    alpha = 0.8338 \n",
       "\n",
       "  Initial states:\n",
       "    l = 446.5581 \n",
       "\n",
       "  sigma:  29.8282\n",
       "\n",
       "     AIC     AICc      BIC \n",
       "178.1430 179.8573 180.8141 "
      ]
     },
     "metadata": {},
     "output_type": "display_data"
    }
   ],
   "source": [
    "# 자동으로 찾아주는 'ZZZ'사용하니 'ANN' model 사용\n",
    "oil_ets2<-ets(oil_data)\n",
    "oil_ets2"
   ]
  },
  {
   "cell_type": "markdown",
   "metadata": {},
   "source": [
    "- 두 개 비교 결과 정보손실을 나타내는 AIC, AICc, BIC값들이 model='ANN'이 더 낮으므로 해당 모델 선택"
   ]
  },
  {
   "cell_type": "code",
   "execution_count": 134,
   "metadata": {},
   "outputs": [
    {
     "data": {
      "text/html": [
       "<style>\n",
       ".list-inline {list-style: none; margin:0; padding: 0}\n",
       ".list-inline>li {display: inline-block}\n",
       ".list-inline>li:not(:last-child)::after {content: \"\\00b7\"; padding: 0 .5ex}\n",
       "</style>\n",
       "<ol class=list-inline><li>'loglik'</li><li>'aic'</li><li>'bic'</li><li>'aicc'</li><li>'mse'</li><li>'amse'</li><li>'fit'</li><li>'residuals'</li><li>'fitted'</li><li>'states'</li><li>'par'</li><li>'m'</li><li>'method'</li><li>'series'</li><li>'components'</li><li>'call'</li><li>'initstate'</li><li>'sigma2'</li><li>'x'</li></ol>\n"
      ],
      "text/latex": [
       "\\begin{enumerate*}\n",
       "\\item 'loglik'\n",
       "\\item 'aic'\n",
       "\\item 'bic'\n",
       "\\item 'aicc'\n",
       "\\item 'mse'\n",
       "\\item 'amse'\n",
       "\\item 'fit'\n",
       "\\item 'residuals'\n",
       "\\item 'fitted'\n",
       "\\item 'states'\n",
       "\\item 'par'\n",
       "\\item 'm'\n",
       "\\item 'method'\n",
       "\\item 'series'\n",
       "\\item 'components'\n",
       "\\item 'call'\n",
       "\\item 'initstate'\n",
       "\\item 'sigma2'\n",
       "\\item 'x'\n",
       "\\end{enumerate*}\n"
      ],
      "text/markdown": [
       "1. 'loglik'\n",
       "2. 'aic'\n",
       "3. 'bic'\n",
       "4. 'aicc'\n",
       "5. 'mse'\n",
       "6. 'amse'\n",
       "7. 'fit'\n",
       "8. 'residuals'\n",
       "9. 'fitted'\n",
       "10. 'states'\n",
       "11. 'par'\n",
       "12. 'm'\n",
       "13. 'method'\n",
       "14. 'series'\n",
       "15. 'components'\n",
       "16. 'call'\n",
       "17. 'initstate'\n",
       "18. 'sigma2'\n",
       "19. 'x'\n",
       "\n",
       "\n"
      ],
      "text/plain": [
       " [1] \"loglik\"     \"aic\"        \"bic\"        \"aicc\"       \"mse\"       \n",
       " [6] \"amse\"       \"fit\"        \"residuals\"  \"fitted\"     \"states\"    \n",
       "[11] \"par\"        \"m\"          \"method\"     \"series\"     \"components\"\n",
       "[16] \"call\"       \"initstate\"  \"sigma2\"     \"x\"         "
      ]
     },
     "metadata": {},
     "output_type": "display_data"
    }
   ],
   "source": [
    "names(oil_ets)"
   ]
  },
  {
   "cell_type": "code",
   "execution_count": 137,
   "metadata": {},
   "outputs": [
    {
     "data": {
      "text/plain": [
       "     Point Forecast    Lo 80    Hi 80    Lo 95    Hi 95\n",
       "2014       535.0076 495.7095 574.3056 474.9064 595.1087\n",
       "2015       540.6861 500.9710 580.4013 479.9470 601.4252\n",
       "2016       546.3647 506.2324 586.4970 484.9876 607.7417\n",
       "2017       552.0432 511.4938 592.5927 490.0282 614.0583\n",
       "2018       557.7218 516.7551 598.6884 495.0687 620.3749\n",
       "2019       563.4003 522.0164 604.7842 500.1091 626.6916\n",
       "2020       569.0789 527.2777 610.8801 505.1494 633.0083\n",
       "2021       574.7574 532.5389 616.9760 510.1897 639.3251\n",
       "2022       580.4360 537.8000 623.0719 515.2299 645.6420\n",
       "2023       586.1145 543.0611 629.1679 520.2700 651.9590"
      ]
     },
     "metadata": {},
     "output_type": "display_data"
    }
   ],
   "source": [
    "# ets모형으로 예측값\n",
    "oil_ets_fore<-forecast(oil_ets)\n",
    "oil_ets_fore"
   ]
  },
  {
   "cell_type": "code",
   "execution_count": 138,
   "metadata": {},
   "outputs": [
    {
     "data": {
      "text/html": [
       "<style>\n",
       ".list-inline {list-style: none; margin:0; padding: 0}\n",
       ".list-inline>li {display: inline-block}\n",
       ".list-inline>li:not(:last-child)::after {content: \"\\00b7\"; padding: 0 .5ex}\n",
       "</style>\n",
       "<ol class=list-inline><li>'model'</li><li>'mean'</li><li>'level'</li><li>'x'</li><li>'upper'</li><li>'lower'</li><li>'fitted'</li><li>'method'</li><li>'series'</li><li>'residuals'</li></ol>\n"
      ],
      "text/latex": [
       "\\begin{enumerate*}\n",
       "\\item 'model'\n",
       "\\item 'mean'\n",
       "\\item 'level'\n",
       "\\item 'x'\n",
       "\\item 'upper'\n",
       "\\item 'lower'\n",
       "\\item 'fitted'\n",
       "\\item 'method'\n",
       "\\item 'series'\n",
       "\\item 'residuals'\n",
       "\\end{enumerate*}\n"
      ],
      "text/markdown": [
       "1. 'model'\n",
       "2. 'mean'\n",
       "3. 'level'\n",
       "4. 'x'\n",
       "5. 'upper'\n",
       "6. 'lower'\n",
       "7. 'fitted'\n",
       "8. 'method'\n",
       "9. 'series'\n",
       "10. 'residuals'\n",
       "\n",
       "\n"
      ],
      "text/plain": [
       " [1] \"model\"     \"mean\"      \"level\"     \"x\"         \"upper\"     \"lower\"    \n",
       " [7] \"fitted\"    \"method\"    \"series\"    \"residuals\""
      ]
     },
     "metadata": {},
     "output_type": "display_data"
    }
   ],
   "source": [
    "names(oil_ets_fore)"
   ]
  },
  {
   "cell_type": "code",
   "execution_count": 140,
   "metadata": {},
   "outputs": [
    {
     "data": {
      "image/png": "[encoded data removed]",
      "text/plain": [
       "Plot with title \"Forecasts from ETS(M,A,N)\""
      ]
     },
     "metadata": {
      "image/png": {
       "height": 420,
       "width": 420
      }
     },
     "output_type": "display_data"
    }
   ],
   "source": [
    "plot(oil_ets_fore)\n",
    "lines(oil_ets_fore$fitted, col='red')\n",
    "lines(oil_ets_fore$mean, col='blue', type='o')\n",
    "\n",
    "# => Fitting된 값과 예측값이 왜이러지..? 이게 정상인가..?"
   ]
  },
  {
   "cell_type": "markdown",
   "metadata": {},
   "source": [
    "3. oil 데이터의 단순지수평활법과 ETS모형 비교"
   ]
  },
  {
   "cell_type": "code",
   "execution_count": 126,
   "metadata": {},
   "outputs": [
    {
     "name": "stdout",
     "output_type": "stream",
     "text": [
      "\n",
      "Forecast method: Simple exponential smoothing\n",
      "\n",
      "Model Information:\n",
      "Simple exponential smoothing \n",
      "\n",
      "Call:\n",
      " ses(y = oil_data, initial = \"optimal\") \n",
      "\n",
      "  Smoothing parameters:\n",
      "    alpha = 0.8339 \n",
      "\n",
      "  Initial states:\n",
      "    l = 446.5868 \n",
      "\n",
      "  sigma:  29.8282\n",
      "\n",
      "     AIC     AICc      BIC \n",
      "178.1430 179.8573 180.8141 \n",
      "\n",
      "Error measures:\n",
      "                   ME     RMSE     MAE      MPE     MAPE      MASE        ACF1\n",
      "Training set 6.401975 28.12234 22.2587 1.097574 4.610635 0.9256774 -0.03377748\n",
      "\n",
      "Forecasts:\n",
      "     Point Forecast    Lo 80    Hi 80    Lo 95    Hi 95\n",
      "2014       542.6806 504.4541 580.9070 484.2183 601.1429\n",
      "2015       542.6806 492.9073 592.4539 466.5589 618.8023\n",
      "2016       542.6806 483.5747 601.7864 452.2860 633.0752\n",
      "2017       542.6806 475.5269 609.8343 439.9778 645.3834\n",
      "2018       542.6806 468.3452 617.0159 428.9945 656.3667\n",
      "2019       542.6806 461.7988 623.5624 418.9826 666.3786\n",
      "2020       542.6806 455.7439 629.6173 409.7224 675.6388\n",
      "2021       542.6806 450.0841 635.2771 401.0665 684.2947\n",
      "2022       542.6806 444.7509 640.6103 392.9100 692.4511\n",
      "2023       542.6806 439.6935 645.6677 385.1754 700.1858\n",
      "\n",
      "Forecast method: ETS(M,A,N)\n",
      "\n",
      "Model Information:\n",
      "ETS(M,A,N) \n",
      "\n",
      "Call:\n",
      " ets(y = oil_data, model = \"MAN\") \n",
      "\n",
      "  Smoothing parameters:\n",
      "    alpha = 4e-04 \n",
      "    beta  = 4e-04 \n",
      "\n",
      "  Initial states:\n",
      "    l = 427.1202 \n",
      "    b = 5.6778 \n",
      "\n",
      "  sigma:  0.0573\n",
      "\n",
      "     AIC     AICc      BIC \n",
      "176.8422 181.8422 181.2941 \n",
      "\n",
      "Error measures:\n",
      "                     ME     RMSE      MAE        MPE     MAPE      MASE\n",
      "Training set 0.09926499 24.58779 20.64721 -0.2417229 4.361672 0.8586598\n",
      "                  ACF1\n",
      "Training set 0.3430624\n",
      "\n",
      "Forecasts:\n",
      "     Point Forecast    Lo 80    Hi 80    Lo 95    Hi 95\n",
      "2014       535.0076 495.7095 574.3056 474.9064 595.1087\n",
      "2015       540.6861 500.9710 580.4013 479.9470 601.4252\n",
      "2016       546.3647 506.2324 586.4970 484.9876 607.7417\n",
      "2017       552.0432 511.4938 592.5927 490.0282 614.0583\n",
      "2018       557.7218 516.7551 598.6884 495.0687 620.3749\n",
      "2019       563.4003 522.0164 604.7842 500.1091 626.6916\n",
      "2020       569.0789 527.2777 610.8801 505.1494 633.0083\n",
      "2021       574.7574 532.5389 616.9760 510.1897 639.3251\n",
      "2022       580.4360 537.8000 623.0719 515.2299 645.6420\n",
      "2023       586.1145 543.0611 629.1679 520.2700 651.9590\n"
     ]
    }
   ],
   "source": [
    "# 단순지수평활법 요약\n",
    "summary(oil_fit)\n",
    "\n",
    "# ETS모형 요약\n",
    "summary(oil_ets_fore)\n",
    "\n",
    "# RMSE값과 기타 정보손실값들이 서로 매우 비슷\n",
    "# 그러므로 두 개 중 어떤 모델을 써도 무방할듯"
   ]
  },
  {
   "cell_type": "markdown",
   "metadata": {},
   "source": [
    "## ausair 데이터"
   ]
  },
  {
   "cell_type": "code",
   "execution_count": 127,
   "metadata": {},
   "outputs": [
    {
     "data": {
      "text/html": [
       "A Time Series:<br><style>\n",
       ".list-inline {list-style: none; margin:0; padding: 0}\n",
       ".list-inline>li {display: inline-block}\n",
       ".list-inline>li:not(:last-child)::after {content: \"\\00b7\"; padding: 0 .5ex}\n",
       "</style>\n",
       "<ol class=list-inline><li>17.5534</li><li>21.8601</li><li>23.8866</li><li>26.9293</li><li>26.8885</li><li>28.8314</li><li>30.0751</li><li>30.9535</li><li>30.1857</li><li>31.5797</li><li>32.577569</li><li>33.477398</li><li>39.021581</li><li>41.386432</li><li>41.596552</li><li>44.657324</li><li>46.951775</li><li>48.728837</li><li>51.488427</li><li>50.026967</li><li>60.640913</li><li>63.3603103378</li><li>66.355274</li><li>68.197955</li><li>68.1232376693</li><li>69.7793454797</li><li>72.597700806</li></ol>\n"
      ],
      "text/latex": [
       "A Time Series:\\\\\\begin{enumerate*}\n",
       "\\item 17.5534\n",
       "\\item 21.8601\n",
       "\\item 23.8866\n",
       "\\item 26.9293\n",
       "\\item 26.8885\n",
       "\\item 28.8314\n",
       "\\item 30.0751\n",
       "\\item 30.9535\n",
       "\\item 30.1857\n",
       "\\item 31.5797\n",
       "\\item 32.577569\n",
       "\\item 33.477398\n",
       "\\item 39.021581\n",
       "\\item 41.386432\n",
       "\\item 41.596552\n",
       "\\item 44.657324\n",
       "\\item 46.951775\n",
       "\\item 48.728837\n",
       "\\item 51.488427\n",
       "\\item 50.026967\n",
       "\\item 60.640913\n",
       "\\item 63.3603103378\n",
       "\\item 66.355274\n",
       "\\item 68.197955\n",
       "\\item 68.1232376693\n",
       "\\item 69.7793454797\n",
       "\\item 72.597700806\n",
       "\\end{enumerate*}\n"
      ],
      "text/markdown": [
       "A Time Series:  \n",
       "1. 17.5534\n",
       "2. 21.8601\n",
       "3. 23.8866\n",
       "4. 26.9293\n",
       "5. 26.8885\n",
       "6. 28.8314\n",
       "7. 30.0751\n",
       "8. 30.9535\n",
       "9. 30.1857\n",
       "10. 31.5797\n",
       "11. 32.577569\n",
       "12. 33.477398\n",
       "13. 39.021581\n",
       "14. 41.386432\n",
       "15. 41.596552\n",
       "16. 44.657324\n",
       "17. 46.951775\n",
       "18. 48.728837\n",
       "19. 51.488427\n",
       "20. 50.026967\n",
       "21. 60.640913\n",
       "22. 63.3603103378\n",
       "23. 66.355274\n",
       "24. 68.197955\n",
       "25. 68.1232376693\n",
       "26. 69.7793454797\n",
       "27. 72.597700806\n",
       "\n",
       "\n"
      ],
      "text/plain": [
       "A Time Series:\n",
       " [1] 17.55340 21.86010 23.88660 26.92930 26.88850 28.83140 30.07510 30.95350\n",
       " [9] 30.18570 31.57970 32.57757 33.47740 39.02158 41.38643 41.59655 44.65732\n",
       "[17] 46.95177 48.72884 51.48843 50.02697 60.64091 63.36031 66.35527 68.19795\n",
       "[25] 68.12324 69.77935 72.59770"
      ]
     },
     "metadata": {},
     "output_type": "display_data"
    }
   ],
   "source": [
    "ausair_data<-window(ausair, start=1990)\n",
    "ausair_data"
   ]
  },
  {
   "cell_type": "markdown",
   "metadata": {},
   "source": [
    "1. ausair 데이터의 holt 선형지수평활법"
   ]
  },
  {
   "cell_type": "code",
   "execution_count": 141,
   "metadata": {},
   "outputs": [
    {
     "data": {
      "text/plain": [
       "     Point Forecast    Lo 80     Hi 80    Lo 95     Hi 95\n",
       "2017       74.60130 71.57106  77.63154 69.96695  79.23566\n",
       "2018       76.70304 72.76440  80.64169 70.67941  82.72668\n",
       "2019       78.80478 74.13092  83.47864 71.65673  85.95284\n",
       "2020       80.90652 75.59817  86.21487 72.78810  89.02494\n",
       "2021       83.00826 77.13343  88.88310 74.02348  91.99305\n",
       "2022       85.11000 78.71857  91.50143 75.33516  94.88485\n",
       "2023       87.21174 80.34235  94.08113 76.70591  97.71757\n",
       "2024       89.31348 81.99718  96.62978 78.12417 100.50280\n",
       "2025       91.41522 83.67768  99.15276 79.58168 103.24876\n",
       "2026       93.51696 85.37987 101.65405 81.07236 105.96157\n",
       "2027       95.61870 87.10069 104.13671 82.59153 108.64587\n",
       "2028       97.72044 88.83774 106.60314 84.13553 111.30535"
      ]
     },
     "metadata": {},
     "output_type": "display_data"
    }
   ],
   "source": [
    "ausair_holt<-holt(ausair_data, h=12)\n",
    "ausair_holt"
   ]
  },
  {
   "cell_type": "code",
   "execution_count": 142,
   "metadata": {},
   "outputs": [
    {
     "data": {
      "text/plain": [
       "     Point Forecast    Lo 80     Hi 80    Lo 95     Hi 95\n",
       "2017       74.10429 70.85945  77.34913 69.14174  79.06685\n",
       "2018       75.72699 71.34160  80.11238 69.02012  82.43386\n",
       "2019       77.31724 71.95975  82.67472 69.12367  85.51081\n",
       "2020       78.87568 72.63402  85.11733 69.32989  88.42147\n",
       "2021       80.40295 73.33096  87.47494 69.58727  91.21862\n",
       "2022       81.89967 74.03329  89.76606 69.86907  93.93028\n",
       "2023       83.36647 74.73101  92.00192 70.15968  96.57325\n",
       "2024       84.80392 75.41796  94.18988 70.44933  99.15851\n",
       "2025       86.21263 76.09013  96.33513 70.73161 101.69365\n",
       "2026       87.59316 76.74490  98.44143 71.00217 104.18415\n",
       "2027       88.94608 77.38050 100.51167 71.25805 106.63412\n",
       "2028       90.27195 77.99578 102.54811 71.49717 109.04672"
      ]
     },
     "metadata": {},
     "output_type": "display_data"
    }
   ],
   "source": [
    "ausair_holt_d<-holt(ausair_data, damped=TRUE, h=12)\n",
    "ausair_holt_d"
   ]
  },
  {
   "cell_type": "code",
   "execution_count": 143,
   "metadata": {},
   "outputs": [
    {
     "name": "stdout",
     "output_type": "stream",
     "text": [
      "\n",
      "Forecast method: Holt's method\n",
      "\n",
      "Model Information:\n",
      "Holt's method \n",
      "\n",
      "Call:\n",
      " holt(y = ausair_data, h = 12) \n",
      "\n",
      "  Smoothing parameters:\n",
      "    alpha = 0.8302 \n",
      "    beta  = 1e-04 \n",
      "\n",
      "  Initial states:\n",
      "    l = 15.5715 \n",
      "    b = 2.1017 \n",
      "\n",
      "  sigma:  2.3645\n",
      "\n",
      "     AIC     AICc      BIC \n",
      "141.1291 143.9863 147.6083 \n",
      "\n",
      "Error measures:\n",
      "                      ME     RMSE     MAE        MPE     MAPE      MASE\n",
      "Training set 0.008359331 2.182343 1.52892 -0.3244107 3.820787 0.6654839\n",
      "                    ACF1\n",
      "Training set -0.01335362\n",
      "\n",
      "Forecasts:\n",
      "     Point Forecast    Lo 80     Hi 80    Lo 95     Hi 95\n",
      "2017       74.60130 71.57106  77.63154 69.96695  79.23566\n",
      "2018       76.70304 72.76440  80.64169 70.67941  82.72668\n",
      "2019       78.80478 74.13092  83.47864 71.65673  85.95284\n",
      "2020       80.90652 75.59817  86.21487 72.78810  89.02494\n",
      "2021       83.00826 77.13343  88.88310 74.02348  91.99305\n",
      "2022       85.11000 78.71857  91.50143 75.33516  94.88485\n",
      "2023       87.21174 80.34235  94.08113 76.70591  97.71757\n",
      "2024       89.31348 81.99718  96.62978 78.12417 100.50280\n",
      "2025       91.41522 83.67768  99.15276 79.58168 103.24876\n",
      "2026       93.51696 85.37987 101.65405 81.07236 105.96157\n",
      "2027       95.61870 87.10069 104.13671 82.59153 108.64587\n",
      "2028       97.72044 88.83774 106.60314 84.13553 111.30535\n",
      "\n",
      "Forecast method: Damped Holt's method\n",
      "\n",
      "Model Information:\n",
      "Damped Holt's method \n",
      "\n",
      "Call:\n",
      " holt(y = ausair_data, h = 12, damped = TRUE) \n",
      "\n",
      "  Smoothing parameters:\n",
      "    alpha = 0.8691 \n",
      "    beta  = 0.0409 \n",
      "    phi   = 0.98 \n",
      "\n",
      "  Initial states:\n",
      "    l = 15.373 \n",
      "    b = 2.2224 \n",
      "\n",
      "  sigma:  2.532\n",
      "\n",
      "     AIC     AICc      BIC \n",
      "145.6239 149.8239 153.3989 \n",
      "\n",
      "Error measures:\n",
      "                    ME     RMSE      MAE      MPE     MAPE      MASE\n",
      "Training set 0.3991511 2.285529 1.529037 0.560457 3.672339 0.6655348\n",
      "                    ACF1\n",
      "Training set -0.03143013\n",
      "\n",
      "Forecasts:\n",
      "     Point Forecast    Lo 80     Hi 80    Lo 95     Hi 95\n",
      "2017       74.10429 70.85945  77.34913 69.14174  79.06685\n",
      "2018       75.72699 71.34160  80.11238 69.02012  82.43386\n",
      "2019       77.31724 71.95975  82.67472 69.12367  85.51081\n",
      "2020       78.87568 72.63402  85.11733 69.32989  88.42147\n",
      "2021       80.40295 73.33096  87.47494 69.58727  91.21862\n",
      "2022       81.89967 74.03329  89.76606 69.86907  93.93028\n",
      "2023       83.36647 74.73101  92.00192 70.15968  96.57325\n",
      "2024       84.80392 75.41796  94.18988 70.44933  99.15851\n",
      "2025       86.21263 76.09013  96.33513 70.73161 101.69365\n",
      "2026       87.59316 76.74490  98.44143 71.00217 104.18415\n",
      "2027       88.94608 77.38050 100.51167 71.25805 106.63412\n",
      "2028       90.27195 77.99578 102.54811 71.49717 109.04672\n"
     ]
    }
   ],
   "source": [
    "# holt선형추세랑 감쇠추세법 RMSE값 비교후 적은 값인 모델 선택\n",
    "summary(ausair_holt)\n",
    "summary(ausair_holt_d)\n",
    "\n",
    "# holt 감쇠추세법보다는 holt 선형추세선택"
   ]
  },
  {
   "cell_type": "code",
   "execution_count": 144,
   "metadata": {},
   "outputs": [
    {
     "data": {
      "image/png": "[encoded data removed]",
      "text/plain": [
       "Plot with title \"Forecasts from Holt's method\""
      ]
     },
     "metadata": {
      "image/png": {
       "height": 420,
       "width": 420
      }
     },
     "output_type": "display_data"
    }
   ],
   "source": [
    "plot(ausair_holt)\n",
    "lines(ausair_holt$fitted, col='red')\n",
    "lines(ausair_holt$mean, type='o')"
   ]
  },
  {
   "cell_type": "markdown",
   "metadata": {},
   "source": [
    "2. ausair 데이터의 ETS모형"
   ]
  },
  {
   "cell_type": "code",
   "execution_count": 148,
   "metadata": {},
   "outputs": [
    {
     "name": "stdout",
     "output_type": "stream",
     "text": [
      "ETS(M,N,N) \n",
      "\n",
      "Call:\n",
      " ets(y = ausair_data, model = \"MNN\") \n",
      "\n",
      "  Smoothing parameters:\n",
      "    alpha = 0.9999 \n",
      "\n",
      "  Initial states:\n",
      "    l = 17.4334 \n",
      "\n",
      "  sigma:  0.0882\n",
      "\n",
      "     AIC     AICc      BIC \n",
      "158.2981 159.3415 162.1856 \n",
      "\n",
      "Training set error measures:\n",
      "                   ME     RMSE      MAE      MPE     MAPE      MASE       ACF1\n",
      "Training set 2.043319 3.039254 2.216942 4.991528 5.415533 0.9649552 -0.2119818\n",
      "ETS(M,A,N) \n",
      "\n",
      "Call:\n",
      " ets(y = ausair_data, model = \"MAN\") \n",
      "\n",
      "  Smoothing parameters:\n",
      "    alpha = 0.8356 \n",
      "    beta  = 1e-04 \n",
      "\n",
      "  Initial states:\n",
      "    l = 16.1057 \n",
      "    b = 2.0994 \n",
      "\n",
      "  sigma:  0.0571\n",
      "\n",
      "     AIC     AICc      BIC \n",
      "139.5747 142.4319 146.0539 \n",
      "\n",
      "Training set error measures:\n",
      "                      ME     RMSE      MAE        MPE     MAPE      MASE\n",
      "Training set -0.01242452 2.182641 1.541071 -0.4451094 3.904974 0.6707726\n",
      "                    ACF1\n",
      "Training set -0.02819235\n",
      "ETS(M,A,N) \n",
      "\n",
      "Call:\n",
      " ets(y = ausair_data) \n",
      "\n",
      "  Smoothing parameters:\n",
      "    alpha = 0.8356 \n",
      "    beta  = 1e-04 \n",
      "\n",
      "  Initial states:\n",
      "    l = 16.1057 \n",
      "    b = 2.0994 \n",
      "\n",
      "  sigma:  0.0571\n",
      "\n",
      "     AIC     AICc      BIC \n",
      "139.5747 142.4319 146.0539 \n",
      "\n",
      "Training set error measures:\n",
      "                      ME     RMSE      MAE        MPE     MAPE      MASE\n",
      "Training set -0.01242452 2.182641 1.541071 -0.4451094 3.904974 0.6707726\n",
      "                    ACF1\n",
      "Training set -0.02819235\n"
     ]
    }
   ],
   "source": [
    "# 우선 증가추세니 승법error\n",
    "# Trend는 N일때랑 A일 때랑 비교해서 RMSE낮은거 선택\n",
    "# 계절적 추세는 없으니 'N'\n",
    "ausair_ets<-ets(ausair_data, model='MNN')\n",
    "summary(ausair_ets)\n",
    "\n",
    "ausair_ets3<-ets(ausair_data, model='MAN')\n",
    "summary(ausair_ets3)\n",
    "\n",
    "# 자동으로 적합해주는 model='ZZZ'적용해보기 => 'MAN'모델로 자동선택됨\n",
    "ausair_ets2<-ets(ausair_data)\n",
    "summary(ausair_ets2)\n",
    "\n",
    "# => RMSE값이 이게 더 낮으므로 'MAN'모델 사용"
   ]
  },
  {
   "cell_type": "code",
   "execution_count": 149,
   "metadata": {},
   "outputs": [
    {
     "data": {
      "text/plain": [
       "     Point Forecast    Lo 80     Hi 80    Lo 95     Hi 95\n",
       "2017       74.60050 69.14415  80.05686 66.25572  82.94529\n",
       "2018       76.69984 69.46579  83.93389 65.63632  87.76336\n",
       "2019       78.79918 70.07099  87.52736 65.45057  92.14779\n",
       "2020       80.89851 70.83087  90.96615 65.50139  96.29564\n",
       "2021       82.99785 71.68873  94.30696 65.70205 100.29365\n",
       "2022       85.09719 72.61385  97.58053 66.00557 104.18881\n",
       "2023       87.19652 73.58745 100.80559 66.38324 108.00980\n",
       "2024       89.29586 74.59716 103.99456 66.81613 111.77558\n",
       "2025       91.39519 75.63431 107.15608 67.29101 115.49938\n",
       "2026       93.49453 76.69262 110.29644 67.79823 119.19083\n",
       "2027       95.59387 77.76734 113.42039 68.33055 122.85719\n",
       "2028       97.69320 78.85482 116.53159 68.88238 126.50403"
      ]
     },
     "metadata": {},
     "output_type": "display_data"
    }
   ],
   "source": [
    "# ets모델 예측값\n",
    "ausair_ets_fore<-forecast(ausair_ets2, h=12)\n",
    "ausair_ets_fore"
   ]
  },
  {
   "cell_type": "code",
   "execution_count": 150,
   "metadata": {},
   "outputs": [
    {
     "data": {
      "text/html": [
       "<style>\n",
       ".list-inline {list-style: none; margin:0; padding: 0}\n",
       ".list-inline>li {display: inline-block}\n",
       ".list-inline>li:not(:last-child)::after {content: \"\\00b7\"; padding: 0 .5ex}\n",
       "</style>\n",
       "<ol class=list-inline><li>'model'</li><li>'mean'</li><li>'level'</li><li>'x'</li><li>'upper'</li><li>'lower'</li><li>'fitted'</li><li>'method'</li><li>'series'</li><li>'residuals'</li></ol>\n"
      ],
      "text/latex": [
       "\\begin{enumerate*}\n",
       "\\item 'model'\n",
       "\\item 'mean'\n",
       "\\item 'level'\n",
       "\\item 'x'\n",
       "\\item 'upper'\n",
       "\\item 'lower'\n",
       "\\item 'fitted'\n",
       "\\item 'method'\n",
       "\\item 'series'\n",
       "\\item 'residuals'\n",
       "\\end{enumerate*}\n"
      ],
      "text/markdown": [
       "1. 'model'\n",
       "2. 'mean'\n",
       "3. 'level'\n",
       "4. 'x'\n",
       "5. 'upper'\n",
       "6. 'lower'\n",
       "7. 'fitted'\n",
       "8. 'method'\n",
       "9. 'series'\n",
       "10. 'residuals'\n",
       "\n",
       "\n"
      ],
      "text/plain": [
       " [1] \"model\"     \"mean\"      \"level\"     \"x\"         \"upper\"     \"lower\"    \n",
       " [7] \"fitted\"    \"method\"    \"series\"    \"residuals\""
      ]
     },
     "metadata": {},
     "output_type": "display_data"
    }
   ],
   "source": [
    "names(ausair_ets_fore)"
   ]
  },
  {
   "cell_type": "code",
   "execution_count": 151,
   "metadata": {},
   "outputs": [
    {
     "data": {
      "image/png": "[encoded data removed]",
      "text/plain": [
       "Plot with title \"Forecasts from ETS(M,A,N)\""
      ]
     },
     "metadata": {
      "image/png": {
       "height": 420,
       "width": 420
      }
     },
     "output_type": "display_data"
    }
   ],
   "source": [
    "plot(ausair_ets_fore)\n",
    "lines(ausair_ets_fore$fitted, col='red')\n",
    "lines(ausair_ets_fore$mean,type='o')"
   ]
  },
  {
   "cell_type": "markdown",
   "metadata": {},
   "source": [
    "3. ausair 데이터의 holt선형추세법과 ETS모형 비교 후 적합모델 선정\n",
    "    - RMSE값으로 비교"
   ]
  },
  {
   "cell_type": "code",
   "execution_count": 152,
   "metadata": {
    "scrolled": false
   },
   "outputs": [
    {
     "name": "stdout",
     "output_type": "stream",
     "text": [
      "\n",
      "Forecast method: Holt's method\n",
      "\n",
      "Model Information:\n",
      "Holt's method \n",
      "\n",
      "Call:\n",
      " holt(y = ausair_data, h = 12) \n",
      "\n",
      "  Smoothing parameters:\n",
      "    alpha = 0.8302 \n",
      "    beta  = 1e-04 \n",
      "\n",
      "  Initial states:\n",
      "    l = 15.5715 \n",
      "    b = 2.1017 \n",
      "\n",
      "  sigma:  2.3645\n",
      "\n",
      "     AIC     AICc      BIC \n",
      "141.1291 143.9863 147.6083 \n",
      "\n",
      "Error measures:\n",
      "                      ME     RMSE     MAE        MPE     MAPE      MASE\n",
      "Training set 0.008359331 2.182343 1.52892 -0.3244107 3.820787 0.6654839\n",
      "                    ACF1\n",
      "Training set -0.01335362\n",
      "\n",
      "Forecasts:\n",
      "     Point Forecast    Lo 80     Hi 80    Lo 95     Hi 95\n",
      "2017       74.60130 71.57106  77.63154 69.96695  79.23566\n",
      "2018       76.70304 72.76440  80.64169 70.67941  82.72668\n",
      "2019       78.80478 74.13092  83.47864 71.65673  85.95284\n",
      "2020       80.90652 75.59817  86.21487 72.78810  89.02494\n",
      "2021       83.00826 77.13343  88.88310 74.02348  91.99305\n",
      "2022       85.11000 78.71857  91.50143 75.33516  94.88485\n",
      "2023       87.21174 80.34235  94.08113 76.70591  97.71757\n",
      "2024       89.31348 81.99718  96.62978 78.12417 100.50280\n",
      "2025       91.41522 83.67768  99.15276 79.58168 103.24876\n",
      "2026       93.51696 85.37987 101.65405 81.07236 105.96157\n",
      "2027       95.61870 87.10069 104.13671 82.59153 108.64587\n",
      "2028       97.72044 88.83774 106.60314 84.13553 111.30535\n",
      "\n",
      "Forecast method: ETS(M,A,N)\n",
      "\n",
      "Model Information:\n",
      "ETS(M,A,N) \n",
      "\n",
      "Call:\n",
      " ets(y = ausair_data) \n",
      "\n",
      "  Smoothing parameters:\n",
      "    alpha = 0.8356 \n",
      "    beta  = 1e-04 \n",
      "\n",
      "  Initial states:\n",
      "    l = 16.1057 \n",
      "    b = 2.0994 \n",
      "\n",
      "  sigma:  0.0571\n",
      "\n",
      "     AIC     AICc      BIC \n",
      "139.5747 142.4319 146.0539 \n",
      "\n",
      "Error measures:\n",
      "                      ME     RMSE      MAE        MPE     MAPE      MASE\n",
      "Training set -0.01242452 2.182641 1.541071 -0.4451094 3.904974 0.6707726\n",
      "                    ACF1\n",
      "Training set -0.02819235\n",
      "\n",
      "Forecasts:\n",
      "     Point Forecast    Lo 80     Hi 80    Lo 95     Hi 95\n",
      "2017       74.60050 69.14415  80.05686 66.25572  82.94529\n",
      "2018       76.69984 69.46579  83.93389 65.63632  87.76336\n",
      "2019       78.79918 70.07099  87.52736 65.45057  92.14779\n",
      "2020       80.89851 70.83087  90.96615 65.50139  96.29564\n",
      "2021       82.99785 71.68873  94.30696 65.70205 100.29365\n",
      "2022       85.09719 72.61385  97.58053 66.00557 104.18881\n",
      "2023       87.19652 73.58745 100.80559 66.38324 108.00980\n",
      "2024       89.29586 74.59716 103.99456 66.81613 111.77558\n",
      "2025       91.39519 75.63431 107.15608 67.29101 115.49938\n",
      "2026       93.49453 76.69262 110.29644 67.79823 119.19083\n",
      "2027       95.59387 77.76734 113.42039 68.33055 122.85719\n",
      "2028       97.69320 78.85482 116.53159 68.88238 126.50403\n"
     ]
    }
   ],
   "source": [
    "summary(ausair_holt)\n",
    "summary(ausair_ets_fore)\n",
    "\n",
    "# holt선형추세 모델이 RMSE값이 조금 더 낮으므로 해당 모델이 최적합"
   ]
  },
  {
   "cell_type": "markdown",
   "metadata": {},
   "source": [
    "## austourists 데이터\n",
    "\n",
    "1. austourists 데이터 홀트-윈터스 모형"
   ]
  },
  {
   "cell_type": "code",
   "execution_count": 57,
   "metadata": {},
   "outputs": [
    {
     "data": {
      "text/html": [
       "<table>\n",
       "<caption>A Time Series: 11 × 4</caption>\n",
       "<thead>\n",
       "\t<tr><th></th><th scope=col>Qtr1</th><th scope=col>Qtr2</th><th scope=col>Qtr3</th><th scope=col>Qtr4</th></tr>\n",
       "</thead>\n",
       "<tbody>\n",
       "\t<tr><th scope=row>2005</th><td>42.20566</td><td>24.64917</td><td>32.66734</td><td>37.25735</td></tr>\n",
       "\t<tr><th scope=row>2006</th><td>45.24246</td><td>29.35048</td><td>36.34421</td><td>41.78208</td></tr>\n",
       "\t<tr><th scope=row>2007</th><td>49.27660</td><td>31.27540</td><td>37.85063</td><td>38.83704</td></tr>\n",
       "\t<tr><th scope=row>2008</th><td>51.23690</td><td>31.83855</td><td>41.32342</td><td>42.79900</td></tr>\n",
       "\t<tr><th scope=row>2009</th><td>55.70836</td><td>33.40714</td><td>42.31664</td><td>45.15712</td></tr>\n",
       "\t<tr><th scope=row>2010</th><td>59.57608</td><td>34.83733</td><td>44.84168</td><td>46.97125</td></tr>\n",
       "\t<tr><th scope=row>2011</th><td>60.01903</td><td>38.37118</td><td>46.97586</td><td>50.73380</td></tr>\n",
       "\t<tr><th scope=row>2012</th><td>61.64687</td><td>39.29957</td><td>52.67121</td><td>54.33232</td></tr>\n",
       "\t<tr><th scope=row>2013</th><td>66.83436</td><td>40.87119</td><td>51.82854</td><td>57.49191</td></tr>\n",
       "\t<tr><th scope=row>2014</th><td>65.25147</td><td>43.06121</td><td>54.76076</td><td>59.83447</td></tr>\n",
       "\t<tr><th scope=row>2015</th><td>73.25703</td><td>47.69662</td><td>61.09777</td><td>66.05576</td></tr>\n",
       "</tbody>\n",
       "</table>\n"
      ],
      "text/latex": [
       "A Time Series: 11 × 4\n",
       "\\begin{tabular}{r|llll}\n",
       "  & Qtr1 & Qtr2 & Qtr3 & Qtr4\\\\\n",
       "\\hline\n",
       "\t2005 & 42.20566 & 24.64917 & 32.66734 & 37.25735\\\\\n",
       "\t2006 & 45.24246 & 29.35048 & 36.34421 & 41.78208\\\\\n",
       "\t2007 & 49.27660 & 31.27540 & 37.85063 & 38.83704\\\\\n",
       "\t2008 & 51.23690 & 31.83855 & 41.32342 & 42.79900\\\\\n",
       "\t2009 & 55.70836 & 33.40714 & 42.31664 & 45.15712\\\\\n",
       "\t2010 & 59.57608 & 34.83733 & 44.84168 & 46.97125\\\\\n",
       "\t2011 & 60.01903 & 38.37118 & 46.97586 & 50.73380\\\\\n",
       "\t2012 & 61.64687 & 39.29957 & 52.67121 & 54.33232\\\\\n",
       "\t2013 & 66.83436 & 40.87119 & 51.82854 & 57.49191\\\\\n",
       "\t2014 & 65.25147 & 43.06121 & 54.76076 & 59.83447\\\\\n",
       "\t2015 & 73.25703 & 47.69662 & 61.09777 & 66.05576\\\\\n",
       "\\end{tabular}\n"
      ],
      "text/markdown": [
       "\n",
       "A Time Series: 11 × 4\n",
       "\n",
       "| <!--/--> | Qtr1 | Qtr2 | Qtr3 | Qtr4 |\n",
       "|---|---|---|---|---|\n",
       "| 2005 | 42.20566 | 24.64917 | 32.66734 | 37.25735 |\n",
       "| 2006 | 45.24246 | 29.35048 | 36.34421 | 41.78208 |\n",
       "| 2007 | 49.27660 | 31.27540 | 37.85063 | 38.83704 |\n",
       "| 2008 | 51.23690 | 31.83855 | 41.32342 | 42.79900 |\n",
       "| 2009 | 55.70836 | 33.40714 | 42.31664 | 45.15712 |\n",
       "| 2010 | 59.57608 | 34.83733 | 44.84168 | 46.97125 |\n",
       "| 2011 | 60.01903 | 38.37118 | 46.97586 | 50.73380 |\n",
       "| 2012 | 61.64687 | 39.29957 | 52.67121 | 54.33232 |\n",
       "| 2013 | 66.83436 | 40.87119 | 51.82854 | 57.49191 |\n",
       "| 2014 | 65.25147 | 43.06121 | 54.76076 | 59.83447 |\n",
       "| 2015 | 73.25703 | 47.69662 | 61.09777 | 66.05576 |\n",
       "\n"
      ],
      "text/plain": [
       "     Qtr1     Qtr2     Qtr3     Qtr4    \n",
       "2005 42.20566 24.64917 32.66734 37.25735\n",
       "2006 45.24246 29.35048 36.34421 41.78208\n",
       "2007 49.27660 31.27540 37.85063 38.83704\n",
       "2008 51.23690 31.83855 41.32342 42.79900\n",
       "2009 55.70836 33.40714 42.31664 45.15712\n",
       "2010 59.57608 34.83733 44.84168 46.97125\n",
       "2011 60.01903 38.37118 46.97586 50.73380\n",
       "2012 61.64687 39.29957 52.67121 54.33232\n",
       "2013 66.83436 40.87119 51.82854 57.49191\n",
       "2014 65.25147 43.06121 54.76076 59.83447\n",
       "2015 73.25703 47.69662 61.09777 66.05576"
      ]
     },
     "metadata": {},
     "output_type": "display_data"
    }
   ],
   "source": [
    "austo_data<-window(austourists,start=2005)\n",
    "austo_data"
   ]
  },
  {
   "cell_type": "code",
   "execution_count": 62,
   "metadata": {},
   "outputs": [
    {
     "data": {
      "image/png": "[encoded data removed]",
      "text/plain": [
       "plot without title"
      ]
     },
     "metadata": {
      "image/png": {
       "height": 420,
       "width": 420
      }
     },
     "output_type": "display_data"
    }
   ],
   "source": [
    "# 증가추세 \n",
    "plot(austo_data)"
   ]
  },
  {
   "cell_type": "code",
   "execution_count": 153,
   "metadata": {
    "scrolled": false
   },
   "outputs": [
    {
     "name": "stdout",
     "output_type": "stream",
     "text": [
      "\n",
      "Forecast method: Holt-Winters' multiplicative method\n",
      "\n",
      "Model Information:\n",
      "Holt-Winters' multiplicative method \n",
      "\n",
      "Call:\n",
      " hw(y = austo_data, h = 12, seasonal = \"multiplicative\") \n",
      "\n",
      "  Smoothing parameters:\n",
      "    alpha = 0.4406 \n",
      "    beta  = 0.0134 \n",
      "    gamma = 0.0023 \n",
      "\n",
      "  Initial states:\n",
      "    l = 32.4875 \n",
      "    b = 0.6974 \n",
      "    s = 1.0237 0.9618 0.7704 1.2442\n",
      "\n",
      "  sigma:  0.0367\n",
      "\n",
      "     AIC     AICc      BIC \n",
      "221.1313 226.4254 237.1890 \n",
      "\n",
      "Error measures:\n",
      "                     ME     RMSE     MAE           MPE    MAPE      MASE\n",
      "Training set 0.09206228 1.575631 1.25496 -0.0006505533 2.70539 0.4112302\n",
      "                    ACF1\n",
      "Training set -0.07955726\n",
      "\n",
      "Forecasts:\n",
      "        Point Forecast    Lo 80    Hi 80    Lo 95    Hi 95\n",
      "2016 Q1       80.08894 76.31865 83.85922 74.32278 85.85509\n",
      "2016 Q2       50.15482 47.56655 52.74309 46.19640 54.11324\n",
      "2016 Q3       63.34322 59.80143 66.88502 57.92652 68.75993\n",
      "2016 Q4       68.17810 64.08399 72.27221 61.91670 74.43950\n",
      "2017 Q1       83.80112 78.43079 89.17146 75.58790 92.01434\n",
      "2017 Q2       52.45291 48.88795 56.01787 47.00077 57.90504\n",
      "2017 Q3       66.21274 61.46194 70.96353 58.94702 73.47845\n",
      "2017 Q4       71.23205 65.85721 76.60690 63.01194 79.45217\n",
      "2018 Q1       87.51333 80.58898 94.43768 76.92345 98.10321\n",
      "2018 Q2       54.75101 50.22320 59.27882 47.82632 61.67570\n",
      "2018 Q3       69.08226 63.12592 75.03861 59.97282 78.19171\n",
      "2018 Q4       74.28602 67.62270 80.94935 64.09534 84.47670\n",
      "\n",
      "Forecast method: Holt-Winters' additive method\n",
      "\n",
      "Model Information:\n",
      "Holt-Winters' additive method \n",
      "\n",
      "Call:\n",
      " hw(y = austo_data, h = 12, seasonal = \"additive\") \n",
      "\n",
      "  Smoothing parameters:\n",
      "    alpha = 0.3063 \n",
      "    beta  = 1e-04 \n",
      "    gamma = 0.4263 \n",
      "\n",
      "  Initial states:\n",
      "    l = 32.2597 \n",
      "    b = 0.7014 \n",
      "    s = 1.3106 -1.6935 -9.3132 9.6962\n",
      "\n",
      "  sigma:  1.9494\n",
      "\n",
      "     AIC     AICc      BIC \n",
      "234.4171 239.7112 250.4748 \n",
      "\n",
      "Error measures:\n",
      "                      ME     RMSE      MAE        MPE     MAPE      MASE\n",
      "Training set 0.008115785 1.763305 1.374062 -0.2860248 2.973922 0.4502579\n",
      "                    ACF1\n",
      "Training set -0.06272507\n",
      "\n",
      "Forecasts:\n",
      "        Point Forecast    Lo 80    Hi 80    Lo 95    Hi 95\n",
      "2016 Q1       76.09837 73.60011 78.59664 72.27761 79.91914\n",
      "2016 Q2       51.60333 48.99039 54.21626 47.60718 55.59947\n",
      "2016 Q3       63.96867 61.24582 66.69153 59.80443 68.13292\n",
      "2016 Q4       68.37170 65.54313 71.20027 64.04578 72.69762\n",
      "2017 Q1       78.90404 75.53440 82.27369 73.75061 84.05747\n",
      "2017 Q2       54.40899 50.95325 57.86473 49.12389 59.69409\n",
      "2017 Q3       66.77434 63.23454 70.31414 61.36069 72.18799\n",
      "2017 Q4       71.17737 67.55541 74.79933 65.63806 76.71667\n",
      "2018 Q1       81.70971 77.65065 85.76877 75.50192 87.91750\n",
      "2018 Q2       57.21466 53.08367 61.34566 50.89685 63.53247\n",
      "2018 Q3       69.58001 65.37826 73.78175 63.15399 76.00602\n",
      "2018 Q4       73.98304 69.71167 78.25441 67.45054 80.51553\n"
     ]
    }
   ],
   "source": [
    "# 증가추세 => holt-winters모형에서 승법적 모형 선택!\n",
    "# 가법적 모형도 시험삼아 비교해보기\n",
    "# 연도별 데이터는 홀트윈터스 적용안됨!\n",
    "\n",
    "# 승법모형 -> 예상되로 승법모형이 RMSE값이 더 작음!\n",
    "austo_hw_m<-hw(austo_data, seasonal = 'multiplicative', h = 12)\n",
    "summary(austo_hw_m)\n",
    "# 가법모형\n",
    "austo_hw_a<-hw(austo_data, seasonal = 'additive', h = 12)\n",
    "summary(austo_hw_a)\n"
   ]
  },
  {
   "cell_type": "code",
   "execution_count": 154,
   "metadata": {},
   "outputs": [
    {
     "data": {
      "text/html": [
       "<style>\n",
       ".list-inline {list-style: none; margin:0; padding: 0}\n",
       ".list-inline>li {display: inline-block}\n",
       ".list-inline>li:not(:last-child)::after {content: \"\\00b7\"; padding: 0 .5ex}\n",
       "</style>\n",
       "<ol class=list-inline><li>'model'</li><li>'mean'</li><li>'level'</li><li>'x'</li><li>'upper'</li><li>'lower'</li><li>'fitted'</li><li>'method'</li><li>'series'</li><li>'residuals'</li></ol>\n"
      ],
      "text/latex": [
       "\\begin{enumerate*}\n",
       "\\item 'model'\n",
       "\\item 'mean'\n",
       "\\item 'level'\n",
       "\\item 'x'\n",
       "\\item 'upper'\n",
       "\\item 'lower'\n",
       "\\item 'fitted'\n",
       "\\item 'method'\n",
       "\\item 'series'\n",
       "\\item 'residuals'\n",
       "\\end{enumerate*}\n"
      ],
      "text/markdown": [
       "1. 'model'\n",
       "2. 'mean'\n",
       "3. 'level'\n",
       "4. 'x'\n",
       "5. 'upper'\n",
       "6. 'lower'\n",
       "7. 'fitted'\n",
       "8. 'method'\n",
       "9. 'series'\n",
       "10. 'residuals'\n",
       "\n",
       "\n"
      ],
      "text/plain": [
       " [1] \"model\"     \"mean\"      \"level\"     \"x\"         \"upper\"     \"lower\"    \n",
       " [7] \"fitted\"    \"method\"    \"series\"    \"residuals\""
      ]
     },
     "metadata": {},
     "output_type": "display_data"
    },
    {
     "data": {
      "image/png": "[encoded data removed]",
      "text/plain": [
       "Plot with title \"Forecasts from Holt-Winters' multiplicative method\""
      ]
     },
     "metadata": {
      "image/png": {
       "height": 420,
       "width": 420
      }
     },
     "output_type": "display_data"
    }
   ],
   "source": [
    "# 홀트윈터스모형 변수명 보기\n",
    "names(austo_hw_m)\n",
    "# 홀트윈터스모형 시각화\n",
    "plot(austo_hw_m)\n",
    "lines(austo_hw_m$fitted, col='red')\n",
    "lines(austo_hw_m$mean, col='green', type='o')"
   ]
  },
  {
   "cell_type": "markdown",
   "metadata": {},
   "source": [
    "2. austourists 데이터 ETS모형"
   ]
  },
  {
   "cell_type": "code",
   "execution_count": 155,
   "metadata": {
    "scrolled": false
   },
   "outputs": [
    {
     "name": "stdout",
     "output_type": "stream",
     "text": [
      "ETS(M,N,M) \n",
      "\n",
      "Call:\n",
      " ets(y = austo_data, model = \"MNM\") \n",
      "\n",
      "  Smoothing parameters:\n",
      "    alpha = 0.5025 \n",
      "    gamma = 1e-04 \n",
      "\n",
      "  Initial states:\n",
      "    l = 39.6108 \n",
      "    s = 1.0272 0.9644 0.7706 1.2378\n",
      "\n",
      "  sigma:  0.056\n",
      "\n",
      "     AIC     AICc      BIC \n",
      "254.8646 257.9757 267.3539 \n",
      "\n",
      "Training set error measures:\n",
      "                   ME     RMSE      MAE     MPE     MAPE      MASE      ACF1\n",
      "Training set 1.072687 2.385182 1.864622 1.89411 4.016307 0.6110066 0.1417157\n",
      "ETS(M,A,M) \n",
      "\n",
      "Call:\n",
      " ets(y = austo_data, model = \"MAM\") \n",
      "\n",
      "  Smoothing parameters:\n",
      "    alpha = 0.1908 \n",
      "    beta  = 0.0392 \n",
      "    gamma = 2e-04 \n",
      "\n",
      "  Initial states:\n",
      "    l = 32.3679 \n",
      "    b = 0.9281 \n",
      "    s = 1.0218 0.9628 0.7683 1.2471\n",
      "\n",
      "  sigma:  0.0383\n",
      "\n",
      "     AIC     AICc      BIC \n",
      "224.8628 230.1569 240.9205 \n",
      "\n",
      "Training set error measures:\n",
      "                     ME     RMSE     MAE        MPE     MAPE     MASE      ACF1\n",
      "Training set 0.04836907 1.670893 1.24954 -0.1845609 2.692849 0.409454 0.2005962\n"
     ]
    }
   ],
   "source": [
    "# 증가추세 -> 승법 error\n",
    "# Trend는 N,A 둘다 경우의 수 해보고 RMSE값 낮은걸로 채택\n",
    "# seasonal은 승법으로\n",
    "\n",
    "# trend가 N일 때\n",
    "austo_ets1<-ets(austo_data, model='MNM')\n",
    "summary(austo_ets1)\n",
    "\n",
    "# trend가 A일 때 => RMSE값이 낮다! 이걸로 채택!\n",
    "austo_ets2<-ets(austo_data, model='MAM')\n",
    "summary(austo_ets2)"
   ]
  },
  {
   "cell_type": "code",
   "execution_count": 157,
   "metadata": {},
   "outputs": [
    {
     "data": {
      "text/plain": [
       "        Point Forecast    Lo 80    Hi 80    Lo 95    Hi 95\n",
       "2016 Q1       78.99701 75.12395 82.87007 73.07368 84.92034\n",
       "2016 Q2       49.45352 46.96750 51.93955 45.65148 53.25557\n",
       "2016 Q3       62.96068 59.69471 66.22665 57.96581 67.95555\n",
       "2016 Q4       67.86576 64.21150 71.52002 62.27705 73.45447\n",
       "2017 Q1       84.09844 79.37334 88.82353 76.87203 91.32484\n",
       "2017 Q2       52.59637 49.49981 55.69293 47.86059 57.33214\n",
       "2017 Q3       66.89935 62.75862 71.04007 60.56666 73.23204\n",
       "2017 Q4       72.04590 67.34675 76.74505 64.85917 79.23263\n",
       "2018 Q1       89.19987 83.05929 95.34044 79.80867 98.59106\n",
       "2018 Q2       55.73921 51.68629 59.79214 49.54080 61.93762\n",
       "2018 Q3       70.83802 65.39636 76.27968 62.51572 79.16032\n",
       "2018 Q4       76.22604 70.04134 82.41075 66.76736 85.68473"
      ]
     },
     "metadata": {},
     "output_type": "display_data"
    }
   ],
   "source": [
    "# ets모형으로 미래값 예측\n",
    "austo_ets2_fore<-forecast(austo_ets2, h=12)\n",
    "austo_ets2_fore"
   ]
  },
  {
   "cell_type": "code",
   "execution_count": 159,
   "metadata": {},
   "outputs": [
    {
     "data": {
      "image/png": "[encoded data removed]",
      "text/plain": [
       "Plot with title \"Forecasts from ETS(M,A,M)\""
      ]
     },
     "metadata": {
      "image/png": {
       "height": 420,
       "width": 420
      }
     },
     "output_type": "display_data"
    }
   ],
   "source": [
    "# ets모형 시각화\n",
    "plot(austo_ets2_fore)\n",
    "lines(austo_ets2_fore$fitted, col='red')\n",
    "lines(austo_ets2_fore$mean, col='green', type='o')"
   ]
  },
  {
   "cell_type": "markdown",
   "metadata": {},
   "source": [
    "3. austourists데이터 홀트-윈터스 모형과 ETS모형 비교"
   ]
  },
  {
   "cell_type": "code",
   "execution_count": 160,
   "metadata": {
    "scrolled": true
   },
   "outputs": [
    {
     "name": "stdout",
     "output_type": "stream",
     "text": [
      "\n",
      "Forecast method: Holt-Winters' multiplicative method\n",
      "\n",
      "Model Information:\n",
      "Holt-Winters' multiplicative method \n",
      "\n",
      "Call:\n",
      " hw(y = austo_data, h = 12, seasonal = \"multiplicative\") \n",
      "\n",
      "  Smoothing parameters:\n",
      "    alpha = 0.4406 \n",
      "    beta  = 0.0134 \n",
      "    gamma = 0.0023 \n",
      "\n",
      "  Initial states:\n",
      "    l = 32.4875 \n",
      "    b = 0.6974 \n",
      "    s = 1.0237 0.9618 0.7704 1.2442\n",
      "\n",
      "  sigma:  0.0367\n",
      "\n",
      "     AIC     AICc      BIC \n",
      "221.1313 226.4254 237.1890 \n",
      "\n",
      "Error measures:\n",
      "                     ME     RMSE     MAE           MPE    MAPE      MASE\n",
      "Training set 0.09206228 1.575631 1.25496 -0.0006505533 2.70539 0.4112302\n",
      "                    ACF1\n",
      "Training set -0.07955726\n",
      "\n",
      "Forecasts:\n",
      "        Point Forecast    Lo 80    Hi 80    Lo 95    Hi 95\n",
      "2016 Q1       80.08894 76.31865 83.85922 74.32278 85.85509\n",
      "2016 Q2       50.15482 47.56655 52.74309 46.19640 54.11324\n",
      "2016 Q3       63.34322 59.80143 66.88502 57.92652 68.75993\n",
      "2016 Q4       68.17810 64.08399 72.27221 61.91670 74.43950\n",
      "2017 Q1       83.80112 78.43079 89.17146 75.58790 92.01434\n",
      "2017 Q2       52.45291 48.88795 56.01787 47.00077 57.90504\n",
      "2017 Q3       66.21274 61.46194 70.96353 58.94702 73.47845\n",
      "2017 Q4       71.23205 65.85721 76.60690 63.01194 79.45217\n",
      "2018 Q1       87.51333 80.58898 94.43768 76.92345 98.10321\n",
      "2018 Q2       54.75101 50.22320 59.27882 47.82632 61.67570\n",
      "2018 Q3       69.08226 63.12592 75.03861 59.97282 78.19171\n",
      "2018 Q4       74.28602 67.62270 80.94935 64.09534 84.47670\n",
      "\n",
      "Forecast method: ETS(M,A,M)\n",
      "\n",
      "Model Information:\n",
      "ETS(M,A,M) \n",
      "\n",
      "Call:\n",
      " ets(y = austo_data, model = \"MAM\") \n",
      "\n",
      "  Smoothing parameters:\n",
      "    alpha = 0.1908 \n",
      "    beta  = 0.0392 \n",
      "    gamma = 2e-04 \n",
      "\n",
      "  Initial states:\n",
      "    l = 32.3679 \n",
      "    b = 0.9281 \n",
      "    s = 1.0218 0.9628 0.7683 1.2471\n",
      "\n",
      "  sigma:  0.0383\n",
      "\n",
      "     AIC     AICc      BIC \n",
      "224.8628 230.1569 240.9205 \n",
      "\n",
      "Error measures:\n",
      "                     ME     RMSE     MAE        MPE     MAPE     MASE      ACF1\n",
      "Training set 0.04836907 1.670893 1.24954 -0.1845609 2.692849 0.409454 0.2005962\n",
      "\n",
      "Forecasts:\n",
      "        Point Forecast    Lo 80    Hi 80    Lo 95    Hi 95\n",
      "2016 Q1       78.99701 75.12395 82.87007 73.07368 84.92034\n",
      "2016 Q2       49.45352 46.96750 51.93955 45.65148 53.25557\n",
      "2016 Q3       62.96068 59.69471 66.22665 57.96581 67.95555\n",
      "2016 Q4       67.86576 64.21150 71.52002 62.27705 73.45447\n",
      "2017 Q1       84.09844 79.37334 88.82353 76.87203 91.32484\n",
      "2017 Q2       52.59637 49.49981 55.69293 47.86059 57.33214\n",
      "2017 Q3       66.89935 62.75862 71.04007 60.56666 73.23204\n",
      "2017 Q4       72.04590 67.34675 76.74505 64.85917 79.23263\n",
      "2018 Q1       89.19987 83.05929 95.34044 79.80867 98.59106\n",
      "2018 Q2       55.73921 51.68629 59.79214 49.54080 61.93762\n",
      "2018 Q3       70.83802 65.39636 76.27968 62.51572 79.16032\n",
      "2018 Q4       76.22604 70.04134 82.41075 66.76736 85.68473\n"
     ]
    }
   ],
   "source": [
    "summary(austo_hw_m)\n",
    "summary(austo_ets2_fore)\n",
    "\n",
    "\n",
    "# 홀트-윈터스의 승법모형을 적용한 모델이 RMSE값이 더 낮다! 그러므로 해당 모델 채택!"
   ]
  },
  {
   "cell_type": "markdown",
   "metadata": {},
   "source": [
    "# D.I.Y 2\n",
    "\n",
    "1. oil 데이터 단순지수평활법 vs ETS모델\n",
    "    * 적합한 ETS모델은 D.I.Y 1에서 했던 결과값에 의해 선정\n",
    "    * model='ANN' 선택"
   ]
  },
  {
   "cell_type": "code",
   "execution_count": 5,
   "metadata": {},
   "outputs": [
    {
     "data": {
      "text/html": [
       "<table>\n",
       "<caption>A matrix: 2 × 8 of type dbl</caption>\n",
       "<thead>\n",
       "\t<tr><th></th><th scope=col>ME</th><th scope=col>RMSE</th><th scope=col>MAE</th><th scope=col>MPE</th><th scope=col>MAPE</th><th scope=col>MASE</th><th scope=col>ACF1</th><th scope=col>Theil's U</th></tr>\n",
       "</thead>\n",
       "<tbody>\n",
       "\t<tr><th scope=row>Training set</th><td> 8.513001</td><td>56.56321</td><td>42.74775</td><td>1.237038</td><td>13.114133</td><td>0.9677709</td><td>0.1888919</td><td>      NA</td></tr>\n",
       "\t<tr><th scope=row>Test set</th><td>38.571081</td><td>53.03398</td><td>45.72286</td><td>7.279514</td><td> 8.941984</td><td>1.0351246</td><td>0.4988118</td><td>1.605385</td></tr>\n",
       "</tbody>\n",
       "</table>\n"
      ],
      "text/latex": [
       "A matrix: 2 × 8 of type dbl\n",
       "\\begin{tabular}{r|llllllll}\n",
       "  & ME & RMSE & MAE & MPE & MAPE & MASE & ACF1 & Theil's U\\\\\n",
       "\\hline\n",
       "\tTraining set &  8.513001 & 56.56321 & 42.74775 & 1.237038 & 13.114133 & 0.9677709 & 0.1888919 &       NA\\\\\n",
       "\tTest set & 38.571081 & 53.03398 & 45.72286 & 7.279514 &  8.941984 & 1.0351246 & 0.4988118 & 1.605385\\\\\n",
       "\\end{tabular}\n"
      ],
      "text/markdown": [
       "\n",
       "A matrix: 2 × 8 of type dbl\n",
       "\n",
       "| <!--/--> | ME | RMSE | MAE | MPE | MAPE | MASE | ACF1 | Theil's U |\n",
       "|---|---|---|---|---|---|---|---|---|\n",
       "| Training set |  8.513001 | 56.56321 | 42.74775 | 1.237038 | 13.114133 | 0.9677709 | 0.1888919 |       NA |\n",
       "| Test set | 38.571081 | 53.03398 | 45.72286 | 7.279514 |  8.941984 | 1.0351246 | 0.4988118 | 1.605385 |\n",
       "\n"
      ],
      "text/plain": [
       "             ME        RMSE     MAE      MPE      MAPE      MASE      ACF1     \n",
       "Training set  8.513001 56.56321 42.74775 1.237038 13.114133 0.9677709 0.1888919\n",
       "Test set     38.571081 53.03398 45.72286 7.279514  8.941984 1.0351246 0.4988118\n",
       "             Theil's U\n",
       "Training set       NA \n",
       "Test set     1.605385 "
      ]
     },
     "metadata": {},
     "output_type": "display_data"
    },
    {
     "data": {
      "text/html": [
       "<table>\n",
       "<caption>A matrix: 2 × 8 of type dbl</caption>\n",
       "<thead>\n",
       "\t<tr><th></th><th scope=col>ME</th><th scope=col>RMSE</th><th scope=col>MAE</th><th scope=col>MPE</th><th scope=col>MAPE</th><th scope=col>MASE</th><th scope=col>ACF1</th><th scope=col>Theil's U</th></tr>\n",
       "</thead>\n",
       "<tbody>\n",
       "\t<tr><th scope=row>Training set</th><td> 8.514241</td><td>56.56321</td><td>42.74899</td><td>1.237683</td><td>13.114778</td><td>0.967799</td><td>0.1889093</td><td>      NA</td></tr>\n",
       "\t<tr><th scope=row>Test set</th><td>38.571085</td><td>53.03399</td><td>45.72286</td><td>7.279515</td><td> 8.941984</td><td>1.035125</td><td>0.4988118</td><td>1.605385</td></tr>\n",
       "</tbody>\n",
       "</table>\n"
      ],
      "text/latex": [
       "A matrix: 2 × 8 of type dbl\n",
       "\\begin{tabular}{r|llllllll}\n",
       "  & ME & RMSE & MAE & MPE & MAPE & MASE & ACF1 & Theil's U\\\\\n",
       "\\hline\n",
       "\tTraining set &  8.514241 & 56.56321 & 42.74899 & 1.237683 & 13.114778 & 0.967799 & 0.1889093 &       NA\\\\\n",
       "\tTest set & 38.571085 & 53.03399 & 45.72286 & 7.279515 &  8.941984 & 1.035125 & 0.4988118 & 1.605385\\\\\n",
       "\\end{tabular}\n"
      ],
      "text/markdown": [
       "\n",
       "A matrix: 2 × 8 of type dbl\n",
       "\n",
       "| <!--/--> | ME | RMSE | MAE | MPE | MAPE | MASE | ACF1 | Theil's U |\n",
       "|---|---|---|---|---|---|---|---|---|\n",
       "| Training set |  8.514241 | 56.56321 | 42.74899 | 1.237683 | 13.114778 | 0.967799 | 0.1889093 |       NA |\n",
       "| Test set | 38.571085 | 53.03399 | 45.72286 | 7.279515 |  8.941984 | 1.035125 | 0.4988118 | 1.605385 |\n",
       "\n"
      ],
      "text/plain": [
       "             ME        RMSE     MAE      MPE      MAPE      MASE     ACF1     \n",
       "Training set  8.514241 56.56321 42.74899 1.237683 13.114778 0.967799 0.1889093\n",
       "Test set     38.571085 53.03399 45.72286 7.279515  8.941984 1.035125 0.4988118\n",
       "             Theil's U\n",
       "Training set       NA \n",
       "Test set     1.605385 "
      ]
     },
     "metadata": {},
     "output_type": "display_data"
    }
   ],
   "source": [
    "# 데이터 분할\n",
    "oil_train<-window(oil, start=1970, end=2000)\n",
    "oil_test<-window(oil, start=2001, end=2013)\n",
    "\n",
    "# 단순지수평활법 적용\n",
    "fit_ses<-ses(oil_train, initial='optimal', h=13)\n",
    "# ETS 모델 적용\n",
    "fit_ets<-ets(oil_train, model='ANN')\n",
    "\n",
    "# 두 모델의 예측값 할당(2000~2013년도까지 13개 미래값 예측)\n",
    "for_ses<-forecast(fit_ses, h=13)\n",
    "for_ets<-forecast(fit_ets, h=13)\n",
    "\n",
    "# test데이터와 예측값 비교해서 accuracy 측정\n",
    "accuracy(for_ses, oil_test)\n",
    "accuracy(for_ets, oil_test)"
   ]
  },
  {
   "cell_type": "code",
   "execution_count": 6,
   "metadata": {},
   "outputs": [
    {
     "data": {
      "text/plain": [
       "     Point Forecast    Lo 80    Hi 80     Lo 95    Hi 95\n",
       "2001       456.0338 381.0872 530.9804 341.41282 570.6547\n",
       "2002       456.0338 350.0486 562.0190 293.94338 618.1241\n",
       "2003       456.0338 326.2311 585.8364 257.51771 654.5498\n",
       "2004       456.0338 306.1518 605.9157 226.80909 685.2584\n",
       "2005       456.0338 288.4615 623.6060 199.75407 712.3134\n",
       "2006       456.0338 272.4681 639.5994 175.29436 736.7731\n",
       "2007       456.0338 257.7607 654.3068 152.80127 759.2662\n",
       "2008       456.0338 244.0713 667.9962 131.86518 780.2023\n",
       "2009       456.0338 231.2139 680.8536 112.20153 799.8660\n",
       "2010       456.0338 219.0531 693.0144  93.60317 818.4643\n",
       "2011       456.0338 207.4866 704.5809  75.91370 836.1538\n",
       "2012       456.0338 196.4349 715.6326  59.01161 853.0559\n",
       "2013       456.0338 185.8349 726.2326  42.80027 869.2672"
      ]
     },
     "metadata": {},
     "output_type": "display_data"
    }
   ],
   "source": [
    "# 똑같은 값으로 예측이 되는게 정상인가..?;;\n",
    "for_ses "
   ]
  },
  {
   "cell_type": "code",
   "execution_count": 7,
   "metadata": {},
   "outputs": [
    {
     "data": {
      "image/png": "[encoded data removed]",
      "text/plain": [
       "plot without title"
      ]
     },
     "metadata": {
      "image/png": {
       "height": 420,
       "width": 420
      }
     },
     "output_type": "display_data"
    }
   ],
   "source": [
    "# 모형의 미래 예측값 시뮬레이션 돌리기\n",
    "# 시뮬레이션을 돌리기 위해서는 errors항이 존재해야 하는데 ses(단순지수평활법)은 errors항이 없음!\n",
    "plot(oil_train, xlim=c(1970,2013))\n",
    "for (i in 1:5){\n",
    "        lines(simulate(fit_ets,13), col='red')\n",
    "}\n",
    "lines(oil_test, xlim=c(1970,2013), col='blue', type='o')\n",
    "# test데이터의 실제 미래데이터와 비교"
   ]
  },
  {
   "cell_type": "code",
   "execution_count": 8,
   "metadata": {},
   "outputs": [
    {
     "data": {
      "image/png": "[encoded data removed]",
      "text/plain": [
       "plot without title"
      ]
     },
     "metadata": {
      "image/png": {
       "height": 420,
       "width": 420
      }
     },
     "output_type": "display_data"
    }
   ],
   "source": [
    "plot(oil_train, xlim=c(1970,2013))\n",
    "for (i in 1:500){\n",
    "        lines(simulate(fit_ets,13), col='red')\n",
    "}\n",
    "lines(oil_test, xlim=c(1970,2013), col='blue', type='o')\n",
    "# test데이터의 실제 미래데이터와 비교"
   ]
  },
  {
   "cell_type": "markdown",
   "metadata": {},
   "source": [
    "2. ausair 데이터 holt선형지수평활법 vs ETS모형\n",
    "    * ETS모형은 D.I.Y 1에 의해 RMSE값이 가장 낮은 'MAN'모델로 선택"
   ]
  },
  {
   "cell_type": "code",
   "execution_count": 9,
   "metadata": {},
   "outputs": [
    {
     "data": {
      "text/html": [
       "<table>\n",
       "<caption>A matrix: 2 × 8 of type dbl</caption>\n",
       "<thead>\n",
       "\t<tr><th></th><th scope=col>ME</th><th scope=col>RMSE</th><th scope=col>MAE</th><th scope=col>MPE</th><th scope=col>MAPE</th><th scope=col>MASE</th><th scope=col>ACF1</th><th scope=col>Theil's U</th></tr>\n",
       "</thead>\n",
       "<tbody>\n",
       "\t<tr><th scope=row>Training set</th><td>-0.006195664</td><td> 1.620146</td><td>1.118594</td><td>-1.591612</td><td> 5.584888</td><td>0.7440821</td><td>0.0473453</td><td>      NA</td></tr>\n",
       "\t<tr><th scope=row>Test set</th><td> 9.160555034</td><td>10.798358</td><td>9.160555</td><td>13.970665</td><td>13.970665</td><td>6.0935464</td><td>0.6998773</td><td>2.331433</td></tr>\n",
       "</tbody>\n",
       "</table>\n"
      ],
      "text/latex": [
       "A matrix: 2 × 8 of type dbl\n",
       "\\begin{tabular}{r|llllllll}\n",
       "  & ME & RMSE & MAE & MPE & MAPE & MASE & ACF1 & Theil's U\\\\\n",
       "\\hline\n",
       "\tTraining set & -0.006195664 &  1.620146 & 1.118594 & -1.591612 &  5.584888 & 0.7440821 & 0.0473453 &       NA\\\\\n",
       "\tTest set &  9.160555034 & 10.798358 & 9.160555 & 13.970665 & 13.970665 & 6.0935464 & 0.6998773 & 2.331433\\\\\n",
       "\\end{tabular}\n"
      ],
      "text/markdown": [
       "\n",
       "A matrix: 2 × 8 of type dbl\n",
       "\n",
       "| <!--/--> | ME | RMSE | MAE | MPE | MAPE | MASE | ACF1 | Theil's U |\n",
       "|---|---|---|---|---|---|---|---|---|\n",
       "| Training set | -0.006195664 |  1.620146 | 1.118594 | -1.591612 |  5.584888 | 0.7440821 | 0.0473453 |       NA |\n",
       "| Test set |  9.160555034 | 10.798358 | 9.160555 | 13.970665 | 13.970665 | 6.0935464 | 0.6998773 | 2.331433 |\n",
       "\n"
      ],
      "text/plain": [
       "             ME           RMSE      MAE      MPE       MAPE      MASE     \n",
       "Training set -0.006195664  1.620146 1.118594 -1.591612  5.584888 0.7440821\n",
       "Test set      9.160555034 10.798358 9.160555 13.970665 13.970665 6.0935464\n",
       "             ACF1      Theil's U\n",
       "Training set 0.0473453       NA \n",
       "Test set     0.6998773 2.331433 "
      ]
     },
     "metadata": {},
     "output_type": "display_data"
    },
    {
     "data": {
      "text/html": [
       "<table>\n",
       "<caption>A matrix: 2 × 8 of type dbl</caption>\n",
       "<thead>\n",
       "\t<tr><th></th><th scope=col>ME</th><th scope=col>RMSE</th><th scope=col>MAE</th><th scope=col>MPE</th><th scope=col>MAPE</th><th scope=col>MASE</th><th scope=col>ACF1</th><th scope=col>Theil's U</th></tr>\n",
       "</thead>\n",
       "<tbody>\n",
       "\t<tr><th scope=row>Training set</th><td> 0.3526798</td><td> 1.664772</td><td> 1.147784</td><td> 0.2435318</td><td> 5.407749</td><td>0.7634988</td><td>0.09926494</td><td>      NA</td></tr>\n",
       "\t<tr><th scope=row>Test set</th><td>11.3639448</td><td>13.205540</td><td>11.363945</td><td>17.4179517</td><td>17.417952</td><td>7.5592281</td><td>0.71593046</td><td>2.845232</td></tr>\n",
       "</tbody>\n",
       "</table>\n"
      ],
      "text/latex": [
       "A matrix: 2 × 8 of type dbl\n",
       "\\begin{tabular}{r|llllllll}\n",
       "  & ME & RMSE & MAE & MPE & MAPE & MASE & ACF1 & Theil's U\\\\\n",
       "\\hline\n",
       "\tTraining set &  0.3526798 &  1.664772 &  1.147784 &  0.2435318 &  5.407749 & 0.7634988 & 0.09926494 &       NA\\\\\n",
       "\tTest set & 11.3639448 & 13.205540 & 11.363945 & 17.4179517 & 17.417952 & 7.5592281 & 0.71593046 & 2.845232\\\\\n",
       "\\end{tabular}\n"
      ],
      "text/markdown": [
       "\n",
       "A matrix: 2 × 8 of type dbl\n",
       "\n",
       "| <!--/--> | ME | RMSE | MAE | MPE | MAPE | MASE | ACF1 | Theil's U |\n",
       "|---|---|---|---|---|---|---|---|---|\n",
       "| Training set |  0.3526798 |  1.664772 |  1.147784 |  0.2435318 |  5.407749 | 0.7634988 | 0.09926494 |       NA |\n",
       "| Test set | 11.3639448 | 13.205540 | 11.363945 | 17.4179517 | 17.417952 | 7.5592281 | 0.71593046 | 2.845232 |\n",
       "\n"
      ],
      "text/plain": [
       "             ME         RMSE      MAE       MPE        MAPE      MASE     \n",
       "Training set  0.3526798  1.664772  1.147784  0.2435318  5.407749 0.7634988\n",
       "Test set     11.3639448 13.205540 11.363945 17.4179517 17.417952 7.5592281\n",
       "             ACF1       Theil's U\n",
       "Training set 0.09926494       NA \n",
       "Test set     0.71593046 2.845232 "
      ]
     },
     "metadata": {},
     "output_type": "display_data"
    }
   ],
   "source": [
    "# 데이터 분할\n",
    "ausair_train<-window(ausair, start=1975, end=2005)\n",
    "ausair_test<-window(ausair, start=2006, end=2016)\n",
    "\n",
    "# holt선형지수 평활법 \n",
    "fit_holt<-holt(ausair_train, h=11)\n",
    "# ETS모형 \n",
    "fit_ets<-ets(ausair_train, model='MAN')\n",
    "\n",
    "# 미래값 예측\n",
    "for_holt<-forecast(fit_holt, h=11)\n",
    "for_ets<-forecast(fit_ets, h=11)\n",
    "\n",
    "# test데이터와 비교해 accuracy예측\n",
    "accuracy(for_holt, ausair_test)\n",
    "accuracy(for_ets, ausair_test)\n",
    "\n",
    "\n",
    "# 두 모델 train에 비해 test데이터의 RMSE값이 비교적 높았다.\n",
    "# 하지만 두 모델 간 train, test 데이터의 RMSER값들을 서로 비교해보면 holt선형추세법을 사용한 모형이 더 예측정확성이 높았다.\n",
    "# 따라서 해당 데이터에는 holt선형추세법이 미래의 값을 예측하는데 더 적합하다."
   ]
  },
  {
   "cell_type": "code",
   "execution_count": 13,
   "metadata": {},
   "outputs": [
    {
     "ename": "ERROR",
     "evalue": "Error in xy.coords(x, y): 'x' is a list, but does not have components 'x' and 'y'\n",
     "output_type": "error",
     "traceback": [
      "Error in xy.coords(x, y): 'x' is a list, but does not have components 'x' and 'y'\nTraceback:\n",
      "1. lines(for_holt, col = \"blue\", type = \"o\")",
      "2. lines.default(for_holt, col = \"blue\", type = \"o\")",
      "3. plot.xy(xy.coords(x, y), type = type, ...)",
      "4. xy.coords(x, y)",
      "5. stop(\"'x' is a list, but does not have components 'x' and 'y'\")"
     ]
    },
    {
     "data": {
      "image/png": "[encoded data removed]",
      "text/plain": [
       "plot without title"
      ]
     },
     "metadata": {
      "image/png": {
       "height": 420,
       "width": 420
      }
     },
     "output_type": "display_data"
    }
   ],
   "source": [
    "# 모형의 미래값 시뮬레이션 해보기\n",
    "# holt선형 추세평활법도 simulate 안 됌!\n",
    "# ETS모델 시뮬레이션 적용\n",
    "plot(ausair_train, xlim=c(1975,2016))\n",
    "for (i in 1:100){\n",
    "    lines(simulate(fit_ets, h=11), col='red')\n",
    "}\n",
    "lines(for_holt, col='blue', type='o')\n",
    "# 실제값 데이터가 그래프에 왜 안나타는건지.. 이전에는 됬었는데.."
   ]
  },
  {
   "cell_type": "markdown",
   "metadata": {},
   "source": [
    "3. austourists 데이터 홀트-윈터스모형 vs ETS모델 \n",
    "    * 홀트윈터스의 승법모형이 더 RMSE가 낮았으므로 승법모형으로 선정\n",
    "    * ETS모델은 'MAM'모델일 때 가장 RMSE가 낮았으므로 해당 모델 선정"
   ]
  },
  {
   "cell_type": "code",
   "execution_count": 10,
   "metadata": {},
   "outputs": [
    {
     "data": {
      "text/html": [
       "<table>\n",
       "<caption>A matrix: 2 × 8 of type dbl</caption>\n",
       "<thead>\n",
       "\t<tr><th></th><th scope=col>ME</th><th scope=col>RMSE</th><th scope=col>MAE</th><th scope=col>MPE</th><th scope=col>MAPE</th><th scope=col>MASE</th><th scope=col>ACF1</th><th scope=col>Theil's U</th></tr>\n",
       "</thead>\n",
       "<tbody>\n",
       "\t<tr><th scope=row>Training set</th><td>-0.04120561</td><td>2.145898</td><td>1.551358</td><td>-0.8266727</td><td>4.44042</td><td>0.5698674</td><td> 0.1093837</td><td>         NA</td></tr>\n",
       "\t<tr><th scope=row>Test set</th><td>-2.03028107</td><td>2.950530</td><td>2.140932</td><td>-3.0677789</td><td>3.32474</td><td>0.7864383</td><td>-0.5000000</td><td>0.004986454</td></tr>\n",
       "</tbody>\n",
       "</table>\n"
      ],
      "text/latex": [
       "A matrix: 2 × 8 of type dbl\n",
       "\\begin{tabular}{r|llllllll}\n",
       "  & ME & RMSE & MAE & MPE & MAPE & MASE & ACF1 & Theil's U\\\\\n",
       "\\hline\n",
       "\tTraining set & -0.04120561 & 2.145898 & 1.551358 & -0.8266727 & 4.44042 & 0.5698674 &  0.1093837 &          NA\\\\\n",
       "\tTest set & -2.03028107 & 2.950530 & 2.140932 & -3.0677789 & 3.32474 & 0.7864383 & -0.5000000 & 0.004986454\\\\\n",
       "\\end{tabular}\n"
      ],
      "text/markdown": [
       "\n",
       "A matrix: 2 × 8 of type dbl\n",
       "\n",
       "| <!--/--> | ME | RMSE | MAE | MPE | MAPE | MASE | ACF1 | Theil's U |\n",
       "|---|---|---|---|---|---|---|---|---|\n",
       "| Training set | -0.04120561 | 2.145898 | 1.551358 | -0.8266727 | 4.44042 | 0.5698674 |  0.1093837 |          NA |\n",
       "| Test set | -2.03028107 | 2.950530 | 2.140932 | -3.0677789 | 3.32474 | 0.7864383 | -0.5000000 | 0.004986454 |\n",
       "\n"
      ],
      "text/plain": [
       "             ME          RMSE     MAE      MPE        MAPE    MASE     \n",
       "Training set -0.04120561 2.145898 1.551358 -0.8266727 4.44042 0.5698674\n",
       "Test set     -2.03028107 2.950530 2.140932 -3.0677789 3.32474 0.7864383\n",
       "             ACF1       Theil's U  \n",
       "Training set  0.1093837          NA\n",
       "Test set     -0.5000000 0.004986454"
      ]
     },
     "metadata": {},
     "output_type": "display_data"
    },
    {
     "data": {
      "text/html": [
       "<table>\n",
       "<caption>A matrix: 2 × 8 of type dbl</caption>\n",
       "<thead>\n",
       "\t<tr><th></th><th scope=col>ME</th><th scope=col>RMSE</th><th scope=col>MAE</th><th scope=col>MPE</th><th scope=col>MAPE</th><th scope=col>MASE</th><th scope=col>ACF1</th><th scope=col>Theil's U</th></tr>\n",
       "</thead>\n",
       "<tbody>\n",
       "\t<tr><th scope=row>Training set</th><td> 0.01600417</td><td>2.248029</td><td>1.694974</td><td>-0.7700315</td><td>4.824783</td><td>0.6226225</td><td> 0.04017263</td><td>        NA</td></tr>\n",
       "\t<tr><th scope=row>Test set</th><td>-1.55896196</td><td>1.804448</td><td>1.558962</td><td>-2.6459442</td><td>2.645944</td><td>0.5726607</td><td>-0.50000000</td><td>0.02930557</td></tr>\n",
       "</tbody>\n",
       "</table>\n"
      ],
      "text/latex": [
       "A matrix: 2 × 8 of type dbl\n",
       "\\begin{tabular}{r|llllllll}\n",
       "  & ME & RMSE & MAE & MPE & MAPE & MASE & ACF1 & Theil's U\\\\\n",
       "\\hline\n",
       "\tTraining set &  0.01600417 & 2.248029 & 1.694974 & -0.7700315 & 4.824783 & 0.6226225 &  0.04017263 &         NA\\\\\n",
       "\tTest set & -1.55896196 & 1.804448 & 1.558962 & -2.6459442 & 2.645944 & 0.5726607 & -0.50000000 & 0.02930557\\\\\n",
       "\\end{tabular}\n"
      ],
      "text/markdown": [
       "\n",
       "A matrix: 2 × 8 of type dbl\n",
       "\n",
       "| <!--/--> | ME | RMSE | MAE | MPE | MAPE | MASE | ACF1 | Theil's U |\n",
       "|---|---|---|---|---|---|---|---|---|\n",
       "| Training set |  0.01600417 | 2.248029 | 1.694974 | -0.7700315 | 4.824783 | 0.6226225 |  0.04017263 |         NA |\n",
       "| Test set | -1.55896196 | 1.804448 | 1.558962 | -2.6459442 | 2.645944 | 0.5726607 | -0.50000000 | 0.02930557 |\n",
       "\n"
      ],
      "text/plain": [
       "             ME          RMSE     MAE      MPE        MAPE     MASE     \n",
       "Training set  0.01600417 2.248029 1.694974 -0.7700315 4.824783 0.6226225\n",
       "Test set     -1.55896196 1.804448 1.558962 -2.6459442 2.645944 0.5726607\n",
       "             ACF1        Theil's U \n",
       "Training set  0.04017263         NA\n",
       "Test set     -0.50000000 0.02930557"
      ]
     },
     "metadata": {},
     "output_type": "display_data"
    }
   ],
   "source": [
    "# 데이터 분할\n",
    "# 2015년 데이터만뽑으면 에러가 떠서.. test데이터를 2014~2015년도로 조정했습니다... 에러가 뜨는 이유를 잘모르겠습니다 ㅜㅜ\n",
    "austo_train<-window(austourists, start=2000, end=c(2013,4))\n",
    "austo_test<-window(austourists, start=2014, end=c(2015,4))\n",
    "\n",
    "# 홀트-윈터스 승법모형 적용\n",
    "fit_hw<-hw(austo_train, seasonal='multiplicative')\n",
    "# ETS모델 적용\n",
    "fit_ets<-hw(austo_train, model='MAM')\n",
    "\n",
    "# 2014,2015년 미래값 예측\n",
    "for_hw<-forecast(fit_hw, h=2)\n",
    "for_ets<-forecast(fit_ets, h=2)\n",
    "\n",
    "# test데이터로 정확도 비교\n",
    "accuracy(for_hw, austo_test)\n",
    "accuracy(for_ets, austo_test)\n",
    "\n",
    "# Train 데이터에는 홀트-윈터스 모형의 RMSE값이 0.1정도 더 낮았다.\n",
    "# 하지만 Test 데이터에서는 ETS모형의 RMSE값이 홀트-윈터스 모형에 비해 큰 폭으로 낮은 수치를 나타냈다.\n",
    "# 따라서 austourists 데이터의 미래값을 예측하기 위해서는 ETS모형이 적합한 모형인 듯 판단된다.\n"
   ]
  },
  {
   "cell_type": "code",
   "execution_count": 11,
   "metadata": {},
   "outputs": [
    {
     "ename": "ERROR",
     "evalue": "Error in UseMethod(\"simulate\"): 클래스 \"forecast\"의 객체에 적용된 'simulate'에 사용할수 있는 메소드가 없습니다\n",
     "output_type": "error",
     "traceback": [
      "Error in UseMethod(\"simulate\"): 클래스 \"forecast\"의 객체에 적용된 'simulate'에 사용할수 있는 메소드가 없습니다\nTraceback:\n",
      "1. lines(simulate(fit_ets, h = 2), col = \"red\")",
      "2. simulate(fit_ets, h = 2)"
     ]
    },
    {
     "data": {
      "image/png": "[encoded data removed]",
      "text/plain": [
       "plot without title"
      ]
     },
     "metadata": {
      "image/png": {
       "height": 420,
       "width": 420
      }
     },
     "output_type": "display_data"
    }
   ],
   "source": [
    "# 시뮬레이션 적용\n",
    "plot(austo_train, xlim=c(2000,2015))\n",
    "for (i in 1:100){\n",
    "    lines(simulate(fit_ets, h=2), col='red')\n",
    "}"
   ]
  },
  {
   "cell_type": "code",
   "execution_count": null,
   "metadata": {},
   "outputs": [],
   "source": []
  }
 ],
 "metadata": {
  "kernelspec": {
   "display_name": "R",
   "language": "R",
   "name": "ir"
  },
  "language_info": {
   "codemirror_mode": "r",
   "file_extension": ".r",
   "mimetype": "text/x-r-source",
   "name": "R",
   "pygments_lexer": "r",
   "version": "3.6.3"
  }
 },
 "nbformat": 4,
 "nbformat_minor": 4
}
