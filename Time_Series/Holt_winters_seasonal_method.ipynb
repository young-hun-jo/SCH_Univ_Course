{
 "cells": [
  {
   "cell_type": "markdown",
   "metadata": {},
   "source": [
    "# 홀트-윈터스(계절지수평활법) -> forecast패키지\n",
    "\n",
    "- 승법적 계절지수평활법 \n",
    "    * 계절적 진폭이 점차적으로 증가, 감소 특성을 가짐\n",
    "    * 홀트의 선형지수평활법을 확장\n",
    "\n",
    "- 가법적 계절지수평활법\n",
    "    * 계절적 진폭이 시간의 흐름에 따라 일정한 특성을 가짐\n",
    "    \n",
    "- 홀트윈터스 함수 사용법\n",
    "    * hw(ts_data, seasonal='additive', h=5)\n",
    "        * seasonal 값에 가법모형이면 'additive', 승법모형이면 'multiplicative'\n",
    "        * h값은 예측하고 싶은 미래의 예측값개수\n",
    "        * hw함수를 적용한 시계열 데이터의 변수명값들 종류와 의미는 holt_linear과 동일"
   ]
  },
  {
   "cell_type": "code",
   "execution_count": 1,
   "metadata": {
    "scrolled": true
   },
   "outputs": [
    {
     "name": "stderr",
     "output_type": "stream",
     "text": [
      "Registered S3 method overwritten by 'quantmod':\n",
      "  method            from\n",
      "  as.zoo.data.frame zoo \n",
      "\n"
     ]
    }
   ],
   "source": [
    "library(forecast)"
   ]
  },
  {
   "cell_type": "code",
   "execution_count": 2,
   "metadata": {},
   "outputs": [],
   "source": [
    "setwd('C:/Users/joyh1/Desktop/빅데이터_20-1/R_data')"
   ]
  },
  {
   "cell_type": "code",
   "execution_count": 3,
   "metadata": {},
   "outputs": [],
   "source": [
    "guarantee<-read.csv(\"guarantee.csv\")"
   ]
  },
  {
   "cell_type": "code",
   "execution_count": 4,
   "metadata": {},
   "outputs": [
    {
     "data": {
      "text/html": [
       "<table>\n",
       "<caption>A Time Series: 7 × 12</caption>\n",
       "<thead>\n",
       "\t<tr><th></th><th scope=col>Jan</th><th scope=col>Feb</th><th scope=col>Mar</th><th scope=col>Apr</th><th scope=col>May</th><th scope=col>Jun</th><th scope=col>Jul</th><th scope=col>Aug</th><th scope=col>Sep</th><th scope=col>Oct</th><th scope=col>Nov</th><th scope=col>Dec</th></tr>\n",
       "</thead>\n",
       "<tbody>\n",
       "\t<tr><th scope=row>2010</th><td>10171.370</td><td>11642.047</td><td>10959.327</td><td> 9631.822</td><td> 8113.867</td><td> 7687.780</td><td> 9488.412</td><td> 6824.398</td><td> 7994.816</td><td> 8849.314</td><td>12206.115</td><td>11333.561</td></tr>\n",
       "\t<tr><th scope=row>2011</th><td> 8727.824</td><td>10572.496</td><td>16415.667</td><td>15322.153</td><td>15185.645</td><td>15163.094</td><td>14389.188</td><td>20601.666</td><td>18647.374</td><td>23842.528</td><td>22023.714</td><td>25808.477</td></tr>\n",
       "\t<tr><th scope=row>2012</th><td>18701.063</td><td>24248.366</td><td>25582.786</td><td>27755.428</td><td>23754.305</td><td>24500.540</td><td>22192.803</td><td>25346.644</td><td>21087.194</td><td>22098.436</td><td>22322.298</td><td>17995.997</td></tr>\n",
       "\t<tr><th scope=row>2013</th><td>15670.293</td><td>20526.126</td><td>21747.386</td><td>23859.140</td><td>20456.819</td><td>18806.497</td><td>20355.904</td><td>20408.184</td><td>23351.360</td><td>27050.859</td><td>27843.960</td><td>25731.259</td></tr>\n",
       "\t<tr><th scope=row>2014</th><td>19108.375</td><td>27828.546</td><td>25807.760</td><td>30713.500</td><td>20744.789</td><td>25142.929</td><td>25815.333</td><td>25712.026</td><td>26163.303</td><td>30937.711</td><td>28955.434</td><td>31841.921</td></tr>\n",
       "\t<tr><th scope=row>2015</th><td>21774.958</td><td>27800.336</td><td>31702.518</td><td>35253.927</td><td>26569.231</td><td>32082.366</td><td>30595.872</td><td>30578.924</td><td>33006.815</td><td>38044.226</td><td>35767.920</td><td>31595.067</td></tr>\n",
       "\t<tr><th scope=row>2016</th><td>28039.202</td><td>29307.442</td><td>41641.324</td><td>38111.414</td><td>34080.118</td><td>33585.952</td><td>35442.221</td><td>43185.803</td><td>29489.532</td><td>44859.685</td><td>42836.563</td><td>40201.332</td></tr>\n",
       "</tbody>\n",
       "</table>\n"
      ],
      "text/latex": [
       "A Time Series: 7 × 12\n",
       "\\begin{tabular}{r|llllllllllll}\n",
       "  & Jan & Feb & Mar & Apr & May & Jun & Jul & Aug & Sep & Oct & Nov & Dec\\\\\n",
       "\\hline\n",
       "\t2010 & 10171.370 & 11642.047 & 10959.327 &  9631.822 &  8113.867 &  7687.780 &  9488.412 &  6824.398 &  7994.816 &  8849.314 & 12206.115 & 11333.561\\\\\n",
       "\t2011 &  8727.824 & 10572.496 & 16415.667 & 15322.153 & 15185.645 & 15163.094 & 14389.188 & 20601.666 & 18647.374 & 23842.528 & 22023.714 & 25808.477\\\\\n",
       "\t2012 & 18701.063 & 24248.366 & 25582.786 & 27755.428 & 23754.305 & 24500.540 & 22192.803 & 25346.644 & 21087.194 & 22098.436 & 22322.298 & 17995.997\\\\\n",
       "\t2013 & 15670.293 & 20526.126 & 21747.386 & 23859.140 & 20456.819 & 18806.497 & 20355.904 & 20408.184 & 23351.360 & 27050.859 & 27843.960 & 25731.259\\\\\n",
       "\t2014 & 19108.375 & 27828.546 & 25807.760 & 30713.500 & 20744.789 & 25142.929 & 25815.333 & 25712.026 & 26163.303 & 30937.711 & 28955.434 & 31841.921\\\\\n",
       "\t2015 & 21774.958 & 27800.336 & 31702.518 & 35253.927 & 26569.231 & 32082.366 & 30595.872 & 30578.924 & 33006.815 & 38044.226 & 35767.920 & 31595.067\\\\\n",
       "\t2016 & 28039.202 & 29307.442 & 41641.324 & 38111.414 & 34080.118 & 33585.952 & 35442.221 & 43185.803 & 29489.532 & 44859.685 & 42836.563 & 40201.332\\\\\n",
       "\\end{tabular}\n"
      ],
      "text/markdown": [
       "\n",
       "A Time Series: 7 × 12\n",
       "\n",
       "| <!--/--> | Jan | Feb | Mar | Apr | May | Jun | Jul | Aug | Sep | Oct | Nov | Dec |\n",
       "|---|---|---|---|---|---|---|---|---|---|---|---|---|\n",
       "| 2010 | 10171.370 | 11642.047 | 10959.327 |  9631.822 |  8113.867 |  7687.780 |  9488.412 |  6824.398 |  7994.816 |  8849.314 | 12206.115 | 11333.561 |\n",
       "| 2011 |  8727.824 | 10572.496 | 16415.667 | 15322.153 | 15185.645 | 15163.094 | 14389.188 | 20601.666 | 18647.374 | 23842.528 | 22023.714 | 25808.477 |\n",
       "| 2012 | 18701.063 | 24248.366 | 25582.786 | 27755.428 | 23754.305 | 24500.540 | 22192.803 | 25346.644 | 21087.194 | 22098.436 | 22322.298 | 17995.997 |\n",
       "| 2013 | 15670.293 | 20526.126 | 21747.386 | 23859.140 | 20456.819 | 18806.497 | 20355.904 | 20408.184 | 23351.360 | 27050.859 | 27843.960 | 25731.259 |\n",
       "| 2014 | 19108.375 | 27828.546 | 25807.760 | 30713.500 | 20744.789 | 25142.929 | 25815.333 | 25712.026 | 26163.303 | 30937.711 | 28955.434 | 31841.921 |\n",
       "| 2015 | 21774.958 | 27800.336 | 31702.518 | 35253.927 | 26569.231 | 32082.366 | 30595.872 | 30578.924 | 33006.815 | 38044.226 | 35767.920 | 31595.067 |\n",
       "| 2016 | 28039.202 | 29307.442 | 41641.324 | 38111.414 | 34080.118 | 33585.952 | 35442.221 | 43185.803 | 29489.532 | 44859.685 | 42836.563 | 40201.332 |\n",
       "\n"
      ],
      "text/plain": [
       "     Jan       Feb       Mar       Apr       May       Jun       Jul      \n",
       "2010 10171.370 11642.047 10959.327  9631.822  8113.867  7687.780  9488.412\n",
       "2011  8727.824 10572.496 16415.667 15322.153 15185.645 15163.094 14389.188\n",
       "2012 18701.063 24248.366 25582.786 27755.428 23754.305 24500.540 22192.803\n",
       "2013 15670.293 20526.126 21747.386 23859.140 20456.819 18806.497 20355.904\n",
       "2014 19108.375 27828.546 25807.760 30713.500 20744.789 25142.929 25815.333\n",
       "2015 21774.958 27800.336 31702.518 35253.927 26569.231 32082.366 30595.872\n",
       "2016 28039.202 29307.442 41641.324 38111.414 34080.118 33585.952 35442.221\n",
       "     Aug       Sep       Oct       Nov       Dec      \n",
       "2010  6824.398  7994.816  8849.314 12206.115 11333.561\n",
       "2011 20601.666 18647.374 23842.528 22023.714 25808.477\n",
       "2012 25346.644 21087.194 22098.436 22322.298 17995.997\n",
       "2013 20408.184 23351.360 27050.859 27843.960 25731.259\n",
       "2014 25712.026 26163.303 30937.711 28955.434 31841.921\n",
       "2015 30578.924 33006.815 38044.226 35767.920 31595.067\n",
       "2016 43185.803 29489.532 44859.685 42836.563 40201.332"
      ]
     },
     "metadata": {},
     "output_type": "display_data"
    }
   ],
   "source": [
    "guarantee_ts<-ts(guarantee, start=c(2010,1), frequency = 12)\n",
    "guarantee_ts"
   ]
  },
  {
   "cell_type": "code",
   "execution_count": 5,
   "metadata": {},
   "outputs": [
    {
     "data": {
      "image/png": "[encoded data removed]",
      "text/plain": [
       "plot without title"
      ]
     },
     "metadata": {
      "image/png": {
       "height": 420,
       "width": 420
      }
     },
     "output_type": "display_data"
    }
   ],
   "source": [
    "plot(guarantee_ts)"
   ]
  },
  {
   "cell_type": "code",
   "execution_count": 6,
   "metadata": {},
   "outputs": [
    {
     "data": {
      "text/plain": [
       "         Point Forecast    Lo 80    Hi 80    Lo 95    Hi 95\n",
       "Jan 2017       35459.43 31363.60 39555.26 29195.40 41723.46\n",
       "Feb 2017       40208.19 35812.21 44604.16 33485.12 46931.25\n",
       "Mar 2017       44046.66 39364.13 48729.19 36885.35 51207.98\n",
       "Apr 2017       45472.16 40514.25 50430.07 37889.69 53054.63\n",
       "May 2017       40444.04 35220.11 45667.97 32454.72 48433.36\n",
       "Jun 2017       41917.72 36435.71 47399.73 33533.71 50301.73\n",
       "Jul 2017       42183.66 36450.40 47916.92 33415.39 50951.92\n",
       "Aug 2017       43515.15 37536.56 49493.74 34371.69 52658.62\n",
       "Sep 2017       43778.96 37560.21 49997.70 34268.21 53289.71\n",
       "Oct 2017       47270.30 40815.96 53724.64 37399.23 57141.36\n",
       "Nov 2017       47079.32 40393.42 53765.23 36854.11 57304.53\n",
       "Dec 2017       46388.45 39474.57 53302.33 35814.59 56962.32"
      ]
     },
     "metadata": {},
     "output_type": "display_data"
    }
   ],
   "source": [
    "# 홀트윈터스 함수 hw() 에다가 seasonal = '' 으로 가법(additive), 승법(multiplicative) 인자 선택해서 추가\n",
    "fit1_guarantee<-hw(guarantee_ts, seasonal='additive', h=12)\n",
    "fit1_guarantee"
   ]
  },
  {
   "cell_type": "code",
   "execution_count": 7,
   "metadata": {},
   "outputs": [
    {
     "data": {
      "text/plain": [
       "         Point Forecast    Lo 80    Hi 80    Lo 95    Hi 95\n",
       "Jan 2017       32410.32 25736.66 39083.99 22203.83 42616.82\n",
       "Feb 2017       40880.61 31634.24 50126.98 26739.50 55021.72\n",
       "Mar 2017       47631.55 35949.94 59313.17 29766.07 65497.04\n",
       "Apr 2017       48479.06 35710.40 61247.72 28951.08 68007.04\n",
       "May 2017       39162.39 28166.69 50158.09 22345.92 55978.86\n",
       "Jun 2017       41351.00 29047.22 53654.78 22533.99 60168.01\n",
       "Jul 2017       40790.29 27990.03 53590.56 21213.98 60366.61\n",
       "Aug 2017       44745.56 29995.81 59495.31 22187.76 67303.36\n",
       "Sep 2017       39739.63 26025.62 53453.64 18765.86 60713.40\n",
       "Oct 2017       49348.47 31571.22 67125.72 22160.52 76536.43\n",
       "Nov 2017       47600.79 29745.47 65456.11 20293.43 74908.15\n",
       "Dec 2017       45400.68 27706.62 63094.73 18339.95 72461.40"
      ]
     },
     "metadata": {},
     "output_type": "display_data"
    }
   ],
   "source": [
    "fit2_guarantee<-hw(guarantee_ts, seasonal='multiplicative', h=12)\n",
    "fit2_guarantee"
   ]
  },
  {
   "cell_type": "code",
   "execution_count": 8,
   "metadata": {},
   "outputs": [
    {
     "data": {
      "text/html": [
       "<style>\n",
       ".list-inline {list-style: none; margin:0; padding: 0}\n",
       ".list-inline>li {display: inline-block}\n",
       ".list-inline>li:not(:last-child)::after {content: \"\\00b7\"; padding: 0 .5ex}\n",
       "</style>\n",
       "<ol class=list-inline><li>'model'</li><li>'mean'</li><li>'level'</li><li>'x'</li><li>'upper'</li><li>'lower'</li><li>'fitted'</li><li>'method'</li><li>'series'</li><li>'residuals'</li></ol>\n"
      ],
      "text/latex": [
       "\\begin{enumerate*}\n",
       "\\item 'model'\n",
       "\\item 'mean'\n",
       "\\item 'level'\n",
       "\\item 'x'\n",
       "\\item 'upper'\n",
       "\\item 'lower'\n",
       "\\item 'fitted'\n",
       "\\item 'method'\n",
       "\\item 'series'\n",
       "\\item 'residuals'\n",
       "\\end{enumerate*}\n"
      ],
      "text/markdown": [
       "1. 'model'\n",
       "2. 'mean'\n",
       "3. 'level'\n",
       "4. 'x'\n",
       "5. 'upper'\n",
       "6. 'lower'\n",
       "7. 'fitted'\n",
       "8. 'method'\n",
       "9. 'series'\n",
       "10. 'residuals'\n",
       "\n",
       "\n"
      ],
      "text/plain": [
       " [1] \"model\"     \"mean\"      \"level\"     \"x\"         \"upper\"     \"lower\"    \n",
       " [7] \"fitted\"    \"method\"    \"series\"    \"residuals\""
      ]
     },
     "metadata": {},
     "output_type": "display_data"
    }
   ],
   "source": [
    "names(fit1_guarantee)"
   ]
  },
  {
   "cell_type": "code",
   "execution_count": 9,
   "metadata": {},
   "outputs": [
    {
     "data": {
      "text/plain": [
       "Holt-Winters' additive method \n",
       "\n",
       "Call:\n",
       " hw(y = guarantee_ts, h = 12, seasonal = \"additive\") \n",
       "\n",
       "  Smoothing parameters:\n",
       "    alpha = 0.3858 \n",
       "    beta  = 0.004 \n",
       "    gamma = 1e-04 \n",
       "\n",
       "  Initial states:\n",
       "    l = 6800.5541 \n",
       "    b = 577.1931 \n",
       "    s = 647.1556 1809.48 2471.777 -546.217 -339.9333 -1199.132\n",
       "           -993.3176 -1995.498 3504.914 2550.989 -816.286 -5093.931\n",
       "\n",
       "  sigma:  3195.991\n",
       "\n",
       "     AIC     AICc      BIC \n",
       "1744.140 1753.413 1785.464 "
      ]
     },
     "metadata": {},
     "output_type": "display_data"
    }
   ],
   "source": [
    "fit1_guarantee$model"
   ]
  },
  {
   "cell_type": "code",
   "execution_count": 10,
   "metadata": {},
   "outputs": [
    {
     "data": {
      "image/png": "[encoded data removed]",
      "text/plain": [
       "Plot with title \"Forecasts from Holt-Winters' multiplicative method\""
      ]
     },
     "metadata": {
      "image/png": {
       "height": 420,
       "width": 420
      }
     },
     "output_type": "display_data"
    }
   ],
   "source": [
    "par(mfrow=c(2,1))\n",
    "# 가법모형\n",
    "plot(fit1_guarantee)\n",
    "# 주어진 데이터 fitted된 데이터 그래프라인\n",
    "lines(fit1_guarantee$fitted, col='red', type='o')\n",
    "# mean => 예측값\n",
    "lines(fit1_guarantee$mean, col='red', type='o')\n",
    "\n",
    "# 승법모형\n",
    "plot(fit2_guarantee)\n",
    "# 주어진 데이터 fitted된 데이터 그래프라인\n",
    "lines(fit2_guarantee$fitted, col='red', type='o')\n",
    "# mean => 예측값\n",
    "lines(fit2_guarantee$mean, col='red', type='o')"
   ]
  },
  {
   "cell_type": "code",
   "execution_count": 11,
   "metadata": {},
   "outputs": [
    {
     "name": "stdout",
     "output_type": "stream",
     "text": [
      "\n",
      "Forecast method: Holt-Winters' additive method\n",
      "\n",
      "Model Information:\n",
      "Holt-Winters' additive method \n",
      "\n",
      "Call:\n",
      " hw(y = guarantee_ts, h = 12, seasonal = \"additive\") \n",
      "\n",
      "  Smoothing parameters:\n",
      "    alpha = 0.3858 \n",
      "    beta  = 0.004 \n",
      "    gamma = 1e-04 \n",
      "\n",
      "  Initial states:\n",
      "    l = 6800.5541 \n",
      "    b = 577.1931 \n",
      "    s = 647.1556 1809.48 2471.777 -546.217 -339.9333 -1199.132\n",
      "           -993.3176 -1995.498 3504.914 2550.989 -816.286 -5093.931\n",
      "\n",
      "  sigma:  3195.991\n",
      "\n",
      "     AIC     AICc      BIC \n",
      "1744.140 1753.413 1785.464 \n",
      "\n",
      "Error measures:\n",
      "                    ME     RMSE      MAE       MPE     MAPE      MASE\n",
      "Training set -313.0446 2875.547 2126.937 -2.722669 11.27248 0.3662703\n",
      "                   ACF1\n",
      "Training set -0.1643825\n",
      "\n",
      "Forecasts:\n",
      "         Point Forecast    Lo 80    Hi 80    Lo 95    Hi 95\n",
      "Jan 2017       35459.43 31363.60 39555.26 29195.40 41723.46\n",
      "Feb 2017       40208.19 35812.21 44604.16 33485.12 46931.25\n",
      "Mar 2017       44046.66 39364.13 48729.19 36885.35 51207.98\n",
      "Apr 2017       45472.16 40514.25 50430.07 37889.69 53054.63\n",
      "May 2017       40444.04 35220.11 45667.97 32454.72 48433.36\n",
      "Jun 2017       41917.72 36435.71 47399.73 33533.71 50301.73\n",
      "Jul 2017       42183.66 36450.40 47916.92 33415.39 50951.92\n",
      "Aug 2017       43515.15 37536.56 49493.74 34371.69 52658.62\n",
      "Sep 2017       43778.96 37560.21 49997.70 34268.21 53289.71\n",
      "Oct 2017       47270.30 40815.96 53724.64 37399.23 57141.36\n",
      "Nov 2017       47079.32 40393.42 53765.23 36854.11 57304.53\n",
      "Dec 2017       46388.45 39474.57 53302.33 35814.59 56962.32\n",
      "\n",
      "Forecast method: Holt-Winters' multiplicative method\n",
      "\n",
      "Model Information:\n",
      "Holt-Winters' multiplicative method \n",
      "\n",
      "Call:\n",
      " hw(y = guarantee_ts, h = 12, seasonal = \"multiplicative\") \n",
      "\n",
      "  Smoothing parameters:\n",
      "    alpha = 0.4439 \n",
      "    beta  = 0.0097 \n",
      "    gamma = 7e-04 \n",
      "\n",
      "  Initial states:\n",
      "    l = 6567.4447 \n",
      "    b = 591.3244 \n",
      "    s = 0.9972 1.0557 1.1055 0.8988 1.0226 0.9415\n",
      "           0.9644 0.9228 1.1544 1.1463 0.9943 0.7965\n",
      "\n",
      "  sigma:  0.1607\n",
      "\n",
      "     AIC     AICc      BIC \n",
      "1761.453 1770.726 1802.777 \n",
      "\n",
      "Error measures:\n",
      "                    ME     RMSE      MAE       MPE     MAPE      MASE\n",
      "Training set -206.2435 2543.469 2033.482 -2.429681 10.18767 0.3501769\n",
      "                   ACF1\n",
      "Training set -0.1730921\n",
      "\n",
      "Forecasts:\n",
      "         Point Forecast    Lo 80    Hi 80    Lo 95    Hi 95\n",
      "Jan 2017       32410.32 25736.66 39083.99 22203.83 42616.82\n",
      "Feb 2017       40880.61 31634.24 50126.98 26739.50 55021.72\n",
      "Mar 2017       47631.55 35949.94 59313.17 29766.07 65497.04\n",
      "Apr 2017       48479.06 35710.40 61247.72 28951.08 68007.04\n",
      "May 2017       39162.39 28166.69 50158.09 22345.92 55978.86\n",
      "Jun 2017       41351.00 29047.22 53654.78 22533.99 60168.01\n",
      "Jul 2017       40790.29 27990.03 53590.56 21213.98 60366.61\n",
      "Aug 2017       44745.56 29995.81 59495.31 22187.76 67303.36\n",
      "Sep 2017       39739.63 26025.62 53453.64 18765.86 60713.40\n",
      "Oct 2017       49348.47 31571.22 67125.72 22160.52 76536.43\n",
      "Nov 2017       47600.79 29745.47 65456.11 20293.43 74908.15\n",
      "Dec 2017       45400.68 27706.62 63094.73 18339.95 72461.40\n"
     ]
    }
   ],
   "source": [
    "# RMSE로 어떤게 더 좋은건지 관찰\n",
    "\n",
    "# 가법모형\n",
    "summary(fit1_guarantee)\n",
    "\n",
    "# 승법모형\n",
    "summary(fit2_guarantee) # RMSE값이 더 작음!"
   ]
  },
  {
   "cell_type": "code",
   "execution_count": 12,
   "metadata": {},
   "outputs": [
    {
     "name": "stderr",
     "output_type": "stream",
     "text": [
      "Loading required package: ggplot2\n",
      "\n",
      "Loading required package: fma\n",
      "\n",
      "Loading required package: expsmooth\n",
      "\n"
     ]
    }
   ],
   "source": [
    "library(fpp2)"
   ]
  },
  {
   "cell_type": "code",
   "execution_count": 13,
   "metadata": {},
   "outputs": [
    {
     "data": {
      "image/png": "[encoded data removed]",
      "text/plain": [
       "plot without title"
      ]
     },
     "metadata": {
      "image/png": {
       "height": 420,
       "width": 420
      }
     },
     "output_type": "display_data"
    }
   ],
   "source": [
    "aus_ts<-window(austourists, start=2004)\n",
    "plot(aus_ts)"
   ]
  },
  {
   "cell_type": "code",
   "execution_count": 14,
   "metadata": {},
   "outputs": [
    {
     "data": {
      "image/png": "[encoded data removed]",
      "text/plain": [
       "Plot with title \"Forecasts from Holt-Winters' additive method\""
      ]
     },
     "metadata": {
      "image/png": {
       "height": 420,
       "width": 420
      }
     },
     "output_type": "display_data"
    },
    {
     "data": {
      "image/png": "[encoded data removed]",
      "text/plain": [
       "Plot with title \"Forecasts from Holt-Winters' multiplicative method\""
      ]
     },
     "metadata": {
      "image/png": {
       "height": 420,
       "width": 420
      }
     },
     "output_type": "display_data"
    }
   ],
   "source": [
    "fit1_aus<-hw(aus_ts, seasonal='additive', h=5)\n",
    "fit2_aus<-hw(aus_ts, seasonal='multiplicative', h=5)\n",
    "\n",
    "# 가법모형\n",
    "plot(fit1_aus)\n",
    "lines(fitted(fit1_aus), col='red', type='o')\n",
    "lines(fit1_aus$mean, col='blue', type='o')\n",
    "\n",
    "# 승법모형\n",
    "plot(fit2_aus)\n",
    "lines(fitted(fit2_aus), col='blue', type='o')\n",
    "lines(fit2_aus$mean, col='blue', type='o')\n",
    "\n"
   ]
  },
  {
   "cell_type": "code",
   "execution_count": 15,
   "metadata": {},
   "outputs": [
    {
     "name": "stdout",
     "output_type": "stream",
     "text": [
      "\n",
      "Forecast method: Holt-Winters' additive method\n",
      "\n",
      "Model Information:\n",
      "Holt-Winters' additive method \n",
      "\n",
      "Call:\n",
      " hw(y = aus_ts, h = 5, seasonal = \"additive\") \n",
      "\n",
      "  Smoothing parameters:\n",
      "    alpha = 0.1837 \n",
      "    beta  = 1e-04 \n",
      "    gamma = 0.5008 \n",
      "\n",
      "  Initial states:\n",
      "    l = 31.0078 \n",
      "    b = 0.6674 \n",
      "    s = 1.0988 -2.5542 -9.4131 10.8685\n",
      "\n",
      "  sigma:  2.1039\n",
      "\n",
      "     AIC     AICc      BIC \n",
      "266.4707 271.2075 283.3115 \n",
      "\n",
      "Error measures:\n",
      "                      ME     RMSE      MAE        MPE     MAPE      MASE\n",
      "Training set -0.01255071 1.920596 1.573336 -0.3708501 3.709536 0.5265944\n",
      "                    ACF1\n",
      "Training set -0.05084824\n",
      "\n",
      "Forecasts:\n",
      "        Point Forecast    Lo 80    Hi 80    Lo 95    Hi 95\n",
      "2016 Q1       75.62551 72.92925 78.32178 71.50193 79.74910\n",
      "2016 Q2       50.99517 48.25374 53.73660 46.80252 55.18782\n",
      "2016 Q3       63.41423 60.62833 66.20013 59.15356 67.67490\n",
      "2016 Q4       67.96581 65.13608 70.79554 63.63811 72.29351\n",
      "2017 Q1       78.29475 74.91570 81.67380 73.12694 83.46255\n",
      "\n",
      "Forecast method: Holt-Winters' multiplicative method\n",
      "\n",
      "Model Information:\n",
      "Holt-Winters' multiplicative method \n",
      "\n",
      "Call:\n",
      " hw(y = aus_ts, h = 5, seasonal = \"multiplicative\") \n",
      "\n",
      "  Smoothing parameters:\n",
      "    alpha = 0.0285 \n",
      "    beta  = 0.0285 \n",
      "    gamma = 2e-04 \n",
      "\n",
      "  Initial states:\n",
      "    l = 31.3781 \n",
      "    b = 0.6436 \n",
      "    s = 1.0249 0.9632 0.764 1.248\n",
      "\n",
      "  sigma:  0.0426\n",
      "\n",
      "     AIC     AICc      BIC \n",
      "255.9229 260.6598 272.7637 \n",
      "\n",
      "Error measures:\n",
      "                    ME     RMSE      MAE       MPE     MAPE      MASE      ACF1\n",
      "Training set 0.2242431 1.677202 1.223391 0.2214374 2.821005 0.4094681 0.1583069\n",
      "\n",
      "Forecasts:\n",
      "        Point Forecast    Lo 80    Hi 80    Lo 95    Hi 95\n",
      "2016 Q1       77.30546 73.08344 81.52749 70.84844 83.76249\n",
      "2016 Q2       48.08327 45.45308 50.71346 44.06074 52.10580\n",
      "2016 Q3       61.56478 58.18562 64.94393 56.39681 66.73274\n",
      "2016 Q4       66.52375 62.85105 70.19645 60.90684 72.14066\n",
      "2017 Q1       82.23679 77.65669 86.81688 75.23213 89.24144\n"
     ]
    }
   ],
   "source": [
    "# RMSE로 어떤 모형이 괜찮은지 판단\n",
    "# 가법모형\n",
    "summary(fit1_aus)\n",
    "\n",
    "# 승법모형\n",
    "summary(fit2_aus) # => RMSE값이 더 낮음..!"
   ]
  },
  {
   "cell_type": "code",
   "execution_count": null,
   "metadata": {},
   "outputs": [],
   "source": []
  }
 ],
 "metadata": {
  "kernelspec": {
   "display_name": "R",
   "language": "R",
   "name": "ir"
  },
  "language_info": {
   "codemirror_mode": "r",
   "file_extension": ".r",
   "mimetype": "text/x-r-source",
   "name": "R",
   "pygments_lexer": "r",
   "version": "3.6.3"
  }
 },
 "nbformat": 4,
 "nbformat_minor": 4
}
