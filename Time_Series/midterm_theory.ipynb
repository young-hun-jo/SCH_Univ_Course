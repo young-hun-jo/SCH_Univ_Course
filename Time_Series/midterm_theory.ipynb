{
 "cells": [
  {
   "cell_type": "markdown",
   "metadata": {},
   "source": [
    "### 추세,순환 -> 홀트 선형지수평활\n",
    "### 불규칙 -> 단순지수평활\n",
    "### 계절 -> 홀트 윈터스(계절지수평활법)\n"
   ]
  },
  {
   "cell_type": "markdown",
   "metadata": {},
   "source": [
    "---"
   ]
  },
  {
   "cell_type": "markdown",
   "metadata": {},
   "source": [
    "## RMSE가 예측오차는 아니다. 예측오차는 각 예측값-실제값을 의미함!! \n",
    "\n",
    "## 잔차 = residuals\n",
    "\n",
    "## 예측오차 = mean(예측값) - 실제값(test)\n",
    "---"
   ]
  },
  {
   "cell_type": "markdown",
   "metadata": {},
   "source": [
    "# 0. 주어진 데이터 ma(이동평균)으로 추세 성분 파악해보기\n",
    "# 1. 벤치마크로 예측먼저 하기\n",
    "# 2. 벤치마크 예측모델 중 최고 모델 선정\n",
    "# 3. ses,holt,hw,ets 모형으로 예측하기\n",
    "# 4. 3번 모형들 중 최고 모델 선정\n",
    "# 5. 벤치마크의 best와 3번의 best 모델 비교\n",
    "# 6. 정확성 평가할 때는 반드시 train/test 데이터 나누어서 test와의 정확성평가!"
   ]
  },
  {
   "cell_type": "code",
   "execution_count": 3,
   "metadata": {},
   "outputs": [],
   "source": [
    "################### 잘모르겠으면 names(변수명) 찍어보고 확인하자!!!"
   ]
  },
  {
   "cell_type": "code",
   "execution_count": 5,
   "metadata": {},
   "outputs": [],
   "source": [
    "###### ts 문법 ##########\n",
    "\n",
    "# time-series 데이터인지 확인 함수 : is.ts(df)\n",
    "# 데아터 클래스 확인 함수 : class(df)\n",
    "# time 주기 파악 함수 : frequency(df)\n",
    "# 시계열 데이터로 변환 ts(df)\n",
    "# ts(df) 는 디폴트로 frequency를 1로 간주함\n",
    "# 시계열 데이터 '월'->'분기'->'연도' 별로 집계 : aggregate(ts_data, nfrequency = 4, FUN=sum)"
   ]
  },
  {
   "cell_type": "code",
   "execution_count": null,
   "metadata": {},
   "outputs": [],
   "source": [
    "###### 단순지수평활법 ######\n",
    "\n",
    "# ses함수 취해주고 plot그려주면 신뢰구간+예측값 출력해줌. 단 예측값은 동일한 하나의 값으로 예측해줌\n",
    "# ses함수의 예측값들은 주어진 데이터와 알파값을 추정하여 완성된 식을 바탕으로 예측값들을 보여주는 형태\n",
    "# (h값이 없기 때문에 하나의 값만 출력됨!) => 따라서 ses할때는 예측값 보여줄 필요 NO!!!\n"
   ]
  },
  {
   "cell_type": "code",
   "execution_count": 2,
   "metadata": {},
   "outputs": [],
   "source": [
    "##### 홀트선형지수평활법 #####\n",
    "\n",
    "# 자료의평활 + 추세의평활 \n",
    "# holt함수 취해주고 plot 그려주면 신뢰구간+예측값 출력해줌, 단 예측값은 선형으로 예측!\n",
    "# damped=TRUE로 감쇠추세법 적용할 수 있음(감쇠 파라미터(phi값) 0.8<phi<1 범위로 줌)\n",
    "# 예측값 출력시, 데이터의 마지막값을 기준으로 모두 예측한 것! 그래서 예측시간이 멀리갈수록 신뢰구간이 커짐!\n",
    "# \n"
   ]
  },
  {
   "cell_type": "code",
   "execution_count": 4,
   "metadata": {},
   "outputs": [],
   "source": [
    "##### 홀트윈터스 모형 #####\n",
    "\n",
    "# 일정한 계절성분일 때 => '가법'모형\n",
    "# 증가하거나 감소하는 계절성분일 때 => '승법'모형 -> 홀트선형지수평활법의 확장 version!!\n",
    "# \"연도별\" 데이터는 홀트윈터스모형 적용안됨!!!!\n",
    "\n",
    "# => ses, holt, hw는 error항이 없기 떄문에 simualte 할 수 없음!"
   ]
  },
  {
   "cell_type": "code",
   "execution_count": 7,
   "metadata": {},
   "outputs": [],
   "source": [
    "###### ets 모형 ###### error항이 존재해야 함!! , if error항이 존재하지 않는다면, ses(단순지수평활법임)\n",
    "\n",
    "# 1.첫번째 인자 : Error : M, A만 사용 \n",
    "    # M : 승법 error를 보정, A : 가법 error를 보정\n",
    "    # M(승법)은 증가/감소율을 곱해주는 모형, A(가법)은 error을 더해줌 \n",
    "    # error 항은 가법이든 승법이든 error항들의 평균이 0, 분산이 일정한 값 으로 동일하다고 가정\n",
    "    # error 항의 의미 : 실제값-적합된값 차이(더하거나 빼거나) 또는 증감률을 바탕으로 적합된값을을 보정하는 방법\n",
    "\n",
    "# 2.두번째 인자 : Trend : N, A만 사용(보통 A를 매우 자주 사용)(M은 진짜 자주 사용 x)\n",
    "    # Trend 인자 설명 : 추세성분을 추정하고 난 후 '불규칙+계절'에 추세성분을 '더할지', '곱할지' 선택하는 것!\n",
    "    # N : 추세성분 없음\n",
    "    # A : 추세성분을 더하자!\n",
    "    # M : 추세성분을 곱하자!\n",
    "\n",
    "# 3.세번째 인자 : Seasonal : N, A, M 모두 가능\n",
    "    # N : 계절성분 없음\n",
    "    # A : 계절성분 더해줌\n",
    "    # M : 계절성분 곱해줌\n",
    "# * auto model = 'ZZZ' => ets의 ZZZ는 AICC값을 최소로하는 모델을 찾아주는 것임\n",
    "# '가법 error'를 보정하면서 계절적성분을 '곱해'줄 순 없다! => 'A' error 와 'M' seasonal 공존 불가\n",
    "\n",
    "\n",
    "# 미래값 예측하기 -> forecast(ets모델, h=예측할값 개수) \n",
    "# 예측값과 실제값 정확도 비교(Test데이터와 비교) -> accuracy(for_model, test)\n",
    "\n",
    "# Train의 RMSE < Test의 RMSE 이면서 두 RMSE값의 차이가 얼마 안나면서 자체 RMSE값이 낮은 것!! => 가장 ideal model\n",
    "\n",
    "# 모델들 summary 값이 비슷한 이유 : 스무싱 파라미터가 동일하면 RMSE값 뿐만 아니라 예측값도 모두 동일해진다.\n",
    "# (ets모형에서도 alpha값 지정해줄 수 있음!)"
   ]
  },
  {
   "cell_type": "code",
   "execution_count": 8,
   "metadata": {},
   "outputs": [],
   "source": [
    "####### 분해법 ########## for 변동요인 구분이 주목적임을 잊지말자!! 예측성보다는 변동요인 구분이 main!!\n",
    "\n",
    "# 1.이동평균\n",
    "    # ㄱ.대칭이동평균 ma(ts_data, order=홀수)\n",
    "    # ㄴ.중심화이동평균 ma(ts_data, order=짝수, centre=TRUE). if centre=FALSE면 한번만 이동한것이라서 순서아다리 안맞음!\n",
    "\n",
    "# 2.전통적인 분해법 decompose(ts_data, type='additive' or 'multiplicative')\n",
    "    # ** 시계열 분해에서 계절적 성분은 모두 똑같다고 가정!! 즉, 월별 데이터에서 추세를 제거했을 때 남은 계절성분들 모두 동일\n",
    "\n",
    "    # ㄱ.가법 : 계절성분의 변동일 일정할 때 사용\n",
    "        # raw_data - Trend = Seasonal + irregular / raw_data - Trend - Seasonal = irregular (irregular를 직접 추정은 x)\n",
    "\n",
    "    # ㄴ.승법 : 계절성분의 변동이 증가하거나 감소할 때 사용\n",
    "        # raw_data/Trend = Seasonal*irregular / raw_data/(Trend*Seasonal) = irregular (irregular를 직접 추정은 x)\n",
    "\n",
    "    # 전통적인 분해법 요약\n",
    "        # 추세, 순환성분 추정시 정보손실 발생 -> 불규칙 성분 추정시 정보손실 발생\n",
    "        # 급등/ 급락 데이터 기간에 값이 크게 변화함 ( 이동평균 때문 )\n",
    "        # 계절성분 값이 주기별로 일정, 따라서 단기간 기간 데이터는 괜찮지만 장기간 데이터는 X!\n",
    "\n",
    "    # 참고) elelcquip$figure : seasonal(월별 똑같은값) 대표값\n"
   ]
  },
  {
   "cell_type": "code",
   "execution_count": 9,
   "metadata": {},
   "outputs": [],
   "source": [
    "####### 벤치마크 예측방법 ########\n",
    "\n",
    "# 1. average method : meanf(ts_data, h=에측할값 개수)\n",
    "    # 과거 시계열 자료들의 단순평균으로 동일하게 예측, ses와 holt선형 예측하는 것과 비슷하게 똑같은 값으로 예측함\n",
    "\n",
    "# 2. naive method : naive(ts_data, h=예측할값 개수)\n",
    "    # 전 시점의 데이터만을 갖고 미래를 예측하는 것. 즉, 마지막시점의 데이터로 동일하게 예측!\n",
    "    # alpha=1일때의 단순지수평활법(ses)과 동일\n",
    "\n",
    "# 3. snaive method : snaive(ts_Data, h=예측할값 개수)\n",
    "    # 전 계절값들을 모두 이용해서 미래값을 예측\n",
    "\n",
    "# 4. drift method \n",
    "    # ㄱ. 추세가 있으면 drift=TRUE 인자 추가 !  => rwf(ts_data, drift=TRUE, h=예측할값 개수) \n",
    "        # 주어진 시계열 데이터의 처음과 마지막 관찰값을 직선(linear)로 연결 -> 추후 ARIMA모델과 연관\n",
    "\n",
    "    # ㄴ. 추세가 없으면 drift=FALSE 인자 (이 때는 naive method와 동일!!)\n",
    "        \n",
    "\n",
    "## 예측값 출력할 떄 forecast함수 써도 상관 없음. 위의 식 자체로 예측값 출력되긴 함"
   ]
  },
  {
   "cell_type": "code",
   "execution_count": null,
   "metadata": {},
   "outputs": [],
   "source": []
  }
 ],
 "metadata": {
  "kernelspec": {
   "display_name": "R",
   "language": "R",
   "name": "ir"
  },
  "language_info": {
   "codemirror_mode": "r",
   "file_extension": ".r",
   "mimetype": "text/x-r-source",
   "name": "R",
   "pygments_lexer": "r",
   "version": "3.6.3"
  }
 },
 "nbformat": 4,
 "nbformat_minor": 4
}
