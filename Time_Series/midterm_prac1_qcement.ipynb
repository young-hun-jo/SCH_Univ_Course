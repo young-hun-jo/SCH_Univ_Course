{
 "cells": [
  {
   "cell_type": "code",
   "execution_count": 2,
   "metadata": {},
   "outputs": [
    {
     "name": "stderr",
     "output_type": "stream",
     "text": [
      "Loading required package: ggplot2\n",
      "\n",
      "Loading required package: forecast\n",
      "\n",
      "Registered S3 method overwritten by 'quantmod':\n",
      "  method            from\n",
      "  as.zoo.data.frame zoo \n",
      "\n",
      "Loading required package: fma\n",
      "\n",
      "Loading required package: expsmooth\n",
      "\n"
     ]
    }
   ],
   "source": [
    "library(fpp2)\n",
    "library(forecast)"
   ]
  },
  {
   "cell_type": "code",
   "execution_count": 3,
   "metadata": {
    "scrolled": true
   },
   "outputs": [
    {
     "data": {
      "text/html": [
       "<table>\n",
       "<caption>A Time Series: 59 × 4</caption>\n",
       "<thead>\n",
       "\t<tr><th></th><th scope=col>Qtr1</th><th scope=col>Qtr2</th><th scope=col>Qtr3</th><th scope=col>Qtr4</th></tr>\n",
       "</thead>\n",
       "<tbody>\n",
       "\t<tr><th scope=row>1956</th><td>0.465</td><td>0.532</td><td>0.561</td><td>0.570</td></tr>\n",
       "\t<tr><th scope=row>1957</th><td>0.529</td><td>0.604</td><td>0.603</td><td>0.582</td></tr>\n",
       "\t<tr><th scope=row>1958</th><td>0.554</td><td>0.620</td><td>0.646</td><td>0.637</td></tr>\n",
       "\t<tr><th scope=row>1959</th><td>0.573</td><td>0.673</td><td>0.690</td><td>0.681</td></tr>\n",
       "\t<tr><th scope=row>1960</th><td>0.621</td><td>0.698</td><td>0.753</td><td>0.728</td></tr>\n",
       "\t<tr><th scope=row>1961</th><td>0.688</td><td>0.737</td><td>0.742</td><td>0.692</td></tr>\n",
       "\t<tr><th scope=row>1962</th><td>0.637</td><td>0.757</td><td>0.783</td><td>0.757</td></tr>\n",
       "\t<tr><th scope=row>1963</th><td>0.674</td><td>0.774</td><td>0.835</td><td>0.838</td></tr>\n",
       "\t<tr><th scope=row>1964</th><td>0.797</td><td>0.904</td><td>0.949</td><td>0.975</td></tr>\n",
       "\t<tr><th scope=row>1965</th><td>0.902</td><td>0.974</td><td>0.969</td><td>0.967</td></tr>\n",
       "\t<tr><th scope=row>1966</th><td>0.849</td><td>0.961</td><td>0.966</td><td>0.922</td></tr>\n",
       "\t<tr><th scope=row>1967</th><td>0.836</td><td>0.998</td><td>1.025</td><td>0.971</td></tr>\n",
       "\t<tr><th scope=row>1968</th><td>0.892</td><td>0.973</td><td>1.047</td><td>1.017</td></tr>\n",
       "\t<tr><th scope=row>1969</th><td>0.948</td><td>1.032</td><td>1.190</td><td>1.136</td></tr>\n",
       "\t<tr><th scope=row>1970</th><td>1.049</td><td>1.134</td><td>1.229</td><td>1.188</td></tr>\n",
       "\t<tr><th scope=row>1971</th><td>1.058</td><td>1.209</td><td>1.199</td><td>1.253</td></tr>\n",
       "\t<tr><th scope=row>1972</th><td>1.070</td><td>1.282</td><td>1.303</td><td>1.281</td></tr>\n",
       "\t<tr><th scope=row>1973</th><td>1.148</td><td>1.305</td><td>1.342</td><td>1.452</td></tr>\n",
       "\t<tr><th scope=row>1974</th><td>1.184</td><td>1.352</td><td>1.316</td><td>1.353</td></tr>\n",
       "\t<tr><th scope=row>1975</th><td>1.121</td><td>1.297</td><td>1.318</td><td>1.281</td></tr>\n",
       "\t<tr><th scope=row>1976</th><td>1.109</td><td>1.299</td><td>1.341</td><td>1.290</td></tr>\n",
       "\t<tr><th scope=row>1977</th><td>1.101</td><td>1.284</td><td>1.321</td><td>1.317</td></tr>\n",
       "\t<tr><th scope=row>1978</th><td>1.122</td><td>1.261</td><td>1.312</td><td>1.298</td></tr>\n",
       "\t<tr><th scope=row>1979</th><td>1.205</td><td>1.302</td><td>1.377</td><td>1.359</td></tr>\n",
       "\t<tr><th scope=row>1980</th><td>1.232</td><td>1.386</td><td>1.440</td><td>1.439</td></tr>\n",
       "\t<tr><th scope=row>1981</th><td>1.282</td><td>1.573</td><td>1.533</td><td>1.641</td></tr>\n",
       "\t<tr><th scope=row>1982</th><td>1.337</td><td>1.575</td><td>1.475</td><td>1.357</td></tr>\n",
       "\t<tr><th scope=row>1983</th><td>1.086</td><td>1.158</td><td>1.279</td><td>1.313</td></tr>\n",
       "\t<tr><th scope=row>1984</th><td>1.166</td><td>1.373</td><td>1.456</td><td>1.495</td></tr>\n",
       "\t<tr><th scope=row>1985</th><td>1.251</td><td>1.456</td><td>1.631</td><td>1.555</td></tr>\n",
       "\t<tr><th scope=row>1986</th><td>1.375</td><td>1.546</td><td>1.568</td><td>1.561</td></tr>\n",
       "\t<tr><th scope=row>1987</th><td>1.332</td><td>1.458</td><td>1.501</td><td>1.615</td></tr>\n",
       "\t<tr><th scope=row>1988</th><td>1.418</td><td>1.625</td><td>1.770</td><td>1.791</td></tr>\n",
       "\t<tr><th scope=row>1989</th><td>1.621</td><td>1.719</td><td>1.972</td><td>1.894</td></tr>\n",
       "\t<tr><th scope=row>1990</th><td>1.565</td><td>1.645</td><td>1.658</td><td>1.668</td></tr>\n",
       "\t<tr><th scope=row>1991</th><td>1.343</td><td>1.441</td><td>1.444</td><td>1.497</td></tr>\n",
       "\t<tr><th scope=row>1992</th><td>1.289</td><td>1.501</td><td>1.539</td><td>1.568</td></tr>\n",
       "\t<tr><th scope=row>1993</th><td>1.450</td><td>1.668</td><td>1.648</td><td>1.863</td></tr>\n",
       "\t<tr><th scope=row>1994</th><td>1.468</td><td>1.755</td><td>1.962</td><td>1.833</td></tr>\n",
       "\t<tr><th scope=row>1995</th><td>1.626</td><td>1.703</td><td>1.733</td><td>1.545</td></tr>\n",
       "\t<tr><th scope=row>1996</th><td>1.526</td><td>1.593</td><td>1.706</td><td>1.699</td></tr>\n",
       "\t<tr><th scope=row>1997</th><td>1.511</td><td>1.785</td><td>1.826</td><td>1.830</td></tr>\n",
       "\t<tr><th scope=row>1998</th><td>1.719</td><td>1.861</td><td>1.956</td><td>2.067</td></tr>\n",
       "\t<tr><th scope=row>1999</th><td>1.737</td><td>1.944</td><td>2.005</td><td>2.027</td></tr>\n",
       "\t<tr><th scope=row>2000</th><td>1.835</td><td>2.070</td><td>1.898</td><td>1.652</td></tr>\n",
       "\t<tr><th scope=row>2001</th><td>1.554</td><td>1.717</td><td>1.679</td><td>1.836</td></tr>\n",
       "\t<tr><th scope=row>2002</th><td>1.729</td><td>1.992</td><td>2.030</td><td>1.978</td></tr>\n",
       "\t<tr><th scope=row>2003</th><td>1.831</td><td>1.892</td><td>2.227</td><td>2.090</td></tr>\n",
       "\t<tr><th scope=row>2004</th><td>1.963</td><td>2.180</td><td>2.307</td><td>2.157</td></tr>\n",
       "\t<tr><th scope=row>2005</th><td>1.980</td><td>2.481</td><td>2.340</td><td>2.265</td></tr>\n",
       "\t<tr><th scope=row>2006</th><td>2.027</td><td>2.278</td><td>2.427</td><td>2.451</td></tr>\n",
       "\t<tr><th scope=row>2007</th><td>2.140</td><td>2.362</td><td>2.536</td><td>2.562</td></tr>\n",
       "\t<tr><th scope=row>2008</th><td>2.183</td><td>2.558</td><td>2.612</td><td>2.373</td></tr>\n",
       "\t<tr><th scope=row>2009</th><td>1.963</td><td>2.160</td><td>2.325</td><td>2.273</td></tr>\n",
       "\t<tr><th scope=row>2010</th><td>1.904</td><td>2.401</td><td>2.494</td><td>2.296</td></tr>\n",
       "\t<tr><th scope=row>2011</th><td>2.055</td><td>2.273</td><td>2.499</td><td>2.390</td></tr>\n",
       "\t<tr><th scope=row>2012</th><td>2.067</td><td>2.223</td><td>2.451</td><td>2.503</td></tr>\n",
       "\t<tr><th scope=row>2013</th><td>2.049</td><td>2.528</td><td>2.637</td><td>2.565</td></tr>\n",
       "\t<tr><th scope=row>2014</th><td>2.229</td><td>     </td><td>     </td><td>     </td></tr>\n",
       "</tbody>\n",
       "</table>\n"
      ],
      "text/latex": [
       "A Time Series: 59 × 4\n",
       "\\begin{tabular}{r|llll}\n",
       "  & Qtr1 & Qtr2 & Qtr3 & Qtr4\\\\\n",
       "\\hline\n",
       "\t1956 & 0.465 & 0.532 & 0.561 & 0.570\\\\\n",
       "\t1957 & 0.529 & 0.604 & 0.603 & 0.582\\\\\n",
       "\t1958 & 0.554 & 0.620 & 0.646 & 0.637\\\\\n",
       "\t1959 & 0.573 & 0.673 & 0.690 & 0.681\\\\\n",
       "\t1960 & 0.621 & 0.698 & 0.753 & 0.728\\\\\n",
       "\t1961 & 0.688 & 0.737 & 0.742 & 0.692\\\\\n",
       "\t1962 & 0.637 & 0.757 & 0.783 & 0.757\\\\\n",
       "\t1963 & 0.674 & 0.774 & 0.835 & 0.838\\\\\n",
       "\t1964 & 0.797 & 0.904 & 0.949 & 0.975\\\\\n",
       "\t1965 & 0.902 & 0.974 & 0.969 & 0.967\\\\\n",
       "\t1966 & 0.849 & 0.961 & 0.966 & 0.922\\\\\n",
       "\t1967 & 0.836 & 0.998 & 1.025 & 0.971\\\\\n",
       "\t1968 & 0.892 & 0.973 & 1.047 & 1.017\\\\\n",
       "\t1969 & 0.948 & 1.032 & 1.190 & 1.136\\\\\n",
       "\t1970 & 1.049 & 1.134 & 1.229 & 1.188\\\\\n",
       "\t1971 & 1.058 & 1.209 & 1.199 & 1.253\\\\\n",
       "\t1972 & 1.070 & 1.282 & 1.303 & 1.281\\\\\n",
       "\t1973 & 1.148 & 1.305 & 1.342 & 1.452\\\\\n",
       "\t1974 & 1.184 & 1.352 & 1.316 & 1.353\\\\\n",
       "\t1975 & 1.121 & 1.297 & 1.318 & 1.281\\\\\n",
       "\t1976 & 1.109 & 1.299 & 1.341 & 1.290\\\\\n",
       "\t1977 & 1.101 & 1.284 & 1.321 & 1.317\\\\\n",
       "\t1978 & 1.122 & 1.261 & 1.312 & 1.298\\\\\n",
       "\t1979 & 1.205 & 1.302 & 1.377 & 1.359\\\\\n",
       "\t1980 & 1.232 & 1.386 & 1.440 & 1.439\\\\\n",
       "\t1981 & 1.282 & 1.573 & 1.533 & 1.641\\\\\n",
       "\t1982 & 1.337 & 1.575 & 1.475 & 1.357\\\\\n",
       "\t1983 & 1.086 & 1.158 & 1.279 & 1.313\\\\\n",
       "\t1984 & 1.166 & 1.373 & 1.456 & 1.495\\\\\n",
       "\t1985 & 1.251 & 1.456 & 1.631 & 1.555\\\\\n",
       "\t1986 & 1.375 & 1.546 & 1.568 & 1.561\\\\\n",
       "\t1987 & 1.332 & 1.458 & 1.501 & 1.615\\\\\n",
       "\t1988 & 1.418 & 1.625 & 1.770 & 1.791\\\\\n",
       "\t1989 & 1.621 & 1.719 & 1.972 & 1.894\\\\\n",
       "\t1990 & 1.565 & 1.645 & 1.658 & 1.668\\\\\n",
       "\t1991 & 1.343 & 1.441 & 1.444 & 1.497\\\\\n",
       "\t1992 & 1.289 & 1.501 & 1.539 & 1.568\\\\\n",
       "\t1993 & 1.450 & 1.668 & 1.648 & 1.863\\\\\n",
       "\t1994 & 1.468 & 1.755 & 1.962 & 1.833\\\\\n",
       "\t1995 & 1.626 & 1.703 & 1.733 & 1.545\\\\\n",
       "\t1996 & 1.526 & 1.593 & 1.706 & 1.699\\\\\n",
       "\t1997 & 1.511 & 1.785 & 1.826 & 1.830\\\\\n",
       "\t1998 & 1.719 & 1.861 & 1.956 & 2.067\\\\\n",
       "\t1999 & 1.737 & 1.944 & 2.005 & 2.027\\\\\n",
       "\t2000 & 1.835 & 2.070 & 1.898 & 1.652\\\\\n",
       "\t2001 & 1.554 & 1.717 & 1.679 & 1.836\\\\\n",
       "\t2002 & 1.729 & 1.992 & 2.030 & 1.978\\\\\n",
       "\t2003 & 1.831 & 1.892 & 2.227 & 2.090\\\\\n",
       "\t2004 & 1.963 & 2.180 & 2.307 & 2.157\\\\\n",
       "\t2005 & 1.980 & 2.481 & 2.340 & 2.265\\\\\n",
       "\t2006 & 2.027 & 2.278 & 2.427 & 2.451\\\\\n",
       "\t2007 & 2.140 & 2.362 & 2.536 & 2.562\\\\\n",
       "\t2008 & 2.183 & 2.558 & 2.612 & 2.373\\\\\n",
       "\t2009 & 1.963 & 2.160 & 2.325 & 2.273\\\\\n",
       "\t2010 & 1.904 & 2.401 & 2.494 & 2.296\\\\\n",
       "\t2011 & 2.055 & 2.273 & 2.499 & 2.390\\\\\n",
       "\t2012 & 2.067 & 2.223 & 2.451 & 2.503\\\\\n",
       "\t2013 & 2.049 & 2.528 & 2.637 & 2.565\\\\\n",
       "\t2014 & 2.229 &       &       &      \\\\\n",
       "\\end{tabular}\n"
      ],
      "text/markdown": [
       "\n",
       "A Time Series: 59 × 4\n",
       "\n",
       "| <!--/--> | Qtr1 | Qtr2 | Qtr3 | Qtr4 |\n",
       "|---|---|---|---|---|\n",
       "| 1956 | 0.465 | 0.532 | 0.561 | 0.570 |\n",
       "| 1957 | 0.529 | 0.604 | 0.603 | 0.582 |\n",
       "| 1958 | 0.554 | 0.620 | 0.646 | 0.637 |\n",
       "| 1959 | 0.573 | 0.673 | 0.690 | 0.681 |\n",
       "| 1960 | 0.621 | 0.698 | 0.753 | 0.728 |\n",
       "| 1961 | 0.688 | 0.737 | 0.742 | 0.692 |\n",
       "| 1962 | 0.637 | 0.757 | 0.783 | 0.757 |\n",
       "| 1963 | 0.674 | 0.774 | 0.835 | 0.838 |\n",
       "| 1964 | 0.797 | 0.904 | 0.949 | 0.975 |\n",
       "| 1965 | 0.902 | 0.974 | 0.969 | 0.967 |\n",
       "| 1966 | 0.849 | 0.961 | 0.966 | 0.922 |\n",
       "| 1967 | 0.836 | 0.998 | 1.025 | 0.971 |\n",
       "| 1968 | 0.892 | 0.973 | 1.047 | 1.017 |\n",
       "| 1969 | 0.948 | 1.032 | 1.190 | 1.136 |\n",
       "| 1970 | 1.049 | 1.134 | 1.229 | 1.188 |\n",
       "| 1971 | 1.058 | 1.209 | 1.199 | 1.253 |\n",
       "| 1972 | 1.070 | 1.282 | 1.303 | 1.281 |\n",
       "| 1973 | 1.148 | 1.305 | 1.342 | 1.452 |\n",
       "| 1974 | 1.184 | 1.352 | 1.316 | 1.353 |\n",
       "| 1975 | 1.121 | 1.297 | 1.318 | 1.281 |\n",
       "| 1976 | 1.109 | 1.299 | 1.341 | 1.290 |\n",
       "| 1977 | 1.101 | 1.284 | 1.321 | 1.317 |\n",
       "| 1978 | 1.122 | 1.261 | 1.312 | 1.298 |\n",
       "| 1979 | 1.205 | 1.302 | 1.377 | 1.359 |\n",
       "| 1980 | 1.232 | 1.386 | 1.440 | 1.439 |\n",
       "| 1981 | 1.282 | 1.573 | 1.533 | 1.641 |\n",
       "| 1982 | 1.337 | 1.575 | 1.475 | 1.357 |\n",
       "| 1983 | 1.086 | 1.158 | 1.279 | 1.313 |\n",
       "| 1984 | 1.166 | 1.373 | 1.456 | 1.495 |\n",
       "| 1985 | 1.251 | 1.456 | 1.631 | 1.555 |\n",
       "| 1986 | 1.375 | 1.546 | 1.568 | 1.561 |\n",
       "| 1987 | 1.332 | 1.458 | 1.501 | 1.615 |\n",
       "| 1988 | 1.418 | 1.625 | 1.770 | 1.791 |\n",
       "| 1989 | 1.621 | 1.719 | 1.972 | 1.894 |\n",
       "| 1990 | 1.565 | 1.645 | 1.658 | 1.668 |\n",
       "| 1991 | 1.343 | 1.441 | 1.444 | 1.497 |\n",
       "| 1992 | 1.289 | 1.501 | 1.539 | 1.568 |\n",
       "| 1993 | 1.450 | 1.668 | 1.648 | 1.863 |\n",
       "| 1994 | 1.468 | 1.755 | 1.962 | 1.833 |\n",
       "| 1995 | 1.626 | 1.703 | 1.733 | 1.545 |\n",
       "| 1996 | 1.526 | 1.593 | 1.706 | 1.699 |\n",
       "| 1997 | 1.511 | 1.785 | 1.826 | 1.830 |\n",
       "| 1998 | 1.719 | 1.861 | 1.956 | 2.067 |\n",
       "| 1999 | 1.737 | 1.944 | 2.005 | 2.027 |\n",
       "| 2000 | 1.835 | 2.070 | 1.898 | 1.652 |\n",
       "| 2001 | 1.554 | 1.717 | 1.679 | 1.836 |\n",
       "| 2002 | 1.729 | 1.992 | 2.030 | 1.978 |\n",
       "| 2003 | 1.831 | 1.892 | 2.227 | 2.090 |\n",
       "| 2004 | 1.963 | 2.180 | 2.307 | 2.157 |\n",
       "| 2005 | 1.980 | 2.481 | 2.340 | 2.265 |\n",
       "| 2006 | 2.027 | 2.278 | 2.427 | 2.451 |\n",
       "| 2007 | 2.140 | 2.362 | 2.536 | 2.562 |\n",
       "| 2008 | 2.183 | 2.558 | 2.612 | 2.373 |\n",
       "| 2009 | 1.963 | 2.160 | 2.325 | 2.273 |\n",
       "| 2010 | 1.904 | 2.401 | 2.494 | 2.296 |\n",
       "| 2011 | 2.055 | 2.273 | 2.499 | 2.390 |\n",
       "| 2012 | 2.067 | 2.223 | 2.451 | 2.503 |\n",
       "| 2013 | 2.049 | 2.528 | 2.637 | 2.565 |\n",
       "| 2014 | 2.229 | <!----> | <!----> | <!----> |\n",
       "\n"
      ],
      "text/plain": [
       "     Qtr1  Qtr2  Qtr3  Qtr4 \n",
       "1956 0.465 0.532 0.561 0.570\n",
       "1957 0.529 0.604 0.603 0.582\n",
       "1958 0.554 0.620 0.646 0.637\n",
       "1959 0.573 0.673 0.690 0.681\n",
       "1960 0.621 0.698 0.753 0.728\n",
       "1961 0.688 0.737 0.742 0.692\n",
       "1962 0.637 0.757 0.783 0.757\n",
       "1963 0.674 0.774 0.835 0.838\n",
       "1964 0.797 0.904 0.949 0.975\n",
       "1965 0.902 0.974 0.969 0.967\n",
       "1966 0.849 0.961 0.966 0.922\n",
       "1967 0.836 0.998 1.025 0.971\n",
       "1968 0.892 0.973 1.047 1.017\n",
       "1969 0.948 1.032 1.190 1.136\n",
       "1970 1.049 1.134 1.229 1.188\n",
       "1971 1.058 1.209 1.199 1.253\n",
       "1972 1.070 1.282 1.303 1.281\n",
       "1973 1.148 1.305 1.342 1.452\n",
       "1974 1.184 1.352 1.316 1.353\n",
       "1975 1.121 1.297 1.318 1.281\n",
       "1976 1.109 1.299 1.341 1.290\n",
       "1977 1.101 1.284 1.321 1.317\n",
       "1978 1.122 1.261 1.312 1.298\n",
       "1979 1.205 1.302 1.377 1.359\n",
       "1980 1.232 1.386 1.440 1.439\n",
       "1981 1.282 1.573 1.533 1.641\n",
       "1982 1.337 1.575 1.475 1.357\n",
       "1983 1.086 1.158 1.279 1.313\n",
       "1984 1.166 1.373 1.456 1.495\n",
       "1985 1.251 1.456 1.631 1.555\n",
       "1986 1.375 1.546 1.568 1.561\n",
       "1987 1.332 1.458 1.501 1.615\n",
       "1988 1.418 1.625 1.770 1.791\n",
       "1989 1.621 1.719 1.972 1.894\n",
       "1990 1.565 1.645 1.658 1.668\n",
       "1991 1.343 1.441 1.444 1.497\n",
       "1992 1.289 1.501 1.539 1.568\n",
       "1993 1.450 1.668 1.648 1.863\n",
       "1994 1.468 1.755 1.962 1.833\n",
       "1995 1.626 1.703 1.733 1.545\n",
       "1996 1.526 1.593 1.706 1.699\n",
       "1997 1.511 1.785 1.826 1.830\n",
       "1998 1.719 1.861 1.956 2.067\n",
       "1999 1.737 1.944 2.005 2.027\n",
       "2000 1.835 2.070 1.898 1.652\n",
       "2001 1.554 1.717 1.679 1.836\n",
       "2002 1.729 1.992 2.030 1.978\n",
       "2003 1.831 1.892 2.227 2.090\n",
       "2004 1.963 2.180 2.307 2.157\n",
       "2005 1.980 2.481 2.340 2.265\n",
       "2006 2.027 2.278 2.427 2.451\n",
       "2007 2.140 2.362 2.536 2.562\n",
       "2008 2.183 2.558 2.612 2.373\n",
       "2009 1.963 2.160 2.325 2.273\n",
       "2010 1.904 2.401 2.494 2.296\n",
       "2011 2.055 2.273 2.499 2.390\n",
       "2012 2.067 2.223 2.451 2.503\n",
       "2013 2.049 2.528 2.637 2.565\n",
       "2014 2.229                  "
      ]
     },
     "metadata": {},
     "output_type": "display_data"
    }
   ],
   "source": [
    "qcement"
   ]
  },
  {
   "cell_type": "code",
   "execution_count": 7,
   "metadata": {
    "scrolled": true
   },
   "outputs": [
    {
     "data": {
      "text/plain": [
       "        Point Forecast    Lo 80    Hi 80    Lo 95    Hi 95\n",
       "2014 Q2        2.40074 2.217551 2.583928 2.120577 2.680903\n",
       "2014 Q3        2.40074 2.206386 2.595094 2.103501 2.697979\n",
       "2014 Q4        2.40074 2.195828 2.605652 2.087354 2.714126\n",
       "2015 Q1        2.40074 2.185788 2.615692 2.071999 2.729481"
      ]
     },
     "metadata": {},
     "output_type": "display_data"
    },
    {
     "name": "stdout",
     "output_type": "stream",
     "text": [
      "\n",
      "Forecast method: Holt's method\n",
      "\n",
      "Model Information:\n",
      "Holt's method \n",
      "\n",
      "Call:\n",
      " holt(y = qcement, h = 4) \n",
      "\n",
      "  Smoothing parameters:\n",
      "    alpha = 0.3028 \n",
      "    beta  = 1e-04 \n",
      "\n",
      "  Initial states:\n",
      "    l = 0.5049 \n",
      "    b = 0.0081 \n",
      "\n",
      "  sigma:  0.1414\n",
      "\n",
      "     AIC     AICc      BIC \n",
      "364.4692 364.7335 381.7244 \n",
      "\n",
      "Error measures:\n",
      "                       ME      RMSE       MAE        MPE     MAPE     MASE\n",
      "Training set 0.0002894225 0.1401761 0.1074737 -0.5524654 7.181068 1.052087\n",
      "                   ACF1\n",
      "Training set 0.09672077\n",
      "\n",
      "Forecasts:\n",
      "        Point Forecast    Lo 80    Hi 80    Lo 95    Hi 95\n",
      "2014 Q2       2.427549 2.246344 2.608754 2.150420 2.704678\n",
      "2014 Q3       2.435677 2.246340 2.625014 2.146111 2.725243\n",
      "2014 Q4       2.443805 2.246665 2.640944 2.142306 2.745303\n",
      "2015 Q1       2.451932 2.247283 2.656581 2.138949 2.764916\n",
      "\n",
      "Forecast method: Damped Holt's method\n",
      "\n",
      "Model Information:\n",
      "Damped Holt's method \n",
      "\n",
      "Call:\n",
      " holt(y = qcement, h = 4, damped = TRUE) \n",
      "\n",
      "  Smoothing parameters:\n",
      "    alpha = 0.3004 \n",
      "    beta  = 0.0014 \n",
      "    phi   = 0.98 \n",
      "\n",
      "  Initial states:\n",
      "    l = 0.4425 \n",
      "    b = 0.0158 \n",
      "\n",
      "  sigma:  0.1429\n",
      "\n",
      "     AIC     AICc      BIC \n",
      "370.3683 370.7400 391.0746 \n",
      "\n",
      "Error measures:\n",
      "                     ME      RMSE      MAE       MPE     MAPE     MASE\n",
      "Training set 0.01467644 0.1413539 0.109862 0.2929146 7.263065 1.075467\n",
      "                  ACF1\n",
      "Training set 0.1037324\n",
      "\n",
      "Forecasts:\n",
      "        Point Forecast    Lo 80    Hi 80    Lo 95    Hi 95\n",
      "2014 Q2       2.406192 2.223065 2.589320 2.126123 2.686262\n",
      "2014 Q3       2.407788 2.216503 2.599073 2.115243 2.700333\n",
      "2014 Q4       2.409351 2.210173 2.608530 2.104734 2.713968\n",
      "2015 Q1       2.410884 2.204046 2.617721 2.094553 2.727214\n"
     ]
    }
   ],
   "source": [
    "#단순지수평활법 적용\n",
    "ses_fit<-ses(qcement, initial='optimal', h=4)\n",
    "ses_fit\n",
    "\n",
    "#홀트선형추세평활법 적용\n",
    "holt_fit<-holt(qcement, h=4)\n",
    "#홀트선형추세평활법에서 감쇠추세법 적용\n",
    "holt_d_fit<-holt(qcement, damped=TRUE, h=4)\n",
    "\n",
    "# 홀트선형 vs 홀트선형(감쇠추세)비교\n",
    "summary(holt_fit) # RMSE값이 더 낮음 \n",
    "summary(holt_d_fit)"
   ]
  },
  {
   "cell_type": "code",
   "execution_count": 9,
   "metadata": {
    "scrolled": true
   },
   "outputs": [
    {
     "name": "stdout",
     "output_type": "stream",
     "text": [
      "\n",
      "Forecast method: Holt-Winters' additive method\n",
      "\n",
      "Model Information:\n",
      "Holt-Winters' additive method \n",
      "\n",
      "Call:\n",
      " hw(y = qcement, seasonal = \"additive\") \n",
      "\n",
      "  Smoothing parameters:\n",
      "    alpha = 0.6282 \n",
      "    beta  = 0.0085 \n",
      "    gamma = 0.2008 \n",
      "\n",
      "  Initial states:\n",
      "    l = 0.516 \n",
      "    b = 0.015 \n",
      "    s = -0.0116 0.0265 0.0295 -0.0444\n",
      "\n",
      "  sigma:  0.0858\n",
      "\n",
      "     AIC     AICc      BIC \n",
      "135.3290 136.1361 166.3883 \n",
      "\n",
      "Error measures:\n",
      "                       ME       RMSE        MAE        MPE     MAPE      MASE\n",
      "Training set -0.002646379 0.08426908 0.05974216 -0.4880523 3.869985 0.5848311\n",
      "                   ACF1\n",
      "Training set 0.01959475\n",
      "\n",
      "Forecasts:\n",
      "        Point Forecast    Lo 80    Hi 80    Lo 95    Hi 95\n",
      "2014 Q2       2.565692 2.455793 2.675590 2.397617 2.733767\n",
      "2014 Q3       2.705545 2.575264 2.835826 2.506297 2.904792\n",
      "2014 Q4       2.613016 2.464691 2.761340 2.386172 2.839859\n",
      "2015 Q1       2.264603 2.099798 2.429409 2.012555 2.516652\n",
      "2015 Q2       2.604904 2.414760 2.795047 2.314105 2.895702\n",
      "2015 Q3       2.744757 2.540828 2.948686 2.432874 3.056639\n",
      "2015 Q4       2.652227 2.435068 2.869387 2.320110 2.984344\n",
      "2016 Q1       2.303815 2.073881 2.533750 1.952160 2.655470\n",
      "\n",
      "Forecast method: Holt-Winters' multiplicative method\n",
      "\n",
      "Model Information:\n",
      "Holt-Winters' multiplicative method \n",
      "\n",
      "Call:\n",
      " hw(y = qcement, seasonal = \"multiplicative\") \n",
      "\n",
      "  Smoothing parameters:\n",
      "    alpha = 0.6455 \n",
      "    beta  = 0.0027 \n",
      "    gamma = 3e-04 \n",
      "\n",
      "  Initial states:\n",
      "    l = 0.2898 \n",
      "    b = 0.0039 \n",
      "    s = 1.029 1.0527 1.0167 0.9017\n",
      "\n",
      "  sigma:  0.071\n",
      "\n",
      "     AIC     AICc      BIC \n",
      "192.9926 193.7997 224.0519 \n",
      "\n",
      "Error measures:\n",
      "                      ME       RMSE        MAE       MPE     MAPE      MASE\n",
      "Training set 0.005117106 0.07977178 0.05711173 0.4657717 3.893983 0.5590812\n",
      "                   ACF1\n",
      "Training set 0.08396013\n",
      "\n",
      "Forecasts:\n",
      "        Point Forecast    Lo 80    Hi 80    Lo 95    Hi 95\n",
      "2014 Q2       2.529656 2.299584 2.759728 2.177792 2.881520\n",
      "2014 Q3       2.626608 2.341955 2.911261 2.191268 3.061947\n",
      "2014 Q4       2.575170 2.257326 2.893014 2.089069 3.061270\n",
      "2015 Q1       2.263464 1.953608 2.573320 1.789580 2.737348\n",
      "2015 Q2       2.558916 2.177082 2.940750 1.974951 3.142881\n",
      "2015 Q3       2.656902 2.230096 3.083708 2.004158 3.309645\n",
      "2015 Q4       2.604785 2.158447 3.051123 1.922170 3.287400\n",
      "2016 Q1       2.289420 1.873934 2.704906 1.653989 2.924851\n"
     ]
    },
    {
     "data": {
      "image/png": "[encoded data removed]",
      "text/plain": [
       "plot without title"
      ]
     },
     "metadata": {
      "image/png": {
       "height": 420,
       "width": 420
      }
     },
     "output_type": "display_data"
    }
   ],
   "source": [
    "# 홀트윈터스 가법vs승법 선택하기 전에 원본 데이터 plot그려보기\n",
    "plot(qcement) # 증가추세이므로 '승법'모형 적용!\n",
    "\n",
    "# 요약값으로 비교해보기\n",
    "hw_a_fit<-hw(qcement, seasonal='additive') #가법모형\n",
    "hw_m_fit<-hw(qcement, seasonal='multiplicative') #승법모형\n",
    "\n",
    "summary(hw_a_fit)\n",
    "summary(hw_m_fit) # 예상대로 승법모형의 RMSE값이 더 낮음"
   ]
  },
  {
   "cell_type": "code",
   "execution_count": 27,
   "metadata": {},
   "outputs": [
    {
     "data": {
      "image/png": "[encoded data removed]",
      "text/plain": [
       "Plot with title \"Forecasts from Simple exponential smoothing\""
      ]
     },
     "metadata": {
      "image/png": {
       "height": 420,
       "width": 420
      }
     },
     "output_type": "display_data"
    },
    {
     "data": {
      "image/png": "[encoded data removed]",
      "text/plain": [
       "Plot with title \"Forecasts from Holt's method\""
      ]
     },
     "metadata": {
      "image/png": {
       "height": 420,
       "width": 420
      }
     },
     "output_type": "display_data"
    },
    {
     "data": {
      "image/png": "[encoded data removed]",
      "text/plain": [
       "Plot with title \"Forecasts from Holt-Winters' multiplicative method\""
      ]
     },
     "metadata": {
      "image/png": {
       "height": 420,
       "width": 420
      }
     },
     "output_type": "display_data"
    }
   ],
   "source": [
    "# 각 모형에 따른 원데이터, 적합된 값, (예측값까지) 시각화\n",
    "\n",
    "# 단순지수평활법 (ses) #예측값 x\n",
    "plot(ses_fit)\n",
    "lines(ses_fit$fitted, col='red')\n",
    "\n",
    "# 홀트선형지수평활법 #선형으로 예측해줌\n",
    "plot(holt_fit)\n",
    "lines(holt_fit$fitted, col='red')\n",
    "\n",
    "# 홀트윈터스(승법)모형 #계절성분까지 예측해줌!\n",
    "plot(hw_m_fit)\n",
    "lines(hw_m_fit$fitted, col='red')"
   ]
  },
  {
   "cell_type": "code",
   "execution_count": 32,
   "metadata": {},
   "outputs": [
    {
     "data": {
      "text/html": [
       "<style>\n",
       ".list-inline {list-style: none; margin:0; padding: 0}\n",
       ".list-inline>li {display: inline-block}\n",
       ".list-inline>li:not(:last-child)::after {content: \"\\00b7\"; padding: 0 .5ex}\n",
       "</style>\n",
       "<ol class=list-inline><li>1.15105710884003</li><li>0.147076549987648</li><li>0.142871320749225</li><li>0.142629698877881</li><li>0.144392877950511</li><li>0.147295023010757</li><li>0.150808941883882</li><li>0.154603378552587</li><li>0.158519844275332</li><li>0.162175442542693</li><li>0.162596105618283</li></ol>\n"
      ],
      "text/latex": [
       "\\begin{enumerate*}\n",
       "\\item 1.15105710884003\n",
       "\\item 0.147076549987648\n",
       "\\item 0.142871320749225\n",
       "\\item 0.142629698877881\n",
       "\\item 0.144392877950511\n",
       "\\item 0.147295023010757\n",
       "\\item 0.150808941883882\n",
       "\\item 0.154603378552587\n",
       "\\item 0.158519844275332\n",
       "\\item 0.162175442542693\n",
       "\\item 0.162596105618283\n",
       "\\end{enumerate*}\n"
      ],
      "text/markdown": [
       "1. 1.15105710884003\n",
       "2. 0.147076549987648\n",
       "3. 0.142871320749225\n",
       "4. 0.142629698877881\n",
       "5. 0.144392877950511\n",
       "6. 0.147295023010757\n",
       "7. 0.150808941883882\n",
       "8. 0.154603378552587\n",
       "9. 0.158519844275332\n",
       "10. 0.162175442542693\n",
       "11. 0.162596105618283\n",
       "\n",
       "\n"
      ],
      "text/plain": [
       " [1] 1.1510571 0.1470765 0.1428713 0.1426297 0.1443929 0.1472950 0.1508089\n",
       " [8] 0.1546034 0.1585198 0.1621754 0.1625961"
      ]
     },
     "metadata": {},
     "output_type": "display_data"
    },
    {
     "data": {
      "image/png": "[encoded data removed]",
      "text/plain": [
       "plot without title"
      ]
     },
     "metadata": {
      "image/png": {
       "height": 420,
       "width": 420
      }
     },
     "output_type": "display_data"
    }
   ],
   "source": [
    "# 단순지수평활법의 최적 파라미터 값 찾아보기(초기값은 simple고정)\n",
    "x_alpha<-c(0,0.2,0.3,0.4,0.5,0.6,0.7,0.8,0.9,0.99,1)\n",
    "y_rmse<-c()\n",
    "for (a in x_alpha){\n",
    "    ses_fit<-ses(qcement, initial='simple', alpha=a)\n",
    "    ses_rmse<-sqrt(mean(ses_fit$residuals^2))\n",
    "    y_rmse<-append(y_rmse, ses_rmse)\n",
    "}\n",
    "y_rmse\n",
    "\n",
    "plot(x=x_alpha, y=y_rmse, 'l', col='red')\n",
    "\n",
    "#최적의 aplha값은 0.4일때!! RMSE값이 가장 낮다!"
   ]
  },
  {
   "cell_type": "code",
   "execution_count": 34,
   "metadata": {},
   "outputs": [
    {
     "name": "stdout",
     "output_type": "stream",
     "text": [
      "\n",
      "Forecast method: Simple exponential smoothing\n",
      "\n",
      "Model Information:\n",
      "Simple exponential smoothing \n",
      "\n",
      "Call:\n",
      " ses(y = qcement, initial = \"optimal\") \n",
      "\n",
      "  Smoothing parameters:\n",
      "    alpha = 0.3544 \n",
      "\n",
      "  Initial states:\n",
      "    l = 0.5238 \n",
      "\n",
      "  sigma:  0.1429\n",
      "\n",
      "     AIC     AICc      BIC \n",
      "367.5689 367.6738 377.9221 \n",
      "\n",
      "Error measures:\n",
      "                     ME      RMSE       MAE      MPE    MAPE     MASE\n",
      "Training set 0.02272868 0.1423281 0.1128535 1.188193 7.57987 1.104752\n",
      "                   ACF1\n",
      "Training set 0.05532794\n",
      "\n",
      "Forecasts:\n",
      "        Point Forecast    Lo 80    Hi 80    Lo 95    Hi 95\n",
      "2014 Q2        2.40074 2.217551 2.583928 2.120577 2.680903\n",
      "2014 Q3        2.40074 2.206386 2.595094 2.103501 2.697979\n",
      "2014 Q4        2.40074 2.195828 2.605652 2.087354 2.714126\n",
      "2015 Q1        2.40074 2.185788 2.615692 2.071999 2.729481\n",
      "2015 Q2        2.40074 2.176196 2.625283 2.057330 2.744150\n",
      "2015 Q3        2.40074 2.166998 2.634482 2.043262 2.758217\n",
      "2015 Q4        2.40074 2.158148 2.643332 2.029728 2.771752\n",
      "2016 Q1        2.40074 2.149610 2.651870 2.016670 2.784810\n",
      "2016 Q2        2.40074 2.141353 2.660127 2.004041 2.797438\n",
      "2016 Q3        2.40074 2.133350 2.668129 1.991803 2.809677\n"
     ]
    }
   ],
   "source": [
    "ses_optimal<-ses(qcement, initial='optimal')\n",
    "summary(ses_optimal)"
   ]
  },
  {
   "cell_type": "code",
   "execution_count": 59,
   "metadata": {},
   "outputs": [],
   "source": [
    "# train은 1956~2010년까지\n",
    "# test는 2011년~2014년1분기까지\n",
    "train<-window(qcement, start=1956, end=c(2010,4), frequency = 4)\n",
    "    # frequency=1로 바꾸면 1분기의 데이터만 따와서 연도별로바꿈!\n",
    "test<-window(qcement, start=2011, end=2014)"
   ]
  },
  {
   "cell_type": "code",
   "execution_count": 60,
   "metadata": {
    "scrolled": true
   },
   "outputs": [
    {
     "name": "stdout",
     "output_type": "stream",
     "text": [
      "ETS(A,A,A) \n",
      "\n",
      "Call:\n",
      " ets(y = train, model = \"AAA\") \n",
      "\n",
      "  Smoothing parameters:\n",
      "    alpha = 0.6639 \n",
      "    beta  = 1e-04 \n",
      "    gamma = 0.1949 \n",
      "\n",
      "  Initial states:\n",
      "    l = 0.4826 \n",
      "    b = 0.0072 \n",
      "    s = 7e-04 0.0236 0.03 -0.0543\n",
      "\n",
      "  sigma:  0.084\n",
      "\n",
      "     AIC     AICc      BIC \n",
      "106.6394 107.4965 137.1820 \n",
      "\n",
      "Training set error measures:\n",
      "                      ME       RMSE        MAE         MPE     MAPE      MASE\n",
      "Training set 0.001360807 0.08246671 0.05830051 -0.01164451 3.867442 0.5713402\n",
      "                    ACF1\n",
      "Training set 0.005158834\n",
      "ETS(M,A,A) \n",
      "\n",
      "Call:\n",
      " ets(y = train, model = \"MAA\") \n",
      "\n",
      "  Smoothing parameters:\n",
      "    alpha = 0.6502 \n",
      "    beta  = 1e-04 \n",
      "    gamma = 0.1963 \n",
      "\n",
      "  Initial states:\n",
      "    l = 0.5053 \n",
      "    b = 0.0093 \n",
      "    s = 0.0018 0.0276 0.0181 -0.0475\n",
      "\n",
      "  sigma:  0.0505\n",
      "\n",
      "     AIC     AICc      BIC \n",
      "10.46487 11.32201 41.00752 \n",
      "\n",
      "Training set error measures:\n",
      "                       ME       RMSE        MAE        MPE    MAPE      MASE\n",
      "Training set -0.001737568 0.08244029 0.05781469 -0.2844409 3.80382 0.5665793\n",
      "                   ACF1\n",
      "Training set 0.02002983\n",
      "ETS(M,A,M) \n",
      "\n",
      "Call:\n",
      " ets(y = train, model = \"MAM\") \n",
      "\n",
      "  Smoothing parameters:\n",
      "    alpha = 0.743 \n",
      "    beta  = 0.0084 \n",
      "    gamma = 1e-04 \n",
      "\n",
      "  Initial states:\n",
      "    l = 0.4984 \n",
      "    b = 0.014 \n",
      "    s = 1.0292 1.0484 1.0159 0.9064\n",
      "\n",
      "  sigma:  0.0477\n",
      "\n",
      "      AIC      AICc       BIC \n",
      "-14.14529 -13.28815  16.39736 \n",
      "\n",
      "Training set error measures:\n",
      "                      ME       RMSE        MAE        MPE     MAPE      MASE\n",
      "Training set -0.00300942 0.07743937 0.05481242 -0.4191099 3.639438 0.5371573\n",
      "                     ACF1\n",
      "Training set -0.006951526\n",
      "ETS(M,A,M) \n",
      "\n",
      "Call:\n",
      " ets(y = train, model = \"ZZZ\") \n",
      "\n",
      "  Smoothing parameters:\n",
      "    alpha = 0.743 \n",
      "    beta  = 0.0084 \n",
      "    gamma = 1e-04 \n",
      "\n",
      "  Initial states:\n",
      "    l = 0.4984 \n",
      "    b = 0.014 \n",
      "    s = 1.0292 1.0484 1.0159 0.9064\n",
      "\n",
      "  sigma:  0.0477\n",
      "\n",
      "      AIC      AICc       BIC \n",
      "-14.14529 -13.28815  16.39736 \n",
      "\n",
      "Training set error measures:\n",
      "                      ME       RMSE        MAE        MPE     MAPE      MASE\n",
      "Training set -0.00300942 0.07743937 0.05481242 -0.4191099 3.639438 0.5371573\n",
      "                     ACF1\n",
      "Training set -0.006951526\n"
     ]
    }
   ],
   "source": [
    "# 우선 단순지수평활법은 예측하기엔 적합하지 않다\n",
    "# 홀트선형추세법은 원본 데이터가 계절성을 갖고 있기 때문에 적합x\n",
    "# 홀트윈터스는 가법/승법 중에 승법모형이 RMSE값이 더 낮았으므로 승법선정\n",
    "hw_m<-hw(train, type='multiplicative')\n",
    "\n",
    "# ETS모형 선정하기\n",
    "# Error : 가법/승법 둘다 해보기\n",
    "# Trend : 추세가 있으므로 추세를 더해주자 'A'\n",
    "# Seasonal : 가법Error일때 계절성분 더해주기,\n",
    "    # 승법 Error일때 계절성분 더하거나 곱해주기 총 3가지 경우의 수\n",
    "# 마지막으로 자동으로 해주는 ZZZ모델도 실험\n",
    "\n",
    "ets_1<-ets(train, model='AAA')\n",
    "ets_2<-ets(train, model='MAA')\n",
    "ets_best<-ets(train, model='MAM')\n",
    "ets_4<-ets(train, model='ZZZ')\n",
    "# RMSE값들 비교\n",
    "summary(ets_1) #0.08212788 \n",
    "summary(ets_2) #0.08205705\n",
    "summary(ets_best) #0.07563191 ==> MAM모델이 가장 낮음! => 최적모델선정\n",
    "summary(ets_4) #0.07581958"
   ]
  },
  {
   "cell_type": "code",
   "execution_count": 61,
   "metadata": {
    "scrolled": true
   },
   "outputs": [
    {
     "name": "stdout",
     "output_type": "stream",
     "text": [
      "\n",
      "Forecast method: Holt-Winters' additive method\n",
      "\n",
      "Model Information:\n",
      "Holt-Winters' additive method \n",
      "\n",
      "Call:\n",
      " hw(y = train, type = \"multiplicative\") \n",
      "\n",
      "  Smoothing parameters:\n",
      "    alpha = 0.6639 \n",
      "    beta  = 1e-04 \n",
      "    gamma = 0.1949 \n",
      "\n",
      "  Initial states:\n",
      "    l = 0.4826 \n",
      "    b = 0.0072 \n",
      "    s = 7e-04 0.0236 0.03 -0.0543\n",
      "\n",
      "  sigma:  0.084\n",
      "\n",
      "     AIC     AICc      BIC \n",
      "106.6394 107.4965 137.1820 \n",
      "\n",
      "Error measures:\n",
      "                      ME       RMSE        MAE         MPE     MAPE      MASE\n",
      "Training set 0.001360807 0.08246671 0.05830051 -0.01164451 3.867442 0.5713402\n",
      "                    ACF1\n",
      "Training set 0.005158834\n",
      "\n",
      "Forecasts:\n",
      "        Point Forecast    Lo 80    Hi 80    Lo 95    Hi 95\n",
      "2011 Q1       2.029140 1.921479 2.136801 1.864487 2.193793\n",
      "2011 Q2       2.384876 2.255646 2.514107 2.187235 2.582517\n",
      "2011 Q3       2.461837 2.314150 2.609525 2.235969 2.687706\n",
      "2011 Q4       2.336480 2.172393 2.500566 2.085531 2.587428\n",
      "2012 Q1       2.058069 1.869707 2.246431 1.769994 2.346144\n",
      "2012 Q2       2.413805 2.212321 2.615290 2.105661 2.721949\n",
      "2012 Q3       2.490766 2.276960 2.704573 2.163777 2.817756\n",
      "2012 Q4       2.365409 2.139949 2.590869 2.020597 2.710220\n",
      "ETS(M,A,M) \n",
      "\n",
      "Call:\n",
      " ets(y = train, model = \"MAM\") \n",
      "\n",
      "  Smoothing parameters:\n",
      "    alpha = 0.743 \n",
      "    beta  = 0.0084 \n",
      "    gamma = 1e-04 \n",
      "\n",
      "  Initial states:\n",
      "    l = 0.4984 \n",
      "    b = 0.014 \n",
      "    s = 1.0292 1.0484 1.0159 0.9064\n",
      "\n",
      "  sigma:  0.0477\n",
      "\n",
      "      AIC      AICc       BIC \n",
      "-14.14529 -13.28815  16.39736 \n",
      "\n",
      "Training set error measures:\n",
      "                      ME       RMSE        MAE        MPE     MAPE      MASE\n",
      "Training set -0.00300942 0.07743937 0.05481242 -0.4191099 3.639438 0.5371573\n",
      "                     ACF1\n",
      "Training set -0.006951526\n"
     ]
    }
   ],
   "source": [
    "# 홀트-윈터스 승법모형 vs ETS모델 중 최적인 MAM모델 비교\n",
    "summary(hw_m)\n",
    "summary(ets_best) # RMSE값이 더 낮음 => 가장 최적의 모델로 선정!"
   ]
  },
  {
   "cell_type": "code",
   "execution_count": 67,
   "metadata": {},
   "outputs": [
    {
     "data": {
      "text/plain": [
       "        Point Forecast    Lo 80    Hi 80    Lo 95    Hi 95\n",
       "2011 Q1       2.062236 1.936143 2.188329 1.869393 2.255079\n",
       "2011 Q2       2.319751 2.142489 2.497012 2.048653 2.590849\n",
       "2011 Q3       2.402482 2.187945 2.617020 2.074376 2.730589\n",
       "2011 Q4       2.366992 2.128595 2.605389 2.002396 2.731588\n",
       "2012 Q1       2.091964 1.859491 2.324437 1.736427 2.447501\n",
       "2012 Q2       2.353071 2.068858 2.637284 1.918405 2.787738\n",
       "2012 Q3       2.436868 2.120417 2.753318 1.952898 2.920837\n",
       "2012 Q4       2.400749 2.068320 2.733177 1.892343 2.909154\n",
       "2013 Q1       2.121693 1.810449 2.432936 1.645687 2.597698\n",
       "2013 Q2       2.386392 2.017459 2.755324 1.822158 2.950626\n",
       "2013 Q3       2.471253 2.070350 2.872156 1.858124 3.084382\n",
       "2013 Q4       2.434505 2.021570 2.847441 1.802975 3.066036\n",
       "2014 Q1       2.151421 1.771042 2.531800 1.569681 2.733160"
      ]
     },
     "metadata": {},
     "output_type": "display_data"
    },
    {
     "data": {
      "text/plain": [
       "        Point Forecast    Lo 80    Hi 80    Lo 95    Hi 95\n",
       "2011 Q1       2.062236 1.936143 2.188329 1.869393 2.255079\n",
       "2011 Q2       2.319751 2.142489 2.497012 2.048653 2.590849\n",
       "2011 Q3       2.402482 2.187945 2.617020 2.074376 2.730589\n",
       "2011 Q4       2.366992 2.128595 2.605389 2.002396 2.731588\n",
       "2012 Q1       2.091964 1.859491 2.324437 1.736427 2.447501\n",
       "2012 Q2       2.353071 2.068858 2.637284 1.918405 2.787738\n",
       "2012 Q3       2.436868 2.120417 2.753318 1.952898 2.920837\n",
       "2012 Q4       2.400749 2.068320 2.733177 1.892343 2.909154"
      ]
     },
     "metadata": {},
     "output_type": "display_data"
    }
   ],
   "source": [
    "# Test데이터와 비교를통해서 예측성 평가하기\n",
    "for_ets_best<-forecast(ets_best, h=13)\n",
    "for_ets_best\n",
    "\n",
    "for_ets_4<-forecast(ets_4)\n",
    "for_ets_4"
   ]
  },
  {
   "cell_type": "code",
   "execution_count": 68,
   "metadata": {},
   "outputs": [
    {
     "data": {
      "text/html": [
       "<style>\n",
       ".list-inline {list-style: none; margin:0; padding: 0}\n",
       ".list-inline>li {display: inline-block}\n",
       ".list-inline>li:not(:last-child)::after {content: \"\\00b7\"; padding: 0 .5ex}\n",
       "</style>\n",
       "<ol class=list-inline><li>'model'</li><li>'mean'</li><li>'level'</li><li>'x'</li><li>'upper'</li><li>'lower'</li><li>'fitted'</li><li>'method'</li><li>'series'</li><li>'residuals'</li></ol>\n"
      ],
      "text/latex": [
       "\\begin{enumerate*}\n",
       "\\item 'model'\n",
       "\\item 'mean'\n",
       "\\item 'level'\n",
       "\\item 'x'\n",
       "\\item 'upper'\n",
       "\\item 'lower'\n",
       "\\item 'fitted'\n",
       "\\item 'method'\n",
       "\\item 'series'\n",
       "\\item 'residuals'\n",
       "\\end{enumerate*}\n"
      ],
      "text/markdown": [
       "1. 'model'\n",
       "2. 'mean'\n",
       "3. 'level'\n",
       "4. 'x'\n",
       "5. 'upper'\n",
       "6. 'lower'\n",
       "7. 'fitted'\n",
       "8. 'method'\n",
       "9. 'series'\n",
       "10. 'residuals'\n",
       "\n",
       "\n"
      ],
      "text/plain": [
       " [1] \"model\"     \"mean\"      \"level\"     \"x\"         \"upper\"     \"lower\"    \n",
       " [7] \"fitted\"    \"method\"    \"series\"    \"residuals\""
      ]
     },
     "metadata": {},
     "output_type": "display_data"
    }
   ],
   "source": [
    "names(for_ets_best)"
   ]
  },
  {
   "cell_type": "code",
   "execution_count": 74,
   "metadata": {},
   "outputs": [
    {
     "data": {
      "text/html": [
       "<table>\n",
       "<caption>A Time Series: 4 × 4</caption>\n",
       "<thead>\n",
       "\t<tr><th></th><th scope=col>Qtr1</th><th scope=col>Qtr2</th><th scope=col>Qtr3</th><th scope=col>Qtr4</th></tr>\n",
       "</thead>\n",
       "<tbody>\n",
       "\t<tr><th scope=row>2011</th><td>-0.007235882</td><td>-0.046750716</td><td> 0.096517623</td><td> 0.023007952</td></tr>\n",
       "\t<tr><th scope=row>2012</th><td>-0.024964208</td><td>-0.130071186</td><td> 0.014132284</td><td> 0.102251347</td></tr>\n",
       "\t<tr><th scope=row>2013</th><td>-0.072692555</td><td> 0.141608319</td><td> 0.165746920</td><td> 0.130494717</td></tr>\n",
       "\t<tr><th scope=row>2014</th><td> 0.077579078</td><td>            </td><td>            </td><td>            </td></tr>\n",
       "</tbody>\n",
       "</table>\n"
      ],
      "text/latex": [
       "A Time Series: 4 × 4\n",
       "\\begin{tabular}{r|llll}\n",
       "  & Qtr1 & Qtr2 & Qtr3 & Qtr4\\\\\n",
       "\\hline\n",
       "\t2011 & -0.007235882 & -0.046750716 &  0.096517623 &  0.023007952\\\\\n",
       "\t2012 & -0.024964208 & -0.130071186 &  0.014132284 &  0.102251347\\\\\n",
       "\t2013 & -0.072692555 &  0.141608319 &  0.165746920 &  0.130494717\\\\\n",
       "\t2014 &  0.077579078 &              &              &             \\\\\n",
       "\\end{tabular}\n"
      ],
      "text/markdown": [
       "\n",
       "A Time Series: 4 × 4\n",
       "\n",
       "| <!--/--> | Qtr1 | Qtr2 | Qtr3 | Qtr4 |\n",
       "|---|---|---|---|---|\n",
       "| 2011 | -0.007235882 | -0.046750716 |  0.096517623 |  0.023007952 |\n",
       "| 2012 | -0.024964208 | -0.130071186 |  0.014132284 |  0.102251347 |\n",
       "| 2013 | -0.072692555 |  0.141608319 |  0.165746920 |  0.130494717 |\n",
       "| 2014 |  0.077579078 | <!----> | <!----> | <!----> |\n",
       "\n"
      ],
      "text/plain": [
       "     Qtr1         Qtr2         Qtr3         Qtr4        \n",
       "2011 -0.007235882 -0.046750716  0.096517623  0.023007952\n",
       "2012 -0.024964208 -0.130071186  0.014132284  0.102251347\n",
       "2013 -0.072692555  0.141608319  0.165746920  0.130494717\n",
       "2014  0.077579078                                       "
      ]
     },
     "metadata": {},
     "output_type": "display_data"
    }
   ],
   "source": [
    "# 실제와 얼마나 차이나는지 비교해보자\n",
    "test-for_ets_best$mean"
   ]
  },
  {
   "cell_type": "code",
   "execution_count": 78,
   "metadata": {},
   "outputs": [
    {
     "data": {
      "text/html": [
       "0.0945175355776353"
      ],
      "text/latex": [
       "0.0945175355776353"
      ],
      "text/markdown": [
       "0.0945175355776353"
      ],
      "text/plain": [
       "[1] 0.09451754"
      ]
     },
     "metadata": {},
     "output_type": "display_data"
    }
   ],
   "source": [
    "# 실제값과 미래예측값의 RMSE\n",
    "sqrt(mean((test-for_ets_best$mean)^2))"
   ]
  },
  {
   "cell_type": "code",
   "execution_count": 85,
   "metadata": {},
   "outputs": [
    {
     "data": {
      "image/png": "[encoded data removed]",
      "text/plain": [
       "plot without title"
      ]
     },
     "metadata": {
      "image/png": {
       "height": 420,
       "width": 420
      }
     },
     "output_type": "display_data"
    }
   ],
   "source": [
    "plot(qcement)\n",
    "lines(for_ets_best$fitted, col='blue')\n",
    "lines(for_ets_best$mean, col='red')"
   ]
  },
  {
   "cell_type": "code",
   "execution_count": 86,
   "metadata": {
    "scrolled": true
   },
   "outputs": [
    {
     "data": {
      "text/html": [
       "<table>\n",
       "<caption>A Time Series: 55 × 4</caption>\n",
       "<thead>\n",
       "\t<tr><th></th><th scope=col>Qtr1</th><th scope=col>Qtr2</th><th scope=col>Qtr3</th><th scope=col>Qtr4</th></tr>\n",
       "</thead>\n",
       "<tbody>\n",
       "\t<tr><th scope=row>1956</th><td> 1.270401e-03</td><td>-5.992114e-03</td><td>-6.168588e-03</td><td> 7.170259e-03</td></tr>\n",
       "\t<tr><th scope=row>1957</th><td> 2.977037e-02</td><td> 1.946688e-03</td><td>-5.454263e-02</td><td>-5.362037e-02</td></tr>\n",
       "\t<tr><th scope=row>1958</th><td> 4.077016e-02</td><td>-1.377153e-02</td><td>-1.593942e-02</td><td>-2.123933e-02</td></tr>\n",
       "\t<tr><th scope=row>1959</th><td>-5.804134e-03</td><td> 2.457123e-02</td><td>-2.055860e-02</td><td>-2.000575e-02</td></tr>\n",
       "\t<tr><th scope=row>1960</th><td> 9.758137e-03</td><td>-1.402440e-02</td><td> 2.181479e-02</td><td>-2.807510e-02</td></tr>\n",
       "\t<tr><th scope=row>1961</th><td> 4.568366e-02</td><td>-5.056150e-02</td><td>-5.460357e-02</td><td>-8.041946e-02</td></tr>\n",
       "\t<tr><th scope=row>1962</th><td> 4.129853e-03</td><td> 4.294615e-02</td><td>-4.119601e-03</td><td>-3.262010e-02</td></tr>\n",
       "\t<tr><th scope=row>1963</th><td>-1.426638e-02</td><td> 4.155022e-03</td><td> 2.974095e-02</td><td> 1.380369e-02</td></tr>\n",
       "\t<tr><th scope=row>1964</th><td> 6.702813e-02</td><td> 1.320672e-02</td><td> 5.666121e-03</td><td> 3.288924e-02</td></tr>\n",
       "\t<tr><th scope=row>1965</th><td> 4.407009e-02</td><td>-3.954959e-02</td><td>-5.920792e-02</td><td>-1.336997e-02</td></tr>\n",
       "\t<tr><th scope=row>1966</th><td>-2.003122e-02</td><td>-8.826033e-03</td><td>-4.103202e-02</td><td>-5.096947e-02</td></tr>\n",
       "\t<tr><th scope=row>1967</th><td> 2.292404e-03</td><td> 5.203309e-02</td><td>-4.689170e-03</td><td>-4.823599e-02</td></tr>\n",
       "\t<tr><th scope=row>1968</th><td> 1.691319e-02</td><td>-3.452440e-02</td><td> 2.074369e-02</td><td>-1.722609e-02</td></tr>\n",
       "\t<tr><th scope=row>1969</th><td> 4.122461e-02</td><td>-3.016793e-02</td><td> 9.575161e-02</td><td>-1.656153e-02</td></tr>\n",
       "\t<tr><th scope=row>1970</th><td> 3.221652e-02</td><td>-3.849371e-02</td><td> 2.806715e-02</td><td>-1.916582e-02</td></tr>\n",
       "\t<tr><th scope=row>1971</th><td>-4.697022e-03</td><td> 7.501212e-03</td><td>-4.730832e-02</td><td> 4.019150e-02</td></tr>\n",
       "\t<tr><th scope=row>1972</th><td>-3.078097e-02</td><td> 4.955381e-02</td><td>-1.311095e-02</td><td>-1.195014e-02</td></tr>\n",
       "\t<tr><th scope=row>1973</th><td> 4.352050e-03</td><td> 5.417493e-03</td><td>-1.182272e-02</td><td> 8.820472e-02</td></tr>\n",
       "\t<tr><th scope=row>1974</th><td>-6.353899e-02</td><td>-8.095715e-03</td><td>-6.755481e-02</td><td> 1.871632e-02</td></tr>\n",
       "\t<tr><th scope=row>1975</th><td>-6.339167e-02</td><td> 5.604243e-03</td><td>-2.259810e-02</td><td>-2.440748e-02</td></tr>\n",
       "\t<tr><th scope=row>1976</th><td>-3.168671e-02</td><td> 2.757823e-02</td><td>-1.210323e-03</td><td>-2.862766e-02</td></tr>\n",
       "\t<tr><th scope=row>1977</th><td>-4.611803e-02</td><td> 1.943478e-02</td><td>-6.208459e-03</td><td> 5.829951e-03</td></tr>\n",
       "\t<tr><th scope=row>1978</th><td>-3.889733e-02</td><td>-1.529652e-02</td><td>-3.483409e-03</td><td>-7.967930e-04</td></tr>\n",
       "\t<tr><th scope=row>1979</th><td> 4.594864e-02</td><td>-3.238859e-02</td><td> 8.533078e-03</td><td> 2.113138e-05</td></tr>\n",
       "\t<tr><th scope=row>1980</th><td> 2.176745e-02</td><td> 1.809802e-03</td><td>-1.334961e-04</td><td> 1.048039e-02</td></tr>\n",
       "\t<tr><th scope=row>1981</th><td> 6.920669e-03</td><td> 8.874614e-02</td><td>-4.256376e-02</td><td> 7.027063e-02</td></tr>\n",
       "\t<tr><th scope=row>1982</th><td>-6.596103e-02</td><td> 2.492605e-02</td><td>-9.331336e-02</td><td>-9.322839e-02</td></tr>\n",
       "\t<tr><th scope=row>1983</th><td>-1.203669e-01</td><td>-8.640859e-02</td><td> 3.914915e-02</td><td> 4.995529e-02</td></tr>\n",
       "\t<tr><th scope=row>1984</th><td> 1.489758e-02</td><td> 4.839977e-02</td><td> 3.372567e-02</td><td> 4.832528e-02</td></tr>\n",
       "\t<tr><th scope=row>1985</th><td>-4.443771e-02</td><td> 1.995215e-02</td><td> 8.438982e-02</td><td>-1.529995e-02</td></tr>\n",
       "\t<tr><th scope=row>1986</th><td>-6.170003e-03</td><td>-4.638157e-03</td><td>-2.434966e-02</td><td> 1.589070e-03</td></tr>\n",
       "\t<tr><th scope=row>1987</th><td>-3.645994e-02</td><td>-3.840746e-02</td><td>-1.802434e-02</td><td> 8.487571e-02</td></tr>\n",
       "\t<tr><th scope=row>1988</th><td> 1.156067e-02</td><td> 1.949404e-02</td><td> 5.452467e-02</td><td> 3.829595e-02</td></tr>\n",
       "\t<tr><th scope=row>1989</th><td> 3.120639e-02</td><td>-5.237645e-02</td><td> 8.955583e-02</td><td>-6.812953e-03</td></tr>\n",
       "\t<tr><th scope=row>1990</th><td>-6.918483e-02</td><td>-8.518708e-02</td><td>-5.137466e-02</td><td> 5.423952e-03</td></tr>\n",
       "\t<tr><th scope=row>1991</th><td>-8.924450e-02</td><td>-7.066870e-02</td><td>-5.175373e-02</td><td> 3.713806e-02</td></tr>\n",
       "\t<tr><th scope=row>1992</th><td>-1.738160e-02</td><td> 2.992482e-02</td><td>-3.277795e-03</td><td> 3.251112e-02</td></tr>\n",
       "\t<tr><th scope=row>1993</th><td> 5.397771e-02</td><td> 3.517265e-02</td><td>-3.879864e-02</td><td> 1.344523e-01</td></tr>\n",
       "\t<tr><th scope=row>1994</th><td>-8.188897e-02</td><td> 3.776714e-02</td><td> 8.819110e-02</td><td>-3.325776e-02</td></tr>\n",
       "\t<tr><th scope=row>1995</th><td>-6.589302e-03</td><td>-7.185532e-02</td><td>-3.764405e-02</td><td>-1.049314e-01</td></tr>\n",
       "\t<tr><th scope=row>1996</th><td> 8.459217e-02</td><td>-5.365698e-02</td><td> 1.879685e-02</td><td> 1.513439e-02</td></tr>\n",
       "\t<tr><th scope=row>1997</th><td> 9.593034e-03</td><td> 5.218201e-02</td><td>-3.465128e-04</td><td> 1.628644e-02</td></tr>\n",
       "\t<tr><th scope=row>1998</th><td> 6.631319e-02</td><td>-2.306868e-02</td><td> 7.683795e-03</td><td> 7.354737e-02</td></tr>\n",
       "\t<tr><th scope=row>1999</th><td>-3.345933e-02</td><td>-1.498391e-02</td><td>-9.107831e-03</td><td> 2.263506e-02</td></tr>\n",
       "\t<tr><th scope=row>2000</th><td> 2.901944e-02</td><td> 8.942868e-03</td><td>-1.137637e-01</td><td>-1.453391e-01</td></tr>\n",
       "\t<tr><th scope=row>2001</th><td> 2.003969e-02</td><td>-1.261888e-02</td><td>-5.868714e-02</td><td> 9.301829e-02</td></tr>\n",
       "\t<tr><th scope=row>2002</th><td> 8.941761e-02</td><td> 4.589272e-02</td><td>-5.414449e-03</td><td>-1.300630e-02</td></tr>\n",
       "\t<tr><th scope=row>2003</th><td> 4.332315e-02</td><td>-7.210588e-02</td><td> 1.139660e-01</td><td>-2.260320e-02</td></tr>\n",
       "\t<tr><th scope=row>2004</th><td> 5.566870e-02</td><td>-1.025757e-04</td><td> 2.080630e-02</td><td>-4.701951e-02</td></tr>\n",
       "\t<tr><th scope=row>2005</th><td> 2.480641e-02</td><td> 1.199766e-01</td><td>-6.486674e-02</td><td>-3.580286e-02</td></tr>\n",
       "\t<tr><th scope=row>2006</th><td> 2.106094e-03</td><td>-1.207775e-03</td><td> 2.754858e-02</td><td> 3.112958e-02</td></tr>\n",
       "\t<tr><th scope=row>2007</th><td>-5.487000e-03</td><td>-2.115168e-02</td><td> 3.003609e-02</td><td> 3.204195e-02</td></tr>\n",
       "\t<tr><th scope=row>2008</th><td>-2.932095e-02</td><td> 3.268675e-02</td><td>-7.101389e-03</td><td>-8.059323e-02</td></tr>\n",
       "\t<tr><th scope=row>2009</th><td>-8.524869e-02</td><td>-4.477771e-02</td><td> 2.708470e-02</td><td>-9.732968e-04</td></tr>\n",
       "\t<tr><th scope=row>2010</th><td>-5.246899e-02</td><td> 1.057122e-01</td><td> 2.796915e-02</td><td>-5.938442e-02</td></tr>\n",
       "</tbody>\n",
       "</table>\n"
      ],
      "text/latex": [
       "A Time Series: 55 × 4\n",
       "\\begin{tabular}{r|llll}\n",
       "  & Qtr1 & Qtr2 & Qtr3 & Qtr4\\\\\n",
       "\\hline\n",
       "\t1956 &  1.270401e-03 & -5.992114e-03 & -6.168588e-03 &  7.170259e-03\\\\\n",
       "\t1957 &  2.977037e-02 &  1.946688e-03 & -5.454263e-02 & -5.362037e-02\\\\\n",
       "\t1958 &  4.077016e-02 & -1.377153e-02 & -1.593942e-02 & -2.123933e-02\\\\\n",
       "\t1959 & -5.804134e-03 &  2.457123e-02 & -2.055860e-02 & -2.000575e-02\\\\\n",
       "\t1960 &  9.758137e-03 & -1.402440e-02 &  2.181479e-02 & -2.807510e-02\\\\\n",
       "\t1961 &  4.568366e-02 & -5.056150e-02 & -5.460357e-02 & -8.041946e-02\\\\\n",
       "\t1962 &  4.129853e-03 &  4.294615e-02 & -4.119601e-03 & -3.262010e-02\\\\\n",
       "\t1963 & -1.426638e-02 &  4.155022e-03 &  2.974095e-02 &  1.380369e-02\\\\\n",
       "\t1964 &  6.702813e-02 &  1.320672e-02 &  5.666121e-03 &  3.288924e-02\\\\\n",
       "\t1965 &  4.407009e-02 & -3.954959e-02 & -5.920792e-02 & -1.336997e-02\\\\\n",
       "\t1966 & -2.003122e-02 & -8.826033e-03 & -4.103202e-02 & -5.096947e-02\\\\\n",
       "\t1967 &  2.292404e-03 &  5.203309e-02 & -4.689170e-03 & -4.823599e-02\\\\\n",
       "\t1968 &  1.691319e-02 & -3.452440e-02 &  2.074369e-02 & -1.722609e-02\\\\\n",
       "\t1969 &  4.122461e-02 & -3.016793e-02 &  9.575161e-02 & -1.656153e-02\\\\\n",
       "\t1970 &  3.221652e-02 & -3.849371e-02 &  2.806715e-02 & -1.916582e-02\\\\\n",
       "\t1971 & -4.697022e-03 &  7.501212e-03 & -4.730832e-02 &  4.019150e-02\\\\\n",
       "\t1972 & -3.078097e-02 &  4.955381e-02 & -1.311095e-02 & -1.195014e-02\\\\\n",
       "\t1973 &  4.352050e-03 &  5.417493e-03 & -1.182272e-02 &  8.820472e-02\\\\\n",
       "\t1974 & -6.353899e-02 & -8.095715e-03 & -6.755481e-02 &  1.871632e-02\\\\\n",
       "\t1975 & -6.339167e-02 &  5.604243e-03 & -2.259810e-02 & -2.440748e-02\\\\\n",
       "\t1976 & -3.168671e-02 &  2.757823e-02 & -1.210323e-03 & -2.862766e-02\\\\\n",
       "\t1977 & -4.611803e-02 &  1.943478e-02 & -6.208459e-03 &  5.829951e-03\\\\\n",
       "\t1978 & -3.889733e-02 & -1.529652e-02 & -3.483409e-03 & -7.967930e-04\\\\\n",
       "\t1979 &  4.594864e-02 & -3.238859e-02 &  8.533078e-03 &  2.113138e-05\\\\\n",
       "\t1980 &  2.176745e-02 &  1.809802e-03 & -1.334961e-04 &  1.048039e-02\\\\\n",
       "\t1981 &  6.920669e-03 &  8.874614e-02 & -4.256376e-02 &  7.027063e-02\\\\\n",
       "\t1982 & -6.596103e-02 &  2.492605e-02 & -9.331336e-02 & -9.322839e-02\\\\\n",
       "\t1983 & -1.203669e-01 & -8.640859e-02 &  3.914915e-02 &  4.995529e-02\\\\\n",
       "\t1984 &  1.489758e-02 &  4.839977e-02 &  3.372567e-02 &  4.832528e-02\\\\\n",
       "\t1985 & -4.443771e-02 &  1.995215e-02 &  8.438982e-02 & -1.529995e-02\\\\\n",
       "\t1986 & -6.170003e-03 & -4.638157e-03 & -2.434966e-02 &  1.589070e-03\\\\\n",
       "\t1987 & -3.645994e-02 & -3.840746e-02 & -1.802434e-02 &  8.487571e-02\\\\\n",
       "\t1988 &  1.156067e-02 &  1.949404e-02 &  5.452467e-02 &  3.829595e-02\\\\\n",
       "\t1989 &  3.120639e-02 & -5.237645e-02 &  8.955583e-02 & -6.812953e-03\\\\\n",
       "\t1990 & -6.918483e-02 & -8.518708e-02 & -5.137466e-02 &  5.423952e-03\\\\\n",
       "\t1991 & -8.924450e-02 & -7.066870e-02 & -5.175373e-02 &  3.713806e-02\\\\\n",
       "\t1992 & -1.738160e-02 &  2.992482e-02 & -3.277795e-03 &  3.251112e-02\\\\\n",
       "\t1993 &  5.397771e-02 &  3.517265e-02 & -3.879864e-02 &  1.344523e-01\\\\\n",
       "\t1994 & -8.188897e-02 &  3.776714e-02 &  8.819110e-02 & -3.325776e-02\\\\\n",
       "\t1995 & -6.589302e-03 & -7.185532e-02 & -3.764405e-02 & -1.049314e-01\\\\\n",
       "\t1996 &  8.459217e-02 & -5.365698e-02 &  1.879685e-02 &  1.513439e-02\\\\\n",
       "\t1997 &  9.593034e-03 &  5.218201e-02 & -3.465128e-04 &  1.628644e-02\\\\\n",
       "\t1998 &  6.631319e-02 & -2.306868e-02 &  7.683795e-03 &  7.354737e-02\\\\\n",
       "\t1999 & -3.345933e-02 & -1.498391e-02 & -9.107831e-03 &  2.263506e-02\\\\\n",
       "\t2000 &  2.901944e-02 &  8.942868e-03 & -1.137637e-01 & -1.453391e-01\\\\\n",
       "\t2001 &  2.003969e-02 & -1.261888e-02 & -5.868714e-02 &  9.301829e-02\\\\\n",
       "\t2002 &  8.941761e-02 &  4.589272e-02 & -5.414449e-03 & -1.300630e-02\\\\\n",
       "\t2003 &  4.332315e-02 & -7.210588e-02 &  1.139660e-01 & -2.260320e-02\\\\\n",
       "\t2004 &  5.566870e-02 & -1.025757e-04 &  2.080630e-02 & -4.701951e-02\\\\\n",
       "\t2005 &  2.480641e-02 &  1.199766e-01 & -6.486674e-02 & -3.580286e-02\\\\\n",
       "\t2006 &  2.106094e-03 & -1.207775e-03 &  2.754858e-02 &  3.112958e-02\\\\\n",
       "\t2007 & -5.487000e-03 & -2.115168e-02 &  3.003609e-02 &  3.204195e-02\\\\\n",
       "\t2008 & -2.932095e-02 &  3.268675e-02 & -7.101389e-03 & -8.059323e-02\\\\\n",
       "\t2009 & -8.524869e-02 & -4.477771e-02 &  2.708470e-02 & -9.732968e-04\\\\\n",
       "\t2010 & -5.246899e-02 &  1.057122e-01 &  2.796915e-02 & -5.938442e-02\\\\\n",
       "\\end{tabular}\n"
      ],
      "text/markdown": [
       "\n",
       "A Time Series: 55 × 4\n",
       "\n",
       "| <!--/--> | Qtr1 | Qtr2 | Qtr3 | Qtr4 |\n",
       "|---|---|---|---|---|\n",
       "| 1956 |  1.270401e-03 | -5.992114e-03 | -6.168588e-03 |  7.170259e-03 |\n",
       "| 1957 |  2.977037e-02 |  1.946688e-03 | -5.454263e-02 | -5.362037e-02 |\n",
       "| 1958 |  4.077016e-02 | -1.377153e-02 | -1.593942e-02 | -2.123933e-02 |\n",
       "| 1959 | -5.804134e-03 |  2.457123e-02 | -2.055860e-02 | -2.000575e-02 |\n",
       "| 1960 |  9.758137e-03 | -1.402440e-02 |  2.181479e-02 | -2.807510e-02 |\n",
       "| 1961 |  4.568366e-02 | -5.056150e-02 | -5.460357e-02 | -8.041946e-02 |\n",
       "| 1962 |  4.129853e-03 |  4.294615e-02 | -4.119601e-03 | -3.262010e-02 |\n",
       "| 1963 | -1.426638e-02 |  4.155022e-03 |  2.974095e-02 |  1.380369e-02 |\n",
       "| 1964 |  6.702813e-02 |  1.320672e-02 |  5.666121e-03 |  3.288924e-02 |\n",
       "| 1965 |  4.407009e-02 | -3.954959e-02 | -5.920792e-02 | -1.336997e-02 |\n",
       "| 1966 | -2.003122e-02 | -8.826033e-03 | -4.103202e-02 | -5.096947e-02 |\n",
       "| 1967 |  2.292404e-03 |  5.203309e-02 | -4.689170e-03 | -4.823599e-02 |\n",
       "| 1968 |  1.691319e-02 | -3.452440e-02 |  2.074369e-02 | -1.722609e-02 |\n",
       "| 1969 |  4.122461e-02 | -3.016793e-02 |  9.575161e-02 | -1.656153e-02 |\n",
       "| 1970 |  3.221652e-02 | -3.849371e-02 |  2.806715e-02 | -1.916582e-02 |\n",
       "| 1971 | -4.697022e-03 |  7.501212e-03 | -4.730832e-02 |  4.019150e-02 |\n",
       "| 1972 | -3.078097e-02 |  4.955381e-02 | -1.311095e-02 | -1.195014e-02 |\n",
       "| 1973 |  4.352050e-03 |  5.417493e-03 | -1.182272e-02 |  8.820472e-02 |\n",
       "| 1974 | -6.353899e-02 | -8.095715e-03 | -6.755481e-02 |  1.871632e-02 |\n",
       "| 1975 | -6.339167e-02 |  5.604243e-03 | -2.259810e-02 | -2.440748e-02 |\n",
       "| 1976 | -3.168671e-02 |  2.757823e-02 | -1.210323e-03 | -2.862766e-02 |\n",
       "| 1977 | -4.611803e-02 |  1.943478e-02 | -6.208459e-03 |  5.829951e-03 |\n",
       "| 1978 | -3.889733e-02 | -1.529652e-02 | -3.483409e-03 | -7.967930e-04 |\n",
       "| 1979 |  4.594864e-02 | -3.238859e-02 |  8.533078e-03 |  2.113138e-05 |\n",
       "| 1980 |  2.176745e-02 |  1.809802e-03 | -1.334961e-04 |  1.048039e-02 |\n",
       "| 1981 |  6.920669e-03 |  8.874614e-02 | -4.256376e-02 |  7.027063e-02 |\n",
       "| 1982 | -6.596103e-02 |  2.492605e-02 | -9.331336e-02 | -9.322839e-02 |\n",
       "| 1983 | -1.203669e-01 | -8.640859e-02 |  3.914915e-02 |  4.995529e-02 |\n",
       "| 1984 |  1.489758e-02 |  4.839977e-02 |  3.372567e-02 |  4.832528e-02 |\n",
       "| 1985 | -4.443771e-02 |  1.995215e-02 |  8.438982e-02 | -1.529995e-02 |\n",
       "| 1986 | -6.170003e-03 | -4.638157e-03 | -2.434966e-02 |  1.589070e-03 |\n",
       "| 1987 | -3.645994e-02 | -3.840746e-02 | -1.802434e-02 |  8.487571e-02 |\n",
       "| 1988 |  1.156067e-02 |  1.949404e-02 |  5.452467e-02 |  3.829595e-02 |\n",
       "| 1989 |  3.120639e-02 | -5.237645e-02 |  8.955583e-02 | -6.812953e-03 |\n",
       "| 1990 | -6.918483e-02 | -8.518708e-02 | -5.137466e-02 |  5.423952e-03 |\n",
       "| 1991 | -8.924450e-02 | -7.066870e-02 | -5.175373e-02 |  3.713806e-02 |\n",
       "| 1992 | -1.738160e-02 |  2.992482e-02 | -3.277795e-03 |  3.251112e-02 |\n",
       "| 1993 |  5.397771e-02 |  3.517265e-02 | -3.879864e-02 |  1.344523e-01 |\n",
       "| 1994 | -8.188897e-02 |  3.776714e-02 |  8.819110e-02 | -3.325776e-02 |\n",
       "| 1995 | -6.589302e-03 | -7.185532e-02 | -3.764405e-02 | -1.049314e-01 |\n",
       "| 1996 |  8.459217e-02 | -5.365698e-02 |  1.879685e-02 |  1.513439e-02 |\n",
       "| 1997 |  9.593034e-03 |  5.218201e-02 | -3.465128e-04 |  1.628644e-02 |\n",
       "| 1998 |  6.631319e-02 | -2.306868e-02 |  7.683795e-03 |  7.354737e-02 |\n",
       "| 1999 | -3.345933e-02 | -1.498391e-02 | -9.107831e-03 |  2.263506e-02 |\n",
       "| 2000 |  2.901944e-02 |  8.942868e-03 | -1.137637e-01 | -1.453391e-01 |\n",
       "| 2001 |  2.003969e-02 | -1.261888e-02 | -5.868714e-02 |  9.301829e-02 |\n",
       "| 2002 |  8.941761e-02 |  4.589272e-02 | -5.414449e-03 | -1.300630e-02 |\n",
       "| 2003 |  4.332315e-02 | -7.210588e-02 |  1.139660e-01 | -2.260320e-02 |\n",
       "| 2004 |  5.566870e-02 | -1.025757e-04 |  2.080630e-02 | -4.701951e-02 |\n",
       "| 2005 |  2.480641e-02 |  1.199766e-01 | -6.486674e-02 | -3.580286e-02 |\n",
       "| 2006 |  2.106094e-03 | -1.207775e-03 |  2.754858e-02 |  3.112958e-02 |\n",
       "| 2007 | -5.487000e-03 | -2.115168e-02 |  3.003609e-02 |  3.204195e-02 |\n",
       "| 2008 | -2.932095e-02 |  3.268675e-02 | -7.101389e-03 | -8.059323e-02 |\n",
       "| 2009 | -8.524869e-02 | -4.477771e-02 |  2.708470e-02 | -9.732968e-04 |\n",
       "| 2010 | -5.246899e-02 |  1.057122e-01 |  2.796915e-02 | -5.938442e-02 |\n",
       "\n"
      ],
      "text/plain": [
       "     Qtr1          Qtr2          Qtr3          Qtr4         \n",
       "1956  1.270401e-03 -5.992114e-03 -6.168588e-03  7.170259e-03\n",
       "1957  2.977037e-02  1.946688e-03 -5.454263e-02 -5.362037e-02\n",
       "1958  4.077016e-02 -1.377153e-02 -1.593942e-02 -2.123933e-02\n",
       "1959 -5.804134e-03  2.457123e-02 -2.055860e-02 -2.000575e-02\n",
       "1960  9.758137e-03 -1.402440e-02  2.181479e-02 -2.807510e-02\n",
       "1961  4.568366e-02 -5.056150e-02 -5.460357e-02 -8.041946e-02\n",
       "1962  4.129853e-03  4.294615e-02 -4.119601e-03 -3.262010e-02\n",
       "1963 -1.426638e-02  4.155022e-03  2.974095e-02  1.380369e-02\n",
       "1964  6.702813e-02  1.320672e-02  5.666121e-03  3.288924e-02\n",
       "1965  4.407009e-02 -3.954959e-02 -5.920792e-02 -1.336997e-02\n",
       "1966 -2.003122e-02 -8.826033e-03 -4.103202e-02 -5.096947e-02\n",
       "1967  2.292404e-03  5.203309e-02 -4.689170e-03 -4.823599e-02\n",
       "1968  1.691319e-02 -3.452440e-02  2.074369e-02 -1.722609e-02\n",
       "1969  4.122461e-02 -3.016793e-02  9.575161e-02 -1.656153e-02\n",
       "1970  3.221652e-02 -3.849371e-02  2.806715e-02 -1.916582e-02\n",
       "1971 -4.697022e-03  7.501212e-03 -4.730832e-02  4.019150e-02\n",
       "1972 -3.078097e-02  4.955381e-02 -1.311095e-02 -1.195014e-02\n",
       "1973  4.352050e-03  5.417493e-03 -1.182272e-02  8.820472e-02\n",
       "1974 -6.353899e-02 -8.095715e-03 -6.755481e-02  1.871632e-02\n",
       "1975 -6.339167e-02  5.604243e-03 -2.259810e-02 -2.440748e-02\n",
       "1976 -3.168671e-02  2.757823e-02 -1.210323e-03 -2.862766e-02\n",
       "1977 -4.611803e-02  1.943478e-02 -6.208459e-03  5.829951e-03\n",
       "1978 -3.889733e-02 -1.529652e-02 -3.483409e-03 -7.967930e-04\n",
       "1979  4.594864e-02 -3.238859e-02  8.533078e-03  2.113138e-05\n",
       "1980  2.176745e-02  1.809802e-03 -1.334961e-04  1.048039e-02\n",
       "1981  6.920669e-03  8.874614e-02 -4.256376e-02  7.027063e-02\n",
       "1982 -6.596103e-02  2.492605e-02 -9.331336e-02 -9.322839e-02\n",
       "1983 -1.203669e-01 -8.640859e-02  3.914915e-02  4.995529e-02\n",
       "1984  1.489758e-02  4.839977e-02  3.372567e-02  4.832528e-02\n",
       "1985 -4.443771e-02  1.995215e-02  8.438982e-02 -1.529995e-02\n",
       "1986 -6.170003e-03 -4.638157e-03 -2.434966e-02  1.589070e-03\n",
       "1987 -3.645994e-02 -3.840746e-02 -1.802434e-02  8.487571e-02\n",
       "1988  1.156067e-02  1.949404e-02  5.452467e-02  3.829595e-02\n",
       "1989  3.120639e-02 -5.237645e-02  8.955583e-02 -6.812953e-03\n",
       "1990 -6.918483e-02 -8.518708e-02 -5.137466e-02  5.423952e-03\n",
       "1991 -8.924450e-02 -7.066870e-02 -5.175373e-02  3.713806e-02\n",
       "1992 -1.738160e-02  2.992482e-02 -3.277795e-03  3.251112e-02\n",
       "1993  5.397771e-02  3.517265e-02 -3.879864e-02  1.344523e-01\n",
       "1994 -8.188897e-02  3.776714e-02  8.819110e-02 -3.325776e-02\n",
       "1995 -6.589302e-03 -7.185532e-02 -3.764405e-02 -1.049314e-01\n",
       "1996  8.459217e-02 -5.365698e-02  1.879685e-02  1.513439e-02\n",
       "1997  9.593034e-03  5.218201e-02 -3.465128e-04  1.628644e-02\n",
       "1998  6.631319e-02 -2.306868e-02  7.683795e-03  7.354737e-02\n",
       "1999 -3.345933e-02 -1.498391e-02 -9.107831e-03  2.263506e-02\n",
       "2000  2.901944e-02  8.942868e-03 -1.137637e-01 -1.453391e-01\n",
       "2001  2.003969e-02 -1.261888e-02 -5.868714e-02  9.301829e-02\n",
       "2002  8.941761e-02  4.589272e-02 -5.414449e-03 -1.300630e-02\n",
       "2003  4.332315e-02 -7.210588e-02  1.139660e-01 -2.260320e-02\n",
       "2004  5.566870e-02 -1.025757e-04  2.080630e-02 -4.701951e-02\n",
       "2005  2.480641e-02  1.199766e-01 -6.486674e-02 -3.580286e-02\n",
       "2006  2.106094e-03 -1.207775e-03  2.754858e-02  3.112958e-02\n",
       "2007 -5.487000e-03 -2.115168e-02  3.003609e-02  3.204195e-02\n",
       "2008 -2.932095e-02  3.268675e-02 -7.101389e-03 -8.059323e-02\n",
       "2009 -8.524869e-02 -4.477771e-02  2.708470e-02 -9.732968e-04\n",
       "2010 -5.246899e-02  1.057122e-01  2.796915e-02 -5.938442e-02"
      ]
     },
     "metadata": {},
     "output_type": "display_data"
    }
   ],
   "source": [
    "for_ets_best$residuals"
   ]
  },
  {
   "cell_type": "code",
   "execution_count": 87,
   "metadata": {},
   "outputs": [
    {
     "data": {
      "text/html": [
       "<style>\n",
       ".list-inline {list-style: none; margin:0; padding: 0}\n",
       ".list-inline>li {display: inline-block}\n",
       ".list-inline>li:not(:last-child)::after {content: \"\\00b7\"; padding: 0 .5ex}\n",
       "</style>\n",
       "<ol class=list-inline><li>'model'</li><li>'mean'</li><li>'level'</li><li>'x'</li><li>'upper'</li><li>'lower'</li><li>'fitted'</li><li>'residuals'</li><li>'method'</li><li>'series'</li></ol>\n"
      ],
      "text/latex": [
       "\\begin{enumerate*}\n",
       "\\item 'model'\n",
       "\\item 'mean'\n",
       "\\item 'level'\n",
       "\\item 'x'\n",
       "\\item 'upper'\n",
       "\\item 'lower'\n",
       "\\item 'fitted'\n",
       "\\item 'residuals'\n",
       "\\item 'method'\n",
       "\\item 'series'\n",
       "\\end{enumerate*}\n"
      ],
      "text/markdown": [
       "1. 'model'\n",
       "2. 'mean'\n",
       "3. 'level'\n",
       "4. 'x'\n",
       "5. 'upper'\n",
       "6. 'lower'\n",
       "7. 'fitted'\n",
       "8. 'residuals'\n",
       "9. 'method'\n",
       "10. 'series'\n",
       "\n",
       "\n"
      ],
      "text/plain": [
       " [1] \"model\"     \"mean\"      \"level\"     \"x\"         \"upper\"     \"lower\"    \n",
       " [7] \"fitted\"    \"residuals\" \"method\"    \"series\"   "
      ]
     },
     "metadata": {},
     "output_type": "display_data"
    },
    {
     "data": {
      "text/html": [
       "<style>\n",
       ".list-inline {list-style: none; margin:0; padding: 0}\n",
       ".list-inline>li {display: inline-block}\n",
       ".list-inline>li:not(:last-child)::after {content: \"\\00b7\"; padding: 0 .5ex}\n",
       "</style>\n",
       "<ol class=list-inline><li>'model'</li><li>'mean'</li><li>'level'</li><li>'x'</li><li>'upper'</li><li>'lower'</li><li>'fitted'</li><li>'method'</li><li>'series'</li><li>'residuals'</li></ol>\n"
      ],
      "text/latex": [
       "\\begin{enumerate*}\n",
       "\\item 'model'\n",
       "\\item 'mean'\n",
       "\\item 'level'\n",
       "\\item 'x'\n",
       "\\item 'upper'\n",
       "\\item 'lower'\n",
       "\\item 'fitted'\n",
       "\\item 'method'\n",
       "\\item 'series'\n",
       "\\item 'residuals'\n",
       "\\end{enumerate*}\n"
      ],
      "text/markdown": [
       "1. 'model'\n",
       "2. 'mean'\n",
       "3. 'level'\n",
       "4. 'x'\n",
       "5. 'upper'\n",
       "6. 'lower'\n",
       "7. 'fitted'\n",
       "8. 'method'\n",
       "9. 'series'\n",
       "10. 'residuals'\n",
       "\n",
       "\n"
      ],
      "text/plain": [
       " [1] \"model\"     \"mean\"      \"level\"     \"x\"         \"upper\"     \"lower\"    \n",
       " [7] \"fitted\"    \"method\"    \"series\"    \"residuals\""
      ]
     },
     "metadata": {},
     "output_type": "display_data"
    },
    {
     "data": {
      "text/html": [
       "<style>\n",
       ".list-inline {list-style: none; margin:0; padding: 0}\n",
       ".list-inline>li {display: inline-block}\n",
       ".list-inline>li:not(:last-child)::after {content: \"\\00b7\"; padding: 0 .5ex}\n",
       "</style>\n",
       "<ol class=list-inline><li>'model'</li><li>'mean'</li><li>'level'</li><li>'x'</li><li>'upper'</li><li>'lower'</li><li>'fitted'</li><li>'method'</li><li>'series'</li><li>'residuals'</li></ol>\n"
      ],
      "text/latex": [
       "\\begin{enumerate*}\n",
       "\\item 'model'\n",
       "\\item 'mean'\n",
       "\\item 'level'\n",
       "\\item 'x'\n",
       "\\item 'upper'\n",
       "\\item 'lower'\n",
       "\\item 'fitted'\n",
       "\\item 'method'\n",
       "\\item 'series'\n",
       "\\item 'residuals'\n",
       "\\end{enumerate*}\n"
      ],
      "text/markdown": [
       "1. 'model'\n",
       "2. 'mean'\n",
       "3. 'level'\n",
       "4. 'x'\n",
       "5. 'upper'\n",
       "6. 'lower'\n",
       "7. 'fitted'\n",
       "8. 'method'\n",
       "9. 'series'\n",
       "10. 'residuals'\n",
       "\n",
       "\n"
      ],
      "text/plain": [
       " [1] \"model\"     \"mean\"      \"level\"     \"x\"         \"upper\"     \"lower\"    \n",
       " [7] \"fitted\"    \"method\"    \"series\"    \"residuals\""
      ]
     },
     "metadata": {},
     "output_type": "display_data"
    },
    {
     "data": {
      "text/html": [
       "<style>\n",
       ".list-inline {list-style: none; margin:0; padding: 0}\n",
       ".list-inline>li {display: inline-block}\n",
       ".list-inline>li:not(:last-child)::after {content: \"\\00b7\"; padding: 0 .5ex}\n",
       "</style>\n",
       "<ol class=list-inline><li>'model'</li><li>'mean'</li><li>'level'</li><li>'x'</li><li>'upper'</li><li>'lower'</li><li>'fitted'</li><li>'method'</li><li>'series'</li><li>'residuals'</li></ol>\n"
      ],
      "text/latex": [
       "\\begin{enumerate*}\n",
       "\\item 'model'\n",
       "\\item 'mean'\n",
       "\\item 'level'\n",
       "\\item 'x'\n",
       "\\item 'upper'\n",
       "\\item 'lower'\n",
       "\\item 'fitted'\n",
       "\\item 'method'\n",
       "\\item 'series'\n",
       "\\item 'residuals'\n",
       "\\end{enumerate*}\n"
      ],
      "text/markdown": [
       "1. 'model'\n",
       "2. 'mean'\n",
       "3. 'level'\n",
       "4. 'x'\n",
       "5. 'upper'\n",
       "6. 'lower'\n",
       "7. 'fitted'\n",
       "8. 'method'\n",
       "9. 'series'\n",
       "10. 'residuals'\n",
       "\n",
       "\n"
      ],
      "text/plain": [
       " [1] \"model\"     \"mean\"      \"level\"     \"x\"         \"upper\"     \"lower\"    \n",
       " [7] \"fitted\"    \"method\"    \"series\"    \"residuals\""
      ]
     },
     "metadata": {},
     "output_type": "display_data"
    },
    {
     "data": {
      "text/html": [
       "<style>\n",
       ".list-inline {list-style: none; margin:0; padding: 0}\n",
       ".list-inline>li {display: inline-block}\n",
       ".list-inline>li:not(:last-child)::after {content: \"\\00b7\"; padding: 0 .5ex}\n",
       "</style>\n",
       "<ol class=list-inline><li>'loglik'</li><li>'aic'</li><li>'bic'</li><li>'aicc'</li><li>'mse'</li><li>'amse'</li><li>'fit'</li><li>'residuals'</li><li>'fitted'</li><li>'states'</li><li>'par'</li><li>'m'</li><li>'method'</li><li>'series'</li><li>'components'</li><li>'call'</li><li>'initstate'</li><li>'sigma2'</li><li>'x'</li></ol>\n"
      ],
      "text/latex": [
       "\\begin{enumerate*}\n",
       "\\item 'loglik'\n",
       "\\item 'aic'\n",
       "\\item 'bic'\n",
       "\\item 'aicc'\n",
       "\\item 'mse'\n",
       "\\item 'amse'\n",
       "\\item 'fit'\n",
       "\\item 'residuals'\n",
       "\\item 'fitted'\n",
       "\\item 'states'\n",
       "\\item 'par'\n",
       "\\item 'm'\n",
       "\\item 'method'\n",
       "\\item 'series'\n",
       "\\item 'components'\n",
       "\\item 'call'\n",
       "\\item 'initstate'\n",
       "\\item 'sigma2'\n",
       "\\item 'x'\n",
       "\\end{enumerate*}\n"
      ],
      "text/markdown": [
       "1. 'loglik'\n",
       "2. 'aic'\n",
       "3. 'bic'\n",
       "4. 'aicc'\n",
       "5. 'mse'\n",
       "6. 'amse'\n",
       "7. 'fit'\n",
       "8. 'residuals'\n",
       "9. 'fitted'\n",
       "10. 'states'\n",
       "11. 'par'\n",
       "12. 'm'\n",
       "13. 'method'\n",
       "14. 'series'\n",
       "15. 'components'\n",
       "16. 'call'\n",
       "17. 'initstate'\n",
       "18. 'sigma2'\n",
       "19. 'x'\n",
       "\n",
       "\n"
      ],
      "text/plain": [
       " [1] \"loglik\"     \"aic\"        \"bic\"        \"aicc\"       \"mse\"       \n",
       " [6] \"amse\"       \"fit\"        \"residuals\"  \"fitted\"     \"states\"    \n",
       "[11] \"par\"        \"m\"          \"method\"     \"series\"     \"components\"\n",
       "[16] \"call\"       \"initstate\"  \"sigma2\"     \"x\"         "
      ]
     },
     "metadata": {},
     "output_type": "display_data"
    }
   ],
   "source": [
    "names(ses_fit)\n",
    "names(holt_fit)\n",
    "names(holt_d_fit)\n",
    "names(hw_m_fit)\n",
    "names(ets_best)"
   ]
  },
  {
   "cell_type": "code",
   "execution_count": 97,
   "metadata": {},
   "outputs": [
    {
     "data": {
      "text/html": [
       "<style>\n",
       ".list-inline {list-style: none; margin:0; padding: 0}\n",
       ".list-inline>li {display: inline-block}\n",
       ".list-inline>li:not(:last-child)::after {content: \"\\00b7\"; padding: 0 .5ex}\n",
       "</style>\n",
       "<ol class=list-inline><li>'model'</li><li>'mean'</li><li>'level'</li><li>'x'</li><li>'upper'</li><li>'lower'</li><li>'fitted'</li><li>'method'</li><li>'series'</li><li>'residuals'</li></ol>\n"
      ],
      "text/latex": [
       "\\begin{enumerate*}\n",
       "\\item 'model'\n",
       "\\item 'mean'\n",
       "\\item 'level'\n",
       "\\item 'x'\n",
       "\\item 'upper'\n",
       "\\item 'lower'\n",
       "\\item 'fitted'\n",
       "\\item 'method'\n",
       "\\item 'series'\n",
       "\\item 'residuals'\n",
       "\\end{enumerate*}\n"
      ],
      "text/markdown": [
       "1. 'model'\n",
       "2. 'mean'\n",
       "3. 'level'\n",
       "4. 'x'\n",
       "5. 'upper'\n",
       "6. 'lower'\n",
       "7. 'fitted'\n",
       "8. 'method'\n",
       "9. 'series'\n",
       "10. 'residuals'\n",
       "\n",
       "\n"
      ],
      "text/plain": [
       " [1] \"model\"     \"mean\"      \"level\"     \"x\"         \"upper\"     \"lower\"    \n",
       " [7] \"fitted\"    \"method\"    \"series\"    \"residuals\""
      ]
     },
     "metadata": {},
     "output_type": "display_data"
    }
   ],
   "source": [
    "names(for_ets_best)"
   ]
  },
  {
   "cell_type": "code",
   "execution_count": null,
   "metadata": {},
   "outputs": [],
   "source": []
  }
 ],
 "metadata": {
  "kernelspec": {
   "display_name": "R",
   "language": "R",
   "name": "ir"
  },
  "language_info": {
   "codemirror_mode": "r",
   "file_extension": ".r",
   "mimetype": "text/x-r-source",
   "name": "R",
   "pygments_lexer": "r",
   "version": "3.6.3"
  }
 },
 "nbformat": 4,
 "nbformat_minor": 4
}
