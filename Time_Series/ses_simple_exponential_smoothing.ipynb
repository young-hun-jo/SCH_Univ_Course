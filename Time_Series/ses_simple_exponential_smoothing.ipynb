{
 "cells": [
  {
   "cell_type": "markdown",
   "metadata": {},
   "source": [
    "# forecast 패키지 로드!"
   ]
  },
  {
   "cell_type": "code",
   "execution_count": 1,
   "metadata": {},
   "outputs": [
    {
     "name": "stderr",
     "output_type": "stream",
     "text": [
      "ERROR while rich displaying an object: Error in repr_matrix_generic(obj, \"\\n%s%s\\n\", sprintf(\"|%%s\\n|%s|\\n\", : formal argument \"cols\" matched by multiple actual arguments\n",
      "\n",
      "Traceback:\n",
      "1. FUN(X[[i]], ...)\n",
      "2. tryCatch(withCallingHandlers({\n",
      " .     if (!mime %in% names(repr::mime2repr)) \n",
      " .         stop(\"No repr_* for mimetype \", mime, \" in repr::mime2repr\")\n",
      " .     rpr <- repr::mime2repr[[mime]](obj)\n",
      " .     if (is.null(rpr)) \n",
      " .         return(NULL)\n",
      " .     prepare_content(is.raw(rpr), rpr)\n",
      " . }, error = error_handler), error = outer_handler)\n",
      "3. tryCatchList(expr, classes, parentenv, handlers)\n",
      "4. tryCatchOne(expr, names, parentenv, handlers[[1L]])\n",
      "5. doTryCatch(return(expr), name, parentenv, handler)\n",
      "6. withCallingHandlers({\n",
      " .     if (!mime %in% names(repr::mime2repr)) \n",
      " .         stop(\"No repr_* for mimetype \", mime, \" in repr::mime2repr\")\n",
      " .     rpr <- repr::mime2repr[[mime]](obj)\n",
      " .     if (is.null(rpr)) \n",
      " .         return(NULL)\n",
      " .     prepare_content(is.raw(rpr), rpr)\n",
      " . }, error = error_handler)\n",
      "7. repr::mime2repr[[mime]](obj)\n",
      "8. repr_markdown.ts(obj)\n",
      "9. repr_ts_generic(obj, repr_markdown.matrix, ...)\n",
      "10. repr_func(m, ..., rows = nrow(m), cols = ncol(m))\n"
     ]
    },
    {
     "data": {
      "text/html": [
       "<table>\n",
       "<thead><tr><th></th><th scope=col>Jan</th><th scope=col>Feb</th><th scope=col>Mar</th><th scope=col>Apr</th><th scope=col>May</th><th scope=col>Jun</th><th scope=col>Jul</th><th scope=col>Aug</th><th scope=col>Sep</th><th scope=col>Oct</th><th scope=col>Nov</th><th scope=col>Dec</th></tr></thead>\n",
       "<tbody>\n",
       "\t<tr><th scope=row>1949</th><td>112</td><td>118</td><td>132</td><td>129</td><td>121</td><td>135</td><td>148</td><td>148</td><td>136</td><td>119</td><td>104</td><td>118</td></tr>\n",
       "\t<tr><th scope=row>1950</th><td>115</td><td>126</td><td>141</td><td>135</td><td>125</td><td>149</td><td>170</td><td>170</td><td>158</td><td>133</td><td>114</td><td>140</td></tr>\n",
       "\t<tr><th scope=row>1951</th><td>145</td><td>150</td><td>178</td><td>163</td><td>172</td><td>178</td><td>199</td><td>199</td><td>184</td><td>162</td><td>146</td><td>166</td></tr>\n",
       "\t<tr><th scope=row>1952</th><td>171</td><td>180</td><td>193</td><td>181</td><td>183</td><td>218</td><td>230</td><td>242</td><td>209</td><td>191</td><td>172</td><td>194</td></tr>\n",
       "\t<tr><th scope=row>1953</th><td>196</td><td>196</td><td>236</td><td>235</td><td>229</td><td>243</td><td>264</td><td>272</td><td>237</td><td>211</td><td>180</td><td>201</td></tr>\n",
       "\t<tr><th scope=row>1954</th><td>204</td><td>188</td><td>235</td><td>227</td><td>234</td><td>264</td><td>302</td><td>293</td><td>259</td><td>229</td><td>203</td><td>229</td></tr>\n",
       "\t<tr><th scope=row>1955</th><td>242</td><td>233</td><td>267</td><td>269</td><td>270</td><td>315</td><td>364</td><td>347</td><td>312</td><td>274</td><td>237</td><td>278</td></tr>\n",
       "\t<tr><th scope=row>1956</th><td>284</td><td>277</td><td>317</td><td>313</td><td>318</td><td>374</td><td>413</td><td>405</td><td>355</td><td>306</td><td>271</td><td>306</td></tr>\n",
       "\t<tr><th scope=row>1957</th><td>315</td><td>301</td><td>356</td><td>348</td><td>355</td><td>422</td><td>465</td><td>467</td><td>404</td><td>347</td><td>305</td><td>336</td></tr>\n",
       "\t<tr><th scope=row>1958</th><td>340</td><td>318</td><td>362</td><td>348</td><td>363</td><td>435</td><td>491</td><td>505</td><td>404</td><td>359</td><td>310</td><td>337</td></tr>\n",
       "\t<tr><th scope=row>1959</th><td>360</td><td>342</td><td>406</td><td>396</td><td>420</td><td>472</td><td>548</td><td>559</td><td>463</td><td>407</td><td>362</td><td>405</td></tr>\n",
       "\t<tr><th scope=row>1960</th><td>417</td><td>391</td><td>419</td><td>461</td><td>472</td><td>535</td><td>622</td><td>606</td><td>508</td><td>461</td><td>390</td><td>432</td></tr>\n",
       "</tbody>\n",
       "</table>\n"
      ],
      "text/latex": [
       "\\begin{tabular}{r|llllllllllll}\n",
       "  & Jan & Feb & Mar & Apr & May & Jun & Jul & Aug & Sep & Oct & Nov & Dec\\\\\n",
       "\\hline\n",
       "\t1949 & 112 & 118 & 132 & 129 & 121 & 135 & 148 & 148 & 136 & 119 & 104 & 118\\\\\n",
       "\t1950 & 115 & 126 & 141 & 135 & 125 & 149 & 170 & 170 & 158 & 133 & 114 & 140\\\\\n",
       "\t1951 & 145 & 150 & 178 & 163 & 172 & 178 & 199 & 199 & 184 & 162 & 146 & 166\\\\\n",
       "\t1952 & 171 & 180 & 193 & 181 & 183 & 218 & 230 & 242 & 209 & 191 & 172 & 194\\\\\n",
       "\t1953 & 196 & 196 & 236 & 235 & 229 & 243 & 264 & 272 & 237 & 211 & 180 & 201\\\\\n",
       "\t1954 & 204 & 188 & 235 & 227 & 234 & 264 & 302 & 293 & 259 & 229 & 203 & 229\\\\\n",
       "\t1955 & 242 & 233 & 267 & 269 & 270 & 315 & 364 & 347 & 312 & 274 & 237 & 278\\\\\n",
       "\t1956 & 284 & 277 & 317 & 313 & 318 & 374 & 413 & 405 & 355 & 306 & 271 & 306\\\\\n",
       "\t1957 & 315 & 301 & 356 & 348 & 355 & 422 & 465 & 467 & 404 & 347 & 305 & 336\\\\\n",
       "\t1958 & 340 & 318 & 362 & 348 & 363 & 435 & 491 & 505 & 404 & 359 & 310 & 337\\\\\n",
       "\t1959 & 360 & 342 & 406 & 396 & 420 & 472 & 548 & 559 & 463 & 407 & 362 & 405\\\\\n",
       "\t1960 & 417 & 391 & 419 & 461 & 472 & 535 & 622 & 606 & 508 & 461 & 390 & 432\\\\\n",
       "\\end{tabular}\n"
      ],
      "text/plain": [
       "     Jan Feb Mar Apr May Jun Jul Aug Sep Oct Nov Dec\n",
       "1949 112 118 132 129 121 135 148 148 136 119 104 118\n",
       "1950 115 126 141 135 125 149 170 170 158 133 114 140\n",
       "1951 145 150 178 163 172 178 199 199 184 162 146 166\n",
       "1952 171 180 193 181 183 218 230 242 209 191 172 194\n",
       "1953 196 196 236 235 229 243 264 272 237 211 180 201\n",
       "1954 204 188 235 227 234 264 302 293 259 229 203 229\n",
       "1955 242 233 267 269 270 315 364 347 312 274 237 278\n",
       "1956 284 277 317 313 318 374 413 405 355 306 271 306\n",
       "1957 315 301 356 348 355 422 465 467 404 347 305 336\n",
       "1958 340 318 362 348 363 435 491 505 404 359 310 337\n",
       "1959 360 342 406 396 420 472 548 559 463 407 362 405\n",
       "1960 417 391 419 461 472 535 622 606 508 461 390 432"
      ]
     },
     "metadata": {},
     "output_type": "display_data"
    }
   ],
   "source": [
    "# R 내장 데이터 AirPassengers\n",
    "AirPassengers"
   ]
  },
  {
   "cell_type": "code",
   "execution_count": 2,
   "metadata": {},
   "outputs": [
    {
     "data": {
      "text/html": [
       "TRUE"
      ],
      "text/latex": [
       "TRUE"
      ],
      "text/markdown": [
       "TRUE"
      ],
      "text/plain": [
       "[1] TRUE"
      ]
     },
     "metadata": {},
     "output_type": "display_data"
    }
   ],
   "source": [
    "# time-series 데이터인지 확인 함수 : is.ts(df)\n",
    "is.ts(AirPassengers)"
   ]
  },
  {
   "cell_type": "code",
   "execution_count": 3,
   "metadata": {},
   "outputs": [
    {
     "data": {
      "text/html": [
       "'ts'"
      ],
      "text/latex": [
       "'ts'"
      ],
      "text/markdown": [
       "'ts'"
      ],
      "text/plain": [
       "[1] \"ts\""
      ]
     },
     "metadata": {},
     "output_type": "display_data"
    }
   ],
   "source": [
    "# 데아터 클래스 확인 함수 : class(df)\n",
    "class(AirPassengers)"
   ]
  },
  {
   "cell_type": "code",
   "execution_count": 4,
   "metadata": {},
   "outputs": [
    {
     "data": {
      "text/html": [
       "12"
      ],
      "text/latex": [
       "12"
      ],
      "text/markdown": [
       "12"
      ],
      "text/plain": [
       "[1] 12"
      ]
     },
     "metadata": {},
     "output_type": "display_data"
    }
   ],
   "source": [
    "# time 주기 파악 함수 : frequency(df)\n",
    "frequency(AirPassengers)\n",
    "\n",
    "# 12 => 월별 데이터"
   ]
  },
  {
   "cell_type": "code",
   "execution_count": 7,
   "metadata": {},
   "outputs": [],
   "source": [
    "# 시계열 데이터로 변환 ts(df)\n",
    "airline.ts<-ts(AirPassengers)"
   ]
  },
  {
   "cell_type": "code",
   "execution_count": 8,
   "metadata": {},
   "outputs": [
    {
     "data": {
      "text/html": [
       "1"
      ],
      "text/latex": [
       "1"
      ],
      "text/markdown": [
       "1"
      ],
      "text/plain": [
       "[1] 1"
      ]
     },
     "metadata": {},
     "output_type": "display_data"
    }
   ],
   "source": [
    "# ts(df) 는 디폴트로 frequency를 1로 간주함\n",
    "frequency(airline.ts)"
   ]
  },
  {
   "cell_type": "code",
   "execution_count": 11,
   "metadata": {},
   "outputs": [
    {
     "data": {
      "text/html": [
       "<ol class=list-inline>\n",
       "\t<li>1949</li>\n",
       "\t<li>1</li>\n",
       "</ol>\n"
      ],
      "text/latex": [
       "\\begin{enumerate*}\n",
       "\\item 1949\n",
       "\\item 1\n",
       "\\end{enumerate*}\n"
      ],
      "text/markdown": [
       "1. 1949\n",
       "2. 1\n",
       "\n",
       "\n"
      ],
      "text/plain": [
       "[1] 1949    1"
      ]
     },
     "metadata": {},
     "output_type": "display_data"
    },
    {
     "data": {
      "text/html": [
       "<ol class=list-inline>\n",
       "\t<li>1960</li>\n",
       "\t<li>12</li>\n",
       "</ol>\n"
      ],
      "text/latex": [
       "\\begin{enumerate*}\n",
       "\\item 1960\n",
       "\\item 12\n",
       "\\end{enumerate*}\n"
      ],
      "text/markdown": [
       "1. 1960\n",
       "2. 12\n",
       "\n",
       "\n"
      ],
      "text/plain": [
       "[1] 1960   12"
      ]
     },
     "metadata": {},
     "output_type": "display_data"
    },
    {
     "data": {
      "text/html": [
       "12"
      ],
      "text/latex": [
       "12"
      ],
      "text/markdown": [
       "12"
      ],
      "text/plain": [
       "[1] 12"
      ]
     },
     "metadata": {},
     "output_type": "display_data"
    }
   ],
   "source": [
    "# 특정 연도부터 월별로 time-series 데이터로 만들기\n",
    "airline.ts<-ts(AirPassengers, start=c(1949,1), frequency = 12)\n",
    "\n",
    "# 시작 time 조회해보기\n",
    "start(airline.ts)\n",
    "\n",
    "# 끝 time 조회해보기\n",
    "end(airline.ts)\n",
    "\n",
    "# 주기 확인\n",
    "frequency(airline.ts)"
   ]
  },
  {
   "cell_type": "code",
   "execution_count": 12,
   "metadata": {},
   "outputs": [],
   "source": [
    "# 시계열 자료 직접 생성\n",
    "oil_enter_in_R<-c(8047,7173,8156,6527,6364,6169,6273,6256,6498,7329,8057,9494)"
   ]
  },
  {
   "cell_type": "code",
   "execution_count": 13,
   "metadata": {},
   "outputs": [
    {
     "data": {
      "text/html": [
       "FALSE"
      ],
      "text/latex": [
       "FALSE"
      ],
      "text/markdown": [
       "FALSE"
      ],
      "text/plain": [
       "[1] FALSE"
      ]
     },
     "metadata": {},
     "output_type": "display_data"
    }
   ],
   "source": [
    "is.ts(oil_enter_in_R)"
   ]
  },
  {
   "cell_type": "code",
   "execution_count": 14,
   "metadata": {},
   "outputs": [
    {
     "data": {
      "text/html": [
       "'numeric'"
      ],
      "text/latex": [
       "'numeric'"
      ],
      "text/markdown": [
       "'numeric'"
      ],
      "text/plain": [
       "[1] \"numeric\""
      ]
     },
     "metadata": {},
     "output_type": "display_data"
    }
   ],
   "source": [
    "class(oil_enter_in_R)"
   ]
  },
  {
   "cell_type": "code",
   "execution_count": 17,
   "metadata": {},
   "outputs": [
    {
     "data": {
      "text/html": [
       "TRUE"
      ],
      "text/latex": [
       "TRUE"
      ],
      "text/markdown": [
       "TRUE"
      ],
      "text/plain": [
       "[1] TRUE"
      ]
     },
     "metadata": {},
     "output_type": "display_data"
    }
   ],
   "source": [
    "# 벡터를 데이터프레임으로 만들기\n",
    "oil_df<-data.frame(oil_enter_in_R)\n",
    "# 시계열 데이터로 전환\n",
    "oil_ts<-ts(oil_df, start=c(1994,1), frequency = 12)\n",
    "is.ts(oil_ts)"
   ]
  },
  {
   "cell_type": "code",
   "execution_count": 18,
   "metadata": {},
   "outputs": [],
   "source": [
    "# csv파일로 저장\n",
    "write.csv(oil_ts, \"oil_ts.csv\")"
   ]
  },
  {
   "cell_type": "code",
   "execution_count": 19,
   "metadata": {},
   "outputs": [],
   "source": [
    "# csv파일 읽기\n",
    "a<-read.csv(\"oil_ts.csv\")"
   ]
  },
  {
   "cell_type": "code",
   "execution_count": 20,
   "metadata": {},
   "outputs": [
    {
     "data": {
      "text/html": [
       "FALSE"
      ],
      "text/latex": [
       "FALSE"
      ],
      "text/markdown": [
       "FALSE"
      ],
      "text/plain": [
       "[1] FALSE"
      ]
     },
     "metadata": {},
     "output_type": "display_data"
    }
   ],
   "source": [
    "#  ts형태에서 csv파일로 저장후 다시 읽을 때는 dataframe형태로 전환되어 있음..!\n",
    "is.ts(a)"
   ]
  },
  {
   "cell_type": "code",
   "execution_count": 21,
   "metadata": {},
   "outputs": [
    {
     "data": {
      "text/html": [
       "<ol class=list-inline>\n",
       "\t<li><time datetime=\"1994-01-01\">1994-01-01</time></li>\n",
       "\t<li><time datetime=\"1994-02-01\">1994-02-01</time></li>\n",
       "\t<li><time datetime=\"1994-03-01\">1994-03-01</time></li>\n",
       "\t<li><time datetime=\"1994-04-01\">1994-04-01</time></li>\n",
       "\t<li><time datetime=\"1994-05-01\">1994-05-01</time></li>\n",
       "\t<li><time datetime=\"1994-06-01\">1994-06-01</time></li>\n",
       "\t<li><time datetime=\"1994-07-01\">1994-07-01</time></li>\n",
       "\t<li><time datetime=\"1994-08-01\">1994-08-01</time></li>\n",
       "\t<li><time datetime=\"1994-09-01\">1994-09-01</time></li>\n",
       "\t<li><time datetime=\"1994-10-01\">1994-10-01</time></li>\n",
       "\t<li><time datetime=\"1994-11-01\">1994-11-01</time></li>\n",
       "\t<li><time datetime=\"1994-12-01\">1994-12-01</time></li>\n",
       "</ol>\n"
      ],
      "text/latex": [
       "\\begin{enumerate*}\n",
       "\\item 1994-01-01\n",
       "\\item 1994-02-01\n",
       "\\item 1994-03-01\n",
       "\\item 1994-04-01\n",
       "\\item 1994-05-01\n",
       "\\item 1994-06-01\n",
       "\\item 1994-07-01\n",
       "\\item 1994-08-01\n",
       "\\item 1994-09-01\n",
       "\\item 1994-10-01\n",
       "\\item 1994-11-01\n",
       "\\item 1994-12-01\n",
       "\\end{enumerate*}\n"
      ],
      "text/markdown": [
       "1. 1994-01-01\n",
       "2. 1994-02-01\n",
       "3. 1994-03-01\n",
       "4. 1994-04-01\n",
       "5. 1994-05-01\n",
       "6. 1994-06-01\n",
       "7. 1994-07-01\n",
       "8. 1994-08-01\n",
       "9. 1994-09-01\n",
       "10. 1994-10-01\n",
       "11. 1994-11-01\n",
       "12. 1994-12-01\n",
       "\n",
       "\n"
      ],
      "text/plain": [
       " [1] \"1994-01-01\" \"1994-02-01\" \"1994-03-01\" \"1994-04-01\" \"1994-05-01\"\n",
       " [6] \"1994-06-01\" \"1994-07-01\" \"1994-08-01\" \"1994-09-01\" \"1994-10-01\"\n",
       "[11] \"1994-11-01\" \"1994-12-01\""
      ]
     },
     "metadata": {},
     "output_type": "display_data"
    }
   ],
   "source": [
    "# csv파일로 저장될 때 따로 날짜가 저장되지 않기 때문에 따로 써주어야함\n",
    "# 날짜 따로 만들어주기\n",
    "date<-seq(as.Date('1994/1/1'), by='month', length.out=12)\n",
    "date"
   ]
  },
  {
   "cell_type": "code",
   "execution_count": 22,
   "metadata": {},
   "outputs": [
    {
     "data": {
      "text/html": [
       "<table>\n",
       "<thead><tr><th scope=col>date</th><th scope=col>oil_enter_in_R</th></tr></thead>\n",
       "<tbody>\n",
       "\t<tr><td>1994-01-01</td><td>8047      </td></tr>\n",
       "\t<tr><td>1994-02-01</td><td>7173      </td></tr>\n",
       "\t<tr><td>1994-03-01</td><td>8156      </td></tr>\n",
       "\t<tr><td>1994-04-01</td><td>6527      </td></tr>\n",
       "\t<tr><td>1994-05-01</td><td>6364      </td></tr>\n",
       "\t<tr><td>1994-06-01</td><td>6169      </td></tr>\n",
       "\t<tr><td>1994-07-01</td><td>6273      </td></tr>\n",
       "\t<tr><td>1994-08-01</td><td>6256      </td></tr>\n",
       "\t<tr><td>1994-09-01</td><td>6498      </td></tr>\n",
       "\t<tr><td>1994-10-01</td><td>7329      </td></tr>\n",
       "\t<tr><td>1994-11-01</td><td>8057      </td></tr>\n",
       "\t<tr><td>1994-12-01</td><td>9494      </td></tr>\n",
       "</tbody>\n",
       "</table>\n"
      ],
      "text/latex": [
       "\\begin{tabular}{r|ll}\n",
       " date & oil\\_enter\\_in\\_R\\\\\n",
       "\\hline\n",
       "\t 1994-01-01 & 8047      \\\\\n",
       "\t 1994-02-01 & 7173      \\\\\n",
       "\t 1994-03-01 & 8156      \\\\\n",
       "\t 1994-04-01 & 6527      \\\\\n",
       "\t 1994-05-01 & 6364      \\\\\n",
       "\t 1994-06-01 & 6169      \\\\\n",
       "\t 1994-07-01 & 6273      \\\\\n",
       "\t 1994-08-01 & 6256      \\\\\n",
       "\t 1994-09-01 & 6498      \\\\\n",
       "\t 1994-10-01 & 7329      \\\\\n",
       "\t 1994-11-01 & 8057      \\\\\n",
       "\t 1994-12-01 & 9494      \\\\\n",
       "\\end{tabular}\n"
      ],
      "text/markdown": [
       "\n",
       "| date | oil_enter_in_R |\n",
       "|---|---|\n",
       "| 1994-01-01 | 8047       |\n",
       "| 1994-02-01 | 7173       |\n",
       "| 1994-03-01 | 8156       |\n",
       "| 1994-04-01 | 6527       |\n",
       "| 1994-05-01 | 6364       |\n",
       "| 1994-06-01 | 6169       |\n",
       "| 1994-07-01 | 6273       |\n",
       "| 1994-08-01 | 6256       |\n",
       "| 1994-09-01 | 6498       |\n",
       "| 1994-10-01 | 7329       |\n",
       "| 1994-11-01 | 8057       |\n",
       "| 1994-12-01 | 9494       |\n",
       "\n"
      ],
      "text/plain": [
       "   date       oil_enter_in_R\n",
       "1  1994-01-01 8047          \n",
       "2  1994-02-01 7173          \n",
       "3  1994-03-01 8156          \n",
       "4  1994-04-01 6527          \n",
       "5  1994-05-01 6364          \n",
       "6  1994-06-01 6169          \n",
       "7  1994-07-01 6273          \n",
       "8  1994-08-01 6256          \n",
       "9  1994-09-01 6498          \n",
       "10 1994-10-01 7329          \n",
       "11 1994-11-01 8057          \n",
       "12 1994-12-01 9494          "
      ]
     },
     "metadata": {},
     "output_type": "display_data"
    }
   ],
   "source": [
    "# 기존 df과 날짜 결합해 새로운 df만들어주기\n",
    "oil_ts<-data.frame(date,oil_ts)\n",
    "oil_ts"
   ]
  },
  {
   "cell_type": "code",
   "execution_count": 25,
   "metadata": {},
   "outputs": [],
   "source": [
    "# 다시 저장                      # row.names = T하면 index 생겨서 저장됨\n",
    "write.csv(oil_ts, \"oil_ts.csv\", row.names= F)"
   ]
  },
  {
   "cell_type": "code",
   "execution_count": 26,
   "metadata": {},
   "outputs": [],
   "source": [
    "setwd('C:/Users/joyh1/Desktop/빅데이터_20-1/R_data')"
   ]
  },
  {
   "cell_type": "code",
   "execution_count": 27,
   "metadata": {},
   "outputs": [],
   "source": [
    "unemploy.df<-read.csv(\"BOK_unemployment_rate.csv\")\n",
    "oil.df<-read.csv(\"BOK_energy_oil.csv\")\n",
    "exchange.df<-read.csv(\"BOK_exchange_rate_krw_usd.csv\")"
   ]
  },
  {
   "cell_type": "code",
   "execution_count": 30,
   "metadata": {},
   "outputs": [
    {
     "data": {
      "text/html": [
       "'data.frame'"
      ],
      "text/latex": [
       "'data.frame'"
      ],
      "text/markdown": [
       "'data.frame'"
      ],
      "text/plain": [
       "[1] \"data.frame\""
      ]
     },
     "metadata": {},
     "output_type": "display_data"
    },
    {
     "data": {
      "text/html": [
       "'data.frame'"
      ],
      "text/latex": [
       "'data.frame'"
      ],
      "text/markdown": [
       "'data.frame'"
      ],
      "text/plain": [
       "[1] \"data.frame\""
      ]
     },
     "metadata": {},
     "output_type": "display_data"
    },
    {
     "data": {
      "text/html": [
       "'data.frame'"
      ],
      "text/latex": [
       "'data.frame'"
      ],
      "text/markdown": [
       "'data.frame'"
      ],
      "text/plain": [
       "[1] \"data.frame\""
      ]
     },
     "metadata": {},
     "output_type": "display_data"
    }
   ],
   "source": [
    "class(unemploy.df)\n",
    "class(oil.df)\n",
    "class(exchange.df)"
   ]
  },
  {
   "cell_type": "code",
   "execution_count": 34,
   "metadata": {},
   "outputs": [],
   "source": [
    "unemploy.ts<-ts(unemploy.df, start=c(2000,1), frequency = 1)\n",
    "oil.ts<-ts(oil.df, start=c(1994,1), frequency = 12)\n",
    "exchange.ts<-ts(exchange.df, start=c(1980,1), frequency = 4)"
   ]
  },
  {
   "cell_type": "code",
   "execution_count": 35,
   "metadata": {},
   "outputs": [
    {
     "data": {
      "image/png": "[encoded data removed]",
      "text/plain": [
       "plot without title"
      ]
     },
     "metadata": {},
     "output_type": "display_data"
    }
   ],
   "source": [
    "plot(oil.ts)"
   ]
  },
  {
   "cell_type": "code",
   "execution_count": 36,
   "metadata": {},
   "outputs": [
    {
     "data": {
      "image/png": "[encoded data removed]",
      "text/plain": [
       "plot without title"
      ]
     },
     "metadata": {},
     "output_type": "display_data"
    }
   ],
   "source": [
    "plot(unemploy.ts)"
   ]
  },
  {
   "cell_type": "code",
   "execution_count": 38,
   "metadata": {},
   "outputs": [
    {
     "name": "stderr",
     "output_type": "stream",
     "text": [
      "Warning message:\n",
      "\"package 'quantmod' was built under R version 3.6.3\"Loading required package: xts\n",
      "Warning message:\n",
      "\"package 'xts' was built under R version 3.6.3\"Loading required package: zoo\n",
      "Warning message:\n",
      "\"package 'zoo' was built under R version 3.6.3\"\n",
      "Attaching package: 'zoo'\n",
      "\n",
      "The following objects are masked from 'package:base':\n",
      "\n",
      "    as.Date, as.Date.numeric\n",
      "\n",
      "Loading required package: TTR\n",
      "Warning message:\n",
      "\"package 'TTR' was built under R version 3.6.3\"Registered S3 method overwritten by 'quantmod':\n",
      "  method            from\n",
      "  as.zoo.data.frame zoo \n",
      "Version 0.4-0 included new data defaults. See ?getSymbols.\n"
     ]
    }
   ],
   "source": [
    "library(quantmod)"
   ]
  },
  {
   "cell_type": "code",
   "execution_count": 39,
   "metadata": {},
   "outputs": [
    {
     "name": "stderr",
     "output_type": "stream",
     "text": [
      "'getSymbols' currently uses auto.assign=TRUE by default, but will\n",
      "use auto.assign=FALSE in 0.5-0. You will still be able to use\n",
      "'loadSymbols' to automatically load data. getOption(\"getSymbols.env\")\n",
      "and getOption(\"getSymbols.auto.assign\") will still be checked for\n",
      "alternate defaults.\n",
      "\n",
      "This message is shown once per session and may be disabled by setting \n",
      "options(\"getSymbols.warning4.0\"=FALSE). See ?getSymbols for details.\n",
      "\n"
     ]
    },
    {
     "data": {
      "text/html": [
       "'FB'"
      ],
      "text/latex": [
       "'FB'"
      ],
      "text/markdown": [
       "'FB'"
      ],
      "text/plain": [
       "[1] \"FB\""
      ]
     },
     "metadata": {},
     "output_type": "display_data"
    },
    {
     "data": {
      "text/html": [
       "'TWTR'"
      ],
      "text/latex": [
       "'TWTR'"
      ],
      "text/markdown": [
       "'TWTR'"
      ],
      "text/plain": [
       "[1] \"TWTR\""
      ]
     },
     "metadata": {},
     "output_type": "display_data"
    }
   ],
   "source": [
    "getSymbols(\"FB\", src='yahoo', from=as.Date('2015-08-01'), to=as.Date('2018-08-31'))\n",
    "getSymbols(\"TWTR\", src='yahoo', from=as.Date('2015-08-01'), to=as.Date('2018-08-31'))"
   ]
  },
  {
   "cell_type": "code",
   "execution_count": 40,
   "metadata": {},
   "outputs": [
    {
     "data": {
      "text/plain": [
       "           FB.Open FB.High FB.Low FB.Close FB.Volume FB.Adjusted\n",
       "2015-08-03   93.53   95.08  92.80    94.14  29343100       94.14\n",
       "2015-08-04   93.79   94.73  93.33    94.06  20136000       94.06\n",
       "2015-08-05   95.25   97.09  95.18    96.44  29813200       96.44\n",
       "2015-08-06   97.18   98.74  94.42    95.12  42271300       95.12\n",
       "2015-08-07   95.38   95.40  93.61    94.30  23199100       94.30\n",
       "2015-08-10   95.68   95.90  93.63    94.15  21624200       94.15\n",
       "2015-08-11   93.73   94.76  92.90    93.62  22491000       93.62\n",
       "2015-08-12   92.70   94.44  91.19    94.19  27050500       94.19\n",
       "2015-08-13   94.05   94.73  93.35    93.43  17451800       93.43\n",
       "2015-08-14   93.54   94.72  93.21    94.42  15929700       94.42\n",
       "2015-08-17   94.42   94.46  93.39    93.93  18313500       93.93\n",
       "2015-08-18   94.08   95.85  94.04    95.17  22278800       95.17\n",
       "2015-08-19   94.63   96.10  94.16    95.31  23251300       95.31\n",
       "2015-08-20   93.54   94.77  90.46    90.56  44598200       90.56\n",
       "2015-08-21   87.52   89.18  85.61    86.06  62778700       86.06\n",
       "2015-08-24   77.03   82.09  72.00    82.09  83710700       82.09\n",
       "2015-08-25   86.95   87.67  83.00    83.00  52021200       83.00\n",
       "2015-08-26   85.95   87.46  83.26    87.19  45124300       87.19\n",
       "2015-08-27   89.10   90.06  87.19    89.73  42431400       89.73\n",
       "2015-08-28   89.88   91.48  89.79    91.01  33215900       91.01\n",
       "2015-08-31   90.60   91.05  88.89    89.43  32850700       89.43\n",
       "2015-09-01   86.85   89.39  86.50    87.23  36097400       87.23\n",
       "2015-09-02   88.81   89.89  87.63    89.89  27190500       89.89\n",
       "2015-09-03   89.76   89.82  87.73    88.15  27048200       88.15\n",
       "2015-09-04   87.20   88.39  86.70    88.26  27328700       88.26\n",
       "2015-09-08   89.69   90.24  88.83    89.53  27012500       89.53\n",
       "2015-09-09   90.78   91.98  90.17    90.44  32551100       90.44\n",
       "2015-09-10   90.07   92.06  89.63    91.98  26437400       91.98\n",
       "2015-09-11   91.68   92.08  91.13    92.05  21185000       92.05\n",
       "2015-09-14   92.31   92.62  91.60    92.31  20127900       92.31\n",
       "2015-09-15   92.37   93.25  91.79    92.90  18859400       92.90\n",
       "2015-09-16   92.90   93.60  92.63    93.45  16321200       93.45\n",
       "2015-09-17   93.37   95.51  92.90    94.34  27841800       94.34\n",
       "2015-09-18   93.20   95.19  93.05    94.40  62300000       94.40\n",
       "2015-09-21   94.62   96.49  94.52    95.55  28790000       95.55\n",
       "2015-09-22   93.77   94.68  91.92    92.96  36888900       92.96\n",
       "2015-09-23   93.40   94.32  92.80    93.97  21701400       93.97\n",
       "2015-09-24   93.06   94.77  92.24    94.41  29106000       94.41\n",
       "2015-09-25   95.79   95.85  92.06    92.77  28961600       92.77\n",
       "2015-09-28   92.08   92.29  88.18    89.21  41199900       89.21\n",
       "2015-09-29   89.10   90.06  85.72    86.67  42281800       86.67\n",
       "2015-09-30   88.44   90.02  88.01    89.90  36169100       89.90\n",
       "2015-10-01   90.05   90.95  88.36    90.95  29283700       90.95\n",
       "2015-10-02   88.90   92.20  88.37    92.07  37881700       92.07\n",
       "2015-10-05   92.94   94.27  92.66    94.01  27292500       94.01\n",
       "2015-10-06   94.08   94.17  92.34    92.80  22172800       92.80\n",
       "2015-10-07   93.11   93.66  91.37    92.40  24129300       92.40\n",
       "2015-10-08   91.89   93.22  90.47    92.47  27290500       92.47\n",
       "2015-10-09   92.90   93.74  92.24    93.24  20012900       93.24\n",
       "2015-10-12   93.32   94.60  92.67    94.26  18449600       94.26\n",
       "2015-10-13   93.66   95.37  93.55    94.12  19480300       94.12\n",
       "2015-10-14   94.08   95.20  93.61    94.07  19253400       94.07\n",
       "2015-10-15   94.99   96.30  94.90    95.96  27557500       95.96\n",
       "2015-10-16   96.18   97.59  95.35    97.54  25412900       97.54\n",
       "2015-10-19   97.18   98.57  96.92    98.47  23729900       98.47\n",
       "2015-10-20   98.73   99.59  96.56    97.00  30881800       97.00\n",
       "2015-10-21   97.37   98.18  96.47    97.11  21917800       97.11\n",
       "2015-10-22   97.79   99.73  97.55    99.67  26392100       99.67\n",
       "2015-10-23  101.91  102.85 100.16   102.19  42809700      102.19\n",
       "2015-10-26  102.20  103.81 101.55   103.77  25961200      103.77\n",
       "2015-10-27  102.94  104.10 102.40   103.70  23795500      103.70\n",
       "2015-10-28  103.90  104.48 102.92   104.20  24081500      104.20\n",
       "2015-10-29  103.96  105.12 103.52   104.88  20316700      104.88\n",
       "2015-10-30  104.51  104.72 101.65   101.97  33487100      101.97\n",
       "2015-11-02  101.72  103.47 101.18   103.31  24003900      103.31\n",
       "2015-11-03  103.22  103.65 102.40   102.58  21242300      102.58\n",
       "2015-11-04  103.19  104.14 102.48   103.94  43469300      103.94\n",
       "2015-11-05  108.80  110.65 107.95   108.76  63232900      108.76\n",
       "2015-11-06  108.04  108.74 105.91   107.10  35084300      107.10\n",
       "2015-11-09  107.00  108.25 105.86   106.49  26383500      106.49\n",
       "2015-11-10  105.96  108.15 105.24   107.91  25031700      107.91\n",
       "2015-11-11  108.27  109.87 107.11   109.01  25057100      109.01\n",
       "2015-11-12  108.48  109.39 108.00   108.02  20924700      108.02\n",
       "2015-11-13  107.71  108.25 103.83   103.95  30278400      103.95\n",
       "2015-11-16  103.32  104.17 100.47   104.04  49309200      104.04\n",
       "2015-11-17  104.62  106.20 104.14   105.13  26807200      105.13\n",
       "2015-11-18  105.80  107.88 105.39   107.77  23836500      107.77\n",
       "2015-11-19  107.36  107.73 105.95   106.26  25520600      106.26\n",
       "2015-11-20  106.84  107.87 106.62   107.32  22129600      107.32\n",
       "2015-11-23  107.19  107.47 106.08   106.95  19897200      106.95\n",
       "2015-11-24  106.00  106.49 104.39   105.74  23577300      105.74\n",
       "2015-11-25  106.33  106.60 105.10   105.41  15150800      105.41\n",
       "2015-11-27  105.78  105.96 104.86   105.45   5913100      105.45\n",
       "2015-11-30  105.84  106.10 103.75   104.24  20383200      104.24\n",
       "2015-12-01  104.83  107.15 104.50   107.12  22781900      107.12\n",
       "2015-12-02  107.00  107.92 105.79   106.07  24429100      106.07\n",
       "2015-12-03  106.27  106.85 103.35   104.38  23236500      104.38\n",
       "2015-12-04  104.81  107.73 104.11   106.18  21224700      106.18\n",
       "2015-12-07  106.48  106.83 104.66   105.61  15474900      105.61\n",
       "2015-12-08  104.00  106.91 103.95   106.49  20401800      106.49\n",
       "2015-12-09  106.18  106.44 103.55   104.60  23517300      104.60\n",
       "2015-12-10  105.05  106.40 104.41   105.42  17454300      105.42\n",
       "2015-12-11  104.15  104.34 101.91   102.12  26427700      102.12\n",
       "2015-12-14  102.29  104.74 101.46   104.66  24648100      104.66\n",
       "2015-12-15  105.30  105.80 104.28   104.55  21764300      104.55\n",
       "2015-12-16  105.37  107.09 104.19   106.79  22680500      106.79\n",
       "2015-12-17  107.49  107.75 106.13   106.22  21675700      106.22\n",
       "2015-12-18  106.08  106.59 103.97   104.04  35994200      104.04\n",
       "2015-12-21  104.91  105.15 103.60   104.77  16138800      104.77\n",
       "2015-12-22  105.22  105.66 104.81   105.51  14597100      105.51\n",
       "2015-12-23  105.89  106.11 103.86   104.63  19599700      104.63\n",
       "2015-12-24  104.74  105.32 104.50   105.02   6501800      105.02\n",
       "2015-12-28  105.02  105.98 104.53   105.93  13069700      105.93\n",
       "2015-12-29  106.42  107.74 106.25   107.26  17179900      107.26\n",
       "2015-12-30  107.00  107.25 106.06   106.22  13115000      106.22\n",
       "2015-12-31  106.00  106.17 104.62   104.66  18391100      104.66\n",
       "2016-01-04  101.95  102.24  99.75   102.22  37912400      102.22\n",
       "2016-01-05  102.89  103.71 101.67   102.73  23258200      102.73\n",
       "2016-01-06  101.13  103.77 100.90   102.97  25096200      102.97\n",
       "2016-01-07  100.50  101.43  97.30    97.92  45172900       97.92\n",
       "2016-01-08   99.88  100.50  97.03    97.33  35402300       97.33\n",
       "2016-01-11   97.91   98.60  95.39    97.51  29932400       97.51\n",
       "2016-01-12   99.00   99.96  97.55    99.37  28395400       99.37\n",
       "2016-01-13  100.58  100.58  95.21    95.44  33410600       95.44\n",
       "2016-01-14   95.85   98.87  92.45    98.37  48658600       98.37\n",
       "2016-01-15   93.98   96.38  93.54    94.97  46132800       94.97\n",
       "2016-01-19   96.53   97.42  93.92    95.26  30998300       95.26\n",
       "2016-01-20   92.83   95.00  89.37    94.35  59051400       94.35\n",
       "2016-01-21   94.91   95.99  92.62    94.16  30518900       94.16\n",
       "2016-01-22   96.41   98.07  95.49    97.94  30495400       97.94\n",
       "2016-01-25   98.72   99.48  96.93    97.01  32482000       97.01\n",
       "2016-01-26   97.76   97.88  95.66    97.34  26877100       97.34\n",
       "2016-01-27   97.79   97.85  94.23    94.45  58699400       94.45\n",
       "2016-01-28  107.20  110.34 104.81   109.11 107475300      109.11\n",
       "2016-01-29  108.99  112.84 108.84   112.21  62739500      112.21\n",
       "2016-02-01  112.27  115.72 112.01   115.09  46132700      115.09\n",
       "2016-02-02  114.80  117.59 113.20   114.61  59778600      114.61\n",
       "2016-02-03  115.27  115.34 109.75   112.69  56919300      112.69\n",
       "2016-02-04  111.80  111.94 109.25   110.49  38890200      110.49\n",
       "2016-02-05  109.51  109.58 103.18   104.07  76894700      104.07\n",
       "2016-02-08  100.41  102.68  97.46    99.75  71229700       99.75\n",
       "2016-02-09   97.14  102.40  96.82    99.54  62709000       99.54\n",
       "2016-02-10  101.55  103.25 100.24   101.00  45179400      101.00\n",
       "2016-02-11   99.60  105.11  98.88   101.91  43670600      101.91\n",
       "2016-02-12  103.74  104.24 101.09   102.01  36176800      102.01\n",
       "2016-02-16  103.80  103.93 100.24   101.61  45687200      101.61\n",
       "2016-02-17  102.02  105.72 100.40   105.20  44073400      105.20\n",
       "2016-02-18  105.80  106.00 103.03   103.47  29593500      103.47\n",
       "2016-02-19  102.55  105.02 102.06   104.57  32404500      104.57\n",
       "2016-02-22  105.49  108.25 105.34   107.16  35709700      107.16\n",
       "2016-02-23  106.85  107.47 105.12   105.46  25319300      105.46\n",
       "2016-02-24  104.21  106.95 102.74   106.88  34412400      106.88\n",
       "2016-02-25  107.11  108.07 105.61   108.07  29906300      108.07\n",
       "2016-02-26  108.70  109.45 107.16   107.92  26686200      107.92\n",
       "2016-02-29  107.60  108.91 106.75   106.92  32779000      106.92\n",
       "2016-03-01  107.83  109.82 107.60   109.82  26817300      109.82\n",
       "2016-03-02  109.68  110.55 108.77   109.95  25670200      109.95\n",
       "2016-03-03  110.25  110.30 108.54   109.58  21353100      109.58\n",
       "2016-03-04  110.05  110.05 107.93   108.39  24938900      108.39\n",
       "2016-03-07  108.07  108.07 104.72   105.73  31436400      105.73\n",
       "2016-03-08  104.78  107.37 104.40   105.93  25617000      105.93\n",
       "2016-03-09  106.70  107.51 105.49   107.51  20493300      107.51\n",
       "2016-03-10  107.91  108.66 105.77   107.32  24854300      107.32\n",
       "2016-03-11  108.48  109.42 107.92   109.41  20697600      109.41\n",
       "2016-03-14  109.28  110.33 108.77   109.89  17249400      109.89\n",
       "2016-03-15  109.11  110.83 108.84   110.67  17618500      110.67\n",
       "2016-03-16  110.49  112.50 110.10   112.18  24744800      112.18\n",
       "2016-03-17  112.15  112.69 110.73   111.02  24241200      111.02\n",
       "2016-03-18  111.56  112.42 110.27   111.45  36256900      111.45\n",
       "2016-03-21  111.66  112.37 111.03   111.85  18448000      111.85\n",
       "2016-03-22  111.36  112.88 111.17   112.25  19001100      112.25\n",
       "2016-03-23  112.01  113.19 112.00   112.54  18562000      112.54\n",
       "2016-03-24  112.13  113.09 111.68   113.05  17839100      113.05\n",
       "2016-03-28  113.32  114.59 112.95   113.69  21351800      113.69\n",
       "2016-03-29  113.83  116.32 113.64   116.14  29825300      116.14\n",
       "2016-03-30  116.73  116.99 114.36   114.70  33235200      114.70\n",
       "2016-03-31  114.70  115.01 113.77   114.10  21207500      114.10\n",
       "2016-04-01  113.75  116.17 113.35   116.06  24760500      116.06\n",
       "2016-04-04  114.07  114.55 111.61   112.55  48487900      112.55\n",
       "2016-04-05  112.11  113.32 111.90   112.22  22962400      112.22\n",
       "2016-04-06  112.47  113.81 112.42   113.71  20814600      113.71\n",
       "2016-04-07  113.79  114.89 113.07   113.64  20714500      113.64\n",
       "2016-04-08  114.25  114.33 109.90   110.63  48497800      110.63\n",
       "2016-04-11  110.70  110.91 108.77   108.99  39762300      108.99\n",
       "2016-04-12  109.34  111.16 108.99   110.61  26248100      110.61\n",
       "2016-04-13  112.23  112.65 106.52   110.51  88227400      110.51\n",
       "2016-04-14  110.62  112.04 110.26   110.84  28473300      110.84\n",
       "2016-04-15  110.79  110.97 109.20   109.64  20922800      109.64\n",
       "2016-04-18  109.74  110.81 109.20   110.45  21167200      110.45\n",
       "2016-04-19  111.10  112.45 109.16   112.29  30210500      112.29\n",
       "2016-04-20  112.43  113.27 111.56   112.42  21027900      112.42\n",
       "2016-04-21  112.55  114.04 112.31   113.44  20875200      113.44\n",
       "2016-04-22  111.21  111.75 109.01   110.56  38458200      110.56\n",
       "2016-04-25  109.87  110.67 109.07   110.10  21017900      110.10\n",
       "2016-04-26  110.49  110.50 108.15   108.76  22521500      108.76\n",
       "2016-04-27  107.94  108.94 106.31   108.89  52213100      108.89\n",
       "2016-04-28  119.58  120.79 116.23   116.73  87110100      116.73\n",
       "2016-04-29  116.82  117.84 115.84   117.58  37140600      117.58\n",
       "2016-05-02  117.83  118.73 116.57   118.57  28095200      118.57\n",
       "2016-05-03  117.52  118.16 117.02   117.43  24117500      117.43\n",
       "2016-05-04  116.61  118.30 116.57   118.06  23448400      118.06\n",
       "2016-05-05  118.04  118.98 117.25   117.81  22056700      117.81\n",
       "2016-05-06  117.16  119.64 117.11   119.49  26395600      119.49\n",
       "2016-05-09  119.54  120.28 118.90   119.24  21138100      119.24\n",
       "2016-05-10  119.62  120.50 119.00   120.50  23220000      120.50\n",
       "2016-05-11  120.41  121.08 119.42   119.52  22038400      119.52\n",
       "2016-05-12  119.98  120.84 118.90   120.28  22035500      120.28\n",
       "2016-05-13  120.38  120.64 119.68   119.81  18124300      119.81\n",
       "2016-05-16  119.38  119.61 117.35   118.67  31247800      118.67\n",
       "2016-05-17  118.82  119.01 117.20   117.35  21328600      117.35\n",
       "2016-05-18  116.80  118.27 116.73   117.65  21642300      117.65\n",
       "2016-05-19  117.05  117.49 115.88   116.81  20544100      116.81\n",
       "2016-05-20  116.96  117.99 116.95   117.35  18944800      117.35\n",
       "2016-05-23  117.42  117.60 115.94   115.97  20441000      115.97\n",
       "2016-05-24  116.24  117.73 116.12   117.70  20183600      117.70\n",
       "2016-05-25  118.13  118.67 117.38   117.89  20019800      117.89\n",
       "2016-05-26  118.24  119.76 117.92   119.47  18481300      119.47\n",
       "2016-05-27  119.56  119.85 119.01   119.38  13493600      119.38\n",
       "2016-05-31  119.46  120.10 118.12   118.81  23547600      118.81\n",
       "2016-06-01  118.50  119.08 117.82   118.78  15029500      118.78\n",
       "2016-06-02  118.69  119.44 118.22   118.93  13228300      118.93\n",
       "2016-06-03  118.98  118.98 117.86   118.47  14135100      118.47\n",
       "2016-06-06  118.62  119.43 118.36   118.79  12744700      118.79\n",
       "2016-06-07  119.24  119.30 117.67   117.76  17103000      117.76\n",
       "2016-06-08  117.76  118.60 117.27   118.39  14505600      118.39\n",
       "2016-06-09  118.13  118.68 117.71   118.56  13859200      118.56\n",
       "2016-06-10  117.54  118.11 116.26   116.62  18510800      116.62\n",
       "2016-06-13  115.00  115.48 113.31   113.95  31718200      113.95\n",
       "2016-06-14  114.07  114.95 113.58   114.94  17618500      114.94\n",
       "2016-06-15  115.30  115.44 114.07   114.60  19819400      114.60\n",
       "2016-06-16  113.87  114.50 112.94   114.39  19236300      114.39\n",
       "2016-06-17  114.42  114.43 112.56   113.02  24644300      113.02\n",
       "2016-06-20  113.77  114.72 112.75   113.37  20785400      113.37\n",
       "2016-06-21  114.12  115.21 113.97   114.38  19166300      114.38\n",
       "2016-06-22  114.65  114.74 113.61   113.91  14846300      113.91\n",
       "2016-06-23  114.37  115.09 113.54   115.08  16176900      115.08\n",
       "2016-06-24  111.01  113.68 111.00   112.08  40643100      112.08\n",
       "2016-06-27  111.57  111.57 108.23   108.97  36130400      108.97\n",
       "2016-06-28  110.63  112.75 110.55   112.70  26813800      112.70\n",
       "2016-06-29  113.37  114.25 113.04   114.16  20968300      114.16\n",
       "2016-06-30  114.67  115.18 113.67   114.28  23192700      114.28\n",
       "2016-07-01  114.20  115.13 113.81   114.19  14980000      114.19\n",
       "2016-07-05  113.94  114.20 112.97   114.20  14207000      114.20\n",
       "2016-07-06  113.36  116.79 112.97   116.70  24337600      116.70\n",
       "2016-07-07  116.63  116.97 115.36   115.85  16630200      115.85\n",
       "2016-07-08  116.43  117.50 115.85   117.24  18142600      117.24\n",
       "2016-07-11  117.71  118.70 117.50   117.87  17711600      117.87\n",
       "2016-07-12  118.63  118.72 117.57   117.93  15217700      117.93\n",
       "2016-07-13  118.39  118.40 116.68   116.78  16207700      116.78\n",
       "2016-07-14  117.50  117.64 116.70   117.29  14579700      117.29\n",
       "2016-07-15  117.74  118.28 116.58   116.86  16646000      116.86\n",
       "2016-07-18  117.32  119.61 116.89   119.37  20868400      119.37\n",
       "2016-07-19  118.99  120.85 118.66   120.61  21541300      120.61\n",
       "2016-07-20  121.25  122.20 120.56   121.92  20046500      121.92\n",
       "2016-07-21  121.92  122.10 120.25   120.61  17801700      120.61\n",
       "2016-07-22  119.90  121.01 119.31   121.00  18422400      121.00\n",
       "2016-07-25  121.39  121.85 117.78   121.63  18487400      121.63\n",
       "2016-07-26  122.00  122.07 120.75   121.22  17612000      121.22\n",
       "2016-07-27  122.42  125.00 121.51   123.34  52654200      123.34\n",
       "2016-07-28  127.52  128.33 123.63   125.00  78955800      125.00\n",
       "2016-07-29  124.65  125.84 123.71   123.94  35058800      123.94\n",
       "2016-08-01  123.85  124.58 122.86   124.31  25006900      124.31\n",
       "2016-08-02  124.06  124.80 122.07   123.09  23968400      123.09\n",
       "2016-08-03  123.09  123.92 122.31   122.51  18525300      122.51\n",
       "2016-08-04  122.94  124.79 122.51   124.36  21066000      124.36\n",
       "2016-08-05  124.98  125.84 124.62   125.15  20184000      125.15\n",
       "2016-08-08  125.25  125.45 124.55   125.26  15233900      125.26\n",
       "2016-08-09  125.34  126.09 124.53   125.06  19621000      125.06\n",
       "2016-08-10  125.07  125.48 124.54   124.88  10670100      124.88\n",
       "2016-08-11  125.20  125.38 124.75   124.90  11729500      124.90\n",
       "2016-08-12  124.70  125.00 124.18   124.88  12159000      124.88\n",
       "2016-08-15  124.91  124.92 123.70   123.90  19295100      123.90\n",
       "2016-08-16  123.50  123.92 122.78   123.30  14222400      123.30\n",
       "2016-08-17  123.66  124.38 122.85   124.37  13794200      124.37\n",
       "2016-08-18  124.01  124.26 123.64   123.91  12400800      123.91\n",
       "2016-08-19  123.60  124.16 123.28   123.56  11688300      123.56\n",
       "2016-08-22  123.33  124.83 123.11   124.15  14386400      124.15\n",
       "2016-08-23  124.51  125.09 124.25   124.37  13309500      124.37\n",
       "2016-08-24  124.47  124.69 123.09   123.48  12243700      123.48\n",
       "2016-08-25  123.12  124.37 123.10   123.89  10730800      123.89\n",
       "2016-08-26  124.05  125.19 123.91   124.96  17504800      124.96\n",
       "2016-08-29  124.35  126.73 124.35   126.54  15925900      126.54\n",
       "2016-08-30  126.60  126.60 125.15   125.84  17804300      125.84\n",
       "2016-08-31  125.60  126.22 125.10   126.12  14200600      126.12\n",
       "2016-09-01  126.38  126.63 125.60   126.17  13536100      126.17\n",
       "2016-09-02  126.85  126.86 126.00   126.51  12118800      126.51\n",
       "2016-09-06  126.67  129.94 126.47   129.73  26278400      129.73\n",
       "2016-09-07  130.04  131.98 129.95   131.05  27990800      131.05\n",
       "2016-09-08  130.92  131.08 129.81   130.27  15676600      130.27\n",
       "2016-09-09  129.71  129.95 127.10   127.10  27100700      127.10\n",
       "2016-09-12  125.96  128.76 125.75   128.69  21252800      128.69\n",
       "2016-09-13  128.03  128.35 126.66   127.21  18016200      127.21\n",
       "2016-09-14  126.89  128.80 126.89   127.77  15691100      127.77\n",
       "2016-09-15  127.98  129.10 127.67   128.35  15077200      128.35\n",
       "2016-09-16  128.20  129.18 128.20   129.07  24119200      129.07\n",
       "2016-09-19  129.91  129.94 128.26   128.65  14958800      128.65\n",
       "2016-09-20  128.65  129.17 128.03   128.64  11083800      128.64\n",
       "2016-09-21  129.13  130.01 128.39   129.94  14068300      129.94\n",
       "2016-09-22  130.50  130.73 129.56   130.08  15538300      130.08\n",
       "2016-09-23  127.56  128.60 127.30   127.96  28326300      127.96\n",
       "2016-09-26  127.37  128.16 126.80   127.31  15064900      127.31\n",
       "2016-09-27  127.61  129.01 127.43   128.69  15637100      128.69\n",
       "2016-09-28  129.21  129.47 128.40   129.23  12047600      129.23\n",
       "2016-09-29  129.18  129.29 127.55   128.09  14532200      128.09\n",
       "2016-09-30  128.03  128.59 127.45   128.27  18402900      128.27\n",
       "2016-10-03  128.38  129.09 127.80   128.77  13156900      128.77\n",
       "2016-10-04  129.17  129.28 127.55   128.19  14307500      128.19\n",
       "2016-10-05  128.25  128.80 127.83   128.47  12386800      128.47\n",
       "2016-10-06  128.43  129.06 128.08   128.74  11682700      128.74\n",
       "2016-10-07  129.04  129.25 128.33   128.99  12804400      128.99\n",
       "2016-10-10  129.68  130.70 129.20   130.24  15138700      130.24\n",
       "2016-10-11  130.23  130.64 128.23   128.88  17537900      128.88\n",
       "2016-10-12  129.01  129.66 128.46   129.05  11073000      129.05\n",
       "2016-10-13  128.21  128.25 126.75   127.82  17139300      127.82\n",
       "2016-10-14  128.49  128.95 127.58   127.88  13345300      127.88\n",
       "2016-10-17  128.20  128.47 127.32   127.54  11351700      127.54\n",
       "2016-10-18  128.68  129.39 128.01   128.57  13504000      128.57\n",
       "2016-10-19  128.74  130.47 128.60   130.11  16752300      130.11\n",
       "2016-10-20  130.07  130.66 129.50   130.00  13167500      130.00\n",
       "2016-10-21  129.78  132.13 129.70   132.07  19088800      132.07\n",
       "2016-10-24  132.72  133.41 132.15   133.28  17470200      133.28\n",
       "2016-10-25  133.50  133.50 132.22   132.29  13336800      132.29\n",
       "2016-10-26  131.64  132.26 130.94   131.04  13084700      131.04\n",
       "2016-10-27  131.74  131.80 129.27   129.69  16741400      129.69\n",
       "2016-10-28  130.50  132.97 129.93   131.29  24545500      131.29\n",
       "2016-10-31  132.01  132.12 130.88   130.99  15669000      130.99\n",
       "2016-11-01  131.41  131.94 128.65   129.50  22077800      129.50\n",
       "2016-11-02  130.23  130.23 126.28   127.17  39640900      127.17\n",
       "2016-11-03  122.00  123.28 119.50   120.00  63766300      120.00\n",
       "2016-11-04  119.59  121.93 119.25   120.75  30545500      120.75\n",
       "2016-11-07  122.83  123.21 121.35   122.15  23008900      122.15\n",
       "2016-11-08  122.03  124.61 121.54   124.22  19460800      124.22\n",
       "2016-11-09  121.50  123.81 120.51   123.18  31916000      123.18\n",
       "2016-11-10  123.93  124.18 115.27   120.80  67846700      120.80\n",
       "2016-11-11  119.53  120.70 118.15   119.02  32840100      119.02\n",
       "2016-11-14  119.13  119.13 113.55   115.08  51377000      115.08\n",
       "2016-11-15  116.73  118.49 115.83   117.20  34681400      117.20\n",
       "2016-11-16  114.48  117.88 114.21   116.34  32397900      116.34\n",
       "2016-11-17  116.81  117.79 116.01   117.79  18597800      117.79\n",
       "2016-11-18  118.39  119.13 116.84   117.02  22879300      117.02\n",
       "2016-11-21  118.20  121.95 117.80   121.77  35415400      121.77\n",
       "2016-11-22  122.40  122.98 120.90   121.47  26089200      121.47\n",
       "2016-11-23  121.23  121.31 119.94   120.84  15672100      120.84\n",
       "2016-11-25  121.01  121.14 120.07   120.38   8658600      120.38\n",
       "2016-11-28  120.12  121.69 119.82   120.41  18101300      120.41\n",
       "2016-11-29  120.57  122.10 120.40   120.87  18891000      120.87\n",
       "2016-11-30  120.32  121.79 117.95   118.42  30188900      118.42\n",
       "2016-12-01  118.38  118.45 114.00   115.10  43277000      115.10\n",
       "2016-12-02  115.11  116.48 114.30   115.40  25070400      115.40\n",
       "2016-12-05  115.95  117.57 115.07   117.43  20201500      117.43\n",
       "2016-12-06  117.69  117.80 116.33   117.31  19131200      117.31\n",
       "2016-12-07  117.00  117.95 116.57   117.95  21913700      117.95\n",
       "2016-12-08  117.98  119.50 117.64   118.91  22442800      118.91\n",
       "2016-12-09  119.22  119.94 118.95   119.68  17464700      119.68\n",
       "2016-12-12  119.22  119.24 117.65   117.77  17805500      117.77\n",
       "2016-12-13  117.86  121.52 117.61   120.31  29768000      120.31\n",
       "2016-12-14  120.00  121.69 118.85   120.21  25913100      120.21\n",
       "2016-12-15  120.08  122.50 119.63   120.57  20139600      120.57\n",
       "2016-12-16  120.90  121.50 119.27   119.87  25324300      119.87\n",
       "2016-12-19  119.85  120.36 118.51   119.24  15918100      119.24\n",
       "2016-12-20  119.50  119.77 118.80   119.09  13684400      119.09\n",
       "2016-12-21  118.92  119.20 118.48   119.04  10767600      119.04\n",
       "2016-12-22  118.86  118.99 116.93   117.40  16258600      117.40\n",
       "2016-12-23  117.00  117.56 116.30   117.27  10890000      117.27\n",
       "2016-12-27  116.96  118.68 116.86   118.01  12051500      118.01\n",
       "2016-12-28  118.19  118.25 116.65   116.92  12087400      116.92\n",
       "2016-12-29  117.00  117.53 116.06   116.35   9934900      116.35\n",
       "2016-12-30  116.60  116.83 114.77   115.05  18684100      115.05\n",
       "2017-01-03  116.03  117.84 115.51   116.86  20663900      116.86\n",
       "2017-01-04  117.55  119.66 117.29   118.69  19630900      118.69\n",
       "2017-01-05  118.86  120.95 118.32   120.67  19492200      120.67\n",
       "2017-01-06  120.98  123.88 120.03   123.41  28545300      123.41\n",
       "2017-01-09  123.55  125.43 123.04   124.90  22880400      124.90\n",
       "2017-01-10  124.82  125.50 124.28   124.35  17324600      124.35\n",
       "2017-01-11  124.35  126.12 124.06   126.09  18356500      126.09\n",
       "2017-01-12  125.61  126.73 124.80   126.62  18653900      126.62\n",
       "2017-01-13  127.49  129.27 127.37   128.34  24884300      128.34\n",
       "2017-01-17  128.04  128.34 127.40   127.87  15294500      127.87\n",
       "2017-01-18  128.41  128.43 126.84   127.92  13145900      127.92\n",
       "2017-01-19  128.23  128.35 127.45   127.55  12195500      127.55\n",
       "2017-01-20  128.10  128.48 126.78   127.04  19097200      127.04\n",
       "2017-01-23  127.31  129.25 126.95   128.93  16593600      128.93\n",
       "2017-01-24  129.38  129.90 128.38   129.37  15162700      129.37\n",
       "2017-01-25  130.00  131.74 129.77   131.48  18731300      131.48\n",
       "2017-01-26  131.63  133.14 131.44   132.78  20020100      132.78\n",
       "2017-01-27  132.68  132.95 131.08   132.18  19539500      132.18\n",
       "2017-01-30  131.58  131.58 129.60   130.98  18956100      130.98\n",
       "2017-01-31  130.17  130.66 129.52   130.32  19790500      130.32\n",
       "2017-02-01  132.25  133.49 130.68   133.23  50139800      133.23\n",
       "2017-02-02  133.22  135.49 130.40   130.84  54366400      130.84\n",
       "2017-02-03  131.24  132.85 130.76   130.98  24804900      130.98\n",
       "2017-02-06  130.98  132.06 130.30   132.06  17058500      132.06\n",
       "2017-02-07  132.24  133.00 131.66   131.84  14596400      131.84\n",
       "2017-02-08  132.60  134.44 132.44   134.20  22390600      134.20\n",
       "2017-02-09  134.49  134.50 133.31   134.14  16470600      134.14\n",
       "2017-02-10  134.10  134.94 133.68   134.19  15061900      134.19\n",
       "2017-02-13  134.70  134.70 133.70   134.05  13526200      134.05\n",
       "2017-02-14  134.10  134.23 132.55   133.85  14364900      133.85\n",
       "2017-02-15  133.45  133.70 132.66   133.44  13226500      133.44\n",
       "2017-02-16  133.07  133.87 133.02   133.84  12831100      133.84\n",
       "2017-02-17  133.50  134.09 133.17   133.53  12276500      133.53\n",
       "2017-02-21  133.50  133.91 132.90   133.72  14759100      133.72\n",
       "2017-02-22  133.60  136.79 133.46   136.12  27360100      136.12\n",
       "2017-02-23  135.89  136.12 134.33   135.36  18422500      135.36\n",
       "2017-02-24  134.16  135.62 134.16   135.44  12625700      135.44\n",
       "2017-02-27  135.26  137.18 135.02   136.41  14306700      136.41\n",
       "2017-02-28  136.79  136.81 134.75   135.54  16112100      135.54\n",
       "2017-03-01  136.47  137.48 136.30   137.42  16257000      137.42\n",
       "2017-03-02  137.09  137.82 136.31   136.76  12294800      136.76\n",
       "2017-03-03  136.63  137.33 136.08   137.17  11160600      137.17\n",
       "2017-03-06  136.88  137.83 136.51   137.42  12748200      137.42\n",
       "2017-03-07  137.03  138.37 136.99   137.30  13527100      137.30\n",
       "2017-03-08  137.15  137.99 137.05   137.72  10184500      137.72\n",
       "2017-03-09  137.72  138.57 137.40   138.24  15535300      138.24\n",
       "2017-03-10  138.91  139.49 138.22   138.79  16314100      138.79\n",
       "2017-03-13  138.71  139.68 138.67   139.60  10955500      139.60\n",
       "2017-03-14  139.46  139.46 138.52   139.32  12944000      139.32\n",
       "2017-03-15  139.29  140.10 138.49   139.72  19344800      139.72\n",
       "2017-03-16  140.20  140.25 139.73   139.99  13612900      139.99\n",
       "2017-03-17  140.34  140.34 139.70   139.84  20592800      139.84\n",
       "2017-03-20  139.71  140.19 139.25   139.94  12099500      139.94\n",
       "2017-03-21  141.15  142.31 138.40   138.51  29894800      138.51\n",
       "2017-03-22  137.93  139.79 137.60   139.59  17055400      139.59\n",
       "2017-03-23  139.48  140.39 139.09   139.53  13022800      139.53\n",
       "2017-03-24  140.08  141.02 139.76   140.34  16664700      140.34\n",
       "2017-03-27  139.05  140.65 138.77   140.32  12800500      140.32\n",
       "2017-03-28  140.36  141.95 140.01   141.76  14679400      141.76\n",
       "2017-03-29  141.99  142.86 141.43   142.65  16527600      142.65\n",
       "2017-03-30  142.40  142.95 141.85   142.41  12404000      142.41\n",
       "2017-03-31  142.31  142.63 141.89   142.05  11478300      142.05\n",
       "2017-04-03  141.93  142.47 140.82   142.28  13564000      142.28\n",
       "2017-04-04  141.86  142.09 141.27   141.73  12948600      141.73\n",
       "2017-04-05  142.26  143.44 141.29   141.85  17158100      141.85\n",
       "2017-04-06  142.11  142.22 140.91   141.17  15103400      141.17\n",
       "2017-04-07  141.20  141.55 140.24   140.78  11818300      140.78\n",
       "2017-04-10  141.00  141.43 140.63   141.04   9039400      141.04\n",
       "2017-04-11  140.80  141.03 138.81   139.92  16638100      139.92\n",
       "2017-04-12  139.72  140.40 139.44   139.58  11612500      139.58\n",
       "2017-04-13  139.62  140.58 139.33   139.39  10965600      139.39\n",
       "2017-04-17  139.76  141.55 139.75   141.42  11519700      141.42\n",
       "2017-04-18  141.27  141.91 140.61   140.96  14807500      140.96\n",
       "2017-04-19  141.35  143.04 141.27   142.27  15563900      142.27\n",
       "2017-04-20  142.95  144.25 142.69   143.80  15968200      143.80\n",
       "2017-04-21  143.90  144.17 142.27   143.68  12382000      143.68\n",
       "2017-04-24  144.96  145.67 144.34   145.47  14407200      145.47\n",
       "2017-04-25  145.79  147.15 145.79   146.49  17767500      146.49\n",
       "2017-04-26  147.09  147.59 146.09   146.56  12395000      146.56\n",
       "2017-04-27  146.67  147.75 146.14   147.70  11275100      147.70\n",
       "2017-04-28  149.50  151.53 149.07   150.25  30652200      150.25\n",
       "2017-05-01  151.74  152.57 151.42   152.46  25218300      152.46\n",
       "2017-05-02  153.34  153.44 151.66   152.78  21870400      152.78\n",
       "2017-05-03  153.60  153.60 151.34   151.80  29782500      151.80\n",
       "2017-05-04  150.17  151.52 148.72   150.85  36225500      150.85\n",
       "2017-05-05  151.45  151.63 149.79   150.24  17148500      150.24\n",
       "2017-05-08  150.71  151.08 149.74   151.06  15827500      151.06\n",
       "2017-05-09  151.49  152.59 150.21   150.48  17453900      150.48\n",
       "2017-05-10  150.23  150.52 148.86   150.29  12080700      150.29\n",
       "2017-05-11  150.31  150.65 149.41   150.04  11841900      150.04\n",
       "2017-05-12  150.40  150.46 149.63   150.33   9598200      150.33\n",
       "2017-05-15  150.17  151.48 149.77   150.19  15064700      150.19\n",
       "2017-05-16  150.11  150.21 149.03   149.78  14550800      149.78\n",
       "2017-05-17  148.00  148.67 144.42   144.85  28300100      144.85\n",
       "2017-05-18  144.72  148.15 144.51   147.66  23031600      147.66\n",
       "2017-05-19  148.45  149.39 147.96   148.06  16187900      148.06\n",
       "2017-05-22  148.08  148.59 147.69   148.24  12586700      148.24\n",
       "2017-05-23  148.52  148.81 147.25   148.07  12817800      148.07\n",
       "2017-05-24  148.51  150.23 148.42   150.04  17862400      150.04\n",
       "2017-05-25  150.30  152.59 149.95   151.96  19891400      151.96\n",
       "2017-05-26  152.23  152.25 151.15   152.13  14996200      152.13\n",
       "2017-05-30  151.97  152.90 151.64   152.38  13226000      152.38\n",
       "2017-05-31  152.70  153.35 151.09   151.46  18023900      151.46\n",
       "2017-06-01  151.75  152.29 150.30   151.53  14530600      151.53\n",
       "2017-06-02  151.85  153.63 151.30   153.61  16854400      153.61\n",
       "2017-06-05  153.64  154.71 153.41   153.63  12520400      153.63\n",
       "2017-06-06  153.41  154.52 152.48   152.81  13457100      152.81\n",
       "2017-06-07  153.27  153.75 152.34   153.12  12066700      153.12\n",
       "2017-06-08  154.08  154.73 153.10   154.71  17799400      154.71\n",
       "2017-06-09  154.77  155.59 146.61   149.60  35577700      149.60\n",
       "2017-06-12  148.17  149.20 144.56   148.44  33170200      148.44\n",
       "2017-06-13  150.15  151.18 148.90   150.68  20483400      150.68\n",
       "2017-06-14  151.26  152.40 149.05   150.25  20808800      150.25\n",
       "2017-06-15  147.67  150.04 146.37   149.80  18994200      149.80\n",
       "2017-06-16  149.59  150.83 148.60   150.64  22882400      150.64\n",
       "2017-06-19  151.71  153.57 151.71   152.87  19026500      152.87\n",
       "2017-06-20  152.88  153.84 152.21   152.25  14743900      152.25\n",
       "2017-06-21  152.36  154.08 151.88   153.91  15039800      153.91\n",
       "2017-06-22  153.01  154.55 152.91   153.40  13005500      153.40\n",
       "2017-06-23  152.72  155.20 152.65   155.07  18027000      155.07\n",
       "2017-06-26  156.25  156.50 153.20   153.59  18049700      153.59\n",
       "2017-06-27  152.84  153.31 150.39   150.58  19360800      150.58\n",
       "2017-06-28  150.92  153.47 149.86   153.24  16719100      153.24\n",
       "2017-06-29  152.28  152.50 148.92   151.04  23973500      151.04\n",
       "2017-06-30  151.90  151.92 150.06   150.98  17666000      150.98\n",
       "2017-07-03  151.72  152.15 147.80   148.43  13862700      148.43\n",
       "2017-07-05  149.00  150.85 148.13   150.34  14334300      150.34\n",
       "2017-07-06  149.03  150.04 148.00   148.82  14951800      148.82\n",
       "2017-07-07  149.25  151.99 149.19   151.44  13615900      151.44\n",
       "2017-07-10  151.69  153.98 151.51   153.50  13378700      153.50\n",
       "2017-07-11  153.37  155.42 152.91   155.27  13667700      155.27\n",
       "2017-07-12  156.49  159.16 156.20   158.90  22739400      158.90\n",
       "2017-07-13  158.74  159.78 158.42   159.26  13929200      159.26\n",
       "2017-07-14  160.13  160.32 159.33   159.97  16371200      159.97\n",
       "2017-07-17  160.25  160.78 158.81   159.73  12858800      159.73\n",
       "2017-07-18  159.66  163.73 159.42   162.86  23722900      162.86\n",
       "2017-07-19  163.59  165.70 163.17   164.14  26273600      164.14\n",
       "2017-07-20  164.80  165.00 162.81   164.53  18523100      164.53\n",
       "2017-07-21  164.16  165.05 163.75   164.43  14744000      164.43\n",
       "2017-07-24  164.64  166.17 164.31   166.00  17367000      166.00\n",
       "2017-07-25  165.01  165.54 163.86   165.28  15383200      165.28\n",
       "2017-07-26  166.01  166.01 164.10   165.61  35236900      165.61\n",
       "2017-07-27  174.70  175.49 167.50   170.44  68910700      170.44\n",
       "2017-07-28  169.07  173.43 169.05   172.45  24557600      172.45\n",
       "2017-07-31  172.00  172.72 168.55   169.25  25478900      169.25\n",
       "2017-08-01  169.82  170.47 169.05   169.86  14385000      169.86\n",
       "2017-08-02  170.30  170.55 166.91   169.30  17433800      169.30\n",
       "2017-08-03  169.30  169.70 168.25   168.59  10793800      168.59\n",
       "2017-08-04  168.97  170.06 168.69   169.62  10777700      169.62\n",
       "2017-08-07  169.95  172.06 169.66   171.98  12787800      171.98\n",
       "2017-08-08  171.88  173.05 170.62   171.23  14393500      171.23\n",
       "2017-08-09  169.98  171.45 169.56   171.18  10815000      171.18\n",
       "2017-08-10  170.06  170.59 166.85   167.40  20832700      167.40\n",
       "2017-08-11  167.95  168.82 166.85   168.08  13791200      168.08\n",
       "2017-08-14  170.09  171.08 169.29   170.75  12954200      170.75\n",
       "2017-08-15  171.49  171.50 170.01   171.00   8729200      171.00\n",
       "2017-08-16  171.25  171.38 169.24   170.00  15779900      170.00\n",
       "2017-08-17  169.34  169.86 166.85   166.91  17216000      166.91\n",
       "2017-08-18  166.84  168.67 166.21   167.41  15093600      167.41\n",
       "2017-08-21  167.16  168.00 165.82   167.78  11907500      167.78\n",
       "2017-08-22  168.28  169.87 167.15   169.64  11391000      169.64\n",
       "2017-08-23  168.84  169.36 168.20   168.71   9856500      168.71\n",
       "2017-08-24  168.88  169.29 166.41   167.74  14030400      167.74\n",
       "2017-08-25  167.86  168.38 166.18   166.32  12614500      166.32\n",
       "2017-08-28  166.91  167.70 166.33   167.24   8553700      167.24\n",
       "2017-08-29  165.25  168.43 165.00   168.05  11121000      168.05\n",
       "2017-08-30  168.17  170.18 167.63   169.92  11138300      169.92\n",
       "2017-08-31  170.40  172.15 170.06   171.97  17226500      171.97\n",
       "2017-09-01  172.40  172.92 171.31   172.02  11677600      172.02\n",
       "2017-09-05  171.27  172.39 169.55   170.72  13210900      170.72\n",
       "2017-09-06  170.91  172.48 169.57   172.09  13906300      172.09\n",
       "2017-09-07  171.94  173.31 170.27   173.21  18049500      173.21\n",
       "2017-09-08  173.09  173.49 170.80   170.95  10998500      170.95\n",
       "2017-09-11  172.40  173.89 172.20   173.51  12372000      173.51\n",
       "2017-09-12  173.76  174.00 171.75   172.96  11186300      172.96\n",
       "2017-09-13  173.01  173.17 172.06   173.05   9119300      173.05\n",
       "2017-09-14  172.26  172.28 170.50   170.96  15615700      170.96\n",
       "2017-09-15  170.88  172.34 170.26   171.64  15660500      171.64\n",
       "2017-09-18  171.99  172.07 169.34   170.01  12954000      170.01\n",
       "2017-09-19  170.62  172.56 170.36   172.52  13168600      172.52\n",
       "2017-09-20  172.50  173.05 170.70   172.17  12264100      172.17\n",
       "2017-09-21  171.69  172.27 170.01   171.11  11161400      171.11\n",
       "2017-09-22  170.21  171.73 169.22   170.54  12097100      170.54\n",
       "2017-09-25  169.24  169.30 161.56   162.87  41251600      162.87\n",
       "2017-09-26  164.50  165.50 162.78   164.21  23363300      164.21\n",
       "2017-09-27  165.90  168.34 165.57   167.68  19242500      167.68\n",
       "2017-09-28  167.94  169.07 167.16   168.73  12178700      168.73\n",
       "2017-09-29  168.83  171.66 168.81   170.87  15340400      170.87\n",
       "2017-10-02  171.39  171.87 168.75   169.47  13392300      169.47\n",
       "2017-10-03  169.30  170.73 169.20   169.96   8190300      169.96\n",
       "2017-10-04  169.83  170.67 168.29   168.42  12127900      168.42\n",
       "2017-10-05  169.18  171.31 168.60   171.24  14580600      171.24\n",
       "2017-10-06  170.25  172.37 169.75   172.23  13124500      172.23\n",
       "2017-10-09  172.70  174.88 172.00   172.50  14570400      172.50\n",
       "2017-10-10  173.00  173.20 170.80   171.59  11341100      171.59\n",
       "2017-10-11  171.95  172.78 171.40   172.74  11283700      172.74\n",
       "2017-10-12  172.61  173.85 172.29   172.55  10351000      172.55\n",
       "2017-10-13  173.45  174.65 173.20   173.74  13658300      173.74\n",
       "2017-10-16  174.49  175.00 174.06   174.52  11498800      174.52\n",
       "2017-10-17  174.71  176.13 174.36   176.11  15990100      176.11\n",
       "2017-10-18  176.65  176.74 175.75   176.03  12752400      176.03\n",
       "2017-10-19  174.93  176.03 172.63   174.56  14048400      174.56\n",
       "2017-10-20  175.50  175.88 174.63   174.98  12602200      174.98\n",
       "2017-10-23  175.20  175.34 171.25   171.27  13852700      171.27\n",
       "2017-10-24  172.30  173.24 171.50   171.80  12267900      171.80\n",
       "2017-10-25  171.90  172.25 168.89   170.60  15868200      170.60\n",
       "2017-10-26  171.38  172.29 170.39   170.63  11833100      170.63\n",
       "2017-10-27  174.15  178.21 173.90   177.88  30285300      177.88\n",
       "2017-10-30  179.26  180.69 177.61   179.87  24353200      179.87\n",
       "2017-10-31  180.57  180.80 178.94   180.06  20174200      180.06\n",
       "2017-11-01  182.36  182.90 180.57   182.66  40918300      182.66\n",
       "2017-11-02  180.63  181.94 177.34   178.92  35529900      178.92\n",
       "2017-11-03  179.29  179.86 176.71   178.92  17822100      178.92\n",
       "2017-11-06  178.56  180.45 178.31   180.17  13312700      180.17\n",
       "2017-11-07  180.50  180.75 178.96   180.25  12928200      180.25\n",
       "2017-11-08  179.79  180.35 179.11   179.56  10494100      179.56\n",
       "2017-11-09  178.31  179.40 177.09   179.30  12610300      179.30\n",
       "2017-11-10  178.35  179.10 177.96   178.46  11070200      178.46\n",
       "2017-11-13  177.50  179.04 177.30   178.77   9523400      178.77\n",
       "2017-11-14  178.13  178.97 177.18   178.07   9585900      178.07\n",
       "2017-11-15  176.66  178.57 176.40   177.95  10253700      177.95\n",
       "2017-11-16  178.76  179.83 178.50   179.59  15607600      179.59\n",
       "2017-11-17  179.30  179.98 178.90   179.00  13018000      179.00\n",
       "2017-11-20  178.87  179.50 178.10   178.74  10052400      178.74\n",
       "2017-11-21  179.15  181.89 178.99   181.86  14504000      181.86\n",
       "2017-11-22  181.30  181.73 180.44   180.87  10376300      180.87\n",
       "2017-11-24  180.40  183.15 180.29   182.78   9426300      182.78\n",
       "2017-11-27  182.56  183.73 181.99   183.03  12344500      183.03\n",
       "2017-11-28  183.51  184.25 182.09   182.42  14379700      182.42\n",
       "2017-11-29  181.89  181.97 174.00   175.13  41933500      175.13\n",
       "2017-11-30  176.85  178.28 175.20   177.18  25307600      177.18\n",
       "2017-12-01  176.03  177.48 172.34   175.10  20182500      175.10\n",
       "2017-12-04  176.29  176.57 170.79   171.47  24459400      171.47\n",
       "2017-12-05  170.45  175.38 169.01   172.83  20184900      172.83\n",
       "2017-12-06  172.50  176.77 171.90   176.06  20255800      176.06\n",
       "2017-12-07  175.80  180.39 175.80   180.14  20404500      180.14\n",
       "2017-12-08  181.53  182.28 178.74   179.00  19883800      179.00\n",
       "2017-12-11  179.30  180.22 178.80   179.04  13168600      179.04\n",
       "2017-12-12  178.60  179.18 176.60   176.96  16854100      176.96\n",
       "2017-12-13  177.30  179.16 177.25   178.30  14615700      178.30\n",
       "2017-12-14  178.29  180.36 177.68   178.39  13591000      178.39\n",
       "2017-12-15  179.02  180.49 178.36   180.18  28463100      180.18\n",
       "2017-12-18  181.01  181.30 179.75   180.82  17265400      180.82\n",
       "2017-12-19  179.95  180.08 178.22   179.51  14920600      179.51\n",
       "2017-12-20  179.81  179.81 177.36   177.89  11860500      177.89\n",
       "2017-12-21  177.94  178.68 177.05   177.45  11600700      177.45\n",
       "2017-12-22  177.14  177.53 176.23   177.20   8509500      177.20\n",
       "2017-12-26  176.63  177.00 174.67   175.99   8897300      175.99\n",
       "2017-12-27  176.55  178.44 176.26   177.62   9496100      177.62\n",
       "2017-12-28  177.95  178.94 177.68   177.92  12220800      177.92\n",
       "2017-12-29  178.00  178.85 176.46   176.46  10261500      176.46\n",
       "2018-01-02  177.68  181.58 177.55   181.42  18151900      181.42\n",
       "2018-01-03  181.88  184.78 181.33   184.67  16886600      184.67\n",
       "2018-01-04  184.90  186.21 184.10   184.33  13880900      184.33\n",
       "2018-01-05  185.59  186.90 184.93   186.85  13574500      186.85\n",
       "2018-01-08  187.20  188.90 186.33   188.28  17994700      188.28\n",
       "2018-01-09  188.70  188.80 187.10   187.87  12393100      187.87\n",
       "2018-01-10  186.94  187.89 185.63   187.84  10529900      187.84\n",
       "2018-01-11  188.40  188.40 187.38   187.77   9588600      187.77\n",
       "2018-01-12  178.06  181.48 177.40   179.37  77551300      179.37\n",
       "2018-01-16  181.50  181.75 178.04   178.39  36183800      178.39\n",
       "2018-01-17  179.26  179.32 175.80   177.60  27992400      177.60\n",
       "2018-01-18  178.13  180.98 177.08   179.80  23304900      179.80\n",
       "2018-01-19  180.85  182.37 180.17   181.29  26826500      181.29\n",
       "2018-01-22  180.80  185.39 180.41   185.37  21059500      185.37\n",
       "2018-01-23  186.05  189.55 185.55   189.35  25678800      189.35\n",
       "2018-01-24  189.89  190.66 186.52   186.55  24334500      186.55\n",
       "2018-01-25  187.95  188.62 186.60   187.48  17377700      187.48\n",
       "2018-01-26  187.75  190.00 186.81   190.00  17759200      190.00\n",
       "2018-01-29  188.75  188.84 185.63   185.98  20453200      185.98\n",
       "2018-01-30  187.62  188.18 181.84   187.12  20858600      187.12\n",
       "2018-01-31  188.37  189.83 185.22   186.89  43275100      186.89\n",
       "2018-02-01  188.22  195.32 187.89   193.09  54211300      193.09\n",
       "2018-02-02  192.04  194.21 189.98   190.28  26677500      190.28\n",
       "2018-02-05  186.93  190.61 180.61   181.26  33128200      181.26\n",
       "2018-02-06  178.57  185.77 177.74   185.31  37758500      185.31\n",
       "2018-02-07  184.15  185.08 179.95   180.18  27601900      180.18\n",
       "2018-02-08  181.01  181.84 171.48   171.58  38478300      171.58\n",
       "2018-02-09  174.76  176.90 167.18   176.11  39887600      176.11\n",
       "2018-02-12  177.06  177.55 171.84   176.41  32092100      176.41\n",
       "2018-02-13  175.62  175.97 173.10   173.15  21809400      173.15\n",
       "2018-02-14  173.45  179.81 173.21   179.52  28929700      179.52\n",
       "2018-02-15  180.50  180.50 176.84   179.96  20922100      179.96\n",
       "2018-02-16  178.99  179.88 176.30   177.36  20645300      177.36\n",
       "2018-02-20  175.77  177.95 175.11   176.01  21204900      176.01\n",
       "2018-02-21  176.71  181.27 176.40   177.91  23200800      177.91\n",
       "2018-02-22  178.70  180.21 177.41   178.99  18464200      178.99\n",
       "2018-02-23  179.90  183.39 179.51   183.29  19007300      183.29\n",
       "2018-02-26  184.58  185.66 183.22   184.93  17599700      184.93\n",
       "2018-02-27  184.45  184.70 181.46   181.46  15849800      181.46\n",
       "2018-02-28  182.30  182.88 178.14   178.32  18783000      178.32\n",
       "2018-03-01  179.01  180.12 174.41   175.94  23201600      175.94\n",
       "2018-03-02  173.29  177.11 172.99   176.62  20025900      176.62\n",
       "2018-03-05  176.20  181.15 175.89   180.40  16189300      180.40\n",
       "2018-03-06  181.78  182.38 179.11   179.78  15086800      179.78\n",
       "2018-03-07  178.74  183.82 178.07   183.71  19097300      183.71\n",
       "2018-03-08  183.56  184.40 181.45   182.34  17225900      182.34\n",
       "2018-03-09  183.91  185.51 183.21   185.23  18526300      185.23\n",
       "2018-03-12  185.23  186.10 184.22   184.76  15301200      184.76\n",
       "2018-03-13  185.61  185.99 181.11   181.88  18067500      181.88\n",
       "2018-03-14  182.60  184.25 181.85   184.19  16821700      184.19\n",
       "2018-03-15  183.24  184.00 182.19   183.86  15614300      183.86\n",
       "2018-03-16  184.49  185.33 183.41   185.09  24403400      185.09\n",
       "2018-03-19  177.01  177.17 170.06   172.56  88140100      172.56\n",
       "2018-03-20  167.47  170.20 161.95   168.15 129851800      168.15\n",
       "2018-03-21  164.80  173.40 163.30   169.39 106598800      169.39\n",
       "2018-03-22  166.13  170.27 163.72   164.89  73743000      164.89\n",
       "2018-03-23  165.44  166.60 159.02   159.39  53609700      159.39\n",
       "2018-03-26  160.82  161.10 149.02   160.06 126116600      160.06\n",
       "2018-03-27  156.31  162.85 150.75   152.22  79117000      152.22\n",
       "2018-03-28  151.65  155.88 150.80   153.03  60029200      153.03\n",
       "2018-03-29  155.15  161.42 154.14   159.79  59434300      159.79\n",
       "2018-04-02  157.81  159.20 154.11   155.39  36796000      155.39\n",
       "2018-04-03  156.55  157.39 150.81   156.11  42543900      156.11\n",
       "2018-04-04  152.03  155.56 150.51   155.10  49885600      155.10\n",
       "2018-04-05  161.56  161.57 156.65   159.34  41449600      159.34\n",
       "2018-04-06  157.73  161.42 156.81   157.20  41644800      157.20\n",
       "2018-04-09  157.82  160.53 156.04   157.93  34915200      157.93\n",
       "2018-04-10  157.93  165.98 157.01   165.04  57889300      165.04\n",
       "2018-04-11  165.36  168.65 163.25   166.32  56144600      166.32\n",
       "2018-04-12  166.98  167.45 163.10   163.87  38263000      163.87\n",
       "2018-04-13  164.58  165.70 163.77   164.52  19990600      164.52\n",
       "2018-04-16  165.72  165.78 163.39   164.83  18119400      164.83\n",
       "2018-04-17  165.83  169.00 165.66   168.66  22743000      168.66\n",
       "2018-04-18  166.88  168.12 165.77   166.36  20969600      166.36\n",
       "2018-04-19  166.20  168.33 165.20   168.10  22235000      168.10\n",
       "2018-04-20  167.79  168.43 165.81   166.28  19119400      166.28\n",
       "2018-04-23  167.27  168.45 165.09   165.84  23088100      165.84\n",
       "2018-04-24  165.43  166.10 158.19   159.69  35079900      159.69\n",
       "2018-04-25  160.14  161.06 156.19   159.69  41083600      159.69\n",
       "2018-04-26  173.22  176.27 170.80   174.16  77556900      174.16\n",
       "2018-04-27  176.81  177.10 172.60   173.59  29804700      173.59\n",
       "2018-04-30  173.79  175.72 171.71   172.00  20750500      172.00\n",
       "2018-05-01  172.00  174.02 170.23   173.86  26025900      173.86\n",
       "2018-05-02  174.25  178.08 174.20   176.07  30424500      176.07\n",
       "2018-05-03  175.13  176.12 172.12   174.02  24026100      174.02\n",
       "2018-05-04  173.08  176.98 173.06   176.61  17677800      176.61\n",
       "2018-05-07  177.35  179.50 177.17   177.97  18697200      177.97\n",
       "2018-05-08  178.25  179.04 177.11   178.92  15577200      178.92\n",
       "2018-05-09  179.67  183.01 178.78   182.66  23282800      182.66\n",
       "2018-05-10  183.15  186.13 182.50   185.53  21071400      185.53\n",
       "2018-05-11  184.85  188.32 184.18   186.99  21207800      186.99\n",
       "2018-05-14  187.71  187.86 186.20   186.64  15646700      186.64\n",
       "2018-05-15  184.88  185.29 183.20   184.32  15429400      184.32\n",
       "2018-05-16  183.70  184.32 182.66   183.20  16975500      183.20\n",
       "2018-05-17  182.68  184.06 182.22   183.76  14840700      183.76\n",
       "2018-05-18  183.49  184.19 182.61   182.68  13130500      182.68\n",
       "2018-05-21  183.77  185.30 183.13   184.49  13532900      184.49\n",
       "2018-05-22  184.93  185.42 183.43   183.80  12731400      183.80\n",
       "2018-05-23  182.50  186.91 182.18   186.90  16628100      186.90\n",
       "2018-05-24  185.88  186.80 185.03   185.93  12354700      185.93\n",
       "2018-05-25  186.02  186.33 184.45   184.92  10965100      184.92\n",
       "2018-05-29  184.34  186.81 183.71   185.74  16398900      185.74\n",
       "2018-05-30  186.54  188.00 185.25   187.67  13736900      187.67\n",
       "2018-05-31  187.87  192.72 187.48   191.78  30782600      191.78\n",
       "2018-06-01  193.07  194.55 192.07   193.99  17307200      193.99\n",
       "2018-06-04  191.84  193.98 191.47   193.28  18939800      193.28\n",
       "2018-06-05  194.30  195.00 192.62   192.94  15544300      192.94\n",
       "2018-06-06  191.03  192.53 189.11   191.34  22558900      191.34\n",
       "2018-06-07  190.75  190.97 186.77   188.18  21503200      188.18\n",
       "2018-06-08  187.53  189.48 186.43   189.10  12677100      189.10\n",
       "2018-06-11  188.81  192.60 188.80   191.54  12928900      191.54\n",
       "2018-06-12  192.17  193.28 191.56   192.40  11562700      192.40\n",
       "2018-06-13  192.74  194.50 191.91   192.41  15853800      192.41\n",
       "2018-06-14  193.10  197.28 192.91   196.81  19120900      196.81\n",
       "2018-06-15  195.79  197.07 194.64   195.85  21860900      195.85\n",
       "2018-06-18  194.80  199.58 194.13   198.31  16826000      198.31\n",
       "2018-06-19  196.24  197.96 193.79   197.49  19994000      197.49\n",
       "2018-06-20  199.10  203.55 198.81   202.00  28230900      202.00\n",
       "2018-06-21  202.76  203.39 200.09   201.50  19045700      201.50\n",
       "2018-06-22  201.16  202.24 199.31   201.74  17420200      201.74\n",
       "2018-06-25  200.00  200.00 193.11   196.35  25275100      196.35\n",
       "2018-06-26  197.60  199.10 196.23   199.00  17897600      199.00\n",
       "2018-06-27  199.18  200.75 195.80   195.84  18734400      195.84\n",
       "2018-06-28  195.18  197.34 193.26   196.23  18172400      196.23\n",
       "2018-06-29  197.32  197.60 193.96   194.32  15811600      194.32\n",
       "2018-07-02  193.37  197.45 192.22   197.36  13961600      197.36\n",
       "2018-07-03  194.55  195.40 192.52   192.73  13489500      192.73\n",
       "2018-07-05  194.74  198.65 194.03   198.45  19684200      198.45\n",
       "2018-07-06  198.45  203.64 197.70   203.23  19740100      203.23\n",
       "2018-07-09  204.93  205.80 202.12   204.74  18149400      204.74\n",
       "2018-07-10  204.50  204.91 202.26   203.54  13190100      203.54\n",
       "2018-07-11  202.22  204.50 201.75   202.54  12927400      202.54\n",
       "2018-07-12  203.43  207.08 203.19   206.92  15454700      206.92\n",
       "2018-07-13  207.81  208.43 206.45   207.32  11486800      207.32\n",
       "2018-07-16  207.50  208.72 206.84   207.23  11078200      207.23\n",
       "2018-07-17  204.90  210.46 204.84   209.99  15349900      209.99\n",
       "2018-07-18  209.82  210.99 208.44   209.36  15334900      209.36\n",
       "2018-07-19  208.77  209.99 207.76   208.09  11350400      208.09\n",
       "2018-07-20  208.85  211.50 208.50   209.94  16163900      209.94\n",
       "2018-07-23  210.58  211.62 208.80   210.91  16732000      210.91\n",
       "2018-07-24  215.11  216.20 212.60   214.67  28468700      214.67\n",
       "2018-07-25  215.72  218.62 214.27   217.50  58954200      217.50\n",
       "2018-07-26  174.89  180.13 173.75   176.26 169803700      176.26\n",
       "2018-07-27  179.87  179.93 173.00   174.89  60073700      174.89\n",
       "2018-07-30  175.30  175.30 166.56   171.06  65280800      171.06\n",
       "2018-07-31  170.67  174.24 170.00   172.58  40356500      172.58\n",
       "2018-08-01  173.93  175.08 170.90   171.65  34042100      171.65\n",
       "2018-08-02  170.68  176.79 170.27   176.37  32400000      176.37\n",
       "2018-08-03  177.69  178.85 176.15   177.78  24763400      177.78\n",
       "2018-08-06  178.97  185.79 178.38   185.69  49716200      185.69\n",
       "2018-08-07  186.50  188.30 183.72   183.81  33398600      183.81\n",
       "2018-08-08  184.75  186.85 183.76   185.18  22205200      185.18\n",
       "2018-08-09  185.85  186.57 182.48   183.09  19732100      183.09\n",
       "2018-08-10  182.04  182.10 179.42   180.26  21500400      180.26\n",
       "2018-08-13  180.10  182.61 178.90   180.05  17423300      180.05\n",
       "2018-08-14  180.71  181.99 178.62   181.11  19102000      181.11\n",
       "2018-08-15  179.34  180.87 174.78   179.53  33020200      179.53\n",
       "2018-08-16  180.42  180.50 174.01   174.70  31351800      174.70\n",
       "2018-08-17  174.50  176.22 172.04   173.80  24893200      173.80\n",
       "2018-08-20  174.04  174.57 170.91   172.50  21518000      172.50\n",
       "2018-08-21  172.81  174.17 171.39   172.62  19578500      172.62\n",
       "2018-08-22  172.21  174.24 172.13   173.64  16894100      173.64\n",
       "2018-08-23  173.09  175.55 172.83   172.90  18053600      172.90\n",
       "2018-08-24  173.70  174.82 172.92   174.65  14631600      174.65\n",
       "2018-08-27  175.99  178.67 175.79   177.46  17921900      177.46\n",
       "2018-08-28  178.10  178.24 175.83   176.26  15910700      176.26\n",
       "2018-08-29  176.30  176.79 174.75   175.90  18494100      175.90\n",
       "2018-08-30  175.90  179.79 175.70   177.64  24216500      177.64"
      ]
     },
     "metadata": {},
     "output_type": "display_data"
    }
   ],
   "source": [
    "FB"
   ]
  },
  {
   "cell_type": "code",
   "execution_count": 41,
   "metadata": {},
   "outputs": [
    {
     "data": {
      "text/plain": [
       "           TWTR.Open TWTR.High TWTR.Low TWTR.Close TWTR.Volume TWTR.Adjusted\n",
       "2015-08-03     30.85     31.09    28.69      29.27    46637100         29.27\n",
       "2015-08-04     29.11     29.90    28.90      29.34    21900300         29.34\n",
       "2015-08-05     29.41     29.50    28.43      28.48    21223300         28.48\n",
       "2015-08-06     28.40     28.43    27.23      27.54    27612200         27.54\n",
       "2015-08-07     27.80     27.90    26.87      27.04    18392600         27.04\n",
       "2015-08-10     28.09     29.63    27.82      29.50    42547100         29.50\n",
       "2015-08-11     29.01     29.89    28.53      29.62    27827600         29.62\n",
       "2015-08-12     29.11     29.50    28.51      29.39    18513100         29.39\n",
       "2015-08-13     29.60     29.60    28.44      28.54    15004000         28.54\n",
       "2015-08-14     28.50     29.27    28.45      29.06    16716300         29.06\n",
       "2015-08-17     29.19     29.34    28.93      29.06     9557300         29.06\n",
       "2015-08-18     28.91     29.00    28.30      28.30     9662800         28.30\n",
       "2015-08-19     28.06     28.09    27.16      27.61    19964000         27.61\n",
       "2015-08-20     27.15     27.48    25.92      26.00    25257800         26.00\n",
       "2015-08-21     25.65     26.74    25.51      25.87    23733200         25.87\n",
       "2015-08-24     23.61     26.23    21.01      25.17    30106400         25.17\n",
       "2015-08-25     26.29     26.33    24.38      24.38    19918700         24.38\n",
       "2015-08-26     24.80     25.29    23.83      25.03    20576600         25.03\n",
       "2015-08-27     25.44     26.80    25.24      26.46    22493000         26.46\n",
       "2015-08-28     26.19     26.93    26.06      26.83    12426200         26.83\n",
       "2015-08-31     27.64     28.49    27.35      27.79    30752000         27.79\n",
       "2015-09-01     27.23     28.12    26.77      27.03    21163500         27.03\n",
       "2015-09-02     27.47     27.83    26.87      27.82    14402000         27.82\n",
       "2015-09-03     28.03     29.00    27.81      28.30    21349200         28.30\n",
       "2015-09-04     27.95     28.55    27.80      28.15    13537900         28.15\n",
       "2015-09-08     28.15     28.20    27.01      27.18    19225500         27.18\n",
       "2015-09-09     27.17     27.85    26.42      27.18    19349900         27.18\n",
       "2015-09-10     27.07     27.83    26.95      27.71    11240300         27.71\n",
       "2015-09-11     27.63     27.65    27.17      27.39     8830100         27.39\n",
       "2015-09-14     27.21     27.55    26.80      26.90    11564000         26.90\n",
       "2015-09-15     27.04     27.55    27.00      27.17    10166700         27.17\n",
       "2015-09-16     27.14     28.00    27.00      27.75    13335400         27.75\n",
       "2015-09-17     27.54     27.93    27.03      27.41    13073200         27.41\n",
       "2015-09-18     27.04     28.25    26.99      27.96    17505300         27.96\n",
       "2015-09-21     27.98     28.09    27.19      27.38    10542000         27.38\n",
       "2015-09-22     27.05     27.48    26.62      26.83    13461300         26.83\n",
       "2015-09-23     26.97     27.28    26.58      26.79    10840000         26.79\n",
       "2015-09-24     26.51     26.64    25.40      26.60    21349400         26.60\n",
       "2015-09-25     26.84     26.91    25.14      25.29    14572000         25.29\n",
       "2015-09-28     24.96     25.61    24.60      25.26    17452800         25.26\n",
       "2015-09-29     25.23     25.76    24.92      25.59    13421600         25.59\n",
       "2015-09-30     25.94     27.33    25.88      26.94    25465000         26.94\n",
       "2015-10-01     26.47     26.84    24.65      24.68    30953500         24.68\n",
       "2015-10-02     24.50     26.48    24.34      26.31    23542300         26.31\n",
       "2015-10-05     26.99     28.25    26.33      28.15    31012900         28.15\n",
       "2015-10-06     28.16     28.40    26.75      27.62    31294500         27.62\n",
       "2015-10-07     28.35     29.95    28.01      29.83    34460700         29.83\n",
       "2015-10-08     29.57     31.50    29.03      30.32    36431800         30.32\n",
       "2015-10-09     30.90     31.41    30.28      30.85    27453600         30.85\n",
       "2015-10-12     30.30     30.77    28.60      28.75    30619500         28.75\n",
       "2015-10-13     29.55     30.68    28.84      29.06    45783200         29.06\n",
       "2015-10-14     29.46     29.82    28.38      29.38    27554400         29.38\n",
       "2015-10-15     29.46     30.28    29.01      29.71    15838900         29.71\n",
       "2015-10-16     30.08     31.40    29.36      31.15    44564000         31.15\n",
       "2015-10-19     31.15     31.60    30.57      30.91    23958100         30.91\n",
       "2015-10-20     30.94     31.39    30.41      30.91    15824400         30.91\n",
       "2015-10-21     29.50     29.66    28.65      29.30    30359000         29.30\n",
       "2015-10-22     29.24     29.80    28.74      29.15    17424000         29.15\n",
       "2015-10-23     29.97     30.72    29.61      30.28    19855700         30.28\n",
       "2015-10-26     30.63     31.22    30.48      30.89    16787000         30.89\n",
       "2015-10-27     31.02     31.87    30.65      31.34    44502900         31.34\n",
       "2015-10-28     28.13     31.34    27.76      30.87    88974900         30.87\n",
       "2015-10-29     30.58     30.70    28.93      29.06    33682800         29.06\n",
       "2015-10-30     29.13     29.57    28.35      28.46    21933100         28.46\n",
       "2015-11-02     28.54     29.29    28.05      29.20    18549700         29.20\n",
       "2015-11-03     29.09     29.63    29.04      29.13    16706000         29.13\n",
       "2015-11-04     29.36     30.15    29.23      29.36    18787000         29.36\n",
       "2015-11-05     29.47     29.55    28.45      28.66    15525300         28.66\n",
       "2015-11-06     28.58     28.70    28.05      28.28    13592100         28.28\n",
       "2015-11-09     28.07     28.21    26.68      27.09    25624300         27.09\n",
       "2015-11-10     26.81     27.17    26.25      27.05    16552100         27.05\n",
       "2015-11-11     27.08     27.14    26.37      26.50    12777200         26.50\n",
       "2015-11-12     26.08     26.61    25.85      26.13    12580200         26.13\n",
       "2015-11-13     25.89     26.16    25.16      25.18    14333800         25.18\n",
       "2015-11-16     25.33     25.78    25.00      25.41    12262800         25.41\n",
       "2015-11-17     25.54     25.69    24.90      25.23    13259000         25.23\n",
       "2015-11-18     25.17     26.09    25.16      25.90    13976000         25.90\n",
       "2015-11-19     25.94     26.58    25.93      26.32    14231900         26.32\n",
       "2015-11-20     26.32     26.70    26.03      26.27    10835300         26.27\n",
       "2015-11-23     26.11     26.27    25.02      25.20    18169900         25.20\n",
       "2015-11-24     25.17     25.55    25.02      25.52    10428500         25.52\n",
       "2015-11-25     25.62     26.41    25.59      26.06    13067000         26.06\n",
       "2015-11-27     25.98     26.07    25.67      25.75     4179400         25.75\n",
       "2015-11-30     25.78     25.82    25.06      25.40    17913600         25.40\n",
       "2015-12-01     25.39     25.58    25.00      25.53    14799300         25.53\n",
       "2015-12-02     25.31     25.72    25.17      25.40    11845600         25.40\n",
       "2015-12-03     25.48     26.06    24.91      25.90    23850700         25.90\n",
       "2015-12-04     25.81     25.85    25.01      25.02    16828200         25.02\n",
       "2015-12-07     24.99     25.16    24.13      24.46    16872100         24.46\n",
       "2015-12-08     24.04     25.10    23.54      24.99    23621800         24.99\n",
       "2015-12-09     24.98     24.98    24.19      24.31    14683700         24.31\n",
       "2015-12-10     24.36     26.25    24.34      25.91    28323900         25.91\n",
       "2015-12-11     25.91     26.20    24.80      24.84    23061300         24.84\n",
       "2015-12-14     24.68     24.94    23.70      24.92    18108400         24.92\n",
       "2015-12-15     24.52     24.69    23.70      23.95    23106600         23.95\n",
       "2015-12-16     23.96     24.48    23.80      24.30    24063300         24.30\n",
       "2015-12-17     24.47     24.75    23.29      23.31    17879200         23.31\n",
       "2015-12-18     23.35     23.44    22.66      22.99    23066200         22.99\n",
       "2015-12-21     23.02     23.04    21.99      22.14    22910600         22.14\n",
       "2015-12-22     22.26     22.67    22.09      22.56    13696200         22.56\n",
       "2015-12-23     22.68     22.95    22.37      22.67    13167600         22.67\n",
       "2015-12-24     22.70     23.06    22.55      22.97     7910500         22.97\n",
       "2015-12-28     22.90     23.32    22.50      22.53    13746500         22.53\n",
       "2015-12-29     22.63     22.82    22.31      22.47    11211100         22.47\n",
       "2015-12-30     22.45     22.94    22.21      22.23    15323700         22.23\n",
       "2015-12-31     22.17     23.28    22.15      23.14    19479400         23.14\n",
       "2016-01-04     22.64     22.84    22.11      22.56    15325000         22.56\n",
       "2016-01-05     22.79     23.00    21.85      21.92    17077700         21.92\n",
       "2016-01-06     21.62     22.18    21.18      21.39    14033600         21.39\n",
       "2016-01-07     21.00     21.48    20.20      20.26    20759800         20.26\n",
       "2016-01-08     20.51     20.72    19.60      19.98    21832300         19.98\n",
       "2016-01-11     20.12     20.20    19.26      19.65    21342100         19.65\n",
       "2016-01-12     19.87     20.41    19.32      19.62    14601300         19.62\n",
       "2016-01-13     19.70     19.76    18.47      18.68    35876000         18.68\n",
       "2016-01-14     18.55     19.16    17.27      19.00    37117100         19.00\n",
       "2016-01-15     18.23     18.53    17.61      17.94    24600000         17.94\n",
       "2016-01-19     18.18     18.18    16.43      16.69    24284700         16.69\n",
       "2016-01-20     16.16     19.04    15.48      17.38    69194900         17.38\n",
       "2016-01-21     17.44     18.32    16.80      17.83    26342100         17.83\n",
       "2016-01-22     18.29     18.56    17.73      17.84    15622800         17.84\n",
       "2016-01-25     16.80     17.45    16.51      17.02    33661100         17.02\n",
       "2016-01-26     17.22     17.28    16.40      17.01    22146300         17.01\n",
       "2016-01-27     17.01     17.62    16.77      16.78    16826700         16.78\n",
       "2016-01-28     17.21     17.34    16.45      16.49    16835100         16.49\n",
       "2016-01-29     16.64     17.07    16.51      16.80    16882500         16.80\n",
       "2016-02-01     17.89     18.77    17.30      17.91    49994400         17.91\n",
       "2016-02-02     17.22     17.27    16.01      16.08    31835100         16.08\n",
       "2016-02-03     16.33     16.74    15.55      16.56    24312600         16.56\n",
       "2016-02-04     16.40     17.18    16.29      16.91    18291800         16.91\n",
       "2016-02-05     16.61     16.64    15.62      15.72    24130500         15.72\n",
       "2016-02-08     15.51     15.55    14.73      14.90    24962700         14.90\n",
       "2016-02-09     14.62     15.55    14.31      14.40    26824700         14.40\n",
       "2016-02-10     14.55     15.28    14.52      14.98    41086100         14.98\n",
       "2016-02-11     14.07     14.79    13.91      14.31    38657700         14.31\n",
       "2016-02-12     14.54     15.94    14.53      15.88    35703900         15.88\n",
       "2016-02-16     16.09     16.40    15.67      16.36    17286100         16.36\n",
       "2016-02-17     16.47     17.60    16.43      17.46    25837500         17.46\n",
       "2016-02-18     18.10     18.55    17.52      18.43    34586300         18.43\n",
       "2016-02-19     18.16     18.88    17.77      18.31    24004200         18.31\n",
       "2016-02-22     18.62     18.68    17.76      18.30    25021600         18.30\n",
       "2016-02-23     18.56     18.96    18.10      18.30    25768300         18.30\n",
       "2016-02-24     18.00     18.09    17.11      18.00    26694200         18.00\n",
       "2016-02-25     17.93     17.95    17.31      17.59    22364200         17.59\n",
       "2016-02-26     17.72     18.03    17.50      17.94    16344100         17.94\n",
       "2016-02-29     17.96     18.57    17.78      18.12    17398700         18.12\n",
       "2016-03-01     18.47     18.48    17.59      17.85    19333800         17.85\n",
       "2016-03-02     17.85     18.74    17.72      18.54    17218600         18.54\n",
       "2016-03-03     18.53     19.44    18.48      19.31    23247400         19.31\n",
       "2016-03-04     19.45     20.32    19.06      19.36    30105000         19.36\n",
       "2016-03-07     19.11     19.73    18.77      19.17    19750200         19.17\n",
       "2016-03-08     19.10     19.15    18.33      18.33    16402800         18.33\n",
       "2016-03-09     18.61     18.74    17.52      17.66    21555600         17.66\n",
       "2016-03-10     17.69     17.77    16.38      16.61    33207600         16.61\n",
       "2016-03-11     16.77     16.94    16.46      16.81    21494600         16.81\n",
       "2016-03-14     16.81     17.32    16.79      17.12    16524500         17.12\n",
       "2016-03-15     17.00     17.04    16.14      16.19    19717500         16.19\n",
       "2016-03-16     16.33     16.77    16.13      16.70    24783600         16.70\n",
       "2016-03-17     16.65     17.15    16.62      16.85    17061900         16.85\n",
       "2016-03-18     17.08     17.38    16.76      16.85    21159300         16.85\n",
       "2016-03-21     16.83     17.05    16.68      16.89    12560200         16.89\n",
       "2016-03-22     16.75     17.01    16.70      16.86     9566100         16.86\n",
       "2016-03-23     16.86     16.91    16.01      16.01    18009200         16.01\n",
       "2016-03-24     15.94     15.99    15.57      15.91    14902100         15.91\n",
       "2016-03-28     15.98     16.01    15.40      15.60    14147700         15.60\n",
       "2016-03-29     15.69     15.99    15.33      15.97    17020200         15.97\n",
       "2016-03-30     16.16     16.72    16.01      16.36    19380800         16.36\n",
       "2016-03-31     16.40     16.84    16.21      16.55    18894800         16.55\n",
       "2016-04-01     16.41     16.43    15.83      15.98    21009400         15.98\n",
       "2016-04-04     16.00     17.54    15.96      17.09    38258800         17.09\n",
       "2016-04-05     17.59     17.83    16.89      17.05    41742200         17.05\n",
       "2016-04-06     17.12     17.48    16.90      17.26    23135700         17.26\n",
       "2016-04-07     16.88     17.59    16.85      16.98    23324200         16.98\n",
       "2016-04-08     17.12     17.25    16.41      16.65    18684000         16.65\n",
       "2016-04-11     16.74     16.98    16.41      16.51    14205400         16.51\n",
       "2016-04-12     16.50     16.77    16.15      16.57    14938600         16.57\n",
       "2016-04-13     16.68     17.40    16.68      17.37    22648300         17.37\n",
       "2016-04-14     17.38     17.70    17.14      17.53    16225500         17.53\n",
       "2016-04-15     17.52     17.91    17.31      17.58    16350400         17.58\n",
       "2016-04-18     17.71     17.72    17.06      17.31    17313300         17.31\n",
       "2016-04-19     17.37     17.39    16.68      16.92    24789800         16.92\n",
       "2016-04-20     16.94     17.52    16.90      17.40    17775000         17.40\n",
       "2016-04-21     17.48     17.77    17.42      17.51    13616700         17.51\n",
       "2016-04-22     17.33     17.51    17.02      17.23    14878000         17.23\n",
       "2016-04-25     17.20     17.75    16.88      17.09    18992700         17.09\n",
       "2016-04-26     17.21     17.98    17.08      17.75    44649400         17.75\n",
       "2016-04-27     15.15     15.28    14.81      14.86    84880300         14.86\n",
       "2016-04-28     14.85     15.09    14.62      14.64    34792400         14.64\n",
       "2016-04-29     14.70     14.93    14.32      14.62    26882400         14.62\n",
       "2016-05-02     14.73     14.77    14.17      14.40    26129200         14.40\n",
       "2016-05-03     14.22     14.25    13.90      14.01    26044600         14.01\n",
       "2016-05-04     13.95     14.88    13.92      14.84    41693300         14.84\n",
       "2016-05-05     14.93     14.98    14.08      14.12    29135600         14.12\n",
       "2016-05-06     14.12     14.40    13.98      14.40    21219400         14.40\n",
       "2016-05-09     14.28     14.47    14.15      14.20    11481000         14.20\n",
       "2016-05-10     14.17     14.69    14.16      14.63    14597200         14.63\n",
       "2016-05-11     14.61     14.86    14.44      14.59    13790200         14.59\n",
       "2016-05-12     14.63     14.68    14.00      14.08    19863300         14.08\n",
       "2016-05-13     14.06     14.28    14.00      14.10    12711600         14.10\n",
       "2016-05-16     14.09     14.37    14.06      14.29    11578600         14.29\n",
       "2016-05-17     14.21     14.59    14.13      14.34    15580900         14.34\n",
       "2016-05-18     14.35     14.57    14.05      14.14    14290100         14.14\n",
       "2016-05-19     14.15     14.31    14.04      14.15    15882200         14.15\n",
       "2016-05-20     14.20     14.51    14.16      14.43    18497400         14.43\n",
       "2016-05-23     14.40     14.60    14.33      14.41    12933400         14.41\n",
       "2016-05-24     14.22     14.22    13.73      14.03    36233900         14.03\n",
       "2016-05-25     14.07     14.57    14.06      14.41    23176700         14.41\n",
       "2016-05-26     14.45     14.48    14.19      14.30    21131600         14.30\n",
       "2016-05-27     14.25     15.10    14.23      15.10    28360000         15.10\n",
       "2016-05-31     15.12     15.49    15.08      15.22    24296600         15.22\n",
       "2016-06-01     15.22     15.22    14.62      15.02    18249900         15.02\n",
       "2016-06-02     15.04     15.26    14.85      15.20    13186100         15.20\n",
       "2016-06-03     15.11     15.35    14.96      15.20    15496600         15.20\n",
       "2016-06-06     15.22     15.45    15.18      15.27    13768500         15.27\n",
       "2016-06-07     15.36     15.37    14.91      15.00    16518000         15.00\n",
       "2016-06-08     15.07     15.12    14.81      14.95    12991000         14.95\n",
       "2016-06-09     14.84     14.86    14.59      14.60    12398100         14.60\n",
       "2016-06-10     14.45     14.45    14.00      14.02    22092800         14.02\n",
       "2016-06-13     14.63     15.30    14.51      14.55    43160900         14.55\n",
       "2016-06-14     14.82     15.42    14.80      15.36    37395700         15.36\n",
       "2016-06-15     15.71     16.44    15.71      15.96    53535200         15.96\n",
       "2016-06-16     15.90     15.95    15.40      15.87    23618700         15.87\n",
       "2016-06-17     16.16     16.37    15.96      16.10    32254100         16.10\n",
       "2016-06-20     16.34     16.64    16.15      16.34    22876100         16.34\n",
       "2016-06-21     16.48     16.56    16.17      16.32    15086500         16.32\n",
       "2016-06-22     16.27     16.32    16.05      16.13    13791500         16.13\n",
       "2016-06-23     16.30     17.07    16.28      17.04    25373100         17.04\n",
       "2016-06-24     16.24     16.90    16.20      16.44    31560100         16.44\n",
       "2016-06-27     16.29     16.40    15.46      15.84    23461800         15.84\n",
       "2016-06-28     16.24     16.64    16.16      16.42    18717300         16.42\n",
       "2016-06-29     16.60     17.01    16.43      16.83    18236000         16.83\n",
       "2016-06-30     16.80     17.00    16.73      16.91    14111000         16.91\n",
       "2016-07-01     16.93     17.50    16.90      17.28    20744500         17.28\n",
       "2016-07-05     17.25     17.28    16.76      17.14    15718000         17.14\n",
       "2016-07-06     17.02     17.34    16.81      17.20    15665700         17.20\n",
       "2016-07-07     17.24     17.68    17.24      17.37    13492900         17.37\n",
       "2016-07-08     17.53     18.16    17.47      18.08    24884000         18.08\n",
       "2016-07-11     17.59     17.88    17.52      17.71    24041900         17.71\n",
       "2016-07-12     17.98     18.38    17.92      18.10    23816200         18.10\n",
       "2016-07-13     18.21     18.32    17.50      17.74    17931900         17.74\n",
       "2016-07-14     18.02     18.28    17.91      17.96    19585300         17.96\n",
       "2016-07-15     17.98     18.18    17.81      18.08    17371200         18.08\n",
       "2016-07-18     18.29     18.75    18.05      18.65    29731200         18.65\n",
       "2016-07-19     18.51     18.90    18.27      18.33    27283400         18.33\n",
       "2016-07-20     18.52     18.76    18.45      18.56    15029200         18.56\n",
       "2016-07-21     18.57     18.80    18.35      18.39    13907800         18.39\n",
       "2016-07-22     18.12     18.39    17.76      18.37    19639500         18.37\n",
       "2016-07-25     18.43     18.70    18.17      18.65    21485300         18.65\n",
       "2016-07-26     18.52     18.65    18.16      18.45    44132800         18.45\n",
       "2016-07-27     16.34     16.59    15.69      15.77    83161900         15.77\n",
       "2016-07-28     15.89     16.34    15.88      16.31    31442400         16.31\n",
       "2016-07-29     16.39     16.74    16.24      16.64    26057200         16.64\n",
       "2016-08-01     16.65     16.85    16.40      16.64    26053200         16.64\n",
       "2016-08-02     16.61     16.70    16.20      16.42    16611300         16.42\n",
       "2016-08-03     16.34     17.88    16.33      17.61    55611400         17.61\n",
       "2016-08-04     17.57     18.31    17.36      18.13    33119100         18.13\n",
       "2016-08-05     18.19     18.58    18.14      18.26    22811700         18.26\n",
       "2016-08-08     18.25     18.48    17.93      18.20    15502800         18.20\n",
       "2016-08-09     18.17     18.79    17.97      18.68    19311400         18.68\n",
       "2016-08-10     18.67     19.57    18.56      19.04    28645000         19.04\n",
       "2016-08-11     19.17     19.83    19.11      19.78    30959500         19.78\n",
       "2016-08-12     19.71     19.71    19.01      19.54    28403200         19.54\n",
       "2016-08-15     19.85     21.10    19.83      20.86    58856800         20.86\n",
       "2016-08-16     20.78     20.79    20.29      20.40    23527700         20.40\n",
       "2016-08-17     20.43     20.44    19.90      20.17    22762800         20.17\n",
       "2016-08-18     19.56     19.60    18.92      19.00    47582500         19.00\n",
       "2016-08-19     18.96     19.31    18.76      18.98    17026100         18.98\n",
       "2016-08-22     18.95     18.96    18.52      18.55    17497600         18.55\n",
       "2016-08-23     18.65     18.93    18.65      18.69    14089300         18.69\n",
       "2016-08-24     18.80     18.97    18.20      18.25    16788800         18.25\n",
       "2016-08-25     18.33     18.65    18.23      18.32    13276500         18.32\n",
       "2016-08-26     18.40     18.53    18.10      18.30    11225900         18.30\n",
       "2016-08-29     18.39     18.55    18.30      18.47    11417400         18.47\n",
       "2016-08-30     18.59     18.69    18.32      18.38     8908400         18.38\n",
       "2016-08-31     18.39     19.60    18.38      19.21    34222600         19.21\n",
       "2016-09-01     19.37     20.14    19.27      19.50    39755900         19.50\n",
       "2016-09-02     19.62     19.87    19.35      19.55    19891600         19.55\n",
       "2016-09-06     19.74     20.14    19.48      19.93    24174800         19.93\n",
       "2016-09-07     20.05     20.65    19.80      19.87    26593100         19.87\n",
       "2016-09-08     18.81     19.31    18.59      18.70    45229500         18.70\n",
       "2016-09-09     18.40     18.82    17.92      18.11    30859200         18.11\n",
       "2016-09-12     17.96     18.24    17.68      18.15    18286500         18.15\n",
       "2016-09-13     17.99     18.10    17.52      17.76    15890000         17.76\n",
       "2016-09-14     17.93     18.39    17.90      18.08    16142100         18.08\n",
       "2016-09-15     18.30     18.42    18.06      18.30    14452700         18.30\n",
       "2016-09-16     18.90     19.25    18.74      19.11    40346700         19.11\n",
       "2016-09-19     19.22     19.24    18.28      18.36    23409700         18.36\n",
       "2016-09-20     18.30     18.64    18.23      18.39    15910300         18.39\n",
       "2016-09-21     18.44     18.50    18.13      18.49    16211500         18.49\n",
       "2016-09-22     18.52     18.92    18.44      18.63    16321100         18.63\n",
       "2016-09-23     21.50     22.89    21.11      22.62   192415300         22.62\n",
       "2016-09-26     21.79     23.57    21.65      23.37    95403500         23.37\n",
       "2016-09-27     23.21     23.98    22.90      23.72    65489500         23.72\n",
       "2016-09-28     23.42     23.63    22.44      22.96    44513700         22.96\n",
       "2016-09-29     22.92     23.36    22.86      23.01    26459800         23.01\n",
       "2016-09-30     23.02     23.25    22.82      23.05    17425200         23.05\n",
       "2016-10-03     23.78     24.25    23.46      24.00    37555700         24.00\n",
       "2016-10-04     23.75     23.79    23.34      23.52    22230700         23.52\n",
       "2016-10-05     24.32     25.25    24.13      24.87    63716800         24.87\n",
       "2016-10-06     20.46     21.00    19.60      19.87   109388200         19.87\n",
       "2016-10-07     19.95     20.53    19.65      19.85    38675700         19.85\n",
       "2016-10-10     17.49     18.24    16.93      17.56   105887300         17.56\n",
       "2016-10-11     18.18     18.20    17.65      18.00    49156900         18.00\n",
       "2016-10-12     18.19     18.19    17.81      18.05    23535100         18.05\n",
       "2016-10-13     17.86     17.99    17.67      17.79    18688300         17.79\n",
       "2016-10-14     17.88     18.05    16.28      16.88    73675300         16.88\n",
       "2016-10-17     16.76     16.98    16.43      16.73    25800600         16.73\n",
       "2016-10-18     16.86     17.13    16.79      16.83    18479800         16.83\n",
       "2016-10-19     16.94     17.26    16.88      17.07    17392400         17.07\n",
       "2016-10-20     17.04     17.07    16.82      16.90    15124000         16.90\n",
       "2016-10-21     16.95     18.35    16.74      18.09    58503900         18.09\n",
       "2016-10-24     17.60     18.37    17.49      18.03    41781100         18.03\n",
       "2016-10-25     17.82     17.84    17.15      17.26    32456200         17.26\n",
       "2016-10-26     17.58     17.66    17.17      17.29    35259300         17.29\n",
       "2016-10-27     17.29     18.12    17.07      17.40    63791900         17.40\n",
       "2016-10-28     17.70     18.00    17.50      17.66    29383300         17.66\n",
       "2016-10-31     17.65     18.04    17.64      17.95    19530500         17.95\n",
       "2016-11-01     17.84     18.00    17.26      17.49    22624800         17.49\n",
       "2016-11-02     17.43     17.95    17.38      17.61    20762800         17.61\n",
       "2016-11-03     17.55     17.86    17.26      17.58    17084600         17.58\n",
       "2016-11-04     17.52     18.34    17.50      18.02    30988700         18.02\n",
       "2016-11-07     18.11     18.69    18.11      18.41    26006200         18.41\n",
       "2016-11-08     18.22     18.56    17.77      18.38    19987500         18.38\n",
       "2016-11-09     17.96     19.24    17.91      19.13    34170200         19.13\n",
       "2016-11-10     19.04     19.30    18.03      18.37    31099100         18.37\n",
       "2016-11-11     18.35     18.73    18.07      18.55    15363800         18.55\n",
       "2016-11-14     18.75     19.20    18.50      19.14    23121300         19.14\n",
       "2016-11-15     19.15     19.51    18.91      18.98    19558000         18.98\n",
       "2016-11-16     18.98     19.15    18.59      18.63    14993300         18.63\n",
       "2016-11-17     18.70     18.96    18.53      18.55    16255700         18.55\n",
       "2016-11-18     18.73     18.91    18.64      18.73    12503200         18.73\n",
       "2016-11-21     18.72     18.91    18.59      18.60    13095600         18.60\n",
       "2016-11-22     18.66     18.87    18.51      18.63    10693400         18.63\n",
       "2016-11-23     18.45     18.59    18.08      18.22    16965900         18.22\n",
       "2016-11-25     18.27     18.31    18.03      18.06     7862700         18.06\n",
       "2016-11-28     18.00     18.30    17.85      18.30    19281800         18.30\n",
       "2016-11-29     18.22     18.68    18.13      18.19    13549100         18.19\n",
       "2016-11-30     18.20     18.80    18.18      18.49    20605400         18.49\n",
       "2016-12-01     18.82     18.83    17.74      18.03    19613000         18.03\n",
       "2016-12-02     18.00     18.16    17.86      17.93    12208700         17.93\n",
       "2016-12-05     17.96     18.36    17.87      18.23    12121700         18.23\n",
       "2016-12-06     18.31     18.50    18.13      18.23    14033000         18.23\n",
       "2016-12-07     18.26     19.55    18.20      19.48    32188600         19.48\n",
       "2016-12-08     19.50     19.71    19.08      19.64    19698300         19.64\n",
       "2016-12-09     19.56     19.84    19.38      19.65    15956100         19.65\n",
       "2016-12-12     19.48     19.70    18.90      18.93    15612400         18.93\n",
       "2016-12-13     18.97     19.59    18.94      19.37    15132200         19.37\n",
       "2016-12-14     19.40     19.62    18.89      18.93    13468900         18.93\n",
       "2016-12-15     18.94     19.15    18.71      18.79    11957900         18.79\n",
       "2016-12-16     18.76     18.89    18.53      18.63    14241700         18.63\n",
       "2016-12-19     18.60     18.70    18.22      18.24    12251100         18.24\n",
       "2016-12-20     18.23     18.32    17.87      17.92    16801700         17.92\n",
       "2016-12-21     17.52     17.55    17.01      17.08    34613900         17.08\n",
       "2016-12-22     16.82     16.89    16.27      16.41    27951800         16.41\n",
       "2016-12-23     16.34     16.67    16.16      16.50    17971900         16.50\n",
       "2016-12-27     16.52     16.87    16.42      16.61    13040500         16.61\n",
       "2016-12-28     16.63     16.73    16.29      16.39    13509200         16.39\n",
       "2016-12-29     16.39     16.65    16.30      16.39    14697900         16.39\n",
       "2016-12-30     16.31     16.57    16.22      16.30    14014500         16.30\n",
       "2017-01-03     16.31     16.45    16.21      16.44    11147900         16.44\n",
       "2017-01-04     16.50     16.94    16.50      16.86    15861300         16.86\n",
       "2017-01-05     16.91     17.27    16.80      17.09    17074400         17.09\n",
       "2017-01-06     17.24     17.43    17.11      17.17    14665100         17.17\n",
       "2017-01-09     17.22     17.56    17.19      17.50    11918100         17.50\n",
       "2017-01-10     17.51     17.78    17.32      17.37    10472800         17.37\n",
       "2017-01-11     17.46     17.60    17.17      17.30    10981500         17.30\n",
       "2017-01-12     17.13     17.39    16.96      17.38    12375600         17.38\n",
       "2017-01-13     17.38     17.66    17.23      17.25    11401400         17.25\n",
       "2017-01-17     17.07     17.09    16.86      16.96    13151100         16.96\n",
       "2017-01-18     17.01     17.14    16.83      17.11    12715300         17.11\n",
       "2017-01-19     17.09     17.15    16.75      16.79    12735500         16.79\n",
       "2017-01-20     16.82     16.90    16.46      16.58    14844700         16.58\n",
       "2017-01-23     16.57     16.81    16.46      16.61    11791500         16.61\n",
       "2017-01-24     16.61     16.66    16.33      16.52    12737200         16.52\n",
       "2017-01-25     16.70     16.79    16.59      16.73    10969300         16.73\n",
       "2017-01-26     16.86     17.07    16.79      16.81    10092900         16.81\n",
       "2017-01-27     16.91     16.97    16.53      16.57    11860600         16.57\n",
       "2017-01-30     16.57     17.10    16.41      16.94    18287900         16.94\n",
       "2017-01-31     16.95     17.74    16.91      17.62    25869200         17.62\n",
       "2017-02-01     17.84     17.92    17.10      17.24    21208100         17.24\n",
       "2017-02-02     17.33     17.86    17.12      17.78    19415600         17.78\n",
       "2017-02-03     17.72     17.85    17.44      17.61    14431300         17.61\n",
       "2017-02-06     17.70     17.97    17.41      17.93    13226700         17.93\n",
       "2017-02-07     18.00     18.67    17.99      18.26    26834800         18.26\n",
       "2017-02-08     18.77     18.77    18.05      18.72    37419100         18.72\n",
       "2017-02-09     18.72     18.72    16.26      16.41   109299300         16.41\n",
       "2017-02-10     15.96     16.00    15.50      15.58    73061200         15.58\n",
       "2017-02-13     15.63     15.99    15.51      15.81    29143700         15.81\n",
       "2017-02-14     15.92     16.60    15.85      16.52    35090700         16.52\n",
       "2017-02-15     16.85     16.89    16.30      16.74    35204800         16.74\n",
       "2017-02-16     16.69     16.79    16.32      16.35    21636200         16.35\n",
       "2017-02-17     16.36     16.63    16.36      16.62    14378200         16.62\n",
       "2017-02-21     16.64     16.69    16.30      16.42    16026800         16.42\n",
       "2017-02-22     16.40     16.51    16.01      16.08    13606200         16.08\n",
       "2017-02-23     16.12     16.27    15.90      16.03    15304500         16.03\n",
       "2017-02-24     15.95     15.99    15.85      15.98     9139800         15.98\n",
       "2017-02-27     15.93     16.13    15.72      16.06    13645500         16.06\n",
       "2017-02-28     16.00     16.04    15.74      15.77    10874200         15.77\n",
       "2017-03-01     15.87     15.90    15.59      15.79    18165300         15.79\n",
       "2017-03-02     15.77     16.00    15.72      15.79    12401100         15.79\n",
       "2017-03-03     15.84     16.10    15.68      15.75    15194500         15.75\n",
       "2017-03-06     15.75     15.78    15.50      15.56    11464000         15.56\n",
       "2017-03-07     15.52     15.73    15.16      15.18    16718600         15.18\n",
       "2017-03-08     15.19     15.36    15.08      15.24    12657100         15.24\n",
       "2017-03-09     15.24     15.39    15.03      15.22    10963500         15.22\n",
       "2017-03-10     15.23     15.27    14.94      15.12    13703000         15.12\n",
       "2017-03-13     15.10     15.27    15.10      15.21     8727500         15.21\n",
       "2017-03-14     15.20     15.58    15.15      15.32    15046500         15.32\n",
       "2017-03-15     15.25     15.30    14.85      15.03    19381800         15.03\n",
       "2017-03-16     15.08     15.28    15.04      15.19    11665900         15.19\n",
       "2017-03-17     15.20     15.23    15.03      15.08    10989800         15.08\n",
       "2017-03-20     15.11     15.11    14.82      15.09    12501900         15.09\n",
       "2017-03-21     15.08     15.10    14.50      14.54    19099000         14.54\n",
       "2017-03-22     14.50     14.99    14.32      14.98    21050300         14.98\n",
       "2017-03-23     14.99     15.05    14.73      14.93    11631900         14.93\n",
       "2017-03-24     15.06     15.37    15.03      15.14    15549200         15.14\n",
       "2017-03-27     15.02     15.06    14.75      14.99    10461300         14.99\n",
       "2017-03-28     15.00     15.17    14.80      14.94    14839700         14.94\n",
       "2017-03-29     14.86     15.06    14.70      15.04    11080000         15.04\n",
       "2017-03-30     15.05     15.08    14.90      14.92     8446400         14.92\n",
       "2017-03-31     14.93     15.06    14.91      14.95     8402600         14.95\n",
       "2017-04-03     14.97     14.98    14.65      14.84    11604900         14.84\n",
       "2017-04-04     14.75     14.76    14.58      14.69     8936100         14.69\n",
       "2017-04-05     14.61     14.82    14.41      14.53    13823700         14.53\n",
       "2017-04-06     14.53     14.62    14.30      14.39    18106700         14.39\n",
       "2017-04-07     14.36     14.43    14.25      14.29     8267400         14.29\n",
       "2017-04-10     14.30     14.46    14.20      14.36    10005900         14.36\n",
       "2017-04-11     14.30     14.40    14.20      14.31     7608800         14.31\n",
       "2017-04-12     14.34     14.78    14.26      14.42    12916400         14.42\n",
       "2017-04-13     14.49     14.50    14.22      14.30    10554100         14.30\n",
       "2017-04-17     14.30     14.55    14.12      14.40    10402700         14.40\n",
       "2017-04-18     14.37     14.56    14.27      14.44     9701900         14.44\n",
       "2017-04-19     14.44     14.79    14.44      14.54    14268100         14.54\n",
       "2017-04-20     14.58     14.75    14.51      14.65     9557300         14.65\n",
       "2017-04-21     14.65     14.75    14.41      14.63    13788600         14.63\n",
       "2017-04-24     14.70     14.82    14.56      14.71    12779200         14.71\n",
       "2017-04-25     14.71     14.96    14.63      14.66    20508000         14.66\n",
       "2017-04-26     15.90     16.48    15.76      15.82    79309100         15.82\n",
       "2017-04-27     15.80     16.63    15.80      16.61    41158100         16.61\n",
       "2017-04-28     16.50     16.79    16.43      16.48    26563900         16.48\n",
       "2017-05-01     17.14     17.65    16.97      17.54    47458300         17.54\n",
       "2017-05-02     17.57     18.53    17.35      18.24    64567800         18.24\n",
       "2017-05-03     18.37     18.60    18.15      18.57    29810300         18.57\n",
       "2017-05-04     18.60     18.89    18.36      18.48    24615100         18.48\n",
       "2017-05-05     18.45     18.73    18.37      18.69    15064300         18.69\n",
       "2017-05-08     18.68     18.68    18.16      18.31    18963300         18.31\n",
       "2017-05-09     18.31     18.49    18.20      18.37    12509700         18.37\n",
       "2017-05-10     18.37     18.56    18.25      18.54     9993900         18.54\n",
       "2017-05-11     18.63     18.75    18.31      18.39    12475400         18.39\n",
       "2017-05-12     18.45     19.05    18.34      18.61    22044000         18.61\n",
       "2017-05-15     18.69     19.32    18.63      19.23    22617500         19.23\n",
       "2017-05-16     19.38     19.79    19.09      19.49    35728100         19.49\n",
       "2017-05-17     18.99     19.25    18.22      18.28    30110500         18.28\n",
       "2017-05-18     18.17     18.61    17.97      18.51    19889000         18.51\n",
       "2017-05-19     18.68     18.90    18.27      18.35    16157800         18.35\n",
       "2017-05-22     18.35     18.52    18.27      18.43    11378300         18.43\n",
       "2017-05-23     18.41     18.51    17.98      18.15    16838500         18.15\n",
       "2017-05-24     18.10     18.34    17.83      17.98    15459900         17.98\n",
       "2017-05-25     18.04     18.27    17.94      17.95     9577600         17.95\n",
       "2017-05-26     17.99     18.30    17.95      18.23    10459400         18.23\n",
       "2017-05-30     18.21     18.72    18.18      18.43    18190700         18.43\n",
       "2017-05-31     18.48     18.60    18.08      18.32    17417200         18.32\n",
       "2017-06-01     18.22     18.66    18.20      18.53    13178600         18.53\n",
       "2017-06-02     18.53     18.58    18.22      18.31     9383100         18.31\n",
       "2017-06-05     18.29     18.34    18.02      18.23    10576500         18.23\n",
       "2017-06-06     18.10     18.15    17.47      17.57    22811800         17.57\n",
       "2017-06-07     17.62     17.75    17.30      17.44    15866200         17.44\n",
       "2017-06-08     17.44     17.61    17.27      17.59    10550500         17.59\n",
       "2017-06-09     17.65     17.66    16.45      16.90    21306200         16.90\n",
       "2017-06-12     16.73     17.04    16.27      17.04    20518300         17.04\n",
       "2017-06-13     17.12     17.22    16.76      16.97    13224900         16.97\n",
       "2017-06-14     17.05     17.13    16.57      16.76    12660500         16.76\n",
       "2017-06-15     16.53     16.89    16.46      16.83    11890500         16.83\n",
       "2017-06-16     16.75     16.81    16.55      16.67     9939400         16.67\n",
       "2017-06-19     16.77     17.08    16.75      17.06    11318900         17.06\n",
       "2017-06-20     17.15     17.15    16.84      16.91     8524600         16.91\n",
       "2017-06-21     17.11     18.04    17.11      17.78    23734800         17.78\n",
       "2017-06-22     17.85     18.38    17.66      18.15    20734500         18.15\n",
       "2017-06-23     18.15     18.63    18.15      18.50    24821400         18.50\n",
       "2017-06-26     18.55     19.01    18.11      18.29    17421400         18.29\n",
       "2017-06-27     18.43     18.60    18.12      18.12    14748900         18.12\n",
       "2017-06-28     18.22     18.24    17.75      17.95    17396100         17.95\n",
       "2017-06-29     17.93     17.94    17.23      17.65    18796500         17.65\n",
       "2017-06-30     17.66     18.08    17.47      17.87    13427000         17.87\n",
       "2017-07-03     17.94     18.01    17.41      17.65     9040400         17.65\n",
       "2017-07-05     17.68     17.96    17.42      17.82     8816000         17.82\n",
       "2017-07-06     17.65     18.58    17.63      17.92    18661100         17.92\n",
       "2017-07-07     18.00     18.34    17.97      18.02    13433900         18.02\n",
       "2017-07-10     18.05     18.15    17.77      18.08     8606700         18.08\n",
       "2017-07-11     18.14     18.66    18.10      18.64    18110900         18.64\n",
       "2017-07-12     18.92     19.54    18.91      19.25    30008100         19.25\n",
       "2017-07-13     19.54     19.67    19.08      19.32    17517400         19.32\n",
       "2017-07-14     19.35     19.97    19.33      19.64    20835500         19.64\n",
       "2017-07-17     19.80     20.24    19.73      19.94    24152800         19.94\n",
       "2017-07-18     19.76     19.99    19.41      19.98    15554500         19.98\n",
       "2017-07-19     20.03     20.21    19.83      20.12    13469800         20.12\n",
       "2017-07-20     20.18     20.88    20.18      20.53    24792700         20.53\n",
       "2017-07-21     20.35     20.36    20.00      20.11    15302900         20.11\n",
       "2017-07-24     20.28     20.62    19.82      20.00    17200900         20.00\n",
       "2017-07-25     19.98     20.18    19.69      19.97    13591600         19.97\n",
       "2017-07-26     20.00     20.02    19.27      19.61    24298900         19.61\n",
       "2017-07-27     17.36     17.60    16.50      16.84    86681700         16.84\n",
       "2017-07-28     16.66     17.20    16.52      16.75    26217600         16.75\n",
       "2017-07-31     16.60     16.62    16.00      16.09    35946100         16.09\n",
       "2017-08-01     16.20     16.32    15.91      16.21    21618200         16.21\n",
       "2017-08-02     16.21     16.29    15.95      16.07    13278700         16.07\n",
       "2017-08-03     16.07     16.42    16.05      16.18    15101600         16.18\n",
       "2017-08-04     16.20     16.43    16.13      16.29    15084800         16.29\n",
       "2017-08-07     16.38     16.42    16.24      16.40     9142300         16.40\n",
       "2017-08-08     16.33     16.48    16.05      16.15    12128300         16.15\n",
       "2017-08-09     16.04     16.16    15.96      16.14     7763700         16.14\n",
       "2017-08-10     16.03     16.18    15.73      15.75    11909200         15.75\n",
       "2017-08-11     15.67     16.06    15.67      15.92     8442500         15.92\n",
       "2017-08-14     16.15     16.28    16.01      16.09     9887000         16.09\n",
       "2017-08-15     16.12     16.22    15.93      15.95     5948100         15.95\n",
       "2017-08-16     15.97     16.36    15.96      16.16    15923100         16.16\n",
       "2017-08-17     16.15     16.29    15.86      15.87     9219000         15.87\n",
       "2017-08-18     15.85     16.07    15.77      15.99     7808400         15.99\n",
       "2017-08-21     16.00     16.25    15.93      16.11    12076600         16.11\n",
       "2017-08-22     16.14     16.65    16.14      16.63    11051600         16.63\n",
       "2017-08-23     16.46     17.05    16.44      16.96    15184700         16.96\n",
       "2017-08-24     17.07     17.07    16.78      16.89    10386600         16.89\n",
       "2017-08-25     16.65     16.82    16.51      16.65    11496800         16.65\n",
       "2017-08-28     16.61     16.88    16.61      16.77     7778800         16.77\n",
       "2017-08-29     16.61     17.06    16.60      16.93    11444400         16.93\n",
       "2017-08-30     16.92     17.04    16.80      16.93     6624600         16.93\n",
       "2017-08-31     16.99     17.10    16.88      16.91     7860200         16.91\n",
       "2017-09-01     16.97     17.00    16.58      16.86     8515200         16.86\n",
       "2017-09-05     16.82     16.90    16.44      16.65    10503800         16.65\n",
       "2017-09-06     16.65     17.05    16.52      16.83    12335500         16.83\n",
       "2017-09-07     16.85     17.41    16.83      17.22    14659900         17.22\n",
       "2017-09-08     17.19     17.46    17.08      17.45    11608200         17.45\n",
       "2017-09-11     17.47     17.78    17.27      17.66    14002000         17.66\n",
       "2017-09-12     17.70     18.29    17.70      18.17    19795400         18.17\n",
       "2017-09-13     18.15     18.49    18.09      18.20    13710700         18.20\n",
       "2017-09-14     18.15     18.27    17.94      18.21     9304100         18.21\n",
       "2017-09-15     18.25     18.40    17.95      18.01    12649400         18.01\n",
       "2017-09-18     18.01     18.09    17.47      17.60    14710700         17.60\n",
       "2017-09-19     17.66     17.80    17.48      17.76     7090700         17.76\n",
       "2017-09-20     17.80     17.84    17.51      17.62     7724700         17.62\n",
       "2017-09-21     17.60     17.65    17.35      17.58     6952100         17.58\n",
       "2017-09-22     17.49     17.63    17.42      17.61     5551500         17.61\n",
       "2017-09-25     17.60     17.72    16.82      16.98    13251700         16.98\n",
       "2017-09-26     17.03     17.16    16.57      16.59    12933200         16.59\n",
       "2017-09-27     16.90     17.05    16.76      16.95     9071300         16.95\n",
       "2017-09-28     16.87     16.93    16.75      16.85     7037200         16.85\n",
       "2017-09-29     16.89     17.04    16.75      16.87     9384600         16.87\n",
       "2017-10-02     16.80     17.15    16.78      17.09     8460300         17.09\n",
       "2017-10-03     17.13     17.63    17.12      17.59    13043700         17.59\n",
       "2017-10-04     17.82     17.82    17.50      17.75    17353800         17.75\n",
       "2017-10-05     17.80     18.29    17.74      18.25    21249600         18.25\n",
       "2017-10-06     18.03     18.13    17.66      17.85    16419000         17.85\n",
       "2017-10-09     17.82     18.05    17.65      17.67     8814400         17.67\n",
       "2017-10-10     17.77     17.93    17.39      17.41    10186100         17.41\n",
       "2017-10-11     17.47     17.78    17.43      17.73     9990900         17.73\n",
       "2017-10-12     17.77     18.66    17.73      18.45    30723700         18.45\n",
       "2017-10-13     18.45     18.79    18.35      18.63    15809900         18.63\n",
       "2017-10-16     18.59     18.61    18.23      18.33    13009300         18.33\n",
       "2017-10-17     18.31     18.47    18.11      18.28     8935400         18.28\n",
       "2017-10-18     18.23     18.35    17.97      18.02     7772000         18.02\n",
       "2017-10-19     17.84     17.95    17.65      17.89     9281300         17.89\n",
       "2017-10-20     17.98     18.06    17.83      17.87     7257700         17.87\n",
       "2017-10-23     17.94     17.95    17.34      17.37    14017700         17.37\n",
       "2017-10-24     17.50     17.60    17.23      17.25    12550400         17.25\n",
       "2017-10-25     17.20     17.41    17.03      17.14    19766500         17.14\n",
       "2017-10-26     19.22     20.63    18.90      20.31   112277600         20.31\n",
       "2017-10-27     20.18     21.96    20.15      21.68    63611100         21.68\n",
       "2017-10-30     21.40     21.78    21.06      21.25    34019400         21.25\n",
       "2017-10-31     21.26     21.56    20.46      20.62    28049200         20.62\n",
       "2017-11-01     20.74     20.99    20.40      20.61    18828800         20.61\n",
       "2017-11-02     20.50     20.63    19.64      19.71    24475100         19.71\n",
       "2017-11-03     19.87     20.24    19.52      19.90    22259600         19.90\n",
       "2017-11-06     19.78     19.85    19.26      19.39    25599300         19.39\n",
       "2017-11-07     19.55     20.18    19.51      19.66    22238300         19.66\n",
       "2017-11-08     19.70     19.98    19.37      19.59    16291300         19.59\n",
       "2017-11-09     19.40     20.24    19.36      19.90    20271000         19.90\n",
       "2017-11-10     19.79     20.58    19.74      20.32    16293300         20.32\n",
       "2017-11-13     20.16     20.31    19.93      20.17    11804900         20.17\n",
       "2017-11-14     20.17     20.45    19.88      20.05    11920100         20.05\n",
       "2017-11-15     19.82     20.33    19.73      19.91    11191100         19.91\n",
       "2017-11-16     20.06     20.49    19.99      20.36    12967800         20.36\n",
       "2017-11-17     20.26     20.79    20.25      20.76    12847000         20.76\n",
       "2017-11-20     20.78     21.26    20.70      21.13    16819900         21.13\n",
       "2017-11-21     21.20     21.91    21.15      21.88    18339800         21.88\n",
       "2017-11-22     21.90     22.40    21.80      22.27    21161800         22.27\n",
       "2017-11-24     22.40     22.48    22.17      22.42     7584000         22.42\n",
       "2017-11-27     22.36     22.40    21.70      21.82    19671400         21.82\n",
       "2017-11-28     21.85     22.15    21.56      21.83    13845600         21.83\n",
       "2017-11-29     21.82     22.11    20.52      20.79    23684000         20.79\n",
       "2017-11-30     21.01     21.12    20.51      20.58    15823200         20.58\n",
       "2017-12-01     20.52     20.98    20.12      20.71    15270800         20.71\n",
       "2017-12-04     20.85     20.94    20.23      20.40    11639800         20.40\n",
       "2017-12-05     20.30     20.93    20.30      20.77    10645300         20.77\n",
       "2017-12-06     20.52     21.40    20.40      21.09    14023500         21.09\n",
       "2017-12-07     21.06     21.45    20.97      21.01    11856400         21.01\n",
       "2017-12-08     21.15     21.40    20.95      21.10    14870500         21.10\n",
       "2017-12-11     21.10     22.20    21.10      22.05    17244400         22.05\n",
       "2017-12-12     21.77     22.25    21.63      21.65    14296800         21.65\n",
       "2017-12-13     21.77     21.98    21.52      21.66    17283600         21.66\n",
       "2017-12-14     21.79     23.24    21.62      22.58    34074300         22.58\n",
       "2017-12-15     22.61     22.86    22.19      22.23    17957600         22.23\n",
       "2017-12-18     23.23     24.74    23.13      24.68    48965900         24.68\n",
       "2017-12-19     24.61     25.49    23.92      25.08    46040800         25.08\n",
       "2017-12-20     25.44     25.44    24.69      25.20    20687700         25.20\n",
       "2017-12-21     25.06     25.56    24.70      25.05    19597700         25.05\n",
       "2017-12-22     25.03     25.27    24.38      24.46    16112900         24.46\n",
       "2017-12-26     24.26     24.57    24.13      24.26    10123100         24.26\n",
       "2017-12-27     24.26     24.54    24.07      24.23     9118100         24.23\n",
       "2017-12-28     24.25     24.60    24.17      24.31     9774700         24.31\n",
       "2017-12-29     24.27     24.33    23.91      24.01    10393700         24.01\n",
       "2018-01-02     24.07     24.57    23.85      24.51    15297200         24.51\n",
       "2018-01-03     24.56     24.68    24.07      24.45    12832600         24.45\n",
       "2018-01-04     24.50     24.59    23.69      23.99    17653500         23.99\n",
       "2018-01-05     24.07     24.57    23.88      24.32    14953200         24.32\n",
       "2018-01-08     24.37     24.78    23.88      24.59    17831300         24.59\n",
       "2018-01-09     24.63     24.71    24.07      24.17    12587100         24.17\n",
       "2018-01-10     24.00     24.42    23.76      24.25    10420700         24.25\n",
       "2018-01-11     24.30     24.37    23.90      24.35    11670400         24.35\n",
       "2018-01-12     24.94     25.85    24.93      25.41    37046100         25.41\n",
       "2018-01-16     25.58     25.71    24.51      24.66    32340700         24.66\n",
       "2018-01-17     24.84     24.95    24.22      24.56    17026700         24.56\n",
       "2018-01-18     24.50     24.52    23.72      24.04    21118500         24.04\n",
       "2018-01-19     24.12     24.22    23.50      23.66    17529700         23.66\n",
       "2018-01-22     23.17     23.50    22.86      23.32    23010600         23.32\n",
       "2018-01-23     22.51     23.17    22.41      22.75    35321200         22.75\n",
       "2018-01-24     22.84     23.05    22.10      22.37    23186500         22.37\n",
       "2018-01-25     22.50     22.68    22.04      22.16    15501700         22.16\n",
       "2018-01-26     22.39     24.35    22.30      24.27    49683900         24.27\n",
       "2018-01-29     24.40     25.55    24.10      25.18    52739600         25.18\n",
       "2018-01-30     24.83     26.40    24.55      25.62    52388100         25.62\n",
       "2018-01-31     25.61     26.65    25.14      25.81    40451900         25.81\n",
       "2018-02-01     25.52     27.33    25.44      27.14    47582600         27.14\n",
       "2018-02-02     26.56     27.03    25.70      25.92    32492100         25.92\n",
       "2018-02-05     25.37     26.64    24.10      25.13    33918400         25.13\n",
       "2018-02-06     24.59     25.58    24.20      25.24    26646500         25.24\n",
       "2018-02-07     25.83     27.08    25.76      26.91    48909300         26.91\n",
       "2018-02-08     34.15     35.00    29.71      30.18   162434400         30.18\n",
       "2018-02-09     30.37     31.81    29.68      31.51    67181200         31.51\n",
       "2018-02-12     31.44     31.90    30.86      30.95    37001000         30.95\n",
       "2018-02-13     30.67     33.65    30.64      33.44    57653000         33.44\n",
       "2018-02-14     32.85     33.98    32.55      33.75    39339200         33.75\n",
       "2018-02-15     34.03     34.38    33.06      33.61    32020500         33.61\n",
       "2018-02-16     33.37     33.50    32.68      33.06    27627000         33.06\n",
       "2018-02-20     32.88     33.57    32.68      32.84    22766700         32.84\n",
       "2018-02-21     33.03     34.06    32.65      33.38    29589300         33.38\n",
       "2018-02-22     33.43     33.45    31.63      32.11    29184100         32.11\n",
       "2018-02-23     32.20     32.69    31.97      32.66    17283400         32.66\n",
       "2018-02-26     32.70     32.70    31.96      32.16    15766300         32.16\n",
       "2018-02-27     31.91     32.21    31.26      31.32    16544000         31.32\n",
       "2018-02-28     31.50     32.85    31.47      31.86    24180100         31.86\n",
       "2018-03-01     31.95     32.56    31.26      32.24    25032500         32.24\n",
       "2018-03-02     31.93     33.03    31.49      33.00    24918900         33.00\n",
       "2018-03-05     32.90     34.95    32.58      34.58    34840000         34.58\n",
       "2018-03-06     34.58     34.95    33.86      34.43    22641000         34.43\n",
       "2018-03-07     33.99     35.82    33.99      35.76    33656100         35.76\n",
       "2018-03-08     35.42     35.84    34.68      34.85    24845300         34.85\n",
       "2018-03-09     35.20     35.50    34.94      35.35    19119500         35.35\n",
       "2018-03-12     35.53     35.73    34.83      35.50    21078900         35.50\n",
       "2018-03-13     35.40     35.53    33.90      34.11    22096900         34.11\n",
       "2018-03-14     34.30     36.80    34.09      36.60    41632800         36.60\n",
       "2018-03-15     36.41     36.48    35.40      35.80    20921800         35.80\n",
       "2018-03-16     36.00     36.20    35.52      35.58    13833800         35.58\n",
       "2018-03-19     35.13     35.74    34.41      34.98    22194800         34.98\n",
       "2018-03-20     34.92     34.95    30.61      31.35    82937600         31.35\n",
       "2018-03-21     32.19     33.15    32.05      32.73    43672100         32.73\n",
       "2018-03-22     31.77     32.13    31.18      31.20    29561900         31.20\n",
       "2018-03-23     31.26     32.00    30.79      31.03    24878100         31.03\n",
       "2018-03-26     31.69     32.47    30.70      31.91    25546300         31.91\n",
       "2018-03-27     31.85     31.90    27.88      28.07    80415500         28.07\n",
       "2018-03-28     27.78     29.11    27.39      28.45    47853600         28.45\n",
       "2018-03-29     28.76     29.33    27.90      29.01    36828400         29.01\n",
       "2018-04-02     28.37     28.77    27.75      28.04    24353100         28.04\n",
       "2018-04-03     28.36     28.87    27.22      27.54    26071700         27.54\n",
       "2018-04-04     26.85     28.34    26.60      28.25    22002000         28.25\n",
       "2018-04-05     28.51     29.33    28.10      28.64    24407300         28.64\n",
       "2018-04-06     28.28     29.06    27.97      28.10    15318000         28.10\n",
       "2018-04-09     28.10     28.79    28.00      28.01    13973200         28.01\n",
       "2018-04-10     28.36     30.30    28.28      29.53    28667400         29.53\n",
       "2018-04-11     29.46     29.83    28.73      29.39    25287900         29.39\n",
       "2018-04-12     29.89     29.90    28.78      29.00    17327000         29.00\n",
       "2018-04-13     29.24     29.46    28.43      28.76    12712600         28.76\n",
       "2018-04-16     28.85     28.95    28.36      28.58    11505300         28.58\n",
       "2018-04-17     29.45     32.06    29.43      31.84    46696000         31.84\n",
       "2018-04-18     31.67     32.06    31.07      31.54    25140000         31.54\n",
       "2018-04-19     31.37     32.28    30.96      31.54    22640100         31.54\n",
       "2018-04-20     32.65     33.12    31.65      31.91    34819700         31.91\n",
       "2018-04-23     32.51     32.62    30.85      31.22    29411000         31.22\n",
       "2018-04-24     31.18     31.64    29.63      30.47    41265300         30.47\n",
       "2018-04-25     31.35     32.00    28.14      29.75    93090400         29.75\n",
       "2018-04-26     30.35     31.42    30.12      30.27    43784200         30.27\n",
       "2018-04-27     30.17     30.32    28.59      29.00    37420100         29.00\n",
       "2018-04-30     28.62     30.75    28.43      30.31    41760200         30.31\n",
       "2018-05-01     30.21     31.06    29.60      30.30    30679200         30.30\n",
       "2018-05-02     30.00     31.22    29.95      30.55    22481700         30.55\n",
       "2018-05-03     30.21     31.02    29.97      30.67    19813500         30.67\n",
       "2018-05-04     30.22     31.36    29.85      31.04    21035200         31.04\n",
       "2018-05-07     31.06     31.84    30.88      31.33    18517500         31.33\n",
       "2018-05-08     31.20     32.09    31.03      31.85    19581200         31.85\n",
       "2018-05-09     32.07     32.79    31.94      32.46    20726500         32.46\n",
       "2018-05-10     32.71     33.78    32.58      32.87    20723500         32.87\n",
       "2018-05-11     32.94     33.10    32.25      32.75    14482600         32.75\n",
       "2018-05-14     33.07     33.58    32.93      33.39    18007000         33.39\n",
       "2018-05-15     33.17     33.17    32.36      32.75    15840800         32.75\n",
       "2018-05-16     32.75     33.22    32.67      32.77    10868700         32.77\n",
       "2018-05-17     32.78     33.02    32.28      32.58    10760200         32.58\n",
       "2018-05-18     32.55     32.97    32.21      32.63    10618900         32.63\n",
       "2018-05-21     33.02     34.03    32.90      33.63    21328400         33.63\n",
       "2018-05-22     33.78     33.81    32.83      32.86    15003200         32.86\n",
       "2018-05-23     32.70     33.43    32.60      33.42    13442700         33.42\n",
       "2018-05-24     33.44     33.76    33.12      33.52    14491900         33.52\n",
       "2018-05-25     33.54     33.99    33.31      33.63    10424400         33.63\n",
       "2018-05-29     33.42     34.83    33.35      34.04    22086700         34.04\n",
       "2018-05-30     34.20     34.66    34.08      34.36    14588200         34.36\n",
       "2018-05-31     34.39     34.97    34.25      34.70    14433200         34.70\n",
       "2018-06-01     35.14     36.69    35.09      36.65    29583100         36.65\n",
       "2018-06-04     36.45     37.98    35.95      37.88    32632800         37.88\n",
       "2018-06-05     39.53     40.16    39.19      39.80    66122200         39.80\n",
       "2018-06-06     39.42     40.23    39.21      40.10   147805700         40.10\n",
       "2018-06-07     40.14     40.16    38.64      39.70    41573400         39.70\n",
       "2018-06-08     39.49     41.26    39.42      41.21    34538900         41.21\n",
       "2018-06-11     41.42     41.69    40.66      41.42    24605300         41.42\n",
       "2018-06-12     42.47     44.33    42.41      43.49    51155000         43.49\n",
       "2018-06-13     44.24     44.55    43.42      44.07    35169200         44.07\n",
       "2018-06-14     44.55     46.80    44.50      46.76    50949100         46.76\n",
       "2018-06-15     46.62     47.79    45.64      45.80    51489600         45.80\n",
       "2018-06-18     45.34     46.26    44.50      46.00    26025600         46.00\n",
       "2018-06-19     45.19     45.71    43.57      44.95    39252000         44.95\n",
       "2018-06-20     45.56     46.92    45.44      46.13    31230200         46.13\n",
       "2018-06-21     46.36     46.87    44.20      45.24    32200300         45.24\n",
       "2018-06-22     45.58     46.01    44.50      45.88    28628900         45.88\n",
       "2018-06-25     45.47     45.52    43.33      44.17    31379300         44.17\n",
       "2018-06-26     44.36     45.32    43.51      44.84    20194100         44.84\n",
       "2018-06-27     45.50     46.22    43.68      43.70    25875500         43.70\n",
       "2018-06-28     43.65     44.84    42.49      44.79    18911200         44.79\n",
       "2018-06-29     45.05     45.20    43.56      43.67    24392900         43.67\n",
       "2018-07-02     43.06     45.00    42.75      44.98    16703600         44.98\n",
       "2018-07-03     45.36     45.48    43.80      43.89    14237500         43.89\n",
       "2018-07-05     44.07     45.11    43.55      45.06    16172000         45.06\n",
       "2018-07-06     44.91     46.75    44.61      46.65    23740700         46.65\n",
       "2018-07-09     46.74     46.90    42.08      44.14   107582400         44.14\n",
       "2018-07-10     44.20     45.26    43.63      43.75    38467400         43.75\n",
       "2018-07-11     42.63     44.10    42.22      43.87    35100100         43.87\n",
       "2018-07-12     44.80     45.34    44.36      45.26    27078500         45.26\n",
       "2018-07-13     45.28     45.32    43.93      44.49    16426700         44.49\n",
       "2018-07-16     44.30     44.73    43.91      44.26    13012800         44.26\n",
       "2018-07-17     43.59     45.26    43.15      44.71    20122300         44.71\n",
       "2018-07-18     44.19     44.75    42.74      43.34    26536800         43.34\n",
       "2018-07-19     43.27     43.87    43.11      43.44    13366800         43.44\n",
       "2018-07-20     43.50     44.13    43.23      43.42    10437700         43.42\n",
       "2018-07-23     43.45     43.85    42.40      43.31    15251200         43.31\n",
       "2018-07-24     43.77     43.80    41.59      42.17    22433900         42.17\n",
       "2018-07-25     42.35     44.39    42.35      44.22    25140700         44.22\n",
       "2018-07-26     42.87     43.41    42.14      42.94    30018700         42.94\n",
       "2018-07-27     37.25     37.47    33.90      34.12   122752800         34.12\n",
       "2018-07-30     34.17     34.26    31.07      31.38    77852400         31.38\n",
       "2018-07-31     31.95     32.48    31.07      31.87    64392200         31.87\n",
       "2018-08-01     32.25     32.59    31.46      31.91    33231700         31.91\n",
       "2018-08-02     31.58     32.87    31.34      32.82    27088000         32.82\n",
       "2018-08-03     32.58     32.99    31.80      31.96    26317000         31.96\n",
       "2018-08-06     31.82     33.04    31.45      32.98    27512400         32.98\n",
       "2018-08-07     33.10     33.61    32.55      32.67    24635600         32.67\n",
       "2018-08-08     32.75     32.78    31.81      31.84    22539400         31.84\n",
       "2018-08-09     31.85     32.38    31.61      31.96    17662100         31.96\n",
       "2018-08-10     31.65     32.25    31.47      32.01    16073900         32.01\n",
       "2018-08-13     32.04     33.62    32.02      32.80    44235300         32.80\n",
       "2018-08-14     33.40     33.43    32.52      33.19    26442600         33.19\n",
       "2018-08-15     32.81     33.23    31.95      32.38    26433400         32.38\n",
       "2018-08-16     32.70     33.15    32.42      32.83    20873200         32.83\n",
       "2018-08-17     32.74     33.09    32.34      32.73    14874600         32.73\n",
       "2018-08-20     32.79     32.94    32.20      32.60    16535700         32.60\n",
       "2018-08-21     32.75     34.14    32.60      33.69    29575700         33.69\n",
       "2018-08-22     33.45     34.17    33.35      33.81    18576300         33.81\n",
       "2018-08-23     33.90     34.74    33.72      33.88    25746300         33.88\n",
       "2018-08-24     34.00     34.49    33.93      34.28    15214000         34.28\n",
       "2018-08-27     34.66     36.00    34.48      35.89    28306300         35.89\n",
       "2018-08-28     35.98     36.04    34.89      35.49    22281600         35.49\n",
       "2018-08-29     35.41     35.60    34.81      35.35    17697200         35.35\n",
       "2018-08-30     35.27     36.15    35.21      35.64    19217200         35.64"
      ]
     },
     "metadata": {},
     "output_type": "display_data"
    }
   ],
   "source": [
    "TWTR"
   ]
  },
  {
   "cell_type": "code",
   "execution_count": 46,
   "metadata": {
    "scrolled": false
   },
   "outputs": [
    {
     "data": {
      "image/png": "[encoded data removed]",
      "text/plain": [
       "plot without title"
      ]
     },
     "metadata": {},
     "output_type": "display_data"
    }
   ],
   "source": [
    "par(mfrow=c(2,1))\n",
    "plot(FB$FB.Adjusted, xlab='Time(Daily)', ylab='Adjusted price', main='Facebook')\n",
    "plot(TWTR$TWTR.Adjusted, xlab='Time(Daily)', ylab='Adjusted price', main='Twitter')"
   ]
  },
  {
   "cell_type": "code",
   "execution_count": 47,
   "metadata": {},
   "outputs": [
    {
     "data": {
      "text/html": [
       "<ol class=list-inline>\n",
       "\t<li>'xts'</li>\n",
       "\t<li>'zoo'</li>\n",
       "</ol>\n"
      ],
      "text/latex": [
       "\\begin{enumerate*}\n",
       "\\item 'xts'\n",
       "\\item 'zoo'\n",
       "\\end{enumerate*}\n"
      ],
      "text/markdown": [
       "1. 'xts'\n",
       "2. 'zoo'\n",
       "\n",
       "\n"
      ],
      "text/plain": [
       "[1] \"xts\" \"zoo\""
      ]
     },
     "metadata": {},
     "output_type": "display_data"
    },
    {
     "data": {
      "text/html": [
       "<ol class=list-inline>\n",
       "\t<li>'xts'</li>\n",
       "\t<li>'zoo'</li>\n",
       "</ol>\n"
      ],
      "text/latex": [
       "\\begin{enumerate*}\n",
       "\\item 'xts'\n",
       "\\item 'zoo'\n",
       "\\end{enumerate*}\n"
      ],
      "text/markdown": [
       "1. 'xts'\n",
       "2. 'zoo'\n",
       "\n",
       "\n"
      ],
      "text/plain": [
       "[1] \"xts\" \"zoo\""
      ]
     },
     "metadata": {},
     "output_type": "display_data"
    }
   ],
   "source": [
    "class(FB)\n",
    "class(TWTR)"
   ]
  },
  {
   "cell_type": "code",
   "execution_count": 56,
   "metadata": {},
   "outputs": [
    {
     "name": "stderr",
     "output_type": "stream",
     "text": [
      "ERROR while rich displaying an object: Error in repr_matrix_generic(obj, \"\\n%s%s\\n\", sprintf(\"|%%s\\n|%s|\\n\", : formal argument \"cols\" matched by multiple actual arguments\n",
      "\n",
      "Traceback:\n",
      "1. FUN(X[[i]], ...)\n",
      "2. tryCatch(withCallingHandlers({\n",
      " .     if (!mime %in% names(repr::mime2repr)) \n",
      " .         stop(\"No repr_* for mimetype \", mime, \" in repr::mime2repr\")\n",
      " .     rpr <- repr::mime2repr[[mime]](obj)\n",
      " .     if (is.null(rpr)) \n",
      " .         return(NULL)\n",
      " .     prepare_content(is.raw(rpr), rpr)\n",
      " . }, error = error_handler), error = outer_handler)\n",
      "3. tryCatchList(expr, classes, parentenv, handlers)\n",
      "4. tryCatchOne(expr, names, parentenv, handlers[[1L]])\n",
      "5. doTryCatch(return(expr), name, parentenv, handler)\n",
      "6. withCallingHandlers({\n",
      " .     if (!mime %in% names(repr::mime2repr)) \n",
      " .         stop(\"No repr_* for mimetype \", mime, \" in repr::mime2repr\")\n",
      " .     rpr <- repr::mime2repr[[mime]](obj)\n",
      " .     if (is.null(rpr)) \n",
      " .         return(NULL)\n",
      " .     prepare_content(is.raw(rpr), rpr)\n",
      " . }, error = error_handler)\n",
      "7. repr::mime2repr[[mime]](obj)\n",
      "8. repr_markdown.ts(obj)\n",
      "9. repr_ts_generic(obj, repr_markdown.matrix, ...)\n",
      "10. repr_func(m, ..., rows = nrow(m), cols = ncol(m))\n"
     ]
    },
    {
     "data": {
      "text/html": [
       "<table>\n",
       "<thead><tr><th></th><th scope=col>Qtr1</th><th scope=col>Qtr2</th><th scope=col>Qtr3</th><th scope=col>Qtr4</th></tr></thead>\n",
       "<tbody>\n",
       "\t<tr><th scope=row>1949</th><td> 362</td><td> 385</td><td> 432</td><td> 341</td></tr>\n",
       "\t<tr><th scope=row>1950</th><td> 382</td><td> 409</td><td> 498</td><td> 387</td></tr>\n",
       "\t<tr><th scope=row>1951</th><td> 473</td><td> 513</td><td> 582</td><td> 474</td></tr>\n",
       "\t<tr><th scope=row>1952</th><td> 544</td><td> 582</td><td> 681</td><td> 557</td></tr>\n",
       "\t<tr><th scope=row>1953</th><td> 628</td><td> 707</td><td> 773</td><td> 592</td></tr>\n",
       "\t<tr><th scope=row>1954</th><td> 627</td><td> 725</td><td> 854</td><td> 661</td></tr>\n",
       "\t<tr><th scope=row>1955</th><td> 742</td><td> 854</td><td>1023</td><td> 789</td></tr>\n",
       "\t<tr><th scope=row>1956</th><td> 878</td><td>1005</td><td>1173</td><td> 883</td></tr>\n",
       "\t<tr><th scope=row>1957</th><td> 972</td><td>1125</td><td>1336</td><td> 988</td></tr>\n",
       "\t<tr><th scope=row>1958</th><td>1020</td><td>1146</td><td>1400</td><td>1006</td></tr>\n",
       "\t<tr><th scope=row>1959</th><td>1108</td><td>1288</td><td>1570</td><td>1174</td></tr>\n",
       "\t<tr><th scope=row>1960</th><td>1227</td><td>1468</td><td>1736</td><td>1283</td></tr>\n",
       "</tbody>\n",
       "</table>\n"
      ],
      "text/latex": [
       "\\begin{tabular}{r|llll}\n",
       "  & Qtr1 & Qtr2 & Qtr3 & Qtr4\\\\\n",
       "\\hline\n",
       "\t1949 &  362 &  385 &  432 &  341\\\\\n",
       "\t1950 &  382 &  409 &  498 &  387\\\\\n",
       "\t1951 &  473 &  513 &  582 &  474\\\\\n",
       "\t1952 &  544 &  582 &  681 &  557\\\\\n",
       "\t1953 &  628 &  707 &  773 &  592\\\\\n",
       "\t1954 &  627 &  725 &  854 &  661\\\\\n",
       "\t1955 &  742 &  854 & 1023 &  789\\\\\n",
       "\t1956 &  878 & 1005 & 1173 &  883\\\\\n",
       "\t1957 &  972 & 1125 & 1336 &  988\\\\\n",
       "\t1958 & 1020 & 1146 & 1400 & 1006\\\\\n",
       "\t1959 & 1108 & 1288 & 1570 & 1174\\\\\n",
       "\t1960 & 1227 & 1468 & 1736 & 1283\\\\\n",
       "\\end{tabular}\n"
      ],
      "text/plain": [
       "     Qtr1 Qtr2 Qtr3 Qtr4\n",
       "1949  362  385  432  341\n",
       "1950  382  409  498  387\n",
       "1951  473  513  582  474\n",
       "1952  544  582  681  557\n",
       "1953  628  707  773  592\n",
       "1954  627  725  854  661\n",
       "1955  742  854 1023  789\n",
       "1956  878 1005 1173  883\n",
       "1957  972 1125 1336  988\n",
       "1958 1020 1146 1400 1006\n",
       "1959 1108 1288 1570 1174\n",
       "1960 1227 1468 1736 1283"
      ]
     },
     "metadata": {},
     "output_type": "display_data"
    }
   ],
   "source": [
    "# 분기별 자료로 집계 ( function = 합계 사용)\n",
    "air_quarterly<-aggregate(AirPassengers, nfrequency = 4, FUN=sum)\n",
    "air_quarterly"
   ]
  },
  {
   "cell_type": "code",
   "execution_count": 59,
   "metadata": {},
   "outputs": [
    {
     "data": {
      "image/png": "[encoded data removed]",
      "text/plain": [
       "Plot with title \"Airline Passengers(quarterly)\""
      ]
     },
     "metadata": {},
     "output_type": "display_data"
    }
   ],
   "source": [
    "par(mfrow=c(2,1))\n",
    "plot(AirPassengers, xlab='Time(monthly)', ylab='num of passengers', main='Airline Passengers(monthly)')\n",
    "plot(air_quarterly, xlab='Time(quarterly)', ylab='num of passengers', main='Airline Passengers(quarterly)')"
   ]
  },
  {
   "cell_type": "markdown",
   "metadata": {},
   "source": [
    "#  aggregate함수로 집계하기\n",
    "\n",
    "- aggregate(ts_data, nfrequency=12, FUN=mean)\n",
    "    * nfrequency = 1(연도), 4(분기), 12(월별)\n",
    "    * FUN = 어떻게 집계할지 함수(eg. mean, sum 등등)"
   ]
  },
  {
   "cell_type": "code",
   "execution_count": 60,
   "metadata": {},
   "outputs": [
    {
     "name": "stderr",
     "output_type": "stream",
     "text": [
      "ERROR while rich displaying an object: Error in repr_matrix_generic(obj, \"\\n%s%s\\n\", sprintf(\"|%%s\\n|%s|\\n\", : formal argument \"cols\" matched by multiple actual arguments\n",
      "\n",
      "Traceback:\n",
      "1. FUN(X[[i]], ...)\n",
      "2. tryCatch(withCallingHandlers({\n",
      " .     if (!mime %in% names(repr::mime2repr)) \n",
      " .         stop(\"No repr_* for mimetype \", mime, \" in repr::mime2repr\")\n",
      " .     rpr <- repr::mime2repr[[mime]](obj)\n",
      " .     if (is.null(rpr)) \n",
      " .         return(NULL)\n",
      " .     prepare_content(is.raw(rpr), rpr)\n",
      " . }, error = error_handler), error = outer_handler)\n",
      "3. tryCatchList(expr, classes, parentenv, handlers)\n",
      "4. tryCatchOne(expr, names, parentenv, handlers[[1L]])\n",
      "5. doTryCatch(return(expr), name, parentenv, handler)\n",
      "6. withCallingHandlers({\n",
      " .     if (!mime %in% names(repr::mime2repr)) \n",
      " .         stop(\"No repr_* for mimetype \", mime, \" in repr::mime2repr\")\n",
      " .     rpr <- repr::mime2repr[[mime]](obj)\n",
      " .     if (is.null(rpr)) \n",
      " .         return(NULL)\n",
      " .     prepare_content(is.raw(rpr), rpr)\n",
      " . }, error = error_handler)\n",
      "7. repr::mime2repr[[mime]](obj)\n",
      "8. repr_markdown.ts(obj)\n",
      "9. repr_ts_generic(obj, repr_markdown.matrix, ...)\n",
      "10. repr_func(m, ..., rows = nrow(m), cols = ncol(m))\n"
     ]
    },
    {
     "data": {
      "text/html": [
       "<table>\n",
       "<thead><tr><th></th><th scope=col>Qtr1</th><th scope=col>Qtr2</th><th scope=col>Qtr3</th><th scope=col>Qtr4</th></tr></thead>\n",
       "<tbody>\n",
       "\t<tr><th scope=row>1949</th><td>120.6667</td><td>128.3333</td><td>144.0000</td><td>113.6667</td></tr>\n",
       "\t<tr><th scope=row>1950</th><td>127.3333</td><td>136.3333</td><td>166.0000</td><td>129.0000</td></tr>\n",
       "\t<tr><th scope=row>1951</th><td>157.6667</td><td>171.0000</td><td>194.0000</td><td>158.0000</td></tr>\n",
       "\t<tr><th scope=row>1952</th><td>181.3333</td><td>194.0000</td><td>227.0000</td><td>185.6667</td></tr>\n",
       "\t<tr><th scope=row>1953</th><td>209.3333</td><td>235.6667</td><td>257.6667</td><td>197.3333</td></tr>\n",
       "\t<tr><th scope=row>1954</th><td>209.0000</td><td>241.6667</td><td>284.6667</td><td>220.3333</td></tr>\n",
       "\t<tr><th scope=row>1955</th><td>247.3333</td><td>284.6667</td><td>341.0000</td><td>263.0000</td></tr>\n",
       "\t<tr><th scope=row>1956</th><td>292.6667</td><td>335.0000</td><td>391.0000</td><td>294.3333</td></tr>\n",
       "\t<tr><th scope=row>1957</th><td>324.0000</td><td>375.0000</td><td>445.3333</td><td>329.3333</td></tr>\n",
       "\t<tr><th scope=row>1958</th><td>340.0000</td><td>382.0000</td><td>466.6667</td><td>335.3333</td></tr>\n",
       "\t<tr><th scope=row>1959</th><td>369.3333</td><td>429.3333</td><td>523.3333</td><td>391.3333</td></tr>\n",
       "\t<tr><th scope=row>1960</th><td>409.0000</td><td>489.3333</td><td>578.6667</td><td>427.6667</td></tr>\n",
       "</tbody>\n",
       "</table>\n"
      ],
      "text/latex": [
       "\\begin{tabular}{r|llll}\n",
       "  & Qtr1 & Qtr2 & Qtr3 & Qtr4\\\\\n",
       "\\hline\n",
       "\t1949 & 120.6667 & 128.3333 & 144.0000 & 113.6667\\\\\n",
       "\t1950 & 127.3333 & 136.3333 & 166.0000 & 129.0000\\\\\n",
       "\t1951 & 157.6667 & 171.0000 & 194.0000 & 158.0000\\\\\n",
       "\t1952 & 181.3333 & 194.0000 & 227.0000 & 185.6667\\\\\n",
       "\t1953 & 209.3333 & 235.6667 & 257.6667 & 197.3333\\\\\n",
       "\t1954 & 209.0000 & 241.6667 & 284.6667 & 220.3333\\\\\n",
       "\t1955 & 247.3333 & 284.6667 & 341.0000 & 263.0000\\\\\n",
       "\t1956 & 292.6667 & 335.0000 & 391.0000 & 294.3333\\\\\n",
       "\t1957 & 324.0000 & 375.0000 & 445.3333 & 329.3333\\\\\n",
       "\t1958 & 340.0000 & 382.0000 & 466.6667 & 335.3333\\\\\n",
       "\t1959 & 369.3333 & 429.3333 & 523.3333 & 391.3333\\\\\n",
       "\t1960 & 409.0000 & 489.3333 & 578.6667 & 427.6667\\\\\n",
       "\\end{tabular}\n"
      ],
      "text/plain": [
       "     Qtr1     Qtr2     Qtr3     Qtr4    \n",
       "1949 120.6667 128.3333 144.0000 113.6667\n",
       "1950 127.3333 136.3333 166.0000 129.0000\n",
       "1951 157.6667 171.0000 194.0000 158.0000\n",
       "1952 181.3333 194.0000 227.0000 185.6667\n",
       "1953 209.3333 235.6667 257.6667 197.3333\n",
       "1954 209.0000 241.6667 284.6667 220.3333\n",
       "1955 247.3333 284.6667 341.0000 263.0000\n",
       "1956 292.6667 335.0000 391.0000 294.3333\n",
       "1957 324.0000 375.0000 445.3333 329.3333\n",
       "1958 340.0000 382.0000 466.6667 335.3333\n",
       "1959 369.3333 429.3333 523.3333 391.3333\n",
       "1960 409.0000 489.3333 578.6667 427.6667"
      ]
     },
     "metadata": {},
     "output_type": "display_data"
    }
   ],
   "source": [
    "# 평균으로 해보기\n",
    "air_quarterly_mean<-aggregate(AirPassengers, nfrequency = 4, FUN=mean)\n",
    "air_quarterly_mean"
   ]
  },
  {
   "cell_type": "code",
   "execution_count": 62,
   "metadata": {},
   "outputs": [
    {
     "data": {
      "image/png": "[encoded data removed]",
      "text/plain": [
       "Plot with title \"Mean\""
      ]
     },
     "metadata": {},
     "output_type": "display_data"
    }
   ],
   "source": [
    "par(mfrow=c(2,1))\n",
    "plot(air_quarterly, xlab='Time(Quarterly)', ylab='Num of Paseengers', main='Sum')\n",
    "plot(air_quarterly_mean, xlab='Time(Quarterly)', ylab='Num of Paseengers', main='Mean')"
   ]
  },
  {
   "cell_type": "code",
   "execution_count": 64,
   "metadata": {},
   "outputs": [
    {
     "data": {
      "image/png": "[encoded data removed]",
      "text/plain": [
       "Plot with title \"Yearly\""
      ]
     },
     "metadata": {},
     "output_type": "display_data"
    }
   ],
   "source": [
    "# 연도별로 합계로 집계하기\n",
    "air_yearly<-aggregate(AirPassengers, nfrequency = 1, FUN=sum)\n",
    "par(mfrow=c(2,1))\n",
    "plot(air_quarterly, xlab='Time(Quarterly)', ylab='Num of Passengers', main='Quarterly')\n",
    "plot(air_yearly, xlab='Time(yearly)', ylab='Num of Paseengers', main='Yearly')"
   ]
  },
  {
   "cell_type": "code",
   "execution_count": 1,
   "metadata": {},
   "outputs": [
    {
     "data": {
      "text/html": [
       "<table>\n",
       "<caption>A Time Series: 12 × 12</caption>\n",
       "<thead>\n",
       "\t<tr><th></th><th scope=col>Jan</th><th scope=col>Feb</th><th scope=col>Mar</th><th scope=col>Apr</th><th scope=col>May</th><th scope=col>Jun</th><th scope=col>Jul</th><th scope=col>Aug</th><th scope=col>Sep</th><th scope=col>Oct</th><th scope=col>Nov</th><th scope=col>Dec</th></tr>\n",
       "</thead>\n",
       "<tbody>\n",
       "\t<tr><th scope=row>1949</th><td>112</td><td>118</td><td>132</td><td>129</td><td>121</td><td>135</td><td>148</td><td>148</td><td>136</td><td>119</td><td>104</td><td>118</td></tr>\n",
       "\t<tr><th scope=row>1950</th><td>115</td><td>126</td><td>141</td><td>135</td><td>125</td><td>149</td><td>170</td><td>170</td><td>158</td><td>133</td><td>114</td><td>140</td></tr>\n",
       "\t<tr><th scope=row>1951</th><td>145</td><td>150</td><td>178</td><td>163</td><td>172</td><td>178</td><td>199</td><td>199</td><td>184</td><td>162</td><td>146</td><td>166</td></tr>\n",
       "\t<tr><th scope=row>1952</th><td>171</td><td>180</td><td>193</td><td>181</td><td>183</td><td>218</td><td>230</td><td>242</td><td>209</td><td>191</td><td>172</td><td>194</td></tr>\n",
       "\t<tr><th scope=row>1953</th><td>196</td><td>196</td><td>236</td><td>235</td><td>229</td><td>243</td><td>264</td><td>272</td><td>237</td><td>211</td><td>180</td><td>201</td></tr>\n",
       "\t<tr><th scope=row>1954</th><td>204</td><td>188</td><td>235</td><td>227</td><td>234</td><td>264</td><td>302</td><td>293</td><td>259</td><td>229</td><td>203</td><td>229</td></tr>\n",
       "\t<tr><th scope=row>1955</th><td>242</td><td>233</td><td>267</td><td>269</td><td>270</td><td>315</td><td>364</td><td>347</td><td>312</td><td>274</td><td>237</td><td>278</td></tr>\n",
       "\t<tr><th scope=row>1956</th><td>284</td><td>277</td><td>317</td><td>313</td><td>318</td><td>374</td><td>413</td><td>405</td><td>355</td><td>306</td><td>271</td><td>306</td></tr>\n",
       "\t<tr><th scope=row>1957</th><td>315</td><td>301</td><td>356</td><td>348</td><td>355</td><td>422</td><td>465</td><td>467</td><td>404</td><td>347</td><td>305</td><td>336</td></tr>\n",
       "\t<tr><th scope=row>1958</th><td>340</td><td>318</td><td>362</td><td>348</td><td>363</td><td>435</td><td>491</td><td>505</td><td>404</td><td>359</td><td>310</td><td>337</td></tr>\n",
       "\t<tr><th scope=row>1959</th><td>360</td><td>342</td><td>406</td><td>396</td><td>420</td><td>472</td><td>548</td><td>559</td><td>463</td><td>407</td><td>362</td><td>405</td></tr>\n",
       "\t<tr><th scope=row>1960</th><td>417</td><td>391</td><td>419</td><td>461</td><td>472</td><td>535</td><td>622</td><td>606</td><td>508</td><td>461</td><td>390</td><td>432</td></tr>\n",
       "</tbody>\n",
       "</table>\n"
      ],
      "text/latex": [
       "A Time Series: 12 × 12\n",
       "\\begin{tabular}{r|llllllllllll}\n",
       "  & Jan & Feb & Mar & Apr & May & Jun & Jul & Aug & Sep & Oct & Nov & Dec\\\\\n",
       "\\hline\n",
       "\t1949 & 112 & 118 & 132 & 129 & 121 & 135 & 148 & 148 & 136 & 119 & 104 & 118\\\\\n",
       "\t1950 & 115 & 126 & 141 & 135 & 125 & 149 & 170 & 170 & 158 & 133 & 114 & 140\\\\\n",
       "\t1951 & 145 & 150 & 178 & 163 & 172 & 178 & 199 & 199 & 184 & 162 & 146 & 166\\\\\n",
       "\t1952 & 171 & 180 & 193 & 181 & 183 & 218 & 230 & 242 & 209 & 191 & 172 & 194\\\\\n",
       "\t1953 & 196 & 196 & 236 & 235 & 229 & 243 & 264 & 272 & 237 & 211 & 180 & 201\\\\\n",
       "\t1954 & 204 & 188 & 235 & 227 & 234 & 264 & 302 & 293 & 259 & 229 & 203 & 229\\\\\n",
       "\t1955 & 242 & 233 & 267 & 269 & 270 & 315 & 364 & 347 & 312 & 274 & 237 & 278\\\\\n",
       "\t1956 & 284 & 277 & 317 & 313 & 318 & 374 & 413 & 405 & 355 & 306 & 271 & 306\\\\\n",
       "\t1957 & 315 & 301 & 356 & 348 & 355 & 422 & 465 & 467 & 404 & 347 & 305 & 336\\\\\n",
       "\t1958 & 340 & 318 & 362 & 348 & 363 & 435 & 491 & 505 & 404 & 359 & 310 & 337\\\\\n",
       "\t1959 & 360 & 342 & 406 & 396 & 420 & 472 & 548 & 559 & 463 & 407 & 362 & 405\\\\\n",
       "\t1960 & 417 & 391 & 419 & 461 & 472 & 535 & 622 & 606 & 508 & 461 & 390 & 432\\\\\n",
       "\\end{tabular}\n"
      ],
      "text/markdown": [
       "\n",
       "A Time Series: 12 × 12\n",
       "\n",
       "| <!--/--> | Jan | Feb | Mar | Apr | May | Jun | Jul | Aug | Sep | Oct | Nov | Dec |\n",
       "|---|---|---|---|---|---|---|---|---|---|---|---|---|\n",
       "| 1949 | 112 | 118 | 132 | 129 | 121 | 135 | 148 | 148 | 136 | 119 | 104 | 118 |\n",
       "| 1950 | 115 | 126 | 141 | 135 | 125 | 149 | 170 | 170 | 158 | 133 | 114 | 140 |\n",
       "| 1951 | 145 | 150 | 178 | 163 | 172 | 178 | 199 | 199 | 184 | 162 | 146 | 166 |\n",
       "| 1952 | 171 | 180 | 193 | 181 | 183 | 218 | 230 | 242 | 209 | 191 | 172 | 194 |\n",
       "| 1953 | 196 | 196 | 236 | 235 | 229 | 243 | 264 | 272 | 237 | 211 | 180 | 201 |\n",
       "| 1954 | 204 | 188 | 235 | 227 | 234 | 264 | 302 | 293 | 259 | 229 | 203 | 229 |\n",
       "| 1955 | 242 | 233 | 267 | 269 | 270 | 315 | 364 | 347 | 312 | 274 | 237 | 278 |\n",
       "| 1956 | 284 | 277 | 317 | 313 | 318 | 374 | 413 | 405 | 355 | 306 | 271 | 306 |\n",
       "| 1957 | 315 | 301 | 356 | 348 | 355 | 422 | 465 | 467 | 404 | 347 | 305 | 336 |\n",
       "| 1958 | 340 | 318 | 362 | 348 | 363 | 435 | 491 | 505 | 404 | 359 | 310 | 337 |\n",
       "| 1959 | 360 | 342 | 406 | 396 | 420 | 472 | 548 | 559 | 463 | 407 | 362 | 405 |\n",
       "| 1960 | 417 | 391 | 419 | 461 | 472 | 535 | 622 | 606 | 508 | 461 | 390 | 432 |\n",
       "\n"
      ],
      "text/plain": [
       "     Jan Feb Mar Apr May Jun Jul Aug Sep Oct Nov Dec\n",
       "1949 112 118 132 129 121 135 148 148 136 119 104 118\n",
       "1950 115 126 141 135 125 149 170 170 158 133 114 140\n",
       "1951 145 150 178 163 172 178 199 199 184 162 146 166\n",
       "1952 171 180 193 181 183 218 230 242 209 191 172 194\n",
       "1953 196 196 236 235 229 243 264 272 237 211 180 201\n",
       "1954 204 188 235 227 234 264 302 293 259 229 203 229\n",
       "1955 242 233 267 269 270 315 364 347 312 274 237 278\n",
       "1956 284 277 317 313 318 374 413 405 355 306 271 306\n",
       "1957 315 301 356 348 355 422 465 467 404 347 305 336\n",
       "1958 340 318 362 348 363 435 491 505 404 359 310 337\n",
       "1959 360 342 406 396 420 472 548 559 463 407 362 405\n",
       "1960 417 391 419 461 472 535 622 606 508 461 390 432"
      ]
     },
     "metadata": {},
     "output_type": "display_data"
    }
   ],
   "source": [
    "AirPassengers"
   ]
  },
  {
   "cell_type": "code",
   "execution_count": 1,
   "metadata": {},
   "outputs": [
    {
     "name": "stderr",
     "output_type": "stream",
     "text": [
      "Registered S3 method overwritten by 'quantmod':\n",
      "  method            from\n",
      "  as.zoo.data.frame zoo \n",
      "\n"
     ]
    }
   ],
   "source": [
    "library(forecast)"
   ]
  },
  {
   "cell_type": "code",
   "execution_count": 2,
   "metadata": {},
   "outputs": [
    {
     "data": {
      "text/plain": [
       "         Point Forecast    Lo 80    Hi 80    Lo 95    Hi 95\n",
       "Jan 1961       469.6301 408.5579 530.7022 376.2283 563.0319\n",
       "Feb 1961       469.6301 407.3485 531.9117 374.3786 564.8816\n",
       "Mar 1961       469.6301 406.1621 533.0981 372.5641 566.6961\n",
       "Apr 1961       469.6301 404.9974 534.2628 370.7829 568.4773\n",
       "May 1961       469.6301 403.8534 535.4068 369.0333 570.2269\n",
       "Jun 1961       469.6301 402.7289 536.5313 367.3136 571.9466\n",
       "Jul 1961       469.6301 401.6230 537.6372 365.6223 573.6379\n",
       "Aug 1961       469.6301 400.5348 538.7253 363.9580 575.3022\n",
       "Sep 1961       469.6301 399.4635 539.7967 362.3196 576.9406\n",
       "Oct 1961       469.6301 398.4083 540.8518 360.7058 578.5544"
      ]
     },
     "metadata": {},
     "output_type": "display_data"
    }
   ],
   "source": [
    "# 단순지수평활법\n",
    "air_fit<-ses(AirPassengers, alpha=0.2, initial='simple')\n",
    "air_fit"
   ]
  },
  {
   "cell_type": "code",
   "execution_count": 3,
   "metadata": {},
   "outputs": [
    {
     "data": {
      "text/html": [
       "<style>\n",
       ".list-inline {list-style: none; margin:0; padding: 0}\n",
       ".list-inline>li {display: inline-block}\n",
       ".list-inline>li:not(:last-child)::after {content: \"\\00b7\"; padding: 0 .5ex}\n",
       "</style>\n",
       "<ol class=list-inline><li>'model'</li><li>'mean'</li><li>'level'</li><li>'x'</li><li>'upper'</li><li>'lower'</li><li>'fitted'</li><li>'residuals'</li><li>'method'</li><li>'series'</li></ol>\n"
      ],
      "text/latex": [
       "\\begin{enumerate*}\n",
       "\\item 'model'\n",
       "\\item 'mean'\n",
       "\\item 'level'\n",
       "\\item 'x'\n",
       "\\item 'upper'\n",
       "\\item 'lower'\n",
       "\\item 'fitted'\n",
       "\\item 'residuals'\n",
       "\\item 'method'\n",
       "\\item 'series'\n",
       "\\end{enumerate*}\n"
      ],
      "text/markdown": [
       "1. 'model'\n",
       "2. 'mean'\n",
       "3. 'level'\n",
       "4. 'x'\n",
       "5. 'upper'\n",
       "6. 'lower'\n",
       "7. 'fitted'\n",
       "8. 'residuals'\n",
       "9. 'method'\n",
       "10. 'series'\n",
       "\n",
       "\n"
      ],
      "text/plain": [
       " [1] \"model\"     \"mean\"      \"level\"     \"x\"         \"upper\"     \"lower\"    \n",
       " [7] \"fitted\"    \"residuals\" \"method\"    \"series\"   "
      ]
     },
     "metadata": {},
     "output_type": "display_data"
    }
   ],
   "source": [
    "names(air_fit)"
   ]
  },
  {
   "cell_type": "code",
   "execution_count": 3,
   "metadata": {},
   "outputs": [
    {
     "data": {
      "text/plain": [
       "Simple exponential smoothing \n",
       "\n",
       "Call:\n",
       " ses(y = AirPassengers, initial = \"simple\", alpha = 0.2) \n",
       "\n",
       "  Smoothing parameters:\n",
       "    alpha = 0.2 \n",
       "\n",
       "  Initial states:\n",
       "    l = 112 \n",
       "\n",
       "  sigma:  47.6549"
      ]
     },
     "metadata": {},
     "output_type": "display_data"
    }
   ],
   "source": [
    "air_fit$model"
   ]
  },
  {
   "cell_type": "code",
   "execution_count": 4,
   "metadata": {},
   "outputs": [
    {
     "data": {
      "text/html": [
       "<table>\n",
       "<caption>A Time Series: 12 × 12</caption>\n",
       "<thead>\n",
       "\t<tr><th></th><th scope=col>Jan</th><th scope=col>Feb</th><th scope=col>Mar</th><th scope=col>Apr</th><th scope=col>May</th><th scope=col>Jun</th><th scope=col>Jul</th><th scope=col>Aug</th><th scope=col>Sep</th><th scope=col>Oct</th><th scope=col>Nov</th><th scope=col>Dec</th></tr>\n",
       "</thead>\n",
       "<tbody>\n",
       "\t<tr><th scope=row>1949</th><td>112.0000</td><td>112.0000</td><td>113.2000</td><td>116.9600</td><td>119.3680</td><td>119.6944</td><td>122.7555</td><td>127.8044</td><td>131.8435</td><td>132.6748</td><td>129.9399</td><td>124.7519</td></tr>\n",
       "\t<tr><th scope=row>1950</th><td>123.4015</td><td>121.7212</td><td>122.5770</td><td>126.2616</td><td>128.0093</td><td>127.4074</td><td>131.7259</td><td>139.3807</td><td>145.5046</td><td>148.0037</td><td>145.0029</td><td>138.8024</td></tr>\n",
       "\t<tr><th scope=row>1951</th><td>139.0419</td><td>140.2335</td><td>142.1868</td><td>149.3494</td><td>152.0796</td><td>156.0636</td><td>160.4509</td><td>168.1607</td><td>174.3286</td><td>176.2629</td><td>173.4103</td><td>167.9282</td></tr>\n",
       "\t<tr><th scope=row>1952</th><td>167.5426</td><td>168.2341</td><td>170.5873</td><td>175.0698</td><td>176.2558</td><td>177.6047</td><td>185.6837</td><td>194.5470</td><td>204.0376</td><td>205.0301</td><td>202.2241</td><td>196.1792</td></tr>\n",
       "\t<tr><th scope=row>1953</th><td>195.7434</td><td>195.7947</td><td>195.8358</td><td>203.8686</td><td>210.0949</td><td>213.8759</td><td>219.7007</td><td>228.5606</td><td>237.2485</td><td>237.1988</td><td>231.9590</td><td>221.5672</td></tr>\n",
       "\t<tr><th scope=row>1954</th><td>217.4538</td><td>214.7630</td><td>209.4104</td><td>214.5283</td><td>217.0227</td><td>220.4181</td><td>229.1345</td><td>243.7076</td><td>253.5661</td><td>254.6529</td><td>249.5223</td><td>240.2178</td></tr>\n",
       "\t<tr><th scope=row>1955</th><td>237.9743</td><td>238.7794</td><td>237.6235</td><td>243.4988</td><td>248.5991</td><td>252.8792</td><td>265.3034</td><td>285.0427</td><td>297.4342</td><td>300.3473</td><td>295.0779</td><td>283.4623</td></tr>\n",
       "\t<tr><th scope=row>1956</th><td>282.3698</td><td>282.6959</td><td>281.5567</td><td>288.6454</td><td>293.5163</td><td>298.4130</td><td>313.5304</td><td>333.4243</td><td>347.7395</td><td>349.1916</td><td>340.5533</td><td>326.6426</td></tr>\n",
       "\t<tr><th scope=row>1957</th><td>322.5141</td><td>321.0113</td><td>317.0090</td><td>324.8072</td><td>329.4458</td><td>334.5566</td><td>352.0453</td><td>374.6362</td><td>393.1090</td><td>395.2872</td><td>385.6298</td><td>369.5038</td></tr>\n",
       "\t<tr><th scope=row>1958</th><td>362.8030</td><td>358.2424</td><td>350.1939</td><td>352.5552</td><td>351.6441</td><td>353.9153</td><td>370.1322</td><td>394.3058</td><td>416.4446</td><td>413.9557</td><td>402.9646</td><td>384.3717</td></tr>\n",
       "\t<tr><th scope=row>1959</th><td>374.8973</td><td>371.9179</td><td>365.9343</td><td>373.9474</td><td>378.3579</td><td>386.6864</td><td>403.7491</td><td>432.5993</td><td>457.8794</td><td>458.9035</td><td>448.5228</td><td>431.2183</td></tr>\n",
       "\t<tr><th scope=row>1960</th><td>425.9746</td><td>424.1797</td><td>417.5437</td><td>417.8350</td><td>426.4680</td><td>435.5744</td><td>455.4595</td><td>488.7676</td><td>512.2141</td><td>511.3713</td><td>501.2970</td><td>479.0376</td></tr>\n",
       "</tbody>\n",
       "</table>\n"
      ],
      "text/latex": [
       "A Time Series: 12 × 12\n",
       "\\begin{tabular}{r|llllllllllll}\n",
       "  & Jan & Feb & Mar & Apr & May & Jun & Jul & Aug & Sep & Oct & Nov & Dec\\\\\n",
       "\\hline\n",
       "\t1949 & 112.0000 & 112.0000 & 113.2000 & 116.9600 & 119.3680 & 119.6944 & 122.7555 & 127.8044 & 131.8435 & 132.6748 & 129.9399 & 124.7519\\\\\n",
       "\t1950 & 123.4015 & 121.7212 & 122.5770 & 126.2616 & 128.0093 & 127.4074 & 131.7259 & 139.3807 & 145.5046 & 148.0037 & 145.0029 & 138.8024\\\\\n",
       "\t1951 & 139.0419 & 140.2335 & 142.1868 & 149.3494 & 152.0796 & 156.0636 & 160.4509 & 168.1607 & 174.3286 & 176.2629 & 173.4103 & 167.9282\\\\\n",
       "\t1952 & 167.5426 & 168.2341 & 170.5873 & 175.0698 & 176.2558 & 177.6047 & 185.6837 & 194.5470 & 204.0376 & 205.0301 & 202.2241 & 196.1792\\\\\n",
       "\t1953 & 195.7434 & 195.7947 & 195.8358 & 203.8686 & 210.0949 & 213.8759 & 219.7007 & 228.5606 & 237.2485 & 237.1988 & 231.9590 & 221.5672\\\\\n",
       "\t1954 & 217.4538 & 214.7630 & 209.4104 & 214.5283 & 217.0227 & 220.4181 & 229.1345 & 243.7076 & 253.5661 & 254.6529 & 249.5223 & 240.2178\\\\\n",
       "\t1955 & 237.9743 & 238.7794 & 237.6235 & 243.4988 & 248.5991 & 252.8792 & 265.3034 & 285.0427 & 297.4342 & 300.3473 & 295.0779 & 283.4623\\\\\n",
       "\t1956 & 282.3698 & 282.6959 & 281.5567 & 288.6454 & 293.5163 & 298.4130 & 313.5304 & 333.4243 & 347.7395 & 349.1916 & 340.5533 & 326.6426\\\\\n",
       "\t1957 & 322.5141 & 321.0113 & 317.0090 & 324.8072 & 329.4458 & 334.5566 & 352.0453 & 374.6362 & 393.1090 & 395.2872 & 385.6298 & 369.5038\\\\\n",
       "\t1958 & 362.8030 & 358.2424 & 350.1939 & 352.5552 & 351.6441 & 353.9153 & 370.1322 & 394.3058 & 416.4446 & 413.9557 & 402.9646 & 384.3717\\\\\n",
       "\t1959 & 374.8973 & 371.9179 & 365.9343 & 373.9474 & 378.3579 & 386.6864 & 403.7491 & 432.5993 & 457.8794 & 458.9035 & 448.5228 & 431.2183\\\\\n",
       "\t1960 & 425.9746 & 424.1797 & 417.5437 & 417.8350 & 426.4680 & 435.5744 & 455.4595 & 488.7676 & 512.2141 & 511.3713 & 501.2970 & 479.0376\\\\\n",
       "\\end{tabular}\n"
      ],
      "text/markdown": [
       "\n",
       "A Time Series: 12 × 12\n",
       "\n",
       "| <!--/--> | Jan | Feb | Mar | Apr | May | Jun | Jul | Aug | Sep | Oct | Nov | Dec |\n",
       "|---|---|---|---|---|---|---|---|---|---|---|---|---|\n",
       "| 1949 | 112.0000 | 112.0000 | 113.2000 | 116.9600 | 119.3680 | 119.6944 | 122.7555 | 127.8044 | 131.8435 | 132.6748 | 129.9399 | 124.7519 |\n",
       "| 1950 | 123.4015 | 121.7212 | 122.5770 | 126.2616 | 128.0093 | 127.4074 | 131.7259 | 139.3807 | 145.5046 | 148.0037 | 145.0029 | 138.8024 |\n",
       "| 1951 | 139.0419 | 140.2335 | 142.1868 | 149.3494 | 152.0796 | 156.0636 | 160.4509 | 168.1607 | 174.3286 | 176.2629 | 173.4103 | 167.9282 |\n",
       "| 1952 | 167.5426 | 168.2341 | 170.5873 | 175.0698 | 176.2558 | 177.6047 | 185.6837 | 194.5470 | 204.0376 | 205.0301 | 202.2241 | 196.1792 |\n",
       "| 1953 | 195.7434 | 195.7947 | 195.8358 | 203.8686 | 210.0949 | 213.8759 | 219.7007 | 228.5606 | 237.2485 | 237.1988 | 231.9590 | 221.5672 |\n",
       "| 1954 | 217.4538 | 214.7630 | 209.4104 | 214.5283 | 217.0227 | 220.4181 | 229.1345 | 243.7076 | 253.5661 | 254.6529 | 249.5223 | 240.2178 |\n",
       "| 1955 | 237.9743 | 238.7794 | 237.6235 | 243.4988 | 248.5991 | 252.8792 | 265.3034 | 285.0427 | 297.4342 | 300.3473 | 295.0779 | 283.4623 |\n",
       "| 1956 | 282.3698 | 282.6959 | 281.5567 | 288.6454 | 293.5163 | 298.4130 | 313.5304 | 333.4243 | 347.7395 | 349.1916 | 340.5533 | 326.6426 |\n",
       "| 1957 | 322.5141 | 321.0113 | 317.0090 | 324.8072 | 329.4458 | 334.5566 | 352.0453 | 374.6362 | 393.1090 | 395.2872 | 385.6298 | 369.5038 |\n",
       "| 1958 | 362.8030 | 358.2424 | 350.1939 | 352.5552 | 351.6441 | 353.9153 | 370.1322 | 394.3058 | 416.4446 | 413.9557 | 402.9646 | 384.3717 |\n",
       "| 1959 | 374.8973 | 371.9179 | 365.9343 | 373.9474 | 378.3579 | 386.6864 | 403.7491 | 432.5993 | 457.8794 | 458.9035 | 448.5228 | 431.2183 |\n",
       "| 1960 | 425.9746 | 424.1797 | 417.5437 | 417.8350 | 426.4680 | 435.5744 | 455.4595 | 488.7676 | 512.2141 | 511.3713 | 501.2970 | 479.0376 |\n",
       "\n"
      ],
      "text/plain": [
       "     Jan      Feb      Mar      Apr      May      Jun      Jul      Aug     \n",
       "1949 112.0000 112.0000 113.2000 116.9600 119.3680 119.6944 122.7555 127.8044\n",
       "1950 123.4015 121.7212 122.5770 126.2616 128.0093 127.4074 131.7259 139.3807\n",
       "1951 139.0419 140.2335 142.1868 149.3494 152.0796 156.0636 160.4509 168.1607\n",
       "1952 167.5426 168.2341 170.5873 175.0698 176.2558 177.6047 185.6837 194.5470\n",
       "1953 195.7434 195.7947 195.8358 203.8686 210.0949 213.8759 219.7007 228.5606\n",
       "1954 217.4538 214.7630 209.4104 214.5283 217.0227 220.4181 229.1345 243.7076\n",
       "1955 237.9743 238.7794 237.6235 243.4988 248.5991 252.8792 265.3034 285.0427\n",
       "1956 282.3698 282.6959 281.5567 288.6454 293.5163 298.4130 313.5304 333.4243\n",
       "1957 322.5141 321.0113 317.0090 324.8072 329.4458 334.5566 352.0453 374.6362\n",
       "1958 362.8030 358.2424 350.1939 352.5552 351.6441 353.9153 370.1322 394.3058\n",
       "1959 374.8973 371.9179 365.9343 373.9474 378.3579 386.6864 403.7491 432.5993\n",
       "1960 425.9746 424.1797 417.5437 417.8350 426.4680 435.5744 455.4595 488.7676\n",
       "     Sep      Oct      Nov      Dec     \n",
       "1949 131.8435 132.6748 129.9399 124.7519\n",
       "1950 145.5046 148.0037 145.0029 138.8024\n",
       "1951 174.3286 176.2629 173.4103 167.9282\n",
       "1952 204.0376 205.0301 202.2241 196.1792\n",
       "1953 237.2485 237.1988 231.9590 221.5672\n",
       "1954 253.5661 254.6529 249.5223 240.2178\n",
       "1955 297.4342 300.3473 295.0779 283.4623\n",
       "1956 347.7395 349.1916 340.5533 326.6426\n",
       "1957 393.1090 395.2872 385.6298 369.5038\n",
       "1958 416.4446 413.9557 402.9646 384.3717\n",
       "1959 457.8794 458.9035 448.5228 431.2183\n",
       "1960 512.2141 511.3713 501.2970 479.0376"
      ]
     },
     "metadata": {},
     "output_type": "display_data"
    }
   ],
   "source": [
    "air_fit$fitted"
   ]
  },
  {
   "cell_type": "code",
   "execution_count": 5,
   "metadata": {},
   "outputs": [
    {
     "data": {
      "text/html": [
       "<style>\n",
       ".list-inline {list-style: none; margin:0; padding: 0}\n",
       ".list-inline>li {display: inline-block}\n",
       ".list-inline>li:not(:last-child)::after {content: \"\\00b7\"; padding: 0 .5ex}\n",
       "</style>\n",
       "<ol class=list-inline><li>'model'</li><li>'mean'</li><li>'level'</li><li>'x'</li><li>'upper'</li><li>'lower'</li><li>'fitted'</li><li>'residuals'</li><li>'method'</li><li>'series'</li></ol>\n"
      ],
      "text/latex": [
       "\\begin{enumerate*}\n",
       "\\item 'model'\n",
       "\\item 'mean'\n",
       "\\item 'level'\n",
       "\\item 'x'\n",
       "\\item 'upper'\n",
       "\\item 'lower'\n",
       "\\item 'fitted'\n",
       "\\item 'residuals'\n",
       "\\item 'method'\n",
       "\\item 'series'\n",
       "\\end{enumerate*}\n"
      ],
      "text/markdown": [
       "1. 'model'\n",
       "2. 'mean'\n",
       "3. 'level'\n",
       "4. 'x'\n",
       "5. 'upper'\n",
       "6. 'lower'\n",
       "7. 'fitted'\n",
       "8. 'residuals'\n",
       "9. 'method'\n",
       "10. 'series'\n",
       "\n",
       "\n"
      ],
      "text/plain": [
       " [1] \"model\"     \"mean\"      \"level\"     \"x\"         \"upper\"     \"lower\"    \n",
       " [7] \"fitted\"    \"residuals\" \"method\"    \"series\"   "
      ]
     },
     "metadata": {},
     "output_type": "display_data"
    }
   ],
   "source": [
    "names(air_fit)"
   ]
  },
  {
   "cell_type": "code",
   "execution_count": 6,
   "metadata": {},
   "outputs": [
    {
     "data": {
      "image/png": "[encoded data removed]",
      "text/plain": [
       "Plot with title \"Forecasts from Simple exponential smoothing\""
      ]
     },
     "metadata": {
      "image/png": {
       "height": 420,
       "width": 420
      }
     },
     "output_type": "display_data"
    }
   ],
   "source": [
    "plot(air_fit)\n",
    "# 밑의 두개 라인 똑같은 표현임\n",
    "lines(air_fit$fitted, col='red', type='o')\n",
    "lines(fitted(air_fit), col='blue')"
   ]
  },
  {
   "cell_type": "code",
   "execution_count": 7,
   "metadata": {},
   "outputs": [
    {
     "data": {
      "image/png": "[encoded data removed]",
      "text/plain": [
       "Plot with title \"Forecasts from Simple exponential smoothing\""
      ]
     },
     "metadata": {
      "image/png": {
       "height": 420,
       "width": 420
      }
     },
     "output_type": "display_data"
    }
   ],
   "source": [
    "air_fit2<-ses(AirPassengers, alpha=0.5, initial='simple')\n",
    "plot(air_fit2)\n",
    "lines(fitted(air_fit2), col='red', type='o')"
   ]
  },
  {
   "cell_type": "code",
   "execution_count": 8,
   "metadata": {},
   "outputs": [
    {
     "data": {
      "image/png": "[encoded data removed]",
      "text/plain": [
       "Plot with title \"Forecasts from Simple exponential smoothing\""
      ]
     },
     "metadata": {
      "image/png": {
       "height": 420,
       "width": 420
      }
     },
     "output_type": "display_data"
    }
   ],
   "source": [
    "air_fit3<-ses(AirPassengers, alpha=0.9, initial='simple')\n",
    "plot(air_fit3)\n",
    "lines(air_fit3$fitted, col='red',type='o')"
   ]
  },
  {
   "cell_type": "code",
   "execution_count": 10,
   "metadata": {},
   "outputs": [
    {
     "data": {
      "image/png": "[encoded data removed]",
      "text/plain": [
       "Plot with title \"Forecasts from Simple exponential smoothing\""
      ]
     },
     "metadata": {
      "image/png": {
       "height": 420,
       "width": 420
      }
     },
     "output_type": "display_data"
    }
   ],
   "source": [
    "air_fit4<-ses(AirPassengers, initial='optimal')\n",
    "plot(air_fit4)\n",
    "lines(air_fit4$fitted, col='red', type='o')\n",
    "lines(air_fit4$mean, col='blue', type='o')"
   ]
  },
  {
   "cell_type": "code",
   "execution_count": 11,
   "metadata": {},
   "outputs": [
    {
     "name": "stderr",
     "output_type": "stream",
     "text": [
      "ERROR while rich displaying an object: Error in arr_partition(a, rows, cols): rows >= 2L is not TRUE\n",
      "\n",
      "Traceback:\n",
      "1. FUN(X[[i]], ...)\n",
      "2. tryCatch(withCallingHandlers({\n",
      " .     if (!mime %in% names(repr::mime2repr)) \n",
      " .         stop(\"No repr_* for mimetype \", mime, \" in repr::mime2repr\")\n",
      " .     rpr <- repr::mime2repr[[mime]](obj)\n",
      " .     if (is.null(rpr)) \n",
      " .         return(NULL)\n",
      " .     prepare_content(is.raw(rpr), rpr)\n",
      " . }, error = error_handler), error = outer_handler)\n",
      "3. tryCatchList(expr, classes, parentenv, handlers)\n",
      "4. tryCatchOne(expr, names, parentenv, handlers[[1L]])\n",
      "5. doTryCatch(return(expr), name, parentenv, handler)\n",
      "6. withCallingHandlers({\n",
      " .     if (!mime %in% names(repr::mime2repr)) \n",
      " .         stop(\"No repr_* for mimetype \", mime, \" in repr::mime2repr\")\n",
      " .     rpr <- repr::mime2repr[[mime]](obj)\n",
      " .     if (is.null(rpr)) \n",
      " .         return(NULL)\n",
      " .     prepare_content(is.raw(rpr), rpr)\n",
      " . }, error = error_handler)\n",
      "7. repr::mime2repr[[mime]](obj)\n",
      "8. repr_text.ts(obj)\n",
      "9. repr_ts_generic(obj, repr_text, \"%s:\\n%s\", ...)\n",
      "10. repr_func(vec, ..., rows = nrow(vec), cols = ncol(vec), caption_override = \"Time Series\")\n",
      "11. repr_text.matrix(vec, ..., rows = nrow(vec), cols = ncol(vec), \n",
      "  .     caption_override = \"Time Series\")\n",
      "12. ellip_limit_arr(obj, rows, cols)\n",
      "13. arr_partition(a, rows, cols)\n",
      "14. stopifnot(rows >= 2L, cols >= 2L)\n"
     ]
    }
   ],
   "source": [
    "air_fit4$mean"
   ]
  },
  {
   "cell_type": "code",
   "execution_count": 21,
   "metadata": {},
   "outputs": [
    {
     "name": "stdout",
     "output_type": "stream",
     "text": [
      "\n",
      "Forecast method: Simple exponential smoothing\n",
      "\n",
      "Model Information:\n",
      "Simple exponential smoothing \n",
      "\n",
      "Call:\n",
      " ses(y = AirPassengers, initial = \"simple\", alpha = 0.2) \n",
      "\n",
      "  Smoothing parameters:\n",
      "    alpha = 0.2 \n",
      "\n",
      "  Initial states:\n",
      "    l = 112 \n",
      "\n",
      "  sigma:  47.6549\n",
      "Error measures:\n",
      "                   ME     RMSE      MAE      MPE     MAPE     MASE      ACF1\n",
      "Training set 12.41771 47.65485 34.37562 3.101443 11.49087 1.073222 0.6882958\n",
      "\n",
      "Forecasts:\n",
      "         Point Forecast    Lo 80    Hi 80    Lo 95    Hi 95\n",
      "Jan 1961       469.6301 408.5579 530.7022 376.2283 563.0319\n",
      "Feb 1961       469.6301 407.3485 531.9117 374.3786 564.8816\n",
      "Mar 1961       469.6301 406.1621 533.0981 372.5641 566.6961\n",
      "Apr 1961       469.6301 404.9974 534.2628 370.7829 568.4773\n",
      "May 1961       469.6301 403.8534 535.4068 369.0333 570.2269\n",
      "Jun 1961       469.6301 402.7289 536.5313 367.3136 571.9466\n",
      "Jul 1961       469.6301 401.6230 537.6372 365.6223 573.6379\n",
      "Aug 1961       469.6301 400.5348 538.7253 363.9580 575.3022\n",
      "Sep 1961       469.6301 399.4635 539.7967 362.3196 576.9406\n",
      "Oct 1961       469.6301 398.4083 540.8518 360.7058 578.5544\n",
      "\n",
      "Forecast method: Simple exponential smoothing\n",
      "\n",
      "Model Information:\n",
      "Simple exponential smoothing \n",
      "\n",
      "Call:\n",
      " ses(y = AirPassengers, initial = \"simple\", alpha = 0.5) \n",
      "\n",
      "  Smoothing parameters:\n",
      "    alpha = 0.5 \n",
      "\n",
      "  Initial states:\n",
      "    l = 112 \n",
      "\n",
      "  sigma:  41.5912\n",
      "Error measures:\n",
      "                   ME     RMSE      MAE       MPE     MAPE      MASE      ACF1\n",
      "Training set 4.545223 41.59124 30.84951 0.6871467 10.47425 0.9631352 0.5921948\n",
      "\n",
      "Forecasts:\n",
      "         Point Forecast    Lo 80    Hi 80    Lo 95    Hi 95\n",
      "Jan 1961        439.256 385.9547 492.5573 357.7387 520.7734\n",
      "Feb 1961        439.256 379.6633 498.8487 348.1169 530.3952\n",
      "Mar 1961        439.256 373.9755 504.5365 339.4181 539.0940\n",
      "Apr 1961        439.256 368.7450 509.7670 331.4187 547.0933\n",
      "May 1961        439.256 363.8766 514.6355 323.9731 554.5389\n",
      "Jun 1961        439.256 359.3040 519.2080 316.9800 561.5320\n",
      "Jul 1961        439.256 354.9792 523.5328 310.3658 568.1462\n",
      "Aug 1961        439.256 350.8658 527.6463 304.0748 574.4372\n",
      "Sep 1961        439.256 346.9354 531.5766 298.0639 580.4482\n",
      "Oct 1961        439.256 343.1657 535.3463 292.2986 586.2135\n",
      "\n",
      "Forecast method: Simple exponential smoothing\n",
      "\n",
      "Model Information:\n",
      "Simple exponential smoothing \n",
      "\n",
      "Call:\n",
      " ses(y = AirPassengers, initial = \"simple\", alpha = 0.9) \n",
      "\n",
      "  Smoothing parameters:\n",
      "    alpha = 0.9 \n",
      "\n",
      "  Initial states:\n",
      "    l = 112 \n",
      "\n",
      "  sigma:  34.7361\n",
      "Error measures:\n",
      "                   ME     RMSE      MAE       MPE     MAPE      MASE      ACF1\n",
      "Training set 2.442646 34.73614 26.40088 0.3844513 9.196528 0.8242471 0.3706327\n",
      "\n",
      "Forecasts:\n",
      "         Point Forecast    Lo 80    Hi 80    Lo 95    Hi 95\n",
      "Jan 1961       428.5669 384.0507 473.0830 360.4853 496.6485\n",
      "Feb 1961       428.5669 368.6765 488.4572 336.9725 520.1613\n",
      "Mar 1961       428.5669 356.5112 500.6226 318.3672 538.7666\n",
      "Apr 1961       428.5669 346.1218 511.0119 302.4780 554.6557\n",
      "May 1961       428.5669 336.9025 520.2313 288.3783 568.7554\n",
      "Jun 1961       428.5669 328.5292 528.6045 275.5725 581.5612\n",
      "Jul 1961       428.5669 320.8047 536.3291 263.7588 593.3750\n",
      "Aug 1961       428.5669 313.5979 543.5358 252.7370 604.3967\n",
      "Sep 1961       428.5669 306.8170 550.3167 242.3665 614.7672\n",
      "Oct 1961       428.5669 300.3943 556.7394 232.5439 624.5898\n",
      "\n",
      "Forecast method: Simple exponential smoothing\n",
      "\n",
      "Model Information:\n",
      "Simple exponential smoothing \n",
      "\n",
      "Call:\n",
      " ses(y = AirPassengers, initial = \"optimal\") \n",
      "\n",
      "  Smoothing parameters:\n",
      "    alpha = 0.9999 \n",
      "\n",
      "  Initial states:\n",
      "    l = 111.9892 \n",
      "\n",
      "  sigma:  33.8299\n",
      "\n",
      "     AIC     AICc      BIC \n",
      "1733.787 1733.958 1742.696 \n",
      "\n",
      "Error measures:\n",
      "                  ME     RMSE      MAE       MPE     MAPE      MASE      ACF1\n",
      "Training set 2.22249 33.59418 25.68134 0.3758224 8.957112 0.8017825 0.3028609\n",
      "\n",
      "Forecasts:\n",
      "         Point Forecast    Lo 80    Hi 80    Lo 95    Hi 95\n",
      "Jan 1961       431.9958 388.6410 475.3506 365.6904 498.3012\n",
      "Feb 1961       431.9958 370.6859 493.3057 338.2304 525.7612\n",
      "Mar 1961       431.9958 356.9081 507.0835 317.1591 546.8325\n",
      "Apr 1961       431.9958 345.2927 518.6989 299.3949 564.5967\n",
      "May 1961       431.9958 335.0593 528.9323 283.7442 580.2474\n",
      "Jun 1961       431.9958 325.8075 538.1841 269.5948 594.3968\n",
      "Jul 1961       431.9958 317.2996 546.6920 256.5831 607.4085\n",
      "Aug 1961       431.9958 309.3806 554.6110 244.4721 619.5195\n",
      "Sep 1961       431.9958 301.9430 562.0486 233.0971 630.8945\n",
      "Oct 1961       431.9958 294.9082 569.0834 222.3384 641.6532\n"
     ]
    }
   ],
   "source": [
    "# alpha=0.2일때 -> RMSE : 47.65\n",
    "summary(air_fit)\n",
    "# aplha=0.5일때 -> RMSE : 41.59\n",
    "summary(air_fit2) \n",
    "# alpha=0.9일때  -> RMSE : 34.73\n",
    "summary(air_fit3)\n",
    "# optimal일때    -> RMSE : 33.59\n",
    "summary(air_fit4)"
   ]
  },
  {
   "cell_type": "code",
   "execution_count": 22,
   "metadata": {},
   "outputs": [
    {
     "data": {
      "image/png": "[encoded data removed]",
      "text/plain": [
       "Plot with title \"Forecasts from Simple exponential smoothing\""
      ]
     },
     "metadata": {
      "image/png": {
       "height": 420,
       "width": 420
      }
     },
     "output_type": "display_data"
    }
   ],
   "source": [
    "# 1955년도부터 데이터만 활용\n",
    "air_ts<-window(AirPassengers, start=1955)\n",
    "air_fit5<-ses(air_ts, initial='optimal')\n",
    "plot(air_fit5)\n",
    "lines(air_fit5$fitted, col='red', type='o')"
   ]
  },
  {
   "cell_type": "markdown",
   "metadata": {},
   "source": [
    "# ses(단순지수평활법) 함수 사용법\n",
    "\n",
    "- ses(ts_data, alpha=0.2, initial='simple')\n",
    "    * alpha : 평활상수값(가중평균=최근의 자료들에 대해 더 많은 가중값을 부여)\n",
    "        * 0~1사이의 값\n",
    "        * 1에 가까울수록 RMSE의 값이 더작아짐으로써 예측정확성이 높아짐\n",
    "    * initial : 'simple'을 넣어주면 초기값을 관찰값들 중 가장 첫 번째값으로 넣어줌\n",
    "        * 'optimal'을 넣어주면 최적의 값을 알아서 찾아줌. 이 때 optimal로 하게되면 alpha값도 알아서 최적의 값을 찾아주기 때문에 따로 alpha값 인자로 넣어줄 필요 없음\n",
    "\n",
    "- ses 함수 적용한 시계열 데이터의 변수명들 각 의미\n",
    "    * model : 기본적으로 ses함수가 적용된 모델에 대한 내용(alpha값, initial값, sigma값에 대한 정보)\n",
    "    * fitted : ses함수 적용전의 시계열 데이터를 fitting한 후의 시계열 데이터\n",
    "    * mean : 예측값을 나타내주는듯..! 근데 밑에서 mean값출력하려는데 왜 에러가뜰까..?"
   ]
  },
  {
   "cell_type": "code",
   "execution_count": 13,
   "metadata": {},
   "outputs": [
    {
     "name": "stderr",
     "output_type": "stream",
     "text": [
      "ERROR while rich displaying an object: Error in arr_partition(a, rows, cols): rows >= 2L is not TRUE\n",
      "\n",
      "Traceback:\n",
      "1. FUN(X[[i]], ...)\n",
      "2. tryCatch(withCallingHandlers({\n",
      " .     if (!mime %in% names(repr::mime2repr)) \n",
      " .         stop(\"No repr_* for mimetype \", mime, \" in repr::mime2repr\")\n",
      " .     rpr <- repr::mime2repr[[mime]](obj)\n",
      " .     if (is.null(rpr)) \n",
      " .         return(NULL)\n",
      " .     prepare_content(is.raw(rpr), rpr)\n",
      " . }, error = error_handler), error = outer_handler)\n",
      "3. tryCatchList(expr, classes, parentenv, handlers)\n",
      "4. tryCatchOne(expr, names, parentenv, handlers[[1L]])\n",
      "5. doTryCatch(return(expr), name, parentenv, handler)\n",
      "6. withCallingHandlers({\n",
      " .     if (!mime %in% names(repr::mime2repr)) \n",
      " .         stop(\"No repr_* for mimetype \", mime, \" in repr::mime2repr\")\n",
      " .     rpr <- repr::mime2repr[[mime]](obj)\n",
      " .     if (is.null(rpr)) \n",
      " .         return(NULL)\n",
      " .     prepare_content(is.raw(rpr), rpr)\n",
      " . }, error = error_handler)\n",
      "7. repr::mime2repr[[mime]](obj)\n",
      "8. repr_text.ts(obj)\n",
      "9. repr_ts_generic(obj, repr_text, \"%s:\\n%s\", ...)\n",
      "10. repr_func(vec, ..., rows = nrow(vec), cols = ncol(vec), caption_override = \"Time Series\")\n",
      "11. repr_text.matrix(vec, ..., rows = nrow(vec), cols = ncol(vec), \n",
      "  .     caption_override = \"Time Series\")\n",
      "12. ellip_limit_arr(obj, rows, cols)\n",
      "13. arr_partition(a, rows, cols)\n",
      "14. stopifnot(rows >= 2L, cols >= 2L)\n"
     ]
    }
   ],
   "source": [
    "# why error~!?!?!?!?\n",
    "air_fit4$mean"
   ]
  },
  {
   "cell_type": "code",
   "execution_count": null,
   "metadata": {},
   "outputs": [],
   "source": []
  }
 ],
 "metadata": {
  "kernelspec": {
   "display_name": "R",
   "language": "R",
   "name": "ir"
  },
  "language_info": {
   "codemirror_mode": "r",
   "file_extension": ".r",
   "mimetype": "text/x-r-source",
   "name": "R",
   "pygments_lexer": "r",
   "version": "3.6.3"
  },
  "toc": {
   "base_numbering": 1,
   "nav_menu": {},
   "number_sections": true,
   "sideBar": true,
   "skip_h1_title": false,
   "title_cell": "Table of Contents",
   "title_sidebar": "Contents",
   "toc_cell": false,
   "toc_position": {},
   "toc_section_display": true,
   "toc_window_display": false
  },
  "varInspector": {
   "cols": {
    "lenName": 16,
    "lenType": 16,
    "lenVar": 40
   },
   "kernels_config": {
    "python": {
     "delete_cmd_postfix": "",
     "delete_cmd_prefix": "del ",
     "library": "var_list.py",
     "varRefreshCmd": "print(var_dic_list())"
    },
    "r": {
     "delete_cmd_postfix": ") ",
     "delete_cmd_prefix": "rm(",
     "library": "var_list.r",
     "varRefreshCmd": "cat(var_dic_list()) "
    }
   },
   "types_to_exclude": [
    "module",
    "function",
    "builtin_function_or_method",
    "instance",
    "_Feature"
   ],
   "window_display": false
  }
 },
 "nbformat": 4,
 "nbformat_minor": 4
}
