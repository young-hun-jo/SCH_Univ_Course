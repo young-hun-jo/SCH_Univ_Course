{
 "cells": [
  {
   "cell_type": "code",
   "execution_count": 1,
   "metadata": {},
   "outputs": [
    {
     "name": "stderr",
     "output_type": "stream",
     "text": [
      "Registered S3 method overwritten by 'quantmod':\n",
      "  method            from\n",
      "  as.zoo.data.frame zoo \n",
      "\n"
     ]
    }
   ],
   "source": [
    "library(forecast)\n",
    "souvenir <- scan(\"http://robjhyndman.com/tsdldata/data/fancy.dat\")"
   ]
  },
  {
   "cell_type": "code",
   "execution_count": 2,
   "metadata": {},
   "outputs": [
    {
     "data": {
      "text/html": [
       "<style>\n",
       ".list-inline {list-style: none; margin:0; padding: 0}\n",
       ".list-inline>li {display: inline-block}\n",
       ".list-inline>li:not(:last-child)::after {content: \"\\00b7\"; padding: 0 .5ex}\n",
       "</style>\n",
       "<ol class=list-inline><li>1664.81</li><li>2397.53</li><li>2840.71</li><li>3547.29</li><li>3752.96</li><li>3714.74</li><li>4349.61</li><li>3566.34</li><li>5021.82</li><li>6423.48</li><li>7600.6</li><li>19756.21</li><li>2499.81</li><li>5198.24</li><li>7225.14</li><li>4806.03</li><li>5900.88</li><li>4951.34</li><li>6179.12</li><li>4752.15</li><li>5496.43</li><li>5835.1</li><li>12600.08</li><li>28541.72</li><li>4717.02</li><li>5702.63</li><li>9957.58</li><li>5304.78</li><li>6492.43</li><li>6630.8</li><li>7349.62</li><li>8176.62</li><li>8573.17</li><li>9690.5</li><li>15151.84</li><li>34061.01</li><li>5921.1</li><li>5814.58</li><li>12421.25</li><li>6369.77</li><li>7609.12</li><li>7224.75</li><li>8121.22</li><li>7979.25</li><li>8093.06</li><li>8476.7</li><li>17914.66</li><li>30114.41</li><li>4826.64</li><li>6470.23</li><li>9638.77</li><li>8821.17</li><li>8722.37</li><li>10209.48</li><li>11276.55</li><li>12552.22</li><li>11637.39</li><li>13606.89</li><li>21822.11</li><li>45060.69</li><li>7615.03</li><li>9849.69</li><li>14558.4</li><li>11587.33</li><li>9332.56</li><li>13082.09</li><li>16732.78</li><li>19888.61</li><li>23933.38</li><li>25391.35</li><li>36024.8</li><li>80721.71</li><li>10243.24</li><li>11266.88</li><li>21826.84</li><li>17357.33</li><li>15997.79</li><li>18601.53</li><li>26155.15</li><li>28586.52</li><li>30505.41</li><li>30821.33</li><li>46634.38</li><li>104660.67</li></ol>\n"
      ],
      "text/latex": [
       "\\begin{enumerate*}\n",
       "\\item 1664.81\n",
       "\\item 2397.53\n",
       "\\item 2840.71\n",
       "\\item 3547.29\n",
       "\\item 3752.96\n",
       "\\item 3714.74\n",
       "\\item 4349.61\n",
       "\\item 3566.34\n",
       "\\item 5021.82\n",
       "\\item 6423.48\n",
       "\\item 7600.6\n",
       "\\item 19756.21\n",
       "\\item 2499.81\n",
       "\\item 5198.24\n",
       "\\item 7225.14\n",
       "\\item 4806.03\n",
       "\\item 5900.88\n",
       "\\item 4951.34\n",
       "\\item 6179.12\n",
       "\\item 4752.15\n",
       "\\item 5496.43\n",
       "\\item 5835.1\n",
       "\\item 12600.08\n",
       "\\item 28541.72\n",
       "\\item 4717.02\n",
       "\\item 5702.63\n",
       "\\item 9957.58\n",
       "\\item 5304.78\n",
       "\\item 6492.43\n",
       "\\item 6630.8\n",
       "\\item 7349.62\n",
       "\\item 8176.62\n",
       "\\item 8573.17\n",
       "\\item 9690.5\n",
       "\\item 15151.84\n",
       "\\item 34061.01\n",
       "\\item 5921.1\n",
       "\\item 5814.58\n",
       "\\item 12421.25\n",
       "\\item 6369.77\n",
       "\\item 7609.12\n",
       "\\item 7224.75\n",
       "\\item 8121.22\n",
       "\\item 7979.25\n",
       "\\item 8093.06\n",
       "\\item 8476.7\n",
       "\\item 17914.66\n",
       "\\item 30114.41\n",
       "\\item 4826.64\n",
       "\\item 6470.23\n",
       "\\item 9638.77\n",
       "\\item 8821.17\n",
       "\\item 8722.37\n",
       "\\item 10209.48\n",
       "\\item 11276.55\n",
       "\\item 12552.22\n",
       "\\item 11637.39\n",
       "\\item 13606.89\n",
       "\\item 21822.11\n",
       "\\item 45060.69\n",
       "\\item 7615.03\n",
       "\\item 9849.69\n",
       "\\item 14558.4\n",
       "\\item 11587.33\n",
       "\\item 9332.56\n",
       "\\item 13082.09\n",
       "\\item 16732.78\n",
       "\\item 19888.61\n",
       "\\item 23933.38\n",
       "\\item 25391.35\n",
       "\\item 36024.8\n",
       "\\item 80721.71\n",
       "\\item 10243.24\n",
       "\\item 11266.88\n",
       "\\item 21826.84\n",
       "\\item 17357.33\n",
       "\\item 15997.79\n",
       "\\item 18601.53\n",
       "\\item 26155.15\n",
       "\\item 28586.52\n",
       "\\item 30505.41\n",
       "\\item 30821.33\n",
       "\\item 46634.38\n",
       "\\item 104660.67\n",
       "\\end{enumerate*}\n"
      ],
      "text/markdown": [
       "1. 1664.81\n",
       "2. 2397.53\n",
       "3. 2840.71\n",
       "4. 3547.29\n",
       "5. 3752.96\n",
       "6. 3714.74\n",
       "7. 4349.61\n",
       "8. 3566.34\n",
       "9. 5021.82\n",
       "10. 6423.48\n",
       "11. 7600.6\n",
       "12. 19756.21\n",
       "13. 2499.81\n",
       "14. 5198.24\n",
       "15. 7225.14\n",
       "16. 4806.03\n",
       "17. 5900.88\n",
       "18. 4951.34\n",
       "19. 6179.12\n",
       "20. 4752.15\n",
       "21. 5496.43\n",
       "22. 5835.1\n",
       "23. 12600.08\n",
       "24. 28541.72\n",
       "25. 4717.02\n",
       "26. 5702.63\n",
       "27. 9957.58\n",
       "28. 5304.78\n",
       "29. 6492.43\n",
       "30. 6630.8\n",
       "31. 7349.62\n",
       "32. 8176.62\n",
       "33. 8573.17\n",
       "34. 9690.5\n",
       "35. 15151.84\n",
       "36. 34061.01\n",
       "37. 5921.1\n",
       "38. 5814.58\n",
       "39. 12421.25\n",
       "40. 6369.77\n",
       "41. 7609.12\n",
       "42. 7224.75\n",
       "43. 8121.22\n",
       "44. 7979.25\n",
       "45. 8093.06\n",
       "46. 8476.7\n",
       "47. 17914.66\n",
       "48. 30114.41\n",
       "49. 4826.64\n",
       "50. 6470.23\n",
       "51. 9638.77\n",
       "52. 8821.17\n",
       "53. 8722.37\n",
       "54. 10209.48\n",
       "55. 11276.55\n",
       "56. 12552.22\n",
       "57. 11637.39\n",
       "58. 13606.89\n",
       "59. 21822.11\n",
       "60. 45060.69\n",
       "61. 7615.03\n",
       "62. 9849.69\n",
       "63. 14558.4\n",
       "64. 11587.33\n",
       "65. 9332.56\n",
       "66. 13082.09\n",
       "67. 16732.78\n",
       "68. 19888.61\n",
       "69. 23933.38\n",
       "70. 25391.35\n",
       "71. 36024.8\n",
       "72. 80721.71\n",
       "73. 10243.24\n",
       "74. 11266.88\n",
       "75. 21826.84\n",
       "76. 17357.33\n",
       "77. 15997.79\n",
       "78. 18601.53\n",
       "79. 26155.15\n",
       "80. 28586.52\n",
       "81. 30505.41\n",
       "82. 30821.33\n",
       "83. 46634.38\n",
       "84. 104660.67\n",
       "\n",
       "\n"
      ],
      "text/plain": [
       " [1]   1664.81   2397.53   2840.71   3547.29   3752.96   3714.74   4349.61\n",
       " [8]   3566.34   5021.82   6423.48   7600.60  19756.21   2499.81   5198.24\n",
       "[15]   7225.14   4806.03   5900.88   4951.34   6179.12   4752.15   5496.43\n",
       "[22]   5835.10  12600.08  28541.72   4717.02   5702.63   9957.58   5304.78\n",
       "[29]   6492.43   6630.80   7349.62   8176.62   8573.17   9690.50  15151.84\n",
       "[36]  34061.01   5921.10   5814.58  12421.25   6369.77   7609.12   7224.75\n",
       "[43]   8121.22   7979.25   8093.06   8476.70  17914.66  30114.41   4826.64\n",
       "[50]   6470.23   9638.77   8821.17   8722.37  10209.48  11276.55  12552.22\n",
       "[57]  11637.39  13606.89  21822.11  45060.69   7615.03   9849.69  14558.40\n",
       "[64]  11587.33   9332.56  13082.09  16732.78  19888.61  23933.38  25391.35\n",
       "[71]  36024.80  80721.71  10243.24  11266.88  21826.84  17357.33  15997.79\n",
       "[78]  18601.53  26155.15  28586.52  30505.41  30821.33  46634.38 104660.67"
      ]
     },
     "metadata": {},
     "output_type": "display_data"
    }
   ],
   "source": [
    "souvenir"
   ]
  },
  {
   "cell_type": "code",
   "execution_count": 3,
   "metadata": {},
   "outputs": [
    {
     "data": {
      "text/html": [
       "<table>\n",
       "<caption>A Time Series: 7 × 12</caption>\n",
       "<thead>\n",
       "\t<tr><th></th><th scope=col>Jan</th><th scope=col>Feb</th><th scope=col>Mar</th><th scope=col>Apr</th><th scope=col>May</th><th scope=col>Jun</th><th scope=col>Jul</th><th scope=col>Aug</th><th scope=col>Sep</th><th scope=col>Oct</th><th scope=col>Nov</th><th scope=col>Dec</th></tr>\n",
       "</thead>\n",
       "<tbody>\n",
       "\t<tr><th scope=row>1987</th><td>  1664.81</td><td>  2397.53</td><td>  2840.71</td><td>  3547.29</td><td>  3752.96</td><td>  3714.74</td><td>  4349.61</td><td>  3566.34</td><td>  5021.82</td><td>  6423.48</td><td>  7600.60</td><td> 19756.21</td></tr>\n",
       "\t<tr><th scope=row>1988</th><td>  2499.81</td><td>  5198.24</td><td>  7225.14</td><td>  4806.03</td><td>  5900.88</td><td>  4951.34</td><td>  6179.12</td><td>  4752.15</td><td>  5496.43</td><td>  5835.10</td><td> 12600.08</td><td> 28541.72</td></tr>\n",
       "\t<tr><th scope=row>1989</th><td>  4717.02</td><td>  5702.63</td><td>  9957.58</td><td>  5304.78</td><td>  6492.43</td><td>  6630.80</td><td>  7349.62</td><td>  8176.62</td><td>  8573.17</td><td>  9690.50</td><td> 15151.84</td><td> 34061.01</td></tr>\n",
       "\t<tr><th scope=row>1990</th><td>  5921.10</td><td>  5814.58</td><td> 12421.25</td><td>  6369.77</td><td>  7609.12</td><td>  7224.75</td><td>  8121.22</td><td>  7979.25</td><td>  8093.06</td><td>  8476.70</td><td> 17914.66</td><td> 30114.41</td></tr>\n",
       "\t<tr><th scope=row>1991</th><td>  4826.64</td><td>  6470.23</td><td>  9638.77</td><td>  8821.17</td><td>  8722.37</td><td> 10209.48</td><td> 11276.55</td><td> 12552.22</td><td> 11637.39</td><td> 13606.89</td><td> 21822.11</td><td> 45060.69</td></tr>\n",
       "\t<tr><th scope=row>1992</th><td>  7615.03</td><td>  9849.69</td><td> 14558.40</td><td> 11587.33</td><td>  9332.56</td><td> 13082.09</td><td> 16732.78</td><td> 19888.61</td><td> 23933.38</td><td> 25391.35</td><td> 36024.80</td><td> 80721.71</td></tr>\n",
       "\t<tr><th scope=row>1993</th><td> 10243.24</td><td> 11266.88</td><td> 21826.84</td><td> 17357.33</td><td> 15997.79</td><td> 18601.53</td><td> 26155.15</td><td> 28586.52</td><td> 30505.41</td><td> 30821.33</td><td> 46634.38</td><td>104660.67</td></tr>\n",
       "</tbody>\n",
       "</table>\n"
      ],
      "text/latex": [
       "A Time Series: 7 × 12\n",
       "\\begin{tabular}{r|llllllllllll}\n",
       "  & Jan & Feb & Mar & Apr & May & Jun & Jul & Aug & Sep & Oct & Nov & Dec\\\\\n",
       "\\hline\n",
       "\t1987 &   1664.81 &   2397.53 &   2840.71 &   3547.29 &   3752.96 &   3714.74 &   4349.61 &   3566.34 &   5021.82 &   6423.48 &   7600.60 &  19756.21\\\\\n",
       "\t1988 &   2499.81 &   5198.24 &   7225.14 &   4806.03 &   5900.88 &   4951.34 &   6179.12 &   4752.15 &   5496.43 &   5835.10 &  12600.08 &  28541.72\\\\\n",
       "\t1989 &   4717.02 &   5702.63 &   9957.58 &   5304.78 &   6492.43 &   6630.80 &   7349.62 &   8176.62 &   8573.17 &   9690.50 &  15151.84 &  34061.01\\\\\n",
       "\t1990 &   5921.10 &   5814.58 &  12421.25 &   6369.77 &   7609.12 &   7224.75 &   8121.22 &   7979.25 &   8093.06 &   8476.70 &  17914.66 &  30114.41\\\\\n",
       "\t1991 &   4826.64 &   6470.23 &   9638.77 &   8821.17 &   8722.37 &  10209.48 &  11276.55 &  12552.22 &  11637.39 &  13606.89 &  21822.11 &  45060.69\\\\\n",
       "\t1992 &   7615.03 &   9849.69 &  14558.40 &  11587.33 &   9332.56 &  13082.09 &  16732.78 &  19888.61 &  23933.38 &  25391.35 &  36024.80 &  80721.71\\\\\n",
       "\t1993 &  10243.24 &  11266.88 &  21826.84 &  17357.33 &  15997.79 &  18601.53 &  26155.15 &  28586.52 &  30505.41 &  30821.33 &  46634.38 & 104660.67\\\\\n",
       "\\end{tabular}\n"
      ],
      "text/markdown": [
       "\n",
       "A Time Series: 7 × 12\n",
       "\n",
       "| <!--/--> | Jan | Feb | Mar | Apr | May | Jun | Jul | Aug | Sep | Oct | Nov | Dec |\n",
       "|---|---|---|---|---|---|---|---|---|---|---|---|---|\n",
       "| 1987 |   1664.81 |   2397.53 |   2840.71 |   3547.29 |   3752.96 |   3714.74 |   4349.61 |   3566.34 |   5021.82 |   6423.48 |   7600.60 |  19756.21 |\n",
       "| 1988 |   2499.81 |   5198.24 |   7225.14 |   4806.03 |   5900.88 |   4951.34 |   6179.12 |   4752.15 |   5496.43 |   5835.10 |  12600.08 |  28541.72 |\n",
       "| 1989 |   4717.02 |   5702.63 |   9957.58 |   5304.78 |   6492.43 |   6630.80 |   7349.62 |   8176.62 |   8573.17 |   9690.50 |  15151.84 |  34061.01 |\n",
       "| 1990 |   5921.10 |   5814.58 |  12421.25 |   6369.77 |   7609.12 |   7224.75 |   8121.22 |   7979.25 |   8093.06 |   8476.70 |  17914.66 |  30114.41 |\n",
       "| 1991 |   4826.64 |   6470.23 |   9638.77 |   8821.17 |   8722.37 |  10209.48 |  11276.55 |  12552.22 |  11637.39 |  13606.89 |  21822.11 |  45060.69 |\n",
       "| 1992 |   7615.03 |   9849.69 |  14558.40 |  11587.33 |   9332.56 |  13082.09 |  16732.78 |  19888.61 |  23933.38 |  25391.35 |  36024.80 |  80721.71 |\n",
       "| 1993 |  10243.24 |  11266.88 |  21826.84 |  17357.33 |  15997.79 |  18601.53 |  26155.15 |  28586.52 |  30505.41 |  30821.33 |  46634.38 | 104660.67 |\n",
       "\n"
      ],
      "text/plain": [
       "     Jan       Feb       Mar       Apr       May       Jun       Jul      \n",
       "1987   1664.81   2397.53   2840.71   3547.29   3752.96   3714.74   4349.61\n",
       "1988   2499.81   5198.24   7225.14   4806.03   5900.88   4951.34   6179.12\n",
       "1989   4717.02   5702.63   9957.58   5304.78   6492.43   6630.80   7349.62\n",
       "1990   5921.10   5814.58  12421.25   6369.77   7609.12   7224.75   8121.22\n",
       "1991   4826.64   6470.23   9638.77   8821.17   8722.37  10209.48  11276.55\n",
       "1992   7615.03   9849.69  14558.40  11587.33   9332.56  13082.09  16732.78\n",
       "1993  10243.24  11266.88  21826.84  17357.33  15997.79  18601.53  26155.15\n",
       "     Aug       Sep       Oct       Nov       Dec      \n",
       "1987   3566.34   5021.82   6423.48   7600.60  19756.21\n",
       "1988   4752.15   5496.43   5835.10  12600.08  28541.72\n",
       "1989   8176.62   8573.17   9690.50  15151.84  34061.01\n",
       "1990   7979.25   8093.06   8476.70  17914.66  30114.41\n",
       "1991  12552.22  11637.39  13606.89  21822.11  45060.69\n",
       "1992  19888.61  23933.38  25391.35  36024.80  80721.71\n",
       "1993  28586.52  30505.41  30821.33  46634.38 104660.67"
      ]
     },
     "metadata": {},
     "output_type": "display_data"
    }
   ],
   "source": [
    "ts_data<-ts(souvenir, start=c(1987,1), frequency = 12)\n",
    "ts_data"
   ]
  },
  {
   "cell_type": "code",
   "execution_count": 4,
   "metadata": {},
   "outputs": [
    {
     "data": {
      "text/html": [
       "<table>\n",
       "<caption>A Time Series: 6 × 12</caption>\n",
       "<thead>\n",
       "\t<tr><th></th><th scope=col>Jan</th><th scope=col>Feb</th><th scope=col>Mar</th><th scope=col>Apr</th><th scope=col>May</th><th scope=col>Jun</th><th scope=col>Jul</th><th scope=col>Aug</th><th scope=col>Sep</th><th scope=col>Oct</th><th scope=col>Nov</th><th scope=col>Dec</th></tr>\n",
       "</thead>\n",
       "<tbody>\n",
       "\t<tr><th scope=row>1987</th><td> 1664.81</td><td> 2397.53</td><td> 2840.71</td><td> 3547.29</td><td> 3752.96</td><td> 3714.74</td><td> 4349.61</td><td> 3566.34</td><td> 5021.82</td><td> 6423.48</td><td> 7600.60</td><td>19756.21</td></tr>\n",
       "\t<tr><th scope=row>1988</th><td> 2499.81</td><td> 5198.24</td><td> 7225.14</td><td> 4806.03</td><td> 5900.88</td><td> 4951.34</td><td> 6179.12</td><td> 4752.15</td><td> 5496.43</td><td> 5835.10</td><td>12600.08</td><td>28541.72</td></tr>\n",
       "\t<tr><th scope=row>1989</th><td> 4717.02</td><td> 5702.63</td><td> 9957.58</td><td> 5304.78</td><td> 6492.43</td><td> 6630.80</td><td> 7349.62</td><td> 8176.62</td><td> 8573.17</td><td> 9690.50</td><td>15151.84</td><td>34061.01</td></tr>\n",
       "\t<tr><th scope=row>1990</th><td> 5921.10</td><td> 5814.58</td><td>12421.25</td><td> 6369.77</td><td> 7609.12</td><td> 7224.75</td><td> 8121.22</td><td> 7979.25</td><td> 8093.06</td><td> 8476.70</td><td>17914.66</td><td>30114.41</td></tr>\n",
       "\t<tr><th scope=row>1991</th><td> 4826.64</td><td> 6470.23</td><td> 9638.77</td><td> 8821.17</td><td> 8722.37</td><td>10209.48</td><td>11276.55</td><td>12552.22</td><td>11637.39</td><td>13606.89</td><td>21822.11</td><td>45060.69</td></tr>\n",
       "\t<tr><th scope=row>1992</th><td> 7615.03</td><td> 9849.69</td><td>14558.40</td><td>11587.33</td><td> 9332.56</td><td>        </td><td>        </td><td>        </td><td>        </td><td>        </td><td>        </td><td>        </td></tr>\n",
       "</tbody>\n",
       "</table>\n"
      ],
      "text/latex": [
       "A Time Series: 6 × 12\n",
       "\\begin{tabular}{r|llllllllllll}\n",
       "  & Jan & Feb & Mar & Apr & May & Jun & Jul & Aug & Sep & Oct & Nov & Dec\\\\\n",
       "\\hline\n",
       "\t1987 &  1664.81 &  2397.53 &  2840.71 &  3547.29 &  3752.96 &  3714.74 &  4349.61 &  3566.34 &  5021.82 &  6423.48 &  7600.60 & 19756.21\\\\\n",
       "\t1988 &  2499.81 &  5198.24 &  7225.14 &  4806.03 &  5900.88 &  4951.34 &  6179.12 &  4752.15 &  5496.43 &  5835.10 & 12600.08 & 28541.72\\\\\n",
       "\t1989 &  4717.02 &  5702.63 &  9957.58 &  5304.78 &  6492.43 &  6630.80 &  7349.62 &  8176.62 &  8573.17 &  9690.50 & 15151.84 & 34061.01\\\\\n",
       "\t1990 &  5921.10 &  5814.58 & 12421.25 &  6369.77 &  7609.12 &  7224.75 &  8121.22 &  7979.25 &  8093.06 &  8476.70 & 17914.66 & 30114.41\\\\\n",
       "\t1991 &  4826.64 &  6470.23 &  9638.77 &  8821.17 &  8722.37 & 10209.48 & 11276.55 & 12552.22 & 11637.39 & 13606.89 & 21822.11 & 45060.69\\\\\n",
       "\t1992 &  7615.03 &  9849.69 & 14558.40 & 11587.33 &  9332.56 &          &          &          &          &          &          &         \\\\\n",
       "\\end{tabular}\n"
      ],
      "text/markdown": [
       "\n",
       "A Time Series: 6 × 12\n",
       "\n",
       "| <!--/--> | Jan | Feb | Mar | Apr | May | Jun | Jul | Aug | Sep | Oct | Nov | Dec |\n",
       "|---|---|---|---|---|---|---|---|---|---|---|---|---|\n",
       "| 1987 |  1664.81 |  2397.53 |  2840.71 |  3547.29 |  3752.96 |  3714.74 |  4349.61 |  3566.34 |  5021.82 |  6423.48 |  7600.60 | 19756.21 |\n",
       "| 1988 |  2499.81 |  5198.24 |  7225.14 |  4806.03 |  5900.88 |  4951.34 |  6179.12 |  4752.15 |  5496.43 |  5835.10 | 12600.08 | 28541.72 |\n",
       "| 1989 |  4717.02 |  5702.63 |  9957.58 |  5304.78 |  6492.43 |  6630.80 |  7349.62 |  8176.62 |  8573.17 |  9690.50 | 15151.84 | 34061.01 |\n",
       "| 1990 |  5921.10 |  5814.58 | 12421.25 |  6369.77 |  7609.12 |  7224.75 |  8121.22 |  7979.25 |  8093.06 |  8476.70 | 17914.66 | 30114.41 |\n",
       "| 1991 |  4826.64 |  6470.23 |  9638.77 |  8821.17 |  8722.37 | 10209.48 | 11276.55 | 12552.22 | 11637.39 | 13606.89 | 21822.11 | 45060.69 |\n",
       "| 1992 |  7615.03 |  9849.69 | 14558.40 | 11587.33 |  9332.56 | <!----> | <!----> | <!----> | <!----> | <!----> | <!----> | <!----> |\n",
       "\n"
      ],
      "text/plain": [
       "     Jan      Feb      Mar      Apr      May      Jun      Jul      Aug     \n",
       "1987  1664.81  2397.53  2840.71  3547.29  3752.96  3714.74  4349.61  3566.34\n",
       "1988  2499.81  5198.24  7225.14  4806.03  5900.88  4951.34  6179.12  4752.15\n",
       "1989  4717.02  5702.63  9957.58  5304.78  6492.43  6630.80  7349.62  8176.62\n",
       "1990  5921.10  5814.58 12421.25  6369.77  7609.12  7224.75  8121.22  7979.25\n",
       "1991  4826.64  6470.23  9638.77  8821.17  8722.37 10209.48 11276.55 12552.22\n",
       "1992  7615.03  9849.69 14558.40 11587.33  9332.56                           \n",
       "     Sep      Oct      Nov      Dec     \n",
       "1987  5021.82  6423.48  7600.60 19756.21\n",
       "1988  5496.43  5835.10 12600.08 28541.72\n",
       "1989  8573.17  9690.50 15151.84 34061.01\n",
       "1990  8093.06  8476.70 17914.66 30114.41\n",
       "1991 11637.39 13606.89 21822.11 45060.69\n",
       "1992                                    "
      ]
     },
     "metadata": {},
     "output_type": "display_data"
    },
    {
     "data": {
      "text/html": [
       "<table>\n",
       "<caption>A Time Series: 2 × 12</caption>\n",
       "<thead>\n",
       "\t<tr><th></th><th scope=col>Jan</th><th scope=col>Feb</th><th scope=col>Mar</th><th scope=col>Apr</th><th scope=col>May</th><th scope=col>Jun</th><th scope=col>Jul</th><th scope=col>Aug</th><th scope=col>Sep</th><th scope=col>Oct</th><th scope=col>Nov</th><th scope=col>Dec</th></tr>\n",
       "</thead>\n",
       "<tbody>\n",
       "\t<tr><th scope=row>1992</th><td>         </td><td>         </td><td>         </td><td>         </td><td>         </td><td> 13082.09</td><td> 16732.78</td><td> 19888.61</td><td> 23933.38</td><td> 25391.35</td><td> 36024.80</td><td> 80721.71</td></tr>\n",
       "\t<tr><th scope=row>1993</th><td> 10243.24</td><td> 11266.88</td><td> 21826.84</td><td> 17357.33</td><td> 15997.79</td><td> 18601.53</td><td> 26155.15</td><td> 28586.52</td><td> 30505.41</td><td> 30821.33</td><td> 46634.38</td><td>104660.67</td></tr>\n",
       "</tbody>\n",
       "</table>\n"
      ],
      "text/latex": [
       "A Time Series: 2 × 12\n",
       "\\begin{tabular}{r|llllllllllll}\n",
       "  & Jan & Feb & Mar & Apr & May & Jun & Jul & Aug & Sep & Oct & Nov & Dec\\\\\n",
       "\\hline\n",
       "\t1992 &           &           &           &           &           &  13082.09 &  16732.78 &  19888.61 &  23933.38 &  25391.35 &  36024.80 &  80721.71\\\\\n",
       "\t1993 &  10243.24 &  11266.88 &  21826.84 &  17357.33 &  15997.79 &  18601.53 &  26155.15 &  28586.52 &  30505.41 &  30821.33 &  46634.38 & 104660.67\\\\\n",
       "\\end{tabular}\n"
      ],
      "text/markdown": [
       "\n",
       "A Time Series: 2 × 12\n",
       "\n",
       "| <!--/--> | Jan | Feb | Mar | Apr | May | Jun | Jul | Aug | Sep | Oct | Nov | Dec |\n",
       "|---|---|---|---|---|---|---|---|---|---|---|---|---|\n",
       "| 1992 | <!----> | <!----> | <!----> | <!----> | <!----> |  13082.09 |  16732.78 |  19888.61 |  23933.38 |  25391.35 |  36024.80 |  80721.71 |\n",
       "| 1993 |  10243.24 |  11266.88 |  21826.84 |  17357.33 |  15997.79 |  18601.53 |  26155.15 |  28586.52 |  30505.41 |  30821.33 |  46634.38 | 104660.67 |\n",
       "\n"
      ],
      "text/plain": [
       "     Jan       Feb       Mar       Apr       May       Jun       Jul      \n",
       "1992                                                    13082.09  16732.78\n",
       "1993  10243.24  11266.88  21826.84  17357.33  15997.79  18601.53  26155.15\n",
       "     Aug       Sep       Oct       Nov       Dec      \n",
       "1992  19888.61  23933.38  25391.35  36024.80  80721.71\n",
       "1993  28586.52  30505.41  30821.33  46634.38 104660.67"
      ]
     },
     "metadata": {},
     "output_type": "display_data"
    }
   ],
   "source": [
    "#split tran, test data\n",
    "train<-window(ts_data, end=c(1992,5))\n",
    "test<-window(ts_data, start=c(1992,6), end=c(1993,12))\n",
    "train\n",
    "test"
   ]
  },
  {
   "cell_type": "code",
   "execution_count": 5,
   "metadata": {},
   "outputs": [
    {
     "data": {
      "image/png": "[encoded data removed]",
      "text/plain": [
       "plot without title"
      ]
     },
     "metadata": {
      "image/png": {
       "height": 420,
       "width": 420
      }
     },
     "output_type": "display_data"
    }
   ],
   "source": [
    "# check stationary of train\n",
    "ggtsdisplay(train)"
   ]
  },
  {
   "cell_type": "code",
   "execution_count": 6,
   "metadata": {},
   "outputs": [
    {
     "data": {
      "image/png": "[encoded data removed]",
      "text/plain": [
       "plot without title"
      ]
     },
     "metadata": {
      "image/png": {
       "height": 420,
       "width": 420
      }
     },
     "output_type": "display_data"
    }
   ],
   "source": [
    "# 분산 안정화시켜서 해보기\n",
    "ggtsdisplay(log(train))"
   ]
  },
  {
   "cell_type": "code",
   "execution_count": 7,
   "metadata": {},
   "outputs": [
    {
     "data": {
      "text/plain": [
       "\n",
       "####################### \n",
       "# KPSS Unit Root Test # \n",
       "####################### \n",
       "\n",
       "Test is of type: mu with 3 lags. \n",
       "\n",
       "Value of test-statistic is: 0.7768 \n",
       "\n",
       "Critical value for a significance level of: \n",
       "                10pct  5pct 2.5pct  1pct\n",
       "critical values 0.347 0.463  0.574 0.739\n"
      ]
     },
     "metadata": {},
     "output_type": "display_data"
    },
    {
     "data": {
      "text/plain": [
       "\n",
       "####################### \n",
       "# KPSS Unit Root Test # \n",
       "####################### \n",
       "\n",
       "Test is of type: mu with 3 lags. \n",
       "\n",
       "Value of test-statistic is: 1.1677 \n",
       "\n",
       "Critical value for a significance level of: \n",
       "                10pct  5pct 2.5pct  1pct\n",
       "critical values 0.347 0.463  0.574 0.739\n"
      ]
     },
     "metadata": {},
     "output_type": "display_data"
    }
   ],
   "source": [
    "# KPSS검정\n",
    "library(urca)\n",
    "# 원데이터 KPSS검정\n",
    "summary(ur.kpss(train))\n",
    "\n",
    "# 분산안정화한 데이터 KPSS검정\n",
    "summary(ur.kpss(log(train)))"
   ]
  },
  {
   "cell_type": "code",
   "execution_count": 9,
   "metadata": {},
   "outputs": [
    {
     "data": {
      "image/png": "[encoded data removed]",
      "text/plain": [
       "plot without title"
      ]
     },
     "metadata": {
      "image/png": {
       "height": 420,
       "width": 420
      }
     },
     "output_type": "display_data"
    },
    {
     "data": {
      "image/png": "[encoded data removed]",
      "text/plain": [
       "plot without title"
      ]
     },
     "metadata": {
      "image/png": {
       "height": 420,
       "width": 420
      }
     },
     "output_type": "display_data"
    }
   ],
   "source": [
    "# 원 데이터 1번 차분해서 살펴보기\n",
    "ggtsdisplay(diff(train))\n",
    "\n",
    "# 원 데이터 계절적 1번 차분해서 살펴보기\n",
    "ggtsdisplay(diff(train, lag=12))"
   ]
  },
  {
   "cell_type": "code",
   "execution_count": 10,
   "metadata": {},
   "outputs": [
    {
     "data": {
      "text/html": [
       "1"
      ],
      "text/latex": [
       "1"
      ],
      "text/markdown": [
       "1"
      ],
      "text/plain": [
       "[1] 1"
      ]
     },
     "metadata": {},
     "output_type": "display_data"
    },
    {
     "data": {
      "text/html": [
       "1"
      ],
      "text/latex": [
       "1"
      ],
      "text/markdown": [
       "1"
      ],
      "text/plain": [
       "[1] 1"
      ]
     },
     "metadata": {},
     "output_type": "display_data"
    }
   ],
   "source": [
    "# 추천해주는 차분횟수 살펴보기\n",
    "ndiffs(train)\n",
    "nsdiffs(train)"
   ]
  },
  {
   "cell_type": "code",
   "execution_count": 12,
   "metadata": {},
   "outputs": [
    {
     "data": {
      "text/plain": [
       "\n",
       "####################### \n",
       "# KPSS Unit Root Test # \n",
       "####################### \n",
       "\n",
       "Test is of type: mu with 3 lags. \n",
       "\n",
       "Value of test-statistic is: 0.0563 \n",
       "\n",
       "Critical value for a significance level of: \n",
       "                10pct  5pct 2.5pct  1pct\n",
       "critical values 0.347 0.463  0.574 0.739\n"
      ]
     },
     "metadata": {},
     "output_type": "display_data"
    }
   ],
   "source": [
    "# KPSS 검정\n",
    "summary(ur.kpss(sdiff_ts))"
   ]
  },
  {
   "cell_type": "code",
   "execution_count": 11,
   "metadata": {},
   "outputs": [
    {
     "data": {
      "image/png": "[encoded data removed]",
      "text/plain": [
       "plot without title"
      ]
     },
     "metadata": {
      "image/png": {
       "height": 420,
       "width": 420
      }
     },
     "output_type": "display_data"
    }
   ],
   "source": [
    "# 계절 차분 1회 + 일반 차분 1회 해서 살펴보기\n",
    "diff_ts<-diff(train)\n",
    "sdiff_ts<-diff(diff_ts, lag=12)\n",
    "ggtsdisplay(sdiff_ts)"
   ]
  },
  {
   "cell_type": "markdown",
   "metadata": {},
   "source": [
    "# ARIMA 모델 후보\n",
    "   - ACF함수에서 주기 lag시점에서는 튄거 없고 그냥 일반적으로 팍 튄 막대가 하나 있기 때문에 MA(1)\n",
    "   - PACF함수에서도 주기 lag시점에서는 튄거 없고 그냥 일반적으로 팍 튄 막대가 하나 또는 둘 AR(1) or AR(2)\n",
    "   - 그러므로 SARMIA 모델에서 AR,MA는 모두 0으로!\n",
    "    \n",
    "   - <모델 후보> - 일반 차분1회, 계절 차분1회 해야함!\n",
    "       * ARIMA(1,1,1) SARIMA(0,1,0)\n",
    "       * ARIMA(2,1,1) SARIMA(0,1,0)\n"
   ]
  },
  {
   "cell_type": "code",
   "execution_count": 14,
   "metadata": {},
   "outputs": [
    {
     "data": {
      "text/plain": [
       "Series: train \n",
       "ARIMA(1,1,1)(0,1,0)[12] \n",
       "\n",
       "Coefficients:\n",
       "          ar1      ma1\n",
       "      -0.0217  -0.6796\n",
       "s.e.   0.2500   0.2171\n",
       "\n",
       "sigma^2 estimated as 7706185:  log likelihood=-485.39\n",
       "AIC=976.77   AICc=977.27   BIC=982.63"
      ]
     },
     "metadata": {},
     "output_type": "display_data"
    },
    {
     "data": {
      "text/plain": [
       "Series: train \n",
       "ARIMA(2,1,1)(0,1,0)[12] \n",
       "\n",
       "Coefficients:\n",
       "          ar1      ar2      ma1\n",
       "      -0.3085  -0.1925  -0.3823\n",
       "s.e.   0.4628   0.2865   0.4815\n",
       "\n",
       "sigma^2 estimated as 7838848:  log likelihood=-485.27\n",
       "AIC=978.53   AICc=979.39   BIC=986.34"
      ]
     },
     "metadata": {},
     "output_type": "display_data"
    },
    {
     "data": {
      "text/plain": [
       "Series: train \n",
       "ARIMA(1,0,0)(1,1,0)[12] with drift \n",
       "\n",
       "Coefficients:\n",
       "         ar1     sar1     drift\n",
       "      0.2570  -0.4955  160.3297\n",
       "s.e.  0.1326   0.1538   26.8398\n",
       "\n",
       "sigma^2 estimated as 6042567:  log likelihood=-489.16\n",
       "AIC=986.33   AICc=987.16   BIC=994.21"
      ]
     },
     "metadata": {},
     "output_type": "display_data"
    }
   ],
   "source": [
    "arima_1<-Arima(train, order=c(1,1,1), seasonal=c(0,1,0))\n",
    "arima_2<-Arima(train, order=c(2,1,1), seasonal=c(0,1,0))\n",
    "arima_3<-auto.arima(train)\n",
    "\n",
    "# 적합된 모델을 파라미터와 AICc값 확인 # 둘다 차분한 모델이니 C(상수)값은 0! -> 정보손실값이 가장 낮음!!\n",
    "arima_1\n",
    "# (1 - (-0.0217)*B)(1-B)^1*yt-1 =  0 + (1 + (-0.6796)*B)εt\n",
    "arima_2\n",
    "# (1 - (-0.3085)*B - (-0.1925)*B^2)(1-B)^1*yt = 0 + (1 + (-0.3823)*B)εt\n",
    "arima_3\n",
    "# yt = 0.2570*yt-1 + εt + 160.3297"
   ]
  },
  {
   "cell_type": "code",
   "execution_count": 15,
   "metadata": {
    "scrolled": true
   },
   "outputs": [
    {
     "name": "stdout",
     "output_type": "stream",
     "text": [
      "\n",
      "\tLjung-Box test\n",
      "\n",
      "data:  Residuals from ARIMA(1,1,1)(0,1,0)[12]\n",
      "Q* = 7.6688, df = 11, p-value = 0.7426\n",
      "\n",
      "Model df: 2.   Total lags used: 13\n",
      "\n"
     ]
    },
    {
     "data": {
      "image/png": "[encoded data removed]",
      "text/plain": [
       "plot without title"
      ]
     },
     "metadata": {
      "image/png": {
       "height": 420,
       "width": 420
      }
     },
     "output_type": "display_data"
    },
    {
     "name": "stdout",
     "output_type": "stream",
     "text": [
      "\n",
      "\tLjung-Box test\n",
      "\n",
      "data:  Residuals from ARIMA(2,1,1)(0,1,0)[12]\n",
      "Q* = 6.596, df = 10, p-value = 0.763\n",
      "\n",
      "Model df: 3.   Total lags used: 13\n",
      "\n"
     ]
    },
    {
     "data": {
      "image/png": "[encoded data removed]",
      "text/plain": [
       "plot without title"
      ]
     },
     "metadata": {
      "image/png": {
       "height": 420,
       "width": 420
      }
     },
     "output_type": "display_data"
    },
    {
     "name": "stdout",
     "output_type": "stream",
     "text": [
      "\n",
      "\tLjung-Box test\n",
      "\n",
      "data:  Residuals from ARIMA(1,0,0)(1,1,0)[12] with drift\n",
      "Q* = 5.4909, df = 10, p-value = 0.8561\n",
      "\n",
      "Model df: 3.   Total lags used: 13\n",
      "\n"
     ]
    },
    {
     "data": {
      "image/png": "[encoded data removed]",
      "text/plain": [
       "plot without title"
      ]
     },
     "metadata": {
      "image/png": {
       "height": 420,
       "width": 420
      }
     },
     "output_type": "display_data"
    }
   ],
   "source": [
    "# 모델들 적합성 잔차를 통해서 비교해보기\n",
    "checkresiduals(arima_1)\n",
    "checkresiduals(arima_2)\n",
    "checkresiduals(arima_3)"
   ]
  },
  {
   "cell_type": "code",
   "execution_count": 16,
   "metadata": {},
   "outputs": [
    {
     "name": "stdout",
     "output_type": "stream",
     "text": [
      "Series: train \n",
      "ARIMA(1,1,1)(0,1,0)[12] \n",
      "\n",
      "Coefficients:\n",
      "          ar1      ma1\n",
      "      -0.0217  -0.6796\n",
      "s.e.   0.2500   0.2171\n",
      "\n",
      "sigma^2 estimated as 7706185:  log likelihood=-485.39\n",
      "AIC=976.77   AICc=977.27   BIC=982.63\n",
      "\n",
      "Training set error measures:\n",
      "                   ME     RMSE      MAE       MPE     MAPE      MASE\n",
      "Training set 77.88623 2434.714 1586.768 -4.194653 16.39776 0.6225906\n",
      "                     ACF1\n",
      "Training set -0.009297075\n",
      "Series: train \n",
      "ARIMA(2,1,1)(0,1,0)[12] \n",
      "\n",
      "Coefficients:\n",
      "          ar1      ar2      ma1\n",
      "      -0.3085  -0.1925  -0.3823\n",
      "s.e.   0.4628   0.2865   0.4815\n",
      "\n",
      "sigma^2 estimated as 7838848:  log likelihood=-485.27\n",
      "AIC=978.53   AICc=979.39   BIC=986.34\n",
      "\n",
      "Training set error measures:\n",
      "                   ME     RMSE      MAE       MPE     MAPE      MASE\n",
      "Training set 39.36029 2430.902 1572.301 -4.290815 16.20089 0.6169143\n",
      "                     ACF1\n",
      "Training set -0.003036564\n",
      "Series: train \n",
      "ARIMA(1,0,0)(1,1,0)[12] with drift \n",
      "\n",
      "Coefficients:\n",
      "         ar1     sar1     drift\n",
      "      0.2570  -0.4955  160.3297\n",
      "s.e.  0.1326   0.1538   26.8398\n",
      "\n",
      "sigma^2 estimated as 6042567:  log likelihood=-489.16\n",
      "AIC=986.33   AICc=987.16   BIC=994.21\n",
      "\n",
      "Training set error measures:\n",
      "                   ME     RMSE      MAE       MPE     MAPE      MASE\n",
      "Training set 32.90928 2155.952 1420.235 -5.537016 14.74204 0.5572492\n",
      "                    ACF1\n",
      "Training set -0.01734805\n"
     ]
    }
   ],
   "source": [
    "# RMSE값도 비교해보기\n",
    "summary(arima_1)\n",
    "summary(arima_2)\n",
    "summary(arima_3)"
   ]
  },
  {
   "cell_type": "code",
   "execution_count": 18,
   "metadata": {},
   "outputs": [
    {
     "data": {
      "text/html": [
       "<table>\n",
       "<caption>A matrix: 2 × 8 of type dbl</caption>\n",
       "<thead>\n",
       "\t<tr><th></th><th scope=col>ME</th><th scope=col>RMSE</th><th scope=col>MAE</th><th scope=col>MPE</th><th scope=col>MAPE</th><th scope=col>MASE</th><th scope=col>ACF1</th><th scope=col>Theil's U</th></tr>\n",
       "</thead>\n",
       "<tbody>\n",
       "\t<tr><th scope=row>Training set</th><td>   77.88623</td><td> 2434.714</td><td> 1586.768</td><td>-4.194653</td><td>16.39776</td><td>0.6225906</td><td>-0.009297075</td><td>       NA</td></tr>\n",
       "\t<tr><th scope=row>Test set</th><td>10067.89810</td><td>16280.822</td><td>10338.521</td><td>24.030086</td><td>26.43784</td><td>4.0564639</td><td> 0.206750224</td><td>0.8478243</td></tr>\n",
       "</tbody>\n",
       "</table>\n"
      ],
      "text/latex": [
       "A matrix: 2 × 8 of type dbl\n",
       "\\begin{tabular}{r|llllllll}\n",
       "  & ME & RMSE & MAE & MPE & MAPE & MASE & ACF1 & Theil's U\\\\\n",
       "\\hline\n",
       "\tTraining set &    77.88623 &  2434.714 &  1586.768 & -4.194653 & 16.39776 & 0.6225906 & -0.009297075 &        NA\\\\\n",
       "\tTest set & 10067.89810 & 16280.822 & 10338.521 & 24.030086 & 26.43784 & 4.0564639 &  0.206750224 & 0.8478243\\\\\n",
       "\\end{tabular}\n"
      ],
      "text/markdown": [
       "\n",
       "A matrix: 2 × 8 of type dbl\n",
       "\n",
       "| <!--/--> | ME | RMSE | MAE | MPE | MAPE | MASE | ACF1 | Theil's U |\n",
       "|---|---|---|---|---|---|---|---|---|\n",
       "| Training set |    77.88623 |  2434.714 |  1586.768 | -4.194653 | 16.39776 | 0.6225906 | -0.009297075 |        NA |\n",
       "| Test set | 10067.89810 | 16280.822 | 10338.521 | 24.030086 | 26.43784 | 4.0564639 |  0.206750224 | 0.8478243 |\n",
       "\n"
      ],
      "text/plain": [
       "             ME          RMSE      MAE       MPE       MAPE     MASE     \n",
       "Training set    77.88623  2434.714  1586.768 -4.194653 16.39776 0.6225906\n",
       "Test set     10067.89810 16280.822 10338.521 24.030086 26.43784 4.0564639\n",
       "             ACF1         Theil's U\n",
       "Training set -0.009297075        NA\n",
       "Test set      0.206750224 0.8478243"
      ]
     },
     "metadata": {},
     "output_type": "display_data"
    },
    {
     "data": {
      "text/html": [
       "<table>\n",
       "<caption>A matrix: 2 × 8 of type dbl</caption>\n",
       "<thead>\n",
       "\t<tr><th></th><th scope=col>ME</th><th scope=col>RMSE</th><th scope=col>MAE</th><th scope=col>MPE</th><th scope=col>MAPE</th><th scope=col>MASE</th><th scope=col>ACF1</th><th scope=col>Theil's U</th></tr>\n",
       "</thead>\n",
       "<tbody>\n",
       "\t<tr><th scope=row>Training set</th><td>   39.36029</td><td> 2430.902</td><td> 1572.301</td><td>-4.290815</td><td>16.20089</td><td>0.6169143</td><td>-0.003036564</td><td>       NA</td></tr>\n",
       "\t<tr><th scope=row>Test set</th><td>10942.15089</td><td>16964.628</td><td>11063.705</td><td>27.627535</td><td>28.69252</td><td>4.3409999</td><td> 0.217860303</td><td>0.9024598</td></tr>\n",
       "</tbody>\n",
       "</table>\n"
      ],
      "text/latex": [
       "A matrix: 2 × 8 of type dbl\n",
       "\\begin{tabular}{r|llllllll}\n",
       "  & ME & RMSE & MAE & MPE & MAPE & MASE & ACF1 & Theil's U\\\\\n",
       "\\hline\n",
       "\tTraining set &    39.36029 &  2430.902 &  1572.301 & -4.290815 & 16.20089 & 0.6169143 & -0.003036564 &        NA\\\\\n",
       "\tTest set & 10942.15089 & 16964.628 & 11063.705 & 27.627535 & 28.69252 & 4.3409999 &  0.217860303 & 0.9024598\\\\\n",
       "\\end{tabular}\n"
      ],
      "text/markdown": [
       "\n",
       "A matrix: 2 × 8 of type dbl\n",
       "\n",
       "| <!--/--> | ME | RMSE | MAE | MPE | MAPE | MASE | ACF1 | Theil's U |\n",
       "|---|---|---|---|---|---|---|---|---|\n",
       "| Training set |    39.36029 |  2430.902 |  1572.301 | -4.290815 | 16.20089 | 0.6169143 | -0.003036564 |        NA |\n",
       "| Test set | 10942.15089 | 16964.628 | 11063.705 | 27.627535 | 28.69252 | 4.3409999 |  0.217860303 | 0.9024598 |\n",
       "\n"
      ],
      "text/plain": [
       "             ME          RMSE      MAE       MPE       MAPE     MASE     \n",
       "Training set    39.36029  2430.902  1572.301 -4.290815 16.20089 0.6169143\n",
       "Test set     10942.15089 16964.628 11063.705 27.627535 28.69252 4.3409999\n",
       "             ACF1         Theil's U\n",
       "Training set -0.003036564        NA\n",
       "Test set      0.217860303 0.9024598"
      ]
     },
     "metadata": {},
     "output_type": "display_data"
    },
    {
     "data": {
      "text/html": [
       "<table>\n",
       "<caption>A matrix: 2 × 8 of type dbl</caption>\n",
       "<thead>\n",
       "\t<tr><th></th><th scope=col>ME</th><th scope=col>RMSE</th><th scope=col>MAE</th><th scope=col>MPE</th><th scope=col>MAPE</th><th scope=col>MASE</th><th scope=col>ACF1</th><th scope=col>Theil's U</th></tr>\n",
       "</thead>\n",
       "<tbody>\n",
       "\t<tr><th scope=row>Training set</th><td>   32.90928</td><td> 2155.952</td><td> 1420.235</td><td>-5.537016</td><td>14.74204</td><td>0.5572492</td><td>-0.01734805</td><td>      NA</td></tr>\n",
       "\t<tr><th scope=row>Test set</th><td>12889.27812</td><td>19055.903</td><td>12889.278</td><td>34.810382</td><td>34.81038</td><td>5.0572891</td><td> 0.18533214</td><td>1.044949</td></tr>\n",
       "</tbody>\n",
       "</table>\n"
      ],
      "text/latex": [
       "A matrix: 2 × 8 of type dbl\n",
       "\\begin{tabular}{r|llllllll}\n",
       "  & ME & RMSE & MAE & MPE & MAPE & MASE & ACF1 & Theil's U\\\\\n",
       "\\hline\n",
       "\tTraining set &    32.90928 &  2155.952 &  1420.235 & -5.537016 & 14.74204 & 0.5572492 & -0.01734805 &       NA\\\\\n",
       "\tTest set & 12889.27812 & 19055.903 & 12889.278 & 34.810382 & 34.81038 & 5.0572891 &  0.18533214 & 1.044949\\\\\n",
       "\\end{tabular}\n"
      ],
      "text/markdown": [
       "\n",
       "A matrix: 2 × 8 of type dbl\n",
       "\n",
       "| <!--/--> | ME | RMSE | MAE | MPE | MAPE | MASE | ACF1 | Theil's U |\n",
       "|---|---|---|---|---|---|---|---|---|\n",
       "| Training set |    32.90928 |  2155.952 |  1420.235 | -5.537016 | 14.74204 | 0.5572492 | -0.01734805 |       NA |\n",
       "| Test set | 12889.27812 | 19055.903 | 12889.278 | 34.810382 | 34.81038 | 5.0572891 |  0.18533214 | 1.044949 |\n",
       "\n"
      ],
      "text/plain": [
       "             ME          RMSE      MAE       MPE       MAPE     MASE     \n",
       "Training set    32.90928  2155.952  1420.235 -5.537016 14.74204 0.5572492\n",
       "Test set     12889.27812 19055.903 12889.278 34.810382 34.81038 5.0572891\n",
       "             ACF1        Theil's U\n",
       "Training set -0.01734805       NA \n",
       "Test set      0.18533214 1.044949 "
      ]
     },
     "metadata": {},
     "output_type": "display_data"
    }
   ],
   "source": [
    "# test 데이터로 예측값과 비교해보기\n",
    "for_arima1<-forecast(arima_1, h=19)\n",
    "for_arima2<-forecast(arima_2, h=19)\n",
    "for_arima3<-forecast(arima_3, h=19)\n",
    "\n",
    "accuracy(for_arima1, test)\n",
    "accuracy(for_arima2, test)\n",
    "accuracy(for_arima3, test)"
   ]
  },
  {
   "cell_type": "code",
   "execution_count": 21,
   "metadata": {},
   "outputs": [
    {
     "data": {
      "image/png": "[encoded data removed]",
      "text/plain": [
       "plot without title"
      ]
     },
     "metadata": {
      "image/png": {
       "height": 420,
       "width": 420
      }
     },
     "output_type": "display_data"
    }
   ],
   "source": [
    "# arima1과 arima2 모델 두 개가 RMSE값들이 많이 비슷하지만 arima1모델이 정보손실량도 낮고  차수가 arima2보다 더적기 떄문에\n",
    "# arima1 모델로 최종모델 선정\n",
    "\n",
    "# 최종 선정한 모델로 원 데이터, 적합된 값, 예측값 그려보기\n",
    "plot(ts_data)\n",
    "lines(for_arima1$fitted, col='blue')\n",
    "lines(for_arima1$mean, col='red')\n",
    "\n",
    "\n",
    "# 그나마 제일 적합한 모델이지만 전체적으로 실제값과 예측값의 오차가 큰 편..."
   ]
  },
  {
   "cell_type": "code",
   "execution_count": null,
   "metadata": {},
   "outputs": [],
   "source": []
  }
 ],
 "metadata": {
  "kernelspec": {
   "display_name": "R",
   "language": "R",
   "name": "ir"
  },
  "language_info": {
   "codemirror_mode": "r",
   "file_extension": ".r",
   "mimetype": "text/x-r-source",
   "name": "R",
   "pygments_lexer": "r",
   "version": "3.6.3"
  }
 },
 "nbformat": 4,
 "nbformat_minor": 4
}
