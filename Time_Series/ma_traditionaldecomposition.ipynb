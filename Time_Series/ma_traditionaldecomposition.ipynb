{
 "cells": [
  {
   "cell_type": "code",
   "execution_count": 1,
   "metadata": {},
   "outputs": [
    {
     "name": "stderr",
     "output_type": "stream",
     "text": [
      "Registered S3 method overwritten by 'quantmod':\n",
      "  method            from\n",
      "  as.zoo.data.frame zoo \n",
      "\n",
      "Loading required package: ggplot2\n",
      "\n",
      "Loading required package: fma\n",
      "\n",
      "Loading required package: expsmooth\n",
      "\n"
     ]
    }
   ],
   "source": [
    "library(forecast)\n",
    "library(fpp2)"
   ]
  },
  {
   "cell_type": "code",
   "execution_count": 3,
   "metadata": {},
   "outputs": [
    {
     "data": {
      "text/html": [
       "<style>\n",
       ".list-inline {list-style: none; margin:0; padding: 0}\n",
       ".list-inline>li {display: inline-block}\n",
       ".list-inline>li:not(:last-child)::after {content: \"\\00b7\"; padding: 0 .5ex}\n",
       "</style>\n",
       "<ol class=list-inline><li>1970</li><li>1</li></ol>\n"
      ],
      "text/latex": [
       "\\begin{enumerate*}\n",
       "\\item 1970\n",
       "\\item 1\n",
       "\\end{enumerate*}\n"
      ],
      "text/markdown": [
       "1. 1970\n",
       "2. 1\n",
       "\n",
       "\n"
      ],
      "text/plain": [
       "[1] 1970    1"
      ]
     },
     "metadata": {},
     "output_type": "display_data"
    },
    {
     "data": {
      "text/html": [
       "<style>\n",
       ".list-inline {list-style: none; margin:0; padding: 0}\n",
       ".list-inline>li {display: inline-block}\n",
       ".list-inline>li:not(:last-child)::after {content: \"\\00b7\"; padding: 0 .5ex}\n",
       "</style>\n",
       "<ol class=list-inline><li>2016</li><li>1</li></ol>\n"
      ],
      "text/latex": [
       "\\begin{enumerate*}\n",
       "\\item 2016\n",
       "\\item 1\n",
       "\\end{enumerate*}\n"
      ],
      "text/markdown": [
       "1. 2016\n",
       "2. 1\n",
       "\n",
       "\n"
      ],
      "text/plain": [
       "[1] 2016    1"
      ]
     },
     "metadata": {},
     "output_type": "display_data"
    }
   ],
   "source": [
    "start(ausair)\n",
    "end(ausair)"
   ]
  },
  {
   "cell_type": "code",
   "execution_count": 4,
   "metadata": {},
   "outputs": [],
   "source": [
    "aus_train<-window(ausair, start=1970, end=2010)\n",
    "aus_test<-window(ausair, start=2011)"
   ]
  },
  {
   "cell_type": "code",
   "execution_count": 5,
   "metadata": {},
   "outputs": [
    {
     "data": {
      "image/png": "[encoded data removed]",
      "text/plain": [
       "plot without title"
      ]
     },
     "metadata": {
      "image/png": {
       "height": 420,
       "width": 420
      }
     },
     "output_type": "display_data"
    }
   ],
   "source": [
    "plot(aus_train)"
   ]
  },
  {
   "cell_type": "code",
   "execution_count": 7,
   "metadata": {},
   "outputs": [
    {
     "data": {
      "text/html": [
       "A Time Series:<br><style>\n",
       ".list-inline {list-style: none; margin:0; padding: 0}\n",
       ".list-inline>li {display: inline-block}\n",
       ".list-inline>li:not(:last-child)::after {content: \"\\00b7\"; padding: 0 .5ex}\n",
       "</style>\n",
       "<ol class=list-inline><li>&lt;NA&gt;</li><li>7.4803</li><li>8.16893333333333</li><li>9.28163333333333</li><li>10.3681333333333</li><li>10.8613666666667</li><li>11.0753</li><li>11.4310333333333</li><li>12.1504333333333</li><li>12.9312</li><li>13.2969333333333</li><li>13.3520666666667</li><li>13.0029666666667</li><li>13.0087333333333</li><li>13.4168</li><li>14.3820666666667</li><li>15.5965333333333</li><li>17.0646</li><li>16.9369333333333</li><li>17.1613333333333</li><li>18.1759333333333</li><li>21.1000333333333</li><li>24.2253333333333</li><li>25.9014666666667</li><li>27.5497333333333</li><li>28.5983333333333</li><li>29.9533333333333</li><li>30.4047666666667</li><li>30.9063</li><li>31.4476563333333</li><li>32.544889</li><li>35.025516</li><li>37.9618036666667</li><li>40.6681883333333</li><li>42.5467693333333</li><li>44.4018836666667</li><li>46.779312</li><li>49.0563463333333</li><li>50.0814103333333</li><li>54.0521023333333</li><li>&lt;NA&gt;</li></ol>\n"
      ],
      "text/latex": [
       "A Time Series:\\\\\\begin{enumerate*}\n",
       "\\item <NA>\n",
       "\\item 7.4803\n",
       "\\item 8.16893333333333\n",
       "\\item 9.28163333333333\n",
       "\\item 10.3681333333333\n",
       "\\item 10.8613666666667\n",
       "\\item 11.0753\n",
       "\\item 11.4310333333333\n",
       "\\item 12.1504333333333\n",
       "\\item 12.9312\n",
       "\\item 13.2969333333333\n",
       "\\item 13.3520666666667\n",
       "\\item 13.0029666666667\n",
       "\\item 13.0087333333333\n",
       "\\item 13.4168\n",
       "\\item 14.3820666666667\n",
       "\\item 15.5965333333333\n",
       "\\item 17.0646\n",
       "\\item 16.9369333333333\n",
       "\\item 17.1613333333333\n",
       "\\item 18.1759333333333\n",
       "\\item 21.1000333333333\n",
       "\\item 24.2253333333333\n",
       "\\item 25.9014666666667\n",
       "\\item 27.5497333333333\n",
       "\\item 28.5983333333333\n",
       "\\item 29.9533333333333\n",
       "\\item 30.4047666666667\n",
       "\\item 30.9063\n",
       "\\item 31.4476563333333\n",
       "\\item 32.544889\n",
       "\\item 35.025516\n",
       "\\item 37.9618036666667\n",
       "\\item 40.6681883333333\n",
       "\\item 42.5467693333333\n",
       "\\item 44.4018836666667\n",
       "\\item 46.779312\n",
       "\\item 49.0563463333333\n",
       "\\item 50.0814103333333\n",
       "\\item 54.0521023333333\n",
       "\\item <NA>\n",
       "\\end{enumerate*}\n"
      ],
      "text/markdown": [
       "A Time Series:  \n",
       "1. &lt;NA&gt;\n",
       "2. 7.4803\n",
       "3. 8.16893333333333\n",
       "4. 9.28163333333333\n",
       "5. 10.3681333333333\n",
       "6. 10.8613666666667\n",
       "7. 11.0753\n",
       "8. 11.4310333333333\n",
       "9. 12.1504333333333\n",
       "10. 12.9312\n",
       "11. 13.2969333333333\n",
       "12. 13.3520666666667\n",
       "13. 13.0029666666667\n",
       "14. 13.0087333333333\n",
       "15. 13.4168\n",
       "16. 14.3820666666667\n",
       "17. 15.5965333333333\n",
       "18. 17.0646\n",
       "19. 16.9369333333333\n",
       "20. 17.1613333333333\n",
       "21. 18.1759333333333\n",
       "22. 21.1000333333333\n",
       "23. 24.2253333333333\n",
       "24. 25.9014666666667\n",
       "25. 27.5497333333333\n",
       "26. 28.5983333333333\n",
       "27. 29.9533333333333\n",
       "28. 30.4047666666667\n",
       "29. 30.9063\n",
       "30. 31.4476563333333\n",
       "31. 32.544889\n",
       "32. 35.025516\n",
       "33. 37.9618036666667\n",
       "34. 40.6681883333333\n",
       "35. 42.5467693333333\n",
       "36. 44.4018836666667\n",
       "37. 46.779312\n",
       "38. 49.0563463333333\n",
       "39. 50.0814103333333\n",
       "40. 54.0521023333333\n",
       "41. &lt;NA&gt;\n",
       "\n",
       "\n"
      ],
      "text/plain": [
       "A Time Series:\n",
       " [1]        NA  7.480300  8.168933  9.281633 10.368133 10.861367 11.075300\n",
       " [8] 11.431033 12.150433 12.931200 13.296933 13.352067 13.002967 13.008733\n",
       "[15] 13.416800 14.382067 15.596533 17.064600 16.936933 17.161333 18.175933\n",
       "[22] 21.100033 24.225333 25.901467 27.549733 28.598333 29.953333 30.404767\n",
       "[29] 30.906300 31.447656 32.544889 35.025516 37.961804 40.668188 42.546769\n",
       "[36] 44.401884 46.779312 49.056346 50.081410 54.052102        NA"
      ]
     },
     "metadata": {},
     "output_type": "display_data"
    }
   ],
   "source": [
    "#대칭이동평균 order가 홀수일 때 -대칭이동평균\n",
    "ma(aus_train, order=3)"
   ]
  },
  {
   "cell_type": "code",
   "execution_count": 10,
   "metadata": {},
   "outputs": [
    {
     "data": {
      "text/html": [
       "A Time Series:<br><style>\n",
       ".list-inline {list-style: none; margin:0; padding: 0}\n",
       ".list-inline>li {display: inline-block}\n",
       ".list-inline>li:not(:last-child)::after {content: \"\\00b7\"; padding: 0 .5ex}\n",
       "</style>\n",
       "<ol class=list-inline><li>&lt;NA&gt;</li><li>&lt;NA&gt;</li><li>8.374625</li><li>9.2589375</li><li>10.1085875</li><li>10.7324125</li><li>11.15485</li><li>11.582975</li><li>12.1769625</li><li>12.76415</li><li>13.136475</li><li>13.21705</li><li>13.112925</li><li>13.2105</li><li>13.64825</li><li>14.4717625</li><li>15.7040375</li><li>16.48925</li><li>16.8340375</li><li>17.7135375</li><li>18.9698125</li><li>21.080475</li><li>23.7242375</li><li>25.7625375</li><li>27.4075125</li><li>28.6841</li><li>29.599275</li><li>30.3549625</li><li>31.011308625</li><li>31.6396045</li><li>33.059576875</li><li>35.3899035</li><li>37.743117875</li><li>40.2679815</li><li>42.6567465</li><li>44.565821375</li><li>46.720106375</li><li>48.627796125</li><li>51.01014375</li><li>&lt;NA&gt;</li><li>&lt;NA&gt;</li></ol>\n"
      ],
      "text/latex": [
       "A Time Series:\\\\\\begin{enumerate*}\n",
       "\\item <NA>\n",
       "\\item <NA>\n",
       "\\item 8.374625\n",
       "\\item 9.2589375\n",
       "\\item 10.1085875\n",
       "\\item 10.7324125\n",
       "\\item 11.15485\n",
       "\\item 11.582975\n",
       "\\item 12.1769625\n",
       "\\item 12.76415\n",
       "\\item 13.136475\n",
       "\\item 13.21705\n",
       "\\item 13.112925\n",
       "\\item 13.2105\n",
       "\\item 13.64825\n",
       "\\item 14.4717625\n",
       "\\item 15.7040375\n",
       "\\item 16.48925\n",
       "\\item 16.8340375\n",
       "\\item 17.7135375\n",
       "\\item 18.9698125\n",
       "\\item 21.080475\n",
       "\\item 23.7242375\n",
       "\\item 25.7625375\n",
       "\\item 27.4075125\n",
       "\\item 28.6841\n",
       "\\item 29.599275\n",
       "\\item 30.3549625\n",
       "\\item 31.011308625\n",
       "\\item 31.6396045\n",
       "\\item 33.059576875\n",
       "\\item 35.3899035\n",
       "\\item 37.743117875\n",
       "\\item 40.2679815\n",
       "\\item 42.6567465\n",
       "\\item 44.565821375\n",
       "\\item 46.720106375\n",
       "\\item 48.627796125\n",
       "\\item 51.01014375\n",
       "\\item <NA>\n",
       "\\item <NA>\n",
       "\\end{enumerate*}\n"
      ],
      "text/markdown": [
       "A Time Series:  \n",
       "1. &lt;NA&gt;\n",
       "2. &lt;NA&gt;\n",
       "3. 8.374625\n",
       "4. 9.2589375\n",
       "5. 10.1085875\n",
       "6. 10.7324125\n",
       "7. 11.15485\n",
       "8. 11.582975\n",
       "9. 12.1769625\n",
       "10. 12.76415\n",
       "11. 13.136475\n",
       "12. 13.21705\n",
       "13. 13.112925\n",
       "14. 13.2105\n",
       "15. 13.64825\n",
       "16. 14.4717625\n",
       "17. 15.7040375\n",
       "18. 16.48925\n",
       "19. 16.8340375\n",
       "20. 17.7135375\n",
       "21. 18.9698125\n",
       "22. 21.080475\n",
       "23. 23.7242375\n",
       "24. 25.7625375\n",
       "25. 27.4075125\n",
       "26. 28.6841\n",
       "27. 29.599275\n",
       "28. 30.3549625\n",
       "29. 31.011308625\n",
       "30. 31.6396045\n",
       "31. 33.059576875\n",
       "32. 35.3899035\n",
       "33. 37.743117875\n",
       "34. 40.2679815\n",
       "35. 42.6567465\n",
       "36. 44.565821375\n",
       "37. 46.720106375\n",
       "38. 48.627796125\n",
       "39. 51.01014375\n",
       "40. &lt;NA&gt;\n",
       "41. &lt;NA&gt;\n",
       "\n",
       "\n"
      ],
      "text/plain": [
       "A Time Series:\n",
       " [1]        NA        NA  8.374625  9.258938 10.108587 10.732413 11.154850\n",
       " [8] 11.582975 12.176963 12.764150 13.136475 13.217050 13.112925 13.210500\n",
       "[15] 13.648250 14.471763 15.704038 16.489250 16.834037 17.713537 18.969812\n",
       "[22] 21.080475 23.724238 25.762538 27.407513 28.684100 29.599275 30.354962\n",
       "[29] 31.011309 31.639604 33.059577 35.389903 37.743118 40.267981 42.656746\n",
       "[36] 44.565821 46.720106 48.627796 51.010144        NA        NA"
      ]
     },
     "metadata": {},
     "output_type": "display_data"
    }
   ],
   "source": [
    "# 대칭이동평균 order가 짝수일때-중심화이동평균\n",
    "ma(aus_train, order=4, centre=TRUE)"
   ]
  },
  {
   "cell_type": "code",
   "execution_count": 11,
   "metadata": {},
   "outputs": [
    {
     "ename": "ERROR",
     "evalue": "Error in decompose(aus_train, type = \"additive\"): time series has no or less than 2 periods\n",
     "output_type": "error",
     "traceback": [
      "Error in decompose(aus_train, type = \"additive\"): time series has no or less than 2 periods\nTraceback:\n",
      "1. decompose(aus_train, type = \"additive\")",
      "2. stop(\"time series has no or less than 2 periods\")"
     ]
    }
   ],
   "source": [
    "#전통적인 분해법 -> 연도별 데이터는 안 됨!!!\n",
    "#가법모형 : 홀트-윈터스 가법모형처럼 일정한 그래프를 보일 때\n",
    "decompose(aus_train, type='additive', )"
   ]
  },
  {
   "cell_type": "code",
   "execution_count": 21,
   "metadata": {
    "scrolled": false
   },
   "outputs": [
    {
     "data": {
      "image/png": "[encoded data removed]",
      "text/plain": [
       "plot without title"
      ]
     },
     "metadata": {
      "image/png": {
       "height": 420,
       "width": 420
      }
     },
     "output_type": "display_data"
    }
   ],
   "source": [
    "elec_de<-decompose(elecequip, type='additive')\n",
    "season_random<-elec_de$x-elec_de$trend-elec_de$seasonal\n",
    "plot(season_random)"
   ]
  },
  {
   "cell_type": "code",
   "execution_count": 22,
   "metadata": {},
   "outputs": [
    {
     "data": {
      "image/png": "[encoded data removed]",
      "text/plain": [
       "plot without title"
      ]
     },
     "metadata": {
      "image/png": {
       "height": 420,
       "width": 420
      }
     },
     "output_type": "display_data"
    }
   ],
   "source": [
    "season_random<-elec_de$x-elec_de$trend\n",
    "plot(season_random)"
   ]
  },
  {
   "cell_type": "code",
   "execution_count": 23,
   "metadata": {},
   "outputs": [
    {
     "data": {
      "text/html": [
       "<table>\n",
       "<caption>A Time Series: 17 × 12</caption>\n",
       "<thead>\n",
       "\t<tr><th></th><th scope=col>Jan</th><th scope=col>Feb</th><th scope=col>Mar</th><th scope=col>Apr</th><th scope=col>May</th><th scope=col>Jun</th><th scope=col>Jul</th><th scope=col>Aug</th><th scope=col>Sep</th><th scope=col>Oct</th><th scope=col>Nov</th><th scope=col>Dec</th></tr>\n",
       "</thead>\n",
       "<tbody>\n",
       "\t<tr><th scope=row>1996</th><td> -5.887662</td><td> -6.199273</td><td>  8.083171</td><td> -6.314968</td><td> -4.818468</td><td>  7.976088</td><td> -1.575338</td><td>-16.870416</td><td>  7.304324</td><td>  3.007671</td><td>  3.847366</td><td> 11.447504</td></tr>\n",
       "\t<tr><th scope=row>1997</th><td> -5.887662</td><td> -6.199273</td><td>  8.083171</td><td> -6.314968</td><td> -4.818468</td><td>  7.976088</td><td> -1.575338</td><td>-16.870416</td><td>  7.304324</td><td>  3.007671</td><td>  3.847366</td><td> 11.447504</td></tr>\n",
       "\t<tr><th scope=row>1998</th><td> -5.887662</td><td> -6.199273</td><td>  8.083171</td><td> -6.314968</td><td> -4.818468</td><td>  7.976088</td><td> -1.575338</td><td>-16.870416</td><td>  7.304324</td><td>  3.007671</td><td>  3.847366</td><td> 11.447504</td></tr>\n",
       "\t<tr><th scope=row>1999</th><td> -5.887662</td><td> -6.199273</td><td>  8.083171</td><td> -6.314968</td><td> -4.818468</td><td>  7.976088</td><td> -1.575338</td><td>-16.870416</td><td>  7.304324</td><td>  3.007671</td><td>  3.847366</td><td> 11.447504</td></tr>\n",
       "\t<tr><th scope=row>2000</th><td> -5.887662</td><td> -6.199273</td><td>  8.083171</td><td> -6.314968</td><td> -4.818468</td><td>  7.976088</td><td> -1.575338</td><td>-16.870416</td><td>  7.304324</td><td>  3.007671</td><td>  3.847366</td><td> 11.447504</td></tr>\n",
       "\t<tr><th scope=row>2001</th><td> -5.887662</td><td> -6.199273</td><td>  8.083171</td><td> -6.314968</td><td> -4.818468</td><td>  7.976088</td><td> -1.575338</td><td>-16.870416</td><td>  7.304324</td><td>  3.007671</td><td>  3.847366</td><td> 11.447504</td></tr>\n",
       "\t<tr><th scope=row>2002</th><td> -5.887662</td><td> -6.199273</td><td>  8.083171</td><td> -6.314968</td><td> -4.818468</td><td>  7.976088</td><td> -1.575338</td><td>-16.870416</td><td>  7.304324</td><td>  3.007671</td><td>  3.847366</td><td> 11.447504</td></tr>\n",
       "\t<tr><th scope=row>2003</th><td> -5.887662</td><td> -6.199273</td><td>  8.083171</td><td> -6.314968</td><td> -4.818468</td><td>  7.976088</td><td> -1.575338</td><td>-16.870416</td><td>  7.304324</td><td>  3.007671</td><td>  3.847366</td><td> 11.447504</td></tr>\n",
       "\t<tr><th scope=row>2004</th><td> -5.887662</td><td> -6.199273</td><td>  8.083171</td><td> -6.314968</td><td> -4.818468</td><td>  7.976088</td><td> -1.575338</td><td>-16.870416</td><td>  7.304324</td><td>  3.007671</td><td>  3.847366</td><td> 11.447504</td></tr>\n",
       "\t<tr><th scope=row>2005</th><td> -5.887662</td><td> -6.199273</td><td>  8.083171</td><td> -6.314968</td><td> -4.818468</td><td>  7.976088</td><td> -1.575338</td><td>-16.870416</td><td>  7.304324</td><td>  3.007671</td><td>  3.847366</td><td> 11.447504</td></tr>\n",
       "\t<tr><th scope=row>2006</th><td> -5.887662</td><td> -6.199273</td><td>  8.083171</td><td> -6.314968</td><td> -4.818468</td><td>  7.976088</td><td> -1.575338</td><td>-16.870416</td><td>  7.304324</td><td>  3.007671</td><td>  3.847366</td><td> 11.447504</td></tr>\n",
       "\t<tr><th scope=row>2007</th><td> -5.887662</td><td> -6.199273</td><td>  8.083171</td><td> -6.314968</td><td> -4.818468</td><td>  7.976088</td><td> -1.575338</td><td>-16.870416</td><td>  7.304324</td><td>  3.007671</td><td>  3.847366</td><td> 11.447504</td></tr>\n",
       "\t<tr><th scope=row>2008</th><td> -5.887662</td><td> -6.199273</td><td>  8.083171</td><td> -6.314968</td><td> -4.818468</td><td>  7.976088</td><td> -1.575338</td><td>-16.870416</td><td>  7.304324</td><td>  3.007671</td><td>  3.847366</td><td> 11.447504</td></tr>\n",
       "\t<tr><th scope=row>2009</th><td> -5.887662</td><td> -6.199273</td><td>  8.083171</td><td> -6.314968</td><td> -4.818468</td><td>  7.976088</td><td> -1.575338</td><td>-16.870416</td><td>  7.304324</td><td>  3.007671</td><td>  3.847366</td><td> 11.447504</td></tr>\n",
       "\t<tr><th scope=row>2010</th><td> -5.887662</td><td> -6.199273</td><td>  8.083171</td><td> -6.314968</td><td> -4.818468</td><td>  7.976088</td><td> -1.575338</td><td>-16.870416</td><td>  7.304324</td><td>  3.007671</td><td>  3.847366</td><td> 11.447504</td></tr>\n",
       "\t<tr><th scope=row>2011</th><td> -5.887662</td><td> -6.199273</td><td>  8.083171</td><td> -6.314968</td><td> -4.818468</td><td>  7.976088</td><td> -1.575338</td><td>-16.870416</td><td>  7.304324</td><td>  3.007671</td><td>  3.847366</td><td> 11.447504</td></tr>\n",
       "\t<tr><th scope=row>2012</th><td> -5.887662</td><td> -6.199273</td><td>  8.083171</td><td>          </td><td>          </td><td>          </td><td>          </td><td>          </td><td>          </td><td>          </td><td>          </td><td>          </td></tr>\n",
       "</tbody>\n",
       "</table>\n"
      ],
      "text/latex": [
       "A Time Series: 17 × 12\n",
       "\\begin{tabular}{r|llllllllllll}\n",
       "  & Jan & Feb & Mar & Apr & May & Jun & Jul & Aug & Sep & Oct & Nov & Dec\\\\\n",
       "\\hline\n",
       "\t1996 &  -5.887662 &  -6.199273 &   8.083171 &  -6.314968 &  -4.818468 &   7.976088 &  -1.575338 & -16.870416 &   7.304324 &   3.007671 &   3.847366 &  11.447504\\\\\n",
       "\t1997 &  -5.887662 &  -6.199273 &   8.083171 &  -6.314968 &  -4.818468 &   7.976088 &  -1.575338 & -16.870416 &   7.304324 &   3.007671 &   3.847366 &  11.447504\\\\\n",
       "\t1998 &  -5.887662 &  -6.199273 &   8.083171 &  -6.314968 &  -4.818468 &   7.976088 &  -1.575338 & -16.870416 &   7.304324 &   3.007671 &   3.847366 &  11.447504\\\\\n",
       "\t1999 &  -5.887662 &  -6.199273 &   8.083171 &  -6.314968 &  -4.818468 &   7.976088 &  -1.575338 & -16.870416 &   7.304324 &   3.007671 &   3.847366 &  11.447504\\\\\n",
       "\t2000 &  -5.887662 &  -6.199273 &   8.083171 &  -6.314968 &  -4.818468 &   7.976088 &  -1.575338 & -16.870416 &   7.304324 &   3.007671 &   3.847366 &  11.447504\\\\\n",
       "\t2001 &  -5.887662 &  -6.199273 &   8.083171 &  -6.314968 &  -4.818468 &   7.976088 &  -1.575338 & -16.870416 &   7.304324 &   3.007671 &   3.847366 &  11.447504\\\\\n",
       "\t2002 &  -5.887662 &  -6.199273 &   8.083171 &  -6.314968 &  -4.818468 &   7.976088 &  -1.575338 & -16.870416 &   7.304324 &   3.007671 &   3.847366 &  11.447504\\\\\n",
       "\t2003 &  -5.887662 &  -6.199273 &   8.083171 &  -6.314968 &  -4.818468 &   7.976088 &  -1.575338 & -16.870416 &   7.304324 &   3.007671 &   3.847366 &  11.447504\\\\\n",
       "\t2004 &  -5.887662 &  -6.199273 &   8.083171 &  -6.314968 &  -4.818468 &   7.976088 &  -1.575338 & -16.870416 &   7.304324 &   3.007671 &   3.847366 &  11.447504\\\\\n",
       "\t2005 &  -5.887662 &  -6.199273 &   8.083171 &  -6.314968 &  -4.818468 &   7.976088 &  -1.575338 & -16.870416 &   7.304324 &   3.007671 &   3.847366 &  11.447504\\\\\n",
       "\t2006 &  -5.887662 &  -6.199273 &   8.083171 &  -6.314968 &  -4.818468 &   7.976088 &  -1.575338 & -16.870416 &   7.304324 &   3.007671 &   3.847366 &  11.447504\\\\\n",
       "\t2007 &  -5.887662 &  -6.199273 &   8.083171 &  -6.314968 &  -4.818468 &   7.976088 &  -1.575338 & -16.870416 &   7.304324 &   3.007671 &   3.847366 &  11.447504\\\\\n",
       "\t2008 &  -5.887662 &  -6.199273 &   8.083171 &  -6.314968 &  -4.818468 &   7.976088 &  -1.575338 & -16.870416 &   7.304324 &   3.007671 &   3.847366 &  11.447504\\\\\n",
       "\t2009 &  -5.887662 &  -6.199273 &   8.083171 &  -6.314968 &  -4.818468 &   7.976088 &  -1.575338 & -16.870416 &   7.304324 &   3.007671 &   3.847366 &  11.447504\\\\\n",
       "\t2010 &  -5.887662 &  -6.199273 &   8.083171 &  -6.314968 &  -4.818468 &   7.976088 &  -1.575338 & -16.870416 &   7.304324 &   3.007671 &   3.847366 &  11.447504\\\\\n",
       "\t2011 &  -5.887662 &  -6.199273 &   8.083171 &  -6.314968 &  -4.818468 &   7.976088 &  -1.575338 & -16.870416 &   7.304324 &   3.007671 &   3.847366 &  11.447504\\\\\n",
       "\t2012 &  -5.887662 &  -6.199273 &   8.083171 &            &            &            &            &            &            &            &            &           \\\\\n",
       "\\end{tabular}\n"
      ],
      "text/markdown": [
       "\n",
       "A Time Series: 17 × 12\n",
       "\n",
       "| <!--/--> | Jan | Feb | Mar | Apr | May | Jun | Jul | Aug | Sep | Oct | Nov | Dec |\n",
       "|---|---|---|---|---|---|---|---|---|---|---|---|---|\n",
       "| 1996 |  -5.887662 |  -6.199273 |   8.083171 |  -6.314968 |  -4.818468 |   7.976088 |  -1.575338 | -16.870416 |   7.304324 |   3.007671 |   3.847366 |  11.447504 |\n",
       "| 1997 |  -5.887662 |  -6.199273 |   8.083171 |  -6.314968 |  -4.818468 |   7.976088 |  -1.575338 | -16.870416 |   7.304324 |   3.007671 |   3.847366 |  11.447504 |\n",
       "| 1998 |  -5.887662 |  -6.199273 |   8.083171 |  -6.314968 |  -4.818468 |   7.976088 |  -1.575338 | -16.870416 |   7.304324 |   3.007671 |   3.847366 |  11.447504 |\n",
       "| 1999 |  -5.887662 |  -6.199273 |   8.083171 |  -6.314968 |  -4.818468 |   7.976088 |  -1.575338 | -16.870416 |   7.304324 |   3.007671 |   3.847366 |  11.447504 |\n",
       "| 2000 |  -5.887662 |  -6.199273 |   8.083171 |  -6.314968 |  -4.818468 |   7.976088 |  -1.575338 | -16.870416 |   7.304324 |   3.007671 |   3.847366 |  11.447504 |\n",
       "| 2001 |  -5.887662 |  -6.199273 |   8.083171 |  -6.314968 |  -4.818468 |   7.976088 |  -1.575338 | -16.870416 |   7.304324 |   3.007671 |   3.847366 |  11.447504 |\n",
       "| 2002 |  -5.887662 |  -6.199273 |   8.083171 |  -6.314968 |  -4.818468 |   7.976088 |  -1.575338 | -16.870416 |   7.304324 |   3.007671 |   3.847366 |  11.447504 |\n",
       "| 2003 |  -5.887662 |  -6.199273 |   8.083171 |  -6.314968 |  -4.818468 |   7.976088 |  -1.575338 | -16.870416 |   7.304324 |   3.007671 |   3.847366 |  11.447504 |\n",
       "| 2004 |  -5.887662 |  -6.199273 |   8.083171 |  -6.314968 |  -4.818468 |   7.976088 |  -1.575338 | -16.870416 |   7.304324 |   3.007671 |   3.847366 |  11.447504 |\n",
       "| 2005 |  -5.887662 |  -6.199273 |   8.083171 |  -6.314968 |  -4.818468 |   7.976088 |  -1.575338 | -16.870416 |   7.304324 |   3.007671 |   3.847366 |  11.447504 |\n",
       "| 2006 |  -5.887662 |  -6.199273 |   8.083171 |  -6.314968 |  -4.818468 |   7.976088 |  -1.575338 | -16.870416 |   7.304324 |   3.007671 |   3.847366 |  11.447504 |\n",
       "| 2007 |  -5.887662 |  -6.199273 |   8.083171 |  -6.314968 |  -4.818468 |   7.976088 |  -1.575338 | -16.870416 |   7.304324 |   3.007671 |   3.847366 |  11.447504 |\n",
       "| 2008 |  -5.887662 |  -6.199273 |   8.083171 |  -6.314968 |  -4.818468 |   7.976088 |  -1.575338 | -16.870416 |   7.304324 |   3.007671 |   3.847366 |  11.447504 |\n",
       "| 2009 |  -5.887662 |  -6.199273 |   8.083171 |  -6.314968 |  -4.818468 |   7.976088 |  -1.575338 | -16.870416 |   7.304324 |   3.007671 |   3.847366 |  11.447504 |\n",
       "| 2010 |  -5.887662 |  -6.199273 |   8.083171 |  -6.314968 |  -4.818468 |   7.976088 |  -1.575338 | -16.870416 |   7.304324 |   3.007671 |   3.847366 |  11.447504 |\n",
       "| 2011 |  -5.887662 |  -6.199273 |   8.083171 |  -6.314968 |  -4.818468 |   7.976088 |  -1.575338 | -16.870416 |   7.304324 |   3.007671 |   3.847366 |  11.447504 |\n",
       "| 2012 |  -5.887662 |  -6.199273 |   8.083171 | <!----> | <!----> | <!----> | <!----> | <!----> | <!----> | <!----> | <!----> | <!----> |\n",
       "\n"
      ],
      "text/plain": [
       "     Jan        Feb        Mar        Apr        May        Jun       \n",
       "1996  -5.887662  -6.199273   8.083171  -6.314968  -4.818468   7.976088\n",
       "1997  -5.887662  -6.199273   8.083171  -6.314968  -4.818468   7.976088\n",
       "1998  -5.887662  -6.199273   8.083171  -6.314968  -4.818468   7.976088\n",
       "1999  -5.887662  -6.199273   8.083171  -6.314968  -4.818468   7.976088\n",
       "2000  -5.887662  -6.199273   8.083171  -6.314968  -4.818468   7.976088\n",
       "2001  -5.887662  -6.199273   8.083171  -6.314968  -4.818468   7.976088\n",
       "2002  -5.887662  -6.199273   8.083171  -6.314968  -4.818468   7.976088\n",
       "2003  -5.887662  -6.199273   8.083171  -6.314968  -4.818468   7.976088\n",
       "2004  -5.887662  -6.199273   8.083171  -6.314968  -4.818468   7.976088\n",
       "2005  -5.887662  -6.199273   8.083171  -6.314968  -4.818468   7.976088\n",
       "2006  -5.887662  -6.199273   8.083171  -6.314968  -4.818468   7.976088\n",
       "2007  -5.887662  -6.199273   8.083171  -6.314968  -4.818468   7.976088\n",
       "2008  -5.887662  -6.199273   8.083171  -6.314968  -4.818468   7.976088\n",
       "2009  -5.887662  -6.199273   8.083171  -6.314968  -4.818468   7.976088\n",
       "2010  -5.887662  -6.199273   8.083171  -6.314968  -4.818468   7.976088\n",
       "2011  -5.887662  -6.199273   8.083171  -6.314968  -4.818468   7.976088\n",
       "2012  -5.887662  -6.199273   8.083171                                 \n",
       "     Jul        Aug        Sep        Oct        Nov        Dec       \n",
       "1996  -1.575338 -16.870416   7.304324   3.007671   3.847366  11.447504\n",
       "1997  -1.575338 -16.870416   7.304324   3.007671   3.847366  11.447504\n",
       "1998  -1.575338 -16.870416   7.304324   3.007671   3.847366  11.447504\n",
       "1999  -1.575338 -16.870416   7.304324   3.007671   3.847366  11.447504\n",
       "2000  -1.575338 -16.870416   7.304324   3.007671   3.847366  11.447504\n",
       "2001  -1.575338 -16.870416   7.304324   3.007671   3.847366  11.447504\n",
       "2002  -1.575338 -16.870416   7.304324   3.007671   3.847366  11.447504\n",
       "2003  -1.575338 -16.870416   7.304324   3.007671   3.847366  11.447504\n",
       "2004  -1.575338 -16.870416   7.304324   3.007671   3.847366  11.447504\n",
       "2005  -1.575338 -16.870416   7.304324   3.007671   3.847366  11.447504\n",
       "2006  -1.575338 -16.870416   7.304324   3.007671   3.847366  11.447504\n",
       "2007  -1.575338 -16.870416   7.304324   3.007671   3.847366  11.447504\n",
       "2008  -1.575338 -16.870416   7.304324   3.007671   3.847366  11.447504\n",
       "2009  -1.575338 -16.870416   7.304324   3.007671   3.847366  11.447504\n",
       "2010  -1.575338 -16.870416   7.304324   3.007671   3.847366  11.447504\n",
       "2011  -1.575338 -16.870416   7.304324   3.007671   3.847366  11.447504\n",
       "2012                                                                  "
      ]
     },
     "metadata": {},
     "output_type": "display_data"
    },
    {
     "data": {
      "text/html": [
       "<style>\n",
       ".list-inline {list-style: none; margin:0; padding: 0}\n",
       ".list-inline>li {display: inline-block}\n",
       ".list-inline>li:not(:last-child)::after {content: \"\\00b7\"; padding: 0 .5ex}\n",
       "</style>\n",
       "<ol class=list-inline><li>-5.88766218171297</li><li>-6.19927329282408</li><li>8.08317115162037</li><li>-6.31496773726852</li><li>-4.81846773726852</li><li>7.97608781828704</li><li>-1.57533752893518</li><li>-16.8704156539352</li><li>7.30432392939815</li><li>3.00767115162037</li><li>3.84736559606481</li><li>11.4475044849537</li></ol>\n"
      ],
      "text/latex": [
       "\\begin{enumerate*}\n",
       "\\item -5.88766218171297\n",
       "\\item -6.19927329282408\n",
       "\\item 8.08317115162037\n",
       "\\item -6.31496773726852\n",
       "\\item -4.81846773726852\n",
       "\\item 7.97608781828704\n",
       "\\item -1.57533752893518\n",
       "\\item -16.8704156539352\n",
       "\\item 7.30432392939815\n",
       "\\item 3.00767115162037\n",
       "\\item 3.84736559606481\n",
       "\\item 11.4475044849537\n",
       "\\end{enumerate*}\n"
      ],
      "text/markdown": [
       "1. -5.88766218171297\n",
       "2. -6.19927329282408\n",
       "3. 8.08317115162037\n",
       "4. -6.31496773726852\n",
       "5. -4.81846773726852\n",
       "6. 7.97608781828704\n",
       "7. -1.57533752893518\n",
       "8. -16.8704156539352\n",
       "9. 7.30432392939815\n",
       "10. 3.00767115162037\n",
       "11. 3.84736559606481\n",
       "12. 11.4475044849537\n",
       "\n",
       "\n"
      ],
      "text/plain": [
       " [1]  -5.887662  -6.199273   8.083171  -6.314968  -4.818468   7.976088\n",
       " [7]  -1.575338 -16.870416   7.304324   3.007671   3.847366  11.447504"
      ]
     },
     "metadata": {},
     "output_type": "display_data"
    }
   ],
   "source": [
    "elec_de$seasonal\n",
    "elec_de$figure # 월별 성분!"
   ]
  },
  {
   "cell_type": "code",
   "execution_count": 18,
   "metadata": {},
   "outputs": [
    {
     "data": {
      "image/png": "[encoded data removed]",
      "text/plain": [
       "plot without title"
      ]
     },
     "metadata": {
      "image/png": {
       "height": 420,
       "width": 420
      }
     },
     "output_type": "display_data"
    }
   ],
   "source": [
    "# 승법모형\n",
    "elec_de2<-decompose(elecequip, type='multiplicative')\n"
   ]
  },
  {
   "cell_type": "code",
   "execution_count": null,
   "metadata": {},
   "outputs": [],
   "source": []
  }
 ],
 "metadata": {
  "kernelspec": {
   "display_name": "R",
   "language": "R",
   "name": "ir"
  },
  "language_info": {
   "codemirror_mode": "r",
   "file_extension": ".r",
   "mimetype": "text/x-r-source",
   "name": "R",
   "pygments_lexer": "r",
   "version": "3.6.3"
  }
 },
 "nbformat": 4,
 "nbformat_minor": 4
}
