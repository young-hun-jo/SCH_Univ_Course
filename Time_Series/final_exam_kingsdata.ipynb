{
 "cells": [
  {
   "cell_type": "code",
   "execution_count": 1,
   "metadata": {},
   "outputs": [
    {
     "name": "stderr",
     "output_type": "stream",
     "text": [
      "Registered S3 method overwritten by 'quantmod':\n",
      "  method            from\n",
      "  as.zoo.data.frame zoo \n",
      "\n"
     ]
    },
    {
     "data": {
      "text/html": [
       "<style>\n",
       ".list-inline {list-style: none; margin:0; padding: 0}\n",
       ".list-inline>li {display: inline-block}\n",
       ".list-inline>li:not(:last-child)::after {content: \"\\00b7\"; padding: 0 .5ex}\n",
       "</style>\n",
       "<ol class=list-inline><li>60</li><li>43</li><li>67</li><li>50</li><li>56</li><li>42</li><li>50</li><li>65</li><li>68</li><li>43</li><li>65</li><li>34</li><li>47</li><li>34</li><li>49</li><li>41</li><li>13</li><li>35</li><li>53</li><li>56</li><li>16</li><li>43</li><li>69</li><li>59</li><li>48</li><li>59</li><li>86</li><li>55</li><li>68</li><li>51</li><li>33</li><li>49</li><li>67</li><li>77</li><li>81</li><li>67</li><li>71</li><li>81</li><li>68</li><li>70</li><li>77</li><li>56</li></ol>\n"
      ],
      "text/latex": [
       "\\begin{enumerate*}\n",
       "\\item 60\n",
       "\\item 43\n",
       "\\item 67\n",
       "\\item 50\n",
       "\\item 56\n",
       "\\item 42\n",
       "\\item 50\n",
       "\\item 65\n",
       "\\item 68\n",
       "\\item 43\n",
       "\\item 65\n",
       "\\item 34\n",
       "\\item 47\n",
       "\\item 34\n",
       "\\item 49\n",
       "\\item 41\n",
       "\\item 13\n",
       "\\item 35\n",
       "\\item 53\n",
       "\\item 56\n",
       "\\item 16\n",
       "\\item 43\n",
       "\\item 69\n",
       "\\item 59\n",
       "\\item 48\n",
       "\\item 59\n",
       "\\item 86\n",
       "\\item 55\n",
       "\\item 68\n",
       "\\item 51\n",
       "\\item 33\n",
       "\\item 49\n",
       "\\item 67\n",
       "\\item 77\n",
       "\\item 81\n",
       "\\item 67\n",
       "\\item 71\n",
       "\\item 81\n",
       "\\item 68\n",
       "\\item 70\n",
       "\\item 77\n",
       "\\item 56\n",
       "\\end{enumerate*}\n"
      ],
      "text/markdown": [
       "1. 60\n",
       "2. 43\n",
       "3. 67\n",
       "4. 50\n",
       "5. 56\n",
       "6. 42\n",
       "7. 50\n",
       "8. 65\n",
       "9. 68\n",
       "10. 43\n",
       "11. 65\n",
       "12. 34\n",
       "13. 47\n",
       "14. 34\n",
       "15. 49\n",
       "16. 41\n",
       "17. 13\n",
       "18. 35\n",
       "19. 53\n",
       "20. 56\n",
       "21. 16\n",
       "22. 43\n",
       "23. 69\n",
       "24. 59\n",
       "25. 48\n",
       "26. 59\n",
       "27. 86\n",
       "28. 55\n",
       "29. 68\n",
       "30. 51\n",
       "31. 33\n",
       "32. 49\n",
       "33. 67\n",
       "34. 77\n",
       "35. 81\n",
       "36. 67\n",
       "37. 71\n",
       "38. 81\n",
       "39. 68\n",
       "40. 70\n",
       "41. 77\n",
       "42. 56\n",
       "\n",
       "\n"
      ],
      "text/plain": [
       " [1] 60 43 67 50 56 42 50 65 68 43 65 34 47 34 49 41 13 35 53 56 16 43 69 59 48\n",
       "[26] 59 86 55 68 51 33 49 67 77 81 67 71 81 68 70 77 56"
      ]
     },
     "metadata": {},
     "output_type": "display_data"
    }
   ],
   "source": [
    "library(forecast)\n",
    "library(urca)\n",
    "kings <- scan(\"http://robjhyndman.com/tsdldata/misc/kings.dat\",skip=3)\n",
    "kings"
   ]
  },
  {
   "cell_type": "code",
   "execution_count": 4,
   "metadata": {},
   "outputs": [
    {
     "data": {
      "text/html": [
       "A Time Series:<br><style>\n",
       ".list-inline {list-style: none; margin:0; padding: 0}\n",
       ".list-inline>li {display: inline-block}\n",
       ".list-inline>li:not(:last-child)::after {content: \"\\00b7\"; padding: 0 .5ex}\n",
       "</style>\n",
       "<ol class=list-inline><li>60</li><li>43</li><li>67</li><li>50</li><li>56</li><li>42</li><li>50</li><li>65</li><li>68</li><li>43</li><li>65</li><li>34</li><li>47</li><li>34</li><li>49</li><li>41</li><li>13</li><li>35</li><li>53</li><li>56</li><li>16</li><li>43</li><li>69</li><li>59</li><li>48</li><li>59</li><li>86</li><li>55</li><li>68</li><li>51</li><li>33</li><li>49</li><li>67</li><li>77</li><li>81</li><li>67</li><li>71</li><li>81</li><li>68</li><li>70</li><li>77</li><li>56</li></ol>\n"
      ],
      "text/latex": [
       "A Time Series:\\\\\\begin{enumerate*}\n",
       "\\item 60\n",
       "\\item 43\n",
       "\\item 67\n",
       "\\item 50\n",
       "\\item 56\n",
       "\\item 42\n",
       "\\item 50\n",
       "\\item 65\n",
       "\\item 68\n",
       "\\item 43\n",
       "\\item 65\n",
       "\\item 34\n",
       "\\item 47\n",
       "\\item 34\n",
       "\\item 49\n",
       "\\item 41\n",
       "\\item 13\n",
       "\\item 35\n",
       "\\item 53\n",
       "\\item 56\n",
       "\\item 16\n",
       "\\item 43\n",
       "\\item 69\n",
       "\\item 59\n",
       "\\item 48\n",
       "\\item 59\n",
       "\\item 86\n",
       "\\item 55\n",
       "\\item 68\n",
       "\\item 51\n",
       "\\item 33\n",
       "\\item 49\n",
       "\\item 67\n",
       "\\item 77\n",
       "\\item 81\n",
       "\\item 67\n",
       "\\item 71\n",
       "\\item 81\n",
       "\\item 68\n",
       "\\item 70\n",
       "\\item 77\n",
       "\\item 56\n",
       "\\end{enumerate*}\n"
      ],
      "text/markdown": [
       "A Time Series:  \n",
       "1. 60\n",
       "2. 43\n",
       "3. 67\n",
       "4. 50\n",
       "5. 56\n",
       "6. 42\n",
       "7. 50\n",
       "8. 65\n",
       "9. 68\n",
       "10. 43\n",
       "11. 65\n",
       "12. 34\n",
       "13. 47\n",
       "14. 34\n",
       "15. 49\n",
       "16. 41\n",
       "17. 13\n",
       "18. 35\n",
       "19. 53\n",
       "20. 56\n",
       "21. 16\n",
       "22. 43\n",
       "23. 69\n",
       "24. 59\n",
       "25. 48\n",
       "26. 59\n",
       "27. 86\n",
       "28. 55\n",
       "29. 68\n",
       "30. 51\n",
       "31. 33\n",
       "32. 49\n",
       "33. 67\n",
       "34. 77\n",
       "35. 81\n",
       "36. 67\n",
       "37. 71\n",
       "38. 81\n",
       "39. 68\n",
       "40. 70\n",
       "41. 77\n",
       "42. 56\n",
       "\n",
       "\n"
      ],
      "text/plain": [
       "A Time Series:\n",
       " [1] 60 43 67 50 56 42 50 65 68 43 65 34 47 34 49 41 13 35 53 56 16 43 69 59 48\n",
       "[26] 59 86 55 68 51 33 49 67 77 81 67 71 81 68 70 77 56"
      ]
     },
     "metadata": {},
     "output_type": "display_data"
    }
   ],
   "source": [
    "# yearly data\n",
    "ts_kings<-ts(kings, frequency = 1)\n",
    "ts_kings"
   ]
  },
  {
   "cell_type": "code",
   "execution_count": 7,
   "metadata": {},
   "outputs": [
    {
     "data": {
      "image/png": "[encoded data removed]",
      "text/plain": [
       "plot without title"
      ]
     },
     "metadata": {
      "image/png": {
       "height": 420,
       "width": 420
      }
     },
     "output_type": "display_data"
    }
   ],
   "source": [
    "ggtsdisplay(ts_kings)"
   ]
  },
  {
   "cell_type": "code",
   "execution_count": 8,
   "metadata": {},
   "outputs": [
    {
     "data": {
      "text/plain": [
       "\n",
       "####################### \n",
       "# KPSS Unit Root Test # \n",
       "####################### \n",
       "\n",
       "Test is of type: mu with 3 lags. \n",
       "\n",
       "Value of test-statistic is: 0.4913 \n",
       "\n",
       "Critical value for a significance level of: \n",
       "                10pct  5pct 2.5pct  1pct\n",
       "critical values 0.347 0.463  0.574 0.739\n"
      ]
     },
     "metadata": {},
     "output_type": "display_data"
    }
   ],
   "source": [
    "#kpss검정\n",
    "summary(ur.kpss(ts_kings))\n",
    "# 검정통계량값이 1pct의 임계치보다 작으므로 귀무가설 채택! 해당 데이터는 정상성이다."
   ]
  },
  {
   "cell_type": "code",
   "execution_count": 10,
   "metadata": {},
   "outputs": [
    {
     "data": {
      "text/html": [
       "1"
      ],
      "text/latex": [
       "1"
      ],
      "text/markdown": [
       "1"
      ],
      "text/plain": [
       "[1] 1"
      ]
     },
     "metadata": {},
     "output_type": "display_data"
    }
   ],
   "source": [
    "# 차분횟수 추천\n",
    "ndiffs(ts_kings)"
   ]
  },
  {
   "cell_type": "code",
   "execution_count": 12,
   "metadata": {},
   "outputs": [
    {
     "data": {
      "text/plain": [
       "\n",
       "####################### \n",
       "# KPSS Unit Root Test # \n",
       "####################### \n",
       "\n",
       "Test is of type: mu with 3 lags. \n",
       "\n",
       "Value of test-statistic is: 0.0813 \n",
       "\n",
       "Critical value for a significance level of: \n",
       "                10pct  5pct 2.5pct  1pct\n",
       "critical values 0.347 0.463  0.574 0.739\n"
      ]
     },
     "metadata": {},
     "output_type": "display_data"
    },
    {
     "data": {
      "image/png": "[encoded data removed]",
      "text/plain": [
       "plot without title"
      ]
     },
     "metadata": {
      "image/png": {
       "height": 420,
       "width": 420
      }
     },
     "output_type": "display_data"
    }
   ],
   "source": [
    "ggtsdisplay(diff(ts_kings))\n",
    "summary(ur.kpss(diff(ts_kings)))"
   ]
  },
  {
   "cell_type": "code",
   "execution_count": 13,
   "metadata": {},
   "outputs": [
    {
     "name": "stdout",
     "output_type": "stream",
     "text": [
      "Series: ts_kings \n",
      "ARIMA(0,1,0) \n",
      "\n",
      "sigma^2 estimated as 328.6:  log likelihood=-176.97\n",
      "AIC=355.94   AICc=356.04   BIC=357.65\n",
      "\n",
      "Training set error measures:\n",
      "                      ME     RMSE      MAE       MPE     MAPE      MASE\n",
      "Training set -0.09380952 17.90983 15.52524 -11.41712 38.15135 0.9762803\n",
      "                   ACF1\n",
      "Training set -0.3601964\n",
      "Series: ts_kings \n",
      "ARIMA(0,1,1) \n",
      "\n",
      "Coefficients:\n",
      "          ma1\n",
      "      -0.7218\n",
      "s.e.   0.1208\n",
      "\n",
      "sigma^2 estimated as 236.2:  log likelihood=-170.06\n",
      "AIC=344.13   AICc=344.44   BIC=347.56\n",
      "\n",
      "Training set error measures:\n",
      "                    ME     RMSE      MAE       MPE    MAPE      MASE       ACF1\n",
      "Training set 0.9712931 14.99836 11.92162 -10.40664 29.5176 0.7496724 0.05350284\n",
      "Series: ts_kings \n",
      "ARIMA(0,1,2) \n",
      "\n",
      "Coefficients:\n",
      "          ma1      ma2\n",
      "      -0.6325  -0.1209\n",
      "s.e.   0.1637   0.1666\n",
      "\n",
      "sigma^2 estimated as 239.2:  log likelihood=-169.81\n",
      "AIC=345.63   AICc=346.28   BIC=350.77\n",
      "\n",
      "Training set error measures:\n",
      "                   ME     RMSE      MAE       MPE     MAPE      MASE\n",
      "Training set 1.034685 14.90328 11.95164 -10.41947 29.78395 0.7515601\n",
      "                    ACF1\n",
      "Training set -0.02398956\n",
      "Series: ts_kings \n",
      "ARIMA(1,1,0) \n",
      "\n",
      "Coefficients:\n",
      "          ar1\n",
      "      -0.3713\n",
      "s.e.   0.1468\n",
      "\n",
      "sigma^2 estimated as 290.6:  log likelihood=-174.02\n",
      "AIC=352.04   AICc=352.36   BIC=355.47\n",
      "\n",
      "Training set error measures:\n",
      "                     ME     RMSE      MAE       MPE    MAPE      MASE\n",
      "Training set 0.08540505 16.63676 13.41322 -11.83077 33.5622 0.8434695\n",
      "                   ACF1\n",
      "Training set -0.1250711\n",
      "Series: ts_kings \n",
      "ARIMA(1,1,1) \n",
      "\n",
      "Coefficients:\n",
      "         ar1      ma1\n",
      "      0.1347  -0.7860\n",
      "s.e.  0.2166   0.1398\n",
      "\n",
      "sigma^2 estimated as 239.8:  log likelihood=-169.87\n",
      "AIC=345.74   AICc=346.39   BIC=350.88\n",
      "\n",
      "Training set error measures:\n",
      "                   ME     RMSE      MAE       MPE    MAPE      MASE\n",
      "Training set 1.044045 14.92326 11.90977 -10.44835 29.6983 0.7489276\n",
      "                     ACF1\n",
      "Training set -0.007086128\n",
      "Series: ts_kings \n",
      "ARIMA(1,1,2) \n",
      "\n",
      "Coefficients:\n",
      "          ar1      ma1      ma2\n",
      "      -0.1737  -0.4626  -0.2409\n",
      "s.e.   0.7360   0.7143   0.5037\n",
      "\n",
      "sigma^2 estimated as 245.2:  log likelihood=-169.79\n",
      "AIC=347.57   AICc=348.69   BIC=354.43\n",
      "\n",
      "Training set error measures:\n",
      "                   ME     RMSE      MAE       MPE     MAPE      MASE\n",
      "Training set 1.015096 14.89396 11.97983 -10.37831 29.77501 0.7533331\n",
      "                    ACF1\n",
      "Training set -0.02208347\n",
      "Series: ts_kings \n",
      "ARIMA(0,1,1) \n",
      "\n",
      "Coefficients:\n",
      "          ma1\n",
      "      -0.7218\n",
      "s.e.   0.1208\n",
      "\n",
      "sigma^2 estimated as 236.2:  log likelihood=-170.06\n",
      "AIC=344.13   AICc=344.44   BIC=347.56\n",
      "\n",
      "Training set error measures:\n",
      "                    ME     RMSE      MAE       MPE    MAPE      MASE       ACF1\n",
      "Training set 0.9712931 14.99836 11.92162 -10.40664 29.5176 0.7496724 0.05350284\n"
     ]
    }
   ],
   "source": [
    "# 1번 일반차분한 데이터의 ACF,PACF 그래프그림 통해 ARIMA 차수 정하기\n",
    "# ACF함수에서 튀어나온 막대가 1개이긴 한데 살짝 튀어나왔으므로 MA(0) or MA(1)\n",
    "# PACF함수에서 튀어나온 막대가 2개정도 되긴하지만 모두 살짝 튀어나왔으므로 AR(0) or AR(1) or AR(2)\n",
    "# 모델 후보\n",
    "# ARIMA(0,1,0)\n",
    "# ARIMA(0,1,1)\n",
    "# ARIMA(0,1,2)\n",
    "# ARIMA(1,1,0)\n",
    "# ARIMA(1,1,1)\n",
    "# ARIMA(1,1,2)\n",
    "# auto.arima\n",
    "\n",
    "arima010<-Arima(ts_kings, order=c(0,1,0))\n",
    "arima011<-Arima(ts_kings, order=c(0,1,1))\n",
    "arima012<-Arima(ts_kings, order=c(0,1,2))\n",
    "arima110<-Arima(ts_kings, order=c(1,1,0))\n",
    "arima111<-Arima(ts_kings, order=c(1,1,1))\n",
    "arima112<-Arima(ts_kings, order=c(1,1,2))\n",
    "arima_auto<-auto.arima(ts_kings)\n",
    "\n",
    "summary(arima010)\n",
    "summary(arima011)\n",
    "summary(arima012)\n",
    "summary(arima110)\n",
    "summary(arima111)\n",
    "summary(arima112)\n",
    "summary(arima_auto)"
   ]
  },
  {
   "cell_type": "code",
   "execution_count": 14,
   "metadata": {},
   "outputs": [
    {
     "name": "stdout",
     "output_type": "stream",
     "text": [
      "\n",
      "\tLjung-Box test\n",
      "\n",
      "data:  Residuals from ARIMA(0,1,1)\n",
      "Q* = 4.2785, df = 7, p-value = 0.7472\n",
      "\n",
      "Model df: 1.   Total lags used: 8\n",
      "\n"
     ]
    },
    {
     "data": {
      "image/png": "[encoded data removed]",
      "text/plain": [
       "plot without title"
      ]
     },
     "metadata": {
      "image/png": {
       "height": 420,
       "width": 420
      }
     },
     "output_type": "display_data"
    }
   ],
   "source": [
    "# arima011 모델이 가장 적합!\n",
    "# (1-B)^1 * yt = 0 + (1 + (-0.7218)*B )\n",
    "\n",
    "# 잔차 검정\n",
    "checkresiduals(arima011)"
   ]
  },
  {
   "cell_type": "code",
   "execution_count": 15,
   "metadata": {},
   "outputs": [
    {
     "data": {
      "text/plain": [
       "   Point Forecast    Lo 80    Hi 80    Lo 95     Hi 95\n",
       "43       67.75063 48.05479 87.44646 37.62845  97.87281\n",
       "44       67.75063 47.30662 88.19463 36.48422  99.01703\n",
       "45       67.75063 46.58489 88.91637 35.38042 100.12084\n",
       "46       67.75063 45.88696 89.61429 34.31304 101.18822\n",
       "47       67.75063 45.21064 90.29062 33.27869 102.22257"
      ]
     },
     "metadata": {},
     "output_type": "display_data"
    }
   ],
   "source": [
    "# 선정모델로 5개 값 예측하기\n",
    "for_arima011<-forecast(arima011, h=5)\n",
    "for_arima011"
   ]
  },
  {
   "cell_type": "code",
   "execution_count": 17,
   "metadata": {},
   "outputs": [
    {
     "data": {
      "image/png": "[encoded data removed]",
      "text/plain": [
       "Plot with title \"Forecasts from ARIMA(0,1,1)\""
      ]
     },
     "metadata": {
      "image/png": {
       "height": 420,
       "width": 420
      }
     },
     "output_type": "display_data"
    }
   ],
   "source": [
    "# 원 데이터, 적합 데이터, 예측값 데이터 그려보기\n",
    "plot(for_arima011)\n",
    "lines(for_arima011$fitted, col='red')"
   ]
  },
  {
   "cell_type": "code",
   "execution_count": null,
   "metadata": {},
   "outputs": [],
   "source": [
    "# 적합시킨 모델이 자기회귀 하지않고 차분과 이동평균만 한 모델이므로 미래값이 하나의 값으로 예측됨"
   ]
  }
 ],
 "metadata": {
  "kernelspec": {
   "display_name": "R",
   "language": "R",
   "name": "ir"
  },
  "language_info": {
   "codemirror_mode": "r",
   "file_extension": ".r",
   "mimetype": "text/x-r-source",
   "name": "R",
   "pygments_lexer": "r",
   "version": "3.6.3"
  }
 },
 "nbformat": 4,
 "nbformat_minor": 4
}
