{
 "cells": [
  {
   "cell_type": "code",
   "execution_count": 1,
   "metadata": {},
   "outputs": [
    {
     "name": "stderr",
     "output_type": "stream",
     "text": [
      "Loading required package: ggplot2\n",
      "\n",
      "Loading required package: forecast\n",
      "\n",
      "Registered S3 method overwritten by 'quantmod':\n",
      "  method            from\n",
      "  as.zoo.data.frame zoo \n",
      "\n",
      "Loading required package: fma\n",
      "\n",
      "Loading required package: expsmooth\n",
      "\n"
     ]
    }
   ],
   "source": [
    "library(fpp2)\n",
    "library(forecast)"
   ]
  },
  {
   "cell_type": "code",
   "execution_count": 2,
   "metadata": {
    "scrolled": true
   },
   "outputs": [
    {
     "data": {
      "text/html": [
       "<table>\n",
       "<caption>A Time Series: 41 × 12</caption>\n",
       "<thead>\n",
       "\t<tr><th></th><th scope=col>Jan</th><th scope=col>Feb</th><th scope=col>Mar</th><th scope=col>Apr</th><th scope=col>May</th><th scope=col>Jun</th><th scope=col>Jul</th><th scope=col>Aug</th><th scope=col>Sep</th><th scope=col>Oct</th><th scope=col>Nov</th><th scope=col>Dec</th></tr>\n",
       "</thead>\n",
       "<tbody>\n",
       "\t<tr><th scope=row>1973</th><td>160.218</td><td>143.539</td><td>148.158</td><td>139.589</td><td>147.395</td><td>161.244</td><td>173.733</td><td>177.365</td><td>156.875</td><td>154.197</td><td>148.138</td><td>153.605</td></tr>\n",
       "\t<tr><th scope=row>1974</th><td>157.555</td><td>142.748</td><td>150.342</td><td>142.312</td><td>153.813</td><td>156.440</td><td>178.247</td><td>174.119</td><td>152.467</td><td>152.196</td><td>150.071</td><td>160.009</td></tr>\n",
       "\t<tr><th scope=row>1975</th><td>164.623</td><td>147.349</td><td>155.760</td><td>146.495</td><td>153.531</td><td>162.717</td><td>177.057</td><td>179.931</td><td>155.441</td><td>155.188</td><td>153.035</td><td>169.628</td></tr>\n",
       "\t<tr><th scope=row>1976</th><td>178.609</td><td>156.966</td><td>164.467</td><td>153.467</td><td>157.664</td><td>173.674</td><td>186.691</td><td>186.639</td><td>165.237</td><td>164.009</td><td>169.346</td><td>184.144</td></tr>\n",
       "\t<tr><th scope=row>1977</th><td>196.665</td><td>162.949</td><td>169.437</td><td>157.117</td><td>169.596</td><td>181.031</td><td>199.168</td><td>196.363</td><td>176.498</td><td>166.645</td><td>167.388</td><td>184.589</td></tr>\n",
       "\t<tr><th scope=row>1978</th><td>198.108</td><td>173.746</td><td>173.461</td><td>160.013</td><td>175.549</td><td>188.585</td><td>202.947</td><td>206.659</td><td>185.802</td><td>176.013</td><td>176.389</td><td>192.105</td></tr>\n",
       "\t<tr><th scope=row>1979</th><td>209.987</td><td>186.587</td><td>183.154</td><td>170.260</td><td>178.409</td><td>186.976</td><td>202.522</td><td>205.101</td><td>180.975</td><td>179.953</td><td>177.770</td><td>188.970</td></tr>\n",
       "\t<tr><th scope=row>1980</th><td>200.296</td><td>188.961</td><td>187.745</td><td>169.017</td><td>176.066</td><td>189.748</td><td>217.058</td><td>215.629</td><td>191.698</td><td>178.761</td><td>178.771</td><td>195.849</td></tr>\n",
       "\t<tr><th scope=row>1981</th><td>206.758</td><td>179.860</td><td>185.834</td><td>172.841</td><td>178.139</td><td>203.021</td><td>220.655</td><td>210.639</td><td>187.051</td><td>181.558</td><td>175.792</td><td>195.826</td></tr>\n",
       "\t<tr><th scope=row>1982</th><td>209.694</td><td>180.546</td><td>187.968</td><td>172.877</td><td>177.480</td><td>186.447</td><td>210.865</td><td>205.892</td><td>180.875</td><td>173.172</td><td>173.599</td><td>184.958</td></tr>\n",
       "\t<tr><th scope=row>1983</th><td>195.871</td><td>172.725</td><td>182.769</td><td>170.669</td><td>174.725</td><td>191.367</td><td>220.447</td><td>230.193</td><td>195.817</td><td>183.137</td><td>183.171</td><td>212.555</td></tr>\n",
       "\t<tr><th scope=row>1984</th><td>216.924</td><td>189.810</td><td>200.387</td><td>181.381</td><td>192.550</td><td>209.967</td><td>221.526</td><td>229.532</td><td>195.411</td><td>191.142</td><td>190.602</td><td>200.232</td></tr>\n",
       "\t<tr><th scope=row>1985</th><td>228.148</td><td>198.488</td><td>195.250</td><td>185.173</td><td>197.123</td><td>205.682</td><td>227.004</td><td>226.286</td><td>202.712</td><td>194.995</td><td>192.649</td><td>219.490</td></tr>\n",
       "\t<tr><th scope=row>1986</th><td>217.761</td><td>192.582</td><td>197.115</td><td>186.370</td><td>197.647</td><td>215.334</td><td>242.954</td><td>225.402</td><td>206.905</td><td>197.960</td><td>196.654</td><td>213.787</td></tr>\n",
       "\t<tr><th scope=row>1987</th><td>223.041</td><td>194.281</td><td>202.130</td><td>189.792</td><td>206.407</td><td>225.908</td><td>248.196</td><td>247.881</td><td>213.221</td><td>203.215</td><td>200.479</td><td>220.736</td></tr>\n",
       "\t<tr><th scope=row>1988</th><td>238.188</td><td>217.183</td><td>214.294</td><td>196.297</td><td>208.704</td><td>233.066</td><td>257.742</td><td>267.929</td><td>220.392</td><td>210.814</td><td>209.815</td><td>232.988</td></tr>\n",
       "\t<tr><th scope=row>1989</th><td>246.766</td><td>233.783</td><td>241.946</td><td>222.869</td><td>234.825</td><td>250.919</td><td>273.458</td><td>275.420</td><td>242.794</td><td>235.669</td><td>234.250</td><td>274.448</td></tr>\n",
       "\t<tr><th scope=row>1990</th><td>255.187</td><td>229.499</td><td>244.761</td><td>229.770</td><td>241.774</td><td>268.992</td><td>287.448</td><td>290.655</td><td>258.357</td><td>244.372</td><td>231.242</td><td>255.770</td></tr>\n",
       "\t<tr><th scope=row>1991</th><td>269.214</td><td>228.290</td><td>240.561</td><td>227.799</td><td>254.873</td><td>269.099</td><td>294.648</td><td>292.159</td><td>256.027</td><td>245.378</td><td>241.661</td><td>254.089</td></tr>\n",
       "\t<tr><th scope=row>1992</th><td>267.773</td><td>239.514</td><td>247.733</td><td>233.406</td><td>242.412</td><td>261.077</td><td>293.617</td><td>281.927</td><td>259.925</td><td>244.994</td><td>244.162</td><td>267.343</td></tr>\n",
       "\t<tr><th scope=row>1993</th><td>271.021</td><td>248.015</td><td>261.248</td><td>234.695</td><td>244.326</td><td>275.360</td><td>312.225</td><td>311.450</td><td>264.032</td><td>250.553</td><td>252.102</td><td>272.165</td></tr>\n",
       "\t<tr><th scope=row>1994</th><td>289.768</td><td>249.172</td><td>257.998</td><td>240.637</td><td>252.745</td><td>294.162</td><td>311.257</td><td>307.605</td><td>266.262</td><td>256.528</td><td>251.868</td><td>269.520</td></tr>\n",
       "\t<tr><th scope=row>1995</th><td>279.773</td><td>252.307</td><td>261.343</td><td>244.736</td><td>264.288</td><td>286.258</td><td>330.416</td><td>345.780</td><td>277.575</td><td>263.978</td><td>261.478</td><td>285.554</td></tr>\n",
       "\t<tr><th scope=row>1996</th><td>296.923</td><td>270.685</td><td>275.019</td><td>251.613</td><td>282.266</td><td>302.717</td><td>327.708</td><td>329.286</td><td>283.151</td><td>271.446</td><td>269.122</td><td>284.250</td></tr>\n",
       "\t<tr><th scope=row>1997</th><td>300.574</td><td>258.131</td><td>272.258</td><td>258.284</td><td>272.914</td><td>299.092</td><td>344.516</td><td>332.899</td><td>301.057</td><td>284.971</td><td>271.121</td><td>296.356</td></tr>\n",
       "\t<tr><th scope=row>1998</th><td>295.260</td><td>260.590</td><td>286.878</td><td>261.230</td><td>299.640</td><td>328.903</td><td>361.936</td><td>357.366</td><td>318.924</td><td>284.446</td><td>267.136</td><td>297.986</td></tr>\n",
       "\t<tr><th scope=row>1999</th><td>315.814</td><td>274.820</td><td>298.145</td><td>280.719</td><td>300.098</td><td>328.924</td><td>376.538</td><td>364.031</td><td>305.516</td><td>283.935</td><td>271.096</td><td>295.174</td></tr>\n",
       "\t<tr><th scope=row>2000</th><td>327.994</td><td>294.169</td><td>301.580</td><td>285.578</td><td>322.954</td><td>339.054</td><td>356.528</td><td>368.669</td><td>312.447</td><td>289.452</td><td>284.670</td><td>319.011</td></tr>\n",
       "\t<tr><th scope=row>2001</th><td>332.493</td><td>282.940</td><td>300.707</td><td>278.079</td><td>300.492</td><td>327.694</td><td>357.614</td><td>370.533</td><td>306.929</td><td>294.734</td><td>278.934</td><td>305.496</td></tr>\n",
       "\t<tr><th scope=row>2002</th><td>319.941</td><td>281.826</td><td>302.549</td><td>289.848</td><td>307.675</td><td>341.023</td><td>381.542</td><td>374.586</td><td>331.279</td><td>307.059</td><td>296.290</td><td>324.834</td></tr>\n",
       "\t<tr><th scope=row>2003</th><td>341.989</td><td>299.249</td><td>304.317</td><td>285.756</td><td>307.545</td><td>328.694</td><td>374.396</td><td>381.816</td><td>323.136</td><td>306.741</td><td>297.867</td><td>331.680</td></tr>\n",
       "\t<tr><th scope=row>2004</th><td>346.546</td><td>314.280</td><td>308.812</td><td>290.560</td><td>327.380</td><td>345.085</td><td>377.332</td><td>368.439</td><td>335.622</td><td>312.450</td><td>302.101</td><td>341.948</td></tr>\n",
       "\t<tr><th scope=row>2005</th><td>343.121</td><td>298.500</td><td>317.458</td><td>289.562</td><td>315.062</td><td>363.672</td><td>402.274</td><td>404.941</td><td>350.218</td><td>316.398</td><td>306.115</td><td>348.101</td></tr>\n",
       "\t<tr><th scope=row>2006</th><td>328.658</td><td>307.333</td><td>318.730</td><td>297.858</td><td>330.616</td><td>364.260</td><td>410.421</td><td>407.763</td><td>332.055</td><td>321.567</td><td>309.159</td><td>336.283</td></tr>\n",
       "\t<tr><th scope=row>2007</th><td>353.531</td><td>323.230</td><td>320.471</td><td>303.129</td><td>330.203</td><td>362.755</td><td>393.226</td><td>421.797</td><td>355.394</td><td>332.615</td><td>314.103</td><td>346.290</td></tr>\n",
       "\t<tr><th scope=row>2008</th><td>362.998</td><td>325.106</td><td>324.630</td><td>305.865</td><td>325.245</td><td>373.109</td><td>402.900</td><td>388.987</td><td>338.056</td><td>318.547</td><td>310.046</td><td>343.898</td></tr>\n",
       "\t<tr><th scope=row>2009</th><td>354.993</td><td>300.887</td><td>310.603</td><td>289.537</td><td>311.306</td><td>347.658</td><td>372.542</td><td>381.221</td><td>327.401</td><td>307.040</td><td>296.635</td><td>350.507</td></tr>\n",
       "\t<tr><th scope=row>2010</th><td>360.957</td><td>319.735</td><td>312.168</td><td>287.800</td><td>327.936</td><td>375.759</td><td>409.725</td><td>408.884</td><td>346.045</td><td>307.921</td><td>306.010</td><td>362.119</td></tr>\n",
       "\t<tr><th scope=row>2011</th><td>363.105</td><td>313.293</td><td>318.710</td><td>302.400</td><td>323.627</td><td>367.727</td><td>418.693</td><td>406.541</td><td>337.961</td><td>308.727</td><td>304.119</td><td>335.753</td></tr>\n",
       "\t<tr><th scope=row>2012</th><td>340.919</td><td>310.151</td><td>309.040</td><td>295.940</td><td>337.530</td><td>361.506</td><td>416.515</td><td>396.108</td><td>334.735</td><td>312.157</td><td>305.548</td><td>334.335</td></tr>\n",
       "\t<tr><th scope=row>2013</th><td>348.642</td><td>309.601</td><td>325.372</td><td>298.261</td><td>322.118</td><td>356.400</td><td>       </td><td>       </td><td>       </td><td>       </td><td>       </td><td>       </td></tr>\n",
       "</tbody>\n",
       "</table>\n"
      ],
      "text/latex": [
       "A Time Series: 41 × 12\n",
       "\\begin{tabular}{r|llllllllllll}\n",
       "  & Jan & Feb & Mar & Apr & May & Jun & Jul & Aug & Sep & Oct & Nov & Dec\\\\\n",
       "\\hline\n",
       "\t1973 & 160.218 & 143.539 & 148.158 & 139.589 & 147.395 & 161.244 & 173.733 & 177.365 & 156.875 & 154.197 & 148.138 & 153.605\\\\\n",
       "\t1974 & 157.555 & 142.748 & 150.342 & 142.312 & 153.813 & 156.440 & 178.247 & 174.119 & 152.467 & 152.196 & 150.071 & 160.009\\\\\n",
       "\t1975 & 164.623 & 147.349 & 155.760 & 146.495 & 153.531 & 162.717 & 177.057 & 179.931 & 155.441 & 155.188 & 153.035 & 169.628\\\\\n",
       "\t1976 & 178.609 & 156.966 & 164.467 & 153.467 & 157.664 & 173.674 & 186.691 & 186.639 & 165.237 & 164.009 & 169.346 & 184.144\\\\\n",
       "\t1977 & 196.665 & 162.949 & 169.437 & 157.117 & 169.596 & 181.031 & 199.168 & 196.363 & 176.498 & 166.645 & 167.388 & 184.589\\\\\n",
       "\t1978 & 198.108 & 173.746 & 173.461 & 160.013 & 175.549 & 188.585 & 202.947 & 206.659 & 185.802 & 176.013 & 176.389 & 192.105\\\\\n",
       "\t1979 & 209.987 & 186.587 & 183.154 & 170.260 & 178.409 & 186.976 & 202.522 & 205.101 & 180.975 & 179.953 & 177.770 & 188.970\\\\\n",
       "\t1980 & 200.296 & 188.961 & 187.745 & 169.017 & 176.066 & 189.748 & 217.058 & 215.629 & 191.698 & 178.761 & 178.771 & 195.849\\\\\n",
       "\t1981 & 206.758 & 179.860 & 185.834 & 172.841 & 178.139 & 203.021 & 220.655 & 210.639 & 187.051 & 181.558 & 175.792 & 195.826\\\\\n",
       "\t1982 & 209.694 & 180.546 & 187.968 & 172.877 & 177.480 & 186.447 & 210.865 & 205.892 & 180.875 & 173.172 & 173.599 & 184.958\\\\\n",
       "\t1983 & 195.871 & 172.725 & 182.769 & 170.669 & 174.725 & 191.367 & 220.447 & 230.193 & 195.817 & 183.137 & 183.171 & 212.555\\\\\n",
       "\t1984 & 216.924 & 189.810 & 200.387 & 181.381 & 192.550 & 209.967 & 221.526 & 229.532 & 195.411 & 191.142 & 190.602 & 200.232\\\\\n",
       "\t1985 & 228.148 & 198.488 & 195.250 & 185.173 & 197.123 & 205.682 & 227.004 & 226.286 & 202.712 & 194.995 & 192.649 & 219.490\\\\\n",
       "\t1986 & 217.761 & 192.582 & 197.115 & 186.370 & 197.647 & 215.334 & 242.954 & 225.402 & 206.905 & 197.960 & 196.654 & 213.787\\\\\n",
       "\t1987 & 223.041 & 194.281 & 202.130 & 189.792 & 206.407 & 225.908 & 248.196 & 247.881 & 213.221 & 203.215 & 200.479 & 220.736\\\\\n",
       "\t1988 & 238.188 & 217.183 & 214.294 & 196.297 & 208.704 & 233.066 & 257.742 & 267.929 & 220.392 & 210.814 & 209.815 & 232.988\\\\\n",
       "\t1989 & 246.766 & 233.783 & 241.946 & 222.869 & 234.825 & 250.919 & 273.458 & 275.420 & 242.794 & 235.669 & 234.250 & 274.448\\\\\n",
       "\t1990 & 255.187 & 229.499 & 244.761 & 229.770 & 241.774 & 268.992 & 287.448 & 290.655 & 258.357 & 244.372 & 231.242 & 255.770\\\\\n",
       "\t1991 & 269.214 & 228.290 & 240.561 & 227.799 & 254.873 & 269.099 & 294.648 & 292.159 & 256.027 & 245.378 & 241.661 & 254.089\\\\\n",
       "\t1992 & 267.773 & 239.514 & 247.733 & 233.406 & 242.412 & 261.077 & 293.617 & 281.927 & 259.925 & 244.994 & 244.162 & 267.343\\\\\n",
       "\t1993 & 271.021 & 248.015 & 261.248 & 234.695 & 244.326 & 275.360 & 312.225 & 311.450 & 264.032 & 250.553 & 252.102 & 272.165\\\\\n",
       "\t1994 & 289.768 & 249.172 & 257.998 & 240.637 & 252.745 & 294.162 & 311.257 & 307.605 & 266.262 & 256.528 & 251.868 & 269.520\\\\\n",
       "\t1995 & 279.773 & 252.307 & 261.343 & 244.736 & 264.288 & 286.258 & 330.416 & 345.780 & 277.575 & 263.978 & 261.478 & 285.554\\\\\n",
       "\t1996 & 296.923 & 270.685 & 275.019 & 251.613 & 282.266 & 302.717 & 327.708 & 329.286 & 283.151 & 271.446 & 269.122 & 284.250\\\\\n",
       "\t1997 & 300.574 & 258.131 & 272.258 & 258.284 & 272.914 & 299.092 & 344.516 & 332.899 & 301.057 & 284.971 & 271.121 & 296.356\\\\\n",
       "\t1998 & 295.260 & 260.590 & 286.878 & 261.230 & 299.640 & 328.903 & 361.936 & 357.366 & 318.924 & 284.446 & 267.136 & 297.986\\\\\n",
       "\t1999 & 315.814 & 274.820 & 298.145 & 280.719 & 300.098 & 328.924 & 376.538 & 364.031 & 305.516 & 283.935 & 271.096 & 295.174\\\\\n",
       "\t2000 & 327.994 & 294.169 & 301.580 & 285.578 & 322.954 & 339.054 & 356.528 & 368.669 & 312.447 & 289.452 & 284.670 & 319.011\\\\\n",
       "\t2001 & 332.493 & 282.940 & 300.707 & 278.079 & 300.492 & 327.694 & 357.614 & 370.533 & 306.929 & 294.734 & 278.934 & 305.496\\\\\n",
       "\t2002 & 319.941 & 281.826 & 302.549 & 289.848 & 307.675 & 341.023 & 381.542 & 374.586 & 331.279 & 307.059 & 296.290 & 324.834\\\\\n",
       "\t2003 & 341.989 & 299.249 & 304.317 & 285.756 & 307.545 & 328.694 & 374.396 & 381.816 & 323.136 & 306.741 & 297.867 & 331.680\\\\\n",
       "\t2004 & 346.546 & 314.280 & 308.812 & 290.560 & 327.380 & 345.085 & 377.332 & 368.439 & 335.622 & 312.450 & 302.101 & 341.948\\\\\n",
       "\t2005 & 343.121 & 298.500 & 317.458 & 289.562 & 315.062 & 363.672 & 402.274 & 404.941 & 350.218 & 316.398 & 306.115 & 348.101\\\\\n",
       "\t2006 & 328.658 & 307.333 & 318.730 & 297.858 & 330.616 & 364.260 & 410.421 & 407.763 & 332.055 & 321.567 & 309.159 & 336.283\\\\\n",
       "\t2007 & 353.531 & 323.230 & 320.471 & 303.129 & 330.203 & 362.755 & 393.226 & 421.797 & 355.394 & 332.615 & 314.103 & 346.290\\\\\n",
       "\t2008 & 362.998 & 325.106 & 324.630 & 305.865 & 325.245 & 373.109 & 402.900 & 388.987 & 338.056 & 318.547 & 310.046 & 343.898\\\\\n",
       "\t2009 & 354.993 & 300.887 & 310.603 & 289.537 & 311.306 & 347.658 & 372.542 & 381.221 & 327.401 & 307.040 & 296.635 & 350.507\\\\\n",
       "\t2010 & 360.957 & 319.735 & 312.168 & 287.800 & 327.936 & 375.759 & 409.725 & 408.884 & 346.045 & 307.921 & 306.010 & 362.119\\\\\n",
       "\t2011 & 363.105 & 313.293 & 318.710 & 302.400 & 323.627 & 367.727 & 418.693 & 406.541 & 337.961 & 308.727 & 304.119 & 335.753\\\\\n",
       "\t2012 & 340.919 & 310.151 & 309.040 & 295.940 & 337.530 & 361.506 & 416.515 & 396.108 & 334.735 & 312.157 & 305.548 & 334.335\\\\\n",
       "\t2013 & 348.642 & 309.601 & 325.372 & 298.261 & 322.118 & 356.400 &         &         &         &         &         &        \\\\\n",
       "\\end{tabular}\n"
      ],
      "text/markdown": [
       "\n",
       "A Time Series: 41 × 12\n",
       "\n",
       "| <!--/--> | Jan | Feb | Mar | Apr | May | Jun | Jul | Aug | Sep | Oct | Nov | Dec |\n",
       "|---|---|---|---|---|---|---|---|---|---|---|---|---|\n",
       "| 1973 | 160.218 | 143.539 | 148.158 | 139.589 | 147.395 | 161.244 | 173.733 | 177.365 | 156.875 | 154.197 | 148.138 | 153.605 |\n",
       "| 1974 | 157.555 | 142.748 | 150.342 | 142.312 | 153.813 | 156.440 | 178.247 | 174.119 | 152.467 | 152.196 | 150.071 | 160.009 |\n",
       "| 1975 | 164.623 | 147.349 | 155.760 | 146.495 | 153.531 | 162.717 | 177.057 | 179.931 | 155.441 | 155.188 | 153.035 | 169.628 |\n",
       "| 1976 | 178.609 | 156.966 | 164.467 | 153.467 | 157.664 | 173.674 | 186.691 | 186.639 | 165.237 | 164.009 | 169.346 | 184.144 |\n",
       "| 1977 | 196.665 | 162.949 | 169.437 | 157.117 | 169.596 | 181.031 | 199.168 | 196.363 | 176.498 | 166.645 | 167.388 | 184.589 |\n",
       "| 1978 | 198.108 | 173.746 | 173.461 | 160.013 | 175.549 | 188.585 | 202.947 | 206.659 | 185.802 | 176.013 | 176.389 | 192.105 |\n",
       "| 1979 | 209.987 | 186.587 | 183.154 | 170.260 | 178.409 | 186.976 | 202.522 | 205.101 | 180.975 | 179.953 | 177.770 | 188.970 |\n",
       "| 1980 | 200.296 | 188.961 | 187.745 | 169.017 | 176.066 | 189.748 | 217.058 | 215.629 | 191.698 | 178.761 | 178.771 | 195.849 |\n",
       "| 1981 | 206.758 | 179.860 | 185.834 | 172.841 | 178.139 | 203.021 | 220.655 | 210.639 | 187.051 | 181.558 | 175.792 | 195.826 |\n",
       "| 1982 | 209.694 | 180.546 | 187.968 | 172.877 | 177.480 | 186.447 | 210.865 | 205.892 | 180.875 | 173.172 | 173.599 | 184.958 |\n",
       "| 1983 | 195.871 | 172.725 | 182.769 | 170.669 | 174.725 | 191.367 | 220.447 | 230.193 | 195.817 | 183.137 | 183.171 | 212.555 |\n",
       "| 1984 | 216.924 | 189.810 | 200.387 | 181.381 | 192.550 | 209.967 | 221.526 | 229.532 | 195.411 | 191.142 | 190.602 | 200.232 |\n",
       "| 1985 | 228.148 | 198.488 | 195.250 | 185.173 | 197.123 | 205.682 | 227.004 | 226.286 | 202.712 | 194.995 | 192.649 | 219.490 |\n",
       "| 1986 | 217.761 | 192.582 | 197.115 | 186.370 | 197.647 | 215.334 | 242.954 | 225.402 | 206.905 | 197.960 | 196.654 | 213.787 |\n",
       "| 1987 | 223.041 | 194.281 | 202.130 | 189.792 | 206.407 | 225.908 | 248.196 | 247.881 | 213.221 | 203.215 | 200.479 | 220.736 |\n",
       "| 1988 | 238.188 | 217.183 | 214.294 | 196.297 | 208.704 | 233.066 | 257.742 | 267.929 | 220.392 | 210.814 | 209.815 | 232.988 |\n",
       "| 1989 | 246.766 | 233.783 | 241.946 | 222.869 | 234.825 | 250.919 | 273.458 | 275.420 | 242.794 | 235.669 | 234.250 | 274.448 |\n",
       "| 1990 | 255.187 | 229.499 | 244.761 | 229.770 | 241.774 | 268.992 | 287.448 | 290.655 | 258.357 | 244.372 | 231.242 | 255.770 |\n",
       "| 1991 | 269.214 | 228.290 | 240.561 | 227.799 | 254.873 | 269.099 | 294.648 | 292.159 | 256.027 | 245.378 | 241.661 | 254.089 |\n",
       "| 1992 | 267.773 | 239.514 | 247.733 | 233.406 | 242.412 | 261.077 | 293.617 | 281.927 | 259.925 | 244.994 | 244.162 | 267.343 |\n",
       "| 1993 | 271.021 | 248.015 | 261.248 | 234.695 | 244.326 | 275.360 | 312.225 | 311.450 | 264.032 | 250.553 | 252.102 | 272.165 |\n",
       "| 1994 | 289.768 | 249.172 | 257.998 | 240.637 | 252.745 | 294.162 | 311.257 | 307.605 | 266.262 | 256.528 | 251.868 | 269.520 |\n",
       "| 1995 | 279.773 | 252.307 | 261.343 | 244.736 | 264.288 | 286.258 | 330.416 | 345.780 | 277.575 | 263.978 | 261.478 | 285.554 |\n",
       "| 1996 | 296.923 | 270.685 | 275.019 | 251.613 | 282.266 | 302.717 | 327.708 | 329.286 | 283.151 | 271.446 | 269.122 | 284.250 |\n",
       "| 1997 | 300.574 | 258.131 | 272.258 | 258.284 | 272.914 | 299.092 | 344.516 | 332.899 | 301.057 | 284.971 | 271.121 | 296.356 |\n",
       "| 1998 | 295.260 | 260.590 | 286.878 | 261.230 | 299.640 | 328.903 | 361.936 | 357.366 | 318.924 | 284.446 | 267.136 | 297.986 |\n",
       "| 1999 | 315.814 | 274.820 | 298.145 | 280.719 | 300.098 | 328.924 | 376.538 | 364.031 | 305.516 | 283.935 | 271.096 | 295.174 |\n",
       "| 2000 | 327.994 | 294.169 | 301.580 | 285.578 | 322.954 | 339.054 | 356.528 | 368.669 | 312.447 | 289.452 | 284.670 | 319.011 |\n",
       "| 2001 | 332.493 | 282.940 | 300.707 | 278.079 | 300.492 | 327.694 | 357.614 | 370.533 | 306.929 | 294.734 | 278.934 | 305.496 |\n",
       "| 2002 | 319.941 | 281.826 | 302.549 | 289.848 | 307.675 | 341.023 | 381.542 | 374.586 | 331.279 | 307.059 | 296.290 | 324.834 |\n",
       "| 2003 | 341.989 | 299.249 | 304.317 | 285.756 | 307.545 | 328.694 | 374.396 | 381.816 | 323.136 | 306.741 | 297.867 | 331.680 |\n",
       "| 2004 | 346.546 | 314.280 | 308.812 | 290.560 | 327.380 | 345.085 | 377.332 | 368.439 | 335.622 | 312.450 | 302.101 | 341.948 |\n",
       "| 2005 | 343.121 | 298.500 | 317.458 | 289.562 | 315.062 | 363.672 | 402.274 | 404.941 | 350.218 | 316.398 | 306.115 | 348.101 |\n",
       "| 2006 | 328.658 | 307.333 | 318.730 | 297.858 | 330.616 | 364.260 | 410.421 | 407.763 | 332.055 | 321.567 | 309.159 | 336.283 |\n",
       "| 2007 | 353.531 | 323.230 | 320.471 | 303.129 | 330.203 | 362.755 | 393.226 | 421.797 | 355.394 | 332.615 | 314.103 | 346.290 |\n",
       "| 2008 | 362.998 | 325.106 | 324.630 | 305.865 | 325.245 | 373.109 | 402.900 | 388.987 | 338.056 | 318.547 | 310.046 | 343.898 |\n",
       "| 2009 | 354.993 | 300.887 | 310.603 | 289.537 | 311.306 | 347.658 | 372.542 | 381.221 | 327.401 | 307.040 | 296.635 | 350.507 |\n",
       "| 2010 | 360.957 | 319.735 | 312.168 | 287.800 | 327.936 | 375.759 | 409.725 | 408.884 | 346.045 | 307.921 | 306.010 | 362.119 |\n",
       "| 2011 | 363.105 | 313.293 | 318.710 | 302.400 | 323.627 | 367.727 | 418.693 | 406.541 | 337.961 | 308.727 | 304.119 | 335.753 |\n",
       "| 2012 | 340.919 | 310.151 | 309.040 | 295.940 | 337.530 | 361.506 | 416.515 | 396.108 | 334.735 | 312.157 | 305.548 | 334.335 |\n",
       "| 2013 | 348.642 | 309.601 | 325.372 | 298.261 | 322.118 | 356.400 | <!----> | <!----> | <!----> | <!----> | <!----> | <!----> |\n",
       "\n"
      ],
      "text/plain": [
       "     Jan     Feb     Mar     Apr     May     Jun     Jul     Aug     Sep    \n",
       "1973 160.218 143.539 148.158 139.589 147.395 161.244 173.733 177.365 156.875\n",
       "1974 157.555 142.748 150.342 142.312 153.813 156.440 178.247 174.119 152.467\n",
       "1975 164.623 147.349 155.760 146.495 153.531 162.717 177.057 179.931 155.441\n",
       "1976 178.609 156.966 164.467 153.467 157.664 173.674 186.691 186.639 165.237\n",
       "1977 196.665 162.949 169.437 157.117 169.596 181.031 199.168 196.363 176.498\n",
       "1978 198.108 173.746 173.461 160.013 175.549 188.585 202.947 206.659 185.802\n",
       "1979 209.987 186.587 183.154 170.260 178.409 186.976 202.522 205.101 180.975\n",
       "1980 200.296 188.961 187.745 169.017 176.066 189.748 217.058 215.629 191.698\n",
       "1981 206.758 179.860 185.834 172.841 178.139 203.021 220.655 210.639 187.051\n",
       "1982 209.694 180.546 187.968 172.877 177.480 186.447 210.865 205.892 180.875\n",
       "1983 195.871 172.725 182.769 170.669 174.725 191.367 220.447 230.193 195.817\n",
       "1984 216.924 189.810 200.387 181.381 192.550 209.967 221.526 229.532 195.411\n",
       "1985 228.148 198.488 195.250 185.173 197.123 205.682 227.004 226.286 202.712\n",
       "1986 217.761 192.582 197.115 186.370 197.647 215.334 242.954 225.402 206.905\n",
       "1987 223.041 194.281 202.130 189.792 206.407 225.908 248.196 247.881 213.221\n",
       "1988 238.188 217.183 214.294 196.297 208.704 233.066 257.742 267.929 220.392\n",
       "1989 246.766 233.783 241.946 222.869 234.825 250.919 273.458 275.420 242.794\n",
       "1990 255.187 229.499 244.761 229.770 241.774 268.992 287.448 290.655 258.357\n",
       "1991 269.214 228.290 240.561 227.799 254.873 269.099 294.648 292.159 256.027\n",
       "1992 267.773 239.514 247.733 233.406 242.412 261.077 293.617 281.927 259.925\n",
       "1993 271.021 248.015 261.248 234.695 244.326 275.360 312.225 311.450 264.032\n",
       "1994 289.768 249.172 257.998 240.637 252.745 294.162 311.257 307.605 266.262\n",
       "1995 279.773 252.307 261.343 244.736 264.288 286.258 330.416 345.780 277.575\n",
       "1996 296.923 270.685 275.019 251.613 282.266 302.717 327.708 329.286 283.151\n",
       "1997 300.574 258.131 272.258 258.284 272.914 299.092 344.516 332.899 301.057\n",
       "1998 295.260 260.590 286.878 261.230 299.640 328.903 361.936 357.366 318.924\n",
       "1999 315.814 274.820 298.145 280.719 300.098 328.924 376.538 364.031 305.516\n",
       "2000 327.994 294.169 301.580 285.578 322.954 339.054 356.528 368.669 312.447\n",
       "2001 332.493 282.940 300.707 278.079 300.492 327.694 357.614 370.533 306.929\n",
       "2002 319.941 281.826 302.549 289.848 307.675 341.023 381.542 374.586 331.279\n",
       "2003 341.989 299.249 304.317 285.756 307.545 328.694 374.396 381.816 323.136\n",
       "2004 346.546 314.280 308.812 290.560 327.380 345.085 377.332 368.439 335.622\n",
       "2005 343.121 298.500 317.458 289.562 315.062 363.672 402.274 404.941 350.218\n",
       "2006 328.658 307.333 318.730 297.858 330.616 364.260 410.421 407.763 332.055\n",
       "2007 353.531 323.230 320.471 303.129 330.203 362.755 393.226 421.797 355.394\n",
       "2008 362.998 325.106 324.630 305.865 325.245 373.109 402.900 388.987 338.056\n",
       "2009 354.993 300.887 310.603 289.537 311.306 347.658 372.542 381.221 327.401\n",
       "2010 360.957 319.735 312.168 287.800 327.936 375.759 409.725 408.884 346.045\n",
       "2011 363.105 313.293 318.710 302.400 323.627 367.727 418.693 406.541 337.961\n",
       "2012 340.919 310.151 309.040 295.940 337.530 361.506 416.515 396.108 334.735\n",
       "2013 348.642 309.601 325.372 298.261 322.118 356.400                        \n",
       "     Oct     Nov     Dec    \n",
       "1973 154.197 148.138 153.605\n",
       "1974 152.196 150.071 160.009\n",
       "1975 155.188 153.035 169.628\n",
       "1976 164.009 169.346 184.144\n",
       "1977 166.645 167.388 184.589\n",
       "1978 176.013 176.389 192.105\n",
       "1979 179.953 177.770 188.970\n",
       "1980 178.761 178.771 195.849\n",
       "1981 181.558 175.792 195.826\n",
       "1982 173.172 173.599 184.958\n",
       "1983 183.137 183.171 212.555\n",
       "1984 191.142 190.602 200.232\n",
       "1985 194.995 192.649 219.490\n",
       "1986 197.960 196.654 213.787\n",
       "1987 203.215 200.479 220.736\n",
       "1988 210.814 209.815 232.988\n",
       "1989 235.669 234.250 274.448\n",
       "1990 244.372 231.242 255.770\n",
       "1991 245.378 241.661 254.089\n",
       "1992 244.994 244.162 267.343\n",
       "1993 250.553 252.102 272.165\n",
       "1994 256.528 251.868 269.520\n",
       "1995 263.978 261.478 285.554\n",
       "1996 271.446 269.122 284.250\n",
       "1997 284.971 271.121 296.356\n",
       "1998 284.446 267.136 297.986\n",
       "1999 283.935 271.096 295.174\n",
       "2000 289.452 284.670 319.011\n",
       "2001 294.734 278.934 305.496\n",
       "2002 307.059 296.290 324.834\n",
       "2003 306.741 297.867 331.680\n",
       "2004 312.450 302.101 341.948\n",
       "2005 316.398 306.115 348.101\n",
       "2006 321.567 309.159 336.283\n",
       "2007 332.615 314.103 346.290\n",
       "2008 318.547 310.046 343.898\n",
       "2009 307.040 296.635 350.507\n",
       "2010 307.921 306.010 362.119\n",
       "2011 308.727 304.119 335.753\n",
       "2012 312.157 305.548 334.335\n",
       "2013                        "
      ]
     },
     "metadata": {},
     "output_type": "display_data"
    }
   ],
   "source": [
    "usmelec"
   ]
  },
  {
   "cell_type": "code",
   "execution_count": 3,
   "metadata": {},
   "outputs": [
    {
     "data": {
      "image/png": "[encoded data removed]",
      "text/plain": [
       "plot without title"
      ]
     },
     "metadata": {
      "image/png": {
       "height": 420,
       "width": 420
      }
     },
     "output_type": "display_data"
    }
   ],
   "source": [
    "plot(usmelec)\n",
    "# 증가추세 "
   ]
  },
  {
   "cell_type": "code",
   "execution_count": 4,
   "metadata": {
    "scrolled": false
   },
   "outputs": [
    {
     "data": {
      "text/plain": [
       "         Point Forecast    Lo 80    Hi 80    Lo 95    Hi 95\n",
       "Jul 2013       356.3966 325.7519 387.0413 309.5295 403.2636\n",
       "Aug 2013       356.3966 313.0606 399.7326 290.1199 422.6732\n",
       "Sep 2013       356.3966 303.3219 409.4712 275.2259 437.5672\n",
       "Oct 2013       356.3966 295.1118 417.6814 262.6695 450.1236\n",
       "Nov 2013       356.3966 287.8784 424.9147 251.6071 461.1860\n",
       "Dec 2013       356.3966 281.3389 431.4542 241.6058 471.1873\n",
       "Jan 2014       356.3966 275.3253 437.4679 232.4087 480.3844\n",
       "Feb 2014       356.3966 269.7278 443.0653 223.8482 488.9449\n",
       "Mar 2014       356.3966 264.4706 448.3225 215.8080 496.9852\n",
       "Apr 2014       356.3966 259.4982 453.2949 208.2034 504.5898"
      ]
     },
     "metadata": {},
     "output_type": "display_data"
    },
    {
     "name": "stdout",
     "output_type": "stream",
     "text": [
      "\n",
      "Forecast method: Simple exponential smoothing\n",
      "\n",
      "Model Information:\n",
      "Simple exponential smoothing \n",
      "\n",
      "Call:\n",
      " ses(y = usmelec, initial = \"optimal\") \n",
      "\n",
      "  Smoothing parameters:\n",
      "    alpha = 0.9999 \n",
      "\n",
      "  Initial states:\n",
      "    l = 160.214 \n",
      "\n",
      "  sigma:  23.9122\n",
      "\n",
      "     AIC     AICc      BIC \n",
      "6095.999 6096.048 6108.557 \n",
      "\n",
      "Error measures:\n",
      "                    ME     RMSE      MAE        MPE     MAPE     MASE      ACF1\n",
      "Training set 0.4037083 23.86294 19.26069 -0.2006581 7.279268 2.138949 0.1307483\n",
      "\n",
      "Forecasts:\n",
      "         Point Forecast    Lo 80    Hi 80    Lo 95    Hi 95\n",
      "Jul 2013       356.3966 325.7519 387.0413 309.5295 403.2636\n",
      "Aug 2013       356.3966 313.0606 399.7326 290.1199 422.6732\n",
      "Sep 2013       356.3966 303.3219 409.4712 275.2259 437.5672\n",
      "Oct 2013       356.3966 295.1118 417.6814 262.6695 450.1236\n",
      "Nov 2013       356.3966 287.8784 424.9147 251.6071 461.1860\n",
      "Dec 2013       356.3966 281.3389 431.4542 241.6058 471.1873\n",
      "Jan 2014       356.3966 275.3253 437.4679 232.4087 480.3844\n",
      "Feb 2014       356.3966 269.7278 443.0653 223.8482 488.9449\n",
      "Mar 2014       356.3966 264.4706 448.3225 215.8080 496.9852\n",
      "Apr 2014       356.3966 259.4982 453.2949 208.2034 504.5898\n"
     ]
    },
    {
     "data": {
      "text/plain": [
       "         Point Forecast    Lo 80    Hi 80    Lo 95    Hi 95\n",
       "Jul 2013       337.9158 305.4134 370.4181 288.2077 387.6238\n",
       "Aug 2013       337.8431 305.3024 370.3837 288.0764 387.6097\n",
       "Sep 2013       337.7703 305.1896 370.3511 287.9424 387.5982\n",
       "Oct 2013       337.6976 305.0750 370.3202 287.8056 387.5896\n",
       "Nov 2013       337.6249 304.9585 370.2912 287.6660 387.5838\n",
       "Dec 2013       337.5522 304.8402 370.2641 287.5235 387.5808\n",
       "Jan 2014       337.4794 304.7199 370.2390 287.3781 387.5808\n",
       "Feb 2014       337.4067 304.5977 370.2158 287.2296 387.5838\n",
       "Mar 2014       337.3340 304.4735 370.1945 287.0782 387.5898\n",
       "Apr 2014       337.2613 304.3472 370.1753 286.9236 387.5989\n",
       "May 2014       337.1886 304.2190 370.1581 286.7659 387.6112\n",
       "Jun 2014       337.1158 304.0886 370.1431 286.6050 387.6266"
      ]
     },
     "metadata": {},
     "output_type": "display_data"
    },
    {
     "name": "stdout",
     "output_type": "stream",
     "text": [
      "\n",
      "Forecast method: Holt's method\n",
      "\n",
      "Model Information:\n",
      "Holt's method \n",
      "\n",
      "Call:\n",
      " holt(y = usmelec, h = 12) \n",
      "\n",
      "  Smoothing parameters:\n",
      "    alpha = 0.0474 \n",
      "    beta  = 0.0011 \n",
      "\n",
      "  Initial states:\n",
      "    l = 152.3208 \n",
      "    b = 0.4317 \n",
      "\n",
      "  sigma:  25.3617\n",
      "\n",
      "     AIC     AICc      BIC \n",
      "6155.191 6155.316 6176.122 \n",
      "\n",
      "Error measures:\n",
      "                     ME     RMSE      MAE        MPE     MAPE     MASE\n",
      "Training set -0.9059882 25.25713 19.78808 -0.9871136 7.336585 2.197518\n",
      "                  ACF1\n",
      "Training set 0.5302728\n",
      "\n",
      "Forecasts:\n",
      "         Point Forecast    Lo 80    Hi 80    Lo 95    Hi 95\n",
      "Jul 2013       337.9158 305.4134 370.4181 288.2077 387.6238\n",
      "Aug 2013       337.8431 305.3024 370.3837 288.0764 387.6097\n",
      "Sep 2013       337.7703 305.1896 370.3511 287.9424 387.5982\n",
      "Oct 2013       337.6976 305.0750 370.3202 287.8056 387.5896\n",
      "Nov 2013       337.6249 304.9585 370.2912 287.6660 387.5838\n",
      "Dec 2013       337.5522 304.8402 370.2641 287.5235 387.5808\n",
      "Jan 2014       337.4794 304.7199 370.2390 287.3781 387.5808\n",
      "Feb 2014       337.4067 304.5977 370.2158 287.2296 387.5838\n",
      "Mar 2014       337.3340 304.4735 370.1945 287.0782 387.5898\n",
      "Apr 2014       337.2613 304.3472 370.1753 286.9236 387.5989\n",
      "May 2014       337.1886 304.2190 370.1581 286.7659 387.6112\n",
      "Jun 2014       337.1158 304.0886 370.1431 286.6050 387.6266\n"
     ]
    },
    {
     "data": {
      "text/plain": [
       "         Point Forecast    Lo 80    Hi 80    Lo 95    Hi 95\n",
       "Jul 2013       402.1854 387.8198 416.5509 380.2151 424.1556\n",
       "Aug 2013       395.7005 380.9432 410.4578 373.1312 418.2698\n",
       "Sep 2013       336.2200 323.1735 349.2665 316.2671 356.1729\n",
       "Oct 2013       312.4623 299.8844 325.0402 293.2260 331.6985\n",
       "Nov 2013       305.6901 292.9573 318.4228 286.2170 325.1631\n",
       "Dec 2013       343.3130 328.5494 358.0767 320.7340 365.8921\n",
       "Jan 2014       352.4089 336.7931 368.0246 328.5266 376.2911\n",
       "Feb 2014       312.6958 298.4431 326.9486 290.8981 334.4935\n",
       "Mar 2014       318.7814 303.8583 333.7044 295.9585 341.6042\n",
       "Apr 2014       298.6912 284.3503 313.0320 276.7588 320.6236\n",
       "May 2014       328.3962 312.2454 344.5470 303.6957 353.0967\n",
       "Jun 2014       364.7828 346.4266 383.1389 336.7095 392.8560"
      ]
     },
     "metadata": {},
     "output_type": "display_data"
    },
    {
     "name": "stdout",
     "output_type": "stream",
     "text": [
      "\n",
      "Forecast method: Holt-Winters' multiplicative method\n",
      "\n",
      "Model Information:\n",
      "Holt-Winters' multiplicative method \n",
      "\n",
      "Call:\n",
      " hw(y = usmelec, h = 12, seasonal = \"multiplicative\") \n",
      "\n",
      "  Smoothing parameters:\n",
      "    alpha = 0.3004 \n",
      "    beta  = 1e-04 \n",
      "    gamma = 0.2085 \n",
      "\n",
      "  Initial states:\n",
      "    l = 153.7957 \n",
      "    b = 0.3646 \n",
      "    s = 1.0313 0.9523 0.9551 0.9843 1.118 1.1198\n",
      "           1.0146 0.9428 0.9022 0.9709 0.9448 1.0639\n",
      "\n",
      "  sigma:  0.0279\n",
      "\n",
      "     AIC     AICc      BIC \n",
      "4911.974 4913.282 4983.140 \n",
      "\n",
      "Error measures:\n",
      "                     ME     RMSE      MAE         MPE     MAPE      MASE\n",
      "Training set 0.07495251 7.537747 5.704131 -0.03782075 2.158811 0.6334585\n",
      "                  ACF1\n",
      "Training set 0.2207096\n",
      "\n",
      "Forecasts:\n",
      "         Point Forecast    Lo 80    Hi 80    Lo 95    Hi 95\n",
      "Jul 2013       402.1854 387.8198 416.5509 380.2151 424.1556\n",
      "Aug 2013       395.7005 380.9432 410.4578 373.1312 418.2698\n",
      "Sep 2013       336.2200 323.1735 349.2665 316.2671 356.1729\n",
      "Oct 2013       312.4623 299.8844 325.0402 293.2260 331.6985\n",
      "Nov 2013       305.6901 292.9573 318.4228 286.2170 325.1631\n",
      "Dec 2013       343.3130 328.5494 358.0767 320.7340 365.8921\n",
      "Jan 2014       352.4089 336.7931 368.0246 328.5266 376.2911\n",
      "Feb 2014       312.6958 298.4431 326.9486 290.8981 334.4935\n",
      "Mar 2014       318.7814 303.8583 333.7044 295.9585 341.6042\n",
      "Apr 2014       298.6912 284.3503 313.0320 276.7588 320.6236\n",
      "May 2014       328.3962 312.2454 344.5470 303.6957 353.0967\n",
      "Jun 2014       364.7828 346.4266 383.1389 336.7095 392.8560\n"
     ]
    }
   ],
   "source": [
    "# 단순지수 평활법\n",
    "us_ses<-ses(usmelec, initial='optimal')\n",
    "# 예측 시점 실제값 데이터가 없기 떄문에 하나의 값으로 예측값 출력\n",
    "us_ses\n",
    "# ses함수로 적합된 값 출력\n",
    "    #us_ses$fitted\n",
    "# ses함수 적용후 통계값 요약\n",
    "summary(us_ses)\n",
    "\n",
    "# 홀트선형지수 평활법, 12개 미래값 예측\n",
    "us_holt<-holt(usmelec, h=12)\n",
    "# 홀트선형지수평활법으로 예측한 값 출력(mean값 사용해도 무방)\n",
    "us_holt\n",
    " ##us_holt$mean\n",
    "# 적합된 값 출력\n",
    "    #us_holt$fitted\n",
    "# 홀트선형 적용후 통계값 요약\n",
    "summary(us_holt)\n",
    "\n",
    "# 홀트윈터스 모형(원본 데이터 증가추세이므로 '승법'적용)\n",
    "us_hw<-hw(usmelec, seasonal='multiplicative', h=12)\n",
    "# 예측값 출력\n",
    "us_hw\n",
    "# 적합된 값 출력\n",
    "    #us_hw$fitted\n",
    "# 홀트윈터스(승법모형)적용한 통계값 요약\n",
    "summary(us_hw)"
   ]
  },
  {
   "cell_type": "code",
   "execution_count": 5,
   "metadata": {},
   "outputs": [
    {
     "data": {
      "image/png": "[encoded data removed]",
      "text/plain": [
       "plot without title"
      ]
     },
     "metadata": {
      "image/png": {
       "height": 420,
       "width": 420
      }
     },
     "output_type": "display_data"
    }
   ],
   "source": [
    "#단순지수평활법) 원데이터, 적합된 값 차트로 표현\n",
    "plot(usmelec)\n",
    "lines(us_ses$fitted, col='red')"
   ]
  },
  {
   "cell_type": "code",
   "execution_count": 6,
   "metadata": {},
   "outputs": [
    {
     "data": {
      "image/png": "[encoded data removed]",
      "text/plain": [
       "plot without title"
      ]
     },
     "metadata": {
      "image/png": {
       "height": 420,
       "width": 420
      }
     },
     "output_type": "display_data"
    }
   ],
   "source": [
    "#홀트선형) 원데이터와 적합된 데이터 표시\n",
    "plot(usmelec)\n",
    "lines(us_holt$fitted, col='blue')"
   ]
  },
  {
   "cell_type": "code",
   "execution_count": 7,
   "metadata": {},
   "outputs": [
    {
     "data": {
      "image/png": "[encoded data removed]",
      "text/plain": [
       "plot without title"
      ]
     },
     "metadata": {
      "image/png": {
       "height": 420,
       "width": 420
      }
     },
     "output_type": "display_data"
    }
   ],
   "source": [
    "# 홀트-윈터스(승법) ) 원데이터와 적합된 값 표시\n",
    "plot(usmelec)\n",
    "lines(us_hw$fitted, col='red')"
   ]
  },
  {
   "cell_type": "code",
   "execution_count": 10,
   "metadata": {},
   "outputs": [
    {
     "data": {
      "image/png": "[encoded data removed]",
      "text/plain": [
       "plot without title"
      ]
     },
     "metadata": {
      "image/png": {
       "height": 420,
       "width": 420
      }
     },
     "output_type": "display_data"
    }
   ],
   "source": [
    "#단순지수평활법 최적 파라미터값 찾아보기(initial='simple'로 고정)\n",
    "\n",
    "y_rmse<-c()\n",
    "alpha_vec<-c()\n",
    "alpha<-0\n",
    "while (alpha <1){\n",
    "    ses<-ses(usmelec, initial='simple', alpha=alpha)\n",
    "    rmse<-sqrt(mean((ses$residuals)^2))\n",
    "    y_rmse<-append(y_rmse, rmse)\n",
    "    alpha_vec<-append(alpha_vec, alpha)\n",
    "    alpha = alpha + 0.1\n",
    "}\n",
    "\n",
    "plot(x=alpha_vec, y=y_rmse, 'l', col='red')"
   ]
  },
  {
   "cell_type": "code",
   "execution_count": 34,
   "metadata": {},
   "outputs": [
    {
     "data": {
      "image/png": "[encoded data removed]",
      "text/plain": [
       "plot without title"
      ]
     },
     "metadata": {
      "image/png": {
       "height": 420,
       "width": 420
      }
     },
     "output_type": "display_data"
    }
   ],
   "source": [
    "plot(x = x_alpha, y=y_rmse, 'l', col='red')"
   ]
  },
  {
   "cell_type": "code",
   "execution_count": 9,
   "metadata": {
    "scrolled": false
   },
   "outputs": [
    {
     "name": "stdout",
     "output_type": "stream",
     "text": [
      "\n",
      "Forecast method: Simple exponential smoothing\n",
      "\n",
      "Model Information:\n",
      "Simple exponential smoothing \n",
      "\n",
      "Call:\n",
      " ses(y = us_train, initial = \"optimal\") \n",
      "\n",
      "  Smoothing parameters:\n",
      "    alpha = 0.9999 \n",
      "\n",
      "  Initial states:\n",
      "    l = 160.2404 \n",
      "\n",
      "  sigma:  23.632\n",
      "\n",
      "     AIC     AICc      BIC \n",
      "5841.675 5841.727 5854.120 \n",
      "\n",
      "Error measures:\n",
      "                    ME     RMSE      MAE        MPE     MAPE     MASE      ACF1\n",
      "Training set 0.3750577 23.58147 19.00824 -0.2062176 7.265344 2.095125 0.1303101\n",
      "\n",
      "Forecasts:\n",
      "         Point Forecast    Lo 80    Hi 80    Lo 95    Hi 95\n",
      "Jan 2012       335.7498 305.4642 366.0355 289.4319 382.0678\n",
      "Feb 2012       335.7498 292.9216 378.5781 270.2497 401.2500\n",
      "Mar 2012       335.7498 283.2970 388.2026 255.5302 415.9695\n",
      "Apr 2012       335.7498 275.1831 396.3166 243.1210 428.3787\n",
      "May 2012       335.7498 268.0345 403.4652 232.1881 439.3116\n",
      "Jun 2012       335.7498 261.5716 409.9281 222.3040 449.1956\n",
      "Jul 2012       335.7498 255.6284 415.8713 213.2147 458.2850\n",
      "Aug 2012       335.7498 250.0966 421.4031 204.7545 466.7452\n",
      "Sep 2012       335.7498 244.9009 426.5987 196.8084 474.6912\n",
      "Oct 2012       335.7498 239.9868 431.5129 189.2929 482.2068\n",
      "\n",
      "Forecast method: Damped Holt's method\n",
      "\n",
      "Model Information:\n",
      "Damped Holt's method \n",
      "\n",
      "Call:\n",
      " holt(y = us_train, h = 18, damped = TRUE) \n",
      "\n",
      "  Smoothing parameters:\n",
      "    alpha = 0.9999 \n",
      "    beta  = 1e-04 \n",
      "    phi   = 0.9012 \n",
      "\n",
      "  Initial states:\n",
      "    l = 149.6023 \n",
      "    b = 1.7452 \n",
      "\n",
      "  sigma:  23.7143\n",
      "\n",
      "     AIC     AICc      BIC \n",
      "5847.907 5848.089 5872.798 \n",
      "\n",
      "Error measures:\n",
      "                    ME     RMSE      MAE      MPE     MAPE     MASE      ACF1\n",
      "Training set 0.3634201 23.58731 19.02495 -0.21418 7.276282 2.096967 0.1296403\n",
      "\n",
      "Forecasts:\n",
      "         Point Forecast    Lo 80    Hi 80    Lo 95    Hi 95\n",
      "Jan 2012       335.7493 305.3581 366.1404 289.2700 382.2285\n",
      "Feb 2012       335.7488 292.7694 378.7281 270.0175 401.4800\n",
      "Mar 2012       335.7483 283.1083 388.3884 255.2423 416.2544\n",
      "Apr 2012       335.7479 274.9625 396.5334 242.7847 428.7112\n",
      "May 2012       335.7476 267.7853 403.7099 231.8082 439.6870\n",
      "Jun 2012       335.7472 261.2959 410.1986 221.8838 449.6107\n",
      "Jul 2012       335.7470 255.3279 416.1660 212.7567 458.7372\n",
      "Aug 2012       335.7467 249.7727 421.7207 204.2608 467.2325\n",
      "Sep 2012       335.7464 244.5548 426.9381 196.2809 475.2120\n",
      "Oct 2012       335.7462 239.6194 431.8731 188.7329 482.7596\n",
      "Nov 2012       335.7460 234.9249 436.5672 181.5534 489.9387\n",
      "Dec 2012       335.7459 230.4392 441.0525 174.6933 496.7985\n",
      "Jan 2013       335.7457 226.1367 445.3547 168.1132 503.3782\n",
      "Feb 2013       335.7456 221.9967 449.4945 161.7816 509.7095\n",
      "Mar 2013       335.7454 218.0019 453.4890 155.6722 515.8187\n",
      "Apr 2013       335.7453 214.1381 457.3525 149.7631 521.7275\n",
      "May 2013       335.7452 210.3932 461.0972 144.0359 527.4545\n",
      "Jun 2013       335.7451 206.7569 464.7333 138.4747 533.0155\n"
     ]
    },
    {
     "data": {
      "image/png": "[encoded data removed]",
      "text/plain": [
       "plot without title"
      ]
     },
     "metadata": {
      "image/png": {
       "height": 420,
       "width": 420
      }
     },
     "output_type": "display_data"
    },
    {
     "name": "stdout",
     "output_type": "stream",
     "text": [
      "\n",
      "Forecast method: Holt-Winters' multiplicative method\n",
      "\n",
      "Model Information:\n",
      "Holt-Winters' multiplicative method \n",
      "\n",
      "Call:\n",
      " hw(y = us_train, h = 18, seasonal = \"multiplicative\") \n",
      "\n",
      "  Smoothing parameters:\n",
      "    alpha = 0.2275 \n",
      "    beta  = 2e-04 \n",
      "    gamma = 0.2297 \n",
      "\n",
      "  Initial states:\n",
      "    l = 154.273 \n",
      "    b = 0.3489 \n",
      "    s = 1.04 0.9507 0.9631 1.0091 1.107 1.1488\n",
      "           1.0086 0.9599 0.877 0.9437 0.9651 1.027\n",
      "\n",
      "  sigma:  0.0288\n",
      "\n",
      "     AIC     AICc      BIC \n",
      "4733.118 4734.478 4803.642 \n",
      "\n",
      "Error measures:\n",
      "                    ME     RMSE      MAE          MPE    MAPE      MASE\n",
      "Training set 0.1477336 7.612513 5.790375 -0.008176416 2.22981 0.6382262\n",
      "                  ACF1\n",
      "Training set 0.2703289\n",
      "\n",
      "Forecasts:\n",
      "         Point Forecast    Lo 80    Hi 80    Lo 95    Hi 95\n",
      "Jan 2012       354.3014 341.2250 367.3778 334.3027 374.3000\n",
      "Feb 2012       311.2780 299.4957 323.0604 293.2585 329.2976\n",
      "Mar 2012       315.6437 303.4055 327.8819 296.9270 334.3605\n",
      "Apr 2012       296.6976 284.9271 308.4680 278.6962 314.6990\n",
      "May 2012       324.5851 311.4229 337.7474 304.4553 344.7150\n",
      "Jun 2012       365.3534 350.2236 380.4832 342.2144 388.4924\n",
      "Jul 2012       402.4118 385.4081 419.4154 376.4070 428.4166\n",
      "Aug 2012       400.6345 383.3749 417.8941 374.2382 427.0308\n",
      "Sep 2012       340.1483 325.2187 355.0779 317.3154 362.9811\n",
      "Oct 2012       314.9876 300.9117 329.0636 293.4603 336.5150\n",
      "Nov 2012       308.0243 294.0186 322.0299 286.6045 329.4441\n",
      "Dec 2012       348.6960 332.5730 364.8190 324.0380 373.3540\n",
      "Jan 2013       358.8637 341.1998 376.5276 331.8491 385.8782\n",
      "Feb 2013       315.2821 299.5392 331.0249 291.2055 339.3587\n",
      "Mar 2013       319.6996 303.5121 335.8871 294.9429 344.4562\n",
      "Apr 2013       300.5060 285.0826 315.9293 276.9179 324.0940\n",
      "May 2013       328.7471 311.6500 345.8441 302.5994 354.8948\n",
      "Jun 2013       370.0331 350.5398 389.5264 340.2207 399.8455\n"
     ]
    },
    {
     "data": {
      "image/png": "[encoded data removed]",
      "text/plain": [
       "plot without title"
      ]
     },
     "metadata": {
      "image/png": {
       "height": 420,
       "width": 420
      }
     },
     "output_type": "display_data"
    }
   ],
   "source": [
    "# 학습데이터, 테스트데이터로 구분\n",
    "us_train<-window(usmelec, start=c(1973,1), end=c(2011,12))\n",
    "us_test<-window(usmelec, start=c(2012,1), end=c(2013, 6))\n",
    "\n",
    "#단순지수평활법\n",
    "us_train_ses<-ses(us_train, initial='optimal')\n",
    "summary(us_train_ses)\n",
    "\n",
    "#홀트선형지수평활법 #damped활용해보기 => 감쇠추세법일때 RMSE값이더 낮았음\n",
    "us_train_holt<-holt(us_train, h=18, damped=TRUE)\n",
    "plot(us_test)\n",
    "lines(us_train_holt$mean, col='red')\n",
    "summary(us_train_holt)\n",
    "\n",
    "#홀트윈터스(승법) \n",
    "us_train_hw<-hw(us_train, seasonal='multiplicative', h=18)\n",
    "plot(us_test)\n",
    "lines(us_train_hw$mean, col='blue')\n",
    "summary(us_train_hw)\n",
    "\n",
    "##홀트윈터스 모형이 가장 예측값 잘 예측함!!"
   ]
  },
  {
   "cell_type": "code",
   "execution_count": 10,
   "metadata": {},
   "outputs": [
    {
     "data": {
      "text/html": [
       "<table>\n",
       "<caption>A matrix: 2 × 8 of type dbl</caption>\n",
       "<thead>\n",
       "\t<tr><th></th><th scope=col>ME</th><th scope=col>RMSE</th><th scope=col>MAE</th><th scope=col>MPE</th><th scope=col>MAPE</th><th scope=col>MASE</th><th scope=col>ACF1</th><th scope=col>Theil's U</th></tr>\n",
       "</thead>\n",
       "<tbody>\n",
       "\t<tr><th scope=row>Training set</th><td> 0.01308303</td><td>8.194112</td><td>6.341903</td><td>-0.05842042</td><td>2.509822</td><td>0.6990167</td><td>0.28722559</td><td>       NA</td></tr>\n",
       "\t<tr><th scope=row>Test set</th><td>-2.80959076</td><td>8.610288</td><td>6.755436</td><td>-0.85987656</td><td>1.964582</td><td>0.7445971</td><td>0.08108639</td><td>0.2773259</td></tr>\n",
       "</tbody>\n",
       "</table>\n"
      ],
      "text/latex": [
       "A matrix: 2 × 8 of type dbl\n",
       "\\begin{tabular}{r|llllllll}\n",
       "  & ME & RMSE & MAE & MPE & MAPE & MASE & ACF1 & Theil's U\\\\\n",
       "\\hline\n",
       "\tTraining set &  0.01308303 & 8.194112 & 6.341903 & -0.05842042 & 2.509822 & 0.6990167 & 0.28722559 &        NA\\\\\n",
       "\tTest set & -2.80959076 & 8.610288 & 6.755436 & -0.85987656 & 1.964582 & 0.7445971 & 0.08108639 & 0.2773259\\\\\n",
       "\\end{tabular}\n"
      ],
      "text/markdown": [
       "\n",
       "A matrix: 2 × 8 of type dbl\n",
       "\n",
       "| <!--/--> | ME | RMSE | MAE | MPE | MAPE | MASE | ACF1 | Theil's U |\n",
       "|---|---|---|---|---|---|---|---|---|\n",
       "| Training set |  0.01308303 | 8.194112 | 6.341903 | -0.05842042 | 2.509822 | 0.6990167 | 0.28722559 |        NA |\n",
       "| Test set | -2.80959076 | 8.610288 | 6.755436 | -0.85987656 | 1.964582 | 0.7445971 | 0.08108639 | 0.2773259 |\n",
       "\n"
      ],
      "text/plain": [
       "             ME          RMSE     MAE      MPE         MAPE     MASE     \n",
       "Training set  0.01308303 8.194112 6.341903 -0.05842042 2.509822 0.6990167\n",
       "Test set     -2.80959076 8.610288 6.755436 -0.85987656 1.964582 0.7445971\n",
       "             ACF1       Theil's U\n",
       "Training set 0.28722559        NA\n",
       "Test set     0.08108639 0.2773259"
      ]
     },
     "metadata": {},
     "output_type": "display_data"
    },
    {
     "data": {
      "text/html": [
       "<table>\n",
       "<caption>A matrix: 2 × 8 of type dbl</caption>\n",
       "<thead>\n",
       "\t<tr><th></th><th scope=col>ME</th><th scope=col>RMSE</th><th scope=col>MAE</th><th scope=col>MPE</th><th scope=col>MAPE</th><th scope=col>MASE</th><th scope=col>ACF1</th><th scope=col>Theil's U</th></tr>\n",
       "</thead>\n",
       "<tbody>\n",
       "\t<tr><th scope=row>Training set</th><td>-0.2212534</td><td>8.196116</td><td>6.321276</td><td>-0.1651144</td><td>2.476528</td><td>0.6967432</td><td>0.29653916</td><td>       NA</td></tr>\n",
       "\t<tr><th scope=row>Test set</th><td>-4.8052277</td><td>9.559266</td><td>7.851005</td><td>-1.4560326</td><td>2.303567</td><td>0.8653529</td><td>0.09336826</td><td>0.3025063</td></tr>\n",
       "</tbody>\n",
       "</table>\n"
      ],
      "text/latex": [
       "A matrix: 2 × 8 of type dbl\n",
       "\\begin{tabular}{r|llllllll}\n",
       "  & ME & RMSE & MAE & MPE & MAPE & MASE & ACF1 & Theil's U\\\\\n",
       "\\hline\n",
       "\tTraining set & -0.2212534 & 8.196116 & 6.321276 & -0.1651144 & 2.476528 & 0.6967432 & 0.29653916 &        NA\\\\\n",
       "\tTest set & -4.8052277 & 9.559266 & 7.851005 & -1.4560326 & 2.303567 & 0.8653529 & 0.09336826 & 0.3025063\\\\\n",
       "\\end{tabular}\n"
      ],
      "text/markdown": [
       "\n",
       "A matrix: 2 × 8 of type dbl\n",
       "\n",
       "| <!--/--> | ME | RMSE | MAE | MPE | MAPE | MASE | ACF1 | Theil's U |\n",
       "|---|---|---|---|---|---|---|---|---|\n",
       "| Training set | -0.2212534 | 8.196116 | 6.321276 | -0.1651144 | 2.476528 | 0.6967432 | 0.29653916 |        NA |\n",
       "| Test set | -4.8052277 | 9.559266 | 7.851005 | -1.4560326 | 2.303567 | 0.8653529 | 0.09336826 | 0.3025063 |\n",
       "\n"
      ],
      "text/plain": [
       "             ME         RMSE     MAE      MPE        MAPE     MASE     \n",
       "Training set -0.2212534 8.196116 6.321276 -0.1651144 2.476528 0.6967432\n",
       "Test set     -4.8052277 9.559266 7.851005 -1.4560326 2.303567 0.8653529\n",
       "             ACF1       Theil's U\n",
       "Training set 0.29653916        NA\n",
       "Test set     0.09336826 0.3025063"
      ]
     },
     "metadata": {},
     "output_type": "display_data"
    },
    {
     "data": {
      "text/html": [
       "<table>\n",
       "<caption>A matrix: 2 × 8 of type dbl</caption>\n",
       "<thead>\n",
       "\t<tr><th></th><th scope=col>ME</th><th scope=col>RMSE</th><th scope=col>MAE</th><th scope=col>MPE</th><th scope=col>MAPE</th><th scope=col>MASE</th><th scope=col>ACF1</th><th scope=col>Theil's U</th></tr>\n",
       "</thead>\n",
       "<tbody>\n",
       "\t<tr><th scope=row>Training set</th><td>-0.1889791</td><td>7.515215</td><td>5.689971</td><td>-0.1553403</td><td>2.177008</td><td>0.6271595</td><td>0.24040679</td><td>       NA</td></tr>\n",
       "\t<tr><th scope=row>Test set</th><td>-2.8803502</td><td>8.336319</td><td>6.763907</td><td>-0.8988255</td><td>1.966814</td><td>0.7455308</td><td>0.08454542</td><td>0.2770269</td></tr>\n",
       "</tbody>\n",
       "</table>\n"
      ],
      "text/latex": [
       "A matrix: 2 × 8 of type dbl\n",
       "\\begin{tabular}{r|llllllll}\n",
       "  & ME & RMSE & MAE & MPE & MAPE & MASE & ACF1 & Theil's U\\\\\n",
       "\\hline\n",
       "\tTraining set & -0.1889791 & 7.515215 & 5.689971 & -0.1553403 & 2.177008 & 0.6271595 & 0.24040679 &        NA\\\\\n",
       "\tTest set & -2.8803502 & 8.336319 & 6.763907 & -0.8988255 & 1.966814 & 0.7455308 & 0.08454542 & 0.2770269\\\\\n",
       "\\end{tabular}\n"
      ],
      "text/markdown": [
       "\n",
       "A matrix: 2 × 8 of type dbl\n",
       "\n",
       "| <!--/--> | ME | RMSE | MAE | MPE | MAPE | MASE | ACF1 | Theil's U |\n",
       "|---|---|---|---|---|---|---|---|---|\n",
       "| Training set | -0.1889791 | 7.515215 | 5.689971 | -0.1553403 | 2.177008 | 0.6271595 | 0.24040679 |        NA |\n",
       "| Test set | -2.8803502 | 8.336319 | 6.763907 | -0.8988255 | 1.966814 | 0.7455308 | 0.08454542 | 0.2770269 |\n",
       "\n"
      ],
      "text/plain": [
       "             ME         RMSE     MAE      MPE        MAPE     MASE     \n",
       "Training set -0.1889791 7.515215 5.689971 -0.1553403 2.177008 0.6271595\n",
       "Test set     -2.8803502 8.336319 6.763907 -0.8988255 1.966814 0.7455308\n",
       "             ACF1       Theil's U\n",
       "Training set 0.24040679        NA\n",
       "Test set     0.08454542 0.2770269"
      ]
     },
     "metadata": {},
     "output_type": "display_data"
    },
    {
     "data": {
      "text/html": [
       "<table>\n",
       "<caption>A matrix: 2 × 8 of type dbl</caption>\n",
       "<thead>\n",
       "\t<tr><th></th><th scope=col>ME</th><th scope=col>RMSE</th><th scope=col>MAE</th><th scope=col>MPE</th><th scope=col>MAPE</th><th scope=col>MASE</th><th scope=col>ACF1</th><th scope=col>Theil's U</th></tr>\n",
       "</thead>\n",
       "<tbody>\n",
       "\t<tr><th scope=row>Training set</th><td>-0.1889791</td><td>7.515215</td><td>5.689971</td><td>-0.1553403</td><td>2.177008</td><td>0.6271595</td><td>0.24040679</td><td>       NA</td></tr>\n",
       "\t<tr><th scope=row>Test set</th><td>-2.8803502</td><td>8.336319</td><td>6.763907</td><td>-0.8988255</td><td>1.966814</td><td>0.7455308</td><td>0.08454542</td><td>0.2770269</td></tr>\n",
       "</tbody>\n",
       "</table>\n"
      ],
      "text/latex": [
       "A matrix: 2 × 8 of type dbl\n",
       "\\begin{tabular}{r|llllllll}\n",
       "  & ME & RMSE & MAE & MPE & MAPE & MASE & ACF1 & Theil's U\\\\\n",
       "\\hline\n",
       "\tTraining set & -0.1889791 & 7.515215 & 5.689971 & -0.1553403 & 2.177008 & 0.6271595 & 0.24040679 &        NA\\\\\n",
       "\tTest set & -2.8803502 & 8.336319 & 6.763907 & -0.8988255 & 1.966814 & 0.7455308 & 0.08454542 & 0.2770269\\\\\n",
       "\\end{tabular}\n"
      ],
      "text/markdown": [
       "\n",
       "A matrix: 2 × 8 of type dbl\n",
       "\n",
       "| <!--/--> | ME | RMSE | MAE | MPE | MAPE | MASE | ACF1 | Theil's U |\n",
       "|---|---|---|---|---|---|---|---|---|\n",
       "| Training set | -0.1889791 | 7.515215 | 5.689971 | -0.1553403 | 2.177008 | 0.6271595 | 0.24040679 |        NA |\n",
       "| Test set | -2.8803502 | 8.336319 | 6.763907 | -0.8988255 | 1.966814 | 0.7455308 | 0.08454542 | 0.2770269 |\n",
       "\n"
      ],
      "text/plain": [
       "             ME         RMSE     MAE      MPE        MAPE     MASE     \n",
       "Training set -0.1889791 7.515215 5.689971 -0.1553403 2.177008 0.6271595\n",
       "Test set     -2.8803502 8.336319 6.763907 -0.8988255 1.966814 0.7455308\n",
       "             ACF1       Theil's U\n",
       "Training set 0.24040679        NA\n",
       "Test set     0.08454542 0.2770269"
      ]
     },
     "metadata": {},
     "output_type": "display_data"
    }
   ],
   "source": [
    "# ETS모형으로 예측해보기\n",
    "# error : 가법 error, 승법 error 둘다 해보기\n",
    "# trend : 추세성분있으므로 더해줌 = A\n",
    "# seasonal : 계절성분이 있으므로 더해주거나 곱해주기 모두 해보기\n",
    "us_train_ets1<-ets(us_train, model='AAA')\n",
    "us_train_ets2<-ets(us_train, model='MAA')\n",
    "# '가법 error'를 보정하면서 계절적성분을 '곱해'줄 순 없다!\n",
    "   #us_train_ets3<-ets(us_train, model='AAM')\n",
    "us_train_ets4<-ets(us_train, model='MAM')\n",
    "\n",
    "# 자동으로 찾아주는 모델 적용해보자\n",
    "us_train_ets5<-ets(us_train, model='ZZZ')\n",
    "\n",
    "for_ets1<-forecast(us_train_ets1, h=18)\n",
    "for_ets2<-forecast(us_train_ets2, h=18)\n",
    "for_ets4<-forecast(us_train_ets4, h=18)\n",
    "for_ets5<-forecast(us_train_ets5, h=18)\n",
    "\n",
    "# AAA 모델 accuracy\n",
    "accuracy(for_ets1, us_test)\n",
    "# MAA 모델 accuracy\n",
    "accuracy(for_ets2, us_test)\n",
    "# MAM 모델 accuracy\n",
    "accuracy(for_ets4, us_test)\n",
    "# ZZZ 모델 accuracy = 자동으로 찾아주는 모델은 MAM 모델이였다!\n",
    "accuracy(for_ets5, us_test)"
   ]
  },
  {
   "cell_type": "code",
   "execution_count": 11,
   "metadata": {},
   "outputs": [
    {
     "data": {
      "text/html": [
       "<table>\n",
       "<caption>A matrix: 2 × 8 of type dbl</caption>\n",
       "<thead>\n",
       "\t<tr><th></th><th scope=col>ME</th><th scope=col>RMSE</th><th scope=col>MAE</th><th scope=col>MPE</th><th scope=col>MAPE</th><th scope=col>MASE</th><th scope=col>ACF1</th><th scope=col>Theil's U</th></tr>\n",
       "</thead>\n",
       "<tbody>\n",
       "\t<tr><th scope=row>Training set</th><td> 0.1477336</td><td>7.612513</td><td>5.790375</td><td>-0.008176416</td><td>2.229810</td><td>0.6382262</td><td>0.27032888</td><td>       NA</td></tr>\n",
       "\t<tr><th scope=row>Test set</th><td>-3.3897342</td><td>8.431981</td><td>7.025343</td><td>-1.053143833</td><td>2.049204</td><td>0.7743468</td><td>0.06583404</td><td>0.2747247</td></tr>\n",
       "</tbody>\n",
       "</table>\n"
      ],
      "text/latex": [
       "A matrix: 2 × 8 of type dbl\n",
       "\\begin{tabular}{r|llllllll}\n",
       "  & ME & RMSE & MAE & MPE & MAPE & MASE & ACF1 & Theil's U\\\\\n",
       "\\hline\n",
       "\tTraining set &  0.1477336 & 7.612513 & 5.790375 & -0.008176416 & 2.229810 & 0.6382262 & 0.27032888 &        NA\\\\\n",
       "\tTest set & -3.3897342 & 8.431981 & 7.025343 & -1.053143833 & 2.049204 & 0.7743468 & 0.06583404 & 0.2747247\\\\\n",
       "\\end{tabular}\n"
      ],
      "text/markdown": [
       "\n",
       "A matrix: 2 × 8 of type dbl\n",
       "\n",
       "| <!--/--> | ME | RMSE | MAE | MPE | MAPE | MASE | ACF1 | Theil's U |\n",
       "|---|---|---|---|---|---|---|---|---|\n",
       "| Training set |  0.1477336 | 7.612513 | 5.790375 | -0.008176416 | 2.229810 | 0.6382262 | 0.27032888 |        NA |\n",
       "| Test set | -3.3897342 | 8.431981 | 7.025343 | -1.053143833 | 2.049204 | 0.7743468 | 0.06583404 | 0.2747247 |\n",
       "\n"
      ],
      "text/plain": [
       "             ME         RMSE     MAE      MPE          MAPE     MASE     \n",
       "Training set  0.1477336 7.612513 5.790375 -0.008176416 2.229810 0.6382262\n",
       "Test set     -3.3897342 8.431981 7.025343 -1.053143833 2.049204 0.7743468\n",
       "             ACF1       Theil's U\n",
       "Training set 0.27032888        NA\n",
       "Test set     0.06583404 0.2747247"
      ]
     },
     "metadata": {},
     "output_type": "display_data"
    },
    {
     "data": {
      "text/html": [
       "<table>\n",
       "<caption>A matrix: 2 × 8 of type dbl</caption>\n",
       "<thead>\n",
       "\t<tr><th></th><th scope=col>ME</th><th scope=col>RMSE</th><th scope=col>MAE</th><th scope=col>MPE</th><th scope=col>MAPE</th><th scope=col>MASE</th><th scope=col>ACF1</th><th scope=col>Theil's U</th></tr>\n",
       "</thead>\n",
       "<tbody>\n",
       "\t<tr><th scope=row>Training set</th><td>-0.1889791</td><td>7.515215</td><td>5.689971</td><td>-0.1553403</td><td>2.177008</td><td>0.6271595</td><td>0.24040679</td><td>       NA</td></tr>\n",
       "\t<tr><th scope=row>Test set</th><td>-2.8803502</td><td>8.336319</td><td>6.763907</td><td>-0.8988255</td><td>1.966814</td><td>0.7455308</td><td>0.08454542</td><td>0.2770269</td></tr>\n",
       "</tbody>\n",
       "</table>\n"
      ],
      "text/latex": [
       "A matrix: 2 × 8 of type dbl\n",
       "\\begin{tabular}{r|llllllll}\n",
       "  & ME & RMSE & MAE & MPE & MAPE & MASE & ACF1 & Theil's U\\\\\n",
       "\\hline\n",
       "\tTraining set & -0.1889791 & 7.515215 & 5.689971 & -0.1553403 & 2.177008 & 0.6271595 & 0.24040679 &        NA\\\\\n",
       "\tTest set & -2.8803502 & 8.336319 & 6.763907 & -0.8988255 & 1.966814 & 0.7455308 & 0.08454542 & 0.2770269\\\\\n",
       "\\end{tabular}\n"
      ],
      "text/markdown": [
       "\n",
       "A matrix: 2 × 8 of type dbl\n",
       "\n",
       "| <!--/--> | ME | RMSE | MAE | MPE | MAPE | MASE | ACF1 | Theil's U |\n",
       "|---|---|---|---|---|---|---|---|---|\n",
       "| Training set | -0.1889791 | 7.515215 | 5.689971 | -0.1553403 | 2.177008 | 0.6271595 | 0.24040679 |        NA |\n",
       "| Test set | -2.8803502 | 8.336319 | 6.763907 | -0.8988255 | 1.966814 | 0.7455308 | 0.08454542 | 0.2770269 |\n",
       "\n"
      ],
      "text/plain": [
       "             ME         RMSE     MAE      MPE        MAPE     MASE     \n",
       "Training set -0.1889791 7.515215 5.689971 -0.1553403 2.177008 0.6271595\n",
       "Test set     -2.8803502 8.336319 6.763907 -0.8988255 1.966814 0.7455308\n",
       "             ACF1       Theil's U\n",
       "Training set 0.24040679        NA\n",
       "Test set     0.08454542 0.2770269"
      ]
     },
     "metadata": {},
     "output_type": "display_data"
    }
   ],
   "source": [
    "# 이제 홀트-윈터스(승법)모형 vs ets의 MAM모델 정확도 비교 후 최적모델 선정\n",
    "# 홀트-윈터스(승법)모형의 예측값 할당\n",
    "for_hw<-forecast(us_train_hw, h=18)\n",
    "\n",
    "# 두 개의 모델 성능 비교\n",
    "accuracy(for_hw, us_test)\n",
    "accuracy(for_ets4, us_test) # MAM모델이 좀 더 RMSE값이 낮다!\n",
    "                            # test/train의 RMSE값 차이도 이상적!\n",
    "\n"
   ]
  },
  {
   "cell_type": "code",
   "execution_count": 12,
   "metadata": {},
   "outputs": [
    {
     "data": {
      "image/png": "[encoded data removed]",
      "text/plain": [
       "plot without title"
      ]
     },
     "metadata": {
      "image/png": {
       "height": 420,
       "width": 420
      }
     },
     "output_type": "display_data"
    }
   ],
   "source": [
    "# 가장 최적의 모형은 ets의 MAM 모형!\n",
    "# 실제값 적합된 값, 예측값 차트로 표현하기\n",
    "# 실제값과 예측값 차이가 얼마나 나는지 보기 위해 x축 범위 줄이기\n",
    "plot(us_train, xlim=c(2005, 2013))\n",
    "lines(for_ets4$fitted, col='red')\n",
    "lines(for_ets4$mean, col='blue', type='o')\n",
    "lines(us_test, col='red', type='o')"
   ]
  },
  {
   "cell_type": "code",
   "execution_count": 13,
   "metadata": {},
   "outputs": [
    {
     "data": {
      "image/png": "[encoded data removed]",
      "text/plain": [
       "Plot with title \"Forecasts from ETS(M,A,M)\""
      ]
     },
     "metadata": {
      "image/png": {
       "height": 420,
       "width": 420
      }
     },
     "output_type": "display_data"
    }
   ],
   "source": [
    "# 예측값이 포함된 함수를 plot하고 fitted된 값, 실제값과의 비교\n",
    "plot(for_ets4, xlim=c(2005,2013))\n",
    "lines(for_ets4$fitted, col='red')\n",
    "lines(us_test, col='red', type='o')"
   ]
  },
  {
   "cell_type": "code",
   "execution_count": 76,
   "metadata": {},
   "outputs": [
    {
     "name": "stdout",
     "output_type": "stream",
     "text": [
      "ETS(M,A,M) \n",
      "\n",
      "Call:\n",
      " ets(y = us_train, model = \"MAM\") \n",
      "\n",
      "  Smoothing parameters:\n",
      "    alpha = 0.2743 \n",
      "    beta  = 1e-04 \n",
      "    gamma = 0.2286 \n",
      "\n",
      "  Initial states:\n",
      "    l = 154.4145 \n",
      "    b = 0.4646 \n",
      "    s = 1.0256 0.9573 0.963 0.9719 1.1147 1.113\n",
      "           1.0124 0.9643 0.9024 0.9624 0.9456 1.0674\n",
      "\n",
      "  sigma:  0.028\n",
      "\n",
      "     AIC     AICc      BIC \n",
      "4708.869 4710.229 4779.393 \n",
      "\n",
      "Training set error measures:\n",
      "                     ME     RMSE      MAE        MPE     MAPE      MASE\n",
      "Training set -0.1889791 7.515215 5.689971 -0.1553403 2.177008 0.6271595\n",
      "                  ACF1\n",
      "Training set 0.2404068\n"
     ]
    }
   ],
   "source": [
    "# 최종모델로 선정한 ETS의 MAM모델의 정보손실, RMSE값 측정\n",
    "summary(us_train_ets4)"
   ]
  },
  {
   "cell_type": "code",
   "execution_count": 19,
   "metadata": {
    "scrolled": true
   },
   "outputs": [
    {
     "name": "stderr",
     "output_type": "stream",
     "text": [
      "Your code contains a unicode char which cannot be displayed in your\n",
      "current locale and R will silently convert it to an escaped form when the\n",
      "R kernel executes this code. This can lead to subtle errors if you use\n",
      "such chars to do comparisons. For more information, please see\n",
      "https://github.com/IRkernel/repr/wiki/Problems-with-unicode-on-windows"
     ]
    },
    {
     "data": {
      "text/html": [
       "<table>\n",
       "<caption>A Time Series: 39 × 12</caption>\n",
       "<thead>\n",
       "\t<tr><th></th><th scope=col>Jan</th><th scope=col>Feb</th><th scope=col>Mar</th><th scope=col>Apr</th><th scope=col>May</th><th scope=col>Jun</th><th scope=col>Jul</th><th scope=col>Aug</th><th scope=col>Sep</th><th scope=col>Oct</th><th scope=col>Nov</th><th scope=col>Dec</th></tr>\n",
       "</thead>\n",
       "<tbody>\n",
       "\t<tr><th scope=row>1973</th><td>-3.088253e-02</td><td>-1.446236e-02</td><td> 3.979136e-04</td><td> 2.090474e-03</td><td>-1.329853e-02</td><td> 2.876170e-02</td><td>-2.552924e-03</td><td> 1.435941e-02</td><td> 2.194612e-02</td><td> 4.824755e-03</td><td>-3.299432e-02</td><td>-5.830848e-02</td></tr>\n",
       "\t<tr><th scope=row>1974</th><td>-5.296097e-02</td><td>-2.370569e-02</td><td> 1.036045e-02</td><td> 1.369390e-02</td><td> 2.205350e-02</td><td>-2.812506e-02</td><td> 1.940899e-02</td><td>-1.775636e-02</td><td>-1.330016e-02</td><td>-1.292314e-03</td><td>-3.286957e-03</td><td>-4.261974e-03</td></tr>\n",
       "\t<tr><th scope=row>1975</th><td>-1.164802e-02</td><td>-1.149035e-02</td><td> 1.546007e-02</td><td> 1.018740e-02</td><td>-1.322668e-02</td><td>-1.276422e-03</td><td>-1.760031e-02</td><td> 3.339253e-03</td><td>-1.233327e-02</td><td>-3.106610e-03</td><td>-3.992424e-03</td><td> 3.491833e-02</td></tr>\n",
       "\t<tr><th scope=row>1976</th><td> 4.197652e-02</td><td> 8.438308e-03</td><td> 1.509467e-02</td><td> 3.320803e-03</td><td>-3.217163e-02</td><td> 2.076642e-02</td><td>-1.021696e-02</td><td>-1.217444e-02</td><td> 4.502507e-03</td><td> 1.361941e-03</td><td> 4.663570e-02</td><td> 4.314067e-02</td></tr>\n",
       "\t<tr><th scope=row>1977</th><td> 6.137701e-02</td><td>-2.905774e-02</td><td>-2.135917e-02</td><td>-2.634171e-02</td><td> 3.159432e-03</td><td> 3.238735e-03</td><td> 7.635639e-03</td><td>-1.251461e-02</td><td> 1.582507e-02</td><td>-3.887798e-02</td><td>-2.184601e-02</td><td> 8.230540e-03</td></tr>\n",
       "\t<tr><th scope=row>1978</th><td> 3.651702e-02</td><td> 3.150324e-02</td><td>-1.987814e-02</td><td>-2.914847e-02</td><td> 1.064355e-02</td><td> 1.516854e-02</td><td>-6.820754e-03</td><td> 1.400728e-02</td><td> 2.922820e-02</td><td>-1.414837e-02</td><td>-9.597358e-03</td><td>-1.967882e-03</td></tr>\n",
       "\t<tr><th scope=row>1979</th><td> 4.132539e-02</td><td> 4.986093e-02</td><td>-1.242120e-02</td><td>-1.400688e-02</td><td>-3.247032e-02</td><td>-4.144850e-02</td><td>-3.639584e-02</td><td>-1.816275e-02</td><td>-1.663919e-02</td><td> 1.115532e-02</td><td>-6.579452e-03</td><td>-2.539993e-02</td></tr>\n",
       "\t<tr><th scope=row>1980</th><td>-1.729296e-02</td><td> 6.682826e-02</td><td> 2.555361e-02</td><td>-1.831298e-02</td><td>-3.713266e-02</td><td>-1.573319e-02</td><td> 3.639083e-02</td><td> 1.119224e-02</td><td> 1.192465e-02</td><td>-3.785067e-02</td><td>-2.606220e-02</td><td>-5.636355e-03</td></tr>\n",
       "\t<tr><th scope=row>1981</th><td>-8.574988e-03</td><td>-2.862375e-02</td><td> 6.054413e-03</td><td> 1.032902e-02</td><td>-2.299423e-02</td><td> 4.689080e-02</td><td> 1.747280e-02</td><td>-3.556002e-02</td><td>-2.359725e-02</td><td>-1.298913e-02</td><td>-4.188397e-02</td><td>-5.619247e-03</td></tr>\n",
       "\t<tr><th scope=row>1982</th><td> 6.324519e-03</td><td>-2.360019e-02</td><td> 9.540133e-03</td><td> 6.221081e-04</td><td>-2.617508e-02</td><td>-5.249748e-02</td><td>-8.682693e-03</td><td>-2.019092e-02</td><td>-2.556154e-02</td><td>-3.026980e-02</td><td>-1.424735e-02</td><td>-3.705053e-02</td></tr>\n",
       "\t<tr><th scope=row>1983</th><td>-3.054439e-02</td><td>-2.016706e-02</td><td> 2.084778e-02</td><td> 2.617231e-02</td><td>-4.979721e-03</td><td> 9.533728e-03</td><td> 4.694632e-02</td><td> 9.287387e-02</td><td> 2.196622e-02</td><td>-1.822332e-02</td><td>-1.110917e-02</td><td> 5.688101e-02</td></tr>\n",
       "\t<tr><th scope=row>1984</th><td>-1.953280e-03</td><td>-9.114140e-03</td><td> 1.747774e-02</td><td>-8.691121e-03</td><td> 1.361486e-02</td><td> 1.550215e-02</td><td>-4.500927e-02</td><td> 4.145736e-03</td><td>-2.180334e-02</td><td> 3.947806e-03</td><td> 4.882073e-04</td><td>-4.979919e-02</td></tr>\n",
       "\t<tr><th scope=row>1985</th><td> 4.543706e-02</td><td> 2.045632e-02</td><td>-3.734147e-02</td><td> 3.639798e-03</td><td> 2.042742e-02</td><td>-2.396873e-02</td><td>-1.578682e-02</td><td>-2.345165e-02</td><td> 1.467190e-02</td><td> 7.981536e-03</td><td>-5.038742e-03</td><td> 3.835723e-02</td></tr>\n",
       "\t<tr><th scope=row>1986</th><td>-4.990367e-02</td><td>-2.675007e-02</td><td>-1.931095e-02</td><td> 4.768101e-03</td><td> 1.353037e-02</td><td> 2.450801e-02</td><td> 4.025788e-02</td><td>-5.225102e-02</td><td> 8.366408e-03</td><td>-3.675526e-04</td><td>-2.572963e-03</td><td>-1.715161e-02</td></tr>\n",
       "\t<tr><th scope=row>1987</th><td>-2.023682e-02</td><td>-2.475279e-02</td><td>-3.330880e-03</td><td> 4.131401e-03</td><td> 3.685880e-02</td><td> 4.366346e-02</td><td> 2.294256e-02</td><td> 2.963244e-02</td><td>-1.011208e-02</td><td>-1.546511e-02</td><td>-1.980235e-02</td><td>-1.375899e-02</td></tr>\n",
       "\t<tr><th scope=row>1988</th><td> 1.669813e-02</td><td> 4.985871e-02</td><td>-7.774640e-03</td><td>-2.512991e-02</td><td>-1.518696e-02</td><td> 2.443083e-02</td><td> 2.084000e-02</td><td> 6.854414e-02</td><td>-1.896669e-02</td><td>-1.704656e-02</td><td>-1.123097e-02</td><td>-3.113440e-04</td></tr>\n",
       "\t<tr><th scope=row>1989</th><td> 8.966716e-04</td><td> 7.052210e-02</td><td> 6.931692e-02</td><td> 3.882807e-02</td><td> 1.975230e-02</td><td>-3.571716e-03</td><td>-1.299868e-02</td><td>-4.138030e-04</td><td> 2.235228e-02</td><td> 2.742604e-02</td><td> 1.845557e-02</td><td> 7.508190e-02</td></tr>\n",
       "\t<tr><th scope=row>1990</th><td>-7.428174e-02</td><td>-5.520752e-02</td><td> 6.958176e-03</td><td> 2.103407e-02</td><td> 1.023513e-02</td><td> 3.604509e-02</td><td>-2.340426e-03</td><td> 8.573066e-03</td><td> 3.228059e-02</td><td> 7.105184e-03</td><td>-4.229571e-02</td><td>-4.180398e-02</td></tr>\n",
       "\t<tr><th scope=row>1991</th><td>-2.223882e-03</td><td>-6.292796e-02</td><td>-2.508490e-02</td><td> 2.794962e-03</td><td> 6.288864e-02</td><td> 1.380687e-02</td><td> 1.523437e-02</td><td>-8.579370e-04</td><td> 5.382824e-03</td><td> 6.951391e-03</td><td> 8.017461e-03</td><td>-5.457085e-02</td></tr>\n",
       "\t<tr><th scope=row>1992</th><td>-1.973232e-02</td><td>-1.046399e-02</td><td>-1.270107e-02</td><td> 5.934291e-04</td><td>-2.822916e-02</td><td>-1.984116e-02</td><td> 1.718013e-02</td><td>-2.756387e-02</td><td> 3.556954e-02</td><td> 1.130246e-02</td><td> 2.298525e-02</td><td> 9.519423e-03</td></tr>\n",
       "\t<tr><th scope=row>1993</th><td>-1.864735e-02</td><td> 1.107382e-02</td><td> 2.186966e-02</td><td>-2.475375e-02</td><td>-3.758473e-02</td><td> 1.651992e-02</td><td> 4.420042e-02</td><td> 4.014435e-02</td><td>-1.442057e-02</td><td>-1.214503e-02</td><td> 1.274384e-02</td><td>-8.758031e-03</td></tr>\n",
       "\t<tr><th scope=row>1994</th><td> 2.369595e-02</td><td>-2.694932e-02</td><td>-2.549608e-02</td><td>-1.124920e-02</td><td>-1.628133e-02</td><td> 5.359904e-02</td><td>-6.359312e-03</td><td>-4.821957e-03</td><td>-1.306609e-02</td><td> 3.444212e-03</td><td>-6.098847e-03</td><td>-2.597365e-02</td></tr>\n",
       "\t<tr><th scope=row>1995</th><td>-2.184037e-02</td><td>-1.147450e-03</td><td>-6.686929e-03</td><td> 3.380031e-03</td><td> 2.346676e-02</td><td>-6.814196e-03</td><td> 5.301034e-02</td><td> 9.850374e-02</td><td>-1.565308e-02</td><td>-1.505275e-02</td><td>-8.544373e-03</td><td>-3.140618e-03</td></tr>\n",
       "\t<tr><th scope=row>1996</th><td>-4.367001e-03</td><td> 1.805437e-02</td><td>-1.081978e-02</td><td>-2.486194e-02</td><td> 3.666147e-02</td><td>-5.426226e-04</td><td>-2.120897e-02</td><td>-9.641237e-03</td><td> 4.535375e-03</td><td> 7.504981e-03</td><td> 7.346668e-03</td><td>-2.586176e-02</td></tr>\n",
       "\t<tr><th scope=row>1997</th><td>-4.064501e-03</td><td>-4.561587e-02</td><td>-1.383607e-02</td><td> 1.215476e-02</td><td>-1.074254e-02</td><td>-4.268720e-03</td><td> 4.356967e-02</td><td>-5.048471e-03</td><td> 5.661810e-02</td><td> 3.098969e-02</td><td>-1.704381e-02</td><td>-2.061327e-03</td></tr>\n",
       "\t<tr><th scope=row>1998</th><td>-4.971128e-02</td><td>-4.313324e-02</td><td> 2.379606e-02</td><td>-7.614522e-03</td><td> 6.422384e-02</td><td> 4.971174e-02</td><td> 2.452514e-02</td><td> 1.452933e-02</td><td> 4.288364e-02</td><td>-3.195345e-02</td><td>-6.280792e-02</td><td>-1.994885e-02</td></tr>\n",
       "\t<tr><th scope=row>1999</th><td> 8.680927e-03</td><td>-1.603844e-02</td><td> 1.412484e-02</td><td> 2.649969e-02</td><td> 3.320048e-05</td><td> 5.629458e-03</td><td> 3.930816e-02</td><td> 5.983682e-03</td><td>-3.146319e-02</td><td>-2.744009e-02</td><td>-3.710551e-02</td><td>-3.373090e-02</td></tr>\n",
       "\t<tr><th scope=row>2000</th><td> 3.984770e-02</td><td> 4.252208e-02</td><td>-7.579046e-03</td><td> 1.348361e-02</td><td> 5.456040e-02</td><td>-4.437895e-04</td><td>-5.671924e-02</td><td> 1.033921e-02</td><td>-1.041331e-02</td><td>-1.609192e-02</td><td> 2.525670e-03</td><td> 2.343058e-02</td></tr>\n",
       "\t<tr><th scope=row>2001</th><td> 5.522234e-05</td><td>-3.885014e-02</td><td>-1.893621e-02</td><td>-2.322271e-02</td><td>-2.807298e-02</td><td>-8.930351e-03</td><td>-1.443648e-02</td><td> 2.942794e-02</td><td>-1.496889e-02</td><td> 1.777107e-02</td><td>-1.550328e-02</td><td>-1.757507e-02</td></tr>\n",
       "\t<tr><th scope=row>2002</th><td>-1.928612e-02</td><td>-1.033086e-02</td><td> 7.734257e-03</td><td> 3.285205e-02</td><td>-4.705515e-03</td><td> 2.042742e-02</td><td> 3.334144e-02</td><td>-5.840557e-04</td><td> 3.993941e-02</td><td> 1.413781e-02</td><td> 8.879931e-03</td><td> 1.585360e-03</td></tr>\n",
       "\t<tr><th scope=row>2003</th><td> 2.915258e-04</td><td>-4.635324e-03</td><td>-4.528650e-02</td><td>-3.227791e-02</td><td>-2.916399e-02</td><td>-3.923562e-02</td><td> 3.959376e-03</td><td> 2.463838e-02</td><td> 3.979603e-03</td><td> 1.853418e-02</td><td> 1.969950e-02</td><td> 2.686471e-02</td></tr>\n",
       "\t<tr><th scope=row>2004</th><td> 1.105570e-02</td><td> 4.083078e-02</td><td>-3.831249e-02</td><td>-2.803121e-02</td><td> 1.892289e-02</td><td>-1.623414e-02</td><td>-2.903512e-02</td><td>-4.700079e-02</td><td> 2.994556e-02</td><td> 1.414362e-02</td><td> 1.189007e-02</td><td> 3.636767e-02</td></tr>\n",
       "\t<tr><th scope=row>2005</th><td>-1.899310e-02</td><td>-2.977844e-02</td><td> 7.261199e-03</td><td>-2.770800e-02</td><td>-2.630451e-02</td><td> 5.073923e-02</td><td> 3.314986e-02</td><td> 3.202087e-02</td><td> 1.814043e-02</td><td>-2.042450e-02</td><td>-1.209807e-02</td><td> 1.756806e-02</td></tr>\n",
       "\t<tr><th scope=row>2006</th><td>-7.744138e-02</td><td>-6.903251e-04</td><td>-4.856604e-03</td><td>-4.590786e-03</td><td> 1.016423e-02</td><td> 1.221043e-02</td><td> 2.857466e-02</td><td> 1.561855e-02</td><td>-4.934197e-02</td><td> 7.683963e-03</td><td> 1.803778e-04</td><td>-2.450218e-02</td></tr>\n",
       "\t<tr><th scope=row>2007</th><td> 1.824849e-02</td><td> 3.182823e-02</td><td>-2.539947e-02</td><td>-7.710741e-03</td><td>-1.420254e-02</td><td>-8.889409e-03</td><td>-2.904316e-02</td><td> 5.468372e-02</td><td> 2.586005e-02</td><td> 1.600107e-02</td><td>-9.993641e-03</td><td>-1.300731e-02</td></tr>\n",
       "\t<tr><th scope=row>2008</th><td> 1.408260e-02</td><td> 4.686182e-03</td><td>-2.446994e-02</td><td>-1.487646e-02</td><td>-4.130786e-02</td><td> 1.283305e-02</td><td>-1.285760e-02</td><td>-5.732418e-02</td><td>-1.834524e-02</td><td>-7.007205e-03</td><td> 9.529654e-03</td><td> 7.852455e-03</td></tr>\n",
       "\t<tr><th scope=row>2009</th><td> 7.630297e-03</td><td>-5.155406e-02</td><td>-2.659413e-02</td><td>-2.907204e-02</td><td>-3.504701e-02</td><td>-2.153562e-02</td><td>-3.909413e-02</td><td>-1.029747e-02</td><td>-3.730121e-03</td><td>-3.664655e-03</td><td> 6.916369e-04</td><td> 6.721638e-02</td></tr>\n",
       "\t<tr><th scope=row>2010</th><td> 4.746485e-02</td><td> 3.322221e-02</td><td>-2.579179e-02</td><td>-3.859324e-02</td><td> 1.669275e-02</td><td> 3.959979e-02</td><td> 2.581786e-02</td><td> 5.550038e-03</td><td>-8.275455e-03</td><td>-5.773119e-02</td><td>-1.275807e-02</td><td> 4.253115e-02</td></tr>\n",
       "\t<tr><th scope=row>2011</th><td> 7.506029e-03</td><td>-1.819807e-02</td><td>-8.478425e-03</td><td> 5.211147e-03</td><td>-2.596885e-02</td><td>-5.858743e-03</td><td> 4.037925e-02</td><td>-7.074744e-03</td><td>-3.168975e-02</td><td>-3.849345e-02</td><td>-1.700022e-02</td><td>-4.254199e-02</td></tr>\n",
       "</tbody>\n",
       "</table>\n"
      ],
      "text/latex": [
       "A Time Series: 39 × 12\n",
       "\\begin{tabular}{r|llllllllllll}\n",
       "  & Jan & Feb & Mar & Apr & May & Jun & Jul & Aug & Sep & Oct & Nov & Dec\\\\\n",
       "\\hline\n",
       "\t1973 & -3.088253e-02 & -1.446236e-02 &  3.979136e-04 &  2.090474e-03 & -1.329853e-02 &  2.876170e-02 & -2.552924e-03 &  1.435941e-02 &  2.194612e-02 &  4.824755e-03 & -3.299432e-02 & -5.830848e-02\\\\\n",
       "\t1974 & -5.296097e-02 & -2.370569e-02 &  1.036045e-02 &  1.369390e-02 &  2.205350e-02 & -2.812506e-02 &  1.940899e-02 & -1.775636e-02 & -1.330016e-02 & -1.292314e-03 & -3.286957e-03 & -4.261974e-03\\\\\n",
       "\t1975 & -1.164802e-02 & -1.149035e-02 &  1.546007e-02 &  1.018740e-02 & -1.322668e-02 & -1.276422e-03 & -1.760031e-02 &  3.339253e-03 & -1.233327e-02 & -3.106610e-03 & -3.992424e-03 &  3.491833e-02\\\\\n",
       "\t1976 &  4.197652e-02 &  8.438308e-03 &  1.509467e-02 &  3.320803e-03 & -3.217163e-02 &  2.076642e-02 & -1.021696e-02 & -1.217444e-02 &  4.502507e-03 &  1.361941e-03 &  4.663570e-02 &  4.314067e-02\\\\\n",
       "\t1977 &  6.137701e-02 & -2.905774e-02 & -2.135917e-02 & -2.634171e-02 &  3.159432e-03 &  3.238735e-03 &  7.635639e-03 & -1.251461e-02 &  1.582507e-02 & -3.887798e-02 & -2.184601e-02 &  8.230540e-03\\\\\n",
       "\t1978 &  3.651702e-02 &  3.150324e-02 & -1.987814e-02 & -2.914847e-02 &  1.064355e-02 &  1.516854e-02 & -6.820754e-03 &  1.400728e-02 &  2.922820e-02 & -1.414837e-02 & -9.597358e-03 & -1.967882e-03\\\\\n",
       "\t1979 &  4.132539e-02 &  4.986093e-02 & -1.242120e-02 & -1.400688e-02 & -3.247032e-02 & -4.144850e-02 & -3.639584e-02 & -1.816275e-02 & -1.663919e-02 &  1.115532e-02 & -6.579452e-03 & -2.539993e-02\\\\\n",
       "\t1980 & -1.729296e-02 &  6.682826e-02 &  2.555361e-02 & -1.831298e-02 & -3.713266e-02 & -1.573319e-02 &  3.639083e-02 &  1.119224e-02 &  1.192465e-02 & -3.785067e-02 & -2.606220e-02 & -5.636355e-03\\\\\n",
       "\t1981 & -8.574988e-03 & -2.862375e-02 &  6.054413e-03 &  1.032902e-02 & -2.299423e-02 &  4.689080e-02 &  1.747280e-02 & -3.556002e-02 & -2.359725e-02 & -1.298913e-02 & -4.188397e-02 & -5.619247e-03\\\\\n",
       "\t1982 &  6.324519e-03 & -2.360019e-02 &  9.540133e-03 &  6.221081e-04 & -2.617508e-02 & -5.249748e-02 & -8.682693e-03 & -2.019092e-02 & -2.556154e-02 & -3.026980e-02 & -1.424735e-02 & -3.705053e-02\\\\\n",
       "\t1983 & -3.054439e-02 & -2.016706e-02 &  2.084778e-02 &  2.617231e-02 & -4.979721e-03 &  9.533728e-03 &  4.694632e-02 &  9.287387e-02 &  2.196622e-02 & -1.822332e-02 & -1.110917e-02 &  5.688101e-02\\\\\n",
       "\t1984 & -1.953280e-03 & -9.114140e-03 &  1.747774e-02 & -8.691121e-03 &  1.361486e-02 &  1.550215e-02 & -4.500927e-02 &  4.145736e-03 & -2.180334e-02 &  3.947806e-03 &  4.882073e-04 & -4.979919e-02\\\\\n",
       "\t1985 &  4.543706e-02 &  2.045632e-02 & -3.734147e-02 &  3.639798e-03 &  2.042742e-02 & -2.396873e-02 & -1.578682e-02 & -2.345165e-02 &  1.467190e-02 &  7.981536e-03 & -5.038742e-03 &  3.835723e-02\\\\\n",
       "\t1986 & -4.990367e-02 & -2.675007e-02 & -1.931095e-02 &  4.768101e-03 &  1.353037e-02 &  2.450801e-02 &  4.025788e-02 & -5.225102e-02 &  8.366408e-03 & -3.675526e-04 & -2.572963e-03 & -1.715161e-02\\\\\n",
       "\t1987 & -2.023682e-02 & -2.475279e-02 & -3.330880e-03 &  4.131401e-03 &  3.685880e-02 &  4.366346e-02 &  2.294256e-02 &  2.963244e-02 & -1.011208e-02 & -1.546511e-02 & -1.980235e-02 & -1.375899e-02\\\\\n",
       "\t1988 &  1.669813e-02 &  4.985871e-02 & -7.774640e-03 & -2.512991e-02 & -1.518696e-02 &  2.443083e-02 &  2.084000e-02 &  6.854414e-02 & -1.896669e-02 & -1.704656e-02 & -1.123097e-02 & -3.113440e-04\\\\\n",
       "\t1989 &  8.966716e-04 &  7.052210e-02 &  6.931692e-02 &  3.882807e-02 &  1.975230e-02 & -3.571716e-03 & -1.299868e-02 & -4.138030e-04 &  2.235228e-02 &  2.742604e-02 &  1.845557e-02 &  7.508190e-02\\\\\n",
       "\t1990 & -7.428174e-02 & -5.520752e-02 &  6.958176e-03 &  2.103407e-02 &  1.023513e-02 &  3.604509e-02 & -2.340426e-03 &  8.573066e-03 &  3.228059e-02 &  7.105184e-03 & -4.229571e-02 & -4.180398e-02\\\\\n",
       "\t1991 & -2.223882e-03 & -6.292796e-02 & -2.508490e-02 &  2.794962e-03 &  6.288864e-02 &  1.380687e-02 &  1.523437e-02 & -8.579370e-04 &  5.382824e-03 &  6.951391e-03 &  8.017461e-03 & -5.457085e-02\\\\\n",
       "\t1992 & -1.973232e-02 & -1.046399e-02 & -1.270107e-02 &  5.934291e-04 & -2.822916e-02 & -1.984116e-02 &  1.718013e-02 & -2.756387e-02 &  3.556954e-02 &  1.130246e-02 &  2.298525e-02 &  9.519423e-03\\\\\n",
       "\t1993 & -1.864735e-02 &  1.107382e-02 &  2.186966e-02 & -2.475375e-02 & -3.758473e-02 &  1.651992e-02 &  4.420042e-02 &  4.014435e-02 & -1.442057e-02 & -1.214503e-02 &  1.274384e-02 & -8.758031e-03\\\\\n",
       "\t1994 &  2.369595e-02 & -2.694932e-02 & -2.549608e-02 & -1.124920e-02 & -1.628133e-02 &  5.359904e-02 & -6.359312e-03 & -4.821957e-03 & -1.306609e-02 &  3.444212e-03 & -6.098847e-03 & -2.597365e-02\\\\\n",
       "\t1995 & -2.184037e-02 & -1.147450e-03 & -6.686929e-03 &  3.380031e-03 &  2.346676e-02 & -6.814196e-03 &  5.301034e-02 &  9.850374e-02 & -1.565308e-02 & -1.505275e-02 & -8.544373e-03 & -3.140618e-03\\\\\n",
       "\t1996 & -4.367001e-03 &  1.805437e-02 & -1.081978e-02 & -2.486194e-02 &  3.666147e-02 & -5.426226e-04 & -2.120897e-02 & -9.641237e-03 &  4.535375e-03 &  7.504981e-03 &  7.346668e-03 & -2.586176e-02\\\\\n",
       "\t1997 & -4.064501e-03 & -4.561587e-02 & -1.383607e-02 &  1.215476e-02 & -1.074254e-02 & -4.268720e-03 &  4.356967e-02 & -5.048471e-03 &  5.661810e-02 &  3.098969e-02 & -1.704381e-02 & -2.061327e-03\\\\\n",
       "\t1998 & -4.971128e-02 & -4.313324e-02 &  2.379606e-02 & -7.614522e-03 &  6.422384e-02 &  4.971174e-02 &  2.452514e-02 &  1.452933e-02 &  4.288364e-02 & -3.195345e-02 & -6.280792e-02 & -1.994885e-02\\\\\n",
       "\t1999 &  8.680927e-03 & -1.603844e-02 &  1.412484e-02 &  2.649969e-02 &  3.320048e-05 &  5.629458e-03 &  3.930816e-02 &  5.983682e-03 & -3.146319e-02 & -2.744009e-02 & -3.710551e-02 & -3.373090e-02\\\\\n",
       "\t2000 &  3.984770e-02 &  4.252208e-02 & -7.579046e-03 &  1.348361e-02 &  5.456040e-02 & -4.437895e-04 & -5.671924e-02 &  1.033921e-02 & -1.041331e-02 & -1.609192e-02 &  2.525670e-03 &  2.343058e-02\\\\\n",
       "\t2001 &  5.522234e-05 & -3.885014e-02 & -1.893621e-02 & -2.322271e-02 & -2.807298e-02 & -8.930351e-03 & -1.443648e-02 &  2.942794e-02 & -1.496889e-02 &  1.777107e-02 & -1.550328e-02 & -1.757507e-02\\\\\n",
       "\t2002 & -1.928612e-02 & -1.033086e-02 &  7.734257e-03 &  3.285205e-02 & -4.705515e-03 &  2.042742e-02 &  3.334144e-02 & -5.840557e-04 &  3.993941e-02 &  1.413781e-02 &  8.879931e-03 &  1.585360e-03\\\\\n",
       "\t2003 &  2.915258e-04 & -4.635324e-03 & -4.528650e-02 & -3.227791e-02 & -2.916399e-02 & -3.923562e-02 &  3.959376e-03 &  2.463838e-02 &  3.979603e-03 &  1.853418e-02 &  1.969950e-02 &  2.686471e-02\\\\\n",
       "\t2004 &  1.105570e-02 &  4.083078e-02 & -3.831249e-02 & -2.803121e-02 &  1.892289e-02 & -1.623414e-02 & -2.903512e-02 & -4.700079e-02 &  2.994556e-02 &  1.414362e-02 &  1.189007e-02 &  3.636767e-02\\\\\n",
       "\t2005 & -1.899310e-02 & -2.977844e-02 &  7.261199e-03 & -2.770800e-02 & -2.630451e-02 &  5.073923e-02 &  3.314986e-02 &  3.202087e-02 &  1.814043e-02 & -2.042450e-02 & -1.209807e-02 &  1.756806e-02\\\\\n",
       "\t2006 & -7.744138e-02 & -6.903251e-04 & -4.856604e-03 & -4.590786e-03 &  1.016423e-02 &  1.221043e-02 &  2.857466e-02 &  1.561855e-02 & -4.934197e-02 &  7.683963e-03 &  1.803778e-04 & -2.450218e-02\\\\\n",
       "\t2007 &  1.824849e-02 &  3.182823e-02 & -2.539947e-02 & -7.710741e-03 & -1.420254e-02 & -8.889409e-03 & -2.904316e-02 &  5.468372e-02 &  2.586005e-02 &  1.600107e-02 & -9.993641e-03 & -1.300731e-02\\\\\n",
       "\t2008 &  1.408260e-02 &  4.686182e-03 & -2.446994e-02 & -1.487646e-02 & -4.130786e-02 &  1.283305e-02 & -1.285760e-02 & -5.732418e-02 & -1.834524e-02 & -7.007205e-03 &  9.529654e-03 &  7.852455e-03\\\\\n",
       "\t2009 &  7.630297e-03 & -5.155406e-02 & -2.659413e-02 & -2.907204e-02 & -3.504701e-02 & -2.153562e-02 & -3.909413e-02 & -1.029747e-02 & -3.730121e-03 & -3.664655e-03 &  6.916369e-04 &  6.721638e-02\\\\\n",
       "\t2010 &  4.746485e-02 &  3.322221e-02 & -2.579179e-02 & -3.859324e-02 &  1.669275e-02 &  3.959979e-02 &  2.581786e-02 &  5.550038e-03 & -8.275455e-03 & -5.773119e-02 & -1.275807e-02 &  4.253115e-02\\\\\n",
       "\t2011 &  7.506029e-03 & -1.819807e-02 & -8.478425e-03 &  5.211147e-03 & -2.596885e-02 & -5.858743e-03 &  4.037925e-02 & -7.074744e-03 & -3.168975e-02 & -3.849345e-02 & -1.700022e-02 & -4.254199e-02\\\\\n",
       "\\end{tabular}\n"
      ],
      "text/markdown": [
       "\n",
       "A Time Series: 39 × 12\n",
       "\n",
       "| <!--/--> | Jan | Feb | Mar | Apr | May | Jun | Jul | Aug | Sep | Oct | Nov | Dec |\n",
       "|---|---|---|---|---|---|---|---|---|---|---|---|---|\n",
       "| 1973 | -3.088253e-02 | -1.446236e-02 |  3.979136e-04 |  2.090474e-03 | -1.329853e-02 |  2.876170e-02 | -2.552924e-03 |  1.435941e-02 |  2.194612e-02 |  4.824755e-03 | -3.299432e-02 | -5.830848e-02 |\n",
       "| 1974 | -5.296097e-02 | -2.370569e-02 |  1.036045e-02 |  1.369390e-02 |  2.205350e-02 | -2.812506e-02 |  1.940899e-02 | -1.775636e-02 | -1.330016e-02 | -1.292314e-03 | -3.286957e-03 | -4.261974e-03 |\n",
       "| 1975 | -1.164802e-02 | -1.149035e-02 |  1.546007e-02 |  1.018740e-02 | -1.322668e-02 | -1.276422e-03 | -1.760031e-02 |  3.339253e-03 | -1.233327e-02 | -3.106610e-03 | -3.992424e-03 |  3.491833e-02 |\n",
       "| 1976 |  4.197652e-02 |  8.438308e-03 |  1.509467e-02 |  3.320803e-03 | -3.217163e-02 |  2.076642e-02 | -1.021696e-02 | -1.217444e-02 |  4.502507e-03 |  1.361941e-03 |  4.663570e-02 |  4.314067e-02 |\n",
       "| 1977 |  6.137701e-02 | -2.905774e-02 | -2.135917e-02 | -2.634171e-02 |  3.159432e-03 |  3.238735e-03 |  7.635639e-03 | -1.251461e-02 |  1.582507e-02 | -3.887798e-02 | -2.184601e-02 |  8.230540e-03 |\n",
       "| 1978 |  3.651702e-02 |  3.150324e-02 | -1.987814e-02 | -2.914847e-02 |  1.064355e-02 |  1.516854e-02 | -6.820754e-03 |  1.400728e-02 |  2.922820e-02 | -1.414837e-02 | -9.597358e-03 | -1.967882e-03 |\n",
       "| 1979 |  4.132539e-02 |  4.986093e-02 | -1.242120e-02 | -1.400688e-02 | -3.247032e-02 | -4.144850e-02 | -3.639584e-02 | -1.816275e-02 | -1.663919e-02 |  1.115532e-02 | -6.579452e-03 | -2.539993e-02 |\n",
       "| 1980 | -1.729296e-02 |  6.682826e-02 |  2.555361e-02 | -1.831298e-02 | -3.713266e-02 | -1.573319e-02 |  3.639083e-02 |  1.119224e-02 |  1.192465e-02 | -3.785067e-02 | -2.606220e-02 | -5.636355e-03 |\n",
       "| 1981 | -8.574988e-03 | -2.862375e-02 |  6.054413e-03 |  1.032902e-02 | -2.299423e-02 |  4.689080e-02 |  1.747280e-02 | -3.556002e-02 | -2.359725e-02 | -1.298913e-02 | -4.188397e-02 | -5.619247e-03 |\n",
       "| 1982 |  6.324519e-03 | -2.360019e-02 |  9.540133e-03 |  6.221081e-04 | -2.617508e-02 | -5.249748e-02 | -8.682693e-03 | -2.019092e-02 | -2.556154e-02 | -3.026980e-02 | -1.424735e-02 | -3.705053e-02 |\n",
       "| 1983 | -3.054439e-02 | -2.016706e-02 |  2.084778e-02 |  2.617231e-02 | -4.979721e-03 |  9.533728e-03 |  4.694632e-02 |  9.287387e-02 |  2.196622e-02 | -1.822332e-02 | -1.110917e-02 |  5.688101e-02 |\n",
       "| 1984 | -1.953280e-03 | -9.114140e-03 |  1.747774e-02 | -8.691121e-03 |  1.361486e-02 |  1.550215e-02 | -4.500927e-02 |  4.145736e-03 | -2.180334e-02 |  3.947806e-03 |  4.882073e-04 | -4.979919e-02 |\n",
       "| 1985 |  4.543706e-02 |  2.045632e-02 | -3.734147e-02 |  3.639798e-03 |  2.042742e-02 | -2.396873e-02 | -1.578682e-02 | -2.345165e-02 |  1.467190e-02 |  7.981536e-03 | -5.038742e-03 |  3.835723e-02 |\n",
       "| 1986 | -4.990367e-02 | -2.675007e-02 | -1.931095e-02 |  4.768101e-03 |  1.353037e-02 |  2.450801e-02 |  4.025788e-02 | -5.225102e-02 |  8.366408e-03 | -3.675526e-04 | -2.572963e-03 | -1.715161e-02 |\n",
       "| 1987 | -2.023682e-02 | -2.475279e-02 | -3.330880e-03 |  4.131401e-03 |  3.685880e-02 |  4.366346e-02 |  2.294256e-02 |  2.963244e-02 | -1.011208e-02 | -1.546511e-02 | -1.980235e-02 | -1.375899e-02 |\n",
       "| 1988 |  1.669813e-02 |  4.985871e-02 | -7.774640e-03 | -2.512991e-02 | -1.518696e-02 |  2.443083e-02 |  2.084000e-02 |  6.854414e-02 | -1.896669e-02 | -1.704656e-02 | -1.123097e-02 | -3.113440e-04 |\n",
       "| 1989 |  8.966716e-04 |  7.052210e-02 |  6.931692e-02 |  3.882807e-02 |  1.975230e-02 | -3.571716e-03 | -1.299868e-02 | -4.138030e-04 |  2.235228e-02 |  2.742604e-02 |  1.845557e-02 |  7.508190e-02 |\n",
       "| 1990 | -7.428174e-02 | -5.520752e-02 |  6.958176e-03 |  2.103407e-02 |  1.023513e-02 |  3.604509e-02 | -2.340426e-03 |  8.573066e-03 |  3.228059e-02 |  7.105184e-03 | -4.229571e-02 | -4.180398e-02 |\n",
       "| 1991 | -2.223882e-03 | -6.292796e-02 | -2.508490e-02 |  2.794962e-03 |  6.288864e-02 |  1.380687e-02 |  1.523437e-02 | -8.579370e-04 |  5.382824e-03 |  6.951391e-03 |  8.017461e-03 | -5.457085e-02 |\n",
       "| 1992 | -1.973232e-02 | -1.046399e-02 | -1.270107e-02 |  5.934291e-04 | -2.822916e-02 | -1.984116e-02 |  1.718013e-02 | -2.756387e-02 |  3.556954e-02 |  1.130246e-02 |  2.298525e-02 |  9.519423e-03 |\n",
       "| 1993 | -1.864735e-02 |  1.107382e-02 |  2.186966e-02 | -2.475375e-02 | -3.758473e-02 |  1.651992e-02 |  4.420042e-02 |  4.014435e-02 | -1.442057e-02 | -1.214503e-02 |  1.274384e-02 | -8.758031e-03 |\n",
       "| 1994 |  2.369595e-02 | -2.694932e-02 | -2.549608e-02 | -1.124920e-02 | -1.628133e-02 |  5.359904e-02 | -6.359312e-03 | -4.821957e-03 | -1.306609e-02 |  3.444212e-03 | -6.098847e-03 | -2.597365e-02 |\n",
       "| 1995 | -2.184037e-02 | -1.147450e-03 | -6.686929e-03 |  3.380031e-03 |  2.346676e-02 | -6.814196e-03 |  5.301034e-02 |  9.850374e-02 | -1.565308e-02 | -1.505275e-02 | -8.544373e-03 | -3.140618e-03 |\n",
       "| 1996 | -4.367001e-03 |  1.805437e-02 | -1.081978e-02 | -2.486194e-02 |  3.666147e-02 | -5.426226e-04 | -2.120897e-02 | -9.641237e-03 |  4.535375e-03 |  7.504981e-03 |  7.346668e-03 | -2.586176e-02 |\n",
       "| 1997 | -4.064501e-03 | -4.561587e-02 | -1.383607e-02 |  1.215476e-02 | -1.074254e-02 | -4.268720e-03 |  4.356967e-02 | -5.048471e-03 |  5.661810e-02 |  3.098969e-02 | -1.704381e-02 | -2.061327e-03 |\n",
       "| 1998 | -4.971128e-02 | -4.313324e-02 |  2.379606e-02 | -7.614522e-03 |  6.422384e-02 |  4.971174e-02 |  2.452514e-02 |  1.452933e-02 |  4.288364e-02 | -3.195345e-02 | -6.280792e-02 | -1.994885e-02 |\n",
       "| 1999 |  8.680927e-03 | -1.603844e-02 |  1.412484e-02 |  2.649969e-02 |  3.320048e-05 |  5.629458e-03 |  3.930816e-02 |  5.983682e-03 | -3.146319e-02 | -2.744009e-02 | -3.710551e-02 | -3.373090e-02 |\n",
       "| 2000 |  3.984770e-02 |  4.252208e-02 | -7.579046e-03 |  1.348361e-02 |  5.456040e-02 | -4.437895e-04 | -5.671924e-02 |  1.033921e-02 | -1.041331e-02 | -1.609192e-02 |  2.525670e-03 |  2.343058e-02 |\n",
       "| 2001 |  5.522234e-05 | -3.885014e-02 | -1.893621e-02 | -2.322271e-02 | -2.807298e-02 | -8.930351e-03 | -1.443648e-02 |  2.942794e-02 | -1.496889e-02 |  1.777107e-02 | -1.550328e-02 | -1.757507e-02 |\n",
       "| 2002 | -1.928612e-02 | -1.033086e-02 |  7.734257e-03 |  3.285205e-02 | -4.705515e-03 |  2.042742e-02 |  3.334144e-02 | -5.840557e-04 |  3.993941e-02 |  1.413781e-02 |  8.879931e-03 |  1.585360e-03 |\n",
       "| 2003 |  2.915258e-04 | -4.635324e-03 | -4.528650e-02 | -3.227791e-02 | -2.916399e-02 | -3.923562e-02 |  3.959376e-03 |  2.463838e-02 |  3.979603e-03 |  1.853418e-02 |  1.969950e-02 |  2.686471e-02 |\n",
       "| 2004 |  1.105570e-02 |  4.083078e-02 | -3.831249e-02 | -2.803121e-02 |  1.892289e-02 | -1.623414e-02 | -2.903512e-02 | -4.700079e-02 |  2.994556e-02 |  1.414362e-02 |  1.189007e-02 |  3.636767e-02 |\n",
       "| 2005 | -1.899310e-02 | -2.977844e-02 |  7.261199e-03 | -2.770800e-02 | -2.630451e-02 |  5.073923e-02 |  3.314986e-02 |  3.202087e-02 |  1.814043e-02 | -2.042450e-02 | -1.209807e-02 |  1.756806e-02 |\n",
       "| 2006 | -7.744138e-02 | -6.903251e-04 | -4.856604e-03 | -4.590786e-03 |  1.016423e-02 |  1.221043e-02 |  2.857466e-02 |  1.561855e-02 | -4.934197e-02 |  7.683963e-03 |  1.803778e-04 | -2.450218e-02 |\n",
       "| 2007 |  1.824849e-02 |  3.182823e-02 | -2.539947e-02 | -7.710741e-03 | -1.420254e-02 | -8.889409e-03 | -2.904316e-02 |  5.468372e-02 |  2.586005e-02 |  1.600107e-02 | -9.993641e-03 | -1.300731e-02 |\n",
       "| 2008 |  1.408260e-02 |  4.686182e-03 | -2.446994e-02 | -1.487646e-02 | -4.130786e-02 |  1.283305e-02 | -1.285760e-02 | -5.732418e-02 | -1.834524e-02 | -7.007205e-03 |  9.529654e-03 |  7.852455e-03 |\n",
       "| 2009 |  7.630297e-03 | -5.155406e-02 | -2.659413e-02 | -2.907204e-02 | -3.504701e-02 | -2.153562e-02 | -3.909413e-02 | -1.029747e-02 | -3.730121e-03 | -3.664655e-03 |  6.916369e-04 |  6.721638e-02 |\n",
       "| 2010 |  4.746485e-02 |  3.322221e-02 | -2.579179e-02 | -3.859324e-02 |  1.669275e-02 |  3.959979e-02 |  2.581786e-02 |  5.550038e-03 | -8.275455e-03 | -5.773119e-02 | -1.275807e-02 |  4.253115e-02 |\n",
       "| 2011 |  7.506029e-03 | -1.819807e-02 | -8.478425e-03 |  5.211147e-03 | -2.596885e-02 | -5.858743e-03 |  4.037925e-02 | -7.074744e-03 | -3.168975e-02 | -3.849345e-02 | -1.700022e-02 | -4.254199e-02 |\n",
       "\n"
      ],
      "text/plain": [
       "     Jan           Feb           Mar           Apr           May          \n",
       "1973 -3.088253e-02 -1.446236e-02  3.979136e-04  2.090474e-03 -1.329853e-02\n",
       "1974 -5.296097e-02 -2.370569e-02  1.036045e-02  1.369390e-02  2.205350e-02\n",
       "1975 -1.164802e-02 -1.149035e-02  1.546007e-02  1.018740e-02 -1.322668e-02\n",
       "1976  4.197652e-02  8.438308e-03  1.509467e-02  3.320803e-03 -3.217163e-02\n",
       "1977  6.137701e-02 -2.905774e-02 -2.135917e-02 -2.634171e-02  3.159432e-03\n",
       "1978  3.651702e-02  3.150324e-02 -1.987814e-02 -2.914847e-02  1.064355e-02\n",
       "1979  4.132539e-02  4.986093e-02 -1.242120e-02 -1.400688e-02 -3.247032e-02\n",
       "1980 -1.729296e-02  6.682826e-02  2.555361e-02 -1.831298e-02 -3.713266e-02\n",
       "1981 -8.574988e-03 -2.862375e-02  6.054413e-03  1.032902e-02 -2.299423e-02\n",
       "1982  6.324519e-03 -2.360019e-02  9.540133e-03  6.221081e-04 -2.617508e-02\n",
       "1983 -3.054439e-02 -2.016706e-02  2.084778e-02  2.617231e-02 -4.979721e-03\n",
       "1984 -1.953280e-03 -9.114140e-03  1.747774e-02 -8.691121e-03  1.361486e-02\n",
       "1985  4.543706e-02  2.045632e-02 -3.734147e-02  3.639798e-03  2.042742e-02\n",
       "1986 -4.990367e-02 -2.675007e-02 -1.931095e-02  4.768101e-03  1.353037e-02\n",
       "1987 -2.023682e-02 -2.475279e-02 -3.330880e-03  4.131401e-03  3.685880e-02\n",
       "1988  1.669813e-02  4.985871e-02 -7.774640e-03 -2.512991e-02 -1.518696e-02\n",
       "1989  8.966716e-04  7.052210e-02  6.931692e-02  3.882807e-02  1.975230e-02\n",
       "1990 -7.428174e-02 -5.520752e-02  6.958176e-03  2.103407e-02  1.023513e-02\n",
       "1991 -2.223882e-03 -6.292796e-02 -2.508490e-02  2.794962e-03  6.288864e-02\n",
       "1992 -1.973232e-02 -1.046399e-02 -1.270107e-02  5.934291e-04 -2.822916e-02\n",
       "1993 -1.864735e-02  1.107382e-02  2.186966e-02 -2.475375e-02 -3.758473e-02\n",
       "1994  2.369595e-02 -2.694932e-02 -2.549608e-02 -1.124920e-02 -1.628133e-02\n",
       "1995 -2.184037e-02 -1.147450e-03 -6.686929e-03  3.380031e-03  2.346676e-02\n",
       "1996 -4.367001e-03  1.805437e-02 -1.081978e-02 -2.486194e-02  3.666147e-02\n",
       "1997 -4.064501e-03 -4.561587e-02 -1.383607e-02  1.215476e-02 -1.074254e-02\n",
       "1998 -4.971128e-02 -4.313324e-02  2.379606e-02 -7.614522e-03  6.422384e-02\n",
       "1999  8.680927e-03 -1.603844e-02  1.412484e-02  2.649969e-02  3.320048e-05\n",
       "2000  3.984770e-02  4.252208e-02 -7.579046e-03  1.348361e-02  5.456040e-02\n",
       "2001  5.522234e-05 -3.885014e-02 -1.893621e-02 -2.322271e-02 -2.807298e-02\n",
       "2002 -1.928612e-02 -1.033086e-02  7.734257e-03  3.285205e-02 -4.705515e-03\n",
       "2003  2.915258e-04 -4.635324e-03 -4.528650e-02 -3.227791e-02 -2.916399e-02\n",
       "2004  1.105570e-02  4.083078e-02 -3.831249e-02 -2.803121e-02  1.892289e-02\n",
       "2005 -1.899310e-02 -2.977844e-02  7.261199e-03 -2.770800e-02 -2.630451e-02\n",
       "2006 -7.744138e-02 -6.903251e-04 -4.856604e-03 -4.590786e-03  1.016423e-02\n",
       "2007  1.824849e-02  3.182823e-02 -2.539947e-02 -7.710741e-03 -1.420254e-02\n",
       "2008  1.408260e-02  4.686182e-03 -2.446994e-02 -1.487646e-02 -4.130786e-02\n",
       "2009  7.630297e-03 -5.155406e-02 -2.659413e-02 -2.907204e-02 -3.504701e-02\n",
       "2010  4.746485e-02  3.322221e-02 -2.579179e-02 -3.859324e-02  1.669275e-02\n",
       "2011  7.506029e-03 -1.819807e-02 -8.478425e-03  5.211147e-03 -2.596885e-02\n",
       "     Jun           Jul           Aug           Sep           Oct          \n",
       "1973  2.876170e-02 -2.552924e-03  1.435941e-02  2.194612e-02  4.824755e-03\n",
       "1974 -2.812506e-02  1.940899e-02 -1.775636e-02 -1.330016e-02 -1.292314e-03\n",
       "1975 -1.276422e-03 -1.760031e-02  3.339253e-03 -1.233327e-02 -3.106610e-03\n",
       "1976  2.076642e-02 -1.021696e-02 -1.217444e-02  4.502507e-03  1.361941e-03\n",
       "1977  3.238735e-03  7.635639e-03 -1.251461e-02  1.582507e-02 -3.887798e-02\n",
       "1978  1.516854e-02 -6.820754e-03  1.400728e-02  2.922820e-02 -1.414837e-02\n",
       "1979 -4.144850e-02 -3.639584e-02 -1.816275e-02 -1.663919e-02  1.115532e-02\n",
       "1980 -1.573319e-02  3.639083e-02  1.119224e-02  1.192465e-02 -3.785067e-02\n",
       "1981  4.689080e-02  1.747280e-02 -3.556002e-02 -2.359725e-02 -1.298913e-02\n",
       "1982 -5.249748e-02 -8.682693e-03 -2.019092e-02 -2.556154e-02 -3.026980e-02\n",
       "1983  9.533728e-03  4.694632e-02  9.287387e-02  2.196622e-02 -1.822332e-02\n",
       "1984  1.550215e-02 -4.500927e-02  4.145736e-03 -2.180334e-02  3.947806e-03\n",
       "1985 -2.396873e-02 -1.578682e-02 -2.345165e-02  1.467190e-02  7.981536e-03\n",
       "1986  2.450801e-02  4.025788e-02 -5.225102e-02  8.366408e-03 -3.675526e-04\n",
       "1987  4.366346e-02  2.294256e-02  2.963244e-02 -1.011208e-02 -1.546511e-02\n",
       "1988  2.443083e-02  2.084000e-02  6.854414e-02 -1.896669e-02 -1.704656e-02\n",
       "1989 -3.571716e-03 -1.299868e-02 -4.138030e-04  2.235228e-02  2.742604e-02\n",
       "1990  3.604509e-02 -2.340426e-03  8.573066e-03  3.228059e-02  7.105184e-03\n",
       "1991  1.380687e-02  1.523437e-02 -8.579370e-04  5.382824e-03  6.951391e-03\n",
       "1992 -1.984116e-02  1.718013e-02 -2.756387e-02  3.556954e-02  1.130246e-02\n",
       "1993  1.651992e-02  4.420042e-02  4.014435e-02 -1.442057e-02 -1.214503e-02\n",
       "1994  5.359904e-02 -6.359312e-03 -4.821957e-03 -1.306609e-02  3.444212e-03\n",
       "1995 -6.814196e-03  5.301034e-02  9.850374e-02 -1.565308e-02 -1.505275e-02\n",
       "1996 -5.426226e-04 -2.120897e-02 -9.641237e-03  4.535375e-03  7.504981e-03\n",
       "1997 -4.268720e-03  4.356967e-02 -5.048471e-03  5.661810e-02  3.098969e-02\n",
       "1998  4.971174e-02  2.452514e-02  1.452933e-02  4.288364e-02 -3.195345e-02\n",
       "1999  5.629458e-03  3.930816e-02  5.983682e-03 -3.146319e-02 -2.744009e-02\n",
       "2000 -4.437895e-04 -5.671924e-02  1.033921e-02 -1.041331e-02 -1.609192e-02\n",
       "2001 -8.930351e-03 -1.443648e-02  2.942794e-02 -1.496889e-02  1.777107e-02\n",
       "2002  2.042742e-02  3.334144e-02 -5.840557e-04  3.993941e-02  1.413781e-02\n",
       "2003 -3.923562e-02  3.959376e-03  2.463838e-02  3.979603e-03  1.853418e-02\n",
       "2004 -1.623414e-02 -2.903512e-02 -4.700079e-02  2.994556e-02  1.414362e-02\n",
       "2005  5.073923e-02  3.314986e-02  3.202087e-02  1.814043e-02 -2.042450e-02\n",
       "2006  1.221043e-02  2.857466e-02  1.561855e-02 -4.934197e-02  7.683963e-03\n",
       "2007 -8.889409e-03 -2.904316e-02  5.468372e-02  2.586005e-02  1.600107e-02\n",
       "2008  1.283305e-02 -1.285760e-02 -5.732418e-02 -1.834524e-02 -7.007205e-03\n",
       "2009 -2.153562e-02 -3.909413e-02 -1.029747e-02 -3.730121e-03 -3.664655e-03\n",
       "2010  3.959979e-02  2.581786e-02  5.550038e-03 -8.275455e-03 -5.773119e-02\n",
       "2011 -5.858743e-03  4.037925e-02 -7.074744e-03 -3.168975e-02 -3.849345e-02\n",
       "     Nov           Dec          \n",
       "1973 -3.299432e-02 -5.830848e-02\n",
       "1974 -3.286957e-03 -4.261974e-03\n",
       "1975 -3.992424e-03  3.491833e-02\n",
       "1976  4.663570e-02  4.314067e-02\n",
       "1977 -2.184601e-02  8.230540e-03\n",
       "1978 -9.597358e-03 -1.967882e-03\n",
       "1979 -6.579452e-03 -2.539993e-02\n",
       "1980 -2.606220e-02 -5.636355e-03\n",
       "1981 -4.188397e-02 -5.619247e-03\n",
       "1982 -1.424735e-02 -3.705053e-02\n",
       "1983 -1.110917e-02  5.688101e-02\n",
       "1984  4.882073e-04 -4.979919e-02\n",
       "1985 -5.038742e-03  3.835723e-02\n",
       "1986 -2.572963e-03 -1.715161e-02\n",
       "1987 -1.980235e-02 -1.375899e-02\n",
       "1988 -1.123097e-02 -3.113440e-04\n",
       "1989  1.845557e-02  7.508190e-02\n",
       "1990 -4.229571e-02 -4.180398e-02\n",
       "1991  8.017461e-03 -5.457085e-02\n",
       "1992  2.298525e-02  9.519423e-03\n",
       "1993  1.274384e-02 -8.758031e-03\n",
       "1994 -6.098847e-03 -2.597365e-02\n",
       "1995 -8.544373e-03 -3.140618e-03\n",
       "1996  7.346668e-03 -2.586176e-02\n",
       "1997 -1.704381e-02 -2.061327e-03\n",
       "1998 -6.280792e-02 -1.994885e-02\n",
       "1999 -3.710551e-02 -3.373090e-02\n",
       "2000  2.525670e-03  2.343058e-02\n",
       "2001 -1.550328e-02 -1.757507e-02\n",
       "2002  8.879931e-03  1.585360e-03\n",
       "2003  1.969950e-02  2.686471e-02\n",
       "2004  1.189007e-02  3.636767e-02\n",
       "2005 -1.209807e-02  1.756806e-02\n",
       "2006  1.803778e-04 -2.450218e-02\n",
       "2007 -9.993641e-03 -1.300731e-02\n",
       "2008  9.529654e-03  7.852455e-03\n",
       "2009  6.916369e-04  6.721638e-02\n",
       "2010 -1.275807e-02  4.253115e-02\n",
       "2011 -1.700022e-02 -4.254199e-02"
      ]
     },
     "metadata": {},
     "output_type": "display_data"
    },
    {
     "data": {
      "image/png": "[encoded data removed]",
      "text/plain": [
       "plot without title"
      ]
     },
     "metadata": {
      "image/png": {
       "height": 420,
       "width": 420
      }
     },
     "output_type": "display_data"
    }
   ],
   "source": [
    "# residuals : 관측지와 fitting된 값들사이의 차이 = 잔차 를 말함!\n",
    "# the residuals are equal to the difference between the observations and the corresponding fitted values: et=yt−^yt.\n",
    "us_train_ets4$residuals\n",
    "plot(us_train_ets4$residuals)\n"
   ]
  },
  {
   "cell_type": "code",
   "execution_count": 89,
   "metadata": {},
   "outputs": [
    {
     "data": {
      "image/png": "[encoded data removed]",
      "text/plain": [
       "plot without title"
      ]
     },
     "metadata": {
      "image/png": {
       "height": 420,
       "width": 420
      }
     },
     "output_type": "display_data"
    }
   ],
   "source": [
    "# 시뮬레이션으로 미래의 값 분포보기(예측오차 측정!?)\n",
    "plot(us_train, xlim=c(2005,2013))\n",
    "for (i in 1:1000){\n",
    "    lines(simulate(us_train_ets4,18), col='red')\n",
    "}\n",
    "\n",
    "# 1000번을 돌려도 엄청나게 크게 예측값 오차가 벗어나지 않는다."
   ]
  },
  {
   "cell_type": "code",
   "execution_count": 22,
   "metadata": {},
   "outputs": [
    {
     "data": {
      "image/png": "[encoded data removed]",
      "text/plain": [
       "Plot with title \"Forecasts from ETS(M,A,M)\""
      ]
     },
     "metadata": {
      "image/png": {
       "height": 420,
       "width": 420
      }
     },
     "output_type": "display_data"
    }
   ],
   "source": [
    "plot(for_ets4, xlim=c(2005,2013))"
   ]
  },
  {
   "cell_type": "code",
   "execution_count": null,
   "metadata": {},
   "outputs": [],
   "source": []
  }
 ],
 "metadata": {
  "kernelspec": {
   "display_name": "R",
   "language": "R",
   "name": "ir"
  },
  "language_info": {
   "codemirror_mode": "r",
   "file_extension": ".r",
   "mimetype": "text/x-r-source",
   "name": "R",
   "pygments_lexer": "r",
   "version": "3.6.3"
  }
 },
 "nbformat": 4,
 "nbformat_minor": 4
}
