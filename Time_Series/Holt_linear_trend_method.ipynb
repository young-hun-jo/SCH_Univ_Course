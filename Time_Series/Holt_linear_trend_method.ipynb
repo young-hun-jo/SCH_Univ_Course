{
 "cells": [
  {
   "cell_type": "markdown",
   "metadata": {},
   "source": [
    "# 홀스 선형지수 평활법\n",
    "\n",
    "- 평활법 : 가중평균을 둠(최근의 자료에 가중치를 더 둠)\n",
    "- 자료의평활(알파라는 파라미터관련 수식) + 추세의평활(베타라는 파라미터관련 수식) 로 구성 알파,베타값은 평균제곱오차(SSE)로 추정"
   ]
  },
  {
   "cell_type": "code",
   "execution_count": 1,
   "metadata": {},
   "outputs": [
    {
     "name": "stderr",
     "output_type": "stream",
     "text": [
      "Loading required package: ggplot2\n",
      "\n",
      "Loading required package: forecast\n",
      "\n",
      "Registered S3 method overwritten by 'quantmod':\n",
      "  method            from\n",
      "  as.zoo.data.frame zoo \n",
      "\n",
      "Loading required package: fma\n",
      "\n",
      "Loading required package: expsmooth\n",
      "\n"
     ]
    }
   ],
   "source": [
    "library(fpp2)"
   ]
  },
  {
   "cell_type": "code",
   "execution_count": 2,
   "metadata": {},
   "outputs": [
    {
     "data": {
      "text/html": [
       "A Time Series:<br><style>\n",
       ".list-inline {list-style: none; margin:0; padding: 0}\n",
       ".list-inline>li {display: inline-block}\n",
       ".list-inline>li:not(:last-child)::after {content: \"\\00b7\"; padding: 0 .5ex}\n",
       "</style>\n",
       "<ol class=list-inline><li>7.3187</li><li>7.3266</li><li>7.7956</li><li>9.3846</li><li>10.6647</li><li>11.0551</li><li>10.8643</li><li>11.3065</li><li>12.1223</li><li>13.0225</li><li>13.6488</li><li>13.2195</li><li>13.1879</li><li>12.6015</li><li>13.2368</li><li>14.4121</li><li>15.4973</li><li>16.8802</li><li>18.8163</li><li>15.1143</li><li>17.5534</li><li>21.8601</li><li>23.8866</li><li>26.9293</li><li>26.8885</li><li>28.8314</li><li>30.0751</li><li>30.9535</li><li>30.1857</li><li>31.5797</li><li>32.577569</li><li>33.477398</li><li>39.021581</li><li>41.386432</li><li>41.596552</li><li>44.657324</li><li>46.951775</li><li>48.728837</li><li>51.488427</li><li>50.026967</li><li>60.640913</li><li>63.3603103378</li><li>66.355274</li><li>68.197955</li><li>68.1232376693</li><li>69.7793454797</li><li>72.597700806</li></ol>\n"
      ],
      "text/latex": [
       "A Time Series:\\\\\\begin{enumerate*}\n",
       "\\item 7.3187\n",
       "\\item 7.3266\n",
       "\\item 7.7956\n",
       "\\item 9.3846\n",
       "\\item 10.6647\n",
       "\\item 11.0551\n",
       "\\item 10.8643\n",
       "\\item 11.3065\n",
       "\\item 12.1223\n",
       "\\item 13.0225\n",
       "\\item 13.6488\n",
       "\\item 13.2195\n",
       "\\item 13.1879\n",
       "\\item 12.6015\n",
       "\\item 13.2368\n",
       "\\item 14.4121\n",
       "\\item 15.4973\n",
       "\\item 16.8802\n",
       "\\item 18.8163\n",
       "\\item 15.1143\n",
       "\\item 17.5534\n",
       "\\item 21.8601\n",
       "\\item 23.8866\n",
       "\\item 26.9293\n",
       "\\item 26.8885\n",
       "\\item 28.8314\n",
       "\\item 30.0751\n",
       "\\item 30.9535\n",
       "\\item 30.1857\n",
       "\\item 31.5797\n",
       "\\item 32.577569\n",
       "\\item 33.477398\n",
       "\\item 39.021581\n",
       "\\item 41.386432\n",
       "\\item 41.596552\n",
       "\\item 44.657324\n",
       "\\item 46.951775\n",
       "\\item 48.728837\n",
       "\\item 51.488427\n",
       "\\item 50.026967\n",
       "\\item 60.640913\n",
       "\\item 63.3603103378\n",
       "\\item 66.355274\n",
       "\\item 68.197955\n",
       "\\item 68.1232376693\n",
       "\\item 69.7793454797\n",
       "\\item 72.597700806\n",
       "\\end{enumerate*}\n"
      ],
      "text/markdown": [
       "A Time Series:  \n",
       "1. 7.3187\n",
       "2. 7.3266\n",
       "3. 7.7956\n",
       "4. 9.3846\n",
       "5. 10.6647\n",
       "6. 11.0551\n",
       "7. 10.8643\n",
       "8. 11.3065\n",
       "9. 12.1223\n",
       "10. 13.0225\n",
       "11. 13.6488\n",
       "12. 13.2195\n",
       "13. 13.1879\n",
       "14. 12.6015\n",
       "15. 13.2368\n",
       "16. 14.4121\n",
       "17. 15.4973\n",
       "18. 16.8802\n",
       "19. 18.8163\n",
       "20. 15.1143\n",
       "21. 17.5534\n",
       "22. 21.8601\n",
       "23. 23.8866\n",
       "24. 26.9293\n",
       "25. 26.8885\n",
       "26. 28.8314\n",
       "27. 30.0751\n",
       "28. 30.9535\n",
       "29. 30.1857\n",
       "30. 31.5797\n",
       "31. 32.577569\n",
       "32. 33.477398\n",
       "33. 39.021581\n",
       "34. 41.386432\n",
       "35. 41.596552\n",
       "36. 44.657324\n",
       "37. 46.951775\n",
       "38. 48.728837\n",
       "39. 51.488427\n",
       "40. 50.026967\n",
       "41. 60.640913\n",
       "42. 63.3603103378\n",
       "43. 66.355274\n",
       "44. 68.197955\n",
       "45. 68.1232376693\n",
       "46. 69.7793454797\n",
       "47. 72.597700806\n",
       "\n",
       "\n"
      ],
      "text/plain": [
       "A Time Series:\n",
       " [1]  7.31870  7.32660  7.79560  9.38460 10.66470 11.05510 10.86430 11.30650\n",
       " [9] 12.12230 13.02250 13.64880 13.21950 13.18790 12.60150 13.23680 14.41210\n",
       "[17] 15.49730 16.88020 18.81630 15.11430 17.55340 21.86010 23.88660 26.92930\n",
       "[25] 26.88850 28.83140 30.07510 30.95350 30.18570 31.57970 32.57757 33.47740\n",
       "[33] 39.02158 41.38643 41.59655 44.65732 46.95177 48.72884 51.48843 50.02697\n",
       "[41] 60.64091 63.36031 66.35527 68.19795 68.12324 69.77935 72.59770"
      ]
     },
     "metadata": {},
     "output_type": "display_data"
    }
   ],
   "source": [
    "ausair"
   ]
  },
  {
   "cell_type": "code",
   "execution_count": 3,
   "metadata": {},
   "outputs": [
    {
     "data": {
      "image/png": "[encoded data removed]",
      "text/plain": [
       "plot without title"
      ]
     },
     "metadata": {
      "image/png": {
       "height": 420,
       "width": 420
      }
     },
     "output_type": "display_data"
    }
   ],
   "source": [
    "plot(ausair)"
   ]
  },
  {
   "cell_type": "code",
   "execution_count": 4,
   "metadata": {},
   "outputs": [
    {
     "data": {
      "text/html": [
       "A Time Series:<br><style>\n",
       ".list-inline {list-style: none; margin:0; padding: 0}\n",
       ".list-inline>li {display: inline-block}\n",
       ".list-inline>li:not(:last-child)::after {content: \"\\00b7\"; padding: 0 .5ex}\n",
       "</style>\n",
       "<ol class=list-inline><li>17.5534</li><li>21.8601</li><li>23.8866</li><li>26.9293</li><li>26.8885</li><li>28.8314</li><li>30.0751</li><li>30.9535</li><li>30.1857</li><li>31.5797</li><li>32.577569</li><li>33.477398</li><li>39.021581</li><li>41.386432</li><li>41.596552</li><li>44.657324</li><li>46.951775</li><li>48.728837</li><li>51.488427</li><li>50.026967</li><li>60.640913</li><li>63.3603103378</li><li>66.355274</li><li>68.197955</li><li>68.1232376693</li><li>69.7793454797</li><li>72.597700806</li></ol>\n"
      ],
      "text/latex": [
       "A Time Series:\\\\\\begin{enumerate*}\n",
       "\\item 17.5534\n",
       "\\item 21.8601\n",
       "\\item 23.8866\n",
       "\\item 26.9293\n",
       "\\item 26.8885\n",
       "\\item 28.8314\n",
       "\\item 30.0751\n",
       "\\item 30.9535\n",
       "\\item 30.1857\n",
       "\\item 31.5797\n",
       "\\item 32.577569\n",
       "\\item 33.477398\n",
       "\\item 39.021581\n",
       "\\item 41.386432\n",
       "\\item 41.596552\n",
       "\\item 44.657324\n",
       "\\item 46.951775\n",
       "\\item 48.728837\n",
       "\\item 51.488427\n",
       "\\item 50.026967\n",
       "\\item 60.640913\n",
       "\\item 63.3603103378\n",
       "\\item 66.355274\n",
       "\\item 68.197955\n",
       "\\item 68.1232376693\n",
       "\\item 69.7793454797\n",
       "\\item 72.597700806\n",
       "\\end{enumerate*}\n"
      ],
      "text/markdown": [
       "A Time Series:  \n",
       "1. 17.5534\n",
       "2. 21.8601\n",
       "3. 23.8866\n",
       "4. 26.9293\n",
       "5. 26.8885\n",
       "6. 28.8314\n",
       "7. 30.0751\n",
       "8. 30.9535\n",
       "9. 30.1857\n",
       "10. 31.5797\n",
       "11. 32.577569\n",
       "12. 33.477398\n",
       "13. 39.021581\n",
       "14. 41.386432\n",
       "15. 41.596552\n",
       "16. 44.657324\n",
       "17. 46.951775\n",
       "18. 48.728837\n",
       "19. 51.488427\n",
       "20. 50.026967\n",
       "21. 60.640913\n",
       "22. 63.3603103378\n",
       "23. 66.355274\n",
       "24. 68.197955\n",
       "25. 68.1232376693\n",
       "26. 69.7793454797\n",
       "27. 72.597700806\n",
       "\n",
       "\n"
      ],
      "text/plain": [
       "A Time Series:\n",
       " [1] 17.55340 21.86010 23.88660 26.92930 26.88850 28.83140 30.07510 30.95350\n",
       " [9] 30.18570 31.57970 32.57757 33.47740 39.02158 41.38643 41.59655 44.65732\n",
       "[17] 46.95177 48.72884 51.48843 50.02697 60.64091 63.36031 66.35527 68.19795\n",
       "[25] 68.12324 69.77935 72.59770"
      ]
     },
     "metadata": {},
     "output_type": "display_data"
    }
   ],
   "source": [
    "# 1990년도 데이터부터 끊고 예측해보기 \n",
    "air_ts<-window(ausair, start=1990)\n",
    "air_ts"
   ]
  },
  {
   "cell_type": "code",
   "execution_count": 5,
   "metadata": {},
   "outputs": [
    {
     "data": {
      "image/png": "[encoded data removed]",
      "text/plain": [
       "Plot with title \"Forecasts from Holt's method\""
      ]
     },
     "metadata": {
      "image/png": {
       "height": 420,
       "width": 420
      }
     },
     "output_type": "display_data"
    }
   ],
   "source": [
    "air_holt<-holt(air_ts, h=5)\n",
    "plot(air_holt)"
   ]
  },
  {
   "cell_type": "code",
   "execution_count": 6,
   "metadata": {},
   "outputs": [
    {
     "data": {
      "text/html": [
       "<style>\n",
       ".list-inline {list-style: none; margin:0; padding: 0}\n",
       ".list-inline>li {display: inline-block}\n",
       ".list-inline>li:not(:last-child)::after {content: \"\\00b7\"; padding: 0 .5ex}\n",
       "</style>\n",
       "<ol class=list-inline><li>'model'</li><li>'mean'</li><li>'level'</li><li>'x'</li><li>'upper'</li><li>'lower'</li><li>'fitted'</li><li>'method'</li><li>'series'</li><li>'residuals'</li></ol>\n"
      ],
      "text/latex": [
       "\\begin{enumerate*}\n",
       "\\item 'model'\n",
       "\\item 'mean'\n",
       "\\item 'level'\n",
       "\\item 'x'\n",
       "\\item 'upper'\n",
       "\\item 'lower'\n",
       "\\item 'fitted'\n",
       "\\item 'method'\n",
       "\\item 'series'\n",
       "\\item 'residuals'\n",
       "\\end{enumerate*}\n"
      ],
      "text/markdown": [
       "1. 'model'\n",
       "2. 'mean'\n",
       "3. 'level'\n",
       "4. 'x'\n",
       "5. 'upper'\n",
       "6. 'lower'\n",
       "7. 'fitted'\n",
       "8. 'method'\n",
       "9. 'series'\n",
       "10. 'residuals'\n",
       "\n",
       "\n"
      ],
      "text/plain": [
       " [1] \"model\"     \"mean\"      \"level\"     \"x\"         \"upper\"     \"lower\"    \n",
       " [7] \"fitted\"    \"method\"    \"series\"    \"residuals\""
      ]
     },
     "metadata": {},
     "output_type": "display_data"
    }
   ],
   "source": [
    "# air_holt의 변수확인\n",
    "names(air_holt)"
   ]
  },
  {
   "cell_type": "code",
   "execution_count": 7,
   "metadata": {},
   "outputs": [
    {
     "data": {
      "text/plain": [
       "Holt's method \n",
       "\n",
       "Call:\n",
       " holt(y = air_ts, h = 5) \n",
       "\n",
       "  Smoothing parameters:\n",
       "    alpha = 0.8302 \n",
       "    beta  = 1e-04 \n",
       "\n",
       "  Initial states:\n",
       "    l = 15.5715 \n",
       "    b = 2.1017 \n",
       "\n",
       "  sigma:  2.3645\n",
       "\n",
       "     AIC     AICc      BIC \n",
       "141.1291 143.9863 147.6083 "
      ]
     },
     "metadata": {},
     "output_type": "display_data"
    }
   ],
   "source": [
    "air_holt$model"
   ]
  },
  {
   "cell_type": "code",
   "execution_count": 11,
   "metadata": {},
   "outputs": [
    {
     "data": {
      "text/html": [
       "A Time Series:<br><style>\n",
       ".list-inline {list-style: none; margin:0; padding: 0}\n",
       ".list-inline>li {display: inline-block}\n",
       ".list-inline>li:not(:last-child)::after {content: \"\\00b7\"; padding: 0 .5ex}\n",
       "</style>\n",
       "<ol class=list-inline><li>17.5534</li><li>21.8601</li><li>23.8866</li><li>26.9293</li><li>26.8885</li><li>28.8314</li><li>30.0751</li><li>30.9535</li><li>30.1857</li><li>31.5797</li><li>32.577569</li><li>33.477398</li><li>39.021581</li><li>41.386432</li><li>41.596552</li><li>44.657324</li><li>46.951775</li><li>48.728837</li><li>51.488427</li><li>50.026967</li><li>60.640913</li><li>63.3603103378</li><li>66.355274</li><li>68.197955</li><li>68.1232376693</li><li>69.7793454797</li><li>72.597700806</li></ol>\n"
      ],
      "text/latex": [
       "A Time Series:\\\\\\begin{enumerate*}\n",
       "\\item 17.5534\n",
       "\\item 21.8601\n",
       "\\item 23.8866\n",
       "\\item 26.9293\n",
       "\\item 26.8885\n",
       "\\item 28.8314\n",
       "\\item 30.0751\n",
       "\\item 30.9535\n",
       "\\item 30.1857\n",
       "\\item 31.5797\n",
       "\\item 32.577569\n",
       "\\item 33.477398\n",
       "\\item 39.021581\n",
       "\\item 41.386432\n",
       "\\item 41.596552\n",
       "\\item 44.657324\n",
       "\\item 46.951775\n",
       "\\item 48.728837\n",
       "\\item 51.488427\n",
       "\\item 50.026967\n",
       "\\item 60.640913\n",
       "\\item 63.3603103378\n",
       "\\item 66.355274\n",
       "\\item 68.197955\n",
       "\\item 68.1232376693\n",
       "\\item 69.7793454797\n",
       "\\item 72.597700806\n",
       "\\end{enumerate*}\n"
      ],
      "text/markdown": [
       "A Time Series:  \n",
       "1. 17.5534\n",
       "2. 21.8601\n",
       "3. 23.8866\n",
       "4. 26.9293\n",
       "5. 26.8885\n",
       "6. 28.8314\n",
       "7. 30.0751\n",
       "8. 30.9535\n",
       "9. 30.1857\n",
       "10. 31.5797\n",
       "11. 32.577569\n",
       "12. 33.477398\n",
       "13. 39.021581\n",
       "14. 41.386432\n",
       "15. 41.596552\n",
       "16. 44.657324\n",
       "17. 46.951775\n",
       "18. 48.728837\n",
       "19. 51.488427\n",
       "20. 50.026967\n",
       "21. 60.640913\n",
       "22. 63.3603103378\n",
       "23. 66.355274\n",
       "24. 68.197955\n",
       "25. 68.1232376693\n",
       "26. 69.7793454797\n",
       "27. 72.597700806\n",
       "\n",
       "\n"
      ],
      "text/plain": [
       "A Time Series:\n",
       " [1] 17.55340 21.86010 23.88660 26.92930 26.88850 28.83140 30.07510 30.95350\n",
       " [9] 30.18570 31.57970 32.57757 33.47740 39.02158 41.38643 41.59655 44.65732\n",
       "[17] 46.95177 48.72884 51.48843 50.02697 60.64091 63.36031 66.35527 68.19795\n",
       "[25] 68.12324 69.77935 72.59770"
      ]
     },
     "metadata": {},
     "output_type": "display_data"
    },
    {
     "data": {
      "text/html": [
       "A Time Series:<br><style>\n",
       ".list-inline {list-style: none; margin:0; padding: 0}\n",
       ".list-inline>li {display: inline-block}\n",
       ".list-inline>li:not(:last-child)::after {content: \"\\00b7\"; padding: 0 .5ex}\n",
       "</style>\n",
       "<ol class=list-inline><li>17.6732393089268</li><li>19.6754518481936</li><li>23.5911065364322</li><li>25.9383832722484</li><li>28.8631110244386</li><li>29.3256110378416</li><li>31.0171142067674</li><li>32.3367495539149</li><li>33.2899256635964</li><li>32.8140084393557</li><li>33.8904040109139</li><li>34.9014742193778</li><li>35.8200477056676</li><li>40.5791990101983</li><li>43.3506432881162</li><li>43.9954583003573</li><li>46.6461070079505</li><li>49.0010650514849</li><li>50.8762170029973</li><li>53.4857052985567</li><li>52.7150789799295</li><li>61.3969058273664</li><li>65.1288213290104</li><li>68.2490298732758</li><li>70.308608786473</li><li>70.5960410449372</li><li>72.0196887298931</li></ol>\n"
      ],
      "text/latex": [
       "A Time Series:\\\\\\begin{enumerate*}\n",
       "\\item 17.6732393089268\n",
       "\\item 19.6754518481936\n",
       "\\item 23.5911065364322\n",
       "\\item 25.9383832722484\n",
       "\\item 28.8631110244386\n",
       "\\item 29.3256110378416\n",
       "\\item 31.0171142067674\n",
       "\\item 32.3367495539149\n",
       "\\item 33.2899256635964\n",
       "\\item 32.8140084393557\n",
       "\\item 33.8904040109139\n",
       "\\item 34.9014742193778\n",
       "\\item 35.8200477056676\n",
       "\\item 40.5791990101983\n",
       "\\item 43.3506432881162\n",
       "\\item 43.9954583003573\n",
       "\\item 46.6461070079505\n",
       "\\item 49.0010650514849\n",
       "\\item 50.8762170029973\n",
       "\\item 53.4857052985567\n",
       "\\item 52.7150789799295\n",
       "\\item 61.3969058273664\n",
       "\\item 65.1288213290104\n",
       "\\item 68.2490298732758\n",
       "\\item 70.308608786473\n",
       "\\item 70.5960410449372\n",
       "\\item 72.0196887298931\n",
       "\\end{enumerate*}\n"
      ],
      "text/markdown": [
       "A Time Series:  \n",
       "1. 17.6732393089268\n",
       "2. 19.6754518481936\n",
       "3. 23.5911065364322\n",
       "4. 25.9383832722484\n",
       "5. 28.8631110244386\n",
       "6. 29.3256110378416\n",
       "7. 31.0171142067674\n",
       "8. 32.3367495539149\n",
       "9. 33.2899256635964\n",
       "10. 32.8140084393557\n",
       "11. 33.8904040109139\n",
       "12. 34.9014742193778\n",
       "13. 35.8200477056676\n",
       "14. 40.5791990101983\n",
       "15. 43.3506432881162\n",
       "16. 43.9954583003573\n",
       "17. 46.6461070079505\n",
       "18. 49.0010650514849\n",
       "19. 50.8762170029973\n",
       "20. 53.4857052985567\n",
       "21. 52.7150789799295\n",
       "22. 61.3969058273664\n",
       "23. 65.1288213290104\n",
       "24. 68.2490298732758\n",
       "25. 70.308608786473\n",
       "26. 70.5960410449372\n",
       "27. 72.0196887298931\n",
       "\n",
       "\n"
      ],
      "text/plain": [
       "A Time Series:\n",
       " [1] 17.67324 19.67545 23.59111 25.93838 28.86311 29.32561 31.01711 32.33675\n",
       " [9] 33.28993 32.81401 33.89040 34.90147 35.82005 40.57920 43.35064 43.99546\n",
       "[17] 46.64611 49.00107 50.87622 53.48571 52.71508 61.39691 65.12882 68.24903\n",
       "[25] 70.30861 70.59604 72.01969"
      ]
     },
     "metadata": {},
     "output_type": "display_data"
    }
   ],
   "source": [
    "air_ts\n",
    "air_holt$fitted"
   ]
  },
  {
   "cell_type": "code",
   "execution_count": 13,
   "metadata": {},
   "outputs": [
    {
     "data": {
      "text/html": [
       "<table>\n",
       "<caption>A Time Series: 28 × 2</caption>\n",
       "<thead>\n",
       "\t<tr><th></th><th scope=col>l</th><th scope=col>b</th></tr>\n",
       "</thead>\n",
       "<tbody>\n",
       "\t<tr><th scope=row>1989</th><td>15.57152</td><td>2.101717</td></tr>\n",
       "\t<tr><th scope=row>1990</th><td>17.57375</td><td>2.101705</td></tr>\n",
       "\t<tr><th scope=row>1991</th><td>21.48918</td><td>2.101924</td></tr>\n",
       "\t<tr><th scope=row>1992</th><td>23.83643</td><td>2.101953</td></tr>\n",
       "\t<tr><th scope=row>1993</th><td>26.76106</td><td>2.102052</td></tr>\n",
       "\t<tr><th scope=row>1994</th><td>27.22376</td><td>2.101855</td></tr>\n",
       "\t<tr><th scope=row>1995</th><td>28.91531</td><td>2.101805</td></tr>\n",
       "\t<tr><th scope=row>1996</th><td>30.23504</td><td>2.101711</td></tr>\n",
       "\t<tr><th scope=row>1997</th><td>31.18835</td><td>2.101573</td></tr>\n",
       "\t<tr><th scope=row>1998</th><td>30.71275</td><td>2.101262</td></tr>\n",
       "\t<tr><th scope=row>1999</th><td>31.78927</td><td>2.101139</td></tr>\n",
       "\t<tr><th scope=row>2000</th><td>32.80047</td><td>2.101008</td></tr>\n",
       "\t<tr><th scope=row>2001</th><td>33.71918</td><td>2.100865</td></tr>\n",
       "\t<tr><th scope=row>2002</th><td>38.47801</td><td>2.101185</td></tr>\n",
       "\t<tr><th scope=row>2003</th><td>41.24938</td><td>2.101266</td></tr>\n",
       "\t<tr><th scope=row>2004</th><td>41.89437</td><td>2.101091</td></tr>\n",
       "\t<tr><th scope=row>2005</th><td>44.54495</td><td>2.101157</td></tr>\n",
       "\t<tr><th scope=row>2006</th><td>46.89988</td><td>2.101187</td></tr>\n",
       "\t<tr><th scope=row>2007</th><td>48.77506</td><td>2.101160</td></tr>\n",
       "\t<tr><th scope=row>2008</th><td>51.38448</td><td>2.101221</td></tr>\n",
       "\t<tr><th scope=row>2009</th><td>50.61420</td><td>2.100875</td></tr>\n",
       "\t<tr><th scope=row>2010</th><td>59.29524</td><td>2.101668</td></tr>\n",
       "\t<tr><th scope=row>2011</th><td>63.02696</td><td>2.101865</td></tr>\n",
       "\t<tr><th scope=row>2012</th><td>66.14704</td><td>2.101987</td></tr>\n",
       "\t<tr><th scope=row>2013</th><td>68.20663</td><td>2.101982</td></tr>\n",
       "\t<tr><th scope=row>2014</th><td>68.49428</td><td>2.101764</td></tr>\n",
       "\t<tr><th scope=row>2015</th><td>69.91801</td><td>2.101682</td></tr>\n",
       "\t<tr><th scope=row>2016</th><td>72.49956</td><td>2.101740</td></tr>\n",
       "</tbody>\n",
       "</table>\n"
      ],
      "text/latex": [
       "A Time Series: 28 × 2\n",
       "\\begin{tabular}{r|ll}\n",
       "  & l & b\\\\\n",
       "\\hline\n",
       "\t1989 & 15.57152 & 2.101717\\\\\n",
       "\t1990 & 17.57375 & 2.101705\\\\\n",
       "\t1991 & 21.48918 & 2.101924\\\\\n",
       "\t1992 & 23.83643 & 2.101953\\\\\n",
       "\t1993 & 26.76106 & 2.102052\\\\\n",
       "\t1994 & 27.22376 & 2.101855\\\\\n",
       "\t1995 & 28.91531 & 2.101805\\\\\n",
       "\t1996 & 30.23504 & 2.101711\\\\\n",
       "\t1997 & 31.18835 & 2.101573\\\\\n",
       "\t1998 & 30.71275 & 2.101262\\\\\n",
       "\t1999 & 31.78927 & 2.101139\\\\\n",
       "\t2000 & 32.80047 & 2.101008\\\\\n",
       "\t2001 & 33.71918 & 2.100865\\\\\n",
       "\t2002 & 38.47801 & 2.101185\\\\\n",
       "\t2003 & 41.24938 & 2.101266\\\\\n",
       "\t2004 & 41.89437 & 2.101091\\\\\n",
       "\t2005 & 44.54495 & 2.101157\\\\\n",
       "\t2006 & 46.89988 & 2.101187\\\\\n",
       "\t2007 & 48.77506 & 2.101160\\\\\n",
       "\t2008 & 51.38448 & 2.101221\\\\\n",
       "\t2009 & 50.61420 & 2.100875\\\\\n",
       "\t2010 & 59.29524 & 2.101668\\\\\n",
       "\t2011 & 63.02696 & 2.101865\\\\\n",
       "\t2012 & 66.14704 & 2.101987\\\\\n",
       "\t2013 & 68.20663 & 2.101982\\\\\n",
       "\t2014 & 68.49428 & 2.101764\\\\\n",
       "\t2015 & 69.91801 & 2.101682\\\\\n",
       "\t2016 & 72.49956 & 2.101740\\\\\n",
       "\\end{tabular}\n"
      ],
      "text/markdown": [
       "\n",
       "A Time Series: 28 × 2\n",
       "\n",
       "| <!--/--> | l | b |\n",
       "|---|---|---|\n",
       "| 1989 | 15.57152 | 2.101717 |\n",
       "| 1990 | 17.57375 | 2.101705 |\n",
       "| 1991 | 21.48918 | 2.101924 |\n",
       "| 1992 | 23.83643 | 2.101953 |\n",
       "| 1993 | 26.76106 | 2.102052 |\n",
       "| 1994 | 27.22376 | 2.101855 |\n",
       "| 1995 | 28.91531 | 2.101805 |\n",
       "| 1996 | 30.23504 | 2.101711 |\n",
       "| 1997 | 31.18835 | 2.101573 |\n",
       "| 1998 | 30.71275 | 2.101262 |\n",
       "| 1999 | 31.78927 | 2.101139 |\n",
       "| 2000 | 32.80047 | 2.101008 |\n",
       "| 2001 | 33.71918 | 2.100865 |\n",
       "| 2002 | 38.47801 | 2.101185 |\n",
       "| 2003 | 41.24938 | 2.101266 |\n",
       "| 2004 | 41.89437 | 2.101091 |\n",
       "| 2005 | 44.54495 | 2.101157 |\n",
       "| 2006 | 46.89988 | 2.101187 |\n",
       "| 2007 | 48.77506 | 2.101160 |\n",
       "| 2008 | 51.38448 | 2.101221 |\n",
       "| 2009 | 50.61420 | 2.100875 |\n",
       "| 2010 | 59.29524 | 2.101668 |\n",
       "| 2011 | 63.02696 | 2.101865 |\n",
       "| 2012 | 66.14704 | 2.101987 |\n",
       "| 2013 | 68.20663 | 2.101982 |\n",
       "| 2014 | 68.49428 | 2.101764 |\n",
       "| 2015 | 69.91801 | 2.101682 |\n",
       "| 2016 | 72.49956 | 2.101740 |\n",
       "\n"
      ],
      "text/plain": [
       "     l        b       \n",
       "1989 15.57152 2.101717\n",
       "1990 17.57375 2.101705\n",
       "1991 21.48918 2.101924\n",
       "1992 23.83643 2.101953\n",
       "1993 26.76106 2.102052\n",
       "1994 27.22376 2.101855\n",
       "1995 28.91531 2.101805\n",
       "1996 30.23504 2.101711\n",
       "1997 31.18835 2.101573\n",
       "1998 30.71275 2.101262\n",
       "1999 31.78927 2.101139\n",
       "2000 32.80047 2.101008\n",
       "2001 33.71918 2.100865\n",
       "2002 38.47801 2.101185\n",
       "2003 41.24938 2.101266\n",
       "2004 41.89437 2.101091\n",
       "2005 44.54495 2.101157\n",
       "2006 46.89988 2.101187\n",
       "2007 48.77506 2.101160\n",
       "2008 51.38448 2.101221\n",
       "2009 50.61420 2.100875\n",
       "2010 59.29524 2.101668\n",
       "2011 63.02696 2.101865\n",
       "2012 66.14704 2.101987\n",
       "2013 68.20663 2.101982\n",
       "2014 68.49428 2.101764\n",
       "2015 69.91801 2.101682\n",
       "2016 72.49956 2.101740"
      ]
     },
     "metadata": {},
     "output_type": "display_data"
    },
    {
     "data": {
      "text/html": [
       "A Time Series:<br><style>\n",
       ".list-inline {list-style: none; margin:0; padding: 0}\n",
       ".list-inline>li {display: inline-block}\n",
       ".list-inline>li:not(:last-child)::after {content: \"\\00b7\"; padding: 0 .5ex}\n",
       "</style>\n",
       "<ol class=list-inline><li>17.6732393089268</li><li>19.6754518481936</li><li>23.5911065364322</li><li>25.9383832722484</li><li>28.8631110244386</li><li>29.3256110378416</li><li>31.0171142067674</li><li>32.3367495539149</li><li>33.2899256635964</li><li>32.8140084393557</li><li>33.8904040109139</li><li>34.9014742193778</li><li>35.8200477056676</li><li>40.5791990101983</li><li>43.3506432881162</li><li>43.9954583003573</li><li>46.6461070079505</li><li>49.0010650514849</li><li>50.8762170029973</li><li>53.4857052985567</li><li>52.7150789799295</li><li>61.3969058273664</li><li>65.1288213290104</li><li>68.2490298732758</li><li>70.308608786473</li><li>70.5960410449372</li><li>72.0196887298931</li></ol>\n"
      ],
      "text/latex": [
       "A Time Series:\\\\\\begin{enumerate*}\n",
       "\\item 17.6732393089268\n",
       "\\item 19.6754518481936\n",
       "\\item 23.5911065364322\n",
       "\\item 25.9383832722484\n",
       "\\item 28.8631110244386\n",
       "\\item 29.3256110378416\n",
       "\\item 31.0171142067674\n",
       "\\item 32.3367495539149\n",
       "\\item 33.2899256635964\n",
       "\\item 32.8140084393557\n",
       "\\item 33.8904040109139\n",
       "\\item 34.9014742193778\n",
       "\\item 35.8200477056676\n",
       "\\item 40.5791990101983\n",
       "\\item 43.3506432881162\n",
       "\\item 43.9954583003573\n",
       "\\item 46.6461070079505\n",
       "\\item 49.0010650514849\n",
       "\\item 50.8762170029973\n",
       "\\item 53.4857052985567\n",
       "\\item 52.7150789799295\n",
       "\\item 61.3969058273664\n",
       "\\item 65.1288213290104\n",
       "\\item 68.2490298732758\n",
       "\\item 70.308608786473\n",
       "\\item 70.5960410449372\n",
       "\\item 72.0196887298931\n",
       "\\end{enumerate*}\n"
      ],
      "text/markdown": [
       "A Time Series:  \n",
       "1. 17.6732393089268\n",
       "2. 19.6754518481936\n",
       "3. 23.5911065364322\n",
       "4. 25.9383832722484\n",
       "5. 28.8631110244386\n",
       "6. 29.3256110378416\n",
       "7. 31.0171142067674\n",
       "8. 32.3367495539149\n",
       "9. 33.2899256635964\n",
       "10. 32.8140084393557\n",
       "11. 33.8904040109139\n",
       "12. 34.9014742193778\n",
       "13. 35.8200477056676\n",
       "14. 40.5791990101983\n",
       "15. 43.3506432881162\n",
       "16. 43.9954583003573\n",
       "17. 46.6461070079505\n",
       "18. 49.0010650514849\n",
       "19. 50.8762170029973\n",
       "20. 53.4857052985567\n",
       "21. 52.7150789799295\n",
       "22. 61.3969058273664\n",
       "23. 65.1288213290104\n",
       "24. 68.2490298732758\n",
       "25. 70.308608786473\n",
       "26. 70.5960410449372\n",
       "27. 72.0196887298931\n",
       "\n",
       "\n"
      ],
      "text/plain": [
       "A Time Series:\n",
       " [1] 17.67324 19.67545 23.59111 25.93838 28.86311 29.32561 31.01711 32.33675\n",
       " [9] 33.28993 32.81401 33.89040 34.90147 35.82005 40.57920 43.35064 43.99546\n",
       "[17] 46.64611 49.00107 50.87622 53.48571 52.71508 61.39691 65.12882 68.24903\n",
       "[25] 70.30861 70.59604 72.01969"
      ]
     },
     "metadata": {},
     "output_type": "display_data"
    }
   ],
   "source": [
    "# 자료평활(level)값과 추세평활(b)값 출력 -> 이 두개를 합한 것이 fitted값으로 감!\n",
    "air_holt$model$states\n",
    "air_holt$fitted"
   ]
  },
  {
   "cell_type": "code",
   "execution_count": 14,
   "metadata": {},
   "outputs": [
    {
     "name": "stdout",
     "output_type": "stream",
     "text": [
      "\n",
      "Forecast method: Holt's method\n",
      "\n",
      "Model Information:\n",
      "Holt's method \n",
      "\n",
      "Call:\n",
      " holt(y = air_ts, h = 5) \n",
      "\n",
      "  Smoothing parameters:\n",
      "    alpha = 0.8302 \n",
      "    beta  = 1e-04 \n",
      "\n",
      "  Initial states:\n",
      "    l = 15.5715 \n",
      "    b = 2.1017 \n",
      "\n",
      "  sigma:  2.3645\n",
      "\n",
      "     AIC     AICc      BIC \n",
      "141.1291 143.9863 147.6083 \n",
      "\n",
      "Error measures:\n",
      "                      ME     RMSE     MAE        MPE     MAPE      MASE\n",
      "Training set 0.008359331 2.182343 1.52892 -0.3244107 3.820787 0.6654839\n",
      "                    ACF1\n",
      "Training set -0.01335362\n",
      "\n",
      "Forecasts:\n",
      "     Point Forecast    Lo 80    Hi 80    Lo 95    Hi 95\n",
      "2017       74.60130 71.57106 77.63154 69.96695 79.23566\n",
      "2018       76.70304 72.76440 80.64169 70.67941 82.72668\n",
      "2019       78.80478 74.13092 83.47864 71.65673 85.95284\n",
      "2020       80.90652 75.59817 86.21487 72.78810 89.02494\n",
      "2021       83.00826 77.13343 88.88310 74.02348 91.99305\n"
     ]
    }
   ],
   "source": [
    "summary(air_holt)"
   ]
  },
  {
   "cell_type": "markdown",
   "metadata": {},
   "source": [
    "# holt의 damped=TRUE의 감쇠추세법!\n",
    "\n",
    "- 미래의 값을 과하게 예측하는 것을 파라미터 값(phi값) 조정을 통해 방지하는 기법\n",
    "- 만약 phi=1이면 holt 선형지수와 동일하게 예측함\n",
    "- 그래서 보통 0.8<phi<1 범위의 값으로 사용"
   ]
  },
  {
   "cell_type": "code",
   "execution_count": 18,
   "metadata": {},
   "outputs": [
    {
     "data": {
      "image/png": "[encoded data removed]",
      "text/plain": [
       "Plot with title \"Forecasts from Damped Holt's method\""
      ]
     },
     "metadata": {
      "image/png": {
       "height": 420,
       "width": 420
      }
     },
     "output_type": "display_data"
    },
    {
     "name": "stdout",
     "output_type": "stream",
     "text": [
      "\n",
      "Forecast method: Damped Holt's method\n",
      "\n",
      "Model Information:\n",
      "Damped Holt's method \n",
      "\n",
      "Call:\n",
      " holt(y = air_ts, h = 5, damped = TRUE) \n",
      "\n",
      "  Smoothing parameters:\n",
      "    alpha = 0.8691 \n",
      "    beta  = 0.0409 \n",
      "    phi   = 0.98 \n",
      "\n",
      "  Initial states:\n",
      "    l = 15.373 \n",
      "    b = 2.2224 \n",
      "\n",
      "  sigma:  2.532\n",
      "\n",
      "     AIC     AICc      BIC \n",
      "145.6239 149.8239 153.3989 \n",
      "\n",
      "Error measures:\n",
      "                    ME     RMSE      MAE      MPE     MAPE      MASE\n",
      "Training set 0.3991511 2.285529 1.529037 0.560457 3.672339 0.6655348\n",
      "                    ACF1\n",
      "Training set -0.03143013\n",
      "\n",
      "Forecasts:\n",
      "     Point Forecast    Lo 80    Hi 80    Lo 95    Hi 95\n",
      "2017       74.10429 70.85945 77.34913 69.14174 79.06685\n",
      "2018       75.72699 71.34160 80.11238 69.02012 82.43386\n",
      "2019       77.31724 71.95975 82.67472 69.12367 85.51081\n",
      "2020       78.87568 72.63402 85.11733 69.32989 88.42147\n",
      "2021       80.40295 73.33096 87.47494 69.58727 91.21862\n"
     ]
    },
    {
     "data": {
      "image/png": "[encoded data removed]",
      "text/plain": [
       "Plot with title \"Forecasts from Holt's method\""
      ]
     },
     "metadata": {
      "image/png": {
       "height": 420,
       "width": 420
      }
     },
     "output_type": "display_data"
    }
   ],
   "source": [
    "air_holt_d<-holt(air_ts, damped = TRUE, h=5)\n",
    "plot(air_holt_d)\n",
    "plot(air_holt)\n",
    "summary(air_holt_d)"
   ]
  },
  {
   "cell_type": "code",
   "execution_count": 26,
   "metadata": {},
   "outputs": [
    {
     "data": {
      "image/png": "[encoded data removed]",
      "text/plain": [
       "Plot with title \"Forecasts from Damped Holt's method\""
      ]
     },
     "metadata": {
      "image/png": {
       "height": 420,
       "width": 420
      }
     },
     "output_type": "display_data"
    }
   ],
   "source": [
    "# phi값 조정해보기\n",
    "# phi=0.8일 때\n",
    "air_holt_d2<-holt(air_ts, damped = TRUE, phi=0.8,h=5)\n",
    "plot(air_holt_d2)"
   ]
  },
  {
   "cell_type": "code",
   "execution_count": 24,
   "metadata": {},
   "outputs": [
    {
     "data": {
      "image/png": "[encoded data removed]",
      "text/plain": [
       "Plot with title \"Forecasts from Damped Holt's method\""
      ]
     },
     "metadata": {
      "image/png": {
       "height": 420,
       "width": 420
      }
     },
     "output_type": "display_data"
    }
   ],
   "source": [
    "# phi=0.5일 때\n",
    "air_holt_d3<-holt(air_ts, damped = TRUE, phi=0.9, h=5)\n",
    "plot(air_holt_d3)"
   ]
  },
  {
   "cell_type": "code",
   "execution_count": 25,
   "metadata": {},
   "outputs": [
    {
     "name": "stdout",
     "output_type": "stream",
     "text": [
      "\n",
      "Forecast method: Damped Holt's method\n",
      "\n",
      "Model Information:\n",
      "Damped Holt's method \n",
      "\n",
      "Call:\n",
      " holt(y = air_ts, h = 5, damped = TRUE, phi = 0.8) \n",
      "\n",
      "  Smoothing parameters:\n",
      "    alpha = 0.6881 \n",
      "    beta  = 0.4139 \n",
      "    phi   = 0.8 \n",
      "\n",
      "  Initial states:\n",
      "    l = 13.1997 \n",
      "    b = 5.7537 \n",
      "\n",
      "  sigma:  2.6634\n",
      "\n",
      "     AIC     AICc      BIC \n",
      "146.3567 149.2138 152.8358 \n",
      "\n",
      "Error measures:\n",
      "                    ME    RMSE      MAE      MPE     MAPE      MASE        ACF1\n",
      "Training set 0.6642822 2.40417 1.546842 1.256405 3.520372 0.6732845 -0.06804795\n",
      "\n",
      "Forecasts:\n",
      "     Point Forecast    Lo 80    Hi 80    Lo 95    Hi 95\n",
      "2017       73.18517 69.77190 76.59845 67.96501 78.40533\n",
      "2018       74.19811 69.32433 79.07189 66.74430 81.65192\n",
      "2019       75.00846 68.45365 81.56326 64.98375 85.03317\n",
      "2020       75.65674 67.34764 83.96583 62.94907 88.36440\n",
      "2021       76.17536 66.10753 86.24318 60.77795 91.57277\n",
      "\n",
      "Forecast method: Damped Holt's method\n",
      "\n",
      "Model Information:\n",
      "Damped Holt's method \n",
      "\n",
      "Call:\n",
      " holt(y = air_ts, h = 5, damped = TRUE, phi = 0.9) \n",
      "\n",
      "  Smoothing parameters:\n",
      "    alpha = 0.763 \n",
      "    beta  = 0.2526 \n",
      "    phi   = 0.9 \n",
      "\n",
      "  Initial states:\n",
      "    l = 14.5766 \n",
      "    b = 3.7517 \n",
      "\n",
      "  sigma:  2.6165\n",
      "\n",
      "     AIC     AICc      BIC \n",
      "145.3965 148.2536 151.8757 \n",
      "\n",
      "Error measures:\n",
      "                    ME     RMSE      MAE    MPE     MAPE      MASE        ACF1\n",
      "Training set 0.4693536 2.361799 1.512832 0.7805 3.503091 0.6584814 -0.04256712\n",
      "\n",
      "Forecasts:\n",
      "     Point Forecast    Lo 80    Hi 80    Lo 95    Hi 95\n",
      "2017       73.71036 70.35724 77.06348 68.58220 78.83852\n",
      "2018       75.02175 70.30251 79.74098 67.80430 82.23919\n",
      "2019       76.20199 70.01113 82.39285 66.73389 85.67010\n",
      "2020       77.26421 69.53683 84.99160 65.44620 89.08223\n",
      "2021       78.22021 68.91713 87.52330 63.99237 92.44806\n"
     ]
    }
   ],
   "source": [
    "summary(air_holt_d2)\n",
    "summary(air_holt_d3) # -> phi=0.9일때 RMSE값이 더 작음!"
   ]
  },
  {
   "cell_type": "code",
   "execution_count": 28,
   "metadata": {},
   "outputs": [
    {
     "name": "stdout",
     "output_type": "stream",
     "text": [
      "[1] \"Model: ETS(A,Ad,N)\"\n"
     ]
    },
    {
     "ename": "ERROR",
     "evalue": "Error in ets(x, \"AAN\", alpha = alpha, beta = beta, phi = phi, damped = damped, : No model able to be fitted\n",
     "output_type": "error",
     "traceback": [
      "Error in ets(x, \"AAN\", alpha = alpha, beta = beta, phi = phi, damped = damped, : No model able to be fitted\nTraceback:\n",
      "1. holt(air_ts, damped = TRUE, phi = 0.7, h = 5)",
      "2. forecast(ets(x, \"AAN\", alpha = alpha, beta = beta, phi = phi, \n .     damped = damped, opt.crit = \"mse\", lambda = lambda, biasadj = biasadj), \n .     h, level = level, fan = fan, ...)",
      "3. ets(x, \"AAN\", alpha = alpha, beta = beta, phi = phi, damped = damped, \n .     opt.crit = \"mse\", lambda = lambda, biasadj = biasadj)",
      "4. stop(\"No model able to be fitted\")"
     ]
    }
   ],
   "source": [
    "# phi=0.7일 때 -> 0.7아래 값들은 왜안되지..? !?!?!?!?!?!?!!?!?!?!!?\n",
    "air_holt_d4<-holt(air_ts, damped = TRUE, phi=0.7, h=5)\n",
    "plot(air_holt_d4)"
   ]
  },
  {
   "cell_type": "code",
   "execution_count": null,
   "metadata": {},
   "outputs": [],
   "source": []
  }
 ],
 "metadata": {
  "kernelspec": {
   "display_name": "R",
   "language": "R",
   "name": "ir"
  },
  "language_info": {
   "codemirror_mode": "r",
   "file_extension": ".r",
   "mimetype": "text/x-r-source",
   "name": "R",
   "pygments_lexer": "r",
   "version": "3.6.3"
  }
 },
 "nbformat": 4,
 "nbformat_minor": 4
}
