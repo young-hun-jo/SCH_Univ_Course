{
 "cells": [
  {
   "cell_type": "code",
   "execution_count": 1,
   "metadata": {},
   "outputs": [],
   "source": [
    "# 2009년까지 train\n",
    "# 그이후로 test"
   ]
  },
  {
   "cell_type": "code",
   "execution_count": 2,
   "metadata": {},
   "outputs": [
    {
     "name": "stderr",
     "output_type": "stream",
     "text": [
      "Loading required package: ggplot2\n",
      "\n",
      "Loading required package: forecast\n",
      "\n",
      "Registered S3 method overwritten by 'quantmod':\n",
      "  method            from\n",
      "  as.zoo.data.frame zoo \n",
      "\n",
      "Loading required package: fma\n",
      "\n",
      "Loading required package: expsmooth\n",
      "\n"
     ]
    }
   ],
   "source": [
    "library(fpp2)\n",
    "library(forecast)"
   ]
  },
  {
   "cell_type": "code",
   "execution_count": 3,
   "metadata": {},
   "outputs": [
    {
     "data": {
      "text/html": [
       "<table>\n",
       "<caption>A Time Series: 17 × 12</caption>\n",
       "<thead>\n",
       "\t<tr><th></th><th scope=col>Jan</th><th scope=col>Feb</th><th scope=col>Mar</th><th scope=col>Apr</th><th scope=col>May</th><th scope=col>Jun</th><th scope=col>Jul</th><th scope=col>Aug</th><th scope=col>Sep</th><th scope=col>Oct</th><th scope=col>Nov</th><th scope=col>Dec</th></tr>\n",
       "</thead>\n",
       "<tbody>\n",
       "\t<tr><th scope=row>1996</th><td> 79.35</td><td> 75.78</td><td> 86.32</td><td> 72.60</td><td> 74.86</td><td> 83.81</td><td> 79.80</td><td> 62.41</td><td> 85.41</td><td> 83.11</td><td> 84.21</td><td> 89.70</td></tr>\n",
       "\t<tr><th scope=row>1997</th><td> 78.64</td><td> 77.42</td><td> 89.86</td><td> 81.27</td><td> 78.68</td><td> 89.51</td><td> 83.67</td><td> 69.80</td><td> 91.09</td><td> 89.43</td><td> 91.04</td><td> 92.87</td></tr>\n",
       "\t<tr><th scope=row>1998</th><td> 81.87</td><td> 85.36</td><td> 92.98</td><td> 81.09</td><td> 85.64</td><td> 91.14</td><td> 83.46</td><td> 66.37</td><td> 93.34</td><td> 85.93</td><td> 86.81</td><td> 93.30</td></tr>\n",
       "\t<tr><th scope=row>1999</th><td> 81.59</td><td> 81.77</td><td> 91.24</td><td> 79.45</td><td> 86.99</td><td> 96.60</td><td> 97.99</td><td> 79.13</td><td>103.56</td><td>100.89</td><td> 99.40</td><td>111.80</td></tr>\n",
       "\t<tr><th scope=row>2000</th><td> 95.30</td><td> 97.77</td><td>116.23</td><td>100.98</td><td>104.07</td><td>114.64</td><td>107.62</td><td> 96.12</td><td>123.50</td><td>116.12</td><td>116.86</td><td>128.61</td></tr>\n",
       "\t<tr><th scope=row>2001</th><td>100.56</td><td>103.05</td><td>119.06</td><td> 92.46</td><td> 98.75</td><td>111.14</td><td> 96.13</td><td> 79.72</td><td>102.07</td><td> 96.18</td><td>101.26</td><td>109.85</td></tr>\n",
       "\t<tr><th scope=row>2002</th><td> 89.52</td><td> 89.27</td><td>104.35</td><td> 87.05</td><td> 89.33</td><td>102.20</td><td> 88.13</td><td> 75.68</td><td> 99.48</td><td> 96.40</td><td> 96.16</td><td>101.00</td></tr>\n",
       "\t<tr><th scope=row>2003</th><td> 89.34</td><td> 86.91</td><td> 98.90</td><td> 85.54</td><td> 85.25</td><td>101.14</td><td> 91.80</td><td> 76.98</td><td>104.33</td><td> 99.72</td><td>101.06</td><td>109.00</td></tr>\n",
       "\t<tr><th scope=row>2004</th><td> 89.88</td><td> 92.27</td><td>105.11</td><td> 91.50</td><td> 92.56</td><td>104.35</td><td> 96.21</td><td> 79.58</td><td>105.43</td><td> 99.18</td><td> 99.77</td><td>113.55</td></tr>\n",
       "\t<tr><th scope=row>2005</th><td> 91.65</td><td> 90.56</td><td>105.52</td><td> 92.18</td><td> 91.22</td><td>109.04</td><td> 99.26</td><td> 83.36</td><td>110.80</td><td>104.95</td><td>107.07</td><td>114.40</td></tr>\n",
       "\t<tr><th scope=row>2006</th><td> 99.16</td><td> 99.86</td><td>116.14</td><td>103.48</td><td>103.07</td><td>119.32</td><td>107.94</td><td> 90.59</td><td>121.80</td><td>117.11</td><td>113.71</td><td>120.37</td></tr>\n",
       "\t<tr><th scope=row>2007</th><td>103.93</td><td>104.10</td><td>125.72</td><td>104.70</td><td>108.45</td><td>123.11</td><td>108.89</td><td> 94.07</td><td>121.88</td><td>116.81</td><td>115.87</td><td>127.14</td></tr>\n",
       "\t<tr><th scope=row>2008</th><td>109.45</td><td>105.23</td><td>121.32</td><td>108.78</td><td>103.20</td><td>117.93</td><td>103.76</td><td> 89.27</td><td>109.50</td><td>104.02</td><td>100.12</td><td>101.18</td></tr>\n",
       "\t<tr><th scope=row>2009</th><td> 77.38</td><td> 75.19</td><td> 86.40</td><td> 74.13</td><td> 74.10</td><td> 85.61</td><td> 79.90</td><td> 65.36</td><td> 88.09</td><td> 84.60</td><td> 88.09</td><td>102.52</td></tr>\n",
       "\t<tr><th scope=row>2010</th><td> 79.28</td><td> 78.74</td><td> 94.62</td><td> 84.66</td><td> 85.20</td><td>103.94</td><td> 89.87</td><td> 78.14</td><td> 96.50</td><td> 94.68</td><td>101.77</td><td>103.48</td></tr>\n",
       "\t<tr><th scope=row>2011</th><td> 92.57</td><td> 89.16</td><td>104.48</td><td> 89.45</td><td> 93.40</td><td>102.90</td><td> 93.77</td><td> 77.58</td><td> 95.04</td><td> 91.77</td><td> 93.37</td><td> 98.34</td></tr>\n",
       "\t<tr><th scope=row>2012</th><td> 86.44</td><td> 85.04</td><td> 97.80</td><td>      </td><td>      </td><td>      </td><td>      </td><td>      </td><td>      </td><td>      </td><td>      </td><td>      </td></tr>\n",
       "</tbody>\n",
       "</table>\n"
      ],
      "text/latex": [
       "A Time Series: 17 × 12\n",
       "\\begin{tabular}{r|llllllllllll}\n",
       "  & Jan & Feb & Mar & Apr & May & Jun & Jul & Aug & Sep & Oct & Nov & Dec\\\\\n",
       "\\hline\n",
       "\t1996 &  79.35 &  75.78 &  86.32 &  72.60 &  74.86 &  83.81 &  79.80 &  62.41 &  85.41 &  83.11 &  84.21 &  89.70\\\\\n",
       "\t1997 &  78.64 &  77.42 &  89.86 &  81.27 &  78.68 &  89.51 &  83.67 &  69.80 &  91.09 &  89.43 &  91.04 &  92.87\\\\\n",
       "\t1998 &  81.87 &  85.36 &  92.98 &  81.09 &  85.64 &  91.14 &  83.46 &  66.37 &  93.34 &  85.93 &  86.81 &  93.30\\\\\n",
       "\t1999 &  81.59 &  81.77 &  91.24 &  79.45 &  86.99 &  96.60 &  97.99 &  79.13 & 103.56 & 100.89 &  99.40 & 111.80\\\\\n",
       "\t2000 &  95.30 &  97.77 & 116.23 & 100.98 & 104.07 & 114.64 & 107.62 &  96.12 & 123.50 & 116.12 & 116.86 & 128.61\\\\\n",
       "\t2001 & 100.56 & 103.05 & 119.06 &  92.46 &  98.75 & 111.14 &  96.13 &  79.72 & 102.07 &  96.18 & 101.26 & 109.85\\\\\n",
       "\t2002 &  89.52 &  89.27 & 104.35 &  87.05 &  89.33 & 102.20 &  88.13 &  75.68 &  99.48 &  96.40 &  96.16 & 101.00\\\\\n",
       "\t2003 &  89.34 &  86.91 &  98.90 &  85.54 &  85.25 & 101.14 &  91.80 &  76.98 & 104.33 &  99.72 & 101.06 & 109.00\\\\\n",
       "\t2004 &  89.88 &  92.27 & 105.11 &  91.50 &  92.56 & 104.35 &  96.21 &  79.58 & 105.43 &  99.18 &  99.77 & 113.55\\\\\n",
       "\t2005 &  91.65 &  90.56 & 105.52 &  92.18 &  91.22 & 109.04 &  99.26 &  83.36 & 110.80 & 104.95 & 107.07 & 114.40\\\\\n",
       "\t2006 &  99.16 &  99.86 & 116.14 & 103.48 & 103.07 & 119.32 & 107.94 &  90.59 & 121.80 & 117.11 & 113.71 & 120.37\\\\\n",
       "\t2007 & 103.93 & 104.10 & 125.72 & 104.70 & 108.45 & 123.11 & 108.89 &  94.07 & 121.88 & 116.81 & 115.87 & 127.14\\\\\n",
       "\t2008 & 109.45 & 105.23 & 121.32 & 108.78 & 103.20 & 117.93 & 103.76 &  89.27 & 109.50 & 104.02 & 100.12 & 101.18\\\\\n",
       "\t2009 &  77.38 &  75.19 &  86.40 &  74.13 &  74.10 &  85.61 &  79.90 &  65.36 &  88.09 &  84.60 &  88.09 & 102.52\\\\\n",
       "\t2010 &  79.28 &  78.74 &  94.62 &  84.66 &  85.20 & 103.94 &  89.87 &  78.14 &  96.50 &  94.68 & 101.77 & 103.48\\\\\n",
       "\t2011 &  92.57 &  89.16 & 104.48 &  89.45 &  93.40 & 102.90 &  93.77 &  77.58 &  95.04 &  91.77 &  93.37 &  98.34\\\\\n",
       "\t2012 &  86.44 &  85.04 &  97.80 &        &        &        &        &        &        &        &        &       \\\\\n",
       "\\end{tabular}\n"
      ],
      "text/markdown": [
       "\n",
       "A Time Series: 17 × 12\n",
       "\n",
       "| <!--/--> | Jan | Feb | Mar | Apr | May | Jun | Jul | Aug | Sep | Oct | Nov | Dec |\n",
       "|---|---|---|---|---|---|---|---|---|---|---|---|---|\n",
       "| 1996 |  79.35 |  75.78 |  86.32 |  72.60 |  74.86 |  83.81 |  79.80 |  62.41 |  85.41 |  83.11 |  84.21 |  89.70 |\n",
       "| 1997 |  78.64 |  77.42 |  89.86 |  81.27 |  78.68 |  89.51 |  83.67 |  69.80 |  91.09 |  89.43 |  91.04 |  92.87 |\n",
       "| 1998 |  81.87 |  85.36 |  92.98 |  81.09 |  85.64 |  91.14 |  83.46 |  66.37 |  93.34 |  85.93 |  86.81 |  93.30 |\n",
       "| 1999 |  81.59 |  81.77 |  91.24 |  79.45 |  86.99 |  96.60 |  97.99 |  79.13 | 103.56 | 100.89 |  99.40 | 111.80 |\n",
       "| 2000 |  95.30 |  97.77 | 116.23 | 100.98 | 104.07 | 114.64 | 107.62 |  96.12 | 123.50 | 116.12 | 116.86 | 128.61 |\n",
       "| 2001 | 100.56 | 103.05 | 119.06 |  92.46 |  98.75 | 111.14 |  96.13 |  79.72 | 102.07 |  96.18 | 101.26 | 109.85 |\n",
       "| 2002 |  89.52 |  89.27 | 104.35 |  87.05 |  89.33 | 102.20 |  88.13 |  75.68 |  99.48 |  96.40 |  96.16 | 101.00 |\n",
       "| 2003 |  89.34 |  86.91 |  98.90 |  85.54 |  85.25 | 101.14 |  91.80 |  76.98 | 104.33 |  99.72 | 101.06 | 109.00 |\n",
       "| 2004 |  89.88 |  92.27 | 105.11 |  91.50 |  92.56 | 104.35 |  96.21 |  79.58 | 105.43 |  99.18 |  99.77 | 113.55 |\n",
       "| 2005 |  91.65 |  90.56 | 105.52 |  92.18 |  91.22 | 109.04 |  99.26 |  83.36 | 110.80 | 104.95 | 107.07 | 114.40 |\n",
       "| 2006 |  99.16 |  99.86 | 116.14 | 103.48 | 103.07 | 119.32 | 107.94 |  90.59 | 121.80 | 117.11 | 113.71 | 120.37 |\n",
       "| 2007 | 103.93 | 104.10 | 125.72 | 104.70 | 108.45 | 123.11 | 108.89 |  94.07 | 121.88 | 116.81 | 115.87 | 127.14 |\n",
       "| 2008 | 109.45 | 105.23 | 121.32 | 108.78 | 103.20 | 117.93 | 103.76 |  89.27 | 109.50 | 104.02 | 100.12 | 101.18 |\n",
       "| 2009 |  77.38 |  75.19 |  86.40 |  74.13 |  74.10 |  85.61 |  79.90 |  65.36 |  88.09 |  84.60 |  88.09 | 102.52 |\n",
       "| 2010 |  79.28 |  78.74 |  94.62 |  84.66 |  85.20 | 103.94 |  89.87 |  78.14 |  96.50 |  94.68 | 101.77 | 103.48 |\n",
       "| 2011 |  92.57 |  89.16 | 104.48 |  89.45 |  93.40 | 102.90 |  93.77 |  77.58 |  95.04 |  91.77 |  93.37 |  98.34 |\n",
       "| 2012 |  86.44 |  85.04 |  97.80 | <!----> | <!----> | <!----> | <!----> | <!----> | <!----> | <!----> | <!----> | <!----> |\n",
       "\n"
      ],
      "text/plain": [
       "     Jan    Feb    Mar    Apr    May    Jun    Jul    Aug    Sep    Oct   \n",
       "1996  79.35  75.78  86.32  72.60  74.86  83.81  79.80  62.41  85.41  83.11\n",
       "1997  78.64  77.42  89.86  81.27  78.68  89.51  83.67  69.80  91.09  89.43\n",
       "1998  81.87  85.36  92.98  81.09  85.64  91.14  83.46  66.37  93.34  85.93\n",
       "1999  81.59  81.77  91.24  79.45  86.99  96.60  97.99  79.13 103.56 100.89\n",
       "2000  95.30  97.77 116.23 100.98 104.07 114.64 107.62  96.12 123.50 116.12\n",
       "2001 100.56 103.05 119.06  92.46  98.75 111.14  96.13  79.72 102.07  96.18\n",
       "2002  89.52  89.27 104.35  87.05  89.33 102.20  88.13  75.68  99.48  96.40\n",
       "2003  89.34  86.91  98.90  85.54  85.25 101.14  91.80  76.98 104.33  99.72\n",
       "2004  89.88  92.27 105.11  91.50  92.56 104.35  96.21  79.58 105.43  99.18\n",
       "2005  91.65  90.56 105.52  92.18  91.22 109.04  99.26  83.36 110.80 104.95\n",
       "2006  99.16  99.86 116.14 103.48 103.07 119.32 107.94  90.59 121.80 117.11\n",
       "2007 103.93 104.10 125.72 104.70 108.45 123.11 108.89  94.07 121.88 116.81\n",
       "2008 109.45 105.23 121.32 108.78 103.20 117.93 103.76  89.27 109.50 104.02\n",
       "2009  77.38  75.19  86.40  74.13  74.10  85.61  79.90  65.36  88.09  84.60\n",
       "2010  79.28  78.74  94.62  84.66  85.20 103.94  89.87  78.14  96.50  94.68\n",
       "2011  92.57  89.16 104.48  89.45  93.40 102.90  93.77  77.58  95.04  91.77\n",
       "2012  86.44  85.04  97.80                                                 \n",
       "     Nov    Dec   \n",
       "1996  84.21  89.70\n",
       "1997  91.04  92.87\n",
       "1998  86.81  93.30\n",
       "1999  99.40 111.80\n",
       "2000 116.86 128.61\n",
       "2001 101.26 109.85\n",
       "2002  96.16 101.00\n",
       "2003 101.06 109.00\n",
       "2004  99.77 113.55\n",
       "2005 107.07 114.40\n",
       "2006 113.71 120.37\n",
       "2007 115.87 127.14\n",
       "2008 100.12 101.18\n",
       "2009  88.09 102.52\n",
       "2010 101.77 103.48\n",
       "2011  93.37  98.34\n",
       "2012              "
      ]
     },
     "metadata": {},
     "output_type": "display_data"
    }
   ],
   "source": [
    "elecequip"
   ]
  },
  {
   "cell_type": "code",
   "execution_count": 5,
   "metadata": {},
   "outputs": [
    {
     "data": {
      "text/html": [
       "TRUE"
      ],
      "text/latex": [
       "TRUE"
      ],
      "text/markdown": [
       "TRUE"
      ],
      "text/plain": [
       "[1] TRUE"
      ]
     },
     "metadata": {},
     "output_type": "display_data"
    },
    {
     "data": {
      "text/html": [
       "12"
      ],
      "text/latex": [
       "12"
      ],
      "text/markdown": [
       "12"
      ],
      "text/plain": [
       "[1] 12"
      ]
     },
     "metadata": {},
     "output_type": "display_data"
    },
    {
     "data": {
      "text/html": [
       "<style>\n",
       ".list-inline {list-style: none; margin:0; padding: 0}\n",
       ".list-inline>li {display: inline-block}\n",
       ".list-inline>li:not(:last-child)::after {content: \"\\00b7\"; padding: 0 .5ex}\n",
       "</style>\n",
       "<ol class=list-inline><li>1996</li><li>1</li></ol>\n"
      ],
      "text/latex": [
       "\\begin{enumerate*}\n",
       "\\item 1996\n",
       "\\item 1\n",
       "\\end{enumerate*}\n"
      ],
      "text/markdown": [
       "1. 1996\n",
       "2. 1\n",
       "\n",
       "\n"
      ],
      "text/plain": [
       "[1] 1996    1"
      ]
     },
     "metadata": {},
     "output_type": "display_data"
    },
    {
     "data": {
      "text/html": [
       "<style>\n",
       ".list-inline {list-style: none; margin:0; padding: 0}\n",
       ".list-inline>li {display: inline-block}\n",
       ".list-inline>li:not(:last-child)::after {content: \"\\00b7\"; padding: 0 .5ex}\n",
       "</style>\n",
       "<ol class=list-inline><li>2012</li><li>3</li></ol>\n"
      ],
      "text/latex": [
       "\\begin{enumerate*}\n",
       "\\item 2012\n",
       "\\item 3\n",
       "\\end{enumerate*}\n"
      ],
      "text/markdown": [
       "1. 2012\n",
       "2. 3\n",
       "\n",
       "\n"
      ],
      "text/plain": [
       "[1] 2012    3"
      ]
     },
     "metadata": {},
     "output_type": "display_data"
    }
   ],
   "source": [
    "is.ts(elecequip)\n",
    "frequency(elecequip)\n",
    "start(elecequip)\n",
    "end(elecequip)"
   ]
  },
  {
   "cell_type": "code",
   "execution_count": 6,
   "metadata": {},
   "outputs": [
    {
     "data": {
      "image/png": "[encoded data removed]",
      "text/plain": [
       "plot without title"
      ]
     },
     "metadata": {
      "image/png": {
       "height": 420,
       "width": 420
      }
     },
     "output_type": "display_data"
    }
   ],
   "source": [
    "plot(elecequip)"
   ]
  },
  {
   "cell_type": "code",
   "execution_count": 7,
   "metadata": {},
   "outputs": [
    {
     "data": {
      "text/plain": [
       "   Min. 1st Qu.  Median    Mean 3rd Qu.    Max. \n",
       "  62.41   86.12   94.68   95.69  104.05  128.61 "
      ]
     },
     "metadata": {},
     "output_type": "display_data"
    }
   ],
   "source": [
    "summary(elecequip)"
   ]
  },
  {
   "cell_type": "markdown",
   "metadata": {},
   "source": [
    "1. elecequip 데이터 분석\n",
    "    - 기간: 1996년 1월~2012년3월 데이터\n",
    "    - 시계열 데이터 형태\n",
    "    - 월별 데이터\n",
    "    - 기술 통계량 값 : summary(elecequip)"
   ]
  },
  {
   "cell_type": "code",
   "execution_count": 10,
   "metadata": {
    "scrolled": true
   },
   "outputs": [
    {
     "data": {
      "image/png": "[encoded data removed]",
      "text/plain": [
       "plot without title"
      ]
     },
     "metadata": {
      "image/png": {
       "height": 420,
       "width": 420
      }
     },
     "output_type": "display_data"
    },
    {
     "data": {
      "image/png": "[encoded data removed]",
      "text/plain": [
       "plot without title"
      ]
     },
     "metadata": {
      "image/png": {
       "height": 420,
       "width": 420
      }
     },
     "output_type": "display_data"
    },
    {
     "data": {
      "image/png": "[encoded data removed]",
      "text/plain": [
       "plot without title"
      ]
     },
     "metadata": {
      "image/png": {
       "height": 420,
       "width": 420
      }
     },
     "output_type": "display_data"
    },
    {
     "data": {
      "image/png": "[encoded data removed]",
      "text/plain": [
       "Plot with title \"Forecasts from Simple exponential smoothing\""
      ]
     },
     "metadata": {
      "image/png": {
       "height": 420,
       "width": 420
      }
     },
     "output_type": "display_data"
    },
    {
     "data": {
      "image/png": "[encoded data removed]",
      "text/plain": [
       "Plot with title \"Forecasts from Holt's method\""
      ]
     },
     "metadata": {
      "image/png": {
       "height": 420,
       "width": 420
      }
     },
     "output_type": "display_data"
    },
    {
     "data": {
      "image/png": "[encoded data removed]",
      "text/plain": [
       "Plot with title \"Forecasts from Damped Holt's method\""
      ]
     },
     "metadata": {
      "image/png": {
       "height": 420,
       "width": 420
      }
     },
     "output_type": "display_data"
    }
   ],
   "source": [
    "# 단순지수평활법\n",
    "ses_fit<-ses(elecequip, initial='optimal')\n",
    "# 홀트선형지수평활법\n",
    "holt_fit<-holt(elecequip)\n",
    "# 홀트선형지수평활법(감쇠추세법)\n",
    "holt_d_fit<-holt(elecequip, damped=TRUE)\n",
    "\n",
    "# 각 모형의 적합된 값 시각화\n",
    "plot(elecequip)\n",
    "lines(ses_fit$fitted, col='red')\n",
    "\n",
    "plot(elecequip)\n",
    "lines(holt_fit$fitted, col='blue')\n",
    "\n",
    "plot(elecequip)\n",
    "lines(holt_d_fit$fitted, col='green')\n",
    "\n",
    "# 예측값 시각화해보기\n",
    "plot(ses_fit)\n",
    "plot(holt_fit)\n",
    "plot(holt_d_fit)"
   ]
  },
  {
   "cell_type": "code",
   "execution_count": 23,
   "metadata": {
    "scrolled": true
   },
   "outputs": [
    {
     "name": "stdout",
     "output_type": "stream",
     "text": [
      "\n",
      "Forecast method: Holt's method\n",
      "\n",
      "Model Information:\n",
      "Holt's method \n",
      "\n",
      "Call:\n",
      " holt(y = elecequip) \n",
      "\n",
      "  Smoothing parameters:\n",
      "    alpha = 0.2533 \n",
      "    beta  = 1e-04 \n",
      "\n",
      "  Initial states:\n",
      "    l = 78.1209 \n",
      "    b = 0.0719 \n",
      "\n",
      "  sigma:  9.9615\n",
      "\n",
      "     AIC     AICc      BIC \n",
      "1930.698 1931.015 1947.063 \n",
      "\n",
      "Error measures:\n",
      "                      ME     RMSE      MAE        MPE     MAPE     MASE\n",
      "Training set -0.01123984 9.858817 8.290405 -0.9445368 8.867907 1.014473\n",
      "                    ACF1\n",
      "Training set -0.08495587\n",
      "\n",
      "Forecasts:\n",
      "         Point Forecast    Lo 80    Hi 80    Lo 95    Hi 95\n",
      "Apr 2012       92.44339 79.67720 105.2096 72.91918 111.9676\n",
      "May 2012       92.51510 79.34541 105.6848 72.37379 112.6564\n",
      "Jun 2012       92.58682 79.02531 106.1483 71.84629 113.3273\n",
      "Jul 2012       92.65853 78.71593 106.6011 71.33516 113.9819\n",
      "Aug 2012       92.73024 78.41640 107.0441 70.83911 114.6214\n",
      "Sep 2012       92.80195 78.12598 107.4779 70.35698 115.2469\n",
      "Oct 2012       92.87367 77.84400 107.9033 69.88778 115.8596\n",
      "Nov 2012       92.94538 77.56989 108.3209 69.43060 116.4602\n",
      "Dec 2012       93.01709 77.30313 108.7311 68.98466 117.0495\n",
      "Jan 2013       93.08880 77.04324 109.1344 68.54923 117.6284\n",
      "\n",
      "Forecast method: Damped Holt's method\n",
      "\n",
      "Model Information:\n",
      "Damped Holt's method \n",
      "\n",
      "Call:\n",
      " holt(y = elecequip, damped = TRUE) \n",
      "\n",
      "  Smoothing parameters:\n",
      "    alpha = 0.0923 \n",
      "    beta  = 0.0923 \n",
      "    phi   = 0.8001 \n",
      "\n",
      "  Initial states:\n",
      "    l = 76.9874 \n",
      "    b = 0.1996 \n",
      "\n",
      "  sigma:  9.773\n",
      "\n",
      "     AIC     AICc      BIC \n",
      "1924.222 1924.669 1943.860 \n",
      "\n",
      "Error measures:\n",
      "                    ME     RMSE      MAE        MPE     MAPE      MASE\n",
      "Training set 0.1416665 9.646879 8.159942 -0.6686875 8.720142 0.9985085\n",
      "                    ACF1\n",
      "Training set -0.03304331\n",
      "\n",
      "Forecasts:\n",
      "         Point Forecast    Lo 80    Hi 80    Lo 95    Hi 95\n",
      "Apr 2012       90.47373 77.94914 102.9983 71.31903 109.6284\n",
      "May 2012       90.48602 77.78982 103.1822 71.06886 109.9032\n",
      "Jun 2012       90.49586 77.49023 103.5015 70.60547 110.3862\n",
      "Jul 2012       90.50373 77.05803 103.9494 69.94031 111.0671\n",
      "Aug 2012       90.51002 76.51423 104.5058 69.10531 111.9147\n",
      "Sep 2012       90.51506 75.88411 105.1460 68.13896 112.8912\n",
      "Oct 2012       90.51909 75.19187 105.8463 67.07814 113.9600\n",
      "Nov 2012       90.52232 74.45818 106.5864 65.95435 115.0903\n",
      "Dec 2012       90.52490 73.69953 107.3503 64.79272 116.2571\n",
      "Jan 2013       90.52696 72.92847 108.1255 63.61239 117.4415\n"
     ]
    }
   ],
   "source": [
    "summary(holt_fit)\n",
    "summary(holt_d_fit)"
   ]
  },
  {
   "cell_type": "code",
   "execution_count": 11,
   "metadata": {
    "scrolled": false
   },
   "outputs": [
    {
     "name": "stdout",
     "output_type": "stream",
     "text": [
      "\n",
      "Forecast method: Holt-Winters' additive method\n",
      "\n",
      "Model Information:\n",
      "Holt-Winters' additive method \n",
      "\n",
      "Call:\n",
      " hw(y = elecequip, seasonal = \"additive\") \n",
      "\n",
      "  Smoothing parameters:\n",
      "    alpha = 0.5113 \n",
      "    beta  = 0.1612 \n",
      "    gamma = 1e-04 \n",
      "\n",
      "  Initial states:\n",
      "    l = 81.8063 \n",
      "    b = -0.0386 \n",
      "    s = 11.2758 3.805 2.8582 7.3461 -16.564 -1.3186\n",
      "           7.733 -4.9776 -6.232 7.9547 -6.2367 -5.6438\n",
      "\n",
      "  sigma:  3.4269\n",
      "\n",
      "     AIC     AICc      BIC \n",
      "1525.892 1529.349 1581.533 \n",
      "\n",
      "Error measures:\n",
      "                      ME     RMSE      MAE        MPE     MAPE      MASE\n",
      "Training set 0.002642667 3.283348 2.509203 0.01654666 2.667465 0.3070439\n",
      "                    ACF1\n",
      "Training set -0.02726879\n",
      "\n",
      "Forecasts:\n",
      "         Point Forecast    Lo 80     Hi 80     Lo 95     Hi 95\n",
      "Apr 2012       83.78601 79.39420  88.17782 77.069312  90.50271\n",
      "May 2012       85.08560 79.79313  90.37807 76.991470  93.17973\n",
      "Jun 2012       97.84029 91.40493 104.27564 87.998256 107.68231\n",
      "Jul 2012       88.83274 81.05452  96.61095 76.936985 100.72849\n",
      "Aug 2012       73.63202 64.34372  82.92032 59.426796  87.83725\n",
      "Sep 2012       97.58729 86.64512 108.52947 80.852678 114.32191\n",
      "Oct 2012       93.14367 80.42052 105.86683 73.685288 112.60206\n",
      "Nov 2012       94.13474 79.51569 108.75379 71.776828 116.49265\n",
      "Dec 2012      101.64993 85.02925 118.27061 76.230790 127.06906\n",
      "Jan 2013       84.77496 66.05408 103.49585 56.143839 113.40609\n",
      "Feb 2013       84.22643 63.31251 105.14036 52.241348 116.21152\n",
      "Mar 2013       98.46178 75.26672 121.65684 62.988004 133.93556\n",
      "Apr 2013       84.31935 58.75886 109.87983 45.227959 123.41074\n",
      "May 2013       85.61894 57.61255 113.62533 42.786858 128.45102\n",
      "Jun 2013       98.37362 67.84362 128.90363 51.682014 145.06523\n",
      "Jul 2013       89.36608 56.23740 122.49475 38.700138 140.03202\n",
      "Aug 2013       74.16536 38.36530 109.96542 19.413891 128.91683\n",
      "Sep 2013       98.12063 59.57860 136.66267 39.175675 157.06559\n",
      "Oct 2013       93.67701 52.32434 135.02968 30.433564 156.92046\n",
      "Nov 2013       94.66808 50.43788 138.89827 27.023826 162.31233\n",
      "Dec 2013      102.18327 55.01026 149.35627 30.038387 174.32814\n",
      "Jan 2014       85.30830 35.12873 135.48788  8.565265 162.05134\n",
      "Feb 2014       84.75977 31.51125 138.00830  3.323180 166.19636\n",
      "Mar 2014       98.99512 42.61657 155.37367 12.771566 185.21867\n",
      "\n",
      "Forecast method: Holt-Winters' multiplicative method\n",
      "\n",
      "Model Information:\n",
      "Holt-Winters' multiplicative method \n",
      "\n",
      "Call:\n",
      " hw(y = elecequip, seasonal = \"multiplicative\") \n",
      "\n",
      "  Smoothing parameters:\n",
      "    alpha = 0.5095 \n",
      "    beta  = 0.1817 \n",
      "    gamma = 1e-04 \n",
      "\n",
      "  Initial states:\n",
      "    l = 81.5331 \n",
      "    b = -0.8426 \n",
      "    s = 1.1175 1.04 1.0312 1.0776 0.8256 0.9804\n",
      "           1.0794 0.9495 0.9334 1.0859 0.9368 0.9427\n",
      "\n",
      "  sigma:  0.0348\n",
      "\n",
      "     AIC     AICc      BIC \n",
      "1510.552 1514.010 1566.193 \n",
      "\n",
      "Error measures:\n",
      "                     ME     RMSE      MAE        MPE     MAPE      MASE\n",
      "Training set 0.03050251 3.102533 2.386189 0.03867101 2.535763 0.2919911\n",
      "                   ACF1\n",
      "Training set 0.02103426\n",
      "\n",
      "Forecasts:\n",
      "         Point Forecast    Lo 80     Hi 80     Lo 95     Hi 95\n",
      "Apr 2012       84.08554 80.33585  87.83523 78.350884  89.82020\n",
      "May 2012       85.63985 80.99814  90.28155 78.540969  92.73873\n",
      "Jun 2012       97.46496 90.96437 103.96555 87.523161 107.40676\n",
      "Jul 2012       88.62613 81.39910  95.85315 77.573349  99.67891\n",
      "Aug 2012       74.72362 67.37588  82.07136 63.486222  85.96102\n",
      "Sep 2012       97.64351 86.24178 109.04525 80.206067 115.08096\n",
      "Oct 2012       93.54111 80.75838 106.32385 73.991613 113.09062\n",
      "Nov 2012       94.45213 79.54366 109.36060 71.651596 117.25267\n",
      "Dec 2012      101.60838 83.29597 119.92078 73.601974 129.61478\n",
      "Jan 2013       85.81421 68.33193 103.29649 59.077365 112.55105\n",
      "Feb 2013       85.37012 65.88289 104.85735 55.566971 115.17327\n",
      "Mar 2013       99.07540 73.92929 124.22150 60.617752 137.53304\n",
      "Apr 2013       85.25690 61.35931 109.15450 48.708682 121.80513\n",
      "May 2013       86.83148 60.11286 113.55010 45.968876 127.69408\n",
      "Jun 2013       98.81956 65.61665 132.02248 48.040085 149.59904\n",
      "Jul 2013       89.85646 57.04622 122.66670 39.677531 140.03539\n",
      "Aug 2013       75.75976 45.82563 105.69389 29.979454 121.54006\n",
      "Sep 2013       98.99590 56.83243 141.15937 34.512440 163.47936\n",
      "Oct 2013       94.83519 51.44812 138.22226 28.480388 161.18999\n",
      "Nov 2013       95.75730 48.84870 142.66591 24.016783 167.49783\n",
      "Dec 2013      103.01082 49.13527 156.88637 20.615279 185.40636\n",
      "Jan 2014       86.99729 38.54801 135.44657 12.900511 161.09407\n",
      "Feb 2014       86.54573 35.34946 137.74200  8.247798 164.84366\n",
      "Mar 2014      100.43818 37.46956 163.40680  4.135980 196.74038\n"
     ]
    },
    {
     "data": {
      "image/png": "[encoded data removed]",
      "text/plain": [
       "plot without title"
      ]
     },
     "metadata": {
      "image/png": {
       "height": 420,
       "width": 420
      }
     },
     "output_type": "display_data"
    },
    {
     "data": {
      "image/png": "[encoded data removed]",
      "text/plain": [
       "plot without title"
      ]
     },
     "metadata": {
      "image/png": {
       "height": 420,
       "width": 420
      }
     },
     "output_type": "display_data"
    }
   ],
   "source": [
    "# 홀트윈터스 모형 선정하기 -> 원데이터가 일정한 그래프를 그리므로 '가법'이 적절할 것으로 예상\n",
    "\n",
    "# 가법모형\n",
    "hw_a<-hw(elecequip, seasonal='additive')\n",
    "# 승법모형\n",
    "hw_m<-hw(elecequip, seasonal='multiplicative')\n",
    "\n",
    "# 각 모형의 RMSE값 관찰 위해 요약값 확인\n",
    "summary(hw_a)\n",
    "summary(hw_m)\n",
    "\n",
    "# 각 모형에다가 원데이터, 적합된 데이터, 예측값 확인\n",
    "plot(elecequip)\n",
    "lines(hw_a$fitted, col='blue')\n",
    "lines(hw_a$mean, col='red', type='o')\n",
    "\n",
    "plot(elecequip)\n",
    "lines(hw_m$fitted, col='blue')\n",
    "lines(hw_m$mean, col='red', type='o')\n",
    "\n",
    "# 예상과달리 승법모형의 RMSE값이 더 낮음..!"
   ]
  },
  {
   "cell_type": "code",
   "execution_count": 19,
   "metadata": {
    "scrolled": false
   },
   "outputs": [
    {
     "name": "stdout",
     "output_type": "stream",
     "text": [
      "ETS(A,N,A) \n",
      "\n",
      "Call:\n",
      " ets(y = elecequip, model = \"ANA\") \n",
      "\n",
      "  Smoothing parameters:\n",
      "    alpha = 0.6916 \n",
      "    gamma = 1e-04 \n",
      "\n",
      "  Initial states:\n",
      "    l = 88.9536 \n",
      "    s = 11.4384 3.9695 2.7664 7.3624 -16.6064 -1.4326\n",
      "           7.9504 -4.9954 -6.2941 7.8601 -6.0984 -5.9204\n",
      "\n",
      "  sigma:  3.4481\n",
      "\n",
      "     AIC     AICc      BIC \n",
      "1526.457 1529.138 1575.552 \n",
      "\n",
      "Training set error measures:\n",
      "                      ME     RMSE      MAE         MPE     MAPE      MASE\n",
      "Training set 0.009892728 3.322006 2.543324 -0.05563148 2.687628 0.3112191\n",
      "                    ACF1\n",
      "Training set -0.04019928\n",
      "ETS(A,N,N) \n",
      "\n",
      "Call:\n",
      " ets(y = elecequip, model = \"ANN\") \n",
      "\n",
      "  Smoothing parameters:\n",
      "    alpha = 0.2535 \n",
      "\n",
      "  Initial states:\n",
      "    l = 78.775 \n",
      "\n",
      "  sigma:  9.9116\n",
      "\n",
      "     AIC     AICc      BIC \n",
      "1926.771 1926.896 1936.590 \n",
      "\n",
      "Training set error measures:\n",
      "                    ME     RMSE      MAE        MPE     MAPE     MASE\n",
      "Training set 0.2707376 9.860665 8.287598 -0.6489085 8.843105 1.014129\n",
      "                    ACF1\n",
      "Training set -0.08547317\n",
      "ETS(M,N,M) \n",
      "\n",
      "Call:\n",
      " ets(y = elecequip, model = \"MNM\") \n",
      "\n",
      "  Smoothing parameters:\n",
      "    alpha = 0.6984 \n",
      "    gamma = 0.0417 \n",
      "\n",
      "  Initial states:\n",
      "    l = 98.2337 \n",
      "    s = 1.1142 1.0472 1.0443 1.0944 0.8275 0.9857\n",
      "           1.0837 0.9463 0.9226 1.0769 0.9229 0.9343\n",
      "\n",
      "  sigma:  0.0372\n",
      "\n",
      "     AIC     AICc      BIC \n",
      "1535.315 1537.997 1584.410 \n",
      "\n",
      "Training set error measures:\n",
      "                      ME     RMSE      MAE        MPE     MAPE      MASE\n",
      "Training set -0.06036983 3.387424 2.538365 -0.1400456 2.694705 0.3106124\n",
      "                   ACF1\n",
      "Training set 0.05891631\n",
      "ETS(M,N,A) \n",
      "\n",
      "Call:\n",
      " ets(y = elecequip, model = \"MNA\") \n",
      "\n",
      "  Smoothing parameters:\n",
      "    alpha = 0.7041 \n",
      "    gamma = 0.0022 \n",
      "\n",
      "  Initial states:\n",
      "    l = 89.7245 \n",
      "    s = 11.1592 3.9475 3.0298 7.0762 -16.516 -1.5471\n",
      "           7.7443 -4.6281 -6.1622 7.5638 -6.133 -5.5343\n",
      "\n",
      "  sigma:  0.0363\n",
      "\n",
      "     AIC     AICc      BIC \n",
      "1525.398 1528.080 1574.493 \n",
      "\n",
      "Training set error measures:\n",
      "                      ME     RMSE      MAE         MPE     MAPE     MASE\n",
      "Training set 0.005408448 3.339153 2.537414 -0.07872578 2.674198 0.310496\n",
      "                    ACF1\n",
      "Training set -0.05519106\n",
      "ETS(M,Ad,M) \n",
      "\n",
      "Call:\n",
      " ets(y = elecequip, model = \"ZZZ\") \n",
      "\n",
      "  Smoothing parameters:\n",
      "    alpha = 0.5726 \n",
      "    beta  = 0.1111 \n",
      "    gamma = 2e-04 \n",
      "    phi   = 0.977 \n",
      "\n",
      "  Initial states:\n",
      "    l = 78.39 \n",
      "    b = -0.1078 \n",
      "    s = 1.1168 1.0401 1.0307 1.0767 0.8242 0.9855\n",
      "           1.0815 0.9479 0.9309 1.083 0.9367 0.9461\n",
      "\n",
      "  sigma:  0.0345\n",
      "\n",
      "     AIC     AICc      BIC \n",
      "1508.383 1512.269 1567.297 \n",
      "\n",
      "Training set error measures:\n",
      "                      ME     RMSE      MAE        MPE     MAPE      MASE\n",
      "Training set 0.006442666 3.101171 2.347102 0.01002857 2.491677 0.2872081\n",
      "                   ACF1\n",
      "Training set 0.00895978\n",
      "ETS(A,Ad,A) \n",
      "\n",
      "Call:\n",
      " ets(y = elecequip, model = \"AAA\") \n",
      "\n",
      "  Smoothing parameters:\n",
      "    alpha = 0.3927 \n",
      "    beta  = 0.2153 \n",
      "    gamma = 1e-04 \n",
      "    phi   = 0.8 \n",
      "\n",
      "  Initial states:\n",
      "    l = 78.8816 \n",
      "    b = 0.3416 \n",
      "    s = 11.643 3.7745 2.8195 7.2306 -16.9477 -1.603\n",
      "           7.9636 -4.8508 -6.3104 8.0096 -6.2452 -5.4838\n",
      "\n",
      "  sigma:  3.3287\n",
      "\n",
      "     AIC     AICc      BIC \n",
      "1515.455 1519.341 1574.369 \n",
      "\n",
      "Training set error measures:\n",
      "                     ME     RMSE      MAE        MPE     MAPE     MASE\n",
      "Training set 0.04770475 3.180296 2.434053 0.04312101 2.582255 0.297848\n",
      "                    ACF1\n",
      "Training set 0.004901236\n",
      "ETS(M,Ad,M) \n",
      "\n",
      "Call:\n",
      " ets(y = elecequip, model = \"MAM\") \n",
      "\n",
      "  Smoothing parameters:\n",
      "    alpha = 0.5726 \n",
      "    beta  = 0.1111 \n",
      "    gamma = 2e-04 \n",
      "    phi   = 0.977 \n",
      "\n",
      "  Initial states:\n",
      "    l = 78.39 \n",
      "    b = -0.1078 \n",
      "    s = 1.1168 1.0401 1.0307 1.0767 0.8242 0.9855\n",
      "           1.0815 0.9479 0.9309 1.083 0.9367 0.9461\n",
      "\n",
      "  sigma:  0.0345\n",
      "\n",
      "     AIC     AICc      BIC \n",
      "1508.383 1512.269 1567.297 \n",
      "\n",
      "Training set error measures:\n",
      "                      ME     RMSE      MAE        MPE     MAPE      MASE\n",
      "Training set 0.006442666 3.101171 2.347102 0.01002857 2.491677 0.2872081\n",
      "                   ACF1\n",
      "Training set 0.00895978\n"
     ]
    }
   ],
   "source": [
    "# ETS모형중 선정\n",
    "# Error : 가법/승법 모두 해보기\n",
    "# Trend : 추세없는 것으로 판단되어 'N'\n",
    "# Seasonal : M/A/N 모두 해보기\n",
    "\n",
    "ets_1<-ets(elecequip, model='ANA')\n",
    "ets_2<-ets(elecequip, model='ANN')\n",
    "ets_3<-ets(elecequip, model='MNM')\n",
    "ets_4<-ets(elecequip, model='MNA')\n",
    "ets_5<-ets(elecequip, model='ZZZ')\n",
    "ets_6<-ets(elecequip, model='AAA')\n",
    "ets_7<-ets(elecequip, model='MAM')\n",
    "\n",
    "#각 모델종류에 따라 RMSE값 측정\n",
    "summary(ets_1)\n",
    "summary(ets_2)\n",
    "summary(ets_3)\n",
    "summary(ets_4)\n",
    "summary(ets_5) # ZZZ로 했을 때 M Ad M 가장 rmse값 낮음\n",
    "summary(ets_6)\n",
    "summary(ets_7) # MAM 모델 가장 rmse값 낮음\n"
   ]
  },
  {
   "cell_type": "code",
   "execution_count": 20,
   "metadata": {
    "scrolled": true
   },
   "outputs": [
    {
     "name": "stdout",
     "output_type": "stream",
     "text": [
      "ETS(M,Ad,M) \n",
      "\n",
      "Call:\n",
      " ets(y = elecequip, model = \"ZZZ\") \n",
      "\n",
      "  Smoothing parameters:\n",
      "    alpha = 0.5726 \n",
      "    beta  = 0.1111 \n",
      "    gamma = 2e-04 \n",
      "    phi   = 0.977 \n",
      "\n",
      "  Initial states:\n",
      "    l = 78.39 \n",
      "    b = -0.1078 \n",
      "    s = 1.1168 1.0401 1.0307 1.0767 0.8242 0.9855\n",
      "           1.0815 0.9479 0.9309 1.083 0.9367 0.9461\n",
      "\n",
      "  sigma:  0.0345\n",
      "\n",
      "     AIC     AICc      BIC \n",
      "1508.383 1512.269 1567.297 \n",
      "\n",
      "Training set error measures:\n",
      "                      ME     RMSE      MAE        MPE     MAPE      MASE\n",
      "Training set 0.006442666 3.101171 2.347102 0.01002857 2.491677 0.2872081\n",
      "                   ACF1\n",
      "Training set 0.00895978\n",
      "ETS(M,Ad,M) \n",
      "\n",
      "Call:\n",
      " ets(y = elecequip, model = \"MAM\") \n",
      "\n",
      "  Smoothing parameters:\n",
      "    alpha = 0.5726 \n",
      "    beta  = 0.1111 \n",
      "    gamma = 2e-04 \n",
      "    phi   = 0.977 \n",
      "\n",
      "  Initial states:\n",
      "    l = 78.39 \n",
      "    b = -0.1078 \n",
      "    s = 1.1168 1.0401 1.0307 1.0767 0.8242 0.9855\n",
      "           1.0815 0.9479 0.9309 1.083 0.9367 0.9461\n",
      "\n",
      "  sigma:  0.0345\n",
      "\n",
      "     AIC     AICc      BIC \n",
      "1508.383 1512.269 1567.297 \n",
      "\n",
      "Training set error measures:\n",
      "                      ME     RMSE      MAE        MPE     MAPE      MASE\n",
      "Training set 0.006442666 3.101171 2.347102 0.01002857 2.491677 0.2872081\n",
      "                   ACF1\n",
      "Training set 0.00895978\n"
     ]
    }
   ],
   "source": [
    "# MAdM 모델 vs MAM 모델 비교 (감쇠추세법 유무 차이)\n",
    "summary(ets_5)\n",
    "summary(ets_7)\n",
    "\n",
    "# 파라미터값이 똑같으므로 rmse값도 동일할 수 밖에 없음\n",
    "# 둘중 아무거나 선택해도 무방\n",
    "# MAM모델로 선정!"
   ]
  },
  {
   "cell_type": "code",
   "execution_count": 22,
   "metadata": {
    "scrolled": true
   },
   "outputs": [
    {
     "data": {
      "text/html": [
       "<table>\n",
       "<caption>A Time Series: 14 × 12</caption>\n",
       "<thead>\n",
       "\t<tr><th></th><th scope=col>Jan</th><th scope=col>Feb</th><th scope=col>Mar</th><th scope=col>Apr</th><th scope=col>May</th><th scope=col>Jun</th><th scope=col>Jul</th><th scope=col>Aug</th><th scope=col>Sep</th><th scope=col>Oct</th><th scope=col>Nov</th><th scope=col>Dec</th></tr>\n",
       "</thead>\n",
       "<tbody>\n",
       "\t<tr><th scope=row>1996</th><td> 79.35</td><td> 75.78</td><td> 86.32</td><td> 72.60</td><td> 74.86</td><td> 83.81</td><td> 79.80</td><td> 62.41</td><td> 85.41</td><td> 83.11</td><td> 84.21</td><td> 89.70</td></tr>\n",
       "\t<tr><th scope=row>1997</th><td> 78.64</td><td> 77.42</td><td> 89.86</td><td> 81.27</td><td> 78.68</td><td> 89.51</td><td> 83.67</td><td> 69.80</td><td> 91.09</td><td> 89.43</td><td> 91.04</td><td> 92.87</td></tr>\n",
       "\t<tr><th scope=row>1998</th><td> 81.87</td><td> 85.36</td><td> 92.98</td><td> 81.09</td><td> 85.64</td><td> 91.14</td><td> 83.46</td><td> 66.37</td><td> 93.34</td><td> 85.93</td><td> 86.81</td><td> 93.30</td></tr>\n",
       "\t<tr><th scope=row>1999</th><td> 81.59</td><td> 81.77</td><td> 91.24</td><td> 79.45</td><td> 86.99</td><td> 96.60</td><td> 97.99</td><td> 79.13</td><td>103.56</td><td>100.89</td><td> 99.40</td><td>111.80</td></tr>\n",
       "\t<tr><th scope=row>2000</th><td> 95.30</td><td> 97.77</td><td>116.23</td><td>100.98</td><td>104.07</td><td>114.64</td><td>107.62</td><td> 96.12</td><td>123.50</td><td>116.12</td><td>116.86</td><td>128.61</td></tr>\n",
       "\t<tr><th scope=row>2001</th><td>100.56</td><td>103.05</td><td>119.06</td><td> 92.46</td><td> 98.75</td><td>111.14</td><td> 96.13</td><td> 79.72</td><td>102.07</td><td> 96.18</td><td>101.26</td><td>109.85</td></tr>\n",
       "\t<tr><th scope=row>2002</th><td> 89.52</td><td> 89.27</td><td>104.35</td><td> 87.05</td><td> 89.33</td><td>102.20</td><td> 88.13</td><td> 75.68</td><td> 99.48</td><td> 96.40</td><td> 96.16</td><td>101.00</td></tr>\n",
       "\t<tr><th scope=row>2003</th><td> 89.34</td><td> 86.91</td><td> 98.90</td><td> 85.54</td><td> 85.25</td><td>101.14</td><td> 91.80</td><td> 76.98</td><td>104.33</td><td> 99.72</td><td>101.06</td><td>109.00</td></tr>\n",
       "\t<tr><th scope=row>2004</th><td> 89.88</td><td> 92.27</td><td>105.11</td><td> 91.50</td><td> 92.56</td><td>104.35</td><td> 96.21</td><td> 79.58</td><td>105.43</td><td> 99.18</td><td> 99.77</td><td>113.55</td></tr>\n",
       "\t<tr><th scope=row>2005</th><td> 91.65</td><td> 90.56</td><td>105.52</td><td> 92.18</td><td> 91.22</td><td>109.04</td><td> 99.26</td><td> 83.36</td><td>110.80</td><td>104.95</td><td>107.07</td><td>114.40</td></tr>\n",
       "\t<tr><th scope=row>2006</th><td> 99.16</td><td> 99.86</td><td>116.14</td><td>103.48</td><td>103.07</td><td>119.32</td><td>107.94</td><td> 90.59</td><td>121.80</td><td>117.11</td><td>113.71</td><td>120.37</td></tr>\n",
       "\t<tr><th scope=row>2007</th><td>103.93</td><td>104.10</td><td>125.72</td><td>104.70</td><td>108.45</td><td>123.11</td><td>108.89</td><td> 94.07</td><td>121.88</td><td>116.81</td><td>115.87</td><td>127.14</td></tr>\n",
       "\t<tr><th scope=row>2008</th><td>109.45</td><td>105.23</td><td>121.32</td><td>108.78</td><td>103.20</td><td>117.93</td><td>103.76</td><td> 89.27</td><td>109.50</td><td>104.02</td><td>100.12</td><td>101.18</td></tr>\n",
       "\t<tr><th scope=row>2009</th><td> 77.38</td><td> 75.19</td><td> 86.40</td><td> 74.13</td><td> 74.10</td><td> 85.61</td><td> 79.90</td><td> 65.36</td><td> 88.09</td><td> 84.60</td><td> 88.09</td><td>102.52</td></tr>\n",
       "</tbody>\n",
       "</table>\n"
      ],
      "text/latex": [
       "A Time Series: 14 × 12\n",
       "\\begin{tabular}{r|llllllllllll}\n",
       "  & Jan & Feb & Mar & Apr & May & Jun & Jul & Aug & Sep & Oct & Nov & Dec\\\\\n",
       "\\hline\n",
       "\t1996 &  79.35 &  75.78 &  86.32 &  72.60 &  74.86 &  83.81 &  79.80 &  62.41 &  85.41 &  83.11 &  84.21 &  89.70\\\\\n",
       "\t1997 &  78.64 &  77.42 &  89.86 &  81.27 &  78.68 &  89.51 &  83.67 &  69.80 &  91.09 &  89.43 &  91.04 &  92.87\\\\\n",
       "\t1998 &  81.87 &  85.36 &  92.98 &  81.09 &  85.64 &  91.14 &  83.46 &  66.37 &  93.34 &  85.93 &  86.81 &  93.30\\\\\n",
       "\t1999 &  81.59 &  81.77 &  91.24 &  79.45 &  86.99 &  96.60 &  97.99 &  79.13 & 103.56 & 100.89 &  99.40 & 111.80\\\\\n",
       "\t2000 &  95.30 &  97.77 & 116.23 & 100.98 & 104.07 & 114.64 & 107.62 &  96.12 & 123.50 & 116.12 & 116.86 & 128.61\\\\\n",
       "\t2001 & 100.56 & 103.05 & 119.06 &  92.46 &  98.75 & 111.14 &  96.13 &  79.72 & 102.07 &  96.18 & 101.26 & 109.85\\\\\n",
       "\t2002 &  89.52 &  89.27 & 104.35 &  87.05 &  89.33 & 102.20 &  88.13 &  75.68 &  99.48 &  96.40 &  96.16 & 101.00\\\\\n",
       "\t2003 &  89.34 &  86.91 &  98.90 &  85.54 &  85.25 & 101.14 &  91.80 &  76.98 & 104.33 &  99.72 & 101.06 & 109.00\\\\\n",
       "\t2004 &  89.88 &  92.27 & 105.11 &  91.50 &  92.56 & 104.35 &  96.21 &  79.58 & 105.43 &  99.18 &  99.77 & 113.55\\\\\n",
       "\t2005 &  91.65 &  90.56 & 105.52 &  92.18 &  91.22 & 109.04 &  99.26 &  83.36 & 110.80 & 104.95 & 107.07 & 114.40\\\\\n",
       "\t2006 &  99.16 &  99.86 & 116.14 & 103.48 & 103.07 & 119.32 & 107.94 &  90.59 & 121.80 & 117.11 & 113.71 & 120.37\\\\\n",
       "\t2007 & 103.93 & 104.10 & 125.72 & 104.70 & 108.45 & 123.11 & 108.89 &  94.07 & 121.88 & 116.81 & 115.87 & 127.14\\\\\n",
       "\t2008 & 109.45 & 105.23 & 121.32 & 108.78 & 103.20 & 117.93 & 103.76 &  89.27 & 109.50 & 104.02 & 100.12 & 101.18\\\\\n",
       "\t2009 &  77.38 &  75.19 &  86.40 &  74.13 &  74.10 &  85.61 &  79.90 &  65.36 &  88.09 &  84.60 &  88.09 & 102.52\\\\\n",
       "\\end{tabular}\n"
      ],
      "text/markdown": [
       "\n",
       "A Time Series: 14 × 12\n",
       "\n",
       "| <!--/--> | Jan | Feb | Mar | Apr | May | Jun | Jul | Aug | Sep | Oct | Nov | Dec |\n",
       "|---|---|---|---|---|---|---|---|---|---|---|---|---|\n",
       "| 1996 |  79.35 |  75.78 |  86.32 |  72.60 |  74.86 |  83.81 |  79.80 |  62.41 |  85.41 |  83.11 |  84.21 |  89.70 |\n",
       "| 1997 |  78.64 |  77.42 |  89.86 |  81.27 |  78.68 |  89.51 |  83.67 |  69.80 |  91.09 |  89.43 |  91.04 |  92.87 |\n",
       "| 1998 |  81.87 |  85.36 |  92.98 |  81.09 |  85.64 |  91.14 |  83.46 |  66.37 |  93.34 |  85.93 |  86.81 |  93.30 |\n",
       "| 1999 |  81.59 |  81.77 |  91.24 |  79.45 |  86.99 |  96.60 |  97.99 |  79.13 | 103.56 | 100.89 |  99.40 | 111.80 |\n",
       "| 2000 |  95.30 |  97.77 | 116.23 | 100.98 | 104.07 | 114.64 | 107.62 |  96.12 | 123.50 | 116.12 | 116.86 | 128.61 |\n",
       "| 2001 | 100.56 | 103.05 | 119.06 |  92.46 |  98.75 | 111.14 |  96.13 |  79.72 | 102.07 |  96.18 | 101.26 | 109.85 |\n",
       "| 2002 |  89.52 |  89.27 | 104.35 |  87.05 |  89.33 | 102.20 |  88.13 |  75.68 |  99.48 |  96.40 |  96.16 | 101.00 |\n",
       "| 2003 |  89.34 |  86.91 |  98.90 |  85.54 |  85.25 | 101.14 |  91.80 |  76.98 | 104.33 |  99.72 | 101.06 | 109.00 |\n",
       "| 2004 |  89.88 |  92.27 | 105.11 |  91.50 |  92.56 | 104.35 |  96.21 |  79.58 | 105.43 |  99.18 |  99.77 | 113.55 |\n",
       "| 2005 |  91.65 |  90.56 | 105.52 |  92.18 |  91.22 | 109.04 |  99.26 |  83.36 | 110.80 | 104.95 | 107.07 | 114.40 |\n",
       "| 2006 |  99.16 |  99.86 | 116.14 | 103.48 | 103.07 | 119.32 | 107.94 |  90.59 | 121.80 | 117.11 | 113.71 | 120.37 |\n",
       "| 2007 | 103.93 | 104.10 | 125.72 | 104.70 | 108.45 | 123.11 | 108.89 |  94.07 | 121.88 | 116.81 | 115.87 | 127.14 |\n",
       "| 2008 | 109.45 | 105.23 | 121.32 | 108.78 | 103.20 | 117.93 | 103.76 |  89.27 | 109.50 | 104.02 | 100.12 | 101.18 |\n",
       "| 2009 |  77.38 |  75.19 |  86.40 |  74.13 |  74.10 |  85.61 |  79.90 |  65.36 |  88.09 |  84.60 |  88.09 | 102.52 |\n",
       "\n"
      ],
      "text/plain": [
       "     Jan    Feb    Mar    Apr    May    Jun    Jul    Aug    Sep    Oct   \n",
       "1996  79.35  75.78  86.32  72.60  74.86  83.81  79.80  62.41  85.41  83.11\n",
       "1997  78.64  77.42  89.86  81.27  78.68  89.51  83.67  69.80  91.09  89.43\n",
       "1998  81.87  85.36  92.98  81.09  85.64  91.14  83.46  66.37  93.34  85.93\n",
       "1999  81.59  81.77  91.24  79.45  86.99  96.60  97.99  79.13 103.56 100.89\n",
       "2000  95.30  97.77 116.23 100.98 104.07 114.64 107.62  96.12 123.50 116.12\n",
       "2001 100.56 103.05 119.06  92.46  98.75 111.14  96.13  79.72 102.07  96.18\n",
       "2002  89.52  89.27 104.35  87.05  89.33 102.20  88.13  75.68  99.48  96.40\n",
       "2003  89.34  86.91  98.90  85.54  85.25 101.14  91.80  76.98 104.33  99.72\n",
       "2004  89.88  92.27 105.11  91.50  92.56 104.35  96.21  79.58 105.43  99.18\n",
       "2005  91.65  90.56 105.52  92.18  91.22 109.04  99.26  83.36 110.80 104.95\n",
       "2006  99.16  99.86 116.14 103.48 103.07 119.32 107.94  90.59 121.80 117.11\n",
       "2007 103.93 104.10 125.72 104.70 108.45 123.11 108.89  94.07 121.88 116.81\n",
       "2008 109.45 105.23 121.32 108.78 103.20 117.93 103.76  89.27 109.50 104.02\n",
       "2009  77.38  75.19  86.40  74.13  74.10  85.61  79.90  65.36  88.09  84.60\n",
       "     Nov    Dec   \n",
       "1996  84.21  89.70\n",
       "1997  91.04  92.87\n",
       "1998  86.81  93.30\n",
       "1999  99.40 111.80\n",
       "2000 116.86 128.61\n",
       "2001 101.26 109.85\n",
       "2002  96.16 101.00\n",
       "2003 101.06 109.00\n",
       "2004  99.77 113.55\n",
       "2005 107.07 114.40\n",
       "2006 113.71 120.37\n",
       "2007 115.87 127.14\n",
       "2008 100.12 101.18\n",
       "2009  88.09 102.52"
      ]
     },
     "metadata": {},
     "output_type": "display_data"
    },
    {
     "data": {
      "text/html": [
       "<table>\n",
       "<caption>A Time Series: 3 × 12</caption>\n",
       "<thead>\n",
       "\t<tr><th></th><th scope=col>Jan</th><th scope=col>Feb</th><th scope=col>Mar</th><th scope=col>Apr</th><th scope=col>May</th><th scope=col>Jun</th><th scope=col>Jul</th><th scope=col>Aug</th><th scope=col>Sep</th><th scope=col>Oct</th><th scope=col>Nov</th><th scope=col>Dec</th></tr>\n",
       "</thead>\n",
       "<tbody>\n",
       "\t<tr><th scope=row>2010</th><td> 79.28</td><td> 78.74</td><td> 94.62</td><td> 84.66</td><td> 85.20</td><td>103.94</td><td> 89.87</td><td> 78.14</td><td> 96.50</td><td> 94.68</td><td>101.77</td><td>103.48</td></tr>\n",
       "\t<tr><th scope=row>2011</th><td> 92.57</td><td> 89.16</td><td>104.48</td><td> 89.45</td><td> 93.40</td><td>102.90</td><td> 93.77</td><td> 77.58</td><td> 95.04</td><td> 91.77</td><td> 93.37</td><td> 98.34</td></tr>\n",
       "\t<tr><th scope=row>2012</th><td> 86.44</td><td> 85.04</td><td> 97.80</td><td>      </td><td>      </td><td>      </td><td>      </td><td>      </td><td>      </td><td>      </td><td>      </td><td>      </td></tr>\n",
       "</tbody>\n",
       "</table>\n"
      ],
      "text/latex": [
       "A Time Series: 3 × 12\n",
       "\\begin{tabular}{r|llllllllllll}\n",
       "  & Jan & Feb & Mar & Apr & May & Jun & Jul & Aug & Sep & Oct & Nov & Dec\\\\\n",
       "\\hline\n",
       "\t2010 &  79.28 &  78.74 &  94.62 &  84.66 &  85.20 & 103.94 &  89.87 &  78.14 &  96.50 &  94.68 & 101.77 & 103.48\\\\\n",
       "\t2011 &  92.57 &  89.16 & 104.48 &  89.45 &  93.40 & 102.90 &  93.77 &  77.58 &  95.04 &  91.77 &  93.37 &  98.34\\\\\n",
       "\t2012 &  86.44 &  85.04 &  97.80 &        &        &        &        &        &        &        &        &       \\\\\n",
       "\\end{tabular}\n"
      ],
      "text/markdown": [
       "\n",
       "A Time Series: 3 × 12\n",
       "\n",
       "| <!--/--> | Jan | Feb | Mar | Apr | May | Jun | Jul | Aug | Sep | Oct | Nov | Dec |\n",
       "|---|---|---|---|---|---|---|---|---|---|---|---|---|\n",
       "| 2010 |  79.28 |  78.74 |  94.62 |  84.66 |  85.20 | 103.94 |  89.87 |  78.14 |  96.50 |  94.68 | 101.77 | 103.48 |\n",
       "| 2011 |  92.57 |  89.16 | 104.48 |  89.45 |  93.40 | 102.90 |  93.77 |  77.58 |  95.04 |  91.77 |  93.37 |  98.34 |\n",
       "| 2012 |  86.44 |  85.04 |  97.80 | <!----> | <!----> | <!----> | <!----> | <!----> | <!----> | <!----> | <!----> | <!----> |\n",
       "\n"
      ],
      "text/plain": [
       "     Jan    Feb    Mar    Apr    May    Jun    Jul    Aug    Sep    Oct   \n",
       "2010  79.28  78.74  94.62  84.66  85.20 103.94  89.87  78.14  96.50  94.68\n",
       "2011  92.57  89.16 104.48  89.45  93.40 102.90  93.77  77.58  95.04  91.77\n",
       "2012  86.44  85.04  97.80                                                 \n",
       "     Nov    Dec   \n",
       "2010 101.77 103.48\n",
       "2011  93.37  98.34\n",
       "2012              "
      ]
     },
     "metadata": {},
     "output_type": "display_data"
    }
   ],
   "source": [
    "train<-window(elecequip, start=c(1996,1), end=c(2009,12))\n",
    "test<-window(elecequip, start=c(2010,1), end=c(2012,3))\n",
    "train\n",
    "test"
   ]
  },
  {
   "cell_type": "code",
   "execution_count": 35,
   "metadata": {},
   "outputs": [],
   "source": [
    "# 미래예측값을 test데이터와 가장 RMSE값이 낮은 모델 선정해보기\n",
    "ses_fit<-ses(train, initial='optimal', h=27)\n",
    "holt_d_fit<-holt(train, damped=TRUE, h=27)\n",
    "hw_fit<-hw(train, seasonal='multiplicative',h=27)\n",
    "ets_fit<-ets(train, model='MAM')\n"
   ]
  },
  {
   "cell_type": "code",
   "execution_count": 38,
   "metadata": {},
   "outputs": [
    {
     "data": {
      "text/html": [
       "<table>\n",
       "<caption>A matrix: 2 × 8 of type dbl</caption>\n",
       "<thead>\n",
       "\t<tr><th></th><th scope=col>ME</th><th scope=col>RMSE</th><th scope=col>MAE</th><th scope=col>MPE</th><th scope=col>MAPE</th><th scope=col>MASE</th><th scope=col>ACF1</th><th scope=col>Theil's U</th></tr>\n",
       "</thead>\n",
       "<tbody>\n",
       "\t<tr><th scope=row>Training set</th><td>0.2180103</td><td>10.07878</td><td>8.515472</td><td>-0.7352083</td><td>9.051876</td><td>1.0225725</td><td>-0.08414145</td><td>       NA</td></tr>\n",
       "\t<tr><th scope=row>Test set</th><td>3.5140734</td><td> 8.68927</td><td>7.381618</td><td> 3.0781553</td><td>7.919148</td><td>0.8864147</td><td> 0.02693508</td><td>0.7753507</td></tr>\n",
       "</tbody>\n",
       "</table>\n"
      ],
      "text/latex": [
       "A matrix: 2 × 8 of type dbl\n",
       "\\begin{tabular}{r|llllllll}\n",
       "  & ME & RMSE & MAE & MPE & MAPE & MASE & ACF1 & Theil's U\\\\\n",
       "\\hline\n",
       "\tTraining set & 0.2180103 & 10.07878 & 8.515472 & -0.7352083 & 9.051876 & 1.0225725 & -0.08414145 &        NA\\\\\n",
       "\tTest set & 3.5140734 &  8.68927 & 7.381618 &  3.0781553 & 7.919148 & 0.8864147 &  0.02693508 & 0.7753507\\\\\n",
       "\\end{tabular}\n"
      ],
      "text/markdown": [
       "\n",
       "A matrix: 2 × 8 of type dbl\n",
       "\n",
       "| <!--/--> | ME | RMSE | MAE | MPE | MAPE | MASE | ACF1 | Theil's U |\n",
       "|---|---|---|---|---|---|---|---|---|\n",
       "| Training set | 0.2180103 | 10.07878 | 8.515472 | -0.7352083 | 9.051876 | 1.0225725 | -0.08414145 |        NA |\n",
       "| Test set | 3.5140734 |  8.68927 | 7.381618 |  3.0781553 | 7.919148 | 0.8864147 |  0.02693508 | 0.7753507 |\n",
       "\n"
      ],
      "text/plain": [
       "             ME        RMSE     MAE      MPE        MAPE     MASE     \n",
       "Training set 0.2180103 10.07878 8.515472 -0.7352083 9.051876 1.0225725\n",
       "Test set     3.5140734  8.68927 7.381618  3.0781553 7.919148 0.8864147\n",
       "             ACF1        Theil's U\n",
       "Training set -0.08414145        NA\n",
       "Test set      0.02693508 0.7753507"
      ]
     },
     "metadata": {},
     "output_type": "display_data"
    },
    {
     "data": {
      "text/html": [
       "<table>\n",
       "<caption>A matrix: 2 × 8 of type dbl</caption>\n",
       "<thead>\n",
       "\t<tr><th></th><th scope=col>ME</th><th scope=col>RMSE</th><th scope=col>MAE</th><th scope=col>MPE</th><th scope=col>MAPE</th><th scope=col>MASE</th><th scope=col>ACF1</th><th scope=col>Theil's U</th></tr>\n",
       "</thead>\n",
       "<tbody>\n",
       "\t<tr><th scope=row>Training set</th><td> 0.2255465</td><td>9.910445</td><td>8.464073</td><td>-0.5993288</td><td>9.00458</td><td>1.0164003</td><td>-0.02604975</td><td>       NA</td></tr>\n",
       "\t<tr><th scope=row>Test set</th><td>-1.8728446</td><td>7.445504</td><td>6.069979</td><td>-2.6850426</td><td>6.81647</td><td>0.7289077</td><td>-0.10940309</td><td>0.6684652</td></tr>\n",
       "</tbody>\n",
       "</table>\n"
      ],
      "text/latex": [
       "A matrix: 2 × 8 of type dbl\n",
       "\\begin{tabular}{r|llllllll}\n",
       "  & ME & RMSE & MAE & MPE & MAPE & MASE & ACF1 & Theil's U\\\\\n",
       "\\hline\n",
       "\tTraining set &  0.2255465 & 9.910445 & 8.464073 & -0.5993288 & 9.00458 & 1.0164003 & -0.02604975 &        NA\\\\\n",
       "\tTest set & -1.8728446 & 7.445504 & 6.069979 & -2.6850426 & 6.81647 & 0.7289077 & -0.10940309 & 0.6684652\\\\\n",
       "\\end{tabular}\n"
      ],
      "text/markdown": [
       "\n",
       "A matrix: 2 × 8 of type dbl\n",
       "\n",
       "| <!--/--> | ME | RMSE | MAE | MPE | MAPE | MASE | ACF1 | Theil's U |\n",
       "|---|---|---|---|---|---|---|---|---|\n",
       "| Training set |  0.2255465 | 9.910445 | 8.464073 | -0.5993288 | 9.00458 | 1.0164003 | -0.02604975 |        NA |\n",
       "| Test set | -1.8728446 | 7.445504 | 6.069979 | -2.6850426 | 6.81647 | 0.7289077 | -0.10940309 | 0.6684652 |\n",
       "\n"
      ],
      "text/plain": [
       "             ME         RMSE     MAE      MPE        MAPE    MASE     \n",
       "Training set  0.2255465 9.910445 8.464073 -0.5993288 9.00458 1.0164003\n",
       "Test set     -1.8728446 7.445504 6.069979 -2.6850426 6.81647 0.7289077\n",
       "             ACF1        Theil's U\n",
       "Training set -0.02604975        NA\n",
       "Test set     -0.10940309 0.6684652"
      ]
     },
     "metadata": {},
     "output_type": "display_data"
    },
    {
     "data": {
      "text/html": [
       "<table>\n",
       "<caption>A matrix: 2 × 8 of type dbl</caption>\n",
       "<thead>\n",
       "\t<tr><th></th><th scope=col>ME</th><th scope=col>RMSE</th><th scope=col>MAE</th><th scope=col>MPE</th><th scope=col>MAPE</th><th scope=col>MASE</th><th scope=col>ACF1</th><th scope=col>Theil's U</th></tr>\n",
       "</thead>\n",
       "<tbody>\n",
       "\t<tr><th scope=row>Training set</th><td>  0.1115814</td><td> 3.046403</td><td> 2.352232</td><td>  0.12380</td><td> 2.490351</td><td>0.2824655</td><td>0.04848112</td><td>     NA</td></tr>\n",
       "\t<tr><th scope=row>Test set</th><td>-31.5142823</td><td>37.386523</td><td>31.514282</td><td>-34.05358</td><td>34.053582</td><td>3.7843629</td><td>0.83521770</td><td>3.38819</td></tr>\n",
       "</tbody>\n",
       "</table>\n"
      ],
      "text/latex": [
       "A matrix: 2 × 8 of type dbl\n",
       "\\begin{tabular}{r|llllllll}\n",
       "  & ME & RMSE & MAE & MPE & MAPE & MASE & ACF1 & Theil's U\\\\\n",
       "\\hline\n",
       "\tTraining set &   0.1115814 &  3.046403 &  2.352232 &   0.12380 &  2.490351 & 0.2824655 & 0.04848112 &      NA\\\\\n",
       "\tTest set & -31.5142823 & 37.386523 & 31.514282 & -34.05358 & 34.053582 & 3.7843629 & 0.83521770 & 3.38819\\\\\n",
       "\\end{tabular}\n"
      ],
      "text/markdown": [
       "\n",
       "A matrix: 2 × 8 of type dbl\n",
       "\n",
       "| <!--/--> | ME | RMSE | MAE | MPE | MAPE | MASE | ACF1 | Theil's U |\n",
       "|---|---|---|---|---|---|---|---|---|\n",
       "| Training set |   0.1115814 |  3.046403 |  2.352232 |   0.12380 |  2.490351 | 0.2824655 | 0.04848112 |      NA |\n",
       "| Test set | -31.5142823 | 37.386523 | 31.514282 | -34.05358 | 34.053582 | 3.7843629 | 0.83521770 | 3.38819 |\n",
       "\n"
      ],
      "text/plain": [
       "             ME          RMSE      MAE       MPE       MAPE      MASE     \n",
       "Training set   0.1115814  3.046403  2.352232   0.12380  2.490351 0.2824655\n",
       "Test set     -31.5142823 37.386523 31.514282 -34.05358 34.053582 3.7843629\n",
       "             ACF1       Theil's U\n",
       "Training set 0.04848112      NA  \n",
       "Test set     0.83521770 3.38819  "
      ]
     },
     "metadata": {},
     "output_type": "display_data"
    },
    {
     "data": {
      "text/html": [
       "<table>\n",
       "<caption>A matrix: 2 × 8 of type dbl</caption>\n",
       "<thead>\n",
       "\t<tr><th></th><th scope=col>ME</th><th scope=col>RMSE</th><th scope=col>MAE</th><th scope=col>MPE</th><th scope=col>MAPE</th><th scope=col>MASE</th><th scope=col>ACF1</th><th scope=col>Theil's U</th></tr>\n",
       "</thead>\n",
       "<tbody>\n",
       "\t<tr><th scope=row>Training set</th><td>  0.07940624</td><td> 3.018334</td><td> 2.311783</td><td>  0.08779281</td><td> 2.443031</td><td>0.2776083</td><td>0.0157107</td><td>      NA</td></tr>\n",
       "\t<tr><th scope=row>Test set</th><td>-20.47993793</td><td>23.632148</td><td>20.479938</td><td>-22.15611285</td><td>22.156113</td><td>2.4593141</td><td>0.7995558</td><td>2.143943</td></tr>\n",
       "</tbody>\n",
       "</table>\n"
      ],
      "text/latex": [
       "A matrix: 2 × 8 of type dbl\n",
       "\\begin{tabular}{r|llllllll}\n",
       "  & ME & RMSE & MAE & MPE & MAPE & MASE & ACF1 & Theil's U\\\\\n",
       "\\hline\n",
       "\tTraining set &   0.07940624 &  3.018334 &  2.311783 &   0.08779281 &  2.443031 & 0.2776083 & 0.0157107 &       NA\\\\\n",
       "\tTest set & -20.47993793 & 23.632148 & 20.479938 & -22.15611285 & 22.156113 & 2.4593141 & 0.7995558 & 2.143943\\\\\n",
       "\\end{tabular}\n"
      ],
      "text/markdown": [
       "\n",
       "A matrix: 2 × 8 of type dbl\n",
       "\n",
       "| <!--/--> | ME | RMSE | MAE | MPE | MAPE | MASE | ACF1 | Theil's U |\n",
       "|---|---|---|---|---|---|---|---|---|\n",
       "| Training set |   0.07940624 |  3.018334 |  2.311783 |   0.08779281 |  2.443031 | 0.2776083 | 0.0157107 |       NA |\n",
       "| Test set | -20.47993793 | 23.632148 | 20.479938 | -22.15611285 | 22.156113 | 2.4593141 | 0.7995558 | 2.143943 |\n",
       "\n"
      ],
      "text/plain": [
       "             ME           RMSE      MAE       MPE          MAPE      MASE     \n",
       "Training set   0.07940624  3.018334  2.311783   0.08779281  2.443031 0.2776083\n",
       "Test set     -20.47993793 23.632148 20.479938 -22.15611285 22.156113 2.4593141\n",
       "             ACF1      Theil's U\n",
       "Training set 0.0157107       NA \n",
       "Test set     0.7995558 2.143943 "
      ]
     },
     "metadata": {},
     "output_type": "display_data"
    }
   ],
   "source": [
    "for_ses<-forecast(ses_fit, h=27)\n",
    "for_holt_d<-forecast(holt_d_fit,h=27)\n",
    "for_hw<-forecast(hw_fit,h=27)\n",
    "for_ets<-forecast(ets_fit,h=27)\n",
    "\n",
    "accuracy(for_ses, test)\n",
    "accuracy(for_holt_d, test)\n",
    "accuracy(for_hw, test)\n",
    "accuracy(for_ets, test) \n",
    "\n",
    "# ses, holt 모형은 Train RMSE가 더 높아서 탈락\n",
    "# hw와 ETS 모형 중 rmse값의 차이가 그나마 더 적은 ETS모형으로 선택"
   ]
  },
  {
   "cell_type": "code",
   "execution_count": 39,
   "metadata": {},
   "outputs": [
    {
     "data": {
      "text/html": [
       "<table>\n",
       "<caption>A matrix: 2 × 8 of type dbl</caption>\n",
       "<thead>\n",
       "\t<tr><th></th><th scope=col>ME</th><th scope=col>RMSE</th><th scope=col>MAE</th><th scope=col>MPE</th><th scope=col>MAPE</th><th scope=col>MASE</th><th scope=col>ACF1</th><th scope=col>Theil's U</th></tr>\n",
       "</thead>\n",
       "<tbody>\n",
       "\t<tr><th scope=row>Training set</th><td> 1.776357e-15</td><td>13.733486</td><td>11.335709</td><td>-2.112336</td><td>12.147609</td><td>1.3612379</td><td>0.54941983</td><td>       NA</td></tr>\n",
       "\t<tr><th scope=row>Test set</th><td>-4.364206e+00</td><td> 9.066477</td><td> 7.245088</td><td>-5.558476</td><td> 8.358737</td><td>0.8700196</td><td>0.02693508</td><td>0.7737365</td></tr>\n",
       "</tbody>\n",
       "</table>\n"
      ],
      "text/latex": [
       "A matrix: 2 × 8 of type dbl\n",
       "\\begin{tabular}{r|llllllll}\n",
       "  & ME & RMSE & MAE & MPE & MAPE & MASE & ACF1 & Theil's U\\\\\n",
       "\\hline\n",
       "\tTraining set &  1.776357e-15 & 13.733486 & 11.335709 & -2.112336 & 12.147609 & 1.3612379 & 0.54941983 &        NA\\\\\n",
       "\tTest set & -4.364206e+00 &  9.066477 &  7.245088 & -5.558476 &  8.358737 & 0.8700196 & 0.02693508 & 0.7737365\\\\\n",
       "\\end{tabular}\n"
      ],
      "text/markdown": [
       "\n",
       "A matrix: 2 × 8 of type dbl\n",
       "\n",
       "| <!--/--> | ME | RMSE | MAE | MPE | MAPE | MASE | ACF1 | Theil's U |\n",
       "|---|---|---|---|---|---|---|---|---|\n",
       "| Training set |  1.776357e-15 | 13.733486 | 11.335709 | -2.112336 | 12.147609 | 1.3612379 | 0.54941983 |        NA |\n",
       "| Test set | -4.364206e+00 |  9.066477 |  7.245088 | -5.558476 |  8.358737 | 0.8700196 | 0.02693508 | 0.7737365 |\n",
       "\n"
      ],
      "text/plain": [
       "             ME            RMSE      MAE       MPE       MAPE      MASE     \n",
       "Training set  1.776357e-15 13.733486 11.335709 -2.112336 12.147609 1.3612379\n",
       "Test set     -4.364206e+00  9.066477  7.245088 -5.558476  8.358737 0.8700196\n",
       "             ACF1       Theil's U\n",
       "Training set 0.54941983        NA\n",
       "Test set     0.02693508 0.7737365"
      ]
     },
     "metadata": {},
     "output_type": "display_data"
    },
    {
     "data": {
      "text/html": [
       "<table>\n",
       "<caption>A matrix: 2 × 8 of type dbl</caption>\n",
       "<thead>\n",
       "\t<tr><th></th><th scope=col>ME</th><th scope=col>RMSE</th><th scope=col>MAE</th><th scope=col>MPE</th><th scope=col>MAPE</th><th scope=col>MASE</th><th scope=col>ACF1</th><th scope=col>Theil's U</th></tr>\n",
       "</thead>\n",
       "<tbody>\n",
       "\t<tr><th scope=row>Training set</th><td>  0.1387425</td><td>13.00129</td><td>10.57659</td><td> -0.7796682</td><td>11.05941</td><td>1.270079</td><td>-0.42123354</td><td>      NA</td></tr>\n",
       "\t<tr><th scope=row>Test set</th><td>-10.5944444</td><td>13.24375</td><td>10.94407</td><td>-12.3884282</td><td>12.72466</td><td>1.314209</td><td> 0.02693508</td><td>1.135259</td></tr>\n",
       "</tbody>\n",
       "</table>\n"
      ],
      "text/latex": [
       "A matrix: 2 × 8 of type dbl\n",
       "\\begin{tabular}{r|llllllll}\n",
       "  & ME & RMSE & MAE & MPE & MAPE & MASE & ACF1 & Theil's U\\\\\n",
       "\\hline\n",
       "\tTraining set &   0.1387425 & 13.00129 & 10.57659 &  -0.7796682 & 11.05941 & 1.270079 & -0.42123354 &       NA\\\\\n",
       "\tTest set & -10.5944444 & 13.24375 & 10.94407 & -12.3884282 & 12.72466 & 1.314209 &  0.02693508 & 1.135259\\\\\n",
       "\\end{tabular}\n"
      ],
      "text/markdown": [
       "\n",
       "A matrix: 2 × 8 of type dbl\n",
       "\n",
       "| <!--/--> | ME | RMSE | MAE | MPE | MAPE | MASE | ACF1 | Theil's U |\n",
       "|---|---|---|---|---|---|---|---|---|\n",
       "| Training set |   0.1387425 | 13.00129 | 10.57659 |  -0.7796682 | 11.05941 | 1.270079 | -0.42123354 |       NA |\n",
       "| Test set | -10.5944444 | 13.24375 | 10.94407 | -12.3884282 | 12.72466 | 1.314209 |  0.02693508 | 1.135259 |\n",
       "\n"
      ],
      "text/plain": [
       "             ME          RMSE     MAE      MPE         MAPE     MASE    \n",
       "Training set   0.1387425 13.00129 10.57659  -0.7796682 11.05941 1.270079\n",
       "Test set     -10.5944444 13.24375 10.94407 -12.3884282 12.72466 1.314209\n",
       "             ACF1        Theil's U\n",
       "Training set -0.42123354       NA \n",
       "Test set      0.02693508 1.135259 "
      ]
     },
     "metadata": {},
     "output_type": "display_data"
    },
    {
     "data": {
      "text/html": [
       "<table>\n",
       "<caption>A matrix: 2 × 8 of type dbl</caption>\n",
       "<thead>\n",
       "\t<tr><th></th><th scope=col>ME</th><th scope=col>RMSE</th><th scope=col>MAE</th><th scope=col>MPE</th><th scope=col>MAPE</th><th scope=col>MASE</th><th scope=col>ACF1</th><th scope=col>Theil's U</th></tr>\n",
       "</thead>\n",
       "<tbody>\n",
       "\t<tr><th scope=row>Training set</th><td> 0.1539103</td><td>11.37040</td><td> 8.32750</td><td>-0.5470708</td><td> 8.811601</td><td>1.000000</td><td>0.9253249</td><td>      NA</td></tr>\n",
       "\t<tr><th scope=row>Test set</th><td>10.3807407</td><td>11.75639</td><td>10.69037</td><td>11.2830907</td><td>11.597947</td><td>1.283743</td><td>0.3968482</td><td>1.049681</td></tr>\n",
       "</tbody>\n",
       "</table>\n"
      ],
      "text/latex": [
       "A matrix: 2 × 8 of type dbl\n",
       "\\begin{tabular}{r|llllllll}\n",
       "  & ME & RMSE & MAE & MPE & MAPE & MASE & ACF1 & Theil's U\\\\\n",
       "\\hline\n",
       "\tTraining set &  0.1539103 & 11.37040 &  8.32750 & -0.5470708 &  8.811601 & 1.000000 & 0.9253249 &       NA\\\\\n",
       "\tTest set & 10.3807407 & 11.75639 & 10.69037 & 11.2830907 & 11.597947 & 1.283743 & 0.3968482 & 1.049681\\\\\n",
       "\\end{tabular}\n"
      ],
      "text/markdown": [
       "\n",
       "A matrix: 2 × 8 of type dbl\n",
       "\n",
       "| <!--/--> | ME | RMSE | MAE | MPE | MAPE | MASE | ACF1 | Theil's U |\n",
       "|---|---|---|---|---|---|---|---|---|\n",
       "| Training set |  0.1539103 | 11.37040 |  8.32750 | -0.5470708 |  8.811601 | 1.000000 | 0.9253249 |       NA |\n",
       "| Test set | 10.3807407 | 11.75639 | 10.69037 | 11.2830907 | 11.597947 | 1.283743 | 0.3968482 | 1.049681 |\n",
       "\n"
      ],
      "text/plain": [
       "             ME         RMSE     MAE      MPE        MAPE      MASE    \n",
       "Training set  0.1539103 11.37040  8.32750 -0.5470708  8.811601 1.000000\n",
       "Test set     10.3807407 11.75639 10.69037 11.2830907 11.597947 1.283743\n",
       "             ACF1      Theil's U\n",
       "Training set 0.9253249       NA \n",
       "Test set     0.3968482 1.049681 "
      ]
     },
     "metadata": {},
     "output_type": "display_data"
    },
    {
     "data": {
      "text/html": [
       "<table>\n",
       "<caption>A matrix: 2 × 8 of type dbl</caption>\n",
       "<thead>\n",
       "\t<tr><th></th><th scope=col>ME</th><th scope=col>RMSE</th><th scope=col>MAE</th><th scope=col>MPE</th><th scope=col>MAPE</th><th scope=col>MASE</th><th scope=col>ACF1</th><th scope=col>Theil's U</th></tr>\n",
       "</thead>\n",
       "<tbody>\n",
       "\t<tr><th scope=row>Training set</th><td>  0.1387425</td><td>13.00129</td><td>10.57659</td><td> -0.7796682</td><td>11.05941</td><td>1.270079</td><td>-0.42123354</td><td>      NA</td></tr>\n",
       "\t<tr><th scope=row>Test set</th><td>-10.5944444</td><td>13.24375</td><td>10.94407</td><td>-12.3884282</td><td>12.72466</td><td>1.314209</td><td> 0.02693508</td><td>1.135259</td></tr>\n",
       "</tbody>\n",
       "</table>\n"
      ],
      "text/latex": [
       "A matrix: 2 × 8 of type dbl\n",
       "\\begin{tabular}{r|llllllll}\n",
       "  & ME & RMSE & MAE & MPE & MAPE & MASE & ACF1 & Theil's U\\\\\n",
       "\\hline\n",
       "\tTraining set &   0.1387425 & 13.00129 & 10.57659 &  -0.7796682 & 11.05941 & 1.270079 & -0.42123354 &       NA\\\\\n",
       "\tTest set & -10.5944444 & 13.24375 & 10.94407 & -12.3884282 & 12.72466 & 1.314209 &  0.02693508 & 1.135259\\\\\n",
       "\\end{tabular}\n"
      ],
      "text/markdown": [
       "\n",
       "A matrix: 2 × 8 of type dbl\n",
       "\n",
       "| <!--/--> | ME | RMSE | MAE | MPE | MAPE | MASE | ACF1 | Theil's U |\n",
       "|---|---|---|---|---|---|---|---|---|\n",
       "| Training set |   0.1387425 | 13.00129 | 10.57659 |  -0.7796682 | 11.05941 | 1.270079 | -0.42123354 |       NA |\n",
       "| Test set | -10.5944444 | 13.24375 | 10.94407 | -12.3884282 | 12.72466 | 1.314209 |  0.02693508 | 1.135259 |\n",
       "\n"
      ],
      "text/plain": [
       "             ME          RMSE     MAE      MPE         MAPE     MASE    \n",
       "Training set   0.1387425 13.00129 10.57659  -0.7796682 11.05941 1.270079\n",
       "Test set     -10.5944444 13.24375 10.94407 -12.3884282 12.72466 1.314209\n",
       "             ACF1        Theil's U\n",
       "Training set -0.42123354       NA \n",
       "Test set      0.02693508 1.135259 "
      ]
     },
     "metadata": {},
     "output_type": "display_data"
    },
    {
     "data": {
      "text/html": [
       "<table>\n",
       "<caption>A matrix: 2 × 8 of type dbl</caption>\n",
       "<thead>\n",
       "\t<tr><th></th><th scope=col>ME</th><th scope=col>RMSE</th><th scope=col>MAE</th><th scope=col>MPE</th><th scope=col>MAPE</th><th scope=col>MASE</th><th scope=col>ACF1</th><th scope=col>Theil's U</th></tr>\n",
       "</thead>\n",
       "<tbody>\n",
       "\t<tr><th scope=row>Training set</th><td>-1.957516e-15</td><td>13.00055</td><td>10.58074</td><td> -0.9266344</td><td>11.07244</td><td>1.270578</td><td>-0.421233543</td><td>      NA</td></tr>\n",
       "\t<tr><th scope=row>Test set</th><td>-1.253684e+01</td><td>14.76131</td><td>12.58036</td><td>-14.4931737</td><td>14.53505</td><td>1.510701</td><td> 0.007787585</td><td>1.274593</td></tr>\n",
       "</tbody>\n",
       "</table>\n"
      ],
      "text/latex": [
       "A matrix: 2 × 8 of type dbl\n",
       "\\begin{tabular}{r|llllllll}\n",
       "  & ME & RMSE & MAE & MPE & MAPE & MASE & ACF1 & Theil's U\\\\\n",
       "\\hline\n",
       "\tTraining set & -1.957516e-15 & 13.00055 & 10.58074 &  -0.9266344 & 11.07244 & 1.270578 & -0.421233543 &       NA\\\\\n",
       "\tTest set & -1.253684e+01 & 14.76131 & 12.58036 & -14.4931737 & 14.53505 & 1.510701 &  0.007787585 & 1.274593\\\\\n",
       "\\end{tabular}\n"
      ],
      "text/markdown": [
       "\n",
       "A matrix: 2 × 8 of type dbl\n",
       "\n",
       "| <!--/--> | ME | RMSE | MAE | MPE | MAPE | MASE | ACF1 | Theil's U |\n",
       "|---|---|---|---|---|---|---|---|---|\n",
       "| Training set | -1.957516e-15 | 13.00055 | 10.58074 |  -0.9266344 | 11.07244 | 1.270578 | -0.421233543 |       NA |\n",
       "| Test set | -1.253684e+01 | 14.76131 | 12.58036 | -14.4931737 | 14.53505 | 1.510701 |  0.007787585 | 1.274593 |\n",
       "\n"
      ],
      "text/plain": [
       "             ME            RMSE     MAE      MPE         MAPE     MASE    \n",
       "Training set -1.957516e-15 13.00055 10.58074  -0.9266344 11.07244 1.270578\n",
       "Test set     -1.253684e+01 14.76131 12.58036 -14.4931737 14.53505 1.510701\n",
       "             ACF1         Theil's U\n",
       "Training set -0.421233543       NA \n",
       "Test set      0.007787585 1.274593 "
      ]
     },
     "metadata": {},
     "output_type": "display_data"
    }
   ],
   "source": [
    "# 벤치마크 기준 예측법으로 해보기\n",
    "mean<-meanf(train, h=27)\n",
    "naive<-naive(train, h=27)\n",
    "snaive<-snaive(train, h=27)\n",
    "rwf<-rwf(train, h=27)\n",
    "rwf_d<-rwf(train, drift=TRUE, h=27)\n",
    "\n",
    "accuracy(mean, test)\n",
    "accuracy(naive, test)\n",
    "accuracy(snaive, test) # snaive의 RMSE값이 가장 이상적!\n",
    "accuracy(rwf, test)\n",
    "accuracy(rwf_d, test)\n",
    "\n"
   ]
  },
  {
   "cell_type": "markdown",
   "metadata": {},
   "source": [
    "# ETS모형을 쓰는 것보다 snavie로 예측하는 것이 더 정확도 높음!!"
   ]
  },
  {
   "cell_type": "code",
   "execution_count": 43,
   "metadata": {
    "scrolled": false
   },
   "outputs": [
    {
     "data": {
      "image/png": "[encoded data removed]",
      "text/plain": [
       "plot without title"
      ]
     },
     "metadata": {
      "image/png": {
       "height": 420,
       "width": 420
      }
     },
     "output_type": "display_data"
    },
    {
     "data": {
      "text/plain": [
       "   Min. 1st Qu.  Median    Mean 3rd Qu.    Max.    NA's \n",
       "  75.34   87.76   94.73   95.79  104.03  120.53       2 "
      ]
     },
     "metadata": {},
     "output_type": "display_data"
    },
    {
     "data": {
      "image/png": "[encoded data removed]",
      "text/plain": [
       "plot without title"
      ]
     },
     "metadata": {
      "image/png": {
       "height": 420,
       "width": 420
      }
     },
     "output_type": "display_data"
    }
   ],
   "source": [
    "#분해해보기\n",
    "#이동평균으로 분해\n",
    "ma_1<-ma(elecequip, order=3)\n",
    "ma_2<-ma(elecequip, order=4, centre=TRUE)\n",
    "plot(ma_1)\n",
    "plot(ma_2)"
   ]
  },
  {
   "cell_type": "code",
   "execution_count": 49,
   "metadata": {},
   "outputs": [
    {
     "data": {
      "text/plain": [
       "         Length Class  Mode     \n",
       "x        195    ts     numeric  \n",
       "seasonal 195    ts     numeric  \n",
       "trend    195    ts     numeric  \n",
       "random   195    ts     numeric  \n",
       "figure    12    -none- numeric  \n",
       "type       1    -none- character"
      ]
     },
     "metadata": {},
     "output_type": "display_data"
    },
    {
     "data": {
      "text/plain": [
       "         Length Class  Mode     \n",
       "x        195    ts     numeric  \n",
       "seasonal 195    ts     numeric  \n",
       "trend    195    ts     numeric  \n",
       "random   195    ts     numeric  \n",
       "figure    12    -none- numeric  \n",
       "type       1    -none- character"
      ]
     },
     "metadata": {},
     "output_type": "display_data"
    }
   ],
   "source": [
    "# 전통적인 분해법으로 분해해보기\n",
    "d_1<-decompose(elecequip, type='additive')\n",
    "summary(d_1)\n",
    "\n",
    "d_2<-decompose(elecequip, type='multiplicative')\n",
    "summary(d_2)"
   ]
  },
  {
   "cell_type": "code",
   "execution_count": 53,
   "metadata": {},
   "outputs": [
    {
     "data": {
      "image/png": "[encoded data removed]",
      "text/plain": [
       "plot without title"
      ]
     },
     "metadata": {
      "image/png": {
       "height": 420,
       "width": 420
      }
     },
     "output_type": "display_data"
    },
    {
     "data": {
      "image/png": "[encoded data removed]",
      "text/plain": [
       "plot without title"
      ]
     },
     "metadata": {
      "image/png": {
       "height": 420,
       "width": 420
      }
     },
     "output_type": "display_data"
    }
   ],
   "source": [
    "plot(elecequip-d_1$seasonal)\n",
    "plot(elecequip)\n"
   ]
  },
  {
   "cell_type": "code",
   "execution_count": 55,
   "metadata": {},
   "outputs": [
    {
     "data": {
      "image/png": "[encoded data removed]",
      "text/plain": [
       "plot without title"
      ]
     },
     "metadata": {
      "image/png": {
       "height": 420,
       "width": 420
      }
     },
     "output_type": "display_data"
    }
   ],
   "source": [
    "plot(d_2$x/d_2$trend)"
   ]
  },
  {
   "cell_type": "code",
   "execution_count": 57,
   "metadata": {},
   "outputs": [
    {
     "data": {
      "image/png": "[encoded data removed]",
      "text/plain": [
       "plot without title"
      ]
     },
     "metadata": {
      "image/png": {
       "height": 420,
       "width": 420
      }
     },
     "output_type": "display_data"
    }
   ],
   "source": [
    "plot(d_2$x/d_2$seasonal)"
   ]
  },
  {
   "cell_type": "code",
   "execution_count": null,
   "metadata": {},
   "outputs": [],
   "source": []
  }
 ],
 "metadata": {
  "kernelspec": {
   "display_name": "R",
   "language": "R",
   "name": "ir"
  },
  "language_info": {
   "codemirror_mode": "r",
   "file_extension": ".r",
   "mimetype": "text/x-r-source",
   "name": "R",
   "pygments_lexer": "r",
   "version": "3.6.3"
  }
 },
 "nbformat": 4,
 "nbformat_minor": 4
}
