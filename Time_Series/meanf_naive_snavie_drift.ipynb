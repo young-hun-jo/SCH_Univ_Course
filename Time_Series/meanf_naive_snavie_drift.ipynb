{
 "cells": [
  {
   "cell_type": "code",
   "execution_count": 1,
   "metadata": {},
   "outputs": [
    {
     "name": "stderr",
     "output_type": "stream",
     "text": [
      "Registered S3 method overwritten by 'quantmod':\n",
      "  method            from\n",
      "  as.zoo.data.frame zoo \n",
      "\n"
     ]
    }
   ],
   "source": [
    "library(forecast)"
   ]
  },
  {
   "cell_type": "code",
   "execution_count": 2,
   "metadata": {},
   "outputs": [
    {
     "name": "stderr",
     "output_type": "stream",
     "text": [
      "Loading required package: ggplot2\n",
      "\n",
      "Loading required package: fma\n",
      "\n",
      "Loading required package: expsmooth\n",
      "\n"
     ]
    }
   ],
   "source": [
    "library(fpp2)"
   ]
  },
  {
   "cell_type": "code",
   "execution_count": 6,
   "metadata": {},
   "outputs": [
    {
     "name": "stderr",
     "output_type": "stream",
     "text": [
      "Registered S3 methods overwritten by 'TSA':\n",
      "  method       from    \n",
      "  fitted.Arima forecast\n",
      "  plot.Arima   forecast\n",
      "\n",
      "\n",
      "Attaching package: 'TSA'\n",
      "\n",
      "\n",
      "The following objects are masked from 'package:stats':\n",
      "\n",
      "    acf, arima\n",
      "\n",
      "\n",
      "The following object is masked from 'package:utils':\n",
      "\n",
      "    tar\n",
      "\n",
      "\n"
     ]
    }
   ],
   "source": [
    "library(TSA)"
   ]
  },
  {
   "cell_type": "code",
   "execution_count": 21,
   "metadata": {
    "scrolled": true
   },
   "outputs": [
    {
     "data": {
      "text/html": [
       "<table>\n",
       "<caption>A Time Series: 55 × 4</caption>\n",
       "<thead>\n",
       "\t<tr><th></th><th scope=col>Qtr1</th><th scope=col>Qtr2</th><th scope=col>Qtr3</th><th scope=col>Qtr4</th></tr>\n",
       "</thead>\n",
       "<tbody>\n",
       "\t<tr><th scope=row>1956</th><td>284</td><td>213</td><td>227</td><td>308</td></tr>\n",
       "\t<tr><th scope=row>1957</th><td>262</td><td>228</td><td>236</td><td>320</td></tr>\n",
       "\t<tr><th scope=row>1958</th><td>272</td><td>233</td><td>237</td><td>313</td></tr>\n",
       "\t<tr><th scope=row>1959</th><td>261</td><td>227</td><td>250</td><td>314</td></tr>\n",
       "\t<tr><th scope=row>1960</th><td>286</td><td>227</td><td>260</td><td>311</td></tr>\n",
       "\t<tr><th scope=row>1961</th><td>295</td><td>233</td><td>257</td><td>339</td></tr>\n",
       "\t<tr><th scope=row>1962</th><td>279</td><td>250</td><td>270</td><td>346</td></tr>\n",
       "\t<tr><th scope=row>1963</th><td>294</td><td>255</td><td>278</td><td>363</td></tr>\n",
       "\t<tr><th scope=row>1964</th><td>313</td><td>273</td><td>300</td><td>370</td></tr>\n",
       "\t<tr><th scope=row>1965</th><td>331</td><td>288</td><td>306</td><td>386</td></tr>\n",
       "\t<tr><th scope=row>1966</th><td>335</td><td>288</td><td>308</td><td>402</td></tr>\n",
       "\t<tr><th scope=row>1967</th><td>353</td><td>316</td><td>325</td><td>405</td></tr>\n",
       "\t<tr><th scope=row>1968</th><td>393</td><td>319</td><td>327</td><td>442</td></tr>\n",
       "\t<tr><th scope=row>1969</th><td>383</td><td>332</td><td>361</td><td>446</td></tr>\n",
       "\t<tr><th scope=row>1970</th><td>387</td><td>357</td><td>374</td><td>466</td></tr>\n",
       "\t<tr><th scope=row>1971</th><td>410</td><td>370</td><td>379</td><td>487</td></tr>\n",
       "\t<tr><th scope=row>1972</th><td>419</td><td>378</td><td>393</td><td>506</td></tr>\n",
       "\t<tr><th scope=row>1973</th><td>458</td><td>387</td><td>427</td><td>565</td></tr>\n",
       "\t<tr><th scope=row>1974</th><td>465</td><td>445</td><td>450</td><td>556</td></tr>\n",
       "\t<tr><th scope=row>1975</th><td>500</td><td>452</td><td>435</td><td>554</td></tr>\n",
       "\t<tr><th scope=row>1976</th><td>510</td><td>433</td><td>453</td><td>548</td></tr>\n",
       "\t<tr><th scope=row>1977</th><td>486</td><td>453</td><td>457</td><td>566</td></tr>\n",
       "\t<tr><th scope=row>1978</th><td>515</td><td>464</td><td>431</td><td>588</td></tr>\n",
       "\t<tr><th scope=row>1979</th><td>503</td><td>443</td><td>448</td><td>555</td></tr>\n",
       "\t<tr><th scope=row>1980</th><td>513</td><td>427</td><td>473</td><td>526</td></tr>\n",
       "\t<tr><th scope=row>1981</th><td>548</td><td>440</td><td>469</td><td>575</td></tr>\n",
       "\t<tr><th scope=row>1982</th><td>493</td><td>433</td><td>480</td><td>576</td></tr>\n",
       "\t<tr><th scope=row>1983</th><td>475</td><td>405</td><td>435</td><td>535</td></tr>\n",
       "\t<tr><th scope=row>1984</th><td>453</td><td>430</td><td>417</td><td>552</td></tr>\n",
       "\t<tr><th scope=row>1985</th><td>464</td><td>417</td><td>423</td><td>554</td></tr>\n",
       "\t<tr><th scope=row>1986</th><td>459</td><td>428</td><td>429</td><td>534</td></tr>\n",
       "\t<tr><th scope=row>1987</th><td>481</td><td>416</td><td>440</td><td>538</td></tr>\n",
       "\t<tr><th scope=row>1988</th><td>474</td><td>440</td><td>447</td><td>598</td></tr>\n",
       "\t<tr><th scope=row>1989</th><td>467</td><td>439</td><td>446</td><td>567</td></tr>\n",
       "\t<tr><th scope=row>1990</th><td>485</td><td>441</td><td>429</td><td>599</td></tr>\n",
       "\t<tr><th scope=row>1991</th><td>464</td><td>424</td><td>436</td><td>574</td></tr>\n",
       "\t<tr><th scope=row>1992</th><td>443</td><td>410</td><td>420</td><td>532</td></tr>\n",
       "\t<tr><th scope=row>1993</th><td>433</td><td>421</td><td>410</td><td>512</td></tr>\n",
       "\t<tr><th scope=row>1994</th><td>449</td><td>381</td><td>423</td><td>531</td></tr>\n",
       "\t<tr><th scope=row>1995</th><td>426</td><td>408</td><td>416</td><td>520</td></tr>\n",
       "\t<tr><th scope=row>1996</th><td>409</td><td>398</td><td>398</td><td>507</td></tr>\n",
       "\t<tr><th scope=row>1997</th><td>432</td><td>398</td><td>406</td><td>526</td></tr>\n",
       "\t<tr><th scope=row>1998</th><td>428</td><td>397</td><td>403</td><td>517</td></tr>\n",
       "\t<tr><th scope=row>1999</th><td>435</td><td>383</td><td>424</td><td>521</td></tr>\n",
       "\t<tr><th scope=row>2000</th><td>421</td><td>402</td><td>414</td><td>500</td></tr>\n",
       "\t<tr><th scope=row>2001</th><td>451</td><td>380</td><td>416</td><td>492</td></tr>\n",
       "\t<tr><th scope=row>2002</th><td>428</td><td>408</td><td>406</td><td>506</td></tr>\n",
       "\t<tr><th scope=row>2003</th><td>435</td><td>380</td><td>421</td><td>490</td></tr>\n",
       "\t<tr><th scope=row>2004</th><td>435</td><td>390</td><td>412</td><td>454</td></tr>\n",
       "\t<tr><th scope=row>2005</th><td>416</td><td>403</td><td>408</td><td>482</td></tr>\n",
       "\t<tr><th scope=row>2006</th><td>438</td><td>386</td><td>405</td><td>491</td></tr>\n",
       "\t<tr><th scope=row>2007</th><td>427</td><td>383</td><td>394</td><td>473</td></tr>\n",
       "\t<tr><th scope=row>2008</th><td>420</td><td>390</td><td>410</td><td>488</td></tr>\n",
       "\t<tr><th scope=row>2009</th><td>415</td><td>398</td><td>419</td><td>488</td></tr>\n",
       "\t<tr><th scope=row>2010</th><td>414</td><td>374</td><td>   </td><td>   </td></tr>\n",
       "</tbody>\n",
       "</table>\n"
      ],
      "text/latex": [
       "A Time Series: 55 × 4\n",
       "\\begin{tabular}{r|llll}\n",
       "  & Qtr1 & Qtr2 & Qtr3 & Qtr4\\\\\n",
       "\\hline\n",
       "\t1956 & 284 & 213 & 227 & 308\\\\\n",
       "\t1957 & 262 & 228 & 236 & 320\\\\\n",
       "\t1958 & 272 & 233 & 237 & 313\\\\\n",
       "\t1959 & 261 & 227 & 250 & 314\\\\\n",
       "\t1960 & 286 & 227 & 260 & 311\\\\\n",
       "\t1961 & 295 & 233 & 257 & 339\\\\\n",
       "\t1962 & 279 & 250 & 270 & 346\\\\\n",
       "\t1963 & 294 & 255 & 278 & 363\\\\\n",
       "\t1964 & 313 & 273 & 300 & 370\\\\\n",
       "\t1965 & 331 & 288 & 306 & 386\\\\\n",
       "\t1966 & 335 & 288 & 308 & 402\\\\\n",
       "\t1967 & 353 & 316 & 325 & 405\\\\\n",
       "\t1968 & 393 & 319 & 327 & 442\\\\\n",
       "\t1969 & 383 & 332 & 361 & 446\\\\\n",
       "\t1970 & 387 & 357 & 374 & 466\\\\\n",
       "\t1971 & 410 & 370 & 379 & 487\\\\\n",
       "\t1972 & 419 & 378 & 393 & 506\\\\\n",
       "\t1973 & 458 & 387 & 427 & 565\\\\\n",
       "\t1974 & 465 & 445 & 450 & 556\\\\\n",
       "\t1975 & 500 & 452 & 435 & 554\\\\\n",
       "\t1976 & 510 & 433 & 453 & 548\\\\\n",
       "\t1977 & 486 & 453 & 457 & 566\\\\\n",
       "\t1978 & 515 & 464 & 431 & 588\\\\\n",
       "\t1979 & 503 & 443 & 448 & 555\\\\\n",
       "\t1980 & 513 & 427 & 473 & 526\\\\\n",
       "\t1981 & 548 & 440 & 469 & 575\\\\\n",
       "\t1982 & 493 & 433 & 480 & 576\\\\\n",
       "\t1983 & 475 & 405 & 435 & 535\\\\\n",
       "\t1984 & 453 & 430 & 417 & 552\\\\\n",
       "\t1985 & 464 & 417 & 423 & 554\\\\\n",
       "\t1986 & 459 & 428 & 429 & 534\\\\\n",
       "\t1987 & 481 & 416 & 440 & 538\\\\\n",
       "\t1988 & 474 & 440 & 447 & 598\\\\\n",
       "\t1989 & 467 & 439 & 446 & 567\\\\\n",
       "\t1990 & 485 & 441 & 429 & 599\\\\\n",
       "\t1991 & 464 & 424 & 436 & 574\\\\\n",
       "\t1992 & 443 & 410 & 420 & 532\\\\\n",
       "\t1993 & 433 & 421 & 410 & 512\\\\\n",
       "\t1994 & 449 & 381 & 423 & 531\\\\\n",
       "\t1995 & 426 & 408 & 416 & 520\\\\\n",
       "\t1996 & 409 & 398 & 398 & 507\\\\\n",
       "\t1997 & 432 & 398 & 406 & 526\\\\\n",
       "\t1998 & 428 & 397 & 403 & 517\\\\\n",
       "\t1999 & 435 & 383 & 424 & 521\\\\\n",
       "\t2000 & 421 & 402 & 414 & 500\\\\\n",
       "\t2001 & 451 & 380 & 416 & 492\\\\\n",
       "\t2002 & 428 & 408 & 406 & 506\\\\\n",
       "\t2003 & 435 & 380 & 421 & 490\\\\\n",
       "\t2004 & 435 & 390 & 412 & 454\\\\\n",
       "\t2005 & 416 & 403 & 408 & 482\\\\\n",
       "\t2006 & 438 & 386 & 405 & 491\\\\\n",
       "\t2007 & 427 & 383 & 394 & 473\\\\\n",
       "\t2008 & 420 & 390 & 410 & 488\\\\\n",
       "\t2009 & 415 & 398 & 419 & 488\\\\\n",
       "\t2010 & 414 & 374 &     &    \\\\\n",
       "\\end{tabular}\n"
      ],
      "text/markdown": [
       "\n",
       "A Time Series: 55 × 4\n",
       "\n",
       "| <!--/--> | Qtr1 | Qtr2 | Qtr3 | Qtr4 |\n",
       "|---|---|---|---|---|\n",
       "| 1956 | 284 | 213 | 227 | 308 |\n",
       "| 1957 | 262 | 228 | 236 | 320 |\n",
       "| 1958 | 272 | 233 | 237 | 313 |\n",
       "| 1959 | 261 | 227 | 250 | 314 |\n",
       "| 1960 | 286 | 227 | 260 | 311 |\n",
       "| 1961 | 295 | 233 | 257 | 339 |\n",
       "| 1962 | 279 | 250 | 270 | 346 |\n",
       "| 1963 | 294 | 255 | 278 | 363 |\n",
       "| 1964 | 313 | 273 | 300 | 370 |\n",
       "| 1965 | 331 | 288 | 306 | 386 |\n",
       "| 1966 | 335 | 288 | 308 | 402 |\n",
       "| 1967 | 353 | 316 | 325 | 405 |\n",
       "| 1968 | 393 | 319 | 327 | 442 |\n",
       "| 1969 | 383 | 332 | 361 | 446 |\n",
       "| 1970 | 387 | 357 | 374 | 466 |\n",
       "| 1971 | 410 | 370 | 379 | 487 |\n",
       "| 1972 | 419 | 378 | 393 | 506 |\n",
       "| 1973 | 458 | 387 | 427 | 565 |\n",
       "| 1974 | 465 | 445 | 450 | 556 |\n",
       "| 1975 | 500 | 452 | 435 | 554 |\n",
       "| 1976 | 510 | 433 | 453 | 548 |\n",
       "| 1977 | 486 | 453 | 457 | 566 |\n",
       "| 1978 | 515 | 464 | 431 | 588 |\n",
       "| 1979 | 503 | 443 | 448 | 555 |\n",
       "| 1980 | 513 | 427 | 473 | 526 |\n",
       "| 1981 | 548 | 440 | 469 | 575 |\n",
       "| 1982 | 493 | 433 | 480 | 576 |\n",
       "| 1983 | 475 | 405 | 435 | 535 |\n",
       "| 1984 | 453 | 430 | 417 | 552 |\n",
       "| 1985 | 464 | 417 | 423 | 554 |\n",
       "| 1986 | 459 | 428 | 429 | 534 |\n",
       "| 1987 | 481 | 416 | 440 | 538 |\n",
       "| 1988 | 474 | 440 | 447 | 598 |\n",
       "| 1989 | 467 | 439 | 446 | 567 |\n",
       "| 1990 | 485 | 441 | 429 | 599 |\n",
       "| 1991 | 464 | 424 | 436 | 574 |\n",
       "| 1992 | 443 | 410 | 420 | 532 |\n",
       "| 1993 | 433 | 421 | 410 | 512 |\n",
       "| 1994 | 449 | 381 | 423 | 531 |\n",
       "| 1995 | 426 | 408 | 416 | 520 |\n",
       "| 1996 | 409 | 398 | 398 | 507 |\n",
       "| 1997 | 432 | 398 | 406 | 526 |\n",
       "| 1998 | 428 | 397 | 403 | 517 |\n",
       "| 1999 | 435 | 383 | 424 | 521 |\n",
       "| 2000 | 421 | 402 | 414 | 500 |\n",
       "| 2001 | 451 | 380 | 416 | 492 |\n",
       "| 2002 | 428 | 408 | 406 | 506 |\n",
       "| 2003 | 435 | 380 | 421 | 490 |\n",
       "| 2004 | 435 | 390 | 412 | 454 |\n",
       "| 2005 | 416 | 403 | 408 | 482 |\n",
       "| 2006 | 438 | 386 | 405 | 491 |\n",
       "| 2007 | 427 | 383 | 394 | 473 |\n",
       "| 2008 | 420 | 390 | 410 | 488 |\n",
       "| 2009 | 415 | 398 | 419 | 488 |\n",
       "| 2010 | 414 | 374 | <!----> | <!----> |\n",
       "\n"
      ],
      "text/plain": [
       "     Qtr1 Qtr2 Qtr3 Qtr4\n",
       "1956 284  213  227  308 \n",
       "1957 262  228  236  320 \n",
       "1958 272  233  237  313 \n",
       "1959 261  227  250  314 \n",
       "1960 286  227  260  311 \n",
       "1961 295  233  257  339 \n",
       "1962 279  250  270  346 \n",
       "1963 294  255  278  363 \n",
       "1964 313  273  300  370 \n",
       "1965 331  288  306  386 \n",
       "1966 335  288  308  402 \n",
       "1967 353  316  325  405 \n",
       "1968 393  319  327  442 \n",
       "1969 383  332  361  446 \n",
       "1970 387  357  374  466 \n",
       "1971 410  370  379  487 \n",
       "1972 419  378  393  506 \n",
       "1973 458  387  427  565 \n",
       "1974 465  445  450  556 \n",
       "1975 500  452  435  554 \n",
       "1976 510  433  453  548 \n",
       "1977 486  453  457  566 \n",
       "1978 515  464  431  588 \n",
       "1979 503  443  448  555 \n",
       "1980 513  427  473  526 \n",
       "1981 548  440  469  575 \n",
       "1982 493  433  480  576 \n",
       "1983 475  405  435  535 \n",
       "1984 453  430  417  552 \n",
       "1985 464  417  423  554 \n",
       "1986 459  428  429  534 \n",
       "1987 481  416  440  538 \n",
       "1988 474  440  447  598 \n",
       "1989 467  439  446  567 \n",
       "1990 485  441  429  599 \n",
       "1991 464  424  436  574 \n",
       "1992 443  410  420  532 \n",
       "1993 433  421  410  512 \n",
       "1994 449  381  423  531 \n",
       "1995 426  408  416  520 \n",
       "1996 409  398  398  507 \n",
       "1997 432  398  406  526 \n",
       "1998 428  397  403  517 \n",
       "1999 435  383  424  521 \n",
       "2000 421  402  414  500 \n",
       "2001 451  380  416  492 \n",
       "2002 428  408  406  506 \n",
       "2003 435  380  421  490 \n",
       "2004 435  390  412  454 \n",
       "2005 416  403  408  482 \n",
       "2006 438  386  405  491 \n",
       "2007 427  383  394  473 \n",
       "2008 420  390  410  488 \n",
       "2009 415  398  419  488 \n",
       "2010 414  374           "
      ]
     },
     "metadata": {},
     "output_type": "display_data"
    }
   ],
   "source": [
    "ausbeer"
   ]
  },
  {
   "cell_type": "code",
   "execution_count": 22,
   "metadata": {},
   "outputs": [
    {
     "data": {
      "image/png": "[encoded data removed]",
      "text/plain": [
       "plot without title"
      ]
     },
     "metadata": {
      "image/png": {
       "height": 420,
       "width": 420
      }
     },
     "output_type": "display_data"
    }
   ],
   "source": [
    "plot(ausbeer)"
   ]
  },
  {
   "cell_type": "code",
   "execution_count": 24,
   "metadata": {
    "scrolled": true
   },
   "outputs": [
    {
     "data": {
      "text/html": [
       "<table>\n",
       "<caption>A Time Series: 51 × 4</caption>\n",
       "<thead>\n",
       "\t<tr><th></th><th scope=col>Qtr1</th><th scope=col>Qtr2</th><th scope=col>Qtr3</th><th scope=col>Qtr4</th></tr>\n",
       "</thead>\n",
       "<tbody>\n",
       "\t<tr><th scope=row>1956</th><td>284</td><td>213</td><td>227</td><td>308</td></tr>\n",
       "\t<tr><th scope=row>1957</th><td>262</td><td>228</td><td>236</td><td>320</td></tr>\n",
       "\t<tr><th scope=row>1958</th><td>272</td><td>233</td><td>237</td><td>313</td></tr>\n",
       "\t<tr><th scope=row>1959</th><td>261</td><td>227</td><td>250</td><td>314</td></tr>\n",
       "\t<tr><th scope=row>1960</th><td>286</td><td>227</td><td>260</td><td>311</td></tr>\n",
       "\t<tr><th scope=row>1961</th><td>295</td><td>233</td><td>257</td><td>339</td></tr>\n",
       "\t<tr><th scope=row>1962</th><td>279</td><td>250</td><td>270</td><td>346</td></tr>\n",
       "\t<tr><th scope=row>1963</th><td>294</td><td>255</td><td>278</td><td>363</td></tr>\n",
       "\t<tr><th scope=row>1964</th><td>313</td><td>273</td><td>300</td><td>370</td></tr>\n",
       "\t<tr><th scope=row>1965</th><td>331</td><td>288</td><td>306</td><td>386</td></tr>\n",
       "\t<tr><th scope=row>1966</th><td>335</td><td>288</td><td>308</td><td>402</td></tr>\n",
       "\t<tr><th scope=row>1967</th><td>353</td><td>316</td><td>325</td><td>405</td></tr>\n",
       "\t<tr><th scope=row>1968</th><td>393</td><td>319</td><td>327</td><td>442</td></tr>\n",
       "\t<tr><th scope=row>1969</th><td>383</td><td>332</td><td>361</td><td>446</td></tr>\n",
       "\t<tr><th scope=row>1970</th><td>387</td><td>357</td><td>374</td><td>466</td></tr>\n",
       "\t<tr><th scope=row>1971</th><td>410</td><td>370</td><td>379</td><td>487</td></tr>\n",
       "\t<tr><th scope=row>1972</th><td>419</td><td>378</td><td>393</td><td>506</td></tr>\n",
       "\t<tr><th scope=row>1973</th><td>458</td><td>387</td><td>427</td><td>565</td></tr>\n",
       "\t<tr><th scope=row>1974</th><td>465</td><td>445</td><td>450</td><td>556</td></tr>\n",
       "\t<tr><th scope=row>1975</th><td>500</td><td>452</td><td>435</td><td>554</td></tr>\n",
       "\t<tr><th scope=row>1976</th><td>510</td><td>433</td><td>453</td><td>548</td></tr>\n",
       "\t<tr><th scope=row>1977</th><td>486</td><td>453</td><td>457</td><td>566</td></tr>\n",
       "\t<tr><th scope=row>1978</th><td>515</td><td>464</td><td>431</td><td>588</td></tr>\n",
       "\t<tr><th scope=row>1979</th><td>503</td><td>443</td><td>448</td><td>555</td></tr>\n",
       "\t<tr><th scope=row>1980</th><td>513</td><td>427</td><td>473</td><td>526</td></tr>\n",
       "\t<tr><th scope=row>1981</th><td>548</td><td>440</td><td>469</td><td>575</td></tr>\n",
       "\t<tr><th scope=row>1982</th><td>493</td><td>433</td><td>480</td><td>576</td></tr>\n",
       "\t<tr><th scope=row>1983</th><td>475</td><td>405</td><td>435</td><td>535</td></tr>\n",
       "\t<tr><th scope=row>1984</th><td>453</td><td>430</td><td>417</td><td>552</td></tr>\n",
       "\t<tr><th scope=row>1985</th><td>464</td><td>417</td><td>423</td><td>554</td></tr>\n",
       "\t<tr><th scope=row>1986</th><td>459</td><td>428</td><td>429</td><td>534</td></tr>\n",
       "\t<tr><th scope=row>1987</th><td>481</td><td>416</td><td>440</td><td>538</td></tr>\n",
       "\t<tr><th scope=row>1988</th><td>474</td><td>440</td><td>447</td><td>598</td></tr>\n",
       "\t<tr><th scope=row>1989</th><td>467</td><td>439</td><td>446</td><td>567</td></tr>\n",
       "\t<tr><th scope=row>1990</th><td>485</td><td>441</td><td>429</td><td>599</td></tr>\n",
       "\t<tr><th scope=row>1991</th><td>464</td><td>424</td><td>436</td><td>574</td></tr>\n",
       "\t<tr><th scope=row>1992</th><td>443</td><td>410</td><td>420</td><td>532</td></tr>\n",
       "\t<tr><th scope=row>1993</th><td>433</td><td>421</td><td>410</td><td>512</td></tr>\n",
       "\t<tr><th scope=row>1994</th><td>449</td><td>381</td><td>423</td><td>531</td></tr>\n",
       "\t<tr><th scope=row>1995</th><td>426</td><td>408</td><td>416</td><td>520</td></tr>\n",
       "\t<tr><th scope=row>1996</th><td>409</td><td>398</td><td>398</td><td>507</td></tr>\n",
       "\t<tr><th scope=row>1997</th><td>432</td><td>398</td><td>406</td><td>526</td></tr>\n",
       "\t<tr><th scope=row>1998</th><td>428</td><td>397</td><td>403</td><td>517</td></tr>\n",
       "\t<tr><th scope=row>1999</th><td>435</td><td>383</td><td>424</td><td>521</td></tr>\n",
       "\t<tr><th scope=row>2000</th><td>421</td><td>402</td><td>414</td><td>500</td></tr>\n",
       "\t<tr><th scope=row>2001</th><td>451</td><td>380</td><td>416</td><td>492</td></tr>\n",
       "\t<tr><th scope=row>2002</th><td>428</td><td>408</td><td>406</td><td>506</td></tr>\n",
       "\t<tr><th scope=row>2003</th><td>435</td><td>380</td><td>421</td><td>490</td></tr>\n",
       "\t<tr><th scope=row>2004</th><td>435</td><td>390</td><td>412</td><td>454</td></tr>\n",
       "\t<tr><th scope=row>2005</th><td>416</td><td>403</td><td>408</td><td>482</td></tr>\n",
       "\t<tr><th scope=row>2006</th><td>438</td><td>386</td><td>405</td><td>491</td></tr>\n",
       "</tbody>\n",
       "</table>\n"
      ],
      "text/latex": [
       "A Time Series: 51 × 4\n",
       "\\begin{tabular}{r|llll}\n",
       "  & Qtr1 & Qtr2 & Qtr3 & Qtr4\\\\\n",
       "\\hline\n",
       "\t1956 & 284 & 213 & 227 & 308\\\\\n",
       "\t1957 & 262 & 228 & 236 & 320\\\\\n",
       "\t1958 & 272 & 233 & 237 & 313\\\\\n",
       "\t1959 & 261 & 227 & 250 & 314\\\\\n",
       "\t1960 & 286 & 227 & 260 & 311\\\\\n",
       "\t1961 & 295 & 233 & 257 & 339\\\\\n",
       "\t1962 & 279 & 250 & 270 & 346\\\\\n",
       "\t1963 & 294 & 255 & 278 & 363\\\\\n",
       "\t1964 & 313 & 273 & 300 & 370\\\\\n",
       "\t1965 & 331 & 288 & 306 & 386\\\\\n",
       "\t1966 & 335 & 288 & 308 & 402\\\\\n",
       "\t1967 & 353 & 316 & 325 & 405\\\\\n",
       "\t1968 & 393 & 319 & 327 & 442\\\\\n",
       "\t1969 & 383 & 332 & 361 & 446\\\\\n",
       "\t1970 & 387 & 357 & 374 & 466\\\\\n",
       "\t1971 & 410 & 370 & 379 & 487\\\\\n",
       "\t1972 & 419 & 378 & 393 & 506\\\\\n",
       "\t1973 & 458 & 387 & 427 & 565\\\\\n",
       "\t1974 & 465 & 445 & 450 & 556\\\\\n",
       "\t1975 & 500 & 452 & 435 & 554\\\\\n",
       "\t1976 & 510 & 433 & 453 & 548\\\\\n",
       "\t1977 & 486 & 453 & 457 & 566\\\\\n",
       "\t1978 & 515 & 464 & 431 & 588\\\\\n",
       "\t1979 & 503 & 443 & 448 & 555\\\\\n",
       "\t1980 & 513 & 427 & 473 & 526\\\\\n",
       "\t1981 & 548 & 440 & 469 & 575\\\\\n",
       "\t1982 & 493 & 433 & 480 & 576\\\\\n",
       "\t1983 & 475 & 405 & 435 & 535\\\\\n",
       "\t1984 & 453 & 430 & 417 & 552\\\\\n",
       "\t1985 & 464 & 417 & 423 & 554\\\\\n",
       "\t1986 & 459 & 428 & 429 & 534\\\\\n",
       "\t1987 & 481 & 416 & 440 & 538\\\\\n",
       "\t1988 & 474 & 440 & 447 & 598\\\\\n",
       "\t1989 & 467 & 439 & 446 & 567\\\\\n",
       "\t1990 & 485 & 441 & 429 & 599\\\\\n",
       "\t1991 & 464 & 424 & 436 & 574\\\\\n",
       "\t1992 & 443 & 410 & 420 & 532\\\\\n",
       "\t1993 & 433 & 421 & 410 & 512\\\\\n",
       "\t1994 & 449 & 381 & 423 & 531\\\\\n",
       "\t1995 & 426 & 408 & 416 & 520\\\\\n",
       "\t1996 & 409 & 398 & 398 & 507\\\\\n",
       "\t1997 & 432 & 398 & 406 & 526\\\\\n",
       "\t1998 & 428 & 397 & 403 & 517\\\\\n",
       "\t1999 & 435 & 383 & 424 & 521\\\\\n",
       "\t2000 & 421 & 402 & 414 & 500\\\\\n",
       "\t2001 & 451 & 380 & 416 & 492\\\\\n",
       "\t2002 & 428 & 408 & 406 & 506\\\\\n",
       "\t2003 & 435 & 380 & 421 & 490\\\\\n",
       "\t2004 & 435 & 390 & 412 & 454\\\\\n",
       "\t2005 & 416 & 403 & 408 & 482\\\\\n",
       "\t2006 & 438 & 386 & 405 & 491\\\\\n",
       "\\end{tabular}\n"
      ],
      "text/markdown": [
       "\n",
       "A Time Series: 51 × 4\n",
       "\n",
       "| <!--/--> | Qtr1 | Qtr2 | Qtr3 | Qtr4 |\n",
       "|---|---|---|---|---|\n",
       "| 1956 | 284 | 213 | 227 | 308 |\n",
       "| 1957 | 262 | 228 | 236 | 320 |\n",
       "| 1958 | 272 | 233 | 237 | 313 |\n",
       "| 1959 | 261 | 227 | 250 | 314 |\n",
       "| 1960 | 286 | 227 | 260 | 311 |\n",
       "| 1961 | 295 | 233 | 257 | 339 |\n",
       "| 1962 | 279 | 250 | 270 | 346 |\n",
       "| 1963 | 294 | 255 | 278 | 363 |\n",
       "| 1964 | 313 | 273 | 300 | 370 |\n",
       "| 1965 | 331 | 288 | 306 | 386 |\n",
       "| 1966 | 335 | 288 | 308 | 402 |\n",
       "| 1967 | 353 | 316 | 325 | 405 |\n",
       "| 1968 | 393 | 319 | 327 | 442 |\n",
       "| 1969 | 383 | 332 | 361 | 446 |\n",
       "| 1970 | 387 | 357 | 374 | 466 |\n",
       "| 1971 | 410 | 370 | 379 | 487 |\n",
       "| 1972 | 419 | 378 | 393 | 506 |\n",
       "| 1973 | 458 | 387 | 427 | 565 |\n",
       "| 1974 | 465 | 445 | 450 | 556 |\n",
       "| 1975 | 500 | 452 | 435 | 554 |\n",
       "| 1976 | 510 | 433 | 453 | 548 |\n",
       "| 1977 | 486 | 453 | 457 | 566 |\n",
       "| 1978 | 515 | 464 | 431 | 588 |\n",
       "| 1979 | 503 | 443 | 448 | 555 |\n",
       "| 1980 | 513 | 427 | 473 | 526 |\n",
       "| 1981 | 548 | 440 | 469 | 575 |\n",
       "| 1982 | 493 | 433 | 480 | 576 |\n",
       "| 1983 | 475 | 405 | 435 | 535 |\n",
       "| 1984 | 453 | 430 | 417 | 552 |\n",
       "| 1985 | 464 | 417 | 423 | 554 |\n",
       "| 1986 | 459 | 428 | 429 | 534 |\n",
       "| 1987 | 481 | 416 | 440 | 538 |\n",
       "| 1988 | 474 | 440 | 447 | 598 |\n",
       "| 1989 | 467 | 439 | 446 | 567 |\n",
       "| 1990 | 485 | 441 | 429 | 599 |\n",
       "| 1991 | 464 | 424 | 436 | 574 |\n",
       "| 1992 | 443 | 410 | 420 | 532 |\n",
       "| 1993 | 433 | 421 | 410 | 512 |\n",
       "| 1994 | 449 | 381 | 423 | 531 |\n",
       "| 1995 | 426 | 408 | 416 | 520 |\n",
       "| 1996 | 409 | 398 | 398 | 507 |\n",
       "| 1997 | 432 | 398 | 406 | 526 |\n",
       "| 1998 | 428 | 397 | 403 | 517 |\n",
       "| 1999 | 435 | 383 | 424 | 521 |\n",
       "| 2000 | 421 | 402 | 414 | 500 |\n",
       "| 2001 | 451 | 380 | 416 | 492 |\n",
       "| 2002 | 428 | 408 | 406 | 506 |\n",
       "| 2003 | 435 | 380 | 421 | 490 |\n",
       "| 2004 | 435 | 390 | 412 | 454 |\n",
       "| 2005 | 416 | 403 | 408 | 482 |\n",
       "| 2006 | 438 | 386 | 405 | 491 |\n",
       "\n"
      ],
      "text/plain": [
       "     Qtr1 Qtr2 Qtr3 Qtr4\n",
       "1956 284  213  227  308 \n",
       "1957 262  228  236  320 \n",
       "1958 272  233  237  313 \n",
       "1959 261  227  250  314 \n",
       "1960 286  227  260  311 \n",
       "1961 295  233  257  339 \n",
       "1962 279  250  270  346 \n",
       "1963 294  255  278  363 \n",
       "1964 313  273  300  370 \n",
       "1965 331  288  306  386 \n",
       "1966 335  288  308  402 \n",
       "1967 353  316  325  405 \n",
       "1968 393  319  327  442 \n",
       "1969 383  332  361  446 \n",
       "1970 387  357  374  466 \n",
       "1971 410  370  379  487 \n",
       "1972 419  378  393  506 \n",
       "1973 458  387  427  565 \n",
       "1974 465  445  450  556 \n",
       "1975 500  452  435  554 \n",
       "1976 510  433  453  548 \n",
       "1977 486  453  457  566 \n",
       "1978 515  464  431  588 \n",
       "1979 503  443  448  555 \n",
       "1980 513  427  473  526 \n",
       "1981 548  440  469  575 \n",
       "1982 493  433  480  576 \n",
       "1983 475  405  435  535 \n",
       "1984 453  430  417  552 \n",
       "1985 464  417  423  554 \n",
       "1986 459  428  429  534 \n",
       "1987 481  416  440  538 \n",
       "1988 474  440  447  598 \n",
       "1989 467  439  446  567 \n",
       "1990 485  441  429  599 \n",
       "1991 464  424  436  574 \n",
       "1992 443  410  420  532 \n",
       "1993 433  421  410  512 \n",
       "1994 449  381  423  531 \n",
       "1995 426  408  416  520 \n",
       "1996 409  398  398  507 \n",
       "1997 432  398  406  526 \n",
       "1998 428  397  403  517 \n",
       "1999 435  383  424  521 \n",
       "2000 421  402  414  500 \n",
       "2001 451  380  416  492 \n",
       "2002 428  408  406  506 \n",
       "2003 435  380  421  490 \n",
       "2004 435  390  412  454 \n",
       "2005 416  403  408  482 \n",
       "2006 438  386  405  491 "
      ]
     },
     "metadata": {},
     "output_type": "display_data"
    }
   ],
   "source": [
    "beer_train<-window(ausbeer, start=c(1956,1), end=c(2006,4))\n",
    "beer_train"
   ]
  },
  {
   "cell_type": "code",
   "execution_count": 26,
   "metadata": {},
   "outputs": [],
   "source": [
    "# average method :과거의 데이터의 평균값으로 미래값 하나로 예측\n",
    "for_mean<-meanf(beer_train, h=14)\n",
    "# naive method : 주어진 마지막 데이터로 미래값 하나로 예측\n",
    "for_naive<-naive(beer_train, h=14)\n",
    "# seasonal naive method : 이전 계절값들 이용\n",
    "for_snaive<-snaive(beer_train, h=14)\n",
    "# Drift method : 데이터의 처음과 마지막 관찰값을 직선으로 연결\n",
    "for_drift<-rwf(beer_train, drift=TRUE, h=14)\n",
    "# Drift= False이면 naive method(마지막 데이터로 미래값 하나로예측하는 것과 똑같음)\n",
    "for_drift_f<-rwf(beer_train, drift=FALSE, h=14)\n"
   ]
  },
  {
   "cell_type": "code",
   "execution_count": 28,
   "metadata": {},
   "outputs": [
    {
     "data": {
      "image/png": "[encoded data removed]",
      "text/plain": [
       "plot without title"
      ]
     },
     "metadata": {
      "image/png": {
       "height": 420,
       "width": 420
      }
     },
     "output_type": "display_data"
    }
   ],
   "source": [
    "autoplot(beer_train)+\n",
    "autolayer(for_mean, series='mean', PI=FALSE)+\n",
    "autolayer(for_naive, series='naive', PI=FALSE)+\n",
    "autolayer(for_snaive, series='snavie', PI=FALSE)+\n",
    "autolayer(for_drift, series='drift', PI=FALSE)\n"
   ]
  },
  {
   "cell_type": "code",
   "execution_count": 29,
   "metadata": {},
   "outputs": [
    {
     "data": {
      "text/html": [
       "<table>\n",
       "<caption>A Time Series: 4 × 4</caption>\n",
       "<thead>\n",
       "\t<tr><th></th><th scope=col>Qtr1</th><th scope=col>Qtr2</th><th scope=col>Qtr3</th><th scope=col>Qtr4</th></tr>\n",
       "</thead>\n",
       "<tbody>\n",
       "\t<tr><th scope=row>2007</th><td>427</td><td>383</td><td>394</td><td>473</td></tr>\n",
       "\t<tr><th scope=row>2008</th><td>420</td><td>390</td><td>410</td><td>488</td></tr>\n",
       "\t<tr><th scope=row>2009</th><td>415</td><td>398</td><td>419</td><td>488</td></tr>\n",
       "\t<tr><th scope=row>2010</th><td>414</td><td>374</td><td>   </td><td>   </td></tr>\n",
       "</tbody>\n",
       "</table>\n"
      ],
      "text/latex": [
       "A Time Series: 4 × 4\n",
       "\\begin{tabular}{r|llll}\n",
       "  & Qtr1 & Qtr2 & Qtr3 & Qtr4\\\\\n",
       "\\hline\n",
       "\t2007 & 427 & 383 & 394 & 473\\\\\n",
       "\t2008 & 420 & 390 & 410 & 488\\\\\n",
       "\t2009 & 415 & 398 & 419 & 488\\\\\n",
       "\t2010 & 414 & 374 &     &    \\\\\n",
       "\\end{tabular}\n"
      ],
      "text/markdown": [
       "\n",
       "A Time Series: 4 × 4\n",
       "\n",
       "| <!--/--> | Qtr1 | Qtr2 | Qtr3 | Qtr4 |\n",
       "|---|---|---|---|---|\n",
       "| 2007 | 427 | 383 | 394 | 473 |\n",
       "| 2008 | 420 | 390 | 410 | 488 |\n",
       "| 2009 | 415 | 398 | 419 | 488 |\n",
       "| 2010 | 414 | 374 | <!----> | <!----> |\n",
       "\n"
      ],
      "text/plain": [
       "     Qtr1 Qtr2 Qtr3 Qtr4\n",
       "2007 427  383  394  473 \n",
       "2008 420  390  410  488 \n",
       "2009 415  398  419  488 \n",
       "2010 414  374           "
      ]
     },
     "metadata": {},
     "output_type": "display_data"
    }
   ],
   "source": [
    "beer_test<-window(ausbeer, start=c(2007,1))\n",
    "beer_test"
   ]
  },
  {
   "cell_type": "code",
   "execution_count": 31,
   "metadata": {},
   "outputs": [
    {
     "data": {
      "text/html": [
       "<table>\n",
       "<caption>A matrix: 2 × 8 of type dbl</caption>\n",
       "<thead>\n",
       "\t<tr><th></th><th scope=col>ME</th><th scope=col>RMSE</th><th scope=col>MAE</th><th scope=col>MPE</th><th scope=col>MAPE</th><th scope=col>MASE</th><th scope=col>ACF1</th><th scope=col>Theil's U</th></tr>\n",
       "</thead>\n",
       "<tbody>\n",
       "\t<tr><th scope=row>Training set</th><td>-8.938622e-15</td><td>88.06799</td><td>68.06017</td><td>-5.5088469</td><td>18.817320</td><td>4.275136</td><td> 0.6914980</td><td>       NA</td></tr>\n",
       "\t<tr><th scope=row>Test set</th><td> 5.938375e+00</td><td>36.14912</td><td>26.21429</td><td> 0.7412982</td><td> 5.994566</td><td>1.646626</td><td>-0.0849477</td><td>0.7445247</td></tr>\n",
       "</tbody>\n",
       "</table>\n"
      ],
      "text/latex": [
       "A matrix: 2 × 8 of type dbl\n",
       "\\begin{tabular}{r|llllllll}\n",
       "  & ME & RMSE & MAE & MPE & MAPE & MASE & ACF1 & Theil's U\\\\\n",
       "\\hline\n",
       "\tTraining set & -8.938622e-15 & 88.06799 & 68.06017 & -5.5088469 & 18.817320 & 4.275136 &  0.6914980 &        NA\\\\\n",
       "\tTest set &  5.938375e+00 & 36.14912 & 26.21429 &  0.7412982 &  5.994566 & 1.646626 & -0.0849477 & 0.7445247\\\\\n",
       "\\end{tabular}\n"
      ],
      "text/markdown": [
       "\n",
       "A matrix: 2 × 8 of type dbl\n",
       "\n",
       "| <!--/--> | ME | RMSE | MAE | MPE | MAPE | MASE | ACF1 | Theil's U |\n",
       "|---|---|---|---|---|---|---|---|---|\n",
       "| Training set | -8.938622e-15 | 88.06799 | 68.06017 | -5.5088469 | 18.817320 | 4.275136 |  0.6914980 |        NA |\n",
       "| Test set |  5.938375e+00 | 36.14912 | 26.21429 |  0.7412982 |  5.994566 | 1.646626 | -0.0849477 | 0.7445247 |\n",
       "\n"
      ],
      "text/plain": [
       "             ME            RMSE     MAE      MPE        MAPE      MASE    \n",
       "Training set -8.938622e-15 88.06799 68.06017 -5.5088469 18.817320 4.275136\n",
       "Test set      5.938375e+00 36.14912 26.21429  0.7412982  5.994566 1.646626\n",
       "             ACF1       Theil's U\n",
       "Training set  0.6914980        NA\n",
       "Test set     -0.0849477 0.7445247"
      ]
     },
     "metadata": {},
     "output_type": "display_data"
    },
    {
     "data": {
      "text/html": [
       "<table>\n",
       "<caption>A matrix: 2 × 8 of type dbl</caption>\n",
       "<thead>\n",
       "\t<tr><th></th><th scope=col>ME</th><th scope=col>RMSE</th><th scope=col>MAE</th><th scope=col>MPE</th><th scope=col>MAPE</th><th scope=col>MASE</th><th scope=col>ACF1</th><th scope=col>Theil's U</th></tr>\n",
       "</thead>\n",
       "<tbody>\n",
       "\t<tr><th scope=row>Training set</th><td>  1.019704</td><td>68.52776</td><td>57.36453</td><td> -0.972654</td><td>13.54921</td><td>3.603300</td><td>-0.2210823</td><td>      NA</td></tr>\n",
       "\t<tr><th scope=row>Test set</th><td>-70.071429</td><td>78.62252</td><td>70.07143</td><td>-17.438973</td><td>17.43897</td><td>4.401472</td><td>-0.0849477</td><td>1.547821</td></tr>\n",
       "</tbody>\n",
       "</table>\n"
      ],
      "text/latex": [
       "A matrix: 2 × 8 of type dbl\n",
       "\\begin{tabular}{r|llllllll}\n",
       "  & ME & RMSE & MAE & MPE & MAPE & MASE & ACF1 & Theil's U\\\\\n",
       "\\hline\n",
       "\tTraining set &   1.019704 & 68.52776 & 57.36453 &  -0.972654 & 13.54921 & 3.603300 & -0.2210823 &       NA\\\\\n",
       "\tTest set & -70.071429 & 78.62252 & 70.07143 & -17.438973 & 17.43897 & 4.401472 & -0.0849477 & 1.547821\\\\\n",
       "\\end{tabular}\n"
      ],
      "text/markdown": [
       "\n",
       "A matrix: 2 × 8 of type dbl\n",
       "\n",
       "| <!--/--> | ME | RMSE | MAE | MPE | MAPE | MASE | ACF1 | Theil's U |\n",
       "|---|---|---|---|---|---|---|---|---|\n",
       "| Training set |   1.019704 | 68.52776 | 57.36453 |  -0.972654 | 13.54921 | 3.603300 | -0.2210823 |       NA |\n",
       "| Test set | -70.071429 | 78.62252 | 70.07143 | -17.438973 | 17.43897 | 4.401472 | -0.0849477 | 1.547821 |\n",
       "\n"
      ],
      "text/plain": [
       "             ME         RMSE     MAE      MPE        MAPE     MASE    \n",
       "Training set   1.019704 68.52776 57.36453  -0.972654 13.54921 3.603300\n",
       "Test set     -70.071429 78.62252 70.07143 -17.438973 17.43897 4.401472\n",
       "             ACF1       Theil's U\n",
       "Training set -0.2210823       NA \n",
       "Test set     -0.0849477 1.547821 "
      ]
     },
     "metadata": {},
     "output_type": "display_data"
    },
    {
     "data": {
      "text/html": [
       "<table>\n",
       "<caption>A matrix: 2 × 8 of type dbl</caption>\n",
       "<thead>\n",
       "\t<tr><th></th><th scope=col>ME</th><th scope=col>RMSE</th><th scope=col>MAE</th><th scope=col>MPE</th><th scope=col>MAPE</th><th scope=col>MASE</th><th scope=col>ACF1</th><th scope=col>Theil's U</th></tr>\n",
       "</thead>\n",
       "<tbody>\n",
       "\t<tr><th scope=row>Training set</th><td> 3.44</td><td>19.75171</td><td>15.92</td><td> 0.9302419</td><td>3.792287</td><td>1.0000000</td><td>0.0007894127</td><td>       NA</td></tr>\n",
       "\t<tr><th scope=row>Test set</th><td>-6.50</td><td>13.48809</td><td>11.50</td><td>-1.5298792</td><td>2.758667</td><td>0.7223618</td><td>0.1614676553</td><td>0.2517655</td></tr>\n",
       "</tbody>\n",
       "</table>\n"
      ],
      "text/latex": [
       "A matrix: 2 × 8 of type dbl\n",
       "\\begin{tabular}{r|llllllll}\n",
       "  & ME & RMSE & MAE & MPE & MAPE & MASE & ACF1 & Theil's U\\\\\n",
       "\\hline\n",
       "\tTraining set &  3.44 & 19.75171 & 15.92 &  0.9302419 & 3.792287 & 1.0000000 & 0.0007894127 &        NA\\\\\n",
       "\tTest set & -6.50 & 13.48809 & 11.50 & -1.5298792 & 2.758667 & 0.7223618 & 0.1614676553 & 0.2517655\\\\\n",
       "\\end{tabular}\n"
      ],
      "text/markdown": [
       "\n",
       "A matrix: 2 × 8 of type dbl\n",
       "\n",
       "| <!--/--> | ME | RMSE | MAE | MPE | MAPE | MASE | ACF1 | Theil's U |\n",
       "|---|---|---|---|---|---|---|---|---|\n",
       "| Training set |  3.44 | 19.75171 | 15.92 |  0.9302419 | 3.792287 | 1.0000000 | 0.0007894127 |        NA |\n",
       "| Test set | -6.50 | 13.48809 | 11.50 | -1.5298792 | 2.758667 | 0.7223618 | 0.1614676553 | 0.2517655 |\n",
       "\n"
      ],
      "text/plain": [
       "             ME    RMSE     MAE   MPE        MAPE     MASE      ACF1        \n",
       "Training set  3.44 19.75171 15.92  0.9302419 3.792287 1.0000000 0.0007894127\n",
       "Test set     -6.50 13.48809 11.50 -1.5298792 2.758667 0.7223618 0.1614676553\n",
       "             Theil's U\n",
       "Training set        NA\n",
       "Test set     0.2517655"
      ]
     },
     "metadata": {},
     "output_type": "display_data"
    },
    {
     "data": {
      "text/html": [
       "<table>\n",
       "<caption>A matrix: 2 × 8 of type dbl</caption>\n",
       "<thead>\n",
       "\t<tr><th></th><th scope=col>ME</th><th scope=col>RMSE</th><th scope=col>MAE</th><th scope=col>MPE</th><th scope=col>MAPE</th><th scope=col>MASE</th><th scope=col>ACF1</th><th scope=col>Theil's U</th></tr>\n",
       "</thead>\n",
       "<tbody>\n",
       "\t<tr><th scope=row>Training set</th><td>-1.918211e-14</td><td>68.52018</td><td>57.41998</td><td> -1.231416</td><td>13.57492</td><td>3.606783</td><td>-0.2210823</td><td>      NA</td></tr>\n",
       "\t<tr><th scope=row>Test set</th><td>-7.771921e+01</td><td>85.53827</td><td>77.71921</td><td>-19.266286</td><td>19.26629</td><td>4.881860</td><td>-0.1061944</td><td>1.686005</td></tr>\n",
       "</tbody>\n",
       "</table>\n"
      ],
      "text/latex": [
       "A matrix: 2 × 8 of type dbl\n",
       "\\begin{tabular}{r|llllllll}\n",
       "  & ME & RMSE & MAE & MPE & MAPE & MASE & ACF1 & Theil's U\\\\\n",
       "\\hline\n",
       "\tTraining set & -1.918211e-14 & 68.52018 & 57.41998 &  -1.231416 & 13.57492 & 3.606783 & -0.2210823 &       NA\\\\\n",
       "\tTest set & -7.771921e+01 & 85.53827 & 77.71921 & -19.266286 & 19.26629 & 4.881860 & -0.1061944 & 1.686005\\\\\n",
       "\\end{tabular}\n"
      ],
      "text/markdown": [
       "\n",
       "A matrix: 2 × 8 of type dbl\n",
       "\n",
       "| <!--/--> | ME | RMSE | MAE | MPE | MAPE | MASE | ACF1 | Theil's U |\n",
       "|---|---|---|---|---|---|---|---|---|\n",
       "| Training set | -1.918211e-14 | 68.52018 | 57.41998 |  -1.231416 | 13.57492 | 3.606783 | -0.2210823 |       NA |\n",
       "| Test set | -7.771921e+01 | 85.53827 | 77.71921 | -19.266286 | 19.26629 | 4.881860 | -0.1061944 | 1.686005 |\n",
       "\n"
      ],
      "text/plain": [
       "             ME            RMSE     MAE      MPE        MAPE     MASE    \n",
       "Training set -1.918211e-14 68.52018 57.41998  -1.231416 13.57492 3.606783\n",
       "Test set     -7.771921e+01 85.53827 77.71921 -19.266286 19.26629 4.881860\n",
       "             ACF1       Theil's U\n",
       "Training set -0.2210823       NA \n",
       "Test set     -0.1061944 1.686005 "
      ]
     },
     "metadata": {},
     "output_type": "display_data"
    }
   ],
   "source": [
    "accuracy(for_mean, beer_test)\n",
    "accuracy(for_naive, beer_test)\n",
    "accuracy(for_snaive, beer_test)\n",
    "accuracy(for_drift, beer_test)\n"
   ]
  },
  {
   "cell_type": "code",
   "execution_count": null,
   "metadata": {},
   "outputs": [],
   "source": []
  }
 ],
 "metadata": {
  "kernelspec": {
   "display_name": "R",
   "language": "R",
   "name": "ir"
  },
  "language_info": {
   "codemirror_mode": "r",
   "file_extension": ".r",
   "mimetype": "text/x-r-source",
   "name": "R",
   "pygments_lexer": "r",
   "version": "3.6.3"
  }
 },
 "nbformat": 4,
 "nbformat_minor": 4
}
