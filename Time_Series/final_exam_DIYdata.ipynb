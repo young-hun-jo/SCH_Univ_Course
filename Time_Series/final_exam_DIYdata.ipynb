{
 "cells": [
  {
   "cell_type": "code",
   "execution_count": 1,
   "metadata": {
    "scrolled": true
   },
   "outputs": [
    {
     "name": "stderr",
     "output_type": "stream",
     "text": [
      "Registered S3 method overwritten by 'quantmod':\n",
      "  method            from\n",
      "  as.zoo.data.frame zoo \n",
      "\n"
     ]
    },
    {
     "data": {
      "text/html": [
       "<table>\n",
       "<caption>A data.frame: 72 × 4</caption>\n",
       "<thead>\n",
       "\t<tr><th scope=col>data_1</th><th scope=col>data_2</th><th scope=col>data_3</th><th scope=col>data_4</th></tr>\n",
       "\t<tr><th scope=col>&lt;dbl&gt;</th><th scope=col>&lt;dbl&gt;</th><th scope=col>&lt;dbl&gt;</th><th scope=col>&lt;dbl&gt;</th></tr>\n",
       "</thead>\n",
       "<tbody>\n",
       "\t<tr><td>108.2</td><td>108.9</td><td>-1.31</td><td> 1.17</td></tr>\n",
       "\t<tr><td> 93.6</td><td>115.8</td><td> 1.49</td><td> 4.06</td></tr>\n",
       "\t<tr><td> 99.2</td><td>102.1</td><td>-2.24</td><td> 0.40</td></tr>\n",
       "\t<tr><td> 94.1</td><td>101.2</td><td> 4.08</td><td> 6.77</td></tr>\n",
       "\t<tr><td> 96.2</td><td> 98.7</td><td>-3.24</td><td>-0.48</td></tr>\n",
       "\t<tr><td>111.6</td><td> 87.4</td><td> 0.61</td><td> 3.41</td></tr>\n",
       "\t<tr><td> 94.7</td><td> 86.6</td><td> 0.39</td><td> 5.23</td></tr>\n",
       "\t<tr><td>110.5</td><td> 88.1</td><td> 0.07</td><td> 4.93</td></tr>\n",
       "\t<tr><td> 82.4</td><td>101.4</td><td>-0.35</td><td> 4.52</td></tr>\n",
       "\t<tr><td>113.6</td><td>113.2</td><td> 0.70</td><td> 5.58</td></tr>\n",
       "\t<tr><td> 79.7</td><td> 96.7</td><td>-0.83</td><td> 4.04</td></tr>\n",
       "\t<tr><td>111.8</td><td>102.1</td><td> 0.32</td><td> 5.18</td></tr>\n",
       "\t<tr><td> 92.4</td><td>108.6</td><td> 0.79</td><td> 5.62</td></tr>\n",
       "\t<tr><td>115.7</td><td>105.5</td><td>-1.31</td><td> 3.48</td></tr>\n",
       "\t<tr><td> 96.2</td><td>111.4</td><td> 1.18</td><td> 5.93</td></tr>\n",
       "\t<tr><td> 99.3</td><td>109.7</td><td>-0.80</td><td> 4.88</td></tr>\n",
       "\t<tr><td> 99.8</td><td>106.1</td><td>-0.72</td><td> 4.90</td></tr>\n",
       "\t<tr><td> 95.2</td><td>112.1</td><td>-1.14</td><td> 4.39</td></tr>\n",
       "\t<tr><td> 95.3</td><td>110.9</td><td> 4.01</td><td> 8.46</td></tr>\n",
       "\t<tr><td>107.5</td><td>110.0</td><td>-2.84</td><td> 1.51</td></tr>\n",
       "\t<tr><td> 99.8</td><td> 98.4</td><td> 2.51</td><td> 6.76</td></tr>\n",
       "\t<tr><td> 90.7</td><td> 97.3</td><td>-2.70</td><td> 1.44</td></tr>\n",
       "\t<tr><td>101.7</td><td>104.8</td><td> 1.13</td><td> 5.16</td></tr>\n",
       "\t<tr><td>107.5</td><td>111.3</td><td>-0.70</td><td> 3.21</td></tr>\n",
       "\t<tr><td> 91.0</td><td> 97.6</td><td> 3.39</td><td> 7.16</td></tr>\n",
       "\t<tr><td>113.7</td><td> 84.6</td><td>-5.64</td><td>-1.99</td></tr>\n",
       "\t<tr><td> 99.1</td><td> 94.0</td><td> 5.12</td><td> 8.63</td></tr>\n",
       "\t<tr><td> 99.6</td><td>109.3</td><td>-3.16</td><td> 0.22</td></tr>\n",
       "\t<tr><td> 94.4</td><td>111.1</td><td> 2.96</td><td> 6.21</td></tr>\n",
       "\t<tr><td>103.2</td><td> 97.1</td><td>-4.55</td><td>-1.44</td></tr>\n",
       "\t<tr><td>...</td><td>...</td><td>...</td><td>...</td></tr>\n",
       "\t<tr><td> 91.0</td><td>113.4</td><td>-0.40</td><td> 4.10</td></tr>\n",
       "\t<tr><td>100.0</td><td>108.8</td><td>-0.81</td><td> 3.69</td></tr>\n",
       "\t<tr><td> 90.4</td><td>105.9</td><td> 0.22</td><td> 4.74</td></tr>\n",
       "\t<tr><td>108.7</td><td>102.9</td><td>-1.47</td><td> 3.09</td></tr>\n",
       "\t<tr><td>100.4</td><td>103.1</td><td> 3.67</td><td> 8.28</td></tr>\n",
       "\t<tr><td> 98.9</td><td>106.4</td><td>-4.32</td><td> 0.35</td></tr>\n",
       "\t<tr><td> 96.3</td><td> 99.0</td><td> 3.39</td><td> 8.15</td></tr>\n",
       "\t<tr><td>105.6</td><td> 97.6</td><td>-3.26</td><td> 1.62</td></tr>\n",
       "\t<tr><td> 89.1</td><td>101.5</td><td> 1.59</td><td> 6.59</td></tr>\n",
       "\t<tr><td>112.3</td><td> 92.4</td><td>-0.27</td><td> 4.87</td></tr>\n",
       "\t<tr><td> 94.0</td><td>102.0</td><td>-1.33</td><td> 3.99</td></tr>\n",
       "\t<tr><td> 98.1</td><td>110.3</td><td> 1.04</td><td> 6.55</td></tr>\n",
       "\t<tr><td>109.1</td><td>102.3</td><td> 0.81</td><td> 6.51</td></tr>\n",
       "\t<tr><td> 94.3</td><td> 89.5</td><td>-0.31</td><td> 5.62</td></tr>\n",
       "\t<tr><td>104.1</td><td> 92.6</td><td>-0.85</td><td> 5.32</td></tr>\n",
       "\t<tr><td>101.4</td><td>104.0</td><td> 1.59</td><td> 8.02</td></tr>\n",
       "\t<tr><td> 99.8</td><td>110.6</td><td>-0.06</td><td> 6.65</td></tr>\n",
       "\t<tr><td> 97.4</td><td>108.8</td><td>-1.21</td><td> 5.78</td></tr>\n",
       "\t<tr><td>103.1</td><td> 95.1</td><td> 1.77</td><td> 9.07</td></tr>\n",
       "\t<tr><td>100.3</td><td>101.6</td><td>-3.51</td><td> 4.10</td></tr>\n",
       "\t<tr><td> 98.0</td><td>104.0</td><td> 3.19</td><td>11.13</td></tr>\n",
       "\t<tr><td> 98.6</td><td>100.9</td><td>-3.07</td><td> 5.22</td></tr>\n",
       "\t<tr><td> 93.2</td><td>105.2</td><td> 3.35</td><td>11.99</td></tr>\n",
       "\t<tr><td>107.2</td><td> 97.5</td><td>-2.57</td><td> 6.43</td></tr>\n",
       "\t<tr><td> 89.3</td><td> 87.5</td><td> 0.85</td><td>10.22</td></tr>\n",
       "\t<tr><td>108.7</td><td> 95.1</td><td> 2.18</td><td>11.92</td></tr>\n",
       "\t<tr><td> 95.1</td><td> 92.0</td><td>-2.13</td><td> 7.99</td></tr>\n",
       "\t<tr><td>101.9</td><td> 91.2</td><td> 0.10</td><td>10.60</td></tr>\n",
       "\t<tr><td> 96.7</td><td> 94.5</td><td>-0.81</td><td>10.06</td></tr>\n",
       "\t<tr><td> 97.4</td><td> 87.7</td><td> 2.19</td><td>13.44</td></tr>\n",
       "</tbody>\n",
       "</table>\n"
      ],
      "text/latex": [
       "A data.frame: 72 × 4\n",
       "\\begin{tabular}{llll}\n",
       " data\\_1 & data\\_2 & data\\_3 & data\\_4\\\\\n",
       " <dbl> & <dbl> & <dbl> & <dbl>\\\\\n",
       "\\hline\n",
       "\t 108.2 & 108.9 & -1.31 &  1.17\\\\\n",
       "\t  93.6 & 115.8 &  1.49 &  4.06\\\\\n",
       "\t  99.2 & 102.1 & -2.24 &  0.40\\\\\n",
       "\t  94.1 & 101.2 &  4.08 &  6.77\\\\\n",
       "\t  96.2 &  98.7 & -3.24 & -0.48\\\\\n",
       "\t 111.6 &  87.4 &  0.61 &  3.41\\\\\n",
       "\t  94.7 &  86.6 &  0.39 &  5.23\\\\\n",
       "\t 110.5 &  88.1 &  0.07 &  4.93\\\\\n",
       "\t  82.4 & 101.4 & -0.35 &  4.52\\\\\n",
       "\t 113.6 & 113.2 &  0.70 &  5.58\\\\\n",
       "\t  79.7 &  96.7 & -0.83 &  4.04\\\\\n",
       "\t 111.8 & 102.1 &  0.32 &  5.18\\\\\n",
       "\t  92.4 & 108.6 &  0.79 &  5.62\\\\\n",
       "\t 115.7 & 105.5 & -1.31 &  3.48\\\\\n",
       "\t  96.2 & 111.4 &  1.18 &  5.93\\\\\n",
       "\t  99.3 & 109.7 & -0.80 &  4.88\\\\\n",
       "\t  99.8 & 106.1 & -0.72 &  4.90\\\\\n",
       "\t  95.2 & 112.1 & -1.14 &  4.39\\\\\n",
       "\t  95.3 & 110.9 &  4.01 &  8.46\\\\\n",
       "\t 107.5 & 110.0 & -2.84 &  1.51\\\\\n",
       "\t  99.8 &  98.4 &  2.51 &  6.76\\\\\n",
       "\t  90.7 &  97.3 & -2.70 &  1.44\\\\\n",
       "\t 101.7 & 104.8 &  1.13 &  5.16\\\\\n",
       "\t 107.5 & 111.3 & -0.70 &  3.21\\\\\n",
       "\t  91.0 &  97.6 &  3.39 &  7.16\\\\\n",
       "\t 113.7 &  84.6 & -5.64 & -1.99\\\\\n",
       "\t  99.1 &  94.0 &  5.12 &  8.63\\\\\n",
       "\t  99.6 & 109.3 & -3.16 &  0.22\\\\\n",
       "\t  94.4 & 111.1 &  2.96 &  6.21\\\\\n",
       "\t 103.2 &  97.1 & -4.55 & -1.44\\\\\n",
       "\t ... & ... & ... & ...\\\\\n",
       "\t  91.0 & 113.4 & -0.40 &  4.10\\\\\n",
       "\t 100.0 & 108.8 & -0.81 &  3.69\\\\\n",
       "\t  90.4 & 105.9 &  0.22 &  4.74\\\\\n",
       "\t 108.7 & 102.9 & -1.47 &  3.09\\\\\n",
       "\t 100.4 & 103.1 &  3.67 &  8.28\\\\\n",
       "\t  98.9 & 106.4 & -4.32 &  0.35\\\\\n",
       "\t  96.3 &  99.0 &  3.39 &  8.15\\\\\n",
       "\t 105.6 &  97.6 & -3.26 &  1.62\\\\\n",
       "\t  89.1 & 101.5 &  1.59 &  6.59\\\\\n",
       "\t 112.3 &  92.4 & -0.27 &  4.87\\\\\n",
       "\t  94.0 & 102.0 & -1.33 &  3.99\\\\\n",
       "\t  98.1 & 110.3 &  1.04 &  6.55\\\\\n",
       "\t 109.1 & 102.3 &  0.81 &  6.51\\\\\n",
       "\t  94.3 &  89.5 & -0.31 &  5.62\\\\\n",
       "\t 104.1 &  92.6 & -0.85 &  5.32\\\\\n",
       "\t 101.4 & 104.0 &  1.59 &  8.02\\\\\n",
       "\t  99.8 & 110.6 & -0.06 &  6.65\\\\\n",
       "\t  97.4 & 108.8 & -1.21 &  5.78\\\\\n",
       "\t 103.1 &  95.1 &  1.77 &  9.07\\\\\n",
       "\t 100.3 & 101.6 & -3.51 &  4.10\\\\\n",
       "\t  98.0 & 104.0 &  3.19 & 11.13\\\\\n",
       "\t  98.6 & 100.9 & -3.07 &  5.22\\\\\n",
       "\t  93.2 & 105.2 &  3.35 & 11.99\\\\\n",
       "\t 107.2 &  97.5 & -2.57 &  6.43\\\\\n",
       "\t  89.3 &  87.5 &  0.85 & 10.22\\\\\n",
       "\t 108.7 &  95.1 &  2.18 & 11.92\\\\\n",
       "\t  95.1 &  92.0 & -2.13 &  7.99\\\\\n",
       "\t 101.9 &  91.2 &  0.10 & 10.60\\\\\n",
       "\t  96.7 &  94.5 & -0.81 & 10.06\\\\\n",
       "\t  97.4 &  87.7 &  2.19 & 13.44\\\\\n",
       "\\end{tabular}\n"
      ],
      "text/markdown": [
       "\n",
       "A data.frame: 72 × 4\n",
       "\n",
       "| data_1 &lt;dbl&gt; | data_2 &lt;dbl&gt; | data_3 &lt;dbl&gt; | data_4 &lt;dbl&gt; |\n",
       "|---|---|---|---|\n",
       "| 108.2 | 108.9 | -1.31 |  1.17 |\n",
       "|  93.6 | 115.8 |  1.49 |  4.06 |\n",
       "|  99.2 | 102.1 | -2.24 |  0.40 |\n",
       "|  94.1 | 101.2 |  4.08 |  6.77 |\n",
       "|  96.2 |  98.7 | -3.24 | -0.48 |\n",
       "| 111.6 |  87.4 |  0.61 |  3.41 |\n",
       "|  94.7 |  86.6 |  0.39 |  5.23 |\n",
       "| 110.5 |  88.1 |  0.07 |  4.93 |\n",
       "|  82.4 | 101.4 | -0.35 |  4.52 |\n",
       "| 113.6 | 113.2 |  0.70 |  5.58 |\n",
       "|  79.7 |  96.7 | -0.83 |  4.04 |\n",
       "| 111.8 | 102.1 |  0.32 |  5.18 |\n",
       "|  92.4 | 108.6 |  0.79 |  5.62 |\n",
       "| 115.7 | 105.5 | -1.31 |  3.48 |\n",
       "|  96.2 | 111.4 |  1.18 |  5.93 |\n",
       "|  99.3 | 109.7 | -0.80 |  4.88 |\n",
       "|  99.8 | 106.1 | -0.72 |  4.90 |\n",
       "|  95.2 | 112.1 | -1.14 |  4.39 |\n",
       "|  95.3 | 110.9 |  4.01 |  8.46 |\n",
       "| 107.5 | 110.0 | -2.84 |  1.51 |\n",
       "|  99.8 |  98.4 |  2.51 |  6.76 |\n",
       "|  90.7 |  97.3 | -2.70 |  1.44 |\n",
       "| 101.7 | 104.8 |  1.13 |  5.16 |\n",
       "| 107.5 | 111.3 | -0.70 |  3.21 |\n",
       "|  91.0 |  97.6 |  3.39 |  7.16 |\n",
       "| 113.7 |  84.6 | -5.64 | -1.99 |\n",
       "|  99.1 |  94.0 |  5.12 |  8.63 |\n",
       "|  99.6 | 109.3 | -3.16 |  0.22 |\n",
       "|  94.4 | 111.1 |  2.96 |  6.21 |\n",
       "| 103.2 |  97.1 | -4.55 | -1.44 |\n",
       "| ... | ... | ... | ... |\n",
       "|  91.0 | 113.4 | -0.40 |  4.10 |\n",
       "| 100.0 | 108.8 | -0.81 |  3.69 |\n",
       "|  90.4 | 105.9 |  0.22 |  4.74 |\n",
       "| 108.7 | 102.9 | -1.47 |  3.09 |\n",
       "| 100.4 | 103.1 |  3.67 |  8.28 |\n",
       "|  98.9 | 106.4 | -4.32 |  0.35 |\n",
       "|  96.3 |  99.0 |  3.39 |  8.15 |\n",
       "| 105.6 |  97.6 | -3.26 |  1.62 |\n",
       "|  89.1 | 101.5 |  1.59 |  6.59 |\n",
       "| 112.3 |  92.4 | -0.27 |  4.87 |\n",
       "|  94.0 | 102.0 | -1.33 |  3.99 |\n",
       "|  98.1 | 110.3 |  1.04 |  6.55 |\n",
       "| 109.1 | 102.3 |  0.81 |  6.51 |\n",
       "|  94.3 |  89.5 | -0.31 |  5.62 |\n",
       "| 104.1 |  92.6 | -0.85 |  5.32 |\n",
       "| 101.4 | 104.0 |  1.59 |  8.02 |\n",
       "|  99.8 | 110.6 | -0.06 |  6.65 |\n",
       "|  97.4 | 108.8 | -1.21 |  5.78 |\n",
       "| 103.1 |  95.1 |  1.77 |  9.07 |\n",
       "| 100.3 | 101.6 | -3.51 |  4.10 |\n",
       "|  98.0 | 104.0 |  3.19 | 11.13 |\n",
       "|  98.6 | 100.9 | -3.07 |  5.22 |\n",
       "|  93.2 | 105.2 |  3.35 | 11.99 |\n",
       "| 107.2 |  97.5 | -2.57 |  6.43 |\n",
       "|  89.3 |  87.5 |  0.85 | 10.22 |\n",
       "| 108.7 |  95.1 |  2.18 | 11.92 |\n",
       "|  95.1 |  92.0 | -2.13 |  7.99 |\n",
       "| 101.9 |  91.2 |  0.10 | 10.60 |\n",
       "|  96.7 |  94.5 | -0.81 | 10.06 |\n",
       "|  97.4 |  87.7 |  2.19 | 13.44 |\n",
       "\n"
      ],
      "text/plain": [
       "    data_1 data_2 data_3 data_4\n",
       "1   108.2  108.9  -1.31   1.17 \n",
       "2    93.6  115.8   1.49   4.06 \n",
       "3    99.2  102.1  -2.24   0.40 \n",
       "4    94.1  101.2   4.08   6.77 \n",
       "5    96.2   98.7  -3.24  -0.48 \n",
       "6   111.6   87.4   0.61   3.41 \n",
       "7    94.7   86.6   0.39   5.23 \n",
       "8   110.5   88.1   0.07   4.93 \n",
       "9    82.4  101.4  -0.35   4.52 \n",
       "10  113.6  113.2   0.70   5.58 \n",
       "11   79.7   96.7  -0.83   4.04 \n",
       "12  111.8  102.1   0.32   5.18 \n",
       "13   92.4  108.6   0.79   5.62 \n",
       "14  115.7  105.5  -1.31   3.48 \n",
       "15   96.2  111.4   1.18   5.93 \n",
       "16   99.3  109.7  -0.80   4.88 \n",
       "17   99.8  106.1  -0.72   4.90 \n",
       "18   95.2  112.1  -1.14   4.39 \n",
       "19   95.3  110.9   4.01   8.46 \n",
       "20  107.5  110.0  -2.84   1.51 \n",
       "21   99.8   98.4   2.51   6.76 \n",
       "22   90.7   97.3  -2.70   1.44 \n",
       "23  101.7  104.8   1.13   5.16 \n",
       "24  107.5  111.3  -0.70   3.21 \n",
       "25   91.0   97.6   3.39   7.16 \n",
       "26  113.7   84.6  -5.64  -1.99 \n",
       "27   99.1   94.0   5.12   8.63 \n",
       "28   99.6  109.3  -3.16   0.22 \n",
       "29   94.4  111.1   2.96   6.21 \n",
       "30  103.2   97.1  -4.55  -1.44 \n",
       "... ...    ...    ...    ...   \n",
       "43   91.0  113.4  -0.40   4.10 \n",
       "44  100.0  108.8  -0.81   3.69 \n",
       "45   90.4  105.9   0.22   4.74 \n",
       "46  108.7  102.9  -1.47   3.09 \n",
       "47  100.4  103.1   3.67   8.28 \n",
       "48   98.9  106.4  -4.32   0.35 \n",
       "49   96.3   99.0   3.39   8.15 \n",
       "50  105.6   97.6  -3.26   1.62 \n",
       "51   89.1  101.5   1.59   6.59 \n",
       "52  112.3   92.4  -0.27   4.87 \n",
       "53   94.0  102.0  -1.33   3.99 \n",
       "54   98.1  110.3   1.04   6.55 \n",
       "55  109.1  102.3   0.81   6.51 \n",
       "56   94.3   89.5  -0.31   5.62 \n",
       "57  104.1   92.6  -0.85   5.32 \n",
       "58  101.4  104.0   1.59   8.02 \n",
       "59   99.8  110.6  -0.06   6.65 \n",
       "60   97.4  108.8  -1.21   5.78 \n",
       "61  103.1   95.1   1.77   9.07 \n",
       "62  100.3  101.6  -3.51   4.10 \n",
       "63   98.0  104.0   3.19  11.13 \n",
       "64   98.6  100.9  -3.07   5.22 \n",
       "65   93.2  105.2   3.35  11.99 \n",
       "66  107.2   97.5  -2.57   6.43 \n",
       "67   89.3   87.5   0.85  10.22 \n",
       "68  108.7   95.1   2.18  11.92 \n",
       "69   95.1   92.0  -2.13   7.99 \n",
       "70  101.9   91.2   0.10  10.60 \n",
       "71   96.7   94.5  -0.81  10.06 \n",
       "72   97.4   87.7   2.19  13.44 "
      ]
     },
     "metadata": {},
     "output_type": "display_data"
    }
   ],
   "source": [
    "library(forecast)\n",
    "setwd(\"C:/Users/joyh1/Desktop/빅데이터_20-1/R_data\")\n",
    "data<-read.csv('data_ARIMA_DIY.csv')\n",
    "data"
   ]
  },
  {
   "cell_type": "code",
   "execution_count": 3,
   "metadata": {},
   "outputs": [],
   "source": [
    "data_1<-data[,1]\n",
    "data_2<-data[,2]\n",
    "data_3<-data[,3]\n",
    "data_4<-data[,4]"
   ]
  },
  {
   "cell_type": "code",
   "execution_count": 4,
   "metadata": {},
   "outputs": [],
   "source": [
    "ts_1<-ts(data_1, start=c(2001,1), end=c(2006,12), frequency = 12)\n",
    "ts_2<-ts(data_2, start=c(2001,1), end=c(2006,12), frequency = 12)\n",
    "ts_3<-ts(data_3, start=c(2001,1), end=c(2006,12), frequency = 12)\n",
    "ts_4<-ts(data_4, start=c(2001,1), end=c(2006,12), frequency = 12)"
   ]
  },
  {
   "cell_type": "markdown",
   "metadata": {},
   "source": [
    "# data_1에 적합한 모델 찾기"
   ]
  },
  {
   "cell_type": "code",
   "execution_count": 5,
   "metadata": {},
   "outputs": [
    {
     "data": {
      "text/plain": [
       "\n",
       "####################### \n",
       "# KPSS Unit Root Test # \n",
       "####################### \n",
       "\n",
       "Test is of type: mu with 3 lags. \n",
       "\n",
       "Value of test-statistic is: 0.0449 \n",
       "\n",
       "Critical value for a significance level of: \n",
       "                10pct  5pct 2.5pct  1pct\n",
       "critical values 0.347 0.463  0.574 0.739\n"
      ]
     },
     "metadata": {},
     "output_type": "display_data"
    },
    {
     "data": {
      "image/png": "[encoded data removed]",
      "text/plain": [
       "plot without title"
      ]
     },
     "metadata": {
      "image/png": {
       "height": 420,
       "width": 420
      }
     },
     "output_type": "display_data"
    }
   ],
   "source": [
    "library(urca)\n",
    "summary(ur.kpss(ts_1))\n",
    "ggtsdisplay(ts_1)\n",
    "# KPSS검정통계량 값이 0.0449로 1% 유의수준의 임계치보다 작은 값이 나왔으므로 귀무가설(해당 데이터는 정상시계열이다)을 채택!"
   ]
  },
  {
   "cell_type": "code",
   "execution_count": 7,
   "metadata": {
    "scrolled": true
   },
   "outputs": [
    {
     "name": "stdout",
     "output_type": "stream",
     "text": [
      "Series: ts_1 \n",
      "ARIMA(1,0,0) with non-zero mean \n",
      "\n",
      "Coefficients:\n",
      "          ar1     mean\n",
      "      -0.7248  99.8025\n",
      "s.e.   0.0796   0.3885\n",
      "\n",
      "sigma^2 estimated as 32.87:  log likelihood=-227.26\n",
      "AIC=460.51   AICc=460.87   BIC=467.34\n",
      "\n",
      "Training set error measures:\n",
      "                     ME     RMSE      MAE        MPE    MAPE     MASE\n",
      "Training set 0.04825857 5.653194 4.693908 -0.2869442 4.78306 0.521642\n",
      "                    ACF1\n",
      "Training set -0.04736431\n",
      "Series: ts_1 \n",
      "ARIMA(1,0,1) with non-zero mean \n",
      "\n",
      "Coefficients:\n",
      "          ar1      ma1     mean\n",
      "      -0.6608  -0.1351  99.8060\n",
      "s.e.   0.1433   0.2221   0.3486\n",
      "\n",
      "sigma^2 estimated as 33.14:  log likelihood=-227.04\n",
      "AIC=462.08   AICc=462.68   BIC=471.19\n",
      "\n",
      "Training set error measures:\n",
      "                    ME     RMSE      MAE        MPE     MAPE      MASE\n",
      "Training set 0.0500186 5.635482 4.614241 -0.2840783 4.706057 0.5127884\n",
      "                   ACF1\n",
      "Training set 0.01135671\n",
      "Series: ts_1 \n",
      "ARIMA(1,0,2) with non-zero mean \n",
      "\n",
      "Coefficients:\n",
      "          ar1      ma1      ma2     mean\n",
      "      -0.7983  -0.1495  -0.3900  99.8598\n",
      "s.e.   0.1390   0.1889   0.2342   0.1788\n",
      "\n",
      "sigma^2 estimated as 32.23:  log likelihood=-225.7\n",
      "AIC=461.39   AICc=462.3   BIC=472.77\n",
      "\n",
      "Training set error measures:\n",
      "                      ME    RMSE      MAE       MPE     MAPE      MASE\n",
      "Training set -0.02718691 5.51727 4.417725 -0.341627 4.504599 0.4909493\n",
      "                   ACF1\n",
      "Training set 0.07036545\n",
      "Series: ts_1 \n",
      "ARIMA(1,0,0) with non-zero mean \n",
      "\n",
      "Coefficients:\n",
      "          ar1     mean\n",
      "      -0.7248  99.8025\n",
      "s.e.   0.0796   0.3885\n",
      "\n",
      "sigma^2 estimated as 32.87:  log likelihood=-227.26\n",
      "AIC=460.51   AICc=460.87   BIC=467.34\n",
      "\n",
      "Training set error measures:\n",
      "                     ME     RMSE      MAE        MPE    MAPE     MASE\n",
      "Training set 0.04825857 5.653194 4.693908 -0.2869442 4.78306 0.521642\n",
      "                    ACF1\n",
      "Training set -0.04736431\n"
     ]
    }
   ],
   "source": [
    "# PACF그래프에서 막대 1개가 팍 튀어나왔으므로 AR차수는 1일 것임!\n",
    "# ACF그래프에서는 MA차수가 0 또는 1 또는 2\n",
    "# 모델후보\n",
    "# ARIMA(1,0,0)\n",
    "# ARIMA(1,0,1)\n",
    "# ARIMA(1,0,2)\n",
    "\n",
    "arima100<-Arima(ts_1, order=c(1,0,0))\n",
    "arima101<-Arima(ts_1, order=c(1,0,1))\n",
    "arima102<-Arima(ts_1, order=c(1,0,2))\n",
    "arima_auto<-auto.arima(ts_1)\n",
    "\n",
    "summary(arima100)\n",
    "summary(arima101)\n",
    "summary(arima102)\n",
    "summary(arima_auto)\n",
    "# AICc값이 ARIMA(1,0,0)모델이 가장 낮게 나옴!\n",
    "# 세 개 모델의 각 RMSE값들이 0.1~0.01로 미세한 차이..\n",
    "# 따라서 차수가 가장 적은 ARIMA(1,0,0)으로 선택!\n",
    "\n",
    "### 수식 ###\n",
    "# ARIMA(1,0,0) : yt = (-0.7248)*yt-1 + εt + 99.8025*(1-(-0.7248))\n",
    "# ARIMA(1,0,1) : yt = (-0.6608)*yt-1 + (-0.1351)*εt-1 + εt + 99.8060*(1-(-0.6608))\n",
    "# ARIMA(1,0,2) : yt = (-0.7983)*yt-1 + (-0.1495)*εt-1 + (-0.39)*εt-2 + εt + 99.8598*(1-(-0.7983))"
   ]
  },
  {
   "cell_type": "code",
   "execution_count": 8,
   "metadata": {},
   "outputs": [
    {
     "name": "stdout",
     "output_type": "stream",
     "text": [
      "\n",
      "\tLjung-Box test\n",
      "\n",
      "data:  Residuals from ARIMA(1,0,0) with non-zero mean\n",
      "Q* = 13.366, df = 12, p-value = 0.343\n",
      "\n",
      "Model df: 2.   Total lags used: 14\n",
      "\n"
     ]
    },
    {
     "data": {
      "image/png": "[encoded data removed]",
      "text/plain": [
       "plot without title"
      ]
     },
     "metadata": {
      "image/png": {
       "height": 420,
       "width": 420
      }
     },
     "output_type": "display_data"
    }
   ],
   "source": [
    "# Test데이터와의 RMSE값 비교가가능하다면 그걸 추가로 통해서 최종 적합모델 선정했을 거임\n",
    "# 현재로서는 ARIMA(1,0,0)모델이 가장 적합\n",
    "# ARIMA(1,0,0)의 잔차 검정\n",
    "checkresiduals(arima100)"
   ]
  },
  {
   "cell_type": "code",
   "execution_count": 9,
   "metadata": {},
   "outputs": [
    {
     "data": {
      "text/plain": [
       "         Point Forecast    Lo 80    Hi 80    Lo 95    Hi 95\n",
       "Jan 2007      101.54389 94.19626 108.8915 90.30666 112.7811\n",
       "Feb 2007       98.54033 89.46560 107.6151 84.66173 112.4189\n",
       "Mar 2007      100.71736 90.85575 110.5790 85.63533 115.7994\n",
       "Apr 2007       99.13941 88.88857 109.3902 83.46211 114.8167\n",
       "May 2007      100.28314 89.83362 110.7326 84.30199 116.2643"
      ]
     },
     "metadata": {},
     "output_type": "display_data"
    }
   ],
   "source": [
    "forecast(arima100, h=5)"
   ]
  },
  {
   "cell_type": "markdown",
   "metadata": {},
   "source": [
    "# data_2의 적합모델 찾기"
   ]
  },
  {
   "cell_type": "code",
   "execution_count": 10,
   "metadata": {},
   "outputs": [
    {
     "data": {
      "text/plain": [
       "\n",
       "####################### \n",
       "# KPSS Unit Root Test # \n",
       "####################### \n",
       "\n",
       "Test is of type: mu with 3 lags. \n",
       "\n",
       "Value of test-statistic is: 0.191 \n",
       "\n",
       "Critical value for a significance level of: \n",
       "                10pct  5pct 2.5pct  1pct\n",
       "critical values 0.347 0.463  0.574 0.739\n"
      ]
     },
     "metadata": {},
     "output_type": "display_data"
    },
    {
     "data": {
      "image/png": "[encoded data removed]",
      "text/plain": [
       "plot without title"
      ]
     },
     "metadata": {
      "image/png": {
       "height": 420,
       "width": 420
      }
     },
     "output_type": "display_data"
    }
   ],
   "source": [
    "summary(ur.kpss(ts_2))\n",
    "ggtsdisplay(ts_2)\n",
    "# KPSS검정통계량값이 1% 유의수준의 임계치보다 작기 때문에 귀무가설(해당 시계열 데이터는 정상서이다) 채택!"
   ]
  },
  {
   "cell_type": "code",
   "execution_count": 11,
   "metadata": {
    "scrolled": false
   },
   "outputs": [
    {
     "name": "stdout",
     "output_type": "stream",
     "text": [
      "Series: ts_2 \n",
      "ARIMA(0,0,1) with non-zero mean \n",
      "\n",
      "Coefficients:\n",
      "         ma1      mean\n",
      "      0.8060  101.1013\n",
      "s.e.  0.0685    1.2672\n",
      "\n",
      "sigma^2 estimated as 36.91:  log likelihood=-231.58\n",
      "AIC=469.16   AICc=469.51   BIC=475.99\n",
      "\n",
      "Training set error measures:\n",
      "                     ME     RMSE      MAE        MPE   MAPE     MASE     ACF1\n",
      "Training set 0.01080688 5.990457 5.072266 -0.3777207 5.0942 0.496875 0.083606\n",
      "Series: ts_2 \n",
      "ARIMA(1,0,0) with non-zero mean \n",
      "\n",
      "Coefficients:\n",
      "         ar1      mean\n",
      "      0.5621  101.1344\n",
      "s.e.  0.0993    1.7543\n",
      "\n",
      "sigma^2 estimated as 45.24:  log likelihood=-238.57\n",
      "AIC=483.14   AICc=483.49   BIC=489.97\n",
      "\n",
      "Training set error measures:\n",
      "                      ME     RMSE      MAE       MPE     MAPE      MASE\n",
      "Training set -0.07901146 6.631726 5.645538 -0.522692 5.673341 0.5530323\n",
      "                  ACF1\n",
      "Training set 0.1661977\n",
      "Series: ts_2 \n",
      "ARIMA(1,0,1) with non-zero mean \n",
      "\n",
      "Coefficients:\n",
      "         ar1     ma1      mean\n",
      "      0.1278  0.7592  101.0675\n",
      "s.e.  0.1462  0.0959    1.4060\n",
      "\n",
      "sigma^2 estimated as 37.06:  log likelihood=-231.21\n",
      "AIC=470.42   AICc=471.01   BIC=479.52\n",
      "\n",
      "Training set error measures:\n",
      "                      ME     RMSE      MAE        MPE     MAPE      MASE\n",
      "Training set 0.006248341 5.959168 5.048514 -0.3559711 5.074006 0.4945483\n",
      "                    ACF1\n",
      "Training set 0.002118844\n",
      "Series: ts_2 \n",
      "ARIMA(0,0,1)(0,0,1)[12] with non-zero mean \n",
      "\n",
      "Coefficients:\n",
      "         ma1     sma1      mean\n",
      "      0.8058  -0.2414  101.3566\n",
      "s.e.  0.0681   0.1340    0.9969\n",
      "\n",
      "sigma^2 estimated as 35.53:  log likelihood=-230.07\n",
      "AIC=468.13   AICc=468.73   BIC=477.24\n",
      "\n",
      "Training set error measures:\n",
      "                      ME    RMSE      MAE        MPE     MAPE      MASE\n",
      "Training set 0.004721173 5.83517 4.929181 -0.3702345 4.951486 0.4828586\n",
      "                   ACF1\n",
      "Training set 0.07307597\n"
     ]
    }
   ],
   "source": [
    "# ACF그래프에서 팍 튀는 막대가 1개이면서 지수 감소.. MA(1) 이거나 MA(0)\n",
    "# PACF 그래프에서 팍 튀는 막대가 1개이면서 지수 감소.. AR(1) 이거나 AR(0) \n",
    "# ARMA모델이 적합할라나..?\n",
    "\n",
    "# 모델 후보 #\n",
    "# ARIMA(0,0,1)\n",
    "# ARIMA(1,0,0)\n",
    "# ARIMA(1,0,1)\n",
    "# AUTO ARIMA\n",
    "\n",
    "arima001<-Arima(ts_2, order=c(0,0,1))\n",
    "arima100<-Arima(ts_2, order=c(1,0,0))\n",
    "arima101<-Arima(ts_2, order=c(1,0,1))\n",
    "arima_auto<-auto.arima(ts_2)\n",
    "\n",
    "summary(arima001)\n",
    "summary(arima100)\n",
    "summary(arima101)\n",
    "summary(arima_auto) # SARIMA모델은 시험범위 아니므로 제외하고 나머지 모델에서 최종모델 선정\n",
    "\n",
    "# 모델 수식 #\n",
    "# ARIMA(0,0,1) : yt = 0.8060*εt-1 + εt + 101.1013\n",
    "# ARIMA(1,0,0) : yt = 0.5621*yt-1 + εt + 101.1344*(1-0.5621)\n",
    "# ARIMA(1,0,1) : yt = 0.1278*yt-1 + 0.7592*εt-1 + εt + 101.0675(1-0.1278)"
   ]
  },
  {
   "cell_type": "code",
   "execution_count": 12,
   "metadata": {},
   "outputs": [
    {
     "name": "stdout",
     "output_type": "stream",
     "text": [
      "\n",
      "\tLjung-Box test\n",
      "\n",
      "data:  Residuals from ARIMA(0,0,1) with non-zero mean\n",
      "Q* = 15.338, df = 12, p-value = 0.2235\n",
      "\n",
      "Model df: 2.   Total lags used: 14\n",
      "\n"
     ]
    },
    {
     "data": {
      "image/png": "[encoded data removed]",
      "text/plain": [
       "plot without title"
      ]
     },
     "metadata": {
      "image/png": {
       "height": 420,
       "width": 420
      }
     },
     "output_type": "display_data"
    }
   ],
   "source": [
    "# ARIMA(0,0,1) 과 ARIMA(1,0,1) 모델이 후보\n",
    "# AICc값은 MA(1) 모델이 더 낮긴 하지만 RMSE값은 ARMA(1,1)모델이 좀 더 낮은편..\n",
    "# 이 둘 중 적합성을 가르기 위해선 TEST데이터가 있을 경우 TEST데이터와의 RMSE값 비교로 설정!\n",
    "# 우선은 RMSE값 차이가 소수점 둘째 자리로 매우 미세...하므로 차수가 더 낮은 MA(1)모델을 최종모델로 선정!\n",
    "\n",
    "# 잔차검정\n",
    "checkresiduals(arima001)"
   ]
  },
  {
   "cell_type": "code",
   "execution_count": 17,
   "metadata": {},
   "outputs": [],
   "source": [
    "# 5개의 미래값 예측해보기\n",
    "for_arima001<-forecast(arima001, h=5)"
   ]
  },
  {
   "cell_type": "code",
   "execution_count": 19,
   "metadata": {},
   "outputs": [
    {
     "data": {
      "image/png": "[encoded data removed]",
      "text/plain": [
       "Plot with title \"Forecasts from ARIMA(0,0,1) with non-zero mean\""
      ]
     },
     "metadata": {
      "image/png": {
       "height": 420,
       "width": 420
      }
     },
     "output_type": "display_data"
    }
   ],
   "source": [
    "plot(for_arima001)\n",
    "lines(for_arima001$fitted, col='red')"
   ]
  },
  {
   "cell_type": "markdown",
   "metadata": {},
   "source": [
    "# data_3에 적합한 모델"
   ]
  },
  {
   "cell_type": "code",
   "execution_count": 20,
   "metadata": {},
   "outputs": [
    {
     "data": {
      "text/plain": [
       "\n",
       "####################### \n",
       "# KPSS Unit Root Test # \n",
       "####################### \n",
       "\n",
       "Test is of type: mu with 3 lags. \n",
       "\n",
       "Value of test-statistic is: 0.0482 \n",
       "\n",
       "Critical value for a significance level of: \n",
       "                10pct  5pct 2.5pct  1pct\n",
       "critical values 0.347 0.463  0.574 0.739\n"
      ]
     },
     "metadata": {},
     "output_type": "display_data"
    },
    {
     "data": {
      "image/png": "[encoded data removed]",
      "text/plain": [
       "plot without title"
      ]
     },
     "metadata": {
      "image/png": {
       "height": 420,
       "width": 420
      }
     },
     "output_type": "display_data"
    }
   ],
   "source": [
    "summary(ur.kpss(ts_3))\n",
    "ggtsdisplay(ts_3)\n",
    "# KPSS 검정통계량값이 0.0482로 1% 유의수준의 임계치보다 낮으므로 귀무가설(해당 데이터는 정상성이다) 채택!"
   ]
  },
  {
   "cell_type": "code",
   "execution_count": 21,
   "metadata": {
    "scrolled": true
   },
   "outputs": [
    {
     "name": "stdout",
     "output_type": "stream",
     "text": [
      "Series: ts_3 \n",
      "ARIMA(0,0,1) with non-zero mean \n",
      "\n",
      "Coefficients:\n",
      "          ma1     mean\n",
      "      -1.0000  -0.0114\n",
      "s.e.   0.0429   0.0086\n",
      "\n",
      "sigma^2 estimated as 2.462:  log likelihood=-135.73\n",
      "AIC=277.46   AICc=277.81   BIC=284.29\n",
      "\n",
      "Training set error measures:\n",
      "                     ME     RMSE     MAE     MPE     MAPE      MASE       ACF1\n",
      "Training set 0.07818892 1.547141 1.22295 34.5077 78.95986 0.3726803 -0.7055275\n",
      "Series: ts_3 \n",
      "ARIMA(0,0,2) with non-zero mean \n",
      "\n",
      "Coefficients:\n",
      "          ma1     ma2     mean\n",
      "      -1.5044  0.6419  -0.0061\n",
      "s.e.   0.0852  0.0749   0.0201\n",
      "\n",
      "sigma^2 estimated as 1.515:  log likelihood=-117.03\n",
      "AIC=242.06   AICc=242.66   BIC=251.17\n",
      "\n",
      "Training set error measures:\n",
      "                        ME     RMSE       MAE       MPE     MAPE      MASE\n",
      "Training set -0.0004353689 1.204927 0.9629576 -5.906828 110.3575 0.2934504\n",
      "                   ACF1\n",
      "Training set -0.2794418\n",
      "Series: ts_3 \n",
      "ARIMA(1,0,1) with non-zero mean \n",
      "\n",
      "Coefficients:\n",
      "          ar1      ma1     mean\n",
      "      -0.7634  -0.8175  -0.0085\n",
      "s.e.   0.0752   0.0676   0.0140\n",
      "\n",
      "sigma^2 estimated as 1.173:  log likelihood=-107.86\n",
      "AIC=223.73   AICc=224.32   BIC=232.83\n",
      "\n",
      "Training set error measures:\n",
      "                     ME    RMSE       MAE       MPE     MAPE      MASE\n",
      "Training set 0.01356656 1.06044 0.8624718 -28.78277 112.6165 0.2628285\n",
      "                    ACF1\n",
      "Training set -0.07653604\n",
      "Series: ts_3 \n",
      "ARIMA(1,0,2) with non-zero mean \n",
      "\n",
      "Coefficients:\n",
      "          ar1      ma1     ma2     mean\n",
      "      -0.6997  -0.9543  0.1526  -0.0079\n",
      "s.e.   0.1133   0.1637  0.1631   0.0154\n",
      "\n",
      "sigma^2 estimated as 1.177:  log likelihood=-107.46\n",
      "AIC=224.92   AICc=225.83   BIC=236.3\n",
      "\n",
      "Training set error measures:\n",
      "                      ME     RMSE       MAE       MPE     MAPE      MASE\n",
      "Training set 0.009575647 1.054215 0.8531963 -29.17051 111.5029 0.2600019\n",
      "                    ACF1\n",
      "Training set -0.01244931\n",
      "Series: ts_3 \n",
      "ARIMA(1,0,1) with zero mean \n",
      "\n",
      "Coefficients:\n",
      "          ar1      ma1\n",
      "      -0.7646  -0.8073\n",
      "s.e.   0.0750   0.0657\n",
      "\n",
      "sigma^2 estimated as 1.163:  log likelihood=-108.04\n",
      "AIC=222.07   AICc=222.43   BIC=228.9\n",
      "\n",
      "Training set error measures:\n",
      "                      ME     RMSE       MAE       MPE     MAPE      MASE\n",
      "Training set -0.05742911 1.063392 0.8644376 -29.61912 112.0805 0.2634276\n",
      "                    ACF1\n",
      "Training set -0.08310596\n"
     ]
    }
   ],
   "source": [
    "# ACF함수에서 눈에띄게 튀어나온 막대개수는 2개.. 그래서 MA(1) or MA(2)\n",
    "# PACF함수에서 눈에띄게 튀어나온 막대개수는 1개.. 그래서 AR(0) or AR(1)\n",
    "\n",
    "# 모델 후보 $\n",
    "# ARIMA(0,0,1)\n",
    "# ARIMA(0,0,2)\n",
    "# ARIMA(1,0,1)\n",
    "# ARIMA(1,0,2)\n",
    "# AUTO ARIMA\n",
    "\n",
    "arima001<-Arima(ts_3, order=c(0,0,1))\n",
    "arima002<-Arima(ts_3, order=c(0,0,2))\n",
    "arima101<-Arima(ts_3, order=c(1,0,1))\n",
    "arima102<-Arima(ts_3, order=c(1,0,2))\n",
    "arima_auto<-auto.arima(ts_3)\n",
    "\n",
    "summary(arima001)\n",
    "summary(arima002)\n",
    "summary(arima101)\n",
    "summary(arima102)\n",
    "summary(arima_auto)\n",
    "## 모델 수식 ##\n",
    "# ARIMA(0,0,1) : yt = -1*εt-1 + εt -0.0114\n",
    "# ARIMA(0,0,2) : yt = -1.5044εt-1 + 0.6419εt-2 -0.0061\n",
    "# ARIMA(1,0,1) : yt = -0.7634*yt-1 -0.8175*εt-1 + εt -0.0085*(1-(-0.7634))\n",
    "# ARIMA(1,0,2) : yt = -0.6997*yt-1 -0.9543*εt-1 + 0.1526*εt-2 -0.0079*(1-(-0.6997))"
   ]
  },
  {
   "cell_type": "code",
   "execution_count": 22,
   "metadata": {},
   "outputs": [
    {
     "name": "stdout",
     "output_type": "stream",
     "text": [
      "Series: ts_3 \n",
      "ARIMA(1,0,1) with non-zero mean \n",
      "\n",
      "Coefficients:\n",
      "          ar1      ma1     mean\n",
      "      -0.7634  -0.8175  -0.0085\n",
      "s.e.   0.0752   0.0676   0.0140\n",
      "\n",
      "sigma^2 estimated as 1.173:  log likelihood=-107.86\n",
      "AIC=223.73   AICc=224.32   BIC=232.83\n",
      "\n",
      "Training set error measures:\n",
      "                     ME    RMSE       MAE       MPE     MAPE      MASE\n",
      "Training set 0.01356656 1.06044 0.8624718 -28.78277 112.6165 0.2628285\n",
      "                    ACF1\n",
      "Training set -0.07653604\n",
      "Series: ts_3 \n",
      "ARIMA(1,0,2) with non-zero mean \n",
      "\n",
      "Coefficients:\n",
      "          ar1      ma1     ma2     mean\n",
      "      -0.6997  -0.9543  0.1526  -0.0079\n",
      "s.e.   0.1133   0.1637  0.1631   0.0154\n",
      "\n",
      "sigma^2 estimated as 1.177:  log likelihood=-107.46\n",
      "AIC=224.92   AICc=225.83   BIC=236.3\n",
      "\n",
      "Training set error measures:\n",
      "                      ME     RMSE       MAE       MPE     MAPE      MASE\n",
      "Training set 0.009575647 1.054215 0.8531963 -29.17051 111.5029 0.2600019\n",
      "                    ACF1\n",
      "Training set -0.01244931\n"
     ]
    }
   ],
   "source": [
    "# ARIMA(1,0,1) , ARIMA(1,0,2) 모델이 최종 후보 모델들\n",
    "# 다시비교\n",
    "summary(arima101)\n",
    "summary(arima102)"
   ]
  },
  {
   "cell_type": "code",
   "execution_count": 23,
   "metadata": {},
   "outputs": [
    {
     "name": "stdout",
     "output_type": "stream",
     "text": [
      "\n",
      "\tLjung-Box test\n",
      "\n",
      "data:  Residuals from ARIMA(1,0,1) with non-zero mean\n",
      "Q* = 9.3905, df = 11, p-value = 0.5859\n",
      "\n",
      "Model df: 3.   Total lags used: 14\n",
      "\n"
     ]
    },
    {
     "data": {
      "image/png": "[encoded data removed]",
      "text/plain": [
       "plot without title"
      ]
     },
     "metadata": {
      "image/png": {
       "height": 420,
       "width": 420
      }
     },
     "output_type": "display_data"
    }
   ],
   "source": [
    "# AICc값은 ARIMA(1,0,1)값이 더 작고 RMSER값은 ARIMA(1,0,2)모델이 더 작다.. \n",
    "# 추가 적합성은.... TEST데이터가 있을 시 TEST 데이터와 예측값을 비교를 통해 모델 적합\n",
    "# 현재로서는 차수가 적은 ARIMA(1,0,1)모델을 최종 선정!\n",
    "\n",
    "# 잔차검정\n",
    "checkresiduals(arima101)"
   ]
  },
  {
   "cell_type": "code",
   "execution_count": 25,
   "metadata": {},
   "outputs": [
    {
     "data": {
      "text/plain": [
       "         Point Forecast      Lo 80      Hi 80     Lo 95       Hi 95\n",
       "Jan 2007     -2.2083064 -3.5965447 -0.8200681 -4.331434 -0.08517908\n",
       "Feb 2007      1.6709073 -0.9260077  4.2678223 -2.300731  5.64254606\n",
       "Mar 2007     -1.2906404 -4.3811701  1.7998892 -6.017198  3.43591680\n",
       "Apr 2007      0.9703242 -2.3744695  4.3151179 -4.145096  6.08574469\n",
       "May 2007     -0.7557871 -4.2402283  2.7286541 -6.084780  4.57320588"
      ]
     },
     "metadata": {},
     "output_type": "display_data"
    }
   ],
   "source": [
    "# 예측값 \n",
    "for_arima101<-forecast(arima101, h=5)\n",
    "for_arima101"
   ]
  },
  {
   "cell_type": "code",
   "execution_count": 26,
   "metadata": {},
   "outputs": [
    {
     "data": {
      "image/png": "[encoded data removed]",
      "text/plain": [
       "Plot with title \"Forecasts from ARIMA(1,0,1) with non-zero mean\""
      ]
     },
     "metadata": {
      "image/png": {
       "height": 420,
       "width": 420
      }
     },
     "output_type": "display_data"
    }
   ],
   "source": [
    "plot(for_arima101)\n",
    "lines(for_arima101$fitted, col='red')"
   ]
  },
  {
   "cell_type": "markdown",
   "metadata": {},
   "source": [
    "# data_4에 적합한 모델"
   ]
  },
  {
   "cell_type": "code",
   "execution_count": 27,
   "metadata": {},
   "outputs": [
    {
     "data": {
      "text/plain": [
       "\n",
       "####################### \n",
       "# KPSS Unit Root Test # \n",
       "####################### \n",
       "\n",
       "Test is of type: mu with 3 lags. \n",
       "\n",
       "Value of test-statistic is: 1.1378 \n",
       "\n",
       "Critical value for a significance level of: \n",
       "                10pct  5pct 2.5pct  1pct\n",
       "critical values 0.347 0.463  0.574 0.739\n"
      ]
     },
     "metadata": {},
     "output_type": "display_data"
    },
    {
     "data": {
      "image/png": "[encoded data removed]",
      "text/plain": [
       "plot without title"
      ]
     },
     "metadata": {
      "image/png": {
       "height": 420,
       "width": 420
      }
     },
     "output_type": "display_data"
    }
   ],
   "source": [
    "summary(ur.kpss(ts_4))\n",
    "ggtsdisplay(ts_4)\n",
    "# KPSS검정 통계량값이 1%유의수준의 임계치보다 큰 값이므로 귀무가설 기각! 즉, 해당 데이터는 비정상성임!\n",
    "# 따라서 1번 차분을 해주자!"
   ]
  },
  {
   "cell_type": "code",
   "execution_count": 28,
   "metadata": {},
   "outputs": [
    {
     "data": {
      "text/plain": [
       "\n",
       "####################### \n",
       "# KPSS Unit Root Test # \n",
       "####################### \n",
       "\n",
       "Test is of type: mu with 3 lags. \n",
       "\n",
       "Value of test-statistic is: 0.0874 \n",
       "\n",
       "Critical value for a significance level of: \n",
       "                10pct  5pct 2.5pct  1pct\n",
       "critical values 0.347 0.463  0.574 0.739\n"
      ]
     },
     "metadata": {},
     "output_type": "display_data"
    },
    {
     "data": {
      "image/png": "[encoded data removed]",
      "text/plain": [
       "plot without title"
      ]
     },
     "metadata": {
      "image/png": {
       "height": 420,
       "width": 420
      }
     },
     "output_type": "display_data"
    }
   ],
   "source": [
    "# 1번 차분한 ts_4데이터 검정\n",
    "summary(ur.kpss(diff(ts_4)))\n",
    "ggtsdisplay(diff(ts_4))\n",
    "# 차분한 데이터의 검정통계량값이 0.0874로 1% 유의수준의 임계치보다 작은값! 그러므로 귀무가설(해당 데이터는 정상성임)을 채택!"
   ]
  },
  {
   "cell_type": "code",
   "execution_count": 30,
   "metadata": {
    "scrolled": true
   },
   "outputs": [
    {
     "name": "stdout",
     "output_type": "stream",
     "text": [
      "Series: ts_4 \n",
      "ARIMA(1,1,1) \n",
      "\n",
      "Coefficients:\n",
      "          ar1      ma1\n",
      "      -0.8272  -0.5649\n",
      "s.e.   0.0657   0.0778\n",
      "\n",
      "sigma^2 estimated as 4.363:  log likelihood=-153.18\n",
      "AIC=312.36   AICc=312.71   BIC=319.14\n",
      "\n",
      "Training set error measures:\n",
      "                    ME     RMSE      MAE       MPE     MAPE      MASE      ACF1\n",
      "Training set 0.4915208 2.044764 1.559208 -2.501261 58.52325 0.4173468 -0.220858\n",
      "Series: ts_4 \n",
      "ARIMA(1,1,2) \n",
      "\n",
      "Coefficients:\n",
      "          ar1      ma1     ma2\n",
      "      -0.6817  -0.9508  0.4810\n",
      "s.e.   0.1004   0.1187  0.1257\n",
      "\n",
      "sigma^2 estimated as 3.825:  log likelihood=-148.3\n",
      "AIC=304.61   AICc=305.22   BIC=313.66\n",
      "\n",
      "Training set error measures:\n",
      "                    ME     RMSE      MAE       MPE     MAPE      MASE\n",
      "Training set 0.3897165 1.900646 1.460845 -20.49255 65.57966 0.3910183\n",
      "                    ACF1\n",
      "Training set -0.03936806\n",
      "Series: ts_4 \n",
      "ARIMA(1,1,3) \n",
      "\n",
      "Coefficients:\n",
      "          ar1      ma1     ma2     ma3\n",
      "      -0.7387  -0.8667  0.3572  0.0827\n",
      "s.e.   0.1383   0.1973  0.2687  0.1653\n",
      "\n",
      "sigma^2 estimated as 3.871:  log likelihood=-148.19\n",
      "AIC=306.38   AICc=307.3   BIC=317.69\n",
      "\n",
      "Training set error measures:\n",
      "                    ME     RMSE      MAE      MPE     MAPE      MASE\n",
      "Training set 0.3747067 1.897987 1.454992 -20.0346 64.54203 0.3894519\n",
      "                    ACF1\n",
      "Training set -0.05849969\n"
     ]
    }
   ],
   "source": [
    "# PACF그래프를 보았을 때 크게 튀어나온 막대 개수가 1~2개이므로 AR(1) 또는 AR(2)\n",
    "# ACF그래프를 보았을 때 크게 튀어나온 막대 개수가 1개~3개이므로 MA(1~3)해보기\n",
    "\n",
    "# 모델후보 #\n",
    "# ARIMA(1,1,1)\n",
    "# ARIMA(1,1,2)\n",
    "# ARIMA(1,1,3)\n",
    "# ARIMA(2,1,1)\n",
    "# ARIMA(2,1,2)\n",
    "# ARIMA(2,1,3)\n",
    "# AUTO_ARIMA\n",
    "\n",
    "arima111<-Arima(ts_4, order=c(1,1,1))\n",
    "arima112<-Arima(ts_4, order=c(1,1,2))\n",
    "arima113<-Arima(ts_4, order=c(1,1,3))\n",
    "arima211<-Arima(ts_4, order=c(2,1,1))\n",
    "arima212<-Arima(ts_4, order=c(2,1,2))\n",
    "arima213<-Arima(ts_4, order=c(2,1,3))\n",
    "arima_auto<-auto.arima(ts_4)\n",
    "\n",
    "summary(arima111) # (1-(-0.8272)B)(1-B)^1 * yt = (1 -0.5649*B)εt + c(c=0)\n",
    "summary(arima112) # 3개중 가장 적합 모델 # (1 -0.6817*B)(1-B)^1*yt = (1 -0.9508*B + 0.4810*B^2)εt\n",
    "summary(arima113) # (1-(-0.7387)*B)(1-B)^1 *yt = (1 -0.8667*B + 0.3572*B^2 + 0.0872*B^2)εt"
   ]
  },
  {
   "cell_type": "code",
   "execution_count": 31,
   "metadata": {
    "scrolled": true
   },
   "outputs": [
    {
     "name": "stdout",
     "output_type": "stream",
     "text": [
      "Series: ts_4 \n",
      "ARIMA(2,1,1) \n",
      "\n",
      "Coefficients:\n",
      "          ar1      ar2      ma1\n",
      "      -1.1526  -0.3424  -0.3812\n",
      "s.e.   0.1489   0.1441   0.1284\n",
      "\n",
      "sigma^2 estimated as 4.136:  log likelihood=-150.88\n",
      "AIC=309.76   AICc=310.36   BIC=318.81\n",
      "\n",
      "Training set error measures:\n",
      "                    ME     RMSE      MAE        MPE     MAPE      MASE\n",
      "Training set 0.4810276 1.976322 1.491849 -0.7433238 56.16279 0.3993171\n",
      "                   ACF1\n",
      "Training set -0.1064766\n",
      "Series: ts_4 \n",
      "ARIMA(2,1,2) \n",
      "\n",
      "Coefficients:\n",
      "          ar1     ar2      ma1     ma2\n",
      "      -0.5956  0.0882  -1.0174  0.5096\n",
      "s.e.   0.2434  0.2285   0.2044  0.1320\n",
      "\n",
      "sigma^2 estimated as 3.875:  log likelihood=-148.22\n",
      "AIC=306.45   AICc=307.37   BIC=317.76\n",
      "\n",
      "Training set error measures:\n",
      "                    ME    RMSE      MAE       MPE     MAPE      MASE\n",
      "Training set 0.3781545 1.89886 1.456758 -19.54588 64.73132 0.3899245\n",
      "                    ACF1\n",
      "Training set -0.05251629\n",
      "Series: ts_4 \n",
      "ARIMA(2,1,3) \n",
      "\n",
      "Coefficients:\n",
      "          ar1      ar2      ma1     ma2     ma3\n",
      "      -0.9445  -0.1435  -0.6628  0.1700  0.1781\n",
      "s.e.   0.7966   0.5664   0.7847  0.7212  0.3695\n",
      "\n",
      "sigma^2 estimated as 3.926:  log likelihood=-148.16\n",
      "AIC=308.33   AICc=309.64   BIC=321.9\n",
      "\n",
      "Training set error measures:\n",
      "                    ME     RMSE     MAE       MPE     MAPE      MASE\n",
      "Training set 0.3758127 1.897127 1.45566 -21.32218 64.99807 0.3896307\n",
      "                    ACF1\n",
      "Training set -0.05818737\n"
     ]
    }
   ],
   "source": [
    "summary(arima211) # (1 -(-1.1526)*B -(-0.3424)*B^2)(1-B)^1*yt = (1-0.3812*B)*εt\n",
    "summary(arima212) #가장 적합..(1-(-0.5956)*B -0.0882*B^2)(1-B)^1*yt = (1 -1.0174*B + 0.5096*B^2)εt\n",
    "summary(arima213) #(1-(-0.9445)*B -(-0.1435)*B^2)(1-B)^1*yt = (1-0.6628*B + 0.17*B^2 + 0.1781*B^3)εt"
   ]
  },
  {
   "cell_type": "code",
   "execution_count": 32,
   "metadata": {},
   "outputs": [
    {
     "name": "stdout",
     "output_type": "stream",
     "text": [
      "Series: ts_4 \n",
      "ARIMA(1,1,2) \n",
      "\n",
      "Coefficients:\n",
      "          ar1      ma1     ma2\n",
      "      -0.6817  -0.9508  0.4810\n",
      "s.e.   0.1004   0.1187  0.1257\n",
      "\n",
      "sigma^2 estimated as 3.825:  log likelihood=-148.3\n",
      "AIC=304.61   AICc=305.22   BIC=313.66\n",
      "\n",
      "Training set error measures:\n",
      "                    ME     RMSE      MAE       MPE     MAPE      MASE\n",
      "Training set 0.3897165 1.900646 1.460845 -20.49255 65.57966 0.3910183\n",
      "                    ACF1\n",
      "Training set -0.03936806\n",
      "Series: ts_4 \n",
      "ARIMA(2,1,2) \n",
      "\n",
      "Coefficients:\n",
      "          ar1     ar2      ma1     ma2\n",
      "      -0.5956  0.0882  -1.0174  0.5096\n",
      "s.e.   0.2434  0.2285   0.2044  0.1320\n",
      "\n",
      "sigma^2 estimated as 3.875:  log likelihood=-148.22\n",
      "AIC=306.45   AICc=307.37   BIC=317.76\n",
      "\n",
      "Training set error measures:\n",
      "                    ME    RMSE      MAE       MPE     MAPE      MASE\n",
      "Training set 0.3781545 1.89886 1.456758 -19.54588 64.73132 0.3899245\n",
      "                    ACF1\n",
      "Training set -0.05251629\n"
     ]
    }
   ],
   "source": [
    "# 두 개 후보 모델 다시 비교\n",
    "summary(arima112) # RMSE값이 더 높긴하지만 0.01차이.. AICc값은 212모델에 비해 2가 낮다..그리고 차수도 낮음 이걸로 최종선택!\n",
    "summary(arima212)"
   ]
  },
  {
   "cell_type": "code",
   "execution_count": 33,
   "metadata": {},
   "outputs": [
    {
     "name": "stdout",
     "output_type": "stream",
     "text": [
      "\n",
      "\tLjung-Box test\n",
      "\n",
      "data:  Residuals from ARIMA(1,1,2)\n",
      "Q* = 7.0572, df = 11, p-value = 0.7944\n",
      "\n",
      "Model df: 3.   Total lags used: 14\n",
      "\n"
     ]
    },
    {
     "data": {
      "image/png": "[encoded data removed]",
      "text/plain": [
       "plot without title"
      ]
     },
     "metadata": {
      "image/png": {
       "height": 420,
       "width": 420
      }
     },
     "output_type": "display_data"
    }
   ],
   "source": [
    "# 최종모델선정한 ARIMA(1,1,2) 잔차검정\n",
    "checkresiduals(arima112)"
   ]
  },
  {
   "cell_type": "code",
   "execution_count": 34,
   "metadata": {},
   "outputs": [
    {
     "data": {
      "text/plain": [
       "         Point Forecast     Lo 80    Hi 80    Lo 95    Hi 95\n",
       "Jan 2007       7.809709  5.303317 10.31610 3.976512 11.64291\n",
       "Feb 2007      13.293194 10.327625 16.25876 8.757748 17.82864\n",
       "Mar 2007       9.555279  5.734232 13.37633 3.711491 15.39907\n",
       "Apr 2007      12.103295  8.269410 15.93718 6.239873 17.96672\n",
       "May 2007      10.366394  6.233768 14.49902 4.046088 16.68670"
      ]
     },
     "metadata": {},
     "output_type": "display_data"
    }
   ],
   "source": [
    "# 예측값\n",
    "for_arima112<-forecast(arima112, h=5)\n",
    "for_arima112"
   ]
  },
  {
   "cell_type": "code",
   "execution_count": 35,
   "metadata": {},
   "outputs": [
    {
     "data": {
      "image/png": "[encoded data removed]",
      "text/plain": [
       "Plot with title \"Forecasts from ARIMA(1,1,2)\""
      ]
     },
     "metadata": {
      "image/png": {
       "height": 420,
       "width": 420
      }
     },
     "output_type": "display_data"
    }
   ],
   "source": [
    "# plot\n",
    "plot(for_arima112)\n",
    "lines(for_arima112$fitted, col='red')"
   ]
  },
  {
   "cell_type": "code",
   "execution_count": null,
   "metadata": {},
   "outputs": [],
   "source": []
  }
 ],
 "metadata": {
  "kernelspec": {
   "display_name": "R",
   "language": "R",
   "name": "ir"
  },
  "language_info": {
   "codemirror_mode": "r",
   "file_extension": ".r",
   "mimetype": "text/x-r-source",
   "name": "R",
   "pygments_lexer": "r",
   "version": "3.6.3"
  }
 },
 "nbformat": 4,
 "nbformat_minor": 4
}
