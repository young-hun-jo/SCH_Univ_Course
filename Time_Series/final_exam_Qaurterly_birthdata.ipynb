{
 "cells": [
  {
   "cell_type": "code",
   "execution_count": 1,
   "metadata": {},
   "outputs": [
    {
     "name": "stderr",
     "output_type": "stream",
     "text": [
      "Registered S3 method overwritten by 'quantmod':\n",
      "  method            from\n",
      "  as.zoo.data.frame zoo \n",
      "\n"
     ]
    }
   ],
   "source": [
    "library(forecast)\n",
    "library(urca)"
   ]
  },
  {
   "cell_type": "code",
   "execution_count": 2,
   "metadata": {},
   "outputs": [
    {
     "data": {
      "text/html": [
       "<style>\n",
       ".list-inline {list-style: none; margin:0; padding: 0}\n",
       ".list-inline>li {display: inline-block}\n",
       ".list-inline>li:not(:last-child)::after {content: \"\\00b7\"; padding: 0 .5ex}\n",
       "</style>\n",
       "<ol class=list-inline><li>26.663</li><li>23.598</li><li>26.931</li><li>24.74</li><li>25.806</li><li>24.364</li><li>24.477</li><li>23.901</li><li>23.175</li><li>23.227</li><li>21.672</li><li>21.87</li><li>21.439</li><li>21.089</li><li>23.709</li><li>21.669</li><li>21.752</li><li>20.761</li><li>23.479</li><li>23.824</li><li>23.105</li><li>23.11</li><li>21.759</li><li>22.073</li><li>21.937</li><li>20.035</li><li>23.59</li><li>21.672</li><li>22.222</li><li>22.123</li><li>23.95</li><li>23.504</li><li>22.238</li><li>23.142</li><li>21.059</li><li>21.573</li><li>21.548</li><li>20</li><li>22.424</li><li>20.615</li><li>21.761</li><li>22.874</li><li>24.104</li><li>23.748</li><li>23.262</li><li>22.907</li><li>21.519</li><li>22.025</li><li>22.604</li><li>20.894</li><li>24.677</li><li>23.673</li><li>25.32</li><li>23.583</li><li>24.671</li><li>24.454</li><li>24.122</li><li>24.252</li><li>22.084</li><li>22.991</li><li>23.287</li><li>23.049</li><li>25.076</li><li>24.037</li><li>24.43</li><li>24.667</li><li>26.451</li><li>25.618</li><li>25.014</li><li>25.11</li><li>22.964</li><li>23.981</li><li>23.798</li><li>22.27</li><li>24.775</li><li>22.646</li><li>23.988</li><li>24.737</li><li>26.276</li><li>25.816</li><li>25.21</li><li>25.199</li><li>23.162</li><li>24.707</li><li>24.364</li><li>22.644</li><li>25.565</li><li>24.062</li><li>25.431</li><li>24.635</li><li>27.009</li><li>26.606</li><li>26.268</li><li>26.462</li><li>25.246</li><li>25.18</li><li>24.657</li><li>23.304</li><li>26.982</li><li>26.199</li><li>27.21</li><li>26.122</li><li>26.706</li><li>26.878</li><li>26.152</li><li>26.379</li><li>24.712</li><li>25.688</li><li>24.99</li><li>24.239</li><li>26.721</li><li>23.475</li><li>24.767</li><li>26.219</li><li>28.361</li><li>28.599</li><li>27.914</li><li>27.784</li><li>25.693</li><li>26.881</li><li>26.217</li><li>24.218</li><li>27.914</li><li>26.975</li><li>28.527</li><li>27.139</li><li>28.982</li><li>28.169</li><li>28.056</li><li>29.136</li><li>26.291</li><li>26.987</li><li>26.589</li><li>24.848</li><li>27.543</li><li>26.896</li><li>28.878</li><li>27.39</li><li>28.065</li><li>28.141</li><li>29.048</li><li>28.484</li><li>26.634</li><li>27.735</li><li>27.132</li><li>24.924</li><li>28.963</li><li>26.589</li><li>27.931</li><li>28.009</li><li>29.229</li><li>28.759</li><li>28.405</li><li>27.945</li><li>25.912</li><li>26.619</li><li>26.076</li><li>25.286</li><li>27.66</li><li>25.951</li><li>26.398</li><li>25.565</li><li>28.865</li><li>30</li><li>29.261</li><li>29.012</li><li>26.992</li><li>27.897</li></ol>\n"
      ],
      "text/latex": [
       "\\begin{enumerate*}\n",
       "\\item 26.663\n",
       "\\item 23.598\n",
       "\\item 26.931\n",
       "\\item 24.74\n",
       "\\item 25.806\n",
       "\\item 24.364\n",
       "\\item 24.477\n",
       "\\item 23.901\n",
       "\\item 23.175\n",
       "\\item 23.227\n",
       "\\item 21.672\n",
       "\\item 21.87\n",
       "\\item 21.439\n",
       "\\item 21.089\n",
       "\\item 23.709\n",
       "\\item 21.669\n",
       "\\item 21.752\n",
       "\\item 20.761\n",
       "\\item 23.479\n",
       "\\item 23.824\n",
       "\\item 23.105\n",
       "\\item 23.11\n",
       "\\item 21.759\n",
       "\\item 22.073\n",
       "\\item 21.937\n",
       "\\item 20.035\n",
       "\\item 23.59\n",
       "\\item 21.672\n",
       "\\item 22.222\n",
       "\\item 22.123\n",
       "\\item 23.95\n",
       "\\item 23.504\n",
       "\\item 22.238\n",
       "\\item 23.142\n",
       "\\item 21.059\n",
       "\\item 21.573\n",
       "\\item 21.548\n",
       "\\item 20\n",
       "\\item 22.424\n",
       "\\item 20.615\n",
       "\\item 21.761\n",
       "\\item 22.874\n",
       "\\item 24.104\n",
       "\\item 23.748\n",
       "\\item 23.262\n",
       "\\item 22.907\n",
       "\\item 21.519\n",
       "\\item 22.025\n",
       "\\item 22.604\n",
       "\\item 20.894\n",
       "\\item 24.677\n",
       "\\item 23.673\n",
       "\\item 25.32\n",
       "\\item 23.583\n",
       "\\item 24.671\n",
       "\\item 24.454\n",
       "\\item 24.122\n",
       "\\item 24.252\n",
       "\\item 22.084\n",
       "\\item 22.991\n",
       "\\item 23.287\n",
       "\\item 23.049\n",
       "\\item 25.076\n",
       "\\item 24.037\n",
       "\\item 24.43\n",
       "\\item 24.667\n",
       "\\item 26.451\n",
       "\\item 25.618\n",
       "\\item 25.014\n",
       "\\item 25.11\n",
       "\\item 22.964\n",
       "\\item 23.981\n",
       "\\item 23.798\n",
       "\\item 22.27\n",
       "\\item 24.775\n",
       "\\item 22.646\n",
       "\\item 23.988\n",
       "\\item 24.737\n",
       "\\item 26.276\n",
       "\\item 25.816\n",
       "\\item 25.21\n",
       "\\item 25.199\n",
       "\\item 23.162\n",
       "\\item 24.707\n",
       "\\item 24.364\n",
       "\\item 22.644\n",
       "\\item 25.565\n",
       "\\item 24.062\n",
       "\\item 25.431\n",
       "\\item 24.635\n",
       "\\item 27.009\n",
       "\\item 26.606\n",
       "\\item 26.268\n",
       "\\item 26.462\n",
       "\\item 25.246\n",
       "\\item 25.18\n",
       "\\item 24.657\n",
       "\\item 23.304\n",
       "\\item 26.982\n",
       "\\item 26.199\n",
       "\\item 27.21\n",
       "\\item 26.122\n",
       "\\item 26.706\n",
       "\\item 26.878\n",
       "\\item 26.152\n",
       "\\item 26.379\n",
       "\\item 24.712\n",
       "\\item 25.688\n",
       "\\item 24.99\n",
       "\\item 24.239\n",
       "\\item 26.721\n",
       "\\item 23.475\n",
       "\\item 24.767\n",
       "\\item 26.219\n",
       "\\item 28.361\n",
       "\\item 28.599\n",
       "\\item 27.914\n",
       "\\item 27.784\n",
       "\\item 25.693\n",
       "\\item 26.881\n",
       "\\item 26.217\n",
       "\\item 24.218\n",
       "\\item 27.914\n",
       "\\item 26.975\n",
       "\\item 28.527\n",
       "\\item 27.139\n",
       "\\item 28.982\n",
       "\\item 28.169\n",
       "\\item 28.056\n",
       "\\item 29.136\n",
       "\\item 26.291\n",
       "\\item 26.987\n",
       "\\item 26.589\n",
       "\\item 24.848\n",
       "\\item 27.543\n",
       "\\item 26.896\n",
       "\\item 28.878\n",
       "\\item 27.39\n",
       "\\item 28.065\n",
       "\\item 28.141\n",
       "\\item 29.048\n",
       "\\item 28.484\n",
       "\\item 26.634\n",
       "\\item 27.735\n",
       "\\item 27.132\n",
       "\\item 24.924\n",
       "\\item 28.963\n",
       "\\item 26.589\n",
       "\\item 27.931\n",
       "\\item 28.009\n",
       "\\item 29.229\n",
       "\\item 28.759\n",
       "\\item 28.405\n",
       "\\item 27.945\n",
       "\\item 25.912\n",
       "\\item 26.619\n",
       "\\item 26.076\n",
       "\\item 25.286\n",
       "\\item 27.66\n",
       "\\item 25.951\n",
       "\\item 26.398\n",
       "\\item 25.565\n",
       "\\item 28.865\n",
       "\\item 30\n",
       "\\item 29.261\n",
       "\\item 29.012\n",
       "\\item 26.992\n",
       "\\item 27.897\n",
       "\\end{enumerate*}\n"
      ],
      "text/markdown": [
       "1. 26.663\n",
       "2. 23.598\n",
       "3. 26.931\n",
       "4. 24.74\n",
       "5. 25.806\n",
       "6. 24.364\n",
       "7. 24.477\n",
       "8. 23.901\n",
       "9. 23.175\n",
       "10. 23.227\n",
       "11. 21.672\n",
       "12. 21.87\n",
       "13. 21.439\n",
       "14. 21.089\n",
       "15. 23.709\n",
       "16. 21.669\n",
       "17. 21.752\n",
       "18. 20.761\n",
       "19. 23.479\n",
       "20. 23.824\n",
       "21. 23.105\n",
       "22. 23.11\n",
       "23. 21.759\n",
       "24. 22.073\n",
       "25. 21.937\n",
       "26. 20.035\n",
       "27. 23.59\n",
       "28. 21.672\n",
       "29. 22.222\n",
       "30. 22.123\n",
       "31. 23.95\n",
       "32. 23.504\n",
       "33. 22.238\n",
       "34. 23.142\n",
       "35. 21.059\n",
       "36. 21.573\n",
       "37. 21.548\n",
       "38. 20\n",
       "39. 22.424\n",
       "40. 20.615\n",
       "41. 21.761\n",
       "42. 22.874\n",
       "43. 24.104\n",
       "44. 23.748\n",
       "45. 23.262\n",
       "46. 22.907\n",
       "47. 21.519\n",
       "48. 22.025\n",
       "49. 22.604\n",
       "50. 20.894\n",
       "51. 24.677\n",
       "52. 23.673\n",
       "53. 25.32\n",
       "54. 23.583\n",
       "55. 24.671\n",
       "56. 24.454\n",
       "57. 24.122\n",
       "58. 24.252\n",
       "59. 22.084\n",
       "60. 22.991\n",
       "61. 23.287\n",
       "62. 23.049\n",
       "63. 25.076\n",
       "64. 24.037\n",
       "65. 24.43\n",
       "66. 24.667\n",
       "67. 26.451\n",
       "68. 25.618\n",
       "69. 25.014\n",
       "70. 25.11\n",
       "71. 22.964\n",
       "72. 23.981\n",
       "73. 23.798\n",
       "74. 22.27\n",
       "75. 24.775\n",
       "76. 22.646\n",
       "77. 23.988\n",
       "78. 24.737\n",
       "79. 26.276\n",
       "80. 25.816\n",
       "81. 25.21\n",
       "82. 25.199\n",
       "83. 23.162\n",
       "84. 24.707\n",
       "85. 24.364\n",
       "86. 22.644\n",
       "87. 25.565\n",
       "88. 24.062\n",
       "89. 25.431\n",
       "90. 24.635\n",
       "91. 27.009\n",
       "92. 26.606\n",
       "93. 26.268\n",
       "94. 26.462\n",
       "95. 25.246\n",
       "96. 25.18\n",
       "97. 24.657\n",
       "98. 23.304\n",
       "99. 26.982\n",
       "100. 26.199\n",
       "101. 27.21\n",
       "102. 26.122\n",
       "103. 26.706\n",
       "104. 26.878\n",
       "105. 26.152\n",
       "106. 26.379\n",
       "107. 24.712\n",
       "108. 25.688\n",
       "109. 24.99\n",
       "110. 24.239\n",
       "111. 26.721\n",
       "112. 23.475\n",
       "113. 24.767\n",
       "114. 26.219\n",
       "115. 28.361\n",
       "116. 28.599\n",
       "117. 27.914\n",
       "118. 27.784\n",
       "119. 25.693\n",
       "120. 26.881\n",
       "121. 26.217\n",
       "122. 24.218\n",
       "123. 27.914\n",
       "124. 26.975\n",
       "125. 28.527\n",
       "126. 27.139\n",
       "127. 28.982\n",
       "128. 28.169\n",
       "129. 28.056\n",
       "130. 29.136\n",
       "131. 26.291\n",
       "132. 26.987\n",
       "133. 26.589\n",
       "134. 24.848\n",
       "135. 27.543\n",
       "136. 26.896\n",
       "137. 28.878\n",
       "138. 27.39\n",
       "139. 28.065\n",
       "140. 28.141\n",
       "141. 29.048\n",
       "142. 28.484\n",
       "143. 26.634\n",
       "144. 27.735\n",
       "145. 27.132\n",
       "146. 24.924\n",
       "147. 28.963\n",
       "148. 26.589\n",
       "149. 27.931\n",
       "150. 28.009\n",
       "151. 29.229\n",
       "152. 28.759\n",
       "153. 28.405\n",
       "154. 27.945\n",
       "155. 25.912\n",
       "156. 26.619\n",
       "157. 26.076\n",
       "158. 25.286\n",
       "159. 27.66\n",
       "160. 25.951\n",
       "161. 26.398\n",
       "162. 25.565\n",
       "163. 28.865\n",
       "164. 30\n",
       "165. 29.261\n",
       "166. 29.012\n",
       "167. 26.992\n",
       "168. 27.897\n",
       "\n",
       "\n"
      ],
      "text/plain": [
       "  [1] 26.663 23.598 26.931 24.740 25.806 24.364 24.477 23.901 23.175 23.227\n",
       " [11] 21.672 21.870 21.439 21.089 23.709 21.669 21.752 20.761 23.479 23.824\n",
       " [21] 23.105 23.110 21.759 22.073 21.937 20.035 23.590 21.672 22.222 22.123\n",
       " [31] 23.950 23.504 22.238 23.142 21.059 21.573 21.548 20.000 22.424 20.615\n",
       " [41] 21.761 22.874 24.104 23.748 23.262 22.907 21.519 22.025 22.604 20.894\n",
       " [51] 24.677 23.673 25.320 23.583 24.671 24.454 24.122 24.252 22.084 22.991\n",
       " [61] 23.287 23.049 25.076 24.037 24.430 24.667 26.451 25.618 25.014 25.110\n",
       " [71] 22.964 23.981 23.798 22.270 24.775 22.646 23.988 24.737 26.276 25.816\n",
       " [81] 25.210 25.199 23.162 24.707 24.364 22.644 25.565 24.062 25.431 24.635\n",
       " [91] 27.009 26.606 26.268 26.462 25.246 25.180 24.657 23.304 26.982 26.199\n",
       "[101] 27.210 26.122 26.706 26.878 26.152 26.379 24.712 25.688 24.990 24.239\n",
       "[111] 26.721 23.475 24.767 26.219 28.361 28.599 27.914 27.784 25.693 26.881\n",
       "[121] 26.217 24.218 27.914 26.975 28.527 27.139 28.982 28.169 28.056 29.136\n",
       "[131] 26.291 26.987 26.589 24.848 27.543 26.896 28.878 27.390 28.065 28.141\n",
       "[141] 29.048 28.484 26.634 27.735 27.132 24.924 28.963 26.589 27.931 28.009\n",
       "[151] 29.229 28.759 28.405 27.945 25.912 26.619 26.076 25.286 27.660 25.951\n",
       "[161] 26.398 25.565 28.865 30.000 29.261 29.012 26.992 27.897"
      ]
     },
     "metadata": {},
     "output_type": "display_data"
    }
   ],
   "source": [
    "births <- scan(\"http://robjhyndman.com/tsdldata/data/nybirths.dat\")\n",
    "births"
   ]
  },
  {
   "cell_type": "code",
   "execution_count": 3,
   "metadata": {},
   "outputs": [
    {
     "data": {
      "text/html": [
       "<table>\n",
       "<caption>A Time Series: 14 × 12</caption>\n",
       "<thead>\n",
       "\t<tr><th></th><th scope=col>Jan</th><th scope=col>Feb</th><th scope=col>Mar</th><th scope=col>Apr</th><th scope=col>May</th><th scope=col>Jun</th><th scope=col>Jul</th><th scope=col>Aug</th><th scope=col>Sep</th><th scope=col>Oct</th><th scope=col>Nov</th><th scope=col>Dec</th></tr>\n",
       "</thead>\n",
       "<tbody>\n",
       "\t<tr><th scope=row>1946</th><td>26.663</td><td>23.598</td><td>26.931</td><td>24.740</td><td>25.806</td><td>24.364</td><td>24.477</td><td>23.901</td><td>23.175</td><td>23.227</td><td>21.672</td><td>21.870</td></tr>\n",
       "\t<tr><th scope=row>1947</th><td>21.439</td><td>21.089</td><td>23.709</td><td>21.669</td><td>21.752</td><td>20.761</td><td>23.479</td><td>23.824</td><td>23.105</td><td>23.110</td><td>21.759</td><td>22.073</td></tr>\n",
       "\t<tr><th scope=row>1948</th><td>21.937</td><td>20.035</td><td>23.590</td><td>21.672</td><td>22.222</td><td>22.123</td><td>23.950</td><td>23.504</td><td>22.238</td><td>23.142</td><td>21.059</td><td>21.573</td></tr>\n",
       "\t<tr><th scope=row>1949</th><td>21.548</td><td>20.000</td><td>22.424</td><td>20.615</td><td>21.761</td><td>22.874</td><td>24.104</td><td>23.748</td><td>23.262</td><td>22.907</td><td>21.519</td><td>22.025</td></tr>\n",
       "\t<tr><th scope=row>1950</th><td>22.604</td><td>20.894</td><td>24.677</td><td>23.673</td><td>25.320</td><td>23.583</td><td>24.671</td><td>24.454</td><td>24.122</td><td>24.252</td><td>22.084</td><td>22.991</td></tr>\n",
       "\t<tr><th scope=row>1951</th><td>23.287</td><td>23.049</td><td>25.076</td><td>24.037</td><td>24.430</td><td>24.667</td><td>26.451</td><td>25.618</td><td>25.014</td><td>25.110</td><td>22.964</td><td>23.981</td></tr>\n",
       "\t<tr><th scope=row>1952</th><td>23.798</td><td>22.270</td><td>24.775</td><td>22.646</td><td>23.988</td><td>24.737</td><td>26.276</td><td>25.816</td><td>25.210</td><td>25.199</td><td>23.162</td><td>24.707</td></tr>\n",
       "\t<tr><th scope=row>1953</th><td>24.364</td><td>22.644</td><td>25.565</td><td>24.062</td><td>25.431</td><td>24.635</td><td>27.009</td><td>26.606</td><td>26.268</td><td>26.462</td><td>25.246</td><td>25.180</td></tr>\n",
       "\t<tr><th scope=row>1954</th><td>24.657</td><td>23.304</td><td>26.982</td><td>26.199</td><td>27.210</td><td>26.122</td><td>26.706</td><td>26.878</td><td>26.152</td><td>26.379</td><td>24.712</td><td>25.688</td></tr>\n",
       "\t<tr><th scope=row>1955</th><td>24.990</td><td>24.239</td><td>26.721</td><td>23.475</td><td>24.767</td><td>26.219</td><td>28.361</td><td>28.599</td><td>27.914</td><td>27.784</td><td>25.693</td><td>26.881</td></tr>\n",
       "\t<tr><th scope=row>1956</th><td>26.217</td><td>24.218</td><td>27.914</td><td>26.975</td><td>28.527</td><td>27.139</td><td>28.982</td><td>28.169</td><td>28.056</td><td>29.136</td><td>26.291</td><td>26.987</td></tr>\n",
       "\t<tr><th scope=row>1957</th><td>26.589</td><td>24.848</td><td>27.543</td><td>26.896</td><td>28.878</td><td>27.390</td><td>28.065</td><td>28.141</td><td>29.048</td><td>28.484</td><td>26.634</td><td>27.735</td></tr>\n",
       "\t<tr><th scope=row>1958</th><td>27.132</td><td>24.924</td><td>28.963</td><td>26.589</td><td>27.931</td><td>28.009</td><td>29.229</td><td>28.759</td><td>28.405</td><td>27.945</td><td>25.912</td><td>26.619</td></tr>\n",
       "\t<tr><th scope=row>1959</th><td>26.076</td><td>25.286</td><td>27.660</td><td>25.951</td><td>26.398</td><td>25.565</td><td>28.865</td><td>30.000</td><td>29.261</td><td>29.012</td><td>26.992</td><td>27.897</td></tr>\n",
       "</tbody>\n",
       "</table>\n"
      ],
      "text/latex": [
       "A Time Series: 14 × 12\n",
       "\\begin{tabular}{r|llllllllllll}\n",
       "  & Jan & Feb & Mar & Apr & May & Jun & Jul & Aug & Sep & Oct & Nov & Dec\\\\\n",
       "\\hline\n",
       "\t1946 & 26.663 & 23.598 & 26.931 & 24.740 & 25.806 & 24.364 & 24.477 & 23.901 & 23.175 & 23.227 & 21.672 & 21.870\\\\\n",
       "\t1947 & 21.439 & 21.089 & 23.709 & 21.669 & 21.752 & 20.761 & 23.479 & 23.824 & 23.105 & 23.110 & 21.759 & 22.073\\\\\n",
       "\t1948 & 21.937 & 20.035 & 23.590 & 21.672 & 22.222 & 22.123 & 23.950 & 23.504 & 22.238 & 23.142 & 21.059 & 21.573\\\\\n",
       "\t1949 & 21.548 & 20.000 & 22.424 & 20.615 & 21.761 & 22.874 & 24.104 & 23.748 & 23.262 & 22.907 & 21.519 & 22.025\\\\\n",
       "\t1950 & 22.604 & 20.894 & 24.677 & 23.673 & 25.320 & 23.583 & 24.671 & 24.454 & 24.122 & 24.252 & 22.084 & 22.991\\\\\n",
       "\t1951 & 23.287 & 23.049 & 25.076 & 24.037 & 24.430 & 24.667 & 26.451 & 25.618 & 25.014 & 25.110 & 22.964 & 23.981\\\\\n",
       "\t1952 & 23.798 & 22.270 & 24.775 & 22.646 & 23.988 & 24.737 & 26.276 & 25.816 & 25.210 & 25.199 & 23.162 & 24.707\\\\\n",
       "\t1953 & 24.364 & 22.644 & 25.565 & 24.062 & 25.431 & 24.635 & 27.009 & 26.606 & 26.268 & 26.462 & 25.246 & 25.180\\\\\n",
       "\t1954 & 24.657 & 23.304 & 26.982 & 26.199 & 27.210 & 26.122 & 26.706 & 26.878 & 26.152 & 26.379 & 24.712 & 25.688\\\\\n",
       "\t1955 & 24.990 & 24.239 & 26.721 & 23.475 & 24.767 & 26.219 & 28.361 & 28.599 & 27.914 & 27.784 & 25.693 & 26.881\\\\\n",
       "\t1956 & 26.217 & 24.218 & 27.914 & 26.975 & 28.527 & 27.139 & 28.982 & 28.169 & 28.056 & 29.136 & 26.291 & 26.987\\\\\n",
       "\t1957 & 26.589 & 24.848 & 27.543 & 26.896 & 28.878 & 27.390 & 28.065 & 28.141 & 29.048 & 28.484 & 26.634 & 27.735\\\\\n",
       "\t1958 & 27.132 & 24.924 & 28.963 & 26.589 & 27.931 & 28.009 & 29.229 & 28.759 & 28.405 & 27.945 & 25.912 & 26.619\\\\\n",
       "\t1959 & 26.076 & 25.286 & 27.660 & 25.951 & 26.398 & 25.565 & 28.865 & 30.000 & 29.261 & 29.012 & 26.992 & 27.897\\\\\n",
       "\\end{tabular}\n"
      ],
      "text/markdown": [
       "\n",
       "A Time Series: 14 × 12\n",
       "\n",
       "| <!--/--> | Jan | Feb | Mar | Apr | May | Jun | Jul | Aug | Sep | Oct | Nov | Dec |\n",
       "|---|---|---|---|---|---|---|---|---|---|---|---|---|\n",
       "| 1946 | 26.663 | 23.598 | 26.931 | 24.740 | 25.806 | 24.364 | 24.477 | 23.901 | 23.175 | 23.227 | 21.672 | 21.870 |\n",
       "| 1947 | 21.439 | 21.089 | 23.709 | 21.669 | 21.752 | 20.761 | 23.479 | 23.824 | 23.105 | 23.110 | 21.759 | 22.073 |\n",
       "| 1948 | 21.937 | 20.035 | 23.590 | 21.672 | 22.222 | 22.123 | 23.950 | 23.504 | 22.238 | 23.142 | 21.059 | 21.573 |\n",
       "| 1949 | 21.548 | 20.000 | 22.424 | 20.615 | 21.761 | 22.874 | 24.104 | 23.748 | 23.262 | 22.907 | 21.519 | 22.025 |\n",
       "| 1950 | 22.604 | 20.894 | 24.677 | 23.673 | 25.320 | 23.583 | 24.671 | 24.454 | 24.122 | 24.252 | 22.084 | 22.991 |\n",
       "| 1951 | 23.287 | 23.049 | 25.076 | 24.037 | 24.430 | 24.667 | 26.451 | 25.618 | 25.014 | 25.110 | 22.964 | 23.981 |\n",
       "| 1952 | 23.798 | 22.270 | 24.775 | 22.646 | 23.988 | 24.737 | 26.276 | 25.816 | 25.210 | 25.199 | 23.162 | 24.707 |\n",
       "| 1953 | 24.364 | 22.644 | 25.565 | 24.062 | 25.431 | 24.635 | 27.009 | 26.606 | 26.268 | 26.462 | 25.246 | 25.180 |\n",
       "| 1954 | 24.657 | 23.304 | 26.982 | 26.199 | 27.210 | 26.122 | 26.706 | 26.878 | 26.152 | 26.379 | 24.712 | 25.688 |\n",
       "| 1955 | 24.990 | 24.239 | 26.721 | 23.475 | 24.767 | 26.219 | 28.361 | 28.599 | 27.914 | 27.784 | 25.693 | 26.881 |\n",
       "| 1956 | 26.217 | 24.218 | 27.914 | 26.975 | 28.527 | 27.139 | 28.982 | 28.169 | 28.056 | 29.136 | 26.291 | 26.987 |\n",
       "| 1957 | 26.589 | 24.848 | 27.543 | 26.896 | 28.878 | 27.390 | 28.065 | 28.141 | 29.048 | 28.484 | 26.634 | 27.735 |\n",
       "| 1958 | 27.132 | 24.924 | 28.963 | 26.589 | 27.931 | 28.009 | 29.229 | 28.759 | 28.405 | 27.945 | 25.912 | 26.619 |\n",
       "| 1959 | 26.076 | 25.286 | 27.660 | 25.951 | 26.398 | 25.565 | 28.865 | 30.000 | 29.261 | 29.012 | 26.992 | 27.897 |\n",
       "\n"
      ],
      "text/plain": [
       "     Jan    Feb    Mar    Apr    May    Jun    Jul    Aug    Sep    Oct   \n",
       "1946 26.663 23.598 26.931 24.740 25.806 24.364 24.477 23.901 23.175 23.227\n",
       "1947 21.439 21.089 23.709 21.669 21.752 20.761 23.479 23.824 23.105 23.110\n",
       "1948 21.937 20.035 23.590 21.672 22.222 22.123 23.950 23.504 22.238 23.142\n",
       "1949 21.548 20.000 22.424 20.615 21.761 22.874 24.104 23.748 23.262 22.907\n",
       "1950 22.604 20.894 24.677 23.673 25.320 23.583 24.671 24.454 24.122 24.252\n",
       "1951 23.287 23.049 25.076 24.037 24.430 24.667 26.451 25.618 25.014 25.110\n",
       "1952 23.798 22.270 24.775 22.646 23.988 24.737 26.276 25.816 25.210 25.199\n",
       "1953 24.364 22.644 25.565 24.062 25.431 24.635 27.009 26.606 26.268 26.462\n",
       "1954 24.657 23.304 26.982 26.199 27.210 26.122 26.706 26.878 26.152 26.379\n",
       "1955 24.990 24.239 26.721 23.475 24.767 26.219 28.361 28.599 27.914 27.784\n",
       "1956 26.217 24.218 27.914 26.975 28.527 27.139 28.982 28.169 28.056 29.136\n",
       "1957 26.589 24.848 27.543 26.896 28.878 27.390 28.065 28.141 29.048 28.484\n",
       "1958 27.132 24.924 28.963 26.589 27.931 28.009 29.229 28.759 28.405 27.945\n",
       "1959 26.076 25.286 27.660 25.951 26.398 25.565 28.865 30.000 29.261 29.012\n",
       "     Nov    Dec   \n",
       "1946 21.672 21.870\n",
       "1947 21.759 22.073\n",
       "1948 21.059 21.573\n",
       "1949 21.519 22.025\n",
       "1950 22.084 22.991\n",
       "1951 22.964 23.981\n",
       "1952 23.162 24.707\n",
       "1953 25.246 25.180\n",
       "1954 24.712 25.688\n",
       "1955 25.693 26.881\n",
       "1956 26.291 26.987\n",
       "1957 26.634 27.735\n",
       "1958 25.912 26.619\n",
       "1959 26.992 27.897"
      ]
     },
     "metadata": {},
     "output_type": "display_data"
    }
   ],
   "source": [
    "ts_births<-ts(births, start=c(1946,1), frequency = 12)\n",
    "ts_births"
   ]
  },
  {
   "cell_type": "code",
   "execution_count": 4,
   "metadata": {},
   "outputs": [
    {
     "data": {
      "text/html": [
       "<table>\n",
       "<caption>A Time Series: 14 × 4</caption>\n",
       "<thead>\n",
       "\t<tr><th></th><th scope=col>Qtr1</th><th scope=col>Qtr2</th><th scope=col>Qtr3</th><th scope=col>Qtr4</th></tr>\n",
       "</thead>\n",
       "<tbody>\n",
       "\t<tr><th scope=row>1946</th><td>77.192</td><td>74.910</td><td>71.553</td><td>66.769</td></tr>\n",
       "\t<tr><th scope=row>1947</th><td>66.237</td><td>64.182</td><td>70.408</td><td>66.942</td></tr>\n",
       "\t<tr><th scope=row>1948</th><td>65.562</td><td>66.017</td><td>69.692</td><td>65.774</td></tr>\n",
       "\t<tr><th scope=row>1949</th><td>63.972</td><td>65.250</td><td>71.114</td><td>66.451</td></tr>\n",
       "\t<tr><th scope=row>1950</th><td>68.175</td><td>72.576</td><td>73.247</td><td>69.327</td></tr>\n",
       "\t<tr><th scope=row>1951</th><td>71.412</td><td>73.134</td><td>77.083</td><td>72.055</td></tr>\n",
       "\t<tr><th scope=row>1952</th><td>70.843</td><td>71.371</td><td>77.302</td><td>73.068</td></tr>\n",
       "\t<tr><th scope=row>1953</th><td>72.573</td><td>74.128</td><td>79.883</td><td>76.888</td></tr>\n",
       "\t<tr><th scope=row>1954</th><td>74.943</td><td>79.531</td><td>79.736</td><td>76.779</td></tr>\n",
       "\t<tr><th scope=row>1955</th><td>75.950</td><td>74.461</td><td>84.874</td><td>80.358</td></tr>\n",
       "\t<tr><th scope=row>1956</th><td>78.349</td><td>82.641</td><td>85.207</td><td>82.414</td></tr>\n",
       "\t<tr><th scope=row>1957</th><td>78.980</td><td>83.164</td><td>85.254</td><td>82.853</td></tr>\n",
       "\t<tr><th scope=row>1958</th><td>81.019</td><td>82.529</td><td>86.393</td><td>80.476</td></tr>\n",
       "\t<tr><th scope=row>1959</th><td>79.022</td><td>77.914</td><td>88.126</td><td>83.901</td></tr>\n",
       "</tbody>\n",
       "</table>\n"
      ],
      "text/latex": [
       "A Time Series: 14 × 4\n",
       "\\begin{tabular}{r|llll}\n",
       "  & Qtr1 & Qtr2 & Qtr3 & Qtr4\\\\\n",
       "\\hline\n",
       "\t1946 & 77.192 & 74.910 & 71.553 & 66.769\\\\\n",
       "\t1947 & 66.237 & 64.182 & 70.408 & 66.942\\\\\n",
       "\t1948 & 65.562 & 66.017 & 69.692 & 65.774\\\\\n",
       "\t1949 & 63.972 & 65.250 & 71.114 & 66.451\\\\\n",
       "\t1950 & 68.175 & 72.576 & 73.247 & 69.327\\\\\n",
       "\t1951 & 71.412 & 73.134 & 77.083 & 72.055\\\\\n",
       "\t1952 & 70.843 & 71.371 & 77.302 & 73.068\\\\\n",
       "\t1953 & 72.573 & 74.128 & 79.883 & 76.888\\\\\n",
       "\t1954 & 74.943 & 79.531 & 79.736 & 76.779\\\\\n",
       "\t1955 & 75.950 & 74.461 & 84.874 & 80.358\\\\\n",
       "\t1956 & 78.349 & 82.641 & 85.207 & 82.414\\\\\n",
       "\t1957 & 78.980 & 83.164 & 85.254 & 82.853\\\\\n",
       "\t1958 & 81.019 & 82.529 & 86.393 & 80.476\\\\\n",
       "\t1959 & 79.022 & 77.914 & 88.126 & 83.901\\\\\n",
       "\\end{tabular}\n"
      ],
      "text/markdown": [
       "\n",
       "A Time Series: 14 × 4\n",
       "\n",
       "| <!--/--> | Qtr1 | Qtr2 | Qtr3 | Qtr4 |\n",
       "|---|---|---|---|---|\n",
       "| 1946 | 77.192 | 74.910 | 71.553 | 66.769 |\n",
       "| 1947 | 66.237 | 64.182 | 70.408 | 66.942 |\n",
       "| 1948 | 65.562 | 66.017 | 69.692 | 65.774 |\n",
       "| 1949 | 63.972 | 65.250 | 71.114 | 66.451 |\n",
       "| 1950 | 68.175 | 72.576 | 73.247 | 69.327 |\n",
       "| 1951 | 71.412 | 73.134 | 77.083 | 72.055 |\n",
       "| 1952 | 70.843 | 71.371 | 77.302 | 73.068 |\n",
       "| 1953 | 72.573 | 74.128 | 79.883 | 76.888 |\n",
       "| 1954 | 74.943 | 79.531 | 79.736 | 76.779 |\n",
       "| 1955 | 75.950 | 74.461 | 84.874 | 80.358 |\n",
       "| 1956 | 78.349 | 82.641 | 85.207 | 82.414 |\n",
       "| 1957 | 78.980 | 83.164 | 85.254 | 82.853 |\n",
       "| 1958 | 81.019 | 82.529 | 86.393 | 80.476 |\n",
       "| 1959 | 79.022 | 77.914 | 88.126 | 83.901 |\n",
       "\n"
      ],
      "text/plain": [
       "     Qtr1   Qtr2   Qtr3   Qtr4  \n",
       "1946 77.192 74.910 71.553 66.769\n",
       "1947 66.237 64.182 70.408 66.942\n",
       "1948 65.562 66.017 69.692 65.774\n",
       "1949 63.972 65.250 71.114 66.451\n",
       "1950 68.175 72.576 73.247 69.327\n",
       "1951 71.412 73.134 77.083 72.055\n",
       "1952 70.843 71.371 77.302 73.068\n",
       "1953 72.573 74.128 79.883 76.888\n",
       "1954 74.943 79.531 79.736 76.779\n",
       "1955 75.950 74.461 84.874 80.358\n",
       "1956 78.349 82.641 85.207 82.414\n",
       "1957 78.980 83.164 85.254 82.853\n",
       "1958 81.019 82.529 86.393 80.476\n",
       "1959 79.022 77.914 88.126 83.901"
      ]
     },
     "metadata": {},
     "output_type": "display_data"
    }
   ],
   "source": [
    "# 분기별 데이터로 변환\n",
    "quarter_births<-aggregate(ts_births, nfrequency = 4, FUN = sum)\n",
    "quarter_births"
   ]
  },
  {
   "cell_type": "code",
   "execution_count": 6,
   "metadata": {},
   "outputs": [
    {
     "data": {
      "text/html": [
       "<table>\n",
       "<caption>A Time Series: 12 × 4</caption>\n",
       "<thead>\n",
       "\t<tr><th></th><th scope=col>Qtr1</th><th scope=col>Qtr2</th><th scope=col>Qtr3</th><th scope=col>Qtr4</th></tr>\n",
       "</thead>\n",
       "<tbody>\n",
       "\t<tr><th scope=row>1946</th><td>77.192</td><td>74.910</td><td>71.553</td><td>66.769</td></tr>\n",
       "\t<tr><th scope=row>1947</th><td>66.237</td><td>64.182</td><td>70.408</td><td>66.942</td></tr>\n",
       "\t<tr><th scope=row>1948</th><td>65.562</td><td>66.017</td><td>69.692</td><td>65.774</td></tr>\n",
       "\t<tr><th scope=row>1949</th><td>63.972</td><td>65.250</td><td>71.114</td><td>66.451</td></tr>\n",
       "\t<tr><th scope=row>1950</th><td>68.175</td><td>72.576</td><td>73.247</td><td>69.327</td></tr>\n",
       "\t<tr><th scope=row>1951</th><td>71.412</td><td>73.134</td><td>77.083</td><td>72.055</td></tr>\n",
       "\t<tr><th scope=row>1952</th><td>70.843</td><td>71.371</td><td>77.302</td><td>73.068</td></tr>\n",
       "\t<tr><th scope=row>1953</th><td>72.573</td><td>74.128</td><td>79.883</td><td>76.888</td></tr>\n",
       "\t<tr><th scope=row>1954</th><td>74.943</td><td>79.531</td><td>79.736</td><td>76.779</td></tr>\n",
       "\t<tr><th scope=row>1955</th><td>75.950</td><td>74.461</td><td>84.874</td><td>80.358</td></tr>\n",
       "\t<tr><th scope=row>1956</th><td>78.349</td><td>82.641</td><td>85.207</td><td>82.414</td></tr>\n",
       "\t<tr><th scope=row>1957</th><td>78.980</td><td>83.164</td><td>      </td><td>      </td></tr>\n",
       "</tbody>\n",
       "</table>\n"
      ],
      "text/latex": [
       "A Time Series: 12 × 4\n",
       "\\begin{tabular}{r|llll}\n",
       "  & Qtr1 & Qtr2 & Qtr3 & Qtr4\\\\\n",
       "\\hline\n",
       "\t1946 & 77.192 & 74.910 & 71.553 & 66.769\\\\\n",
       "\t1947 & 66.237 & 64.182 & 70.408 & 66.942\\\\\n",
       "\t1948 & 65.562 & 66.017 & 69.692 & 65.774\\\\\n",
       "\t1949 & 63.972 & 65.250 & 71.114 & 66.451\\\\\n",
       "\t1950 & 68.175 & 72.576 & 73.247 & 69.327\\\\\n",
       "\t1951 & 71.412 & 73.134 & 77.083 & 72.055\\\\\n",
       "\t1952 & 70.843 & 71.371 & 77.302 & 73.068\\\\\n",
       "\t1953 & 72.573 & 74.128 & 79.883 & 76.888\\\\\n",
       "\t1954 & 74.943 & 79.531 & 79.736 & 76.779\\\\\n",
       "\t1955 & 75.950 & 74.461 & 84.874 & 80.358\\\\\n",
       "\t1956 & 78.349 & 82.641 & 85.207 & 82.414\\\\\n",
       "\t1957 & 78.980 & 83.164 &        &       \\\\\n",
       "\\end{tabular}\n"
      ],
      "text/markdown": [
       "\n",
       "A Time Series: 12 × 4\n",
       "\n",
       "| <!--/--> | Qtr1 | Qtr2 | Qtr3 | Qtr4 |\n",
       "|---|---|---|---|---|\n",
       "| 1946 | 77.192 | 74.910 | 71.553 | 66.769 |\n",
       "| 1947 | 66.237 | 64.182 | 70.408 | 66.942 |\n",
       "| 1948 | 65.562 | 66.017 | 69.692 | 65.774 |\n",
       "| 1949 | 63.972 | 65.250 | 71.114 | 66.451 |\n",
       "| 1950 | 68.175 | 72.576 | 73.247 | 69.327 |\n",
       "| 1951 | 71.412 | 73.134 | 77.083 | 72.055 |\n",
       "| 1952 | 70.843 | 71.371 | 77.302 | 73.068 |\n",
       "| 1953 | 72.573 | 74.128 | 79.883 | 76.888 |\n",
       "| 1954 | 74.943 | 79.531 | 79.736 | 76.779 |\n",
       "| 1955 | 75.950 | 74.461 | 84.874 | 80.358 |\n",
       "| 1956 | 78.349 | 82.641 | 85.207 | 82.414 |\n",
       "| 1957 | 78.980 | 83.164 | <!----> | <!----> |\n",
       "\n"
      ],
      "text/plain": [
       "     Qtr1   Qtr2   Qtr3   Qtr4  \n",
       "1946 77.192 74.910 71.553 66.769\n",
       "1947 66.237 64.182 70.408 66.942\n",
       "1948 65.562 66.017 69.692 65.774\n",
       "1949 63.972 65.250 71.114 66.451\n",
       "1950 68.175 72.576 73.247 69.327\n",
       "1951 71.412 73.134 77.083 72.055\n",
       "1952 70.843 71.371 77.302 73.068\n",
       "1953 72.573 74.128 79.883 76.888\n",
       "1954 74.943 79.531 79.736 76.779\n",
       "1955 75.950 74.461 84.874 80.358\n",
       "1956 78.349 82.641 85.207 82.414\n",
       "1957 78.980 83.164              "
      ]
     },
     "metadata": {},
     "output_type": "display_data"
    },
    {
     "data": {
      "text/html": [
       "<table>\n",
       "<caption>A Time Series: 3 × 4</caption>\n",
       "<thead>\n",
       "\t<tr><th></th><th scope=col>Qtr1</th><th scope=col>Qtr2</th><th scope=col>Qtr3</th><th scope=col>Qtr4</th></tr>\n",
       "</thead>\n",
       "<tbody>\n",
       "\t<tr><th scope=row>1957</th><td>      </td><td>      </td><td>85.254</td><td>82.853</td></tr>\n",
       "\t<tr><th scope=row>1958</th><td>81.019</td><td>82.529</td><td>86.393</td><td>80.476</td></tr>\n",
       "\t<tr><th scope=row>1959</th><td>79.022</td><td>77.914</td><td>88.126</td><td>83.901</td></tr>\n",
       "</tbody>\n",
       "</table>\n"
      ],
      "text/latex": [
       "A Time Series: 3 × 4\n",
       "\\begin{tabular}{r|llll}\n",
       "  & Qtr1 & Qtr2 & Qtr3 & Qtr4\\\\\n",
       "\\hline\n",
       "\t1957 &        &        & 85.254 & 82.853\\\\\n",
       "\t1958 & 81.019 & 82.529 & 86.393 & 80.476\\\\\n",
       "\t1959 & 79.022 & 77.914 & 88.126 & 83.901\\\\\n",
       "\\end{tabular}\n"
      ],
      "text/markdown": [
       "\n",
       "A Time Series: 3 × 4\n",
       "\n",
       "| <!--/--> | Qtr1 | Qtr2 | Qtr3 | Qtr4 |\n",
       "|---|---|---|---|---|\n",
       "| 1957 | <!----> | <!----> | 85.254 | 82.853 |\n",
       "| 1958 | 81.019 | 82.529 | 86.393 | 80.476 |\n",
       "| 1959 | 79.022 | 77.914 | 88.126 | 83.901 |\n",
       "\n"
      ],
      "text/plain": [
       "     Qtr1   Qtr2   Qtr3   Qtr4  \n",
       "1957               85.254 82.853\n",
       "1958 81.019 82.529 86.393 80.476\n",
       "1959 79.022 77.914 88.126 83.901"
      ]
     },
     "metadata": {},
     "output_type": "display_data"
    }
   ],
   "source": [
    "# split train, test data\n",
    "train<-window(quarter_births, end=c(1957,2))\n",
    "test<-window(quarter_births, start=c(1957,3), end=c(1959,4))\n",
    "train\n",
    "test"
   ]
  },
  {
   "cell_type": "code",
   "execution_count": 7,
   "metadata": {},
   "outputs": [
    {
     "data": {
      "text/plain": [
       "\n",
       "####################### \n",
       "# KPSS Unit Root Test # \n",
       "####################### \n",
       "\n",
       "Test is of type: mu with 3 lags. \n",
       "\n",
       "Value of test-statistic is: 1.0107 \n",
       "\n",
       "Critical value for a significance level of: \n",
       "                10pct  5pct 2.5pct  1pct\n",
       "critical values 0.347 0.463  0.574 0.739\n"
      ]
     },
     "metadata": {},
     "output_type": "display_data"
    },
    {
     "data": {
      "image/png": "[encoded data removed]",
      "text/plain": [
       "plot without title"
      ]
     },
     "metadata": {
      "image/png": {
       "height": 420,
       "width": 420
      }
     },
     "output_type": "display_data"
    }
   ],
   "source": [
    "# train 데이터 정상성 검정\n",
    "ggtsdisplay(train)\n",
    "summary(ur.kpss(train))\n",
    "# 검정통계량값이 1pct의 임계치보다 크므로 귀무가설(정상시계열이다) 기각! 즉, 해당 데이터는 비정상시계열!\n",
    "# ACF, PACF함수 모양을 보니 차분 1번을 해야 하는 그래프이다!"
   ]
  },
  {
   "cell_type": "code",
   "execution_count": 9,
   "metadata": {},
   "outputs": [
    {
     "data": {
      "text/html": [
       "1"
      ],
      "text/latex": [
       "1"
      ],
      "text/markdown": [
       "1"
      ],
      "text/plain": [
       "[1] 1"
      ]
     },
     "metadata": {},
     "output_type": "display_data"
    }
   ],
   "source": [
    "# 권장하는 차분횟수 출력\n",
    "ndiffs(train)"
   ]
  },
  {
   "cell_type": "code",
   "execution_count": 10,
   "metadata": {},
   "outputs": [
    {
     "data": {
      "text/plain": [
       "\n",
       "####################### \n",
       "# KPSS Unit Root Test # \n",
       "####################### \n",
       "\n",
       "Test is of type: mu with 3 lags. \n",
       "\n",
       "Value of test-statistic is: 0.3612 \n",
       "\n",
       "Critical value for a significance level of: \n",
       "                10pct  5pct 2.5pct  1pct\n",
       "critical values 0.347 0.463  0.574 0.739\n"
      ]
     },
     "metadata": {},
     "output_type": "display_data"
    },
    {
     "data": {
      "image/png": "[encoded data removed]",
      "text/plain": [
       "plot without title"
      ]
     },
     "metadata": {
      "image/png": {
       "height": 420,
       "width": 420
      }
     },
     "output_type": "display_data"
    }
   ],
   "source": [
    "# 차분1번 시행한 후 KPSS검정과 ACF, PACF 그래프 살펴보기\n",
    "ggtsdisplay(diff(train))\n",
    "summary(ur.kpss(diff(train)))"
   ]
  },
  {
   "cell_type": "code",
   "execution_count": 11,
   "metadata": {},
   "outputs": [],
   "source": [
    "# 1번 차분함으로써 정상성 데이터 얻음\n",
    "# ACF함수에서 막대기 3개가 팍 튐! => MA(1) or MA(2) or MA(3)\n",
    "# PACF함수에서 막대기가 1~2개 팍튐! => AR(1) or AR(2)"
   ]
  },
  {
   "cell_type": "markdown",
   "metadata": {},
   "source": [
    "## 모델후보\n",
    "\n",
    "1. ARIMA(1,1,1)\n",
    "2. ARIMA(1,1,2)\n",
    "3. ARIMA(1,1,3)\n",
    "4. ARIMA(2,1,1)\n",
    "5. ARIMA(2,1,2)\n",
    "6. ARIMA(2,1,3)\n",
    "7. auto.arima"
   ]
  },
  {
   "cell_type": "code",
   "execution_count": 12,
   "metadata": {
    "scrolled": true
   },
   "outputs": [
    {
     "data": {
      "text/plain": [
       "Series: train \n",
       "ARIMA(1,1,1) \n",
       "\n",
       "Coefficients:\n",
       "         ar1      ma1\n",
       "      0.1824  -0.6280\n",
       "s.e.  0.2278   0.1662\n",
       "\n",
       "sigma^2 estimated as 11.74:  log likelihood=-118.39\n",
       "AIC=242.78   AICc=243.37   BIC=248.2"
      ]
     },
     "metadata": {},
     "output_type": "display_data"
    },
    {
     "data": {
      "text/plain": [
       "Series: train \n",
       "ARIMA(1,1,2) \n",
       "\n",
       "Coefficients:\n",
       "          ar1      ma1      ma2\n",
       "      -0.1444  -0.2410  -0.2443\n",
       "s.e.   0.3628   0.3317   0.1705\n",
       "\n",
       "sigma^2 estimated as 11.72:  log likelihood=-117.83\n",
       "AIC=243.67   AICc=244.67   BIC=250.9"
      ]
     },
     "metadata": {},
     "output_type": "display_data"
    },
    {
     "data": {
      "text/plain": [
       "Series: train \n",
       "ARIMA(1,1,3) \n",
       "\n",
       "Coefficients:\n",
       "         ar1      ma1     ma2     ma3\n",
       "      0.8002  -1.3173  0.1782  0.3531\n",
       "s.e.  0.1662   0.1966  0.2285  0.1354\n",
       "\n",
       "sigma^2 estimated as 10.65:  log likelihood=-115.92\n",
       "AIC=241.83   AICc=243.37   BIC=250.86"
      ]
     },
     "metadata": {},
     "output_type": "display_data"
    }
   ],
   "source": [
    "# 7개 모델 적합시키기\n",
    "arima111<-Arima(train, order=c(1,1,1))\n",
    "arima112<-Arima(train, order=c(1,1,2))\n",
    "arima113<-Arima(train, order=c(1,1,3))\n",
    "arima211<-Arima(train, order=c(2,1,1))\n",
    "arima212<-Arima(train, order=c(2,1,2))\n",
    "arima213<-Arima(train, order=c(2,1,3))\n",
    "auto_arima<-auto.arima(train)\n",
    "\n",
    "arima111 # 차수가 가장적으면서 AICc값 가장 낮음!\n",
    "arima112\n",
    "arima113"
   ]
  },
  {
   "cell_type": "code",
   "execution_count": 14,
   "metadata": {},
   "outputs": [
    {
     "data": {
      "text/plain": [
       "Series: train \n",
       "ARIMA(2,1,1) \n",
       "\n",
       "Coefficients:\n",
       "          ar1      ar2      ma1\n",
       "      -0.0790  -0.3962  -0.3197\n",
       "s.e.   0.2109   0.1499   0.2016\n",
       "\n",
       "sigma^2 estimated as 10.71:  log likelihood=-115.95\n",
       "AIC=239.9   AICc=240.9   BIC=247.13"
      ]
     },
     "metadata": {},
     "output_type": "display_data"
    },
    {
     "data": {
      "text/plain": [
       "Series: train \n",
       "ARIMA(2,1,2) \n",
       "\n",
       "Coefficients:\n",
       "         ar1      ar2      ma1     ma2\n",
       "      0.0451  -0.9655  -0.2944  0.9999\n",
       "s.e.  0.0394   0.0350   0.0841  0.1182\n",
       "\n",
       "sigma^2 estimated as 7.085:  log likelihood=-108.87\n",
       "AIC=227.75   AICc=229.28   BIC=236.78"
      ]
     },
     "metadata": {},
     "output_type": "display_data"
    },
    {
     "data": {
      "text/plain": [
       "Series: train \n",
       "ARIMA(2,1,3) \n",
       "\n",
       "Coefficients:\n",
       "         ar1      ar2      ma1     ma2      ma3\n",
       "      0.0493  -0.9808  -0.4489  1.0503  -0.2155\n",
       "s.e.  0.0337   0.0252   0.1425  0.1132   0.1570\n",
       "\n",
       "sigma^2 estimated as 6.951:  log likelihood=-107.93\n",
       "AIC=227.86   AICc=230.07   BIC=238.7"
      ]
     },
     "metadata": {},
     "output_type": "display_data"
    }
   ],
   "source": [
    "arima211\n",
    "arima212\n",
    "arima213\n",
    "#auto_arima # SARIMA는 제외해주자!"
   ]
  },
  {
   "cell_type": "code",
   "execution_count": 15,
   "metadata": {},
   "outputs": [
    {
     "name": "stdout",
     "output_type": "stream",
     "text": [
      "Series: train \n",
      "ARIMA(2,1,2) \n",
      "\n",
      "Coefficients:\n",
      "         ar1      ar2      ma1     ma2\n",
      "      0.0451  -0.9655  -0.2944  0.9999\n",
      "s.e.  0.0394   0.0350   0.0841  0.1182\n",
      "\n",
      "sigma^2 estimated as 7.085:  log likelihood=-108.87\n",
      "AIC=227.75   AICc=229.28   BIC=236.78\n",
      "\n",
      "Training set error measures:\n",
      "                    ME     RMSE      MAE       MPE    MAPE      MASE       ACF1\n",
      "Training set 0.1560323 2.512888 1.900782 0.1111469 2.61418 0.7247977 -0.2094847\n",
      "Series: train \n",
      "ARIMA(2,1,3) \n",
      "\n",
      "Coefficients:\n",
      "         ar1      ar2      ma1     ma2      ma3\n",
      "      0.0493  -0.9808  -0.4489  1.0503  -0.2155\n",
      "s.e.  0.0337   0.0252   0.1425  0.1132   0.1570\n",
      "\n",
      "sigma^2 estimated as 6.951:  log likelihood=-107.93\n",
      "AIC=227.86   AICc=230.07   BIC=238.7\n",
      "\n",
      "Training set error measures:\n",
      "                    ME     RMSE      MAE       MPE     MAPE      MASE\n",
      "Training set 0.1914713 2.458469 1.871488 0.1490633 2.581668 0.7136273\n",
      "                    ACF1\n",
      "Training set -0.04104724\n"
     ]
    }
   ],
   "source": [
    "# 위 여러가지 모델들의 요약값으로 보아 ARIMA(2,1,2) 와 ARIMA(2,1,3) 2파전으로 비교해보자\n",
    "# 우선은 ARIMA(2,1,2)모델이 차수도 더 적으면서 AICc값이 더 낮음\n",
    "\n",
    "# 적합된 데이터들과 원 데이터들간의 RMSE값도 비교해보기\n",
    "summary(arima212)\n",
    "summary(arima213)\n",
    "\n",
    "# RMSE값은 ARIMA(2,1,3)모델이 더 적게 나타남..!"
   ]
  },
  {
   "cell_type": "code",
   "execution_count": 16,
   "metadata": {},
   "outputs": [
    {
     "name": "stdout",
     "output_type": "stream",
     "text": [
      "\n",
      "\tLjung-Box test\n",
      "\n",
      "data:  Residuals from ARIMA(2,1,2)\n",
      "Q* = 13.79, df = 4, p-value = 0.007997\n",
      "\n",
      "Model df: 4.   Total lags used: 8\n",
      "\n"
     ]
    },
    {
     "data": {
      "image/png": "[encoded data removed]",
      "text/plain": [
       "plot without title"
      ]
     },
     "metadata": {
      "image/png": {
       "height": 420,
       "width": 420
      }
     },
     "output_type": "display_data"
    },
    {
     "name": "stdout",
     "output_type": "stream",
     "text": [
      "\n",
      "\tLjung-Box test\n",
      "\n",
      "data:  Residuals from ARIMA(2,1,3)\n",
      "Q* = 6.9168, df = 3, p-value = 0.0746\n",
      "\n",
      "Model df: 5.   Total lags used: 8\n",
      "\n"
     ]
    },
    {
     "data": {
      "image/png": "[encoded data removed]",
      "text/plain": [
       "plot without title"
      ]
     },
     "metadata": {
      "image/png": {
       "height": 420,
       "width": 420
      }
     },
     "output_type": "display_data"
    }
   ],
   "source": [
    "# 잔차검정\n",
    "checkresiduals(arima212)\n",
    "checkresiduals(arima213)\n",
    "\n",
    "# 둘이 비슷함 => 대소비교 불가..."
   ]
  },
  {
   "cell_type": "code",
   "execution_count": 17,
   "metadata": {},
   "outputs": [
    {
     "data": {
      "text/html": [
       "<table>\n",
       "<caption>A matrix: 2 × 8 of type dbl</caption>\n",
       "<thead>\n",
       "\t<tr><th></th><th scope=col>ME</th><th scope=col>RMSE</th><th scope=col>MAE</th><th scope=col>MPE</th><th scope=col>MAPE</th><th scope=col>MASE</th><th scope=col>ACF1</th><th scope=col>Theil's U</th></tr>\n",
       "</thead>\n",
       "<tbody>\n",
       "\t<tr><th scope=row>Training set</th><td> 0.1560323</td><td>2.512888</td><td>1.900782</td><td> 0.1111469</td><td>2.614180</td><td>0.7247977</td><td>-0.2094847</td><td>       NA</td></tr>\n",
       "\t<tr><th scope=row>Test set</th><td>-0.7295642</td><td>2.071070</td><td>1.493424</td><td>-0.9542686</td><td>1.837561</td><td>0.5694658</td><td>-0.1719085</td><td>0.4780443</td></tr>\n",
       "</tbody>\n",
       "</table>\n"
      ],
      "text/latex": [
       "A matrix: 2 × 8 of type dbl\n",
       "\\begin{tabular}{r|llllllll}\n",
       "  & ME & RMSE & MAE & MPE & MAPE & MASE & ACF1 & Theil's U\\\\\n",
       "\\hline\n",
       "\tTraining set &  0.1560323 & 2.512888 & 1.900782 &  0.1111469 & 2.614180 & 0.7247977 & -0.2094847 &        NA\\\\\n",
       "\tTest set & -0.7295642 & 2.071070 & 1.493424 & -0.9542686 & 1.837561 & 0.5694658 & -0.1719085 & 0.4780443\\\\\n",
       "\\end{tabular}\n"
      ],
      "text/markdown": [
       "\n",
       "A matrix: 2 × 8 of type dbl\n",
       "\n",
       "| <!--/--> | ME | RMSE | MAE | MPE | MAPE | MASE | ACF1 | Theil's U |\n",
       "|---|---|---|---|---|---|---|---|---|\n",
       "| Training set |  0.1560323 | 2.512888 | 1.900782 |  0.1111469 | 2.614180 | 0.7247977 | -0.2094847 |        NA |\n",
       "| Test set | -0.7295642 | 2.071070 | 1.493424 | -0.9542686 | 1.837561 | 0.5694658 | -0.1719085 | 0.4780443 |\n",
       "\n"
      ],
      "text/plain": [
       "             ME         RMSE     MAE      MPE        MAPE     MASE     \n",
       "Training set  0.1560323 2.512888 1.900782  0.1111469 2.614180 0.7247977\n",
       "Test set     -0.7295642 2.071070 1.493424 -0.9542686 1.837561 0.5694658\n",
       "             ACF1       Theil's U\n",
       "Training set -0.2094847        NA\n",
       "Test set     -0.1719085 0.4780443"
      ]
     },
     "metadata": {},
     "output_type": "display_data"
    },
    {
     "data": {
      "text/html": [
       "<table>\n",
       "<caption>A matrix: 2 × 8 of type dbl</caption>\n",
       "<thead>\n",
       "\t<tr><th></th><th scope=col>ME</th><th scope=col>RMSE</th><th scope=col>MAE</th><th scope=col>MPE</th><th scope=col>MAPE</th><th scope=col>MASE</th><th scope=col>ACF1</th><th scope=col>Theil's U</th></tr>\n",
       "</thead>\n",
       "<tbody>\n",
       "\t<tr><th scope=row>Training set</th><td> 0.1914713</td><td>2.458469</td><td>1.871488</td><td> 0.1490633</td><td>2.581668</td><td>0.7136273</td><td>-0.04104724</td><td>       NA</td></tr>\n",
       "\t<tr><th scope=row>Test set</th><td>-0.4603586</td><td>1.966729</td><td>1.405476</td><td>-0.6276517</td><td>1.724984</td><td>0.5359299</td><td>-0.17964426</td><td>0.4569025</td></tr>\n",
       "</tbody>\n",
       "</table>\n"
      ],
      "text/latex": [
       "A matrix: 2 × 8 of type dbl\n",
       "\\begin{tabular}{r|llllllll}\n",
       "  & ME & RMSE & MAE & MPE & MAPE & MASE & ACF1 & Theil's U\\\\\n",
       "\\hline\n",
       "\tTraining set &  0.1914713 & 2.458469 & 1.871488 &  0.1490633 & 2.581668 & 0.7136273 & -0.04104724 &        NA\\\\\n",
       "\tTest set & -0.4603586 & 1.966729 & 1.405476 & -0.6276517 & 1.724984 & 0.5359299 & -0.17964426 & 0.4569025\\\\\n",
       "\\end{tabular}\n"
      ],
      "text/markdown": [
       "\n",
       "A matrix: 2 × 8 of type dbl\n",
       "\n",
       "| <!--/--> | ME | RMSE | MAE | MPE | MAPE | MASE | ACF1 | Theil's U |\n",
       "|---|---|---|---|---|---|---|---|---|\n",
       "| Training set |  0.1914713 | 2.458469 | 1.871488 |  0.1490633 | 2.581668 | 0.7136273 | -0.04104724 |        NA |\n",
       "| Test set | -0.4603586 | 1.966729 | 1.405476 | -0.6276517 | 1.724984 | 0.5359299 | -0.17964426 | 0.4569025 |\n",
       "\n"
      ],
      "text/plain": [
       "             ME         RMSE     MAE      MPE        MAPE     MASE     \n",
       "Training set  0.1914713 2.458469 1.871488  0.1490633 2.581668 0.7136273\n",
       "Test set     -0.4603586 1.966729 1.405476 -0.6276517 1.724984 0.5359299\n",
       "             ACF1        Theil's U\n",
       "Training set -0.04104724        NA\n",
       "Test set     -0.17964426 0.4569025"
      ]
     },
     "metadata": {},
     "output_type": "display_data"
    }
   ],
   "source": [
    "# 그렇다면 이제 예측값과 실제값의 RMSE값을 비교해보면서 최종 선정모델을 채택하자\n",
    "for_arima212<-forecast(arima212, h=10)\n",
    "for_arima213<-forecast(arima213, h=10)\n",
    "accuracy(for_arima212, test)\n",
    "accuracy(for_arima213, test)"
   ]
  },
  {
   "cell_type": "code",
   "execution_count": 19,
   "metadata": {},
   "outputs": [
    {
     "data": {
      "text/html": [
       "<table>\n",
       "<caption>A matrix: 2 × 8 of type dbl</caption>\n",
       "<thead>\n",
       "\t<tr><th></th><th scope=col>ME</th><th scope=col>RMSE</th><th scope=col>MAE</th><th scope=col>MPE</th><th scope=col>MAPE</th><th scope=col>MASE</th><th scope=col>ACF1</th><th scope=col>Theil's U</th></tr>\n",
       "</thead>\n",
       "<tbody>\n",
       "\t<tr><th scope=row>Training set</th><td>0.9366905</td><td>3.714975</td><td>2.6225</td><td> 1.08777986</td><td>3.601236</td><td>1.0000000</td><td> 0.4174325</td><td>       NA</td></tr>\n",
       "\t<tr><th scope=row>Test set</th><td>0.0336000</td><td>2.195771</td><td>1.5982</td><td>-0.03035434</td><td>1.952805</td><td>0.6094185</td><td>-0.3044958</td><td>0.5130643</td></tr>\n",
       "</tbody>\n",
       "</table>\n"
      ],
      "text/latex": [
       "A matrix: 2 × 8 of type dbl\n",
       "\\begin{tabular}{r|llllllll}\n",
       "  & ME & RMSE & MAE & MPE & MAPE & MASE & ACF1 & Theil's U\\\\\n",
       "\\hline\n",
       "\tTraining set & 0.9366905 & 3.714975 & 2.6225 &  1.08777986 & 3.601236 & 1.0000000 &  0.4174325 &        NA\\\\\n",
       "\tTest set & 0.0336000 & 2.195771 & 1.5982 & -0.03035434 & 1.952805 & 0.6094185 & -0.3044958 & 0.5130643\\\\\n",
       "\\end{tabular}\n"
      ],
      "text/markdown": [
       "\n",
       "A matrix: 2 × 8 of type dbl\n",
       "\n",
       "| <!--/--> | ME | RMSE | MAE | MPE | MAPE | MASE | ACF1 | Theil's U |\n",
       "|---|---|---|---|---|---|---|---|---|\n",
       "| Training set | 0.9366905 | 3.714975 | 2.6225 |  1.08777986 | 3.601236 | 1.0000000 |  0.4174325 |        NA |\n",
       "| Test set | 0.0336000 | 2.195771 | 1.5982 | -0.03035434 | 1.952805 | 0.6094185 | -0.3044958 | 0.5130643 |\n",
       "\n"
      ],
      "text/plain": [
       "             ME        RMSE     MAE    MPE         MAPE     MASE     \n",
       "Training set 0.9366905 3.714975 2.6225  1.08777986 3.601236 1.0000000\n",
       "Test set     0.0336000 2.195771 1.5982 -0.03035434 1.952805 0.6094185\n",
       "             ACF1       Theil's U\n",
       "Training set  0.4174325        NA\n",
       "Test set     -0.3044958 0.5130643"
      ]
     },
     "metadata": {},
     "output_type": "display_data"
    }
   ],
   "source": [
    "for_snaive<-snaive(train, h=10)\n",
    "accuracy(for_snaive, test)"
   ]
  },
  {
   "cell_type": "code",
   "execution_count": 25,
   "metadata": {},
   "outputs": [
    {
     "data": {
      "image/png": "[encoded data removed]",
      "text/plain": [
       "plot without title"
      ]
     },
     "metadata": {
      "image/png": {
       "height": 420,
       "width": 420
      }
     },
     "output_type": "display_data"
    }
   ],
   "source": [
    "plot(quarter_births)\n",
    "lines(for_arima212$fitted, col='red')\n",
    "lines(for_arima213$fitted, col='blue')\n",
    "lines(for_snaive$fitted, col='green')"
   ]
  },
  {
   "cell_type": "code",
   "execution_count": 26,
   "metadata": {},
   "outputs": [
    {
     "data": {
      "image/png": "[encoded data removed]",
      "text/plain": [
       "plot without title"
      ]
     },
     "metadata": {
      "image/png": {
       "height": 420,
       "width": 420
      }
     },
     "output_type": "display_data"
    }
   ],
   "source": [
    "plot(quarter_births)\n",
    "lines(for_arima212$mean, col='red')\n",
    "lines(for_arima213$mean, col='blue')\n",
    "lines(for_snaive$mean, col='green')"
   ]
  },
  {
   "cell_type": "markdown",
   "metadata": {},
   "source": [
    "# naive, meanf 방법과 비교해보기!"
   ]
  },
  {
   "cell_type": "code",
   "execution_count": null,
   "metadata": {},
   "outputs": [],
   "source": []
  }
 ],
 "metadata": {
  "kernelspec": {
   "display_name": "R",
   "language": "R",
   "name": "ir"
  },
  "language_info": {
   "codemirror_mode": "r",
   "file_extension": ".r",
   "mimetype": "text/x-r-source",
   "name": "R",
   "pygments_lexer": "r",
   "version": "3.6.3"
  }
 },
 "nbformat": 4,
 "nbformat_minor": 4
}
